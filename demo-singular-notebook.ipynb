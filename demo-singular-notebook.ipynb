{
 "cells": [
  {
   "cell_type": "markdown",
   "id": "39e819f2",
   "metadata": {},
   "source": [
    "# Gender Ambiguity Detector\n",
    "\n",
    "Codebase: https://github.com/sattree/gap"
   ]
  },
  {
   "cell_type": "code",
   "execution_count": 28,
   "id": "a55f52b4",
   "metadata": {},
   "outputs": [],
   "source": [
    "import pandas as pd\n",
    "import torch\n",
    "import os\n",
    "from pathlib import Path\n",
    "import re"
   ]
  },
  {
   "cell_type": "code",
   "execution_count": 29,
   "id": "5eb23892",
   "metadata": {},
   "outputs": [],
   "source": [
    "model_version = 'probert'\n",
    "annotate_coref_mentions = pretrained_proref = False\n",
    "coref_models = []\n",
    "sanitize_labels = True\n",
    "preprocess_eval = True\n",
    "exp_dir = Path('results/probert')\n",
    "coref_models_ = []\n",
    "\n",
    "n_gpu = torch.cuda.device_count()\n",
    "n_samples = 0"
   ]
  },
  {
   "cell_type": "code",
   "execution_count": 30,
   "id": "8ea7b017",
   "metadata": {},
   "outputs": [
    {
     "name": "stdout",
     "output_type": "stream",
     "text": [
      "Preparing Model.\n"
     ]
    },
    {
     "data": {
      "text/plain": [
       "ProBERT(\n",
       "  (bert): BertModel(\n",
       "    (embeddings): BertEmbeddings(\n",
       "      (word_embeddings): Embedding(30522, 1024, padding_idx=0)\n",
       "      (position_embeddings): Embedding(512, 1024)\n",
       "      (token_type_embeddings): Embedding(2, 1024)\n",
       "      (LayerNorm): BertLayerNorm()\n",
       "      (dropout): Dropout(p=0.1, inplace=False)\n",
       "    )\n",
       "    (encoder): BertEncoder(\n",
       "      (layer): ModuleList(\n",
       "        (0): BertLayer(\n",
       "          (attention): BertAttention(\n",
       "            (self): BertSelfAttention(\n",
       "              (query): Linear(in_features=1024, out_features=1024, bias=True)\n",
       "              (key): Linear(in_features=1024, out_features=1024, bias=True)\n",
       "              (value): Linear(in_features=1024, out_features=1024, bias=True)\n",
       "              (dropout): Dropout(p=0.1, inplace=False)\n",
       "            )\n",
       "            (output): BertSelfOutput(\n",
       "              (dense): Linear(in_features=1024, out_features=1024, bias=True)\n",
       "              (LayerNorm): BertLayerNorm()\n",
       "              (dropout): Dropout(p=0.1, inplace=False)\n",
       "            )\n",
       "          )\n",
       "          (intermediate): BertIntermediate(\n",
       "            (dense): Linear(in_features=1024, out_features=4096, bias=True)\n",
       "          )\n",
       "          (output): BertOutput(\n",
       "            (dense): Linear(in_features=4096, out_features=1024, bias=True)\n",
       "            (LayerNorm): BertLayerNorm()\n",
       "            (dropout): Dropout(p=0.1, inplace=False)\n",
       "          )\n",
       "        )\n",
       "        (1): BertLayer(\n",
       "          (attention): BertAttention(\n",
       "            (self): BertSelfAttention(\n",
       "              (query): Linear(in_features=1024, out_features=1024, bias=True)\n",
       "              (key): Linear(in_features=1024, out_features=1024, bias=True)\n",
       "              (value): Linear(in_features=1024, out_features=1024, bias=True)\n",
       "              (dropout): Dropout(p=0.1, inplace=False)\n",
       "            )\n",
       "            (output): BertSelfOutput(\n",
       "              (dense): Linear(in_features=1024, out_features=1024, bias=True)\n",
       "              (LayerNorm): BertLayerNorm()\n",
       "              (dropout): Dropout(p=0.1, inplace=False)\n",
       "            )\n",
       "          )\n",
       "          (intermediate): BertIntermediate(\n",
       "            (dense): Linear(in_features=1024, out_features=4096, bias=True)\n",
       "          )\n",
       "          (output): BertOutput(\n",
       "            (dense): Linear(in_features=4096, out_features=1024, bias=True)\n",
       "            (LayerNorm): BertLayerNorm()\n",
       "            (dropout): Dropout(p=0.1, inplace=False)\n",
       "          )\n",
       "        )\n",
       "        (2): BertLayer(\n",
       "          (attention): BertAttention(\n",
       "            (self): BertSelfAttention(\n",
       "              (query): Linear(in_features=1024, out_features=1024, bias=True)\n",
       "              (key): Linear(in_features=1024, out_features=1024, bias=True)\n",
       "              (value): Linear(in_features=1024, out_features=1024, bias=True)\n",
       "              (dropout): Dropout(p=0.1, inplace=False)\n",
       "            )\n",
       "            (output): BertSelfOutput(\n",
       "              (dense): Linear(in_features=1024, out_features=1024, bias=True)\n",
       "              (LayerNorm): BertLayerNorm()\n",
       "              (dropout): Dropout(p=0.1, inplace=False)\n",
       "            )\n",
       "          )\n",
       "          (intermediate): BertIntermediate(\n",
       "            (dense): Linear(in_features=1024, out_features=4096, bias=True)\n",
       "          )\n",
       "          (output): BertOutput(\n",
       "            (dense): Linear(in_features=4096, out_features=1024, bias=True)\n",
       "            (LayerNorm): BertLayerNorm()\n",
       "            (dropout): Dropout(p=0.1, inplace=False)\n",
       "          )\n",
       "        )\n",
       "        (3): BertLayer(\n",
       "          (attention): BertAttention(\n",
       "            (self): BertSelfAttention(\n",
       "              (query): Linear(in_features=1024, out_features=1024, bias=True)\n",
       "              (key): Linear(in_features=1024, out_features=1024, bias=True)\n",
       "              (value): Linear(in_features=1024, out_features=1024, bias=True)\n",
       "              (dropout): Dropout(p=0.1, inplace=False)\n",
       "            )\n",
       "            (output): BertSelfOutput(\n",
       "              (dense): Linear(in_features=1024, out_features=1024, bias=True)\n",
       "              (LayerNorm): BertLayerNorm()\n",
       "              (dropout): Dropout(p=0.1, inplace=False)\n",
       "            )\n",
       "          )\n",
       "          (intermediate): BertIntermediate(\n",
       "            (dense): Linear(in_features=1024, out_features=4096, bias=True)\n",
       "          )\n",
       "          (output): BertOutput(\n",
       "            (dense): Linear(in_features=4096, out_features=1024, bias=True)\n",
       "            (LayerNorm): BertLayerNorm()\n",
       "            (dropout): Dropout(p=0.1, inplace=False)\n",
       "          )\n",
       "        )\n",
       "        (4): BertLayer(\n",
       "          (attention): BertAttention(\n",
       "            (self): BertSelfAttention(\n",
       "              (query): Linear(in_features=1024, out_features=1024, bias=True)\n",
       "              (key): Linear(in_features=1024, out_features=1024, bias=True)\n",
       "              (value): Linear(in_features=1024, out_features=1024, bias=True)\n",
       "              (dropout): Dropout(p=0.1, inplace=False)\n",
       "            )\n",
       "            (output): BertSelfOutput(\n",
       "              (dense): Linear(in_features=1024, out_features=1024, bias=True)\n",
       "              (LayerNorm): BertLayerNorm()\n",
       "              (dropout): Dropout(p=0.1, inplace=False)\n",
       "            )\n",
       "          )\n",
       "          (intermediate): BertIntermediate(\n",
       "            (dense): Linear(in_features=1024, out_features=4096, bias=True)\n",
       "          )\n",
       "          (output): BertOutput(\n",
       "            (dense): Linear(in_features=4096, out_features=1024, bias=True)\n",
       "            (LayerNorm): BertLayerNorm()\n",
       "            (dropout): Dropout(p=0.1, inplace=False)\n",
       "          )\n",
       "        )\n",
       "        (5): BertLayer(\n",
       "          (attention): BertAttention(\n",
       "            (self): BertSelfAttention(\n",
       "              (query): Linear(in_features=1024, out_features=1024, bias=True)\n",
       "              (key): Linear(in_features=1024, out_features=1024, bias=True)\n",
       "              (value): Linear(in_features=1024, out_features=1024, bias=True)\n",
       "              (dropout): Dropout(p=0.1, inplace=False)\n",
       "            )\n",
       "            (output): BertSelfOutput(\n",
       "              (dense): Linear(in_features=1024, out_features=1024, bias=True)\n",
       "              (LayerNorm): BertLayerNorm()\n",
       "              (dropout): Dropout(p=0.1, inplace=False)\n",
       "            )\n",
       "          )\n",
       "          (intermediate): BertIntermediate(\n",
       "            (dense): Linear(in_features=1024, out_features=4096, bias=True)\n",
       "          )\n",
       "          (output): BertOutput(\n",
       "            (dense): Linear(in_features=4096, out_features=1024, bias=True)\n",
       "            (LayerNorm): BertLayerNorm()\n",
       "            (dropout): Dropout(p=0.1, inplace=False)\n",
       "          )\n",
       "        )\n",
       "        (6): BertLayer(\n",
       "          (attention): BertAttention(\n",
       "            (self): BertSelfAttention(\n",
       "              (query): Linear(in_features=1024, out_features=1024, bias=True)\n",
       "              (key): Linear(in_features=1024, out_features=1024, bias=True)\n",
       "              (value): Linear(in_features=1024, out_features=1024, bias=True)\n",
       "              (dropout): Dropout(p=0.1, inplace=False)\n",
       "            )\n",
       "            (output): BertSelfOutput(\n",
       "              (dense): Linear(in_features=1024, out_features=1024, bias=True)\n",
       "              (LayerNorm): BertLayerNorm()\n",
       "              (dropout): Dropout(p=0.1, inplace=False)\n",
       "            )\n",
       "          )\n",
       "          (intermediate): BertIntermediate(\n",
       "            (dense): Linear(in_features=1024, out_features=4096, bias=True)\n",
       "          )\n",
       "          (output): BertOutput(\n",
       "            (dense): Linear(in_features=4096, out_features=1024, bias=True)\n",
       "            (LayerNorm): BertLayerNorm()\n",
       "            (dropout): Dropout(p=0.1, inplace=False)\n",
       "          )\n",
       "        )\n",
       "        (7): BertLayer(\n",
       "          (attention): BertAttention(\n",
       "            (self): BertSelfAttention(\n",
       "              (query): Linear(in_features=1024, out_features=1024, bias=True)\n",
       "              (key): Linear(in_features=1024, out_features=1024, bias=True)\n",
       "              (value): Linear(in_features=1024, out_features=1024, bias=True)\n",
       "              (dropout): Dropout(p=0.1, inplace=False)\n",
       "            )\n",
       "            (output): BertSelfOutput(\n",
       "              (dense): Linear(in_features=1024, out_features=1024, bias=True)\n",
       "              (LayerNorm): BertLayerNorm()\n",
       "              (dropout): Dropout(p=0.1, inplace=False)\n",
       "            )\n",
       "          )\n",
       "          (intermediate): BertIntermediate(\n",
       "            (dense): Linear(in_features=1024, out_features=4096, bias=True)\n",
       "          )\n",
       "          (output): BertOutput(\n",
       "            (dense): Linear(in_features=4096, out_features=1024, bias=True)\n",
       "            (LayerNorm): BertLayerNorm()\n",
       "            (dropout): Dropout(p=0.1, inplace=False)\n",
       "          )\n",
       "        )\n",
       "        (8): BertLayer(\n",
       "          (attention): BertAttention(\n",
       "            (self): BertSelfAttention(\n",
       "              (query): Linear(in_features=1024, out_features=1024, bias=True)\n",
       "              (key): Linear(in_features=1024, out_features=1024, bias=True)\n",
       "              (value): Linear(in_features=1024, out_features=1024, bias=True)\n",
       "              (dropout): Dropout(p=0.1, inplace=False)\n",
       "            )\n",
       "            (output): BertSelfOutput(\n",
       "              (dense): Linear(in_features=1024, out_features=1024, bias=True)\n",
       "              (LayerNorm): BertLayerNorm()\n",
       "              (dropout): Dropout(p=0.1, inplace=False)\n",
       "            )\n",
       "          )\n",
       "          (intermediate): BertIntermediate(\n",
       "            (dense): Linear(in_features=1024, out_features=4096, bias=True)\n",
       "          )\n",
       "          (output): BertOutput(\n",
       "            (dense): Linear(in_features=4096, out_features=1024, bias=True)\n",
       "            (LayerNorm): BertLayerNorm()\n",
       "            (dropout): Dropout(p=0.1, inplace=False)\n",
       "          )\n",
       "        )\n",
       "        (9): BertLayer(\n",
       "          (attention): BertAttention(\n",
       "            (self): BertSelfAttention(\n",
       "              (query): Linear(in_features=1024, out_features=1024, bias=True)\n",
       "              (key): Linear(in_features=1024, out_features=1024, bias=True)\n",
       "              (value): Linear(in_features=1024, out_features=1024, bias=True)\n",
       "              (dropout): Dropout(p=0.1, inplace=False)\n",
       "            )\n",
       "            (output): BertSelfOutput(\n",
       "              (dense): Linear(in_features=1024, out_features=1024, bias=True)\n",
       "              (LayerNorm): BertLayerNorm()\n",
       "              (dropout): Dropout(p=0.1, inplace=False)\n",
       "            )\n",
       "          )\n",
       "          (intermediate): BertIntermediate(\n",
       "            (dense): Linear(in_features=1024, out_features=4096, bias=True)\n",
       "          )\n",
       "          (output): BertOutput(\n",
       "            (dense): Linear(in_features=4096, out_features=1024, bias=True)\n",
       "            (LayerNorm): BertLayerNorm()\n",
       "            (dropout): Dropout(p=0.1, inplace=False)\n",
       "          )\n",
       "        )\n",
       "        (10): BertLayer(\n",
       "          (attention): BertAttention(\n",
       "            (self): BertSelfAttention(\n",
       "              (query): Linear(in_features=1024, out_features=1024, bias=True)\n",
       "              (key): Linear(in_features=1024, out_features=1024, bias=True)\n",
       "              (value): Linear(in_features=1024, out_features=1024, bias=True)\n",
       "              (dropout): Dropout(p=0.1, inplace=False)\n",
       "            )\n",
       "            (output): BertSelfOutput(\n",
       "              (dense): Linear(in_features=1024, out_features=1024, bias=True)\n",
       "              (LayerNorm): BertLayerNorm()\n",
       "              (dropout): Dropout(p=0.1, inplace=False)\n",
       "            )\n",
       "          )\n",
       "          (intermediate): BertIntermediate(\n",
       "            (dense): Linear(in_features=1024, out_features=4096, bias=True)\n",
       "          )\n",
       "          (output): BertOutput(\n",
       "            (dense): Linear(in_features=4096, out_features=1024, bias=True)\n",
       "            (LayerNorm): BertLayerNorm()\n",
       "            (dropout): Dropout(p=0.1, inplace=False)\n",
       "          )\n",
       "        )\n",
       "        (11): BertLayer(\n",
       "          (attention): BertAttention(\n",
       "            (self): BertSelfAttention(\n",
       "              (query): Linear(in_features=1024, out_features=1024, bias=True)\n",
       "              (key): Linear(in_features=1024, out_features=1024, bias=True)\n",
       "              (value): Linear(in_features=1024, out_features=1024, bias=True)\n",
       "              (dropout): Dropout(p=0.1, inplace=False)\n",
       "            )\n",
       "            (output): BertSelfOutput(\n",
       "              (dense): Linear(in_features=1024, out_features=1024, bias=True)\n",
       "              (LayerNorm): BertLayerNorm()\n",
       "              (dropout): Dropout(p=0.1, inplace=False)\n",
       "            )\n",
       "          )\n",
       "          (intermediate): BertIntermediate(\n",
       "            (dense): Linear(in_features=1024, out_features=4096, bias=True)\n",
       "          )\n",
       "          (output): BertOutput(\n",
       "            (dense): Linear(in_features=4096, out_features=1024, bias=True)\n",
       "            (LayerNorm): BertLayerNorm()\n",
       "            (dropout): Dropout(p=0.1, inplace=False)\n",
       "          )\n",
       "        )\n",
       "        (12): BertLayer(\n",
       "          (attention): BertAttention(\n",
       "            (self): BertSelfAttention(\n",
       "              (query): Linear(in_features=1024, out_features=1024, bias=True)\n",
       "              (key): Linear(in_features=1024, out_features=1024, bias=True)\n",
       "              (value): Linear(in_features=1024, out_features=1024, bias=True)\n",
       "              (dropout): Dropout(p=0.1, inplace=False)\n",
       "            )\n",
       "            (output): BertSelfOutput(\n",
       "              (dense): Linear(in_features=1024, out_features=1024, bias=True)\n",
       "              (LayerNorm): BertLayerNorm()\n",
       "              (dropout): Dropout(p=0.1, inplace=False)\n",
       "            )\n",
       "          )\n",
       "          (intermediate): BertIntermediate(\n",
       "            (dense): Linear(in_features=1024, out_features=4096, bias=True)\n",
       "          )\n",
       "          (output): BertOutput(\n",
       "            (dense): Linear(in_features=4096, out_features=1024, bias=True)\n",
       "            (LayerNorm): BertLayerNorm()\n",
       "            (dropout): Dropout(p=0.1, inplace=False)\n",
       "          )\n",
       "        )\n",
       "        (13): BertLayer(\n",
       "          (attention): BertAttention(\n",
       "            (self): BertSelfAttention(\n",
       "              (query): Linear(in_features=1024, out_features=1024, bias=True)\n",
       "              (key): Linear(in_features=1024, out_features=1024, bias=True)\n",
       "              (value): Linear(in_features=1024, out_features=1024, bias=True)\n",
       "              (dropout): Dropout(p=0.1, inplace=False)\n",
       "            )\n",
       "            (output): BertSelfOutput(\n",
       "              (dense): Linear(in_features=1024, out_features=1024, bias=True)\n",
       "              (LayerNorm): BertLayerNorm()\n",
       "              (dropout): Dropout(p=0.1, inplace=False)\n",
       "            )\n",
       "          )\n",
       "          (intermediate): BertIntermediate(\n",
       "            (dense): Linear(in_features=1024, out_features=4096, bias=True)\n",
       "          )\n",
       "          (output): BertOutput(\n",
       "            (dense): Linear(in_features=4096, out_features=1024, bias=True)\n",
       "            (LayerNorm): BertLayerNorm()\n",
       "            (dropout): Dropout(p=0.1, inplace=False)\n",
       "          )\n",
       "        )\n",
       "        (14): BertLayer(\n",
       "          (attention): BertAttention(\n",
       "            (self): BertSelfAttention(\n",
       "              (query): Linear(in_features=1024, out_features=1024, bias=True)\n",
       "              (key): Linear(in_features=1024, out_features=1024, bias=True)\n",
       "              (value): Linear(in_features=1024, out_features=1024, bias=True)\n",
       "              (dropout): Dropout(p=0.1, inplace=False)\n",
       "            )\n",
       "            (output): BertSelfOutput(\n",
       "              (dense): Linear(in_features=1024, out_features=1024, bias=True)\n",
       "              (LayerNorm): BertLayerNorm()\n",
       "              (dropout): Dropout(p=0.1, inplace=False)\n",
       "            )\n",
       "          )\n",
       "          (intermediate): BertIntermediate(\n",
       "            (dense): Linear(in_features=1024, out_features=4096, bias=True)\n",
       "          )\n",
       "          (output): BertOutput(\n",
       "            (dense): Linear(in_features=4096, out_features=1024, bias=True)\n",
       "            (LayerNorm): BertLayerNorm()\n",
       "            (dropout): Dropout(p=0.1, inplace=False)\n",
       "          )\n",
       "        )\n",
       "        (15): BertLayer(\n",
       "          (attention): BertAttention(\n",
       "            (self): BertSelfAttention(\n",
       "              (query): Linear(in_features=1024, out_features=1024, bias=True)\n",
       "              (key): Linear(in_features=1024, out_features=1024, bias=True)\n",
       "              (value): Linear(in_features=1024, out_features=1024, bias=True)\n",
       "              (dropout): Dropout(p=0.1, inplace=False)\n",
       "            )\n",
       "            (output): BertSelfOutput(\n",
       "              (dense): Linear(in_features=1024, out_features=1024, bias=True)\n",
       "              (LayerNorm): BertLayerNorm()\n",
       "              (dropout): Dropout(p=0.1, inplace=False)\n",
       "            )\n",
       "          )\n",
       "          (intermediate): BertIntermediate(\n",
       "            (dense): Linear(in_features=1024, out_features=4096, bias=True)\n",
       "          )\n",
       "          (output): BertOutput(\n",
       "            (dense): Linear(in_features=4096, out_features=1024, bias=True)\n",
       "            (LayerNorm): BertLayerNorm()\n",
       "            (dropout): Dropout(p=0.1, inplace=False)\n",
       "          )\n",
       "        )\n",
       "        (16): BertLayer(\n",
       "          (attention): BertAttention(\n",
       "            (self): BertSelfAttention(\n",
       "              (query): Linear(in_features=1024, out_features=1024, bias=True)\n",
       "              (key): Linear(in_features=1024, out_features=1024, bias=True)\n",
       "              (value): Linear(in_features=1024, out_features=1024, bias=True)\n",
       "              (dropout): Dropout(p=0.1, inplace=False)\n",
       "            )\n",
       "            (output): BertSelfOutput(\n",
       "              (dense): Linear(in_features=1024, out_features=1024, bias=True)\n",
       "              (LayerNorm): BertLayerNorm()\n",
       "              (dropout): Dropout(p=0.1, inplace=False)\n",
       "            )\n",
       "          )\n",
       "          (intermediate): BertIntermediate(\n",
       "            (dense): Linear(in_features=1024, out_features=4096, bias=True)\n",
       "          )\n",
       "          (output): BertOutput(\n",
       "            (dense): Linear(in_features=4096, out_features=1024, bias=True)\n",
       "            (LayerNorm): BertLayerNorm()\n",
       "            (dropout): Dropout(p=0.1, inplace=False)\n",
       "          )\n",
       "        )\n",
       "        (17): BertLayer(\n",
       "          (attention): BertAttention(\n",
       "            (self): BertSelfAttention(\n",
       "              (query): Linear(in_features=1024, out_features=1024, bias=True)\n",
       "              (key): Linear(in_features=1024, out_features=1024, bias=True)\n",
       "              (value): Linear(in_features=1024, out_features=1024, bias=True)\n",
       "              (dropout): Dropout(p=0.1, inplace=False)\n",
       "            )\n",
       "            (output): BertSelfOutput(\n",
       "              (dense): Linear(in_features=1024, out_features=1024, bias=True)\n",
       "              (LayerNorm): BertLayerNorm()\n",
       "              (dropout): Dropout(p=0.1, inplace=False)\n",
       "            )\n",
       "          )\n",
       "          (intermediate): BertIntermediate(\n",
       "            (dense): Linear(in_features=1024, out_features=4096, bias=True)\n",
       "          )\n",
       "          (output): BertOutput(\n",
       "            (dense): Linear(in_features=4096, out_features=1024, bias=True)\n",
       "            (LayerNorm): BertLayerNorm()\n",
       "            (dropout): Dropout(p=0.1, inplace=False)\n",
       "          )\n",
       "        )\n",
       "        (18): BertLayer(\n",
       "          (attention): BertAttention(\n",
       "            (self): BertSelfAttention(\n",
       "              (query): Linear(in_features=1024, out_features=1024, bias=True)\n",
       "              (key): Linear(in_features=1024, out_features=1024, bias=True)\n",
       "              (value): Linear(in_features=1024, out_features=1024, bias=True)\n",
       "              (dropout): Dropout(p=0.1, inplace=False)\n",
       "            )\n",
       "            (output): BertSelfOutput(\n",
       "              (dense): Linear(in_features=1024, out_features=1024, bias=True)\n",
       "              (LayerNorm): BertLayerNorm()\n",
       "              (dropout): Dropout(p=0.1, inplace=False)\n",
       "            )\n",
       "          )\n",
       "          (intermediate): BertIntermediate(\n",
       "            (dense): Linear(in_features=1024, out_features=4096, bias=True)\n",
       "          )\n",
       "          (output): BertOutput(\n",
       "            (dense): Linear(in_features=4096, out_features=1024, bias=True)\n",
       "            (LayerNorm): BertLayerNorm()\n",
       "            (dropout): Dropout(p=0.1, inplace=False)\n",
       "          )\n",
       "        )\n",
       "        (19): BertLayer(\n",
       "          (attention): BertAttention(\n",
       "            (self): BertSelfAttention(\n",
       "              (query): Linear(in_features=1024, out_features=1024, bias=True)\n",
       "              (key): Linear(in_features=1024, out_features=1024, bias=True)\n",
       "              (value): Linear(in_features=1024, out_features=1024, bias=True)\n",
       "              (dropout): Dropout(p=0.1, inplace=False)\n",
       "            )\n",
       "            (output): BertSelfOutput(\n",
       "              (dense): Linear(in_features=1024, out_features=1024, bias=True)\n",
       "              (LayerNorm): BertLayerNorm()\n",
       "              (dropout): Dropout(p=0.1, inplace=False)\n",
       "            )\n",
       "          )\n",
       "          (intermediate): BertIntermediate(\n",
       "            (dense): Linear(in_features=1024, out_features=4096, bias=True)\n",
       "          )\n",
       "          (output): BertOutput(\n",
       "            (dense): Linear(in_features=4096, out_features=1024, bias=True)\n",
       "            (LayerNorm): BertLayerNorm()\n",
       "            (dropout): Dropout(p=0.1, inplace=False)\n",
       "          )\n",
       "        )\n",
       "        (20): BertLayer(\n",
       "          (attention): BertAttention(\n",
       "            (self): BertSelfAttention(\n",
       "              (query): Linear(in_features=1024, out_features=1024, bias=True)\n",
       "              (key): Linear(in_features=1024, out_features=1024, bias=True)\n",
       "              (value): Linear(in_features=1024, out_features=1024, bias=True)\n",
       "              (dropout): Dropout(p=0.1, inplace=False)\n",
       "            )\n",
       "            (output): BertSelfOutput(\n",
       "              (dense): Linear(in_features=1024, out_features=1024, bias=True)\n",
       "              (LayerNorm): BertLayerNorm()\n",
       "              (dropout): Dropout(p=0.1, inplace=False)\n",
       "            )\n",
       "          )\n",
       "          (intermediate): BertIntermediate(\n",
       "            (dense): Linear(in_features=1024, out_features=4096, bias=True)\n",
       "          )\n",
       "          (output): BertOutput(\n",
       "            (dense): Linear(in_features=4096, out_features=1024, bias=True)\n",
       "            (LayerNorm): BertLayerNorm()\n",
       "            (dropout): Dropout(p=0.1, inplace=False)\n",
       "          )\n",
       "        )\n",
       "        (21): BertLayer(\n",
       "          (attention): BertAttention(\n",
       "            (self): BertSelfAttention(\n",
       "              (query): Linear(in_features=1024, out_features=1024, bias=True)\n",
       "              (key): Linear(in_features=1024, out_features=1024, bias=True)\n",
       "              (value): Linear(in_features=1024, out_features=1024, bias=True)\n",
       "              (dropout): Dropout(p=0.1, inplace=False)\n",
       "            )\n",
       "            (output): BertSelfOutput(\n",
       "              (dense): Linear(in_features=1024, out_features=1024, bias=True)\n",
       "              (LayerNorm): BertLayerNorm()\n",
       "              (dropout): Dropout(p=0.1, inplace=False)\n",
       "            )\n",
       "          )\n",
       "          (intermediate): BertIntermediate(\n",
       "            (dense): Linear(in_features=1024, out_features=4096, bias=True)\n",
       "          )\n",
       "          (output): BertOutput(\n",
       "            (dense): Linear(in_features=4096, out_features=1024, bias=True)\n",
       "            (LayerNorm): BertLayerNorm()\n",
       "            (dropout): Dropout(p=0.1, inplace=False)\n",
       "          )\n",
       "        )\n",
       "        (22): BertLayer(\n",
       "          (attention): BertAttention(\n",
       "            (self): BertSelfAttention(\n",
       "              (query): Linear(in_features=1024, out_features=1024, bias=True)\n",
       "              (key): Linear(in_features=1024, out_features=1024, bias=True)\n",
       "              (value): Linear(in_features=1024, out_features=1024, bias=True)\n",
       "              (dropout): Dropout(p=0.1, inplace=False)\n",
       "            )\n",
       "            (output): BertSelfOutput(\n",
       "              (dense): Linear(in_features=1024, out_features=1024, bias=True)\n",
       "              (LayerNorm): BertLayerNorm()\n",
       "              (dropout): Dropout(p=0.1, inplace=False)\n",
       "            )\n",
       "          )\n",
       "          (intermediate): BertIntermediate(\n",
       "            (dense): Linear(in_features=1024, out_features=4096, bias=True)\n",
       "          )\n",
       "          (output): BertOutput(\n",
       "            (dense): Linear(in_features=4096, out_features=1024, bias=True)\n",
       "            (LayerNorm): BertLayerNorm()\n",
       "            (dropout): Dropout(p=0.1, inplace=False)\n",
       "          )\n",
       "        )\n",
       "        (23): BertLayer(\n",
       "          (attention): BertAttention(\n",
       "            (self): BertSelfAttention(\n",
       "              (query): Linear(in_features=1024, out_features=1024, bias=True)\n",
       "              (key): Linear(in_features=1024, out_features=1024, bias=True)\n",
       "              (value): Linear(in_features=1024, out_features=1024, bias=True)\n",
       "              (dropout): Dropout(p=0.1, inplace=False)\n",
       "            )\n",
       "            (output): BertSelfOutput(\n",
       "              (dense): Linear(in_features=1024, out_features=1024, bias=True)\n",
       "              (LayerNorm): BertLayerNorm()\n",
       "              (dropout): Dropout(p=0.1, inplace=False)\n",
       "            )\n",
       "          )\n",
       "          (intermediate): BertIntermediate(\n",
       "            (dense): Linear(in_features=1024, out_features=4096, bias=True)\n",
       "          )\n",
       "          (output): BertOutput(\n",
       "            (dense): Linear(in_features=4096, out_features=1024, bias=True)\n",
       "            (LayerNorm): BertLayerNorm()\n",
       "            (dropout): Dropout(p=0.1, inplace=False)\n",
       "          )\n",
       "        )\n",
       "      )\n",
       "    )\n",
       "    (pooler): BertPooler(\n",
       "      (dense): Linear(in_features=1024, out_features=1024, bias=True)\n",
       "      (activation): Tanh()\n",
       "    )\n",
       "  )\n",
       "  (pooler): BertPooler(\n",
       "    (dense): Linear(in_features=1024, out_features=1024, bias=True)\n",
       "    (activation): Tanh()\n",
       "  )\n",
       "  (dropout): Dropout(p=0.1, inplace=False)\n",
       "  (classifier): Linear(in_features=1024, out_features=2, bias=True)\n",
       ")"
      ]
     },
     "execution_count": 30,
     "metadata": {},
     "output_type": "execute_result"
    }
   ],
   "source": [
    "# Prepare model\n",
    "from models.gap.probert import ProBERT\n",
    "from models.gap.features import convert_examples_to_features\n",
    "\n",
    "from pytorch_pretrained_bert.file_utils import PYTORCH_PRETRAINED_BERT_CACHE\n",
    "from pytorch_pretrained_bert.modeling import BertConfig, WEIGHTS_NAME, CONFIG_NAME\n",
    "from transformers import BertTokenizer\n",
    "\n",
    "device = torch.device(\"cuda\" if torch.cuda.is_available() and not False else \"cpu\")\n",
    "n_gpu = torch.cuda.device_count()\n",
    "\n",
    "print('Preparing Model.')\n",
    "cache_dir = str(PYTORCH_PRETRAINED_BERT_CACHE)\n",
    "if model_version == 'probert':\n",
    "    model = ProBERT.from_pretrained(\"bert-base-uncased\",cache_dir=cache_dir,num_labels=2)\n",
    "\n",
    "model.to(device)\n",
    "\n",
    "if n_gpu > 1:\n",
    "    model = torch.nn.DataParallel(model)\n",
    "        \n",
    "# Loading the trained model and config that you have fine-tuned\n",
    "model_name = os.path.abspath(\"results/probert/train_evaluate/bert-large-uncased/probert/0/model\")\n",
    "output_model_file = os.path.join(model_name, WEIGHTS_NAME)\n",
    "output_config_file = os.path.join(model_name, CONFIG_NAME)\n",
    "config = BertConfig(output_config_file)\n",
    "\n",
    "tokenizer = BertTokenizer.from_pretrained(\"bert-large-uncased\", do_lower_case=True, \n",
    "                                          never_split=[\"[UNK]\", \"[SEP]\", \"[PAD]\", \"[CLS]\", \"[MASK]\"])\n",
    "\n",
    "if model_version == 'probert':\n",
    "    model = ProBERT(config,num_labels=2)\n",
    "\n",
    "if torch.cuda.is_available():\n",
    "    map_location=lambda storage, loc: storage.cuda()\n",
    "else:\n",
    "    map_location='cpu'\n",
    "\n",
    "model.load_state_dict(torch.load(output_model_file, map_location=map_location))\n",
    "model.to(device)\n"
   ]
  },
  {
   "cell_type": "code",
   "execution_count": 31,
   "id": "3aaac579",
   "metadata": {},
   "outputs": [],
   "source": [
    "from tqdm import tqdm\n",
    "import numpy as np\n",
    "import contextlib\n",
    "from torch.utils.data import DataLoader, SequentialSampler,TensorDataset\n",
    "from models.utils import init_data\n",
    "\n",
    "def evaluate(model,eval_features,device,eval_mode=True):\n",
    "\n",
    "    model.eval()\n",
    "\n",
    "    all_input_ids = torch.tensor([f.input_ids for f in eval_features], dtype=torch.long)\n",
    "    all_input_mask = torch.tensor([f.input_mask for f in eval_features], dtype=torch.uint8)\n",
    "    all_segment_ids = torch.tensor([f.segment_ids for f in eval_features], dtype=torch.long)\n",
    "    all_gpr_tags_mask = torch.tensor([f.gpr_tags_mask for f in eval_features], dtype=torch.uint8)\n",
    "\n",
    "    all_mention_p_ids = torch.tensor([f.mention_p_ids for f in eval_features], dtype=torch.long)\n",
    "    all_mention_a_ids = torch.tensor([f.mention_a_ids for f in eval_features], dtype=torch.long)\n",
    "    all_mention_p_mask = torch.tensor([f.mention_p_mask for f in eval_features], dtype=torch.uint8)\n",
    "    all_mention_a_mask = torch.tensor([f.mention_a_mask for f in eval_features], dtype=torch.uint8)\n",
    "\n",
    "    all_cluster_ids_a = torch.tensor([f.cluster_ids_a for f in eval_features], dtype=torch.long)\n",
    "    all_cluster_mask_a = torch.tensor([f.cluster_mask_a for f in eval_features], dtype=torch.uint8)\n",
    "    all_cluster_ids_p = torch.tensor([f.cluster_ids_p for f in eval_features], dtype=torch.long)\n",
    "    all_cluster_mask_p = torch.tensor([f.cluster_mask_p for f in eval_features], dtype=torch.uint8)\n",
    "\n",
    "    all_pretrained = torch.tensor([f.pretrained for f in eval_features], dtype=torch.float)\n",
    "    \n",
    "    all_label_ids = torch.tensor([f.label_id for f in eval_features], dtype=torch.long)\n",
    "\n",
    "    eval_data = TensorDataset(all_input_ids, \n",
    "                                all_input_mask, \n",
    "                                all_segment_ids, \n",
    "                                all_gpr_tags_mask,\n",
    "                                all_mention_p_ids,\n",
    "                                all_mention_a_ids,\n",
    "                                all_mention_p_mask,\n",
    "                                all_mention_a_mask,\n",
    "                                all_cluster_ids_a,\n",
    "                                all_cluster_mask_a,\n",
    "                                all_cluster_ids_p,\n",
    "                                all_cluster_mask_p,\n",
    "                                all_pretrained,\n",
    "                                all_label_ids)\n",
    "\n",
    "    # Run prediction for full data\n",
    "    eval_sampler = SequentialSampler(eval_data)\n",
    "    eval_dataloader = DataLoader(eval_data, \n",
    "                                sampler=eval_sampler, \n",
    "                                batch_size=1)\n",
    "\n",
    "    eval_loss = 0\n",
    "    preds = []\n",
    "    attn_wts = []\n",
    "    pbar = tqdm(desc=\"Evaluating\", total=len(eval_dataloader)) if eval_mode else contextlib.suppress()\n",
    "    with pbar:\n",
    "        for step, batch in enumerate(eval_dataloader):\n",
    "            # with torch.cuda.device(0):\n",
    "            batch = tuple(t.to(device) for t in batch)\n",
    "            (input_ids, input_mask, segment_ids, \n",
    "                gpr_tags_mask,\n",
    "                mention_p_ids, mention_a_ids,\n",
    "                mention_p_mask, mention_a_mask,\n",
    "                cluster_ids_a, cluster_mask_a,\n",
    "                cluster_ids_p, cluster_mask_p, pretrained, label_ids) = batch\n",
    "\n",
    "            with torch.no_grad():\n",
    "                res = model(input_ids,\n",
    "                            segment_ids, \n",
    "                            input_mask, \n",
    "                            gpr_tags_mask=gpr_tags_mask,\n",
    "                            mention_p_ids=mention_p_ids,\n",
    "                            mention_a_ids=mention_a_ids,\n",
    "                            mention_p_mask=mention_p_mask,\n",
    "                            mention_a_mask=mention_a_mask, \n",
    "                            cluster_ids_a=cluster_ids_a,\n",
    "                            cluster_mask_a=cluster_mask_a,\n",
    "                            cluster_ids_p=cluster_ids_p,\n",
    "                            cluster_mask_p=cluster_mask_p,\n",
    "                            pretrained=pretrained,\n",
    "                            labels=None,\n",
    "                            training=False,\n",
    "                            eval_mode=eval_mode\n",
    "                        )\n",
    "\n",
    "                if eval_mode:\n",
    "                    logits, probabilties, attn_wts_m, attn_wts_c, attn_wts_co = res\n",
    "                else:\n",
    "                    logits, probabilties = res\n",
    "\n",
    "            if len(preds) == 0:\n",
    "                preds.append(probabilties.detach().cpu().numpy())\n",
    "            else:\n",
    "                preds[0] = np.append(preds[0], probabilties.detach().cpu().numpy(), axis=0)\n",
    "\n",
    "            if eval_mode:\n",
    "                pbar.update()\n",
    "\n",
    "                if len(attn_wts) == 0:\n",
    "                    attn_wts = [attn_wts_m, attn_wts_c]\n",
    "                else:\n",
    "                    attn_wts[0] = np.append(attn_wts[0], attn_wts_m, axis=0)\n",
    "                    attn_wts[1] = np.append(attn_wts[1], attn_wts_c, axis=0)\n",
    "\n",
    "    preds = preds[0]\n",
    "    return preds, attn_wts"
   ]
  },
  {
   "cell_type": "markdown",
   "id": "7cd9b640",
   "metadata": {},
   "source": [
    "## Testing Automatic Pipeline for Using the Detector"
   ]
  },
  {
   "cell_type": "code",
   "execution_count": 32,
   "id": "a642bcf5",
   "metadata": {},
   "outputs": [],
   "source": [
    "# Raw input text\n",
    "# original_text = [\"For the U.S. Under Secretary of State, see Lucy W. Benson. Lucy Benson is a fictional character from the long-running Channel 4 soap opera Hollyoaks,\" \\\n",
    "#                  \"played by Kerrie Taylor between 1995--2000 and appeared in the shows first ever episode airing on the 23 October 1995. The character left five years later when she went travelling.\",\n",
    "#                  \"Kathleen Nott was born in Camberwell, London. Her father, Philip, was a lithographic printer, and her mother, Ellen, ran a boarding house in Brixton; Kathleen was their third daughter. \"\\\n",
    "#                     \"She was educated at Mary Datchelor Girls' School (now closed), London, before attending King's College, London.\",\n",
    "#                 ]    \n",
    "# original_text = [\n",
    "#                     \"Kathleen Nott was born in Camberwell, London. Her father, Philip, was a lithographic printer, and her mother, Ellen, ran a boarding house in Brixton; Kathleen was their third daughter. \"\\\n",
    "#                     \"She was educated at Mary Datchelor Girls' School (now closed), London, before attending King's College, London. This is where she met and married them.\",\n",
    "#                 ] \n",
    "# original_text = [\"Pat (they/them/their) was not sure how they should bring up inclusivity in the workplace.\"]"
   ]
  },
  {
   "cell_type": "code",
   "execution_count": 33,
   "id": "7e2dad6f",
   "metadata": {},
   "outputs": [],
   "source": [
    "# A list of raw input text\n",
    "original_text = [\"Pat (they/them/their) was not sure how they should bring up inclusivity in the workplace.\",\n",
    "                 \"For the U.S. Under Secretary of State, see Lucy W. Benson. Lucy Benson is a fictional character from the long-running Channel 4 soap opera Hollyoaks, \\\n",
    "                    played by Kerrie Taylor between 1995--2000 and appeared in the shows first ever episode airing on the 23 October 1995. The character left five years later when she went travelling.\",\n",
    "                \"Kathleen Nott was born in Camberwell, London. Her father, Philip, was a lithographic printer, and her mother, Ellen, ran a boarding house in Brixton; Kathleen was their third daughter. \\\n",
    "                    She was educated at Mary Datchelor Girls' School (now closed), London, before attending King's College, London.\",\n",
    "                \"This is most notable in two almost unique settings of the Symbolum Apostolorum, a Credo according to the Apostle's Creed, not according to the ordinary of the mass. \\\n",
    "                    Infantas left no conventional mass setting. Michael Noone suggests that, although it possible that Infantas may have been aware of a setting by the French composer Le Brung printed in 1540, it is equally likely that Infantas believed his settings to be unique.\",\n",
    "                \"Tilton first made contact with Dozenberg when he was still in Chicago in 1927,\\\n",
    "                    liquidating the print shop. Tilton wrote Dozenberg a letter in Latvian signed simply ``Alfred,'' asking Dozenberg to meet him in New York as soon as he relocated there. \\\n",
    "                        Tilton met with Dozenberg in a restaurant in New York City about a month later and asked Dozenberg to enter his service, without specifying the exact service in question.\"\n",
    "                ]"
   ]
  },
  {
   "cell_type": "code",
   "execution_count": 34,
   "id": "e030d4da",
   "metadata": {},
   "outputs": [],
   "source": [
    "_corenlp_url = 'http://cccxc406.pok.ibm.com:9000/'\n",
    "from pycorenlp import StanfordCoreNLP\n",
    "import json\n",
    "corenlp = StanfordCoreNLP(_corenlp_url)"
   ]
  },
  {
   "cell_type": "code",
   "execution_count": 35,
   "id": "94554e48",
   "metadata": {},
   "outputs": [
    {
     "name": "stdout",
     "output_type": "stream",
     "text": [
      "[{'Pat': [0]}, {'Lucy W. Benson': [43], 'Lucy Benson': [59], 'Kerrie Taylor': [180]}, {'Kathleen Nott': [0], 'Philip': [58], 'Ellen': [110], 'Kathleen': [0, 150]}, {'Infantas': [185, 284, 401], 'Michael Noone': [229], 'Le Brung': [349]}, {'Tilton': [0, 126, 291], 'Dozenberg': [31, 139, 202, 307, 380]}] [{'they': [5, 39], 'them': [10], 'their': [15]}, {'she': [330]}, {'Her': [46], 'her': [53, 98, 105], 'their': [163], 'She': [205]}, {'it': [267, 375], 'his': [1, 419]}, {'he': [42, 46, 111, 247, 261, 432], 'him': [220], 'his': [399]}]\n"
     ]
    }
   ],
   "source": [
    "from typing import List\n",
    "\n",
    "def is_pronoun(sentence, entity):\n",
    "    for token_dict in sentence['tokens']:\n",
    "        if token_dict['originalText'] == entity:\n",
    "            return token_dict['pos'] == 'PRP' or token_dict['pos'] == 'PRP$'\n",
    "\n",
    "# need to get combinations of every pronoun + offset with every entity + offset\n",
    "def get_combinations(entity_dict, pronoun_dict):\n",
    "    combinations = []\n",
    "    # each pronoun\n",
    "    for pronoun in pronoun_dict:\n",
    "        # offset for each pronoun\n",
    "        for pronoun_offset in pronoun_dict[pronoun]:\n",
    "            finished_entities = []\n",
    "            # each pair of entities\n",
    "            for entity1 in entity_dict:\n",
    "                # no duplicates (only want one of [[entity1 = a], [entity2 = b]])\n",
    "                if entity1 not in finished_entities:\n",
    "                    # offset for each entity\n",
    "                    for entity1_offset in entity_dict[entity1]:\n",
    "                        combinations.append([pronoun, pronoun_offset, entity1, entity1_offset])\n",
    "                finished_entities.append(entity1)\n",
    "            \n",
    "    return combinations\n",
    "\n",
    "def get_entities_and_pronouns(original_text: List[str]):\n",
    "    entity_list, pronoun_list = [], []\n",
    "    if type(original_text) != list and original_text != []:\n",
    "        raise Exception(\"Input must be a list of strings.\")\n",
    "    \n",
    "    for i in range(len(original_text)):\n",
    "        entity_dict, pronoun_dict = {}, {}\n",
    "        root = json.loads(corenlp.annotate(original_text[i], properties={'annotators': 'parse,coref,openie,ner', \"timeout\": \"50000\"}))\n",
    "\n",
    "        for sentence_idx in range(len(root['sentences'])):\n",
    "            sentence = root['sentences'][sentence_idx]\n",
    "            for idx in range(len(sentence['entitymentions'])):\n",
    "                entity = sentence['entitymentions'][idx]['ner']\n",
    "                text = sentence['entitymentions'][idx]['text']\n",
    "                if entity == 'PERSON' and not is_pronoun(sentence, text):\n",
    "                    entity_dict[text] = []\n",
    "            for token_dict in sentence['tokens']:\n",
    "                if token_dict['pos'] == 'PRP' or token_dict['pos'] == 'PRP$':\n",
    "                    pronoun_dict[token_dict['originalText']] = []\n",
    "                    # if is_pronoun(sentence, text):\n",
    "                    #     pronoun_dict[text] = []\n",
    "                    # else:\n",
    "                    #     entity_dict[text] = []\n",
    "\n",
    "        # add offset from ORIGINAL text \n",
    "        # (can't add directly from above because coref annotation adds spaces / other chars) \n",
    "        for name in entity_dict:\n",
    "            if entity_dict[name] == []:\n",
    "                entity_dict[name] = [word.start() for word in re.finditer(name, original_text[i])]\n",
    "        for name in pronoun_dict:\n",
    "            if pronoun_dict[name] == []:\n",
    "                pronoun_dict[name] = [word.start() for word in re.finditer(name, original_text[i])]\n",
    "        \n",
    "        entity_list.append(entity_dict)\n",
    "        pronoun_list.append(pronoun_dict)\n",
    "    return entity_list, pronoun_list\n",
    "\n",
    "entity_list, pronoun_list = get_entities_and_pronouns(original_text)\n",
    "print(entity_list, pronoun_list)\n",
    "# combinations = []\n",
    "# for i in range(len(entity_list)):\n",
    "#     # get all possible permutations of (entity, pronoun)\n",
    "#     combs = get_combinations(entity_list[i], pronoun_list[i])\n",
    "#     # combinations.extend(combs)\n",
    "#     print(combs)"
   ]
  },
  {
   "cell_type": "code",
   "execution_count": 36,
   "id": "04c7d2d5",
   "metadata": {},
   "outputs": [],
   "source": [
    "# combinations"
   ]
  },
  {
   "cell_type": "code",
   "execution_count": 37,
   "id": "ea0e5825",
   "metadata": {},
   "outputs": [
    {
     "data": {
      "text/html": [
       "<div>\n",
       "<style scoped>\n",
       "    .dataframe tbody tr th:only-of-type {\n",
       "        vertical-align: middle;\n",
       "    }\n",
       "\n",
       "    .dataframe tbody tr th {\n",
       "        vertical-align: top;\n",
       "    }\n",
       "\n",
       "    .dataframe thead th {\n",
       "        text-align: right;\n",
       "    }\n",
       "</style>\n",
       "<table border=\"1\" class=\"dataframe\">\n",
       "  <thead>\n",
       "    <tr style=\"text-align: right;\">\n",
       "      <th></th>\n",
       "      <th>id</th>\n",
       "      <th>text</th>\n",
       "      <th>pronoun</th>\n",
       "      <th>pronoun_offset</th>\n",
       "      <th>a</th>\n",
       "      <th>a_offset</th>\n",
       "      <th>url</th>\n",
       "    </tr>\n",
       "  </thead>\n",
       "  <tbody>\n",
       "    <tr>\n",
       "      <th>0</th>\n",
       "      <td>na</td>\n",
       "      <td>Pat (they/them/their) was not sure how they sh...</td>\n",
       "      <td>they</td>\n",
       "      <td>5</td>\n",
       "      <td>Pat</td>\n",
       "      <td>0</td>\n",
       "      <td>na</td>\n",
       "    </tr>\n",
       "  </tbody>\n",
       "</table>\n",
       "</div>"
      ],
      "text/plain": [
       "   id                                               text pronoun  \\\n",
       "0  na  Pat (they/them/their) was not sure how they sh...    they   \n",
       "\n",
       "   pronoun_offset    a  a_offset url  \n",
       "0               5  Pat         0  na  "
      ]
     },
     "metadata": {},
     "output_type": "display_data"
    },
    {
     "name": "stderr",
     "output_type": "stream",
     "text": [
      "Initializing Step InputReader\n",
      "Step InputReader initialized\n",
      "Initializing Step LabelSanitizer\n",
      "Step LabelSanitizer initialized\n",
      "Initializing Step MentionsAnnotator\n",
      "Step MentionsAnnotator initialized\n",
      "Initializing Step gather_step\n",
      "STEPPY WARNING: Step with name \"InputReader\", already exist. Make sure that all Steps have unique name.\n",
      "Step gather_step initialized\n",
      "Step gather_step, working in \"inference\" mode\n",
      "Step InputReader, working in \"inference\" mode\n",
      "Step InputReader, adapting inputs\n",
      "Step InputReader, transforming...\n",
      "Step InputReader, transforming completed\n",
      "Step InputReader, transform completed\n",
      "Step LabelSanitizer, working in \"inference\" mode\n",
      "Step LabelSanitizer, adapting inputs\n",
      "Step LabelSanitizer, transforming...\n",
      "Step LabelSanitizer, transforming completed\n",
      "Step LabelSanitizer, transform completed\n",
      "Step MentionsAnnotator, working in \"inference\" mode\n",
      "Step InputReader, working in \"inference\" mode\n",
      "Step InputReader, adapting inputs\n",
      "Step InputReader, transforming...\n",
      "Step InputReader, transforming completed\n",
      "Step InputReader, transform completed\n",
      "Step MentionsAnnotator, unpacking inputs\n",
      "Step MentionsAnnotator, transforming...\n"
     ]
    },
    {
     "name": "stdout",
     "output_type": "stream",
     "text": [
      "Transforming data to features.\n",
      "------BEFORE DATA PIPELINE------- results/probert\n",
      "Empty DataFrame\n",
      "Columns: [id, label]\n",
      "Index: []\n"
     ]
    },
    {
     "name": "stderr",
     "output_type": "stream",
     "text": [
      "Extracting coref clusters...: 100%|██████████| 1/1 [00:00<00:00, 748.45it/s]\n",
      "Step MentionsAnnotator, transforming completed\n",
      "Step MentionsAnnotator, transform completed\n",
      "Step gather_step, adapting inputs\n",
      "Step gather_step, transforming...\n",
      "Step gather_step, transforming completed\n",
      "Step gather_step, transform completed\n"
     ]
    },
    {
     "name": "stdout",
     "output_type": "stream",
     "text": [
      "Transforming data to features done.\n",
      " Log a couple of examples for sanity check.\n",
      "\n"
     ]
    },
    {
     "name": "stderr",
     "output_type": "stream",
     "text": [
      "Convert Examples to features: 1it [00:00, 377.73it/s]\n",
      "Evaluating:   0%|          | 0/1 [00:00<?, ?it/s]/dccstor/media-bias-4374/gender-ambiguity-detectors/gap/models/gap/probert.py:35: UserWarning: indexing with dtype torch.uint8 is now deprecated, please use a dtype torch.bool instead. (Triggered internally at  ../aten/src/ATen/native/IndexingUtils.h:28.)\n",
      "  sequence_output = sequence_output[~gpr_tags_mask].view(batch_size, -1, self.config.hidden_size)\n",
      "Evaluating: 100%|██████████| 1/1 [00:04<00:00,  4.33s/it]"
     ]
    },
    {
     "name": "stdout",
     "output_type": "stream",
     "text": [
      "[0.8394642  0.16053584]\n",
      "Known pronoun 'they' resolves 'True' to 'Pat' with a probability of '0.8394641876220703'\n"
     ]
    },
    {
     "name": "stderr",
     "output_type": "stream",
     "text": [
      "\n"
     ]
    },
    {
     "data": {
      "text/html": [
       "<div>\n",
       "<style scoped>\n",
       "    .dataframe tbody tr th:only-of-type {\n",
       "        vertical-align: middle;\n",
       "    }\n",
       "\n",
       "    .dataframe tbody tr th {\n",
       "        vertical-align: top;\n",
       "    }\n",
       "\n",
       "    .dataframe thead th {\n",
       "        text-align: right;\n",
       "    }\n",
       "</style>\n",
       "<table border=\"1\" class=\"dataframe\">\n",
       "  <thead>\n",
       "    <tr style=\"text-align: right;\">\n",
       "      <th></th>\n",
       "      <th>id</th>\n",
       "      <th>text</th>\n",
       "      <th>pronoun</th>\n",
       "      <th>pronoun_offset</th>\n",
       "      <th>a</th>\n",
       "      <th>a_offset</th>\n",
       "      <th>url</th>\n",
       "    </tr>\n",
       "  </thead>\n",
       "  <tbody>\n",
       "    <tr>\n",
       "      <th>0</th>\n",
       "      <td>na</td>\n",
       "      <td>Pat (they/them/their) was not sure how they sh...</td>\n",
       "      <td>they</td>\n",
       "      <td>39</td>\n",
       "      <td>Pat</td>\n",
       "      <td>0</td>\n",
       "      <td>na</td>\n",
       "    </tr>\n",
       "  </tbody>\n",
       "</table>\n",
       "</div>"
      ],
      "text/plain": [
       "   id                                               text pronoun  \\\n",
       "0  na  Pat (they/them/their) was not sure how they sh...    they   \n",
       "\n",
       "   pronoun_offset    a  a_offset url  \n",
       "0              39  Pat         0  na  "
      ]
     },
     "metadata": {},
     "output_type": "display_data"
    },
    {
     "name": "stderr",
     "output_type": "stream",
     "text": [
      "Initializing Step InputReader\n",
      "Step InputReader initialized\n",
      "Initializing Step LabelSanitizer\n",
      "Step LabelSanitizer initialized\n",
      "Initializing Step MentionsAnnotator\n",
      "Step MentionsAnnotator initialized\n",
      "Initializing Step gather_step\n",
      "STEPPY WARNING: Step with name \"InputReader\", already exist. Make sure that all Steps have unique name.\n",
      "Step gather_step initialized\n",
      "Step gather_step, working in \"inference\" mode\n",
      "Step InputReader, working in \"inference\" mode\n",
      "Step InputReader, adapting inputs\n",
      "Step InputReader, transforming...\n",
      "Step InputReader, transforming completed\n",
      "Step InputReader, transform completed\n",
      "Step LabelSanitizer, working in \"inference\" mode\n",
      "Step LabelSanitizer, adapting inputs\n",
      "Step LabelSanitizer, transforming...\n",
      "Step LabelSanitizer, transforming completed\n",
      "Step LabelSanitizer, transform completed\n",
      "Step MentionsAnnotator, working in \"inference\" mode\n",
      "Step InputReader, working in \"inference\" mode\n",
      "Step InputReader, adapting inputs\n",
      "Step InputReader, transforming...\n",
      "Step InputReader, transforming completed\n",
      "Step InputReader, transform completed\n",
      "Step MentionsAnnotator, unpacking inputs\n",
      "Step MentionsAnnotator, transforming...\n"
     ]
    },
    {
     "name": "stdout",
     "output_type": "stream",
     "text": [
      "Transforming data to features.\n",
      "------BEFORE DATA PIPELINE------- results/probert\n",
      "Empty DataFrame\n",
      "Columns: [id, label]\n",
      "Index: []\n"
     ]
    },
    {
     "name": "stderr",
     "output_type": "stream",
     "text": [
      "Extracting coref clusters...: 100%|██████████| 1/1 [00:00<00:00, 834.02it/s]\n",
      "Step MentionsAnnotator, transforming completed\n",
      "Step MentionsAnnotator, transform completed\n",
      "Step gather_step, adapting inputs\n",
      "Step gather_step, transforming...\n",
      "Step gather_step, transforming completed\n",
      "Step gather_step, transform completed\n"
     ]
    },
    {
     "name": "stdout",
     "output_type": "stream",
     "text": [
      "Transforming data to features done.\n",
      " Log a couple of examples for sanity check.\n",
      "\n"
     ]
    },
    {
     "name": "stderr",
     "output_type": "stream",
     "text": [
      "Convert Examples to features: 1it [00:00, 525.87it/s]\n",
      "Evaluating:   0%|          | 0/1 [00:00<?, ?it/s]/dccstor/media-bias-4374/gender-ambiguity-detectors/gap/models/gap/probert.py:35: UserWarning: indexing with dtype torch.uint8 is now deprecated, please use a dtype torch.bool instead. (Triggered internally at  ../aten/src/ATen/native/IndexingUtils.h:28.)\n",
      "  sequence_output = sequence_output[~gpr_tags_mask].view(batch_size, -1, self.config.hidden_size)\n",
      "Evaluating: 100%|██████████| 1/1 [00:04<00:00,  4.27s/it]"
     ]
    },
    {
     "name": "stdout",
     "output_type": "stream",
     "text": [
      "[0.7435659 0.2564341]\n",
      "Known pronoun 'they' resolves 'True' to 'Pat' with a probability of '0.7435659170150757'\n"
     ]
    },
    {
     "name": "stderr",
     "output_type": "stream",
     "text": [
      "\n"
     ]
    },
    {
     "data": {
      "text/html": [
       "<div>\n",
       "<style scoped>\n",
       "    .dataframe tbody tr th:only-of-type {\n",
       "        vertical-align: middle;\n",
       "    }\n",
       "\n",
       "    .dataframe tbody tr th {\n",
       "        vertical-align: top;\n",
       "    }\n",
       "\n",
       "    .dataframe thead th {\n",
       "        text-align: right;\n",
       "    }\n",
       "</style>\n",
       "<table border=\"1\" class=\"dataframe\">\n",
       "  <thead>\n",
       "    <tr style=\"text-align: right;\">\n",
       "      <th></th>\n",
       "      <th>id</th>\n",
       "      <th>text</th>\n",
       "      <th>pronoun</th>\n",
       "      <th>pronoun_offset</th>\n",
       "      <th>a</th>\n",
       "      <th>a_offset</th>\n",
       "      <th>url</th>\n",
       "    </tr>\n",
       "  </thead>\n",
       "  <tbody>\n",
       "    <tr>\n",
       "      <th>0</th>\n",
       "      <td>na</td>\n",
       "      <td>Pat (they/them/their) was not sure how they sh...</td>\n",
       "      <td>them</td>\n",
       "      <td>10</td>\n",
       "      <td>Pat</td>\n",
       "      <td>0</td>\n",
       "      <td>na</td>\n",
       "    </tr>\n",
       "  </tbody>\n",
       "</table>\n",
       "</div>"
      ],
      "text/plain": [
       "   id                                               text pronoun  \\\n",
       "0  na  Pat (they/them/their) was not sure how they sh...    them   \n",
       "\n",
       "   pronoun_offset    a  a_offset url  \n",
       "0              10  Pat         0  na  "
      ]
     },
     "metadata": {},
     "output_type": "display_data"
    },
    {
     "name": "stderr",
     "output_type": "stream",
     "text": [
      "Initializing Step InputReader\n",
      "Step InputReader initialized\n",
      "Initializing Step LabelSanitizer\n",
      "Step LabelSanitizer initialized\n",
      "Initializing Step MentionsAnnotator\n",
      "Step MentionsAnnotator initialized\n",
      "Initializing Step gather_step\n",
      "STEPPY WARNING: Step with name \"InputReader\", already exist. Make sure that all Steps have unique name.\n",
      "Step gather_step initialized\n",
      "Step gather_step, working in \"inference\" mode\n",
      "Step InputReader, working in \"inference\" mode\n",
      "Step InputReader, adapting inputs\n",
      "Step InputReader, transforming...\n",
      "Step InputReader, transforming completed\n",
      "Step InputReader, transform completed\n",
      "Step LabelSanitizer, working in \"inference\" mode\n",
      "Step LabelSanitizer, adapting inputs\n",
      "Step LabelSanitizer, transforming...\n",
      "Step LabelSanitizer, transforming completed\n",
      "Step LabelSanitizer, transform completed\n",
      "Step MentionsAnnotator, working in \"inference\" mode\n",
      "Step InputReader, working in \"inference\" mode\n",
      "Step InputReader, adapting inputs\n",
      "Step InputReader, transforming...\n",
      "Step InputReader, transforming completed\n",
      "Step InputReader, transform completed\n",
      "Step MentionsAnnotator, unpacking inputs\n",
      "Step MentionsAnnotator, transforming...\n"
     ]
    },
    {
     "name": "stdout",
     "output_type": "stream",
     "text": [
      "Transforming data to features.\n",
      "------BEFORE DATA PIPELINE------- results/probert\n",
      "Empty DataFrame\n",
      "Columns: [id, label]\n",
      "Index: []\n"
     ]
    },
    {
     "name": "stderr",
     "output_type": "stream",
     "text": [
      "Extracting coref clusters...: 100%|██████████| 1/1 [00:00<00:00, 832.70it/s]\n",
      "Step MentionsAnnotator, transforming completed\n",
      "Step MentionsAnnotator, transform completed\n",
      "Step gather_step, adapting inputs\n",
      "Step gather_step, transforming...\n",
      "Step gather_step, transforming completed\n",
      "Step gather_step, transform completed\n"
     ]
    },
    {
     "name": "stdout",
     "output_type": "stream",
     "text": [
      "Transforming data to features done.\n",
      " Log a couple of examples for sanity check.\n",
      "\n"
     ]
    },
    {
     "name": "stderr",
     "output_type": "stream",
     "text": [
      "Convert Examples to features: 1it [00:00, 430.14it/s]\n",
      "Evaluating:   0%|          | 0/1 [00:00<?, ?it/s]/dccstor/media-bias-4374/gender-ambiguity-detectors/gap/models/gap/probert.py:35: UserWarning: indexing with dtype torch.uint8 is now deprecated, please use a dtype torch.bool instead. (Triggered internally at  ../aten/src/ATen/native/IndexingUtils.h:28.)\n",
      "  sequence_output = sequence_output[~gpr_tags_mask].view(batch_size, -1, self.config.hidden_size)\n",
      "Evaluating: 100%|██████████| 1/1 [00:04<00:00,  4.26s/it]"
     ]
    },
    {
     "name": "stdout",
     "output_type": "stream",
     "text": [
      "[0.40619457 0.59380543]\n",
      "Known pronoun 'them' resolves 'False' to 'Pat' with a probability of '0.5938054323196411'\n"
     ]
    },
    {
     "name": "stderr",
     "output_type": "stream",
     "text": [
      "\n"
     ]
    },
    {
     "data": {
      "text/html": [
       "<div>\n",
       "<style scoped>\n",
       "    .dataframe tbody tr th:only-of-type {\n",
       "        vertical-align: middle;\n",
       "    }\n",
       "\n",
       "    .dataframe tbody tr th {\n",
       "        vertical-align: top;\n",
       "    }\n",
       "\n",
       "    .dataframe thead th {\n",
       "        text-align: right;\n",
       "    }\n",
       "</style>\n",
       "<table border=\"1\" class=\"dataframe\">\n",
       "  <thead>\n",
       "    <tr style=\"text-align: right;\">\n",
       "      <th></th>\n",
       "      <th>id</th>\n",
       "      <th>text</th>\n",
       "      <th>pronoun</th>\n",
       "      <th>pronoun_offset</th>\n",
       "      <th>a</th>\n",
       "      <th>a_offset</th>\n",
       "      <th>url</th>\n",
       "    </tr>\n",
       "  </thead>\n",
       "  <tbody>\n",
       "    <tr>\n",
       "      <th>0</th>\n",
       "      <td>na</td>\n",
       "      <td>Pat (they/them/their) was not sure how they sh...</td>\n",
       "      <td>their</td>\n",
       "      <td>15</td>\n",
       "      <td>Pat</td>\n",
       "      <td>0</td>\n",
       "      <td>na</td>\n",
       "    </tr>\n",
       "  </tbody>\n",
       "</table>\n",
       "</div>"
      ],
      "text/plain": [
       "   id                                               text pronoun  \\\n",
       "0  na  Pat (they/them/their) was not sure how they sh...   their   \n",
       "\n",
       "   pronoun_offset    a  a_offset url  \n",
       "0              15  Pat         0  na  "
      ]
     },
     "metadata": {},
     "output_type": "display_data"
    },
    {
     "name": "stderr",
     "output_type": "stream",
     "text": [
      "Initializing Step InputReader\n",
      "Step InputReader initialized\n",
      "Initializing Step LabelSanitizer\n",
      "Step LabelSanitizer initialized\n",
      "Initializing Step MentionsAnnotator\n",
      "Step MentionsAnnotator initialized\n",
      "Initializing Step gather_step\n",
      "STEPPY WARNING: Step with name \"InputReader\", already exist. Make sure that all Steps have unique name.\n",
      "Step gather_step initialized\n",
      "Step gather_step, working in \"inference\" mode\n",
      "Step InputReader, working in \"inference\" mode\n",
      "Step InputReader, adapting inputs\n",
      "Step InputReader, transforming...\n",
      "Step InputReader, transforming completed\n",
      "Step InputReader, transform completed\n",
      "Step LabelSanitizer, working in \"inference\" mode\n",
      "Step LabelSanitizer, adapting inputs\n",
      "Step LabelSanitizer, transforming...\n",
      "Step LabelSanitizer, transforming completed\n",
      "Step LabelSanitizer, transform completed\n",
      "Step MentionsAnnotator, working in \"inference\" mode\n",
      "Step InputReader, working in \"inference\" mode\n",
      "Step InputReader, adapting inputs\n",
      "Step InputReader, transforming...\n",
      "Step InputReader, transforming completed\n",
      "Step InputReader, transform completed\n",
      "Step MentionsAnnotator, unpacking inputs\n",
      "Step MentionsAnnotator, transforming...\n"
     ]
    },
    {
     "name": "stdout",
     "output_type": "stream",
     "text": [
      "Transforming data to features.\n",
      "------BEFORE DATA PIPELINE------- results/probert\n",
      "Empty DataFrame\n",
      "Columns: [id, label]\n",
      "Index: []\n"
     ]
    },
    {
     "name": "stderr",
     "output_type": "stream",
     "text": [
      "Extracting coref clusters...: 100%|██████████| 1/1 [00:00<00:00, 847.33it/s]\n",
      "Step MentionsAnnotator, transforming completed\n",
      "Step MentionsAnnotator, transform completed\n",
      "Step gather_step, adapting inputs\n",
      "Step gather_step, transforming...\n",
      "Step gather_step, transforming completed\n",
      "Step gather_step, transform completed\n"
     ]
    },
    {
     "name": "stdout",
     "output_type": "stream",
     "text": [
      "Transforming data to features done.\n",
      " Log a couple of examples for sanity check.\n",
      "\n"
     ]
    },
    {
     "name": "stderr",
     "output_type": "stream",
     "text": [
      "Convert Examples to features: 1it [00:00, 398.05it/s]\n",
      "Evaluating:   0%|          | 0/1 [00:00<?, ?it/s]/dccstor/media-bias-4374/gender-ambiguity-detectors/gap/models/gap/probert.py:35: UserWarning: indexing with dtype torch.uint8 is now deprecated, please use a dtype torch.bool instead. (Triggered internally at  ../aten/src/ATen/native/IndexingUtils.h:28.)\n",
      "  sequence_output = sequence_output[~gpr_tags_mask].view(batch_size, -1, self.config.hidden_size)\n",
      "Evaluating: 100%|██████████| 1/1 [00:04<00:00,  4.44s/it]"
     ]
    },
    {
     "name": "stdout",
     "output_type": "stream",
     "text": [
      "[0.18119642 0.81880355]\n",
      "Known pronoun 'their' resolves 'False' to 'Pat' with a probability of '0.8188035488128662'\n"
     ]
    },
    {
     "name": "stderr",
     "output_type": "stream",
     "text": [
      "\n"
     ]
    },
    {
     "data": {
      "text/html": [
       "<div>\n",
       "<style scoped>\n",
       "    .dataframe tbody tr th:only-of-type {\n",
       "        vertical-align: middle;\n",
       "    }\n",
       "\n",
       "    .dataframe tbody tr th {\n",
       "        vertical-align: top;\n",
       "    }\n",
       "\n",
       "    .dataframe thead th {\n",
       "        text-align: right;\n",
       "    }\n",
       "</style>\n",
       "<table border=\"1\" class=\"dataframe\">\n",
       "  <thead>\n",
       "    <tr style=\"text-align: right;\">\n",
       "      <th></th>\n",
       "      <th>id</th>\n",
       "      <th>text</th>\n",
       "      <th>pronoun</th>\n",
       "      <th>pronoun_offset</th>\n",
       "      <th>a</th>\n",
       "      <th>a_offset</th>\n",
       "      <th>url</th>\n",
       "    </tr>\n",
       "  </thead>\n",
       "  <tbody>\n",
       "    <tr>\n",
       "      <th>0</th>\n",
       "      <td>na</td>\n",
       "      <td>For the U.S. Under Secretary of State, see Luc...</td>\n",
       "      <td>she</td>\n",
       "      <td>330</td>\n",
       "      <td>Lucy W. Benson</td>\n",
       "      <td>43</td>\n",
       "      <td>na</td>\n",
       "    </tr>\n",
       "  </tbody>\n",
       "</table>\n",
       "</div>"
      ],
      "text/plain": [
       "   id                                               text pronoun  \\\n",
       "0  na  For the U.S. Under Secretary of State, see Luc...     she   \n",
       "\n",
       "   pronoun_offset               a  a_offset url  \n",
       "0             330  Lucy W. Benson        43  na  "
      ]
     },
     "metadata": {},
     "output_type": "display_data"
    },
    {
     "name": "stderr",
     "output_type": "stream",
     "text": [
      "Initializing Step InputReader\n",
      "Step InputReader initialized\n",
      "Initializing Step LabelSanitizer\n",
      "Step LabelSanitizer initialized\n",
      "Initializing Step MentionsAnnotator\n",
      "Step MentionsAnnotator initialized\n",
      "Initializing Step gather_step\n",
      "STEPPY WARNING: Step with name \"InputReader\", already exist. Make sure that all Steps have unique name.\n",
      "Step gather_step initialized\n",
      "Step gather_step, working in \"inference\" mode\n",
      "Step InputReader, working in \"inference\" mode\n",
      "Step InputReader, adapting inputs\n",
      "Step InputReader, transforming...\n",
      "Step InputReader, transforming completed\n",
      "Step InputReader, transform completed\n",
      "Step LabelSanitizer, working in \"inference\" mode\n",
      "Step LabelSanitizer, adapting inputs\n",
      "Step LabelSanitizer, transforming...\n",
      "Step LabelSanitizer, transforming completed\n",
      "Step LabelSanitizer, transform completed\n",
      "Step MentionsAnnotator, working in \"inference\" mode\n",
      "Step InputReader, working in \"inference\" mode\n",
      "Step InputReader, adapting inputs\n",
      "Step InputReader, transforming...\n",
      "Step InputReader, transforming completed\n",
      "Step InputReader, transform completed\n",
      "Step MentionsAnnotator, unpacking inputs\n",
      "Step MentionsAnnotator, transforming...\n"
     ]
    },
    {
     "name": "stdout",
     "output_type": "stream",
     "text": [
      "Transforming data to features.\n",
      "------BEFORE DATA PIPELINE------- results/probert\n",
      "Empty DataFrame\n",
      "Columns: [id, label]\n",
      "Index: []\n"
     ]
    },
    {
     "name": "stderr",
     "output_type": "stream",
     "text": [
      "Extracting coref clusters...: 100%|██████████| 1/1 [00:00<00:00, 793.32it/s]\n",
      "Step MentionsAnnotator, transforming completed\n",
      "Step MentionsAnnotator, transform completed\n",
      "Step gather_step, adapting inputs\n",
      "Step gather_step, transforming...\n",
      "Step gather_step, transforming completed\n",
      "Step gather_step, transform completed\n"
     ]
    },
    {
     "name": "stdout",
     "output_type": "stream",
     "text": [
      "Transforming data to features done.\n",
      " Log a couple of examples for sanity check.\n",
      "\n"
     ]
    },
    {
     "name": "stderr",
     "output_type": "stream",
     "text": [
      "Convert Examples to features: 1it [00:00, 267.70it/s]\n",
      "Evaluating:   0%|          | 0/1 [00:00<?, ?it/s]/dccstor/media-bias-4374/gender-ambiguity-detectors/gap/models/gap/probert.py:35: UserWarning: indexing with dtype torch.uint8 is now deprecated, please use a dtype torch.bool instead. (Triggered internally at  ../aten/src/ATen/native/IndexingUtils.h:28.)\n",
      "  sequence_output = sequence_output[~gpr_tags_mask].view(batch_size, -1, self.config.hidden_size)\n",
      "Evaluating: 100%|██████████| 1/1 [00:04<00:00,  4.26s/it]"
     ]
    },
    {
     "name": "stdout",
     "output_type": "stream",
     "text": [
      "[0.10031489 0.8996851 ]\n",
      "Known pronoun 'she' resolves 'False' to 'Lucy W. Benson' with a probability of '0.8996850848197937'\n"
     ]
    },
    {
     "name": "stderr",
     "output_type": "stream",
     "text": [
      "\n"
     ]
    },
    {
     "data": {
      "text/html": [
       "<div>\n",
       "<style scoped>\n",
       "    .dataframe tbody tr th:only-of-type {\n",
       "        vertical-align: middle;\n",
       "    }\n",
       "\n",
       "    .dataframe tbody tr th {\n",
       "        vertical-align: top;\n",
       "    }\n",
       "\n",
       "    .dataframe thead th {\n",
       "        text-align: right;\n",
       "    }\n",
       "</style>\n",
       "<table border=\"1\" class=\"dataframe\">\n",
       "  <thead>\n",
       "    <tr style=\"text-align: right;\">\n",
       "      <th></th>\n",
       "      <th>id</th>\n",
       "      <th>text</th>\n",
       "      <th>pronoun</th>\n",
       "      <th>pronoun_offset</th>\n",
       "      <th>a</th>\n",
       "      <th>a_offset</th>\n",
       "      <th>url</th>\n",
       "    </tr>\n",
       "  </thead>\n",
       "  <tbody>\n",
       "    <tr>\n",
       "      <th>0</th>\n",
       "      <td>na</td>\n",
       "      <td>For the U.S. Under Secretary of State, see Luc...</td>\n",
       "      <td>she</td>\n",
       "      <td>330</td>\n",
       "      <td>Lucy Benson</td>\n",
       "      <td>59</td>\n",
       "      <td>na</td>\n",
       "    </tr>\n",
       "  </tbody>\n",
       "</table>\n",
       "</div>"
      ],
      "text/plain": [
       "   id                                               text pronoun  \\\n",
       "0  na  For the U.S. Under Secretary of State, see Luc...     she   \n",
       "\n",
       "   pronoun_offset            a  a_offset url  \n",
       "0             330  Lucy Benson        59  na  "
      ]
     },
     "metadata": {},
     "output_type": "display_data"
    },
    {
     "name": "stderr",
     "output_type": "stream",
     "text": [
      "Initializing Step InputReader\n",
      "Step InputReader initialized\n",
      "Initializing Step LabelSanitizer\n",
      "Step LabelSanitizer initialized\n",
      "Initializing Step MentionsAnnotator\n",
      "Step MentionsAnnotator initialized\n",
      "Initializing Step gather_step\n",
      "STEPPY WARNING: Step with name \"InputReader\", already exist. Make sure that all Steps have unique name.\n",
      "Step gather_step initialized\n",
      "Step gather_step, working in \"inference\" mode\n",
      "Step InputReader, working in \"inference\" mode\n",
      "Step InputReader, adapting inputs\n",
      "Step InputReader, transforming...\n",
      "Step InputReader, transforming completed\n",
      "Step InputReader, transform completed\n",
      "Step LabelSanitizer, working in \"inference\" mode\n",
      "Step LabelSanitizer, adapting inputs\n",
      "Step LabelSanitizer, transforming...\n",
      "Step LabelSanitizer, transforming completed\n",
      "Step LabelSanitizer, transform completed\n",
      "Step MentionsAnnotator, working in \"inference\" mode\n",
      "Step InputReader, working in \"inference\" mode\n",
      "Step InputReader, adapting inputs\n",
      "Step InputReader, transforming...\n",
      "Step InputReader, transforming completed\n",
      "Step InputReader, transform completed\n",
      "Step MentionsAnnotator, unpacking inputs\n",
      "Step MentionsAnnotator, transforming...\n"
     ]
    },
    {
     "name": "stdout",
     "output_type": "stream",
     "text": [
      "Transforming data to features.\n",
      "------BEFORE DATA PIPELINE------- results/probert\n",
      "Empty DataFrame\n",
      "Columns: [id, label]\n",
      "Index: []\n"
     ]
    },
    {
     "name": "stderr",
     "output_type": "stream",
     "text": [
      "Extracting coref clusters...: 100%|██████████| 1/1 [00:00<00:00, 774.71it/s]\n",
      "Step MentionsAnnotator, transforming completed\n",
      "Step MentionsAnnotator, transform completed\n",
      "Step gather_step, adapting inputs\n",
      "Step gather_step, transforming...\n",
      "Step gather_step, transforming completed\n",
      "Step gather_step, transform completed\n"
     ]
    },
    {
     "name": "stdout",
     "output_type": "stream",
     "text": [
      "Transforming data to features done.\n",
      " Log a couple of examples for sanity check.\n",
      "\n"
     ]
    },
    {
     "name": "stderr",
     "output_type": "stream",
     "text": [
      "Convert Examples to features: 1it [00:00, 260.76it/s]\n",
      "Evaluating:   0%|          | 0/1 [00:00<?, ?it/s]/dccstor/media-bias-4374/gender-ambiguity-detectors/gap/models/gap/probert.py:35: UserWarning: indexing with dtype torch.uint8 is now deprecated, please use a dtype torch.bool instead. (Triggered internally at  ../aten/src/ATen/native/IndexingUtils.h:28.)\n",
      "  sequence_output = sequence_output[~gpr_tags_mask].view(batch_size, -1, self.config.hidden_size)\n",
      "Evaluating: 100%|██████████| 1/1 [00:04<00:00,  4.29s/it]"
     ]
    },
    {
     "name": "stdout",
     "output_type": "stream",
     "text": [
      "[0.56404793 0.43595204]\n",
      "Known pronoun 'she' resolves 'True' to 'Lucy Benson' with a probability of '0.5640479326248169'\n"
     ]
    },
    {
     "name": "stderr",
     "output_type": "stream",
     "text": [
      "\n"
     ]
    },
    {
     "data": {
      "text/html": [
       "<div>\n",
       "<style scoped>\n",
       "    .dataframe tbody tr th:only-of-type {\n",
       "        vertical-align: middle;\n",
       "    }\n",
       "\n",
       "    .dataframe tbody tr th {\n",
       "        vertical-align: top;\n",
       "    }\n",
       "\n",
       "    .dataframe thead th {\n",
       "        text-align: right;\n",
       "    }\n",
       "</style>\n",
       "<table border=\"1\" class=\"dataframe\">\n",
       "  <thead>\n",
       "    <tr style=\"text-align: right;\">\n",
       "      <th></th>\n",
       "      <th>id</th>\n",
       "      <th>text</th>\n",
       "      <th>pronoun</th>\n",
       "      <th>pronoun_offset</th>\n",
       "      <th>a</th>\n",
       "      <th>a_offset</th>\n",
       "      <th>url</th>\n",
       "    </tr>\n",
       "  </thead>\n",
       "  <tbody>\n",
       "    <tr>\n",
       "      <th>0</th>\n",
       "      <td>na</td>\n",
       "      <td>For the U.S. Under Secretary of State, see Luc...</td>\n",
       "      <td>she</td>\n",
       "      <td>330</td>\n",
       "      <td>Kerrie Taylor</td>\n",
       "      <td>180</td>\n",
       "      <td>na</td>\n",
       "    </tr>\n",
       "  </tbody>\n",
       "</table>\n",
       "</div>"
      ],
      "text/plain": [
       "   id                                               text pronoun  \\\n",
       "0  na  For the U.S. Under Secretary of State, see Luc...     she   \n",
       "\n",
       "   pronoun_offset              a  a_offset url  \n",
       "0             330  Kerrie Taylor       180  na  "
      ]
     },
     "metadata": {},
     "output_type": "display_data"
    },
    {
     "name": "stderr",
     "output_type": "stream",
     "text": [
      "Initializing Step InputReader\n",
      "Step InputReader initialized\n",
      "Initializing Step LabelSanitizer\n",
      "Step LabelSanitizer initialized\n",
      "Initializing Step MentionsAnnotator\n",
      "Step MentionsAnnotator initialized\n",
      "Initializing Step gather_step\n",
      "STEPPY WARNING: Step with name \"InputReader\", already exist. Make sure that all Steps have unique name.\n",
      "Step gather_step initialized\n",
      "Step gather_step, working in \"inference\" mode\n",
      "Step InputReader, working in \"inference\" mode\n",
      "Step InputReader, adapting inputs\n",
      "Step InputReader, transforming...\n",
      "Step InputReader, transforming completed\n",
      "Step InputReader, transform completed\n",
      "Step LabelSanitizer, working in \"inference\" mode\n",
      "Step LabelSanitizer, adapting inputs\n",
      "Step LabelSanitizer, transforming...\n",
      "Step LabelSanitizer, transforming completed\n",
      "Step LabelSanitizer, transform completed\n",
      "Step MentionsAnnotator, working in \"inference\" mode\n",
      "Step InputReader, working in \"inference\" mode\n",
      "Step InputReader, adapting inputs\n",
      "Step InputReader, transforming...\n",
      "Step InputReader, transforming completed\n",
      "Step InputReader, transform completed\n",
      "Step MentionsAnnotator, unpacking inputs\n",
      "Step MentionsAnnotator, transforming...\n"
     ]
    },
    {
     "name": "stdout",
     "output_type": "stream",
     "text": [
      "Transforming data to features.\n",
      "------BEFORE DATA PIPELINE------- results/probert\n",
      "Empty DataFrame\n",
      "Columns: [id, label]\n",
      "Index: []\n"
     ]
    },
    {
     "name": "stderr",
     "output_type": "stream",
     "text": [
      "Extracting coref clusters...: 100%|██████████| 1/1 [00:00<00:00, 814.74it/s]\n",
      "Step MentionsAnnotator, transforming completed\n",
      "Step MentionsAnnotator, transform completed\n",
      "Step gather_step, adapting inputs\n",
      "Step gather_step, transforming...\n",
      "Step gather_step, transforming completed\n",
      "Step gather_step, transform completed\n"
     ]
    },
    {
     "name": "stdout",
     "output_type": "stream",
     "text": [
      "Transforming data to features done.\n",
      " Log a couple of examples for sanity check.\n",
      "\n"
     ]
    },
    {
     "name": "stderr",
     "output_type": "stream",
     "text": [
      "Convert Examples to features: 1it [00:00, 310.71it/s]\n",
      "Evaluating:   0%|          | 0/1 [00:00<?, ?it/s]/dccstor/media-bias-4374/gender-ambiguity-detectors/gap/models/gap/probert.py:35: UserWarning: indexing with dtype torch.uint8 is now deprecated, please use a dtype torch.bool instead. (Triggered internally at  ../aten/src/ATen/native/IndexingUtils.h:28.)\n",
      "  sequence_output = sequence_output[~gpr_tags_mask].view(batch_size, -1, self.config.hidden_size)\n",
      "Evaluating: 100%|██████████| 1/1 [00:04<00:00,  4.30s/it]"
     ]
    },
    {
     "name": "stdout",
     "output_type": "stream",
     "text": [
      "[0.00900075 0.9909992 ]\n",
      "Known pronoun 'she' resolves 'False' to 'Kerrie Taylor' with a probability of '0.9909992218017578'\n"
     ]
    },
    {
     "name": "stderr",
     "output_type": "stream",
     "text": [
      "\n"
     ]
    },
    {
     "data": {
      "text/html": [
       "<div>\n",
       "<style scoped>\n",
       "    .dataframe tbody tr th:only-of-type {\n",
       "        vertical-align: middle;\n",
       "    }\n",
       "\n",
       "    .dataframe tbody tr th {\n",
       "        vertical-align: top;\n",
       "    }\n",
       "\n",
       "    .dataframe thead th {\n",
       "        text-align: right;\n",
       "    }\n",
       "</style>\n",
       "<table border=\"1\" class=\"dataframe\">\n",
       "  <thead>\n",
       "    <tr style=\"text-align: right;\">\n",
       "      <th></th>\n",
       "      <th>id</th>\n",
       "      <th>text</th>\n",
       "      <th>pronoun</th>\n",
       "      <th>pronoun_offset</th>\n",
       "      <th>a</th>\n",
       "      <th>a_offset</th>\n",
       "      <th>url</th>\n",
       "    </tr>\n",
       "  </thead>\n",
       "  <tbody>\n",
       "    <tr>\n",
       "      <th>0</th>\n",
       "      <td>na</td>\n",
       "      <td>Kathleen Nott was born in Camberwell, London. ...</td>\n",
       "      <td>Her</td>\n",
       "      <td>46</td>\n",
       "      <td>Kathleen Nott</td>\n",
       "      <td>0</td>\n",
       "      <td>na</td>\n",
       "    </tr>\n",
       "  </tbody>\n",
       "</table>\n",
       "</div>"
      ],
      "text/plain": [
       "   id                                               text pronoun  \\\n",
       "0  na  Kathleen Nott was born in Camberwell, London. ...     Her   \n",
       "\n",
       "   pronoun_offset              a  a_offset url  \n",
       "0              46  Kathleen Nott         0  na  "
      ]
     },
     "metadata": {},
     "output_type": "display_data"
    },
    {
     "name": "stderr",
     "output_type": "stream",
     "text": [
      "Initializing Step InputReader\n",
      "Step InputReader initialized\n",
      "Initializing Step LabelSanitizer\n",
      "Step LabelSanitizer initialized\n",
      "Initializing Step MentionsAnnotator\n",
      "Step MentionsAnnotator initialized\n",
      "Initializing Step gather_step\n",
      "STEPPY WARNING: Step with name \"InputReader\", already exist. Make sure that all Steps have unique name.\n",
      "Step gather_step initialized\n",
      "Step gather_step, working in \"inference\" mode\n",
      "Step InputReader, working in \"inference\" mode\n",
      "Step InputReader, adapting inputs\n",
      "Step InputReader, transforming...\n",
      "Step InputReader, transforming completed\n",
      "Step InputReader, transform completed\n",
      "Step LabelSanitizer, working in \"inference\" mode\n",
      "Step LabelSanitizer, adapting inputs\n",
      "Step LabelSanitizer, transforming...\n",
      "Step LabelSanitizer, transforming completed\n",
      "Step LabelSanitizer, transform completed\n",
      "Step MentionsAnnotator, working in \"inference\" mode\n",
      "Step InputReader, working in \"inference\" mode\n",
      "Step InputReader, adapting inputs\n",
      "Step InputReader, transforming...\n",
      "Step InputReader, transforming completed\n",
      "Step InputReader, transform completed\n",
      "Step MentionsAnnotator, unpacking inputs\n",
      "Step MentionsAnnotator, transforming...\n"
     ]
    },
    {
     "name": "stdout",
     "output_type": "stream",
     "text": [
      "Transforming data to features.\n",
      "------BEFORE DATA PIPELINE------- results/probert\n",
      "Empty DataFrame\n",
      "Columns: [id, label]\n",
      "Index: []\n"
     ]
    },
    {
     "name": "stderr",
     "output_type": "stream",
     "text": [
      "Extracting coref clusters...: 100%|██████████| 1/1 [00:00<00:00, 761.08it/s]\n",
      "Step MentionsAnnotator, transforming completed\n",
      "Step MentionsAnnotator, transform completed\n",
      "Step gather_step, adapting inputs\n",
      "Step gather_step, transforming...\n",
      "Step gather_step, transforming completed\n",
      "Step gather_step, transform completed\n"
     ]
    },
    {
     "name": "stdout",
     "output_type": "stream",
     "text": [
      "Transforming data to features done.\n",
      " Log a couple of examples for sanity check.\n",
      "\n"
     ]
    },
    {
     "name": "stderr",
     "output_type": "stream",
     "text": [
      "Convert Examples to features: 1it [00:00, 315.43it/s]\n",
      "Evaluating:   0%|          | 0/1 [00:00<?, ?it/s]/dccstor/media-bias-4374/gender-ambiguity-detectors/gap/models/gap/probert.py:35: UserWarning: indexing with dtype torch.uint8 is now deprecated, please use a dtype torch.bool instead. (Triggered internally at  ../aten/src/ATen/native/IndexingUtils.h:28.)\n",
      "  sequence_output = sequence_output[~gpr_tags_mask].view(batch_size, -1, self.config.hidden_size)\n",
      "Evaluating: 100%|██████████| 1/1 [00:04<00:00,  4.30s/it]"
     ]
    },
    {
     "name": "stdout",
     "output_type": "stream",
     "text": [
      "[0.99703014 0.00296981]\n",
      "Known pronoun 'Her' resolves 'True' to 'Kathleen Nott' with a probability of '0.9970301389694214'\n"
     ]
    },
    {
     "name": "stderr",
     "output_type": "stream",
     "text": [
      "\n"
     ]
    },
    {
     "data": {
      "text/html": [
       "<div>\n",
       "<style scoped>\n",
       "    .dataframe tbody tr th:only-of-type {\n",
       "        vertical-align: middle;\n",
       "    }\n",
       "\n",
       "    .dataframe tbody tr th {\n",
       "        vertical-align: top;\n",
       "    }\n",
       "\n",
       "    .dataframe thead th {\n",
       "        text-align: right;\n",
       "    }\n",
       "</style>\n",
       "<table border=\"1\" class=\"dataframe\">\n",
       "  <thead>\n",
       "    <tr style=\"text-align: right;\">\n",
       "      <th></th>\n",
       "      <th>id</th>\n",
       "      <th>text</th>\n",
       "      <th>pronoun</th>\n",
       "      <th>pronoun_offset</th>\n",
       "      <th>a</th>\n",
       "      <th>a_offset</th>\n",
       "      <th>url</th>\n",
       "    </tr>\n",
       "  </thead>\n",
       "  <tbody>\n",
       "    <tr>\n",
       "      <th>0</th>\n",
       "      <td>na</td>\n",
       "      <td>Kathleen Nott was born in Camberwell, London. ...</td>\n",
       "      <td>Her</td>\n",
       "      <td>46</td>\n",
       "      <td>Philip</td>\n",
       "      <td>58</td>\n",
       "      <td>na</td>\n",
       "    </tr>\n",
       "  </tbody>\n",
       "</table>\n",
       "</div>"
      ],
      "text/plain": [
       "   id                                               text pronoun  \\\n",
       "0  na  Kathleen Nott was born in Camberwell, London. ...     Her   \n",
       "\n",
       "   pronoun_offset       a  a_offset url  \n",
       "0              46  Philip        58  na  "
      ]
     },
     "metadata": {},
     "output_type": "display_data"
    },
    {
     "name": "stderr",
     "output_type": "stream",
     "text": [
      "Initializing Step InputReader\n",
      "Step InputReader initialized\n",
      "Initializing Step LabelSanitizer\n",
      "Step LabelSanitizer initialized\n",
      "Initializing Step MentionsAnnotator\n",
      "Step MentionsAnnotator initialized\n",
      "Initializing Step gather_step\n",
      "STEPPY WARNING: Step with name \"InputReader\", already exist. Make sure that all Steps have unique name.\n",
      "Step gather_step initialized\n",
      "Step gather_step, working in \"inference\" mode\n",
      "Step InputReader, working in \"inference\" mode\n",
      "Step InputReader, adapting inputs\n",
      "Step InputReader, transforming...\n",
      "Step InputReader, transforming completed\n",
      "Step InputReader, transform completed\n",
      "Step LabelSanitizer, working in \"inference\" mode\n",
      "Step LabelSanitizer, adapting inputs\n",
      "Step LabelSanitizer, transforming...\n",
      "Step LabelSanitizer, transforming completed\n",
      "Step LabelSanitizer, transform completed\n",
      "Step MentionsAnnotator, working in \"inference\" mode\n",
      "Step InputReader, working in \"inference\" mode\n",
      "Step InputReader, adapting inputs\n",
      "Step InputReader, transforming...\n",
      "Step InputReader, transforming completed\n",
      "Step InputReader, transform completed\n",
      "Step MentionsAnnotator, unpacking inputs\n",
      "Step MentionsAnnotator, transforming...\n"
     ]
    },
    {
     "name": "stdout",
     "output_type": "stream",
     "text": [
      "Transforming data to features.\n",
      "------BEFORE DATA PIPELINE------- results/probert\n",
      "Empty DataFrame\n",
      "Columns: [id, label]\n",
      "Index: []\n"
     ]
    },
    {
     "name": "stderr",
     "output_type": "stream",
     "text": [
      "Extracting coref clusters...: 100%|██████████| 1/1 [00:00<00:00, 878.57it/s]\n",
      "Step MentionsAnnotator, transforming completed\n",
      "Step MentionsAnnotator, transform completed\n",
      "Step gather_step, adapting inputs\n",
      "Step gather_step, transforming...\n",
      "Step gather_step, transforming completed\n",
      "Step gather_step, transform completed\n"
     ]
    },
    {
     "name": "stdout",
     "output_type": "stream",
     "text": [
      "Transforming data to features done.\n",
      " Log a couple of examples for sanity check.\n",
      "\n"
     ]
    },
    {
     "name": "stderr",
     "output_type": "stream",
     "text": [
      "Convert Examples to features: 1it [00:00, 266.47it/s]\n",
      "Evaluating:   0%|          | 0/1 [00:00<?, ?it/s]/dccstor/media-bias-4374/gender-ambiguity-detectors/gap/models/gap/probert.py:35: UserWarning: indexing with dtype torch.uint8 is now deprecated, please use a dtype torch.bool instead. (Triggered internally at  ../aten/src/ATen/native/IndexingUtils.h:28.)\n",
      "  sequence_output = sequence_output[~gpr_tags_mask].view(batch_size, -1, self.config.hidden_size)\n",
      "Evaluating: 100%|██████████| 1/1 [00:04<00:00,  4.29s/it]"
     ]
    },
    {
     "name": "stdout",
     "output_type": "stream",
     "text": [
      "[0.00584303 0.99415696]\n",
      "Known pronoun 'Her' resolves 'False' to 'Philip' with a probability of '0.9941569566726685'\n"
     ]
    },
    {
     "name": "stderr",
     "output_type": "stream",
     "text": [
      "\n"
     ]
    },
    {
     "data": {
      "text/html": [
       "<div>\n",
       "<style scoped>\n",
       "    .dataframe tbody tr th:only-of-type {\n",
       "        vertical-align: middle;\n",
       "    }\n",
       "\n",
       "    .dataframe tbody tr th {\n",
       "        vertical-align: top;\n",
       "    }\n",
       "\n",
       "    .dataframe thead th {\n",
       "        text-align: right;\n",
       "    }\n",
       "</style>\n",
       "<table border=\"1\" class=\"dataframe\">\n",
       "  <thead>\n",
       "    <tr style=\"text-align: right;\">\n",
       "      <th></th>\n",
       "      <th>id</th>\n",
       "      <th>text</th>\n",
       "      <th>pronoun</th>\n",
       "      <th>pronoun_offset</th>\n",
       "      <th>a</th>\n",
       "      <th>a_offset</th>\n",
       "      <th>url</th>\n",
       "    </tr>\n",
       "  </thead>\n",
       "  <tbody>\n",
       "    <tr>\n",
       "      <th>0</th>\n",
       "      <td>na</td>\n",
       "      <td>Kathleen Nott was born in Camberwell, London. ...</td>\n",
       "      <td>Her</td>\n",
       "      <td>46</td>\n",
       "      <td>Ellen</td>\n",
       "      <td>110</td>\n",
       "      <td>na</td>\n",
       "    </tr>\n",
       "  </tbody>\n",
       "</table>\n",
       "</div>"
      ],
      "text/plain": [
       "   id                                               text pronoun  \\\n",
       "0  na  Kathleen Nott was born in Camberwell, London. ...     Her   \n",
       "\n",
       "   pronoun_offset      a  a_offset url  \n",
       "0              46  Ellen       110  na  "
      ]
     },
     "metadata": {},
     "output_type": "display_data"
    },
    {
     "name": "stderr",
     "output_type": "stream",
     "text": [
      "Initializing Step InputReader\n",
      "Step InputReader initialized\n",
      "Initializing Step LabelSanitizer\n",
      "Step LabelSanitizer initialized\n",
      "Initializing Step MentionsAnnotator\n",
      "Step MentionsAnnotator initialized\n",
      "Initializing Step gather_step\n",
      "STEPPY WARNING: Step with name \"InputReader\", already exist. Make sure that all Steps have unique name.\n",
      "Step gather_step initialized\n",
      "Step gather_step, working in \"inference\" mode\n",
      "Step InputReader, working in \"inference\" mode\n",
      "Step InputReader, adapting inputs\n",
      "Step InputReader, transforming...\n",
      "Step InputReader, transforming completed\n",
      "Step InputReader, transform completed\n",
      "Step LabelSanitizer, working in \"inference\" mode\n",
      "Step LabelSanitizer, adapting inputs\n",
      "Step LabelSanitizer, transforming...\n",
      "Step LabelSanitizer, transforming completed\n",
      "Step LabelSanitizer, transform completed\n",
      "Step MentionsAnnotator, working in \"inference\" mode\n",
      "Step InputReader, working in \"inference\" mode\n",
      "Step InputReader, adapting inputs\n",
      "Step InputReader, transforming...\n",
      "Step InputReader, transforming completed\n",
      "Step InputReader, transform completed\n",
      "Step MentionsAnnotator, unpacking inputs\n",
      "Step MentionsAnnotator, transforming...\n"
     ]
    },
    {
     "name": "stdout",
     "output_type": "stream",
     "text": [
      "Transforming data to features.\n",
      "------BEFORE DATA PIPELINE------- results/probert\n",
      "Empty DataFrame\n",
      "Columns: [id, label]\n",
      "Index: []\n"
     ]
    },
    {
     "name": "stderr",
     "output_type": "stream",
     "text": [
      "Extracting coref clusters...: 100%|██████████| 1/1 [00:00<00:00, 880.97it/s]\n",
      "Step MentionsAnnotator, transforming completed\n",
      "Step MentionsAnnotator, transform completed\n",
      "Step gather_step, adapting inputs\n",
      "Step gather_step, transforming...\n",
      "Step gather_step, transforming completed\n",
      "Step gather_step, transform completed\n"
     ]
    },
    {
     "name": "stdout",
     "output_type": "stream",
     "text": [
      "Transforming data to features done.\n",
      " Log a couple of examples for sanity check.\n",
      "\n"
     ]
    },
    {
     "name": "stderr",
     "output_type": "stream",
     "text": [
      "Convert Examples to features: 1it [00:00, 301.31it/s]\n",
      "Evaluating:   0%|          | 0/1 [00:00<?, ?it/s]/dccstor/media-bias-4374/gender-ambiguity-detectors/gap/models/gap/probert.py:35: UserWarning: indexing with dtype torch.uint8 is now deprecated, please use a dtype torch.bool instead. (Triggered internally at  ../aten/src/ATen/native/IndexingUtils.h:28.)\n",
      "  sequence_output = sequence_output[~gpr_tags_mask].view(batch_size, -1, self.config.hidden_size)\n",
      "Evaluating: 100%|██████████| 1/1 [00:04<00:00,  4.27s/it]"
     ]
    },
    {
     "name": "stdout",
     "output_type": "stream",
     "text": [
      "[0.00551658 0.9944834 ]\n",
      "Known pronoun 'Her' resolves 'False' to 'Ellen' with a probability of '0.9944834113121033'\n"
     ]
    },
    {
     "name": "stderr",
     "output_type": "stream",
     "text": [
      "\n"
     ]
    },
    {
     "data": {
      "text/html": [
       "<div>\n",
       "<style scoped>\n",
       "    .dataframe tbody tr th:only-of-type {\n",
       "        vertical-align: middle;\n",
       "    }\n",
       "\n",
       "    .dataframe tbody tr th {\n",
       "        vertical-align: top;\n",
       "    }\n",
       "\n",
       "    .dataframe thead th {\n",
       "        text-align: right;\n",
       "    }\n",
       "</style>\n",
       "<table border=\"1\" class=\"dataframe\">\n",
       "  <thead>\n",
       "    <tr style=\"text-align: right;\">\n",
       "      <th></th>\n",
       "      <th>id</th>\n",
       "      <th>text</th>\n",
       "      <th>pronoun</th>\n",
       "      <th>pronoun_offset</th>\n",
       "      <th>a</th>\n",
       "      <th>a_offset</th>\n",
       "      <th>url</th>\n",
       "    </tr>\n",
       "  </thead>\n",
       "  <tbody>\n",
       "    <tr>\n",
       "      <th>0</th>\n",
       "      <td>na</td>\n",
       "      <td>Kathleen Nott was born in Camberwell, London. ...</td>\n",
       "      <td>Her</td>\n",
       "      <td>46</td>\n",
       "      <td>Kathleen</td>\n",
       "      <td>0</td>\n",
       "      <td>na</td>\n",
       "    </tr>\n",
       "  </tbody>\n",
       "</table>\n",
       "</div>"
      ],
      "text/plain": [
       "   id                                               text pronoun  \\\n",
       "0  na  Kathleen Nott was born in Camberwell, London. ...     Her   \n",
       "\n",
       "   pronoun_offset         a  a_offset url  \n",
       "0              46  Kathleen         0  na  "
      ]
     },
     "metadata": {},
     "output_type": "display_data"
    },
    {
     "name": "stderr",
     "output_type": "stream",
     "text": [
      "Initializing Step InputReader\n",
      "Step InputReader initialized\n",
      "Initializing Step LabelSanitizer\n",
      "Step LabelSanitizer initialized\n",
      "Initializing Step MentionsAnnotator\n",
      "Step MentionsAnnotator initialized\n",
      "Initializing Step gather_step\n",
      "STEPPY WARNING: Step with name \"InputReader\", already exist. Make sure that all Steps have unique name.\n",
      "Step gather_step initialized\n",
      "Step gather_step, working in \"inference\" mode\n",
      "Step InputReader, working in \"inference\" mode\n",
      "Step InputReader, adapting inputs\n",
      "Step InputReader, transforming...\n",
      "Step InputReader, transforming completed\n",
      "Step InputReader, transform completed\n",
      "Step LabelSanitizer, working in \"inference\" mode\n",
      "Step LabelSanitizer, adapting inputs\n",
      "Step LabelSanitizer, transforming...\n",
      "Step LabelSanitizer, transforming completed\n",
      "Step LabelSanitizer, transform completed\n",
      "Step MentionsAnnotator, working in \"inference\" mode\n",
      "Step InputReader, working in \"inference\" mode\n",
      "Step InputReader, adapting inputs\n",
      "Step InputReader, transforming...\n",
      "Step InputReader, transforming completed\n",
      "Step InputReader, transform completed\n",
      "Step MentionsAnnotator, unpacking inputs\n",
      "Step MentionsAnnotator, transforming...\n"
     ]
    },
    {
     "name": "stdout",
     "output_type": "stream",
     "text": [
      "Transforming data to features.\n",
      "------BEFORE DATA PIPELINE------- results/probert\n",
      "Empty DataFrame\n",
      "Columns: [id, label]\n",
      "Index: []\n"
     ]
    },
    {
     "name": "stderr",
     "output_type": "stream",
     "text": [
      "Extracting coref clusters...: 100%|██████████| 1/1 [00:00<00:00, 721.29it/s]\n",
      "Step MentionsAnnotator, transforming completed\n",
      "Step MentionsAnnotator, transform completed\n",
      "Step gather_step, adapting inputs\n",
      "Step gather_step, transforming...\n",
      "Step gather_step, transforming completed\n",
      "Step gather_step, transform completed\n"
     ]
    },
    {
     "name": "stdout",
     "output_type": "stream",
     "text": [
      "Transforming data to features done.\n",
      " Log a couple of examples for sanity check.\n",
      "\n"
     ]
    },
    {
     "name": "stderr",
     "output_type": "stream",
     "text": [
      "Convert Examples to features: 1it [00:00, 298.02it/s]\n",
      "Evaluating:   0%|          | 0/1 [00:00<?, ?it/s]/dccstor/media-bias-4374/gender-ambiguity-detectors/gap/models/gap/probert.py:35: UserWarning: indexing with dtype torch.uint8 is now deprecated, please use a dtype torch.bool instead. (Triggered internally at  ../aten/src/ATen/native/IndexingUtils.h:28.)\n",
      "  sequence_output = sequence_output[~gpr_tags_mask].view(batch_size, -1, self.config.hidden_size)\n",
      "Evaluating: 100%|██████████| 1/1 [00:04<00:00,  4.31s/it]"
     ]
    },
    {
     "name": "stdout",
     "output_type": "stream",
     "text": [
      "[0.99606436 0.00393563]\n",
      "Known pronoun 'Her' resolves 'True' to 'Kathleen' with a probability of '0.9960643649101257'\n"
     ]
    },
    {
     "name": "stderr",
     "output_type": "stream",
     "text": [
      "\n"
     ]
    },
    {
     "data": {
      "text/html": [
       "<div>\n",
       "<style scoped>\n",
       "    .dataframe tbody tr th:only-of-type {\n",
       "        vertical-align: middle;\n",
       "    }\n",
       "\n",
       "    .dataframe tbody tr th {\n",
       "        vertical-align: top;\n",
       "    }\n",
       "\n",
       "    .dataframe thead th {\n",
       "        text-align: right;\n",
       "    }\n",
       "</style>\n",
       "<table border=\"1\" class=\"dataframe\">\n",
       "  <thead>\n",
       "    <tr style=\"text-align: right;\">\n",
       "      <th></th>\n",
       "      <th>id</th>\n",
       "      <th>text</th>\n",
       "      <th>pronoun</th>\n",
       "      <th>pronoun_offset</th>\n",
       "      <th>a</th>\n",
       "      <th>a_offset</th>\n",
       "      <th>url</th>\n",
       "    </tr>\n",
       "  </thead>\n",
       "  <tbody>\n",
       "    <tr>\n",
       "      <th>0</th>\n",
       "      <td>na</td>\n",
       "      <td>Kathleen Nott was born in Camberwell, London. ...</td>\n",
       "      <td>Her</td>\n",
       "      <td>46</td>\n",
       "      <td>Kathleen</td>\n",
       "      <td>150</td>\n",
       "      <td>na</td>\n",
       "    </tr>\n",
       "  </tbody>\n",
       "</table>\n",
       "</div>"
      ],
      "text/plain": [
       "   id                                               text pronoun  \\\n",
       "0  na  Kathleen Nott was born in Camberwell, London. ...     Her   \n",
       "\n",
       "   pronoun_offset         a  a_offset url  \n",
       "0              46  Kathleen       150  na  "
      ]
     },
     "metadata": {},
     "output_type": "display_data"
    },
    {
     "name": "stderr",
     "output_type": "stream",
     "text": [
      "Initializing Step InputReader\n",
      "Step InputReader initialized\n",
      "Initializing Step LabelSanitizer\n",
      "Step LabelSanitizer initialized\n",
      "Initializing Step MentionsAnnotator\n",
      "Step MentionsAnnotator initialized\n",
      "Initializing Step gather_step\n",
      "STEPPY WARNING: Step with name \"InputReader\", already exist. Make sure that all Steps have unique name.\n",
      "Step gather_step initialized\n",
      "Step gather_step, working in \"inference\" mode\n",
      "Step InputReader, working in \"inference\" mode\n",
      "Step InputReader, adapting inputs\n",
      "Step InputReader, transforming...\n",
      "Step InputReader, transforming completed\n",
      "Step InputReader, transform completed\n",
      "Step LabelSanitizer, working in \"inference\" mode\n",
      "Step LabelSanitizer, adapting inputs\n",
      "Step LabelSanitizer, transforming...\n",
      "Step LabelSanitizer, transforming completed\n",
      "Step LabelSanitizer, transform completed\n",
      "Step MentionsAnnotator, working in \"inference\" mode\n",
      "Step InputReader, working in \"inference\" mode\n",
      "Step InputReader, adapting inputs\n",
      "Step InputReader, transforming...\n",
      "Step InputReader, transforming completed\n",
      "Step InputReader, transform completed\n",
      "Step MentionsAnnotator, unpacking inputs\n",
      "Step MentionsAnnotator, transforming...\n"
     ]
    },
    {
     "name": "stdout",
     "output_type": "stream",
     "text": [
      "Transforming data to features.\n",
      "------BEFORE DATA PIPELINE------- results/probert\n",
      "Empty DataFrame\n",
      "Columns: [id, label]\n",
      "Index: []\n"
     ]
    },
    {
     "name": "stderr",
     "output_type": "stream",
     "text": [
      "Extracting coref clusters...: 100%|██████████| 1/1 [00:00<00:00, 860.90it/s]\n",
      "Step MentionsAnnotator, transforming completed\n",
      "Step MentionsAnnotator, transform completed\n",
      "Step gather_step, adapting inputs\n",
      "Step gather_step, transforming...\n",
      "Step gather_step, transforming completed\n",
      "Step gather_step, transform completed\n"
     ]
    },
    {
     "name": "stdout",
     "output_type": "stream",
     "text": [
      "Transforming data to features done.\n",
      " Log a couple of examples for sanity check.\n",
      "\n"
     ]
    },
    {
     "name": "stderr",
     "output_type": "stream",
     "text": [
      "Convert Examples to features: 1it [00:00, 330.65it/s]\n",
      "Evaluating:   0%|          | 0/1 [00:00<?, ?it/s]/dccstor/media-bias-4374/gender-ambiguity-detectors/gap/models/gap/probert.py:35: UserWarning: indexing with dtype torch.uint8 is now deprecated, please use a dtype torch.bool instead. (Triggered internally at  ../aten/src/ATen/native/IndexingUtils.h:28.)\n",
      "  sequence_output = sequence_output[~gpr_tags_mask].view(batch_size, -1, self.config.hidden_size)\n",
      "Evaluating: 100%|██████████| 1/1 [00:04<00:00,  4.26s/it]"
     ]
    },
    {
     "name": "stdout",
     "output_type": "stream",
     "text": [
      "[0.03192604 0.96807396]\n",
      "Known pronoun 'Her' resolves 'False' to 'Kathleen' with a probability of '0.9680739641189575'\n"
     ]
    },
    {
     "name": "stderr",
     "output_type": "stream",
     "text": [
      "\n"
     ]
    },
    {
     "data": {
      "text/html": [
       "<div>\n",
       "<style scoped>\n",
       "    .dataframe tbody tr th:only-of-type {\n",
       "        vertical-align: middle;\n",
       "    }\n",
       "\n",
       "    .dataframe tbody tr th {\n",
       "        vertical-align: top;\n",
       "    }\n",
       "\n",
       "    .dataframe thead th {\n",
       "        text-align: right;\n",
       "    }\n",
       "</style>\n",
       "<table border=\"1\" class=\"dataframe\">\n",
       "  <thead>\n",
       "    <tr style=\"text-align: right;\">\n",
       "      <th></th>\n",
       "      <th>id</th>\n",
       "      <th>text</th>\n",
       "      <th>pronoun</th>\n",
       "      <th>pronoun_offset</th>\n",
       "      <th>a</th>\n",
       "      <th>a_offset</th>\n",
       "      <th>url</th>\n",
       "    </tr>\n",
       "  </thead>\n",
       "  <tbody>\n",
       "    <tr>\n",
       "      <th>0</th>\n",
       "      <td>na</td>\n",
       "      <td>Kathleen Nott was born in Camberwell, London. ...</td>\n",
       "      <td>her</td>\n",
       "      <td>53</td>\n",
       "      <td>Kathleen Nott</td>\n",
       "      <td>0</td>\n",
       "      <td>na</td>\n",
       "    </tr>\n",
       "  </tbody>\n",
       "</table>\n",
       "</div>"
      ],
      "text/plain": [
       "   id                                               text pronoun  \\\n",
       "0  na  Kathleen Nott was born in Camberwell, London. ...     her   \n",
       "\n",
       "   pronoun_offset              a  a_offset url  \n",
       "0              53  Kathleen Nott         0  na  "
      ]
     },
     "metadata": {},
     "output_type": "display_data"
    },
    {
     "name": "stderr",
     "output_type": "stream",
     "text": [
      "Initializing Step InputReader\n",
      "Step InputReader initialized\n",
      "Initializing Step LabelSanitizer\n",
      "Step LabelSanitizer initialized\n",
      "Initializing Step MentionsAnnotator\n",
      "Step MentionsAnnotator initialized\n",
      "Initializing Step gather_step\n",
      "STEPPY WARNING: Step with name \"InputReader\", already exist. Make sure that all Steps have unique name.\n",
      "Step gather_step initialized\n",
      "Step gather_step, working in \"inference\" mode\n",
      "Step InputReader, working in \"inference\" mode\n",
      "Step InputReader, adapting inputs\n",
      "Step InputReader, transforming...\n",
      "Step InputReader, transforming completed\n",
      "Step InputReader, transform completed\n",
      "Step LabelSanitizer, working in \"inference\" mode\n",
      "Step LabelSanitizer, adapting inputs\n",
      "Step LabelSanitizer, transforming...\n",
      "Step LabelSanitizer, transforming completed\n",
      "Step LabelSanitizer, transform completed\n",
      "Step MentionsAnnotator, working in \"inference\" mode\n",
      "Step InputReader, working in \"inference\" mode\n",
      "Step InputReader, adapting inputs\n",
      "Step InputReader, transforming...\n",
      "Step InputReader, transforming completed\n",
      "Step InputReader, transform completed\n",
      "Step MentionsAnnotator, unpacking inputs\n",
      "Step MentionsAnnotator, transforming...\n"
     ]
    },
    {
     "name": "stdout",
     "output_type": "stream",
     "text": [
      "Transforming data to features.\n",
      "------BEFORE DATA PIPELINE------- results/probert\n",
      "Empty DataFrame\n",
      "Columns: [id, label]\n",
      "Index: []\n"
     ]
    },
    {
     "name": "stderr",
     "output_type": "stream",
     "text": [
      "Extracting coref clusters...: 100%|██████████| 1/1 [00:00<00:00, 773.86it/s]\n",
      "Step MentionsAnnotator, transforming completed\n",
      "Step MentionsAnnotator, transform completed\n",
      "Step gather_step, adapting inputs\n",
      "Step gather_step, transforming...\n",
      "Step gather_step, transforming completed\n",
      "Step gather_step, transform completed\n"
     ]
    },
    {
     "name": "stdout",
     "output_type": "stream",
     "text": [
      "Transforming data to features done.\n",
      " Log a couple of examples for sanity check.\n",
      "\n"
     ]
    },
    {
     "name": "stderr",
     "output_type": "stream",
     "text": [
      "Convert Examples to features: 1it [00:00, 260.56it/s]\n",
      "Evaluating:   0%|          | 0/1 [00:00<?, ?it/s]/dccstor/media-bias-4374/gender-ambiguity-detectors/gap/models/gap/probert.py:35: UserWarning: indexing with dtype torch.uint8 is now deprecated, please use a dtype torch.bool instead. (Triggered internally at  ../aten/src/ATen/native/IndexingUtils.h:28.)\n",
      "  sequence_output = sequence_output[~gpr_tags_mask].view(batch_size, -1, self.config.hidden_size)\n",
      "Evaluating: 100%|██████████| 1/1 [00:04<00:00,  4.32s/it]"
     ]
    },
    {
     "name": "stdout",
     "output_type": "stream",
     "text": [
      "[0.8345283  0.16547161]\n",
      "Known pronoun 'her' resolves 'True' to 'Kathleen Nott' with a probability of '0.8345283269882202'\n"
     ]
    },
    {
     "name": "stderr",
     "output_type": "stream",
     "text": [
      "\n"
     ]
    },
    {
     "data": {
      "text/html": [
       "<div>\n",
       "<style scoped>\n",
       "    .dataframe tbody tr th:only-of-type {\n",
       "        vertical-align: middle;\n",
       "    }\n",
       "\n",
       "    .dataframe tbody tr th {\n",
       "        vertical-align: top;\n",
       "    }\n",
       "\n",
       "    .dataframe thead th {\n",
       "        text-align: right;\n",
       "    }\n",
       "</style>\n",
       "<table border=\"1\" class=\"dataframe\">\n",
       "  <thead>\n",
       "    <tr style=\"text-align: right;\">\n",
       "      <th></th>\n",
       "      <th>id</th>\n",
       "      <th>text</th>\n",
       "      <th>pronoun</th>\n",
       "      <th>pronoun_offset</th>\n",
       "      <th>a</th>\n",
       "      <th>a_offset</th>\n",
       "      <th>url</th>\n",
       "    </tr>\n",
       "  </thead>\n",
       "  <tbody>\n",
       "    <tr>\n",
       "      <th>0</th>\n",
       "      <td>na</td>\n",
       "      <td>Kathleen Nott was born in Camberwell, London. ...</td>\n",
       "      <td>her</td>\n",
       "      <td>53</td>\n",
       "      <td>Philip</td>\n",
       "      <td>58</td>\n",
       "      <td>na</td>\n",
       "    </tr>\n",
       "  </tbody>\n",
       "</table>\n",
       "</div>"
      ],
      "text/plain": [
       "   id                                               text pronoun  \\\n",
       "0  na  Kathleen Nott was born in Camberwell, London. ...     her   \n",
       "\n",
       "   pronoun_offset       a  a_offset url  \n",
       "0              53  Philip        58  na  "
      ]
     },
     "metadata": {},
     "output_type": "display_data"
    },
    {
     "name": "stderr",
     "output_type": "stream",
     "text": [
      "Initializing Step InputReader\n",
      "Step InputReader initialized\n",
      "Initializing Step LabelSanitizer\n",
      "Step LabelSanitizer initialized\n",
      "Initializing Step MentionsAnnotator\n",
      "Step MentionsAnnotator initialized\n",
      "Initializing Step gather_step\n",
      "STEPPY WARNING: Step with name \"InputReader\", already exist. Make sure that all Steps have unique name.\n",
      "Step gather_step initialized\n",
      "Step gather_step, working in \"inference\" mode\n",
      "Step InputReader, working in \"inference\" mode\n",
      "Step InputReader, adapting inputs\n",
      "Step InputReader, transforming...\n",
      "Step InputReader, transforming completed\n",
      "Step InputReader, transform completed\n",
      "Step LabelSanitizer, working in \"inference\" mode\n",
      "Step LabelSanitizer, adapting inputs\n",
      "Step LabelSanitizer, transforming...\n",
      "Step LabelSanitizer, transforming completed\n",
      "Step LabelSanitizer, transform completed\n",
      "Step MentionsAnnotator, working in \"inference\" mode\n",
      "Step InputReader, working in \"inference\" mode\n",
      "Step InputReader, adapting inputs\n",
      "Step InputReader, transforming...\n",
      "Step InputReader, transforming completed\n",
      "Step InputReader, transform completed\n",
      "Step MentionsAnnotator, unpacking inputs\n",
      "Step MentionsAnnotator, transforming...\n"
     ]
    },
    {
     "name": "stdout",
     "output_type": "stream",
     "text": [
      "Transforming data to features.\n",
      "------BEFORE DATA PIPELINE------- results/probert\n",
      "Empty DataFrame\n",
      "Columns: [id, label]\n",
      "Index: []\n"
     ]
    },
    {
     "name": "stderr",
     "output_type": "stream",
     "text": [
      "Extracting coref clusters...: 100%|██████████| 1/1 [00:00<00:00, 810.49it/s]\n",
      "Step MentionsAnnotator, transforming completed\n",
      "Step MentionsAnnotator, transform completed\n",
      "Step gather_step, adapting inputs\n",
      "Step gather_step, transforming...\n",
      "Step gather_step, transforming completed\n",
      "Step gather_step, transform completed\n"
     ]
    },
    {
     "name": "stdout",
     "output_type": "stream",
     "text": [
      "Transforming data to features done.\n",
      " Log a couple of examples for sanity check.\n",
      "\n"
     ]
    },
    {
     "name": "stderr",
     "output_type": "stream",
     "text": [
      "Convert Examples to features: 1it [00:00, 309.47it/s]\n",
      "Evaluating:   0%|          | 0/1 [00:00<?, ?it/s]/dccstor/media-bias-4374/gender-ambiguity-detectors/gap/models/gap/probert.py:35: UserWarning: indexing with dtype torch.uint8 is now deprecated, please use a dtype torch.bool instead. (Triggered internally at  ../aten/src/ATen/native/IndexingUtils.h:28.)\n",
      "  sequence_output = sequence_output[~gpr_tags_mask].view(batch_size, -1, self.config.hidden_size)\n",
      "Evaluating: 100%|██████████| 1/1 [00:04<00:00,  4.25s/it]"
     ]
    },
    {
     "name": "stdout",
     "output_type": "stream",
     "text": [
      "[0.007845 0.992155]\n",
      "Known pronoun 'her' resolves 'False' to 'Philip' with a probability of '0.9921550154685974'\n"
     ]
    },
    {
     "name": "stderr",
     "output_type": "stream",
     "text": [
      "\n"
     ]
    },
    {
     "data": {
      "text/html": [
       "<div>\n",
       "<style scoped>\n",
       "    .dataframe tbody tr th:only-of-type {\n",
       "        vertical-align: middle;\n",
       "    }\n",
       "\n",
       "    .dataframe tbody tr th {\n",
       "        vertical-align: top;\n",
       "    }\n",
       "\n",
       "    .dataframe thead th {\n",
       "        text-align: right;\n",
       "    }\n",
       "</style>\n",
       "<table border=\"1\" class=\"dataframe\">\n",
       "  <thead>\n",
       "    <tr style=\"text-align: right;\">\n",
       "      <th></th>\n",
       "      <th>id</th>\n",
       "      <th>text</th>\n",
       "      <th>pronoun</th>\n",
       "      <th>pronoun_offset</th>\n",
       "      <th>a</th>\n",
       "      <th>a_offset</th>\n",
       "      <th>url</th>\n",
       "    </tr>\n",
       "  </thead>\n",
       "  <tbody>\n",
       "    <tr>\n",
       "      <th>0</th>\n",
       "      <td>na</td>\n",
       "      <td>Kathleen Nott was born in Camberwell, London. ...</td>\n",
       "      <td>her</td>\n",
       "      <td>53</td>\n",
       "      <td>Ellen</td>\n",
       "      <td>110</td>\n",
       "      <td>na</td>\n",
       "    </tr>\n",
       "  </tbody>\n",
       "</table>\n",
       "</div>"
      ],
      "text/plain": [
       "   id                                               text pronoun  \\\n",
       "0  na  Kathleen Nott was born in Camberwell, London. ...     her   \n",
       "\n",
       "   pronoun_offset      a  a_offset url  \n",
       "0              53  Ellen       110  na  "
      ]
     },
     "metadata": {},
     "output_type": "display_data"
    },
    {
     "name": "stderr",
     "output_type": "stream",
     "text": [
      "Initializing Step InputReader\n",
      "Step InputReader initialized\n",
      "Initializing Step LabelSanitizer\n",
      "Step LabelSanitizer initialized\n",
      "Initializing Step MentionsAnnotator\n",
      "Step MentionsAnnotator initialized\n",
      "Initializing Step gather_step\n",
      "STEPPY WARNING: Step with name \"InputReader\", already exist. Make sure that all Steps have unique name.\n",
      "Step gather_step initialized\n",
      "Step gather_step, working in \"inference\" mode\n",
      "Step InputReader, working in \"inference\" mode\n",
      "Step InputReader, adapting inputs\n",
      "Step InputReader, transforming...\n",
      "Step InputReader, transforming completed\n",
      "Step InputReader, transform completed\n",
      "Step LabelSanitizer, working in \"inference\" mode\n",
      "Step LabelSanitizer, adapting inputs\n",
      "Step LabelSanitizer, transforming...\n",
      "Step LabelSanitizer, transforming completed\n",
      "Step LabelSanitizer, transform completed\n",
      "Step MentionsAnnotator, working in \"inference\" mode\n",
      "Step InputReader, working in \"inference\" mode\n",
      "Step InputReader, adapting inputs\n",
      "Step InputReader, transforming...\n",
      "Step InputReader, transforming completed\n",
      "Step InputReader, transform completed\n",
      "Step MentionsAnnotator, unpacking inputs\n",
      "Step MentionsAnnotator, transforming...\n"
     ]
    },
    {
     "name": "stdout",
     "output_type": "stream",
     "text": [
      "Transforming data to features.\n",
      "------BEFORE DATA PIPELINE------- results/probert\n",
      "Empty DataFrame\n",
      "Columns: [id, label]\n",
      "Index: []\n"
     ]
    },
    {
     "name": "stderr",
     "output_type": "stream",
     "text": [
      "Extracting coref clusters...: 100%|██████████| 1/1 [00:00<00:00, 828.75it/s]\n",
      "Step MentionsAnnotator, transforming completed\n",
      "Step MentionsAnnotator, transform completed\n",
      "Step gather_step, adapting inputs\n",
      "Step gather_step, transforming...\n",
      "Step gather_step, transforming completed\n",
      "Step gather_step, transform completed\n"
     ]
    },
    {
     "name": "stdout",
     "output_type": "stream",
     "text": [
      "Transforming data to features done.\n",
      " Log a couple of examples for sanity check.\n",
      "\n"
     ]
    },
    {
     "name": "stderr",
     "output_type": "stream",
     "text": [
      "Convert Examples to features: 1it [00:00, 294.79it/s]\n",
      "Evaluating:   0%|          | 0/1 [00:00<?, ?it/s]/dccstor/media-bias-4374/gender-ambiguity-detectors/gap/models/gap/probert.py:35: UserWarning: indexing with dtype torch.uint8 is now deprecated, please use a dtype torch.bool instead. (Triggered internally at  ../aten/src/ATen/native/IndexingUtils.h:28.)\n",
      "  sequence_output = sequence_output[~gpr_tags_mask].view(batch_size, -1, self.config.hidden_size)\n",
      "Evaluating: 100%|██████████| 1/1 [00:04<00:00,  4.34s/it]"
     ]
    },
    {
     "name": "stdout",
     "output_type": "stream",
     "text": [
      "[0.01190581 0.98809415]\n",
      "Known pronoun 'her' resolves 'False' to 'Ellen' with a probability of '0.98809415102005'\n"
     ]
    },
    {
     "name": "stderr",
     "output_type": "stream",
     "text": [
      "\n"
     ]
    },
    {
     "data": {
      "text/html": [
       "<div>\n",
       "<style scoped>\n",
       "    .dataframe tbody tr th:only-of-type {\n",
       "        vertical-align: middle;\n",
       "    }\n",
       "\n",
       "    .dataframe tbody tr th {\n",
       "        vertical-align: top;\n",
       "    }\n",
       "\n",
       "    .dataframe thead th {\n",
       "        text-align: right;\n",
       "    }\n",
       "</style>\n",
       "<table border=\"1\" class=\"dataframe\">\n",
       "  <thead>\n",
       "    <tr style=\"text-align: right;\">\n",
       "      <th></th>\n",
       "      <th>id</th>\n",
       "      <th>text</th>\n",
       "      <th>pronoun</th>\n",
       "      <th>pronoun_offset</th>\n",
       "      <th>a</th>\n",
       "      <th>a_offset</th>\n",
       "      <th>url</th>\n",
       "    </tr>\n",
       "  </thead>\n",
       "  <tbody>\n",
       "    <tr>\n",
       "      <th>0</th>\n",
       "      <td>na</td>\n",
       "      <td>Kathleen Nott was born in Camberwell, London. ...</td>\n",
       "      <td>her</td>\n",
       "      <td>53</td>\n",
       "      <td>Kathleen</td>\n",
       "      <td>0</td>\n",
       "      <td>na</td>\n",
       "    </tr>\n",
       "  </tbody>\n",
       "</table>\n",
       "</div>"
      ],
      "text/plain": [
       "   id                                               text pronoun  \\\n",
       "0  na  Kathleen Nott was born in Camberwell, London. ...     her   \n",
       "\n",
       "   pronoun_offset         a  a_offset url  \n",
       "0              53  Kathleen         0  na  "
      ]
     },
     "metadata": {},
     "output_type": "display_data"
    },
    {
     "name": "stderr",
     "output_type": "stream",
     "text": [
      "Initializing Step InputReader\n",
      "Step InputReader initialized\n",
      "Initializing Step LabelSanitizer\n",
      "Step LabelSanitizer initialized\n",
      "Initializing Step MentionsAnnotator\n",
      "Step MentionsAnnotator initialized\n",
      "Initializing Step gather_step\n",
      "STEPPY WARNING: Step with name \"InputReader\", already exist. Make sure that all Steps have unique name.\n",
      "Step gather_step initialized\n",
      "Step gather_step, working in \"inference\" mode\n",
      "Step InputReader, working in \"inference\" mode\n",
      "Step InputReader, adapting inputs\n",
      "Step InputReader, transforming...\n",
      "Step InputReader, transforming completed\n",
      "Step InputReader, transform completed\n",
      "Step LabelSanitizer, working in \"inference\" mode\n",
      "Step LabelSanitizer, adapting inputs\n",
      "Step LabelSanitizer, transforming...\n",
      "Step LabelSanitizer, transforming completed\n",
      "Step LabelSanitizer, transform completed\n",
      "Step MentionsAnnotator, working in \"inference\" mode\n",
      "Step InputReader, working in \"inference\" mode\n",
      "Step InputReader, adapting inputs\n",
      "Step InputReader, transforming...\n",
      "Step InputReader, transforming completed\n",
      "Step InputReader, transform completed\n",
      "Step MentionsAnnotator, unpacking inputs\n",
      "Step MentionsAnnotator, transforming...\n"
     ]
    },
    {
     "name": "stdout",
     "output_type": "stream",
     "text": [
      "Transforming data to features.\n",
      "------BEFORE DATA PIPELINE------- results/probert\n",
      "Empty DataFrame\n",
      "Columns: [id, label]\n",
      "Index: []\n"
     ]
    },
    {
     "name": "stderr",
     "output_type": "stream",
     "text": [
      "Extracting coref clusters...: 100%|██████████| 1/1 [00:00<00:00, 746.18it/s]\n",
      "Step MentionsAnnotator, transforming completed\n",
      "Step MentionsAnnotator, transform completed\n",
      "Step gather_step, adapting inputs\n",
      "Step gather_step, transforming...\n",
      "Step gather_step, transforming completed\n",
      "Step gather_step, transform completed\n"
     ]
    },
    {
     "name": "stdout",
     "output_type": "stream",
     "text": [
      "Transforming data to features done.\n",
      " Log a couple of examples for sanity check.\n",
      "\n"
     ]
    },
    {
     "name": "stderr",
     "output_type": "stream",
     "text": [
      "Convert Examples to features: 1it [00:00, 310.21it/s]\n",
      "Evaluating:   0%|          | 0/1 [00:00<?, ?it/s]/dccstor/media-bias-4374/gender-ambiguity-detectors/gap/models/gap/probert.py:35: UserWarning: indexing with dtype torch.uint8 is now deprecated, please use a dtype torch.bool instead. (Triggered internally at  ../aten/src/ATen/native/IndexingUtils.h:28.)\n",
      "  sequence_output = sequence_output[~gpr_tags_mask].view(batch_size, -1, self.config.hidden_size)\n",
      "Evaluating: 100%|██████████| 1/1 [00:04<00:00,  4.26s/it]"
     ]
    },
    {
     "name": "stdout",
     "output_type": "stream",
     "text": [
      "[0.7393324  0.26066762]\n",
      "Known pronoun 'her' resolves 'True' to 'Kathleen' with a probability of '0.739332377910614'\n"
     ]
    },
    {
     "name": "stderr",
     "output_type": "stream",
     "text": [
      "\n"
     ]
    },
    {
     "data": {
      "text/html": [
       "<div>\n",
       "<style scoped>\n",
       "    .dataframe tbody tr th:only-of-type {\n",
       "        vertical-align: middle;\n",
       "    }\n",
       "\n",
       "    .dataframe tbody tr th {\n",
       "        vertical-align: top;\n",
       "    }\n",
       "\n",
       "    .dataframe thead th {\n",
       "        text-align: right;\n",
       "    }\n",
       "</style>\n",
       "<table border=\"1\" class=\"dataframe\">\n",
       "  <thead>\n",
       "    <tr style=\"text-align: right;\">\n",
       "      <th></th>\n",
       "      <th>id</th>\n",
       "      <th>text</th>\n",
       "      <th>pronoun</th>\n",
       "      <th>pronoun_offset</th>\n",
       "      <th>a</th>\n",
       "      <th>a_offset</th>\n",
       "      <th>url</th>\n",
       "    </tr>\n",
       "  </thead>\n",
       "  <tbody>\n",
       "    <tr>\n",
       "      <th>0</th>\n",
       "      <td>na</td>\n",
       "      <td>Kathleen Nott was born in Camberwell, London. ...</td>\n",
       "      <td>her</td>\n",
       "      <td>53</td>\n",
       "      <td>Kathleen</td>\n",
       "      <td>150</td>\n",
       "      <td>na</td>\n",
       "    </tr>\n",
       "  </tbody>\n",
       "</table>\n",
       "</div>"
      ],
      "text/plain": [
       "   id                                               text pronoun  \\\n",
       "0  na  Kathleen Nott was born in Camberwell, London. ...     her   \n",
       "\n",
       "   pronoun_offset         a  a_offset url  \n",
       "0              53  Kathleen       150  na  "
      ]
     },
     "metadata": {},
     "output_type": "display_data"
    },
    {
     "name": "stderr",
     "output_type": "stream",
     "text": [
      "Initializing Step InputReader\n",
      "Step InputReader initialized\n",
      "Initializing Step LabelSanitizer\n",
      "Step LabelSanitizer initialized\n",
      "Initializing Step MentionsAnnotator\n",
      "Step MentionsAnnotator initialized\n",
      "Initializing Step gather_step\n",
      "STEPPY WARNING: Step with name \"InputReader\", already exist. Make sure that all Steps have unique name.\n",
      "Step gather_step initialized\n",
      "Step gather_step, working in \"inference\" mode\n",
      "Step InputReader, working in \"inference\" mode\n",
      "Step InputReader, adapting inputs\n",
      "Step InputReader, transforming...\n",
      "Step InputReader, transforming completed\n",
      "Step InputReader, transform completed\n",
      "Step LabelSanitizer, working in \"inference\" mode\n",
      "Step LabelSanitizer, adapting inputs\n",
      "Step LabelSanitizer, transforming...\n",
      "Step LabelSanitizer, transforming completed\n",
      "Step LabelSanitizer, transform completed\n",
      "Step MentionsAnnotator, working in \"inference\" mode\n",
      "Step InputReader, working in \"inference\" mode\n",
      "Step InputReader, adapting inputs\n",
      "Step InputReader, transforming...\n",
      "Step InputReader, transforming completed\n",
      "Step InputReader, transform completed\n",
      "Step MentionsAnnotator, unpacking inputs\n",
      "Step MentionsAnnotator, transforming...\n"
     ]
    },
    {
     "name": "stdout",
     "output_type": "stream",
     "text": [
      "Transforming data to features.\n",
      "------BEFORE DATA PIPELINE------- results/probert\n",
      "Empty DataFrame\n",
      "Columns: [id, label]\n",
      "Index: []\n"
     ]
    },
    {
     "name": "stderr",
     "output_type": "stream",
     "text": [
      "Extracting coref clusters...: 100%|██████████| 1/1 [00:00<00:00, 652.40it/s]\n",
      "Step MentionsAnnotator, transforming completed\n",
      "Step MentionsAnnotator, transform completed\n",
      "Step gather_step, adapting inputs\n",
      "Step gather_step, transforming...\n",
      "Step gather_step, transforming completed\n",
      "Step gather_step, transform completed\n"
     ]
    },
    {
     "name": "stdout",
     "output_type": "stream",
     "text": [
      "Transforming data to features done.\n",
      " Log a couple of examples for sanity check.\n",
      "\n"
     ]
    },
    {
     "name": "stderr",
     "output_type": "stream",
     "text": [
      "Convert Examples to features: 1it [00:00, 314.51it/s]\n",
      "Evaluating:   0%|          | 0/1 [00:00<?, ?it/s]/dccstor/media-bias-4374/gender-ambiguity-detectors/gap/models/gap/probert.py:35: UserWarning: indexing with dtype torch.uint8 is now deprecated, please use a dtype torch.bool instead. (Triggered internally at  ../aten/src/ATen/native/IndexingUtils.h:28.)\n",
      "  sequence_output = sequence_output[~gpr_tags_mask].view(batch_size, -1, self.config.hidden_size)\n",
      "Evaluating: 100%|██████████| 1/1 [00:04<00:00,  4.33s/it]"
     ]
    },
    {
     "name": "stdout",
     "output_type": "stream",
     "text": [
      "[0.05004372 0.9499563 ]\n",
      "Known pronoun 'her' resolves 'False' to 'Kathleen' with a probability of '0.9499562978744507'\n"
     ]
    },
    {
     "name": "stderr",
     "output_type": "stream",
     "text": [
      "\n"
     ]
    },
    {
     "data": {
      "text/html": [
       "<div>\n",
       "<style scoped>\n",
       "    .dataframe tbody tr th:only-of-type {\n",
       "        vertical-align: middle;\n",
       "    }\n",
       "\n",
       "    .dataframe tbody tr th {\n",
       "        vertical-align: top;\n",
       "    }\n",
       "\n",
       "    .dataframe thead th {\n",
       "        text-align: right;\n",
       "    }\n",
       "</style>\n",
       "<table border=\"1\" class=\"dataframe\">\n",
       "  <thead>\n",
       "    <tr style=\"text-align: right;\">\n",
       "      <th></th>\n",
       "      <th>id</th>\n",
       "      <th>text</th>\n",
       "      <th>pronoun</th>\n",
       "      <th>pronoun_offset</th>\n",
       "      <th>a</th>\n",
       "      <th>a_offset</th>\n",
       "      <th>url</th>\n",
       "    </tr>\n",
       "  </thead>\n",
       "  <tbody>\n",
       "    <tr>\n",
       "      <th>0</th>\n",
       "      <td>na</td>\n",
       "      <td>Kathleen Nott was born in Camberwell, London. ...</td>\n",
       "      <td>her</td>\n",
       "      <td>98</td>\n",
       "      <td>Kathleen Nott</td>\n",
       "      <td>0</td>\n",
       "      <td>na</td>\n",
       "    </tr>\n",
       "  </tbody>\n",
       "</table>\n",
       "</div>"
      ],
      "text/plain": [
       "   id                                               text pronoun  \\\n",
       "0  na  Kathleen Nott was born in Camberwell, London. ...     her   \n",
       "\n",
       "   pronoun_offset              a  a_offset url  \n",
       "0              98  Kathleen Nott         0  na  "
      ]
     },
     "metadata": {},
     "output_type": "display_data"
    },
    {
     "name": "stderr",
     "output_type": "stream",
     "text": [
      "Initializing Step InputReader\n",
      "Step InputReader initialized\n",
      "Initializing Step LabelSanitizer\n",
      "Step LabelSanitizer initialized\n",
      "Initializing Step MentionsAnnotator\n",
      "Step MentionsAnnotator initialized\n",
      "Initializing Step gather_step\n",
      "STEPPY WARNING: Step with name \"InputReader\", already exist. Make sure that all Steps have unique name.\n",
      "Step gather_step initialized\n",
      "Step gather_step, working in \"inference\" mode\n",
      "Step InputReader, working in \"inference\" mode\n",
      "Step InputReader, adapting inputs\n",
      "Step InputReader, transforming...\n",
      "Step InputReader, transforming completed\n",
      "Step InputReader, transform completed\n",
      "Step LabelSanitizer, working in \"inference\" mode\n",
      "Step LabelSanitizer, adapting inputs\n",
      "Step LabelSanitizer, transforming...\n",
      "Step LabelSanitizer, transforming completed\n",
      "Step LabelSanitizer, transform completed\n",
      "Step MentionsAnnotator, working in \"inference\" mode\n",
      "Step InputReader, working in \"inference\" mode\n",
      "Step InputReader, adapting inputs\n",
      "Step InputReader, transforming...\n",
      "Step InputReader, transforming completed\n",
      "Step InputReader, transform completed\n",
      "Step MentionsAnnotator, unpacking inputs\n",
      "Step MentionsAnnotator, transforming...\n"
     ]
    },
    {
     "name": "stdout",
     "output_type": "stream",
     "text": [
      "Transforming data to features.\n",
      "------BEFORE DATA PIPELINE------- results/probert\n",
      "Empty DataFrame\n",
      "Columns: [id, label]\n",
      "Index: []\n"
     ]
    },
    {
     "name": "stderr",
     "output_type": "stream",
     "text": [
      "Extracting coref clusters...: 100%|██████████| 1/1 [00:00<00:00, 791.23it/s]\n",
      "Step MentionsAnnotator, transforming completed\n",
      "Step MentionsAnnotator, transform completed\n",
      "Step gather_step, adapting inputs\n",
      "Step gather_step, transforming...\n",
      "Step gather_step, transforming completed\n",
      "Step gather_step, transform completed\n"
     ]
    },
    {
     "name": "stdout",
     "output_type": "stream",
     "text": [
      "Transforming data to features done.\n",
      " Log a couple of examples for sanity check.\n",
      "\n"
     ]
    },
    {
     "name": "stderr",
     "output_type": "stream",
     "text": [
      "Convert Examples to features: 1it [00:00, 317.77it/s]\n",
      "Evaluating:   0%|          | 0/1 [00:00<?, ?it/s]/dccstor/media-bias-4374/gender-ambiguity-detectors/gap/models/gap/probert.py:35: UserWarning: indexing with dtype torch.uint8 is now deprecated, please use a dtype torch.bool instead. (Triggered internally at  ../aten/src/ATen/native/IndexingUtils.h:28.)\n",
      "  sequence_output = sequence_output[~gpr_tags_mask].view(batch_size, -1, self.config.hidden_size)\n",
      "Evaluating: 100%|██████████| 1/1 [00:04<00:00,  4.34s/it]"
     ]
    },
    {
     "name": "stdout",
     "output_type": "stream",
     "text": [
      "[0.9970066  0.00299338]\n",
      "Known pronoun 'her' resolves 'True' to 'Kathleen Nott' with a probability of '0.9970065951347351'\n"
     ]
    },
    {
     "name": "stderr",
     "output_type": "stream",
     "text": [
      "\n"
     ]
    },
    {
     "data": {
      "text/html": [
       "<div>\n",
       "<style scoped>\n",
       "    .dataframe tbody tr th:only-of-type {\n",
       "        vertical-align: middle;\n",
       "    }\n",
       "\n",
       "    .dataframe tbody tr th {\n",
       "        vertical-align: top;\n",
       "    }\n",
       "\n",
       "    .dataframe thead th {\n",
       "        text-align: right;\n",
       "    }\n",
       "</style>\n",
       "<table border=\"1\" class=\"dataframe\">\n",
       "  <thead>\n",
       "    <tr style=\"text-align: right;\">\n",
       "      <th></th>\n",
       "      <th>id</th>\n",
       "      <th>text</th>\n",
       "      <th>pronoun</th>\n",
       "      <th>pronoun_offset</th>\n",
       "      <th>a</th>\n",
       "      <th>a_offset</th>\n",
       "      <th>url</th>\n",
       "    </tr>\n",
       "  </thead>\n",
       "  <tbody>\n",
       "    <tr>\n",
       "      <th>0</th>\n",
       "      <td>na</td>\n",
       "      <td>Kathleen Nott was born in Camberwell, London. ...</td>\n",
       "      <td>her</td>\n",
       "      <td>98</td>\n",
       "      <td>Philip</td>\n",
       "      <td>58</td>\n",
       "      <td>na</td>\n",
       "    </tr>\n",
       "  </tbody>\n",
       "</table>\n",
       "</div>"
      ],
      "text/plain": [
       "   id                                               text pronoun  \\\n",
       "0  na  Kathleen Nott was born in Camberwell, London. ...     her   \n",
       "\n",
       "   pronoun_offset       a  a_offset url  \n",
       "0              98  Philip        58  na  "
      ]
     },
     "metadata": {},
     "output_type": "display_data"
    },
    {
     "name": "stderr",
     "output_type": "stream",
     "text": [
      "Initializing Step InputReader\n",
      "Step InputReader initialized\n",
      "Initializing Step LabelSanitizer\n",
      "Step LabelSanitizer initialized\n",
      "Initializing Step MentionsAnnotator\n",
      "Step MentionsAnnotator initialized\n",
      "Initializing Step gather_step\n",
      "STEPPY WARNING: Step with name \"InputReader\", already exist. Make sure that all Steps have unique name.\n",
      "Step gather_step initialized\n",
      "Step gather_step, working in \"inference\" mode\n",
      "Step InputReader, working in \"inference\" mode\n",
      "Step InputReader, adapting inputs\n",
      "Step InputReader, transforming...\n",
      "Step InputReader, transforming completed\n",
      "Step InputReader, transform completed\n",
      "Step LabelSanitizer, working in \"inference\" mode\n",
      "Step LabelSanitizer, adapting inputs\n",
      "Step LabelSanitizer, transforming...\n",
      "Step LabelSanitizer, transforming completed\n",
      "Step LabelSanitizer, transform completed\n",
      "Step MentionsAnnotator, working in \"inference\" mode\n",
      "Step InputReader, working in \"inference\" mode\n",
      "Step InputReader, adapting inputs\n",
      "Step InputReader, transforming...\n",
      "Step InputReader, transforming completed\n",
      "Step InputReader, transform completed\n",
      "Step MentionsAnnotator, unpacking inputs\n",
      "Step MentionsAnnotator, transforming...\n"
     ]
    },
    {
     "name": "stdout",
     "output_type": "stream",
     "text": [
      "Transforming data to features.\n",
      "------BEFORE DATA PIPELINE------- results/probert\n",
      "Empty DataFrame\n",
      "Columns: [id, label]\n",
      "Index: []\n"
     ]
    },
    {
     "name": "stderr",
     "output_type": "stream",
     "text": [
      "Extracting coref clusters...: 100%|██████████| 1/1 [00:00<00:00, 750.46it/s]\n",
      "Step MentionsAnnotator, transforming completed\n",
      "Step MentionsAnnotator, transform completed\n",
      "Step gather_step, adapting inputs\n",
      "Step gather_step, transforming...\n",
      "Step gather_step, transforming completed\n",
      "Step gather_step, transform completed\n"
     ]
    },
    {
     "name": "stdout",
     "output_type": "stream",
     "text": [
      "Transforming data to features done.\n",
      " Log a couple of examples for sanity check.\n",
      "\n"
     ]
    },
    {
     "name": "stderr",
     "output_type": "stream",
     "text": [
      "Convert Examples to features: 1it [00:00, 283.34it/s]\n",
      "Evaluating:   0%|          | 0/1 [00:00<?, ?it/s]/dccstor/media-bias-4374/gender-ambiguity-detectors/gap/models/gap/probert.py:35: UserWarning: indexing with dtype torch.uint8 is now deprecated, please use a dtype torch.bool instead. (Triggered internally at  ../aten/src/ATen/native/IndexingUtils.h:28.)\n",
      "  sequence_output = sequence_output[~gpr_tags_mask].view(batch_size, -1, self.config.hidden_size)\n",
      "Evaluating: 100%|██████████| 1/1 [00:04<00:00,  4.37s/it]"
     ]
    },
    {
     "name": "stdout",
     "output_type": "stream",
     "text": [
      "[0.01363188 0.9863681 ]\n",
      "Known pronoun 'her' resolves 'False' to 'Philip' with a probability of '0.9863681197166443'\n"
     ]
    },
    {
     "name": "stderr",
     "output_type": "stream",
     "text": [
      "\n"
     ]
    },
    {
     "data": {
      "text/html": [
       "<div>\n",
       "<style scoped>\n",
       "    .dataframe tbody tr th:only-of-type {\n",
       "        vertical-align: middle;\n",
       "    }\n",
       "\n",
       "    .dataframe tbody tr th {\n",
       "        vertical-align: top;\n",
       "    }\n",
       "\n",
       "    .dataframe thead th {\n",
       "        text-align: right;\n",
       "    }\n",
       "</style>\n",
       "<table border=\"1\" class=\"dataframe\">\n",
       "  <thead>\n",
       "    <tr style=\"text-align: right;\">\n",
       "      <th></th>\n",
       "      <th>id</th>\n",
       "      <th>text</th>\n",
       "      <th>pronoun</th>\n",
       "      <th>pronoun_offset</th>\n",
       "      <th>a</th>\n",
       "      <th>a_offset</th>\n",
       "      <th>url</th>\n",
       "    </tr>\n",
       "  </thead>\n",
       "  <tbody>\n",
       "    <tr>\n",
       "      <th>0</th>\n",
       "      <td>na</td>\n",
       "      <td>Kathleen Nott was born in Camberwell, London. ...</td>\n",
       "      <td>her</td>\n",
       "      <td>98</td>\n",
       "      <td>Ellen</td>\n",
       "      <td>110</td>\n",
       "      <td>na</td>\n",
       "    </tr>\n",
       "  </tbody>\n",
       "</table>\n",
       "</div>"
      ],
      "text/plain": [
       "   id                                               text pronoun  \\\n",
       "0  na  Kathleen Nott was born in Camberwell, London. ...     her   \n",
       "\n",
       "   pronoun_offset      a  a_offset url  \n",
       "0              98  Ellen       110  na  "
      ]
     },
     "metadata": {},
     "output_type": "display_data"
    },
    {
     "name": "stderr",
     "output_type": "stream",
     "text": [
      "Initializing Step InputReader\n",
      "Step InputReader initialized\n",
      "Initializing Step LabelSanitizer\n",
      "Step LabelSanitizer initialized\n",
      "Initializing Step MentionsAnnotator\n",
      "Step MentionsAnnotator initialized\n",
      "Initializing Step gather_step\n",
      "STEPPY WARNING: Step with name \"InputReader\", already exist. Make sure that all Steps have unique name.\n",
      "Step gather_step initialized\n",
      "Step gather_step, working in \"inference\" mode\n",
      "Step InputReader, working in \"inference\" mode\n",
      "Step InputReader, adapting inputs\n",
      "Step InputReader, transforming...\n",
      "Step InputReader, transforming completed\n",
      "Step InputReader, transform completed\n",
      "Step LabelSanitizer, working in \"inference\" mode\n",
      "Step LabelSanitizer, adapting inputs\n",
      "Step LabelSanitizer, transforming...\n",
      "Step LabelSanitizer, transforming completed\n",
      "Step LabelSanitizer, transform completed\n",
      "Step MentionsAnnotator, working in \"inference\" mode\n",
      "Step InputReader, working in \"inference\" mode\n",
      "Step InputReader, adapting inputs\n",
      "Step InputReader, transforming...\n",
      "Step InputReader, transforming completed\n",
      "Step InputReader, transform completed\n",
      "Step MentionsAnnotator, unpacking inputs\n",
      "Step MentionsAnnotator, transforming...\n"
     ]
    },
    {
     "name": "stdout",
     "output_type": "stream",
     "text": [
      "Transforming data to features.\n",
      "------BEFORE DATA PIPELINE------- results/probert\n",
      "Empty DataFrame\n",
      "Columns: [id, label]\n",
      "Index: []\n"
     ]
    },
    {
     "name": "stderr",
     "output_type": "stream",
     "text": [
      "Extracting coref clusters...: 100%|██████████| 1/1 [00:00<00:00, 704.93it/s]\n",
      "Step MentionsAnnotator, transforming completed\n",
      "Step MentionsAnnotator, transform completed\n",
      "Step gather_step, adapting inputs\n",
      "Step gather_step, transforming...\n",
      "Step gather_step, transforming completed\n",
      "Step gather_step, transform completed\n"
     ]
    },
    {
     "name": "stdout",
     "output_type": "stream",
     "text": [
      "Transforming data to features done.\n",
      " Log a couple of examples for sanity check.\n",
      "\n"
     ]
    },
    {
     "name": "stderr",
     "output_type": "stream",
     "text": [
      "Convert Examples to features: 1it [00:00, 304.53it/s]\n",
      "Evaluating:   0%|          | 0/1 [00:00<?, ?it/s]/dccstor/media-bias-4374/gender-ambiguity-detectors/gap/models/gap/probert.py:35: UserWarning: indexing with dtype torch.uint8 is now deprecated, please use a dtype torch.bool instead. (Triggered internally at  ../aten/src/ATen/native/IndexingUtils.h:28.)\n",
      "  sequence_output = sequence_output[~gpr_tags_mask].view(batch_size, -1, self.config.hidden_size)\n",
      "Evaluating: 100%|██████████| 1/1 [00:04<00:00,  4.29s/it]"
     ]
    },
    {
     "name": "stdout",
     "output_type": "stream",
     "text": [
      "[0.00573378 0.9942662 ]\n",
      "Known pronoun 'her' resolves 'False' to 'Ellen' with a probability of '0.9942662119865417'\n"
     ]
    },
    {
     "name": "stderr",
     "output_type": "stream",
     "text": [
      "\n"
     ]
    },
    {
     "data": {
      "text/html": [
       "<div>\n",
       "<style scoped>\n",
       "    .dataframe tbody tr th:only-of-type {\n",
       "        vertical-align: middle;\n",
       "    }\n",
       "\n",
       "    .dataframe tbody tr th {\n",
       "        vertical-align: top;\n",
       "    }\n",
       "\n",
       "    .dataframe thead th {\n",
       "        text-align: right;\n",
       "    }\n",
       "</style>\n",
       "<table border=\"1\" class=\"dataframe\">\n",
       "  <thead>\n",
       "    <tr style=\"text-align: right;\">\n",
       "      <th></th>\n",
       "      <th>id</th>\n",
       "      <th>text</th>\n",
       "      <th>pronoun</th>\n",
       "      <th>pronoun_offset</th>\n",
       "      <th>a</th>\n",
       "      <th>a_offset</th>\n",
       "      <th>url</th>\n",
       "    </tr>\n",
       "  </thead>\n",
       "  <tbody>\n",
       "    <tr>\n",
       "      <th>0</th>\n",
       "      <td>na</td>\n",
       "      <td>Kathleen Nott was born in Camberwell, London. ...</td>\n",
       "      <td>her</td>\n",
       "      <td>98</td>\n",
       "      <td>Kathleen</td>\n",
       "      <td>0</td>\n",
       "      <td>na</td>\n",
       "    </tr>\n",
       "  </tbody>\n",
       "</table>\n",
       "</div>"
      ],
      "text/plain": [
       "   id                                               text pronoun  \\\n",
       "0  na  Kathleen Nott was born in Camberwell, London. ...     her   \n",
       "\n",
       "   pronoun_offset         a  a_offset url  \n",
       "0              98  Kathleen         0  na  "
      ]
     },
     "metadata": {},
     "output_type": "display_data"
    },
    {
     "name": "stderr",
     "output_type": "stream",
     "text": [
      "Initializing Step InputReader\n",
      "Step InputReader initialized\n",
      "Initializing Step LabelSanitizer\n",
      "Step LabelSanitizer initialized\n",
      "Initializing Step MentionsAnnotator\n",
      "Step MentionsAnnotator initialized\n",
      "Initializing Step gather_step\n",
      "STEPPY WARNING: Step with name \"InputReader\", already exist. Make sure that all Steps have unique name.\n",
      "Step gather_step initialized\n",
      "Step gather_step, working in \"inference\" mode\n",
      "Step InputReader, working in \"inference\" mode\n",
      "Step InputReader, adapting inputs\n",
      "Step InputReader, transforming...\n",
      "Step InputReader, transforming completed\n",
      "Step InputReader, transform completed\n",
      "Step LabelSanitizer, working in \"inference\" mode\n",
      "Step LabelSanitizer, adapting inputs\n",
      "Step LabelSanitizer, transforming...\n",
      "Step LabelSanitizer, transforming completed\n",
      "Step LabelSanitizer, transform completed\n",
      "Step MentionsAnnotator, working in \"inference\" mode\n",
      "Step InputReader, working in \"inference\" mode\n",
      "Step InputReader, adapting inputs\n",
      "Step InputReader, transforming...\n",
      "Step InputReader, transforming completed\n",
      "Step InputReader, transform completed\n",
      "Step MentionsAnnotator, unpacking inputs\n",
      "Step MentionsAnnotator, transforming...\n"
     ]
    },
    {
     "name": "stdout",
     "output_type": "stream",
     "text": [
      "Transforming data to features.\n",
      "------BEFORE DATA PIPELINE------- results/probert\n",
      "Empty DataFrame\n",
      "Columns: [id, label]\n",
      "Index: []\n"
     ]
    },
    {
     "name": "stderr",
     "output_type": "stream",
     "text": [
      "Extracting coref clusters...: 100%|██████████| 1/1 [00:00<00:00, 790.63it/s]\n",
      "Step MentionsAnnotator, transforming completed\n",
      "Step MentionsAnnotator, transform completed\n",
      "Step gather_step, adapting inputs\n",
      "Step gather_step, transforming...\n",
      "Step gather_step, transforming completed\n",
      "Step gather_step, transform completed\n"
     ]
    },
    {
     "name": "stdout",
     "output_type": "stream",
     "text": [
      "Transforming data to features done.\n",
      " Log a couple of examples for sanity check.\n",
      "\n"
     ]
    },
    {
     "name": "stderr",
     "output_type": "stream",
     "text": [
      "Convert Examples to features: 1it [00:00, 314.46it/s]\n",
      "Evaluating:   0%|          | 0/1 [00:00<?, ?it/s]/dccstor/media-bias-4374/gender-ambiguity-detectors/gap/models/gap/probert.py:35: UserWarning: indexing with dtype torch.uint8 is now deprecated, please use a dtype torch.bool instead. (Triggered internally at  ../aten/src/ATen/native/IndexingUtils.h:28.)\n",
      "  sequence_output = sequence_output[~gpr_tags_mask].view(batch_size, -1, self.config.hidden_size)\n",
      "Evaluating: 100%|██████████| 1/1 [00:04<00:00,  4.35s/it]"
     ]
    },
    {
     "name": "stdout",
     "output_type": "stream",
     "text": [
      "[0.9961505  0.00384949]\n",
      "Known pronoun 'her' resolves 'True' to 'Kathleen' with a probability of '0.9961504936218262'\n"
     ]
    },
    {
     "name": "stderr",
     "output_type": "stream",
     "text": [
      "\n"
     ]
    },
    {
     "data": {
      "text/html": [
       "<div>\n",
       "<style scoped>\n",
       "    .dataframe tbody tr th:only-of-type {\n",
       "        vertical-align: middle;\n",
       "    }\n",
       "\n",
       "    .dataframe tbody tr th {\n",
       "        vertical-align: top;\n",
       "    }\n",
       "\n",
       "    .dataframe thead th {\n",
       "        text-align: right;\n",
       "    }\n",
       "</style>\n",
       "<table border=\"1\" class=\"dataframe\">\n",
       "  <thead>\n",
       "    <tr style=\"text-align: right;\">\n",
       "      <th></th>\n",
       "      <th>id</th>\n",
       "      <th>text</th>\n",
       "      <th>pronoun</th>\n",
       "      <th>pronoun_offset</th>\n",
       "      <th>a</th>\n",
       "      <th>a_offset</th>\n",
       "      <th>url</th>\n",
       "    </tr>\n",
       "  </thead>\n",
       "  <tbody>\n",
       "    <tr>\n",
       "      <th>0</th>\n",
       "      <td>na</td>\n",
       "      <td>Kathleen Nott was born in Camberwell, London. ...</td>\n",
       "      <td>her</td>\n",
       "      <td>98</td>\n",
       "      <td>Kathleen</td>\n",
       "      <td>150</td>\n",
       "      <td>na</td>\n",
       "    </tr>\n",
       "  </tbody>\n",
       "</table>\n",
       "</div>"
      ],
      "text/plain": [
       "   id                                               text pronoun  \\\n",
       "0  na  Kathleen Nott was born in Camberwell, London. ...     her   \n",
       "\n",
       "   pronoun_offset         a  a_offset url  \n",
       "0              98  Kathleen       150  na  "
      ]
     },
     "metadata": {},
     "output_type": "display_data"
    },
    {
     "name": "stderr",
     "output_type": "stream",
     "text": [
      "Initializing Step InputReader\n",
      "Step InputReader initialized\n",
      "Initializing Step LabelSanitizer\n",
      "Step LabelSanitizer initialized\n",
      "Initializing Step MentionsAnnotator\n",
      "Step MentionsAnnotator initialized\n",
      "Initializing Step gather_step\n",
      "STEPPY WARNING: Step with name \"InputReader\", already exist. Make sure that all Steps have unique name.\n",
      "Step gather_step initialized\n",
      "Step gather_step, working in \"inference\" mode\n",
      "Step InputReader, working in \"inference\" mode\n",
      "Step InputReader, adapting inputs\n",
      "Step InputReader, transforming...\n",
      "Step InputReader, transforming completed\n",
      "Step InputReader, transform completed\n",
      "Step LabelSanitizer, working in \"inference\" mode\n",
      "Step LabelSanitizer, adapting inputs\n",
      "Step LabelSanitizer, transforming...\n",
      "Step LabelSanitizer, transforming completed\n",
      "Step LabelSanitizer, transform completed\n",
      "Step MentionsAnnotator, working in \"inference\" mode\n",
      "Step InputReader, working in \"inference\" mode\n",
      "Step InputReader, adapting inputs\n",
      "Step InputReader, transforming...\n",
      "Step InputReader, transforming completed\n",
      "Step InputReader, transform completed\n",
      "Step MentionsAnnotator, unpacking inputs\n",
      "Step MentionsAnnotator, transforming...\n"
     ]
    },
    {
     "name": "stdout",
     "output_type": "stream",
     "text": [
      "Transforming data to features.\n",
      "------BEFORE DATA PIPELINE------- results/probert\n",
      "Empty DataFrame\n",
      "Columns: [id, label]\n",
      "Index: []\n"
     ]
    },
    {
     "name": "stderr",
     "output_type": "stream",
     "text": [
      "Extracting coref clusters...: 100%|██████████| 1/1 [00:00<00:00, 597.91it/s]\n",
      "Step MentionsAnnotator, transforming completed\n",
      "Step MentionsAnnotator, transform completed\n",
      "Step gather_step, adapting inputs\n",
      "Step gather_step, transforming...\n",
      "Step gather_step, transforming completed\n",
      "Step gather_step, transform completed\n"
     ]
    },
    {
     "name": "stdout",
     "output_type": "stream",
     "text": [
      "Transforming data to features done.\n",
      " Log a couple of examples for sanity check.\n",
      "\n"
     ]
    },
    {
     "name": "stderr",
     "output_type": "stream",
     "text": [
      "Convert Examples to features: 1it [00:00, 276.18it/s]\n",
      "Evaluating:   0%|          | 0/1 [00:00<?, ?it/s]/dccstor/media-bias-4374/gender-ambiguity-detectors/gap/models/gap/probert.py:35: UserWarning: indexing with dtype torch.uint8 is now deprecated, please use a dtype torch.bool instead. (Triggered internally at  ../aten/src/ATen/native/IndexingUtils.h:28.)\n",
      "  sequence_output = sequence_output[~gpr_tags_mask].view(batch_size, -1, self.config.hidden_size)\n",
      "Evaluating: 100%|██████████| 1/1 [00:04<00:00,  4.26s/it]"
     ]
    },
    {
     "name": "stdout",
     "output_type": "stream",
     "text": [
      "[0.02538522 0.9746148 ]\n",
      "Known pronoun 'her' resolves 'False' to 'Kathleen' with a probability of '0.9746147990226746'\n"
     ]
    },
    {
     "name": "stderr",
     "output_type": "stream",
     "text": [
      "\n"
     ]
    },
    {
     "data": {
      "text/html": [
       "<div>\n",
       "<style scoped>\n",
       "    .dataframe tbody tr th:only-of-type {\n",
       "        vertical-align: middle;\n",
       "    }\n",
       "\n",
       "    .dataframe tbody tr th {\n",
       "        vertical-align: top;\n",
       "    }\n",
       "\n",
       "    .dataframe thead th {\n",
       "        text-align: right;\n",
       "    }\n",
       "</style>\n",
       "<table border=\"1\" class=\"dataframe\">\n",
       "  <thead>\n",
       "    <tr style=\"text-align: right;\">\n",
       "      <th></th>\n",
       "      <th>id</th>\n",
       "      <th>text</th>\n",
       "      <th>pronoun</th>\n",
       "      <th>pronoun_offset</th>\n",
       "      <th>a</th>\n",
       "      <th>a_offset</th>\n",
       "      <th>url</th>\n",
       "    </tr>\n",
       "  </thead>\n",
       "  <tbody>\n",
       "    <tr>\n",
       "      <th>0</th>\n",
       "      <td>na</td>\n",
       "      <td>Kathleen Nott was born in Camberwell, London. ...</td>\n",
       "      <td>her</td>\n",
       "      <td>105</td>\n",
       "      <td>Kathleen Nott</td>\n",
       "      <td>0</td>\n",
       "      <td>na</td>\n",
       "    </tr>\n",
       "  </tbody>\n",
       "</table>\n",
       "</div>"
      ],
      "text/plain": [
       "   id                                               text pronoun  \\\n",
       "0  na  Kathleen Nott was born in Camberwell, London. ...     her   \n",
       "\n",
       "   pronoun_offset              a  a_offset url  \n",
       "0             105  Kathleen Nott         0  na  "
      ]
     },
     "metadata": {},
     "output_type": "display_data"
    },
    {
     "name": "stderr",
     "output_type": "stream",
     "text": [
      "Initializing Step InputReader\n",
      "Step InputReader initialized\n",
      "Initializing Step LabelSanitizer\n",
      "Step LabelSanitizer initialized\n",
      "Initializing Step MentionsAnnotator\n",
      "Step MentionsAnnotator initialized\n",
      "Initializing Step gather_step\n",
      "STEPPY WARNING: Step with name \"InputReader\", already exist. Make sure that all Steps have unique name.\n",
      "Step gather_step initialized\n",
      "Step gather_step, working in \"inference\" mode\n",
      "Step InputReader, working in \"inference\" mode\n",
      "Step InputReader, adapting inputs\n",
      "Step InputReader, transforming...\n",
      "Step InputReader, transforming completed\n",
      "Step InputReader, transform completed\n",
      "Step LabelSanitizer, working in \"inference\" mode\n",
      "Step LabelSanitizer, adapting inputs\n",
      "Step LabelSanitizer, transforming...\n",
      "Step LabelSanitizer, transforming completed\n",
      "Step LabelSanitizer, transform completed\n",
      "Step MentionsAnnotator, working in \"inference\" mode\n",
      "Step InputReader, working in \"inference\" mode\n",
      "Step InputReader, adapting inputs\n",
      "Step InputReader, transforming...\n",
      "Step InputReader, transforming completed\n",
      "Step InputReader, transform completed\n",
      "Step MentionsAnnotator, unpacking inputs\n",
      "Step MentionsAnnotator, transforming...\n"
     ]
    },
    {
     "name": "stdout",
     "output_type": "stream",
     "text": [
      "Transforming data to features.\n",
      "------BEFORE DATA PIPELINE------- results/probert\n",
      "Empty DataFrame\n",
      "Columns: [id, label]\n",
      "Index: []\n"
     ]
    },
    {
     "name": "stderr",
     "output_type": "stream",
     "text": [
      "Extracting coref clusters...: 100%|██████████| 1/1 [00:00<00:00, 781.50it/s]\n",
      "Step MentionsAnnotator, transforming completed\n",
      "Step MentionsAnnotator, transform completed\n",
      "Step gather_step, adapting inputs\n",
      "Step gather_step, transforming...\n",
      "Step gather_step, transforming completed\n",
      "Step gather_step, transform completed\n"
     ]
    },
    {
     "name": "stdout",
     "output_type": "stream",
     "text": [
      "Transforming data to features done.\n",
      " Log a couple of examples for sanity check.\n",
      "\n"
     ]
    },
    {
     "name": "stderr",
     "output_type": "stream",
     "text": [
      "Convert Examples to features: 1it [00:00, 283.04it/s]\n",
      "Evaluating:   0%|          | 0/1 [00:00<?, ?it/s]/dccstor/media-bias-4374/gender-ambiguity-detectors/gap/models/gap/probert.py:35: UserWarning: indexing with dtype torch.uint8 is now deprecated, please use a dtype torch.bool instead. (Triggered internally at  ../aten/src/ATen/native/IndexingUtils.h:28.)\n",
      "  sequence_output = sequence_output[~gpr_tags_mask].view(batch_size, -1, self.config.hidden_size)\n",
      "Evaluating: 100%|██████████| 1/1 [00:04<00:00,  4.30s/it]"
     ]
    },
    {
     "name": "stdout",
     "output_type": "stream",
     "text": [
      "[0.99488986 0.00511015]\n",
      "Known pronoun 'her' resolves 'True' to 'Kathleen Nott' with a probability of '0.9948898553848267'\n"
     ]
    },
    {
     "name": "stderr",
     "output_type": "stream",
     "text": [
      "\n"
     ]
    },
    {
     "data": {
      "text/html": [
       "<div>\n",
       "<style scoped>\n",
       "    .dataframe tbody tr th:only-of-type {\n",
       "        vertical-align: middle;\n",
       "    }\n",
       "\n",
       "    .dataframe tbody tr th {\n",
       "        vertical-align: top;\n",
       "    }\n",
       "\n",
       "    .dataframe thead th {\n",
       "        text-align: right;\n",
       "    }\n",
       "</style>\n",
       "<table border=\"1\" class=\"dataframe\">\n",
       "  <thead>\n",
       "    <tr style=\"text-align: right;\">\n",
       "      <th></th>\n",
       "      <th>id</th>\n",
       "      <th>text</th>\n",
       "      <th>pronoun</th>\n",
       "      <th>pronoun_offset</th>\n",
       "      <th>a</th>\n",
       "      <th>a_offset</th>\n",
       "      <th>url</th>\n",
       "    </tr>\n",
       "  </thead>\n",
       "  <tbody>\n",
       "    <tr>\n",
       "      <th>0</th>\n",
       "      <td>na</td>\n",
       "      <td>Kathleen Nott was born in Camberwell, London. ...</td>\n",
       "      <td>her</td>\n",
       "      <td>105</td>\n",
       "      <td>Philip</td>\n",
       "      <td>58</td>\n",
       "      <td>na</td>\n",
       "    </tr>\n",
       "  </tbody>\n",
       "</table>\n",
       "</div>"
      ],
      "text/plain": [
       "   id                                               text pronoun  \\\n",
       "0  na  Kathleen Nott was born in Camberwell, London. ...     her   \n",
       "\n",
       "   pronoun_offset       a  a_offset url  \n",
       "0             105  Philip        58  na  "
      ]
     },
     "metadata": {},
     "output_type": "display_data"
    },
    {
     "name": "stderr",
     "output_type": "stream",
     "text": [
      "Initializing Step InputReader\n",
      "Step InputReader initialized\n",
      "Initializing Step LabelSanitizer\n",
      "Step LabelSanitizer initialized\n",
      "Initializing Step MentionsAnnotator\n",
      "Step MentionsAnnotator initialized\n",
      "Initializing Step gather_step\n",
      "STEPPY WARNING: Step with name \"InputReader\", already exist. Make sure that all Steps have unique name.\n",
      "Step gather_step initialized\n",
      "Step gather_step, working in \"inference\" mode\n",
      "Step InputReader, working in \"inference\" mode\n",
      "Step InputReader, adapting inputs\n",
      "Step InputReader, transforming...\n",
      "Step InputReader, transforming completed\n",
      "Step InputReader, transform completed\n",
      "Step LabelSanitizer, working in \"inference\" mode\n",
      "Step LabelSanitizer, adapting inputs\n",
      "Step LabelSanitizer, transforming...\n",
      "Step LabelSanitizer, transforming completed\n",
      "Step LabelSanitizer, transform completed\n",
      "Step MentionsAnnotator, working in \"inference\" mode\n",
      "Step InputReader, working in \"inference\" mode\n",
      "Step InputReader, adapting inputs\n",
      "Step InputReader, transforming...\n",
      "Step InputReader, transforming completed\n",
      "Step InputReader, transform completed\n",
      "Step MentionsAnnotator, unpacking inputs\n",
      "Step MentionsAnnotator, transforming...\n"
     ]
    },
    {
     "name": "stdout",
     "output_type": "stream",
     "text": [
      "Transforming data to features.\n",
      "------BEFORE DATA PIPELINE------- results/probert\n",
      "Empty DataFrame\n",
      "Columns: [id, label]\n",
      "Index: []\n"
     ]
    },
    {
     "name": "stderr",
     "output_type": "stream",
     "text": [
      "Extracting coref clusters...: 100%|██████████| 1/1 [00:00<00:00, 781.21it/s]\n",
      "Step MentionsAnnotator, transforming completed\n",
      "Step MentionsAnnotator, transform completed\n",
      "Step gather_step, adapting inputs\n",
      "Step gather_step, transforming...\n",
      "Step gather_step, transforming completed\n",
      "Step gather_step, transform completed\n"
     ]
    },
    {
     "name": "stdout",
     "output_type": "stream",
     "text": [
      "Transforming data to features done.\n",
      " Log a couple of examples for sanity check.\n",
      "\n"
     ]
    },
    {
     "name": "stderr",
     "output_type": "stream",
     "text": [
      "Convert Examples to features: 1it [00:00, 302.25it/s]\n",
      "Evaluating:   0%|          | 0/1 [00:00<?, ?it/s]/dccstor/media-bias-4374/gender-ambiguity-detectors/gap/models/gap/probert.py:35: UserWarning: indexing with dtype torch.uint8 is now deprecated, please use a dtype torch.bool instead. (Triggered internally at  ../aten/src/ATen/native/IndexingUtils.h:28.)\n",
      "  sequence_output = sequence_output[~gpr_tags_mask].view(batch_size, -1, self.config.hidden_size)\n",
      "Evaluating: 100%|██████████| 1/1 [00:04<00:00,  4.30s/it]"
     ]
    },
    {
     "name": "stdout",
     "output_type": "stream",
     "text": [
      "[0.09060874 0.9093913 ]\n",
      "Known pronoun 'her' resolves 'False' to 'Philip' with a probability of '0.9093912839889526'\n"
     ]
    },
    {
     "name": "stderr",
     "output_type": "stream",
     "text": [
      "\n"
     ]
    },
    {
     "data": {
      "text/html": [
       "<div>\n",
       "<style scoped>\n",
       "    .dataframe tbody tr th:only-of-type {\n",
       "        vertical-align: middle;\n",
       "    }\n",
       "\n",
       "    .dataframe tbody tr th {\n",
       "        vertical-align: top;\n",
       "    }\n",
       "\n",
       "    .dataframe thead th {\n",
       "        text-align: right;\n",
       "    }\n",
       "</style>\n",
       "<table border=\"1\" class=\"dataframe\">\n",
       "  <thead>\n",
       "    <tr style=\"text-align: right;\">\n",
       "      <th></th>\n",
       "      <th>id</th>\n",
       "      <th>text</th>\n",
       "      <th>pronoun</th>\n",
       "      <th>pronoun_offset</th>\n",
       "      <th>a</th>\n",
       "      <th>a_offset</th>\n",
       "      <th>url</th>\n",
       "    </tr>\n",
       "  </thead>\n",
       "  <tbody>\n",
       "    <tr>\n",
       "      <th>0</th>\n",
       "      <td>na</td>\n",
       "      <td>Kathleen Nott was born in Camberwell, London. ...</td>\n",
       "      <td>her</td>\n",
       "      <td>105</td>\n",
       "      <td>Ellen</td>\n",
       "      <td>110</td>\n",
       "      <td>na</td>\n",
       "    </tr>\n",
       "  </tbody>\n",
       "</table>\n",
       "</div>"
      ],
      "text/plain": [
       "   id                                               text pronoun  \\\n",
       "0  na  Kathleen Nott was born in Camberwell, London. ...     her   \n",
       "\n",
       "   pronoun_offset      a  a_offset url  \n",
       "0             105  Ellen       110  na  "
      ]
     },
     "metadata": {},
     "output_type": "display_data"
    },
    {
     "name": "stderr",
     "output_type": "stream",
     "text": [
      "Initializing Step InputReader\n",
      "Step InputReader initialized\n",
      "Initializing Step LabelSanitizer\n",
      "Step LabelSanitizer initialized\n",
      "Initializing Step MentionsAnnotator\n",
      "Step MentionsAnnotator initialized\n",
      "Initializing Step gather_step\n",
      "STEPPY WARNING: Step with name \"InputReader\", already exist. Make sure that all Steps have unique name.\n",
      "Step gather_step initialized\n",
      "Step gather_step, working in \"inference\" mode\n",
      "Step InputReader, working in \"inference\" mode\n",
      "Step InputReader, adapting inputs\n",
      "Step InputReader, transforming...\n",
      "Step InputReader, transforming completed\n",
      "Step InputReader, transform completed\n",
      "Step LabelSanitizer, working in \"inference\" mode\n",
      "Step LabelSanitizer, adapting inputs\n",
      "Step LabelSanitizer, transforming...\n",
      "Step LabelSanitizer, transforming completed\n",
      "Step LabelSanitizer, transform completed\n",
      "Step MentionsAnnotator, working in \"inference\" mode\n",
      "Step InputReader, working in \"inference\" mode\n",
      "Step InputReader, adapting inputs\n",
      "Step InputReader, transforming...\n",
      "Step InputReader, transforming completed\n",
      "Step InputReader, transform completed\n",
      "Step MentionsAnnotator, unpacking inputs\n",
      "Step MentionsAnnotator, transforming...\n"
     ]
    },
    {
     "name": "stdout",
     "output_type": "stream",
     "text": [
      "Transforming data to features.\n",
      "------BEFORE DATA PIPELINE------- results/probert\n",
      "Empty DataFrame\n",
      "Columns: [id, label]\n",
      "Index: []\n"
     ]
    },
    {
     "name": "stderr",
     "output_type": "stream",
     "text": [
      "Extracting coref clusters...: 100%|██████████| 1/1 [00:00<00:00, 836.19it/s]\n",
      "Step MentionsAnnotator, transforming completed\n",
      "Step MentionsAnnotator, transform completed\n",
      "Step gather_step, adapting inputs\n",
      "Step gather_step, transforming...\n",
      "Step gather_step, transforming completed\n",
      "Step gather_step, transform completed\n"
     ]
    },
    {
     "name": "stdout",
     "output_type": "stream",
     "text": [
      "Transforming data to features done.\n",
      " Log a couple of examples for sanity check.\n",
      "\n"
     ]
    },
    {
     "name": "stderr",
     "output_type": "stream",
     "text": [
      "Convert Examples to features: 1it [00:00, 322.94it/s]\n",
      "Evaluating:   0%|          | 0/1 [00:00<?, ?it/s]/dccstor/media-bias-4374/gender-ambiguity-detectors/gap/models/gap/probert.py:35: UserWarning: indexing with dtype torch.uint8 is now deprecated, please use a dtype torch.bool instead. (Triggered internally at  ../aten/src/ATen/native/IndexingUtils.h:28.)\n",
      "  sequence_output = sequence_output[~gpr_tags_mask].view(batch_size, -1, self.config.hidden_size)\n",
      "Evaluating: 100%|██████████| 1/1 [00:04<00:00,  4.31s/it]"
     ]
    },
    {
     "name": "stdout",
     "output_type": "stream",
     "text": [
      "[0.03479867 0.9652013 ]\n",
      "Known pronoun 'her' resolves 'False' to 'Ellen' with a probability of '0.9652013182640076'\n"
     ]
    },
    {
     "name": "stderr",
     "output_type": "stream",
     "text": [
      "\n"
     ]
    },
    {
     "data": {
      "text/html": [
       "<div>\n",
       "<style scoped>\n",
       "    .dataframe tbody tr th:only-of-type {\n",
       "        vertical-align: middle;\n",
       "    }\n",
       "\n",
       "    .dataframe tbody tr th {\n",
       "        vertical-align: top;\n",
       "    }\n",
       "\n",
       "    .dataframe thead th {\n",
       "        text-align: right;\n",
       "    }\n",
       "</style>\n",
       "<table border=\"1\" class=\"dataframe\">\n",
       "  <thead>\n",
       "    <tr style=\"text-align: right;\">\n",
       "      <th></th>\n",
       "      <th>id</th>\n",
       "      <th>text</th>\n",
       "      <th>pronoun</th>\n",
       "      <th>pronoun_offset</th>\n",
       "      <th>a</th>\n",
       "      <th>a_offset</th>\n",
       "      <th>url</th>\n",
       "    </tr>\n",
       "  </thead>\n",
       "  <tbody>\n",
       "    <tr>\n",
       "      <th>0</th>\n",
       "      <td>na</td>\n",
       "      <td>Kathleen Nott was born in Camberwell, London. ...</td>\n",
       "      <td>her</td>\n",
       "      <td>105</td>\n",
       "      <td>Kathleen</td>\n",
       "      <td>0</td>\n",
       "      <td>na</td>\n",
       "    </tr>\n",
       "  </tbody>\n",
       "</table>\n",
       "</div>"
      ],
      "text/plain": [
       "   id                                               text pronoun  \\\n",
       "0  na  Kathleen Nott was born in Camberwell, London. ...     her   \n",
       "\n",
       "   pronoun_offset         a  a_offset url  \n",
       "0             105  Kathleen         0  na  "
      ]
     },
     "metadata": {},
     "output_type": "display_data"
    },
    {
     "name": "stderr",
     "output_type": "stream",
     "text": [
      "Initializing Step InputReader\n",
      "Step InputReader initialized\n",
      "Initializing Step LabelSanitizer\n",
      "Step LabelSanitizer initialized\n",
      "Initializing Step MentionsAnnotator\n",
      "Step MentionsAnnotator initialized\n",
      "Initializing Step gather_step\n",
      "STEPPY WARNING: Step with name \"InputReader\", already exist. Make sure that all Steps have unique name.\n",
      "Step gather_step initialized\n",
      "Step gather_step, working in \"inference\" mode\n",
      "Step InputReader, working in \"inference\" mode\n",
      "Step InputReader, adapting inputs\n",
      "Step InputReader, transforming...\n",
      "Step InputReader, transforming completed\n",
      "Step InputReader, transform completed\n",
      "Step LabelSanitizer, working in \"inference\" mode\n",
      "Step LabelSanitizer, adapting inputs\n",
      "Step LabelSanitizer, transforming...\n",
      "Step LabelSanitizer, transforming completed\n",
      "Step LabelSanitizer, transform completed\n",
      "Step MentionsAnnotator, working in \"inference\" mode\n",
      "Step InputReader, working in \"inference\" mode\n",
      "Step InputReader, adapting inputs\n",
      "Step InputReader, transforming...\n",
      "Step InputReader, transforming completed\n",
      "Step InputReader, transform completed\n",
      "Step MentionsAnnotator, unpacking inputs\n",
      "Step MentionsAnnotator, transforming...\n"
     ]
    },
    {
     "name": "stdout",
     "output_type": "stream",
     "text": [
      "Transforming data to features.\n",
      "------BEFORE DATA PIPELINE------- results/probert\n",
      "Empty DataFrame\n",
      "Columns: [id, label]\n",
      "Index: []\n"
     ]
    },
    {
     "name": "stderr",
     "output_type": "stream",
     "text": [
      "Extracting coref clusters...: 100%|██████████| 1/1 [00:00<00:00, 779.61it/s]\n",
      "Step MentionsAnnotator, transforming completed\n",
      "Step MentionsAnnotator, transform completed\n",
      "Step gather_step, adapting inputs\n",
      "Step gather_step, transforming...\n",
      "Step gather_step, transforming completed\n",
      "Step gather_step, transform completed\n"
     ]
    },
    {
     "name": "stdout",
     "output_type": "stream",
     "text": [
      "Transforming data to features done.\n",
      " Log a couple of examples for sanity check.\n",
      "\n"
     ]
    },
    {
     "name": "stderr",
     "output_type": "stream",
     "text": [
      "Convert Examples to features: 1it [00:00, 274.69it/s]\n",
      "Evaluating:   0%|          | 0/1 [00:00<?, ?it/s]/dccstor/media-bias-4374/gender-ambiguity-detectors/gap/models/gap/probert.py:35: UserWarning: indexing with dtype torch.uint8 is now deprecated, please use a dtype torch.bool instead. (Triggered internally at  ../aten/src/ATen/native/IndexingUtils.h:28.)\n",
      "  sequence_output = sequence_output[~gpr_tags_mask].view(batch_size, -1, self.config.hidden_size)\n",
      "Evaluating: 100%|██████████| 1/1 [00:04<00:00,  4.27s/it]"
     ]
    },
    {
     "name": "stdout",
     "output_type": "stream",
     "text": [
      "[0.9928973  0.00710274]\n",
      "Known pronoun 'her' resolves 'True' to 'Kathleen' with a probability of '0.9928972721099854'\n"
     ]
    },
    {
     "name": "stderr",
     "output_type": "stream",
     "text": [
      "\n"
     ]
    },
    {
     "data": {
      "text/html": [
       "<div>\n",
       "<style scoped>\n",
       "    .dataframe tbody tr th:only-of-type {\n",
       "        vertical-align: middle;\n",
       "    }\n",
       "\n",
       "    .dataframe tbody tr th {\n",
       "        vertical-align: top;\n",
       "    }\n",
       "\n",
       "    .dataframe thead th {\n",
       "        text-align: right;\n",
       "    }\n",
       "</style>\n",
       "<table border=\"1\" class=\"dataframe\">\n",
       "  <thead>\n",
       "    <tr style=\"text-align: right;\">\n",
       "      <th></th>\n",
       "      <th>id</th>\n",
       "      <th>text</th>\n",
       "      <th>pronoun</th>\n",
       "      <th>pronoun_offset</th>\n",
       "      <th>a</th>\n",
       "      <th>a_offset</th>\n",
       "      <th>url</th>\n",
       "    </tr>\n",
       "  </thead>\n",
       "  <tbody>\n",
       "    <tr>\n",
       "      <th>0</th>\n",
       "      <td>na</td>\n",
       "      <td>Kathleen Nott was born in Camberwell, London. ...</td>\n",
       "      <td>her</td>\n",
       "      <td>105</td>\n",
       "      <td>Kathleen</td>\n",
       "      <td>150</td>\n",
       "      <td>na</td>\n",
       "    </tr>\n",
       "  </tbody>\n",
       "</table>\n",
       "</div>"
      ],
      "text/plain": [
       "   id                                               text pronoun  \\\n",
       "0  na  Kathleen Nott was born in Camberwell, London. ...     her   \n",
       "\n",
       "   pronoun_offset         a  a_offset url  \n",
       "0             105  Kathleen       150  na  "
      ]
     },
     "metadata": {},
     "output_type": "display_data"
    },
    {
     "name": "stderr",
     "output_type": "stream",
     "text": [
      "Initializing Step InputReader\n",
      "Step InputReader initialized\n",
      "Initializing Step LabelSanitizer\n",
      "Step LabelSanitizer initialized\n",
      "Initializing Step MentionsAnnotator\n",
      "Step MentionsAnnotator initialized\n",
      "Initializing Step gather_step\n",
      "STEPPY WARNING: Step with name \"InputReader\", already exist. Make sure that all Steps have unique name.\n",
      "Step gather_step initialized\n",
      "Step gather_step, working in \"inference\" mode\n",
      "Step InputReader, working in \"inference\" mode\n",
      "Step InputReader, adapting inputs\n",
      "Step InputReader, transforming...\n",
      "Step InputReader, transforming completed\n",
      "Step InputReader, transform completed\n",
      "Step LabelSanitizer, working in \"inference\" mode\n",
      "Step LabelSanitizer, adapting inputs\n",
      "Step LabelSanitizer, transforming...\n",
      "Step LabelSanitizer, transforming completed\n",
      "Step LabelSanitizer, transform completed\n",
      "Step MentionsAnnotator, working in \"inference\" mode\n",
      "Step InputReader, working in \"inference\" mode\n",
      "Step InputReader, adapting inputs\n",
      "Step InputReader, transforming...\n",
      "Step InputReader, transforming completed\n",
      "Step InputReader, transform completed\n",
      "Step MentionsAnnotator, unpacking inputs\n",
      "Step MentionsAnnotator, transforming...\n"
     ]
    },
    {
     "name": "stdout",
     "output_type": "stream",
     "text": [
      "Transforming data to features.\n",
      "------BEFORE DATA PIPELINE------- results/probert\n",
      "Empty DataFrame\n",
      "Columns: [id, label]\n",
      "Index: []\n"
     ]
    },
    {
     "name": "stderr",
     "output_type": "stream",
     "text": [
      "Extracting coref clusters...: 100%|██████████| 1/1 [00:00<00:00, 694.77it/s]\n",
      "Step MentionsAnnotator, transforming completed\n",
      "Step MentionsAnnotator, transform completed\n",
      "Step gather_step, adapting inputs\n",
      "Step gather_step, transforming...\n",
      "Step gather_step, transforming completed\n",
      "Step gather_step, transform completed\n"
     ]
    },
    {
     "name": "stdout",
     "output_type": "stream",
     "text": [
      "Transforming data to features done.\n",
      " Log a couple of examples for sanity check.\n",
      "\n"
     ]
    },
    {
     "name": "stderr",
     "output_type": "stream",
     "text": [
      "Convert Examples to features: 1it [00:00, 293.47it/s]\n",
      "Evaluating:   0%|          | 0/1 [00:00<?, ?it/s]/dccstor/media-bias-4374/gender-ambiguity-detectors/gap/models/gap/probert.py:35: UserWarning: indexing with dtype torch.uint8 is now deprecated, please use a dtype torch.bool instead. (Triggered internally at  ../aten/src/ATen/native/IndexingUtils.h:28.)\n",
      "  sequence_output = sequence_output[~gpr_tags_mask].view(batch_size, -1, self.config.hidden_size)\n",
      "Evaluating: 100%|██████████| 1/1 [00:04<00:00,  4.32s/it]"
     ]
    },
    {
     "name": "stdout",
     "output_type": "stream",
     "text": [
      "[0.10187533 0.89812464]\n",
      "Known pronoun 'her' resolves 'False' to 'Kathleen' with a probability of '0.898124635219574'\n"
     ]
    },
    {
     "name": "stderr",
     "output_type": "stream",
     "text": [
      "\n"
     ]
    },
    {
     "data": {
      "text/html": [
       "<div>\n",
       "<style scoped>\n",
       "    .dataframe tbody tr th:only-of-type {\n",
       "        vertical-align: middle;\n",
       "    }\n",
       "\n",
       "    .dataframe tbody tr th {\n",
       "        vertical-align: top;\n",
       "    }\n",
       "\n",
       "    .dataframe thead th {\n",
       "        text-align: right;\n",
       "    }\n",
       "</style>\n",
       "<table border=\"1\" class=\"dataframe\">\n",
       "  <thead>\n",
       "    <tr style=\"text-align: right;\">\n",
       "      <th></th>\n",
       "      <th>id</th>\n",
       "      <th>text</th>\n",
       "      <th>pronoun</th>\n",
       "      <th>pronoun_offset</th>\n",
       "      <th>a</th>\n",
       "      <th>a_offset</th>\n",
       "      <th>url</th>\n",
       "    </tr>\n",
       "  </thead>\n",
       "  <tbody>\n",
       "    <tr>\n",
       "      <th>0</th>\n",
       "      <td>na</td>\n",
       "      <td>Kathleen Nott was born in Camberwell, London. ...</td>\n",
       "      <td>their</td>\n",
       "      <td>163</td>\n",
       "      <td>Kathleen Nott</td>\n",
       "      <td>0</td>\n",
       "      <td>na</td>\n",
       "    </tr>\n",
       "  </tbody>\n",
       "</table>\n",
       "</div>"
      ],
      "text/plain": [
       "   id                                               text pronoun  \\\n",
       "0  na  Kathleen Nott was born in Camberwell, London. ...   their   \n",
       "\n",
       "   pronoun_offset              a  a_offset url  \n",
       "0             163  Kathleen Nott         0  na  "
      ]
     },
     "metadata": {},
     "output_type": "display_data"
    },
    {
     "name": "stderr",
     "output_type": "stream",
     "text": [
      "Initializing Step InputReader\n",
      "Step InputReader initialized\n",
      "Initializing Step LabelSanitizer\n",
      "Step LabelSanitizer initialized\n",
      "Initializing Step MentionsAnnotator\n",
      "Step MentionsAnnotator initialized\n",
      "Initializing Step gather_step\n",
      "STEPPY WARNING: Step with name \"InputReader\", already exist. Make sure that all Steps have unique name.\n",
      "Step gather_step initialized\n",
      "Step gather_step, working in \"inference\" mode\n",
      "Step InputReader, working in \"inference\" mode\n",
      "Step InputReader, adapting inputs\n",
      "Step InputReader, transforming...\n",
      "Step InputReader, transforming completed\n",
      "Step InputReader, transform completed\n",
      "Step LabelSanitizer, working in \"inference\" mode\n",
      "Step LabelSanitizer, adapting inputs\n",
      "Step LabelSanitizer, transforming...\n",
      "Step LabelSanitizer, transforming completed\n",
      "Step LabelSanitizer, transform completed\n",
      "Step MentionsAnnotator, working in \"inference\" mode\n",
      "Step InputReader, working in \"inference\" mode\n",
      "Step InputReader, adapting inputs\n",
      "Step InputReader, transforming...\n",
      "Step InputReader, transforming completed\n",
      "Step InputReader, transform completed\n",
      "Step MentionsAnnotator, unpacking inputs\n",
      "Step MentionsAnnotator, transforming...\n"
     ]
    },
    {
     "name": "stdout",
     "output_type": "stream",
     "text": [
      "Transforming data to features.\n",
      "------BEFORE DATA PIPELINE------- results/probert\n",
      "Empty DataFrame\n",
      "Columns: [id, label]\n",
      "Index: []\n"
     ]
    },
    {
     "name": "stderr",
     "output_type": "stream",
     "text": [
      "Extracting coref clusters...: 100%|██████████| 1/1 [00:00<00:00, 774.00it/s]\n",
      "Step MentionsAnnotator, transforming completed\n",
      "Step MentionsAnnotator, transform completed\n",
      "Step gather_step, adapting inputs\n",
      "Step gather_step, transforming...\n",
      "Step gather_step, transforming completed\n",
      "Step gather_step, transform completed\n"
     ]
    },
    {
     "name": "stdout",
     "output_type": "stream",
     "text": [
      "Transforming data to features done.\n",
      " Log a couple of examples for sanity check.\n",
      "\n"
     ]
    },
    {
     "name": "stderr",
     "output_type": "stream",
     "text": [
      "Convert Examples to features: 1it [00:00, 295.29it/s]\n",
      "Evaluating:   0%|          | 0/1 [00:00<?, ?it/s]/dccstor/media-bias-4374/gender-ambiguity-detectors/gap/models/gap/probert.py:35: UserWarning: indexing with dtype torch.uint8 is now deprecated, please use a dtype torch.bool instead. (Triggered internally at  ../aten/src/ATen/native/IndexingUtils.h:28.)\n",
      "  sequence_output = sequence_output[~gpr_tags_mask].view(batch_size, -1, self.config.hidden_size)\n",
      "Evaluating: 100%|██████████| 1/1 [00:04<00:00,  4.28s/it]"
     ]
    },
    {
     "name": "stdout",
     "output_type": "stream",
     "text": [
      "[0.9963707  0.00362928]\n",
      "Known pronoun 'their' resolves 'True' to 'Kathleen Nott' with a probability of '0.9963706731796265'\n"
     ]
    },
    {
     "name": "stderr",
     "output_type": "stream",
     "text": [
      "\n"
     ]
    },
    {
     "data": {
      "text/html": [
       "<div>\n",
       "<style scoped>\n",
       "    .dataframe tbody tr th:only-of-type {\n",
       "        vertical-align: middle;\n",
       "    }\n",
       "\n",
       "    .dataframe tbody tr th {\n",
       "        vertical-align: top;\n",
       "    }\n",
       "\n",
       "    .dataframe thead th {\n",
       "        text-align: right;\n",
       "    }\n",
       "</style>\n",
       "<table border=\"1\" class=\"dataframe\">\n",
       "  <thead>\n",
       "    <tr style=\"text-align: right;\">\n",
       "      <th></th>\n",
       "      <th>id</th>\n",
       "      <th>text</th>\n",
       "      <th>pronoun</th>\n",
       "      <th>pronoun_offset</th>\n",
       "      <th>a</th>\n",
       "      <th>a_offset</th>\n",
       "      <th>url</th>\n",
       "    </tr>\n",
       "  </thead>\n",
       "  <tbody>\n",
       "    <tr>\n",
       "      <th>0</th>\n",
       "      <td>na</td>\n",
       "      <td>Kathleen Nott was born in Camberwell, London. ...</td>\n",
       "      <td>their</td>\n",
       "      <td>163</td>\n",
       "      <td>Philip</td>\n",
       "      <td>58</td>\n",
       "      <td>na</td>\n",
       "    </tr>\n",
       "  </tbody>\n",
       "</table>\n",
       "</div>"
      ],
      "text/plain": [
       "   id                                               text pronoun  \\\n",
       "0  na  Kathleen Nott was born in Camberwell, London. ...   their   \n",
       "\n",
       "   pronoun_offset       a  a_offset url  \n",
       "0             163  Philip        58  na  "
      ]
     },
     "metadata": {},
     "output_type": "display_data"
    },
    {
     "name": "stderr",
     "output_type": "stream",
     "text": [
      "Initializing Step InputReader\n",
      "Step InputReader initialized\n",
      "Initializing Step LabelSanitizer\n",
      "Step LabelSanitizer initialized\n",
      "Initializing Step MentionsAnnotator\n",
      "Step MentionsAnnotator initialized\n",
      "Initializing Step gather_step\n",
      "STEPPY WARNING: Step with name \"InputReader\", already exist. Make sure that all Steps have unique name.\n",
      "Step gather_step initialized\n",
      "Step gather_step, working in \"inference\" mode\n",
      "Step InputReader, working in \"inference\" mode\n",
      "Step InputReader, adapting inputs\n",
      "Step InputReader, transforming...\n",
      "Step InputReader, transforming completed\n",
      "Step InputReader, transform completed\n",
      "Step LabelSanitizer, working in \"inference\" mode\n",
      "Step LabelSanitizer, adapting inputs\n",
      "Step LabelSanitizer, transforming...\n",
      "Step LabelSanitizer, transforming completed\n",
      "Step LabelSanitizer, transform completed\n",
      "Step MentionsAnnotator, working in \"inference\" mode\n",
      "Step InputReader, working in \"inference\" mode\n",
      "Step InputReader, adapting inputs\n",
      "Step InputReader, transforming...\n",
      "Step InputReader, transforming completed\n",
      "Step InputReader, transform completed\n",
      "Step MentionsAnnotator, unpacking inputs\n",
      "Step MentionsAnnotator, transforming...\n"
     ]
    },
    {
     "name": "stdout",
     "output_type": "stream",
     "text": [
      "Transforming data to features.\n",
      "------BEFORE DATA PIPELINE------- results/probert\n",
      "Empty DataFrame\n",
      "Columns: [id, label]\n",
      "Index: []\n"
     ]
    },
    {
     "name": "stderr",
     "output_type": "stream",
     "text": [
      "Extracting coref clusters...: 100%|██████████| 1/1 [00:00<00:00, 761.08it/s]\n",
      "Step MentionsAnnotator, transforming completed\n",
      "Step MentionsAnnotator, transform completed\n",
      "Step gather_step, adapting inputs\n",
      "Step gather_step, transforming...\n",
      "Step gather_step, transforming completed\n",
      "Step gather_step, transform completed\n"
     ]
    },
    {
     "name": "stdout",
     "output_type": "stream",
     "text": [
      "Transforming data to features done.\n",
      " Log a couple of examples for sanity check.\n",
      "\n"
     ]
    },
    {
     "name": "stderr",
     "output_type": "stream",
     "text": [
      "Convert Examples to features: 1it [00:00, 287.05it/s]\n",
      "Evaluating:   0%|          | 0/1 [00:00<?, ?it/s]/dccstor/media-bias-4374/gender-ambiguity-detectors/gap/models/gap/probert.py:35: UserWarning: indexing with dtype torch.uint8 is now deprecated, please use a dtype torch.bool instead. (Triggered internally at  ../aten/src/ATen/native/IndexingUtils.h:28.)\n",
      "  sequence_output = sequence_output[~gpr_tags_mask].view(batch_size, -1, self.config.hidden_size)\n",
      "Evaluating: 100%|██████████| 1/1 [00:04<00:00,  4.29s/it]"
     ]
    },
    {
     "name": "stdout",
     "output_type": "stream",
     "text": [
      "[0.03427194 0.9657281 ]\n",
      "Known pronoun 'their' resolves 'False' to 'Philip' with a probability of '0.9657281041145325'\n"
     ]
    },
    {
     "name": "stderr",
     "output_type": "stream",
     "text": [
      "\n"
     ]
    },
    {
     "data": {
      "text/html": [
       "<div>\n",
       "<style scoped>\n",
       "    .dataframe tbody tr th:only-of-type {\n",
       "        vertical-align: middle;\n",
       "    }\n",
       "\n",
       "    .dataframe tbody tr th {\n",
       "        vertical-align: top;\n",
       "    }\n",
       "\n",
       "    .dataframe thead th {\n",
       "        text-align: right;\n",
       "    }\n",
       "</style>\n",
       "<table border=\"1\" class=\"dataframe\">\n",
       "  <thead>\n",
       "    <tr style=\"text-align: right;\">\n",
       "      <th></th>\n",
       "      <th>id</th>\n",
       "      <th>text</th>\n",
       "      <th>pronoun</th>\n",
       "      <th>pronoun_offset</th>\n",
       "      <th>a</th>\n",
       "      <th>a_offset</th>\n",
       "      <th>url</th>\n",
       "    </tr>\n",
       "  </thead>\n",
       "  <tbody>\n",
       "    <tr>\n",
       "      <th>0</th>\n",
       "      <td>na</td>\n",
       "      <td>Kathleen Nott was born in Camberwell, London. ...</td>\n",
       "      <td>their</td>\n",
       "      <td>163</td>\n",
       "      <td>Ellen</td>\n",
       "      <td>110</td>\n",
       "      <td>na</td>\n",
       "    </tr>\n",
       "  </tbody>\n",
       "</table>\n",
       "</div>"
      ],
      "text/plain": [
       "   id                                               text pronoun  \\\n",
       "0  na  Kathleen Nott was born in Camberwell, London. ...   their   \n",
       "\n",
       "   pronoun_offset      a  a_offset url  \n",
       "0             163  Ellen       110  na  "
      ]
     },
     "metadata": {},
     "output_type": "display_data"
    },
    {
     "name": "stderr",
     "output_type": "stream",
     "text": [
      "Initializing Step InputReader\n",
      "Step InputReader initialized\n",
      "Initializing Step LabelSanitizer\n",
      "Step LabelSanitizer initialized\n",
      "Initializing Step MentionsAnnotator\n",
      "Step MentionsAnnotator initialized\n",
      "Initializing Step gather_step\n",
      "STEPPY WARNING: Step with name \"InputReader\", already exist. Make sure that all Steps have unique name.\n",
      "Step gather_step initialized\n",
      "Step gather_step, working in \"inference\" mode\n",
      "Step InputReader, working in \"inference\" mode\n",
      "Step InputReader, adapting inputs\n",
      "Step InputReader, transforming...\n",
      "Step InputReader, transforming completed\n",
      "Step InputReader, transform completed\n",
      "Step LabelSanitizer, working in \"inference\" mode\n",
      "Step LabelSanitizer, adapting inputs\n",
      "Step LabelSanitizer, transforming...\n",
      "Step LabelSanitizer, transforming completed\n",
      "Step LabelSanitizer, transform completed\n",
      "Step MentionsAnnotator, working in \"inference\" mode\n",
      "Step InputReader, working in \"inference\" mode\n",
      "Step InputReader, adapting inputs\n",
      "Step InputReader, transforming...\n",
      "Step InputReader, transforming completed\n",
      "Step InputReader, transform completed\n",
      "Step MentionsAnnotator, unpacking inputs\n",
      "Step MentionsAnnotator, transforming...\n"
     ]
    },
    {
     "name": "stdout",
     "output_type": "stream",
     "text": [
      "Transforming data to features.\n",
      "------BEFORE DATA PIPELINE------- results/probert\n",
      "Empty DataFrame\n",
      "Columns: [id, label]\n",
      "Index: []\n"
     ]
    },
    {
     "name": "stderr",
     "output_type": "stream",
     "text": [
      "Extracting coref clusters...: 100%|██████████| 1/1 [00:00<00:00, 830.06it/s]\n",
      "Step MentionsAnnotator, transforming completed\n",
      "Step MentionsAnnotator, transform completed\n",
      "Step gather_step, adapting inputs\n",
      "Step gather_step, transforming...\n",
      "Step gather_step, transforming completed\n",
      "Step gather_step, transform completed\n"
     ]
    },
    {
     "name": "stdout",
     "output_type": "stream",
     "text": [
      "Transforming data to features done.\n",
      " Log a couple of examples for sanity check.\n",
      "\n"
     ]
    },
    {
     "name": "stderr",
     "output_type": "stream",
     "text": [
      "Convert Examples to features: 1it [00:00, 323.71it/s]\n",
      "Evaluating:   0%|          | 0/1 [00:00<?, ?it/s]/dccstor/media-bias-4374/gender-ambiguity-detectors/gap/models/gap/probert.py:35: UserWarning: indexing with dtype torch.uint8 is now deprecated, please use a dtype torch.bool instead. (Triggered internally at  ../aten/src/ATen/native/IndexingUtils.h:28.)\n",
      "  sequence_output = sequence_output[~gpr_tags_mask].view(batch_size, -1, self.config.hidden_size)\n",
      "Evaluating: 100%|██████████| 1/1 [00:04<00:00,  4.35s/it]"
     ]
    },
    {
     "name": "stdout",
     "output_type": "stream",
     "text": [
      "[0.03021253 0.9697874 ]\n",
      "Known pronoun 'their' resolves 'False' to 'Ellen' with a probability of '0.9697874188423157'\n"
     ]
    },
    {
     "name": "stderr",
     "output_type": "stream",
     "text": [
      "\n"
     ]
    },
    {
     "data": {
      "text/html": [
       "<div>\n",
       "<style scoped>\n",
       "    .dataframe tbody tr th:only-of-type {\n",
       "        vertical-align: middle;\n",
       "    }\n",
       "\n",
       "    .dataframe tbody tr th {\n",
       "        vertical-align: top;\n",
       "    }\n",
       "\n",
       "    .dataframe thead th {\n",
       "        text-align: right;\n",
       "    }\n",
       "</style>\n",
       "<table border=\"1\" class=\"dataframe\">\n",
       "  <thead>\n",
       "    <tr style=\"text-align: right;\">\n",
       "      <th></th>\n",
       "      <th>id</th>\n",
       "      <th>text</th>\n",
       "      <th>pronoun</th>\n",
       "      <th>pronoun_offset</th>\n",
       "      <th>a</th>\n",
       "      <th>a_offset</th>\n",
       "      <th>url</th>\n",
       "    </tr>\n",
       "  </thead>\n",
       "  <tbody>\n",
       "    <tr>\n",
       "      <th>0</th>\n",
       "      <td>na</td>\n",
       "      <td>Kathleen Nott was born in Camberwell, London. ...</td>\n",
       "      <td>their</td>\n",
       "      <td>163</td>\n",
       "      <td>Kathleen</td>\n",
       "      <td>0</td>\n",
       "      <td>na</td>\n",
       "    </tr>\n",
       "  </tbody>\n",
       "</table>\n",
       "</div>"
      ],
      "text/plain": [
       "   id                                               text pronoun  \\\n",
       "0  na  Kathleen Nott was born in Camberwell, London. ...   their   \n",
       "\n",
       "   pronoun_offset         a  a_offset url  \n",
       "0             163  Kathleen         0  na  "
      ]
     },
     "metadata": {},
     "output_type": "display_data"
    },
    {
     "name": "stderr",
     "output_type": "stream",
     "text": [
      "Initializing Step InputReader\n",
      "Step InputReader initialized\n",
      "Initializing Step LabelSanitizer\n",
      "Step LabelSanitizer initialized\n",
      "Initializing Step MentionsAnnotator\n",
      "Step MentionsAnnotator initialized\n",
      "Initializing Step gather_step\n",
      "STEPPY WARNING: Step with name \"InputReader\", already exist. Make sure that all Steps have unique name.\n",
      "Step gather_step initialized\n",
      "Step gather_step, working in \"inference\" mode\n",
      "Step InputReader, working in \"inference\" mode\n",
      "Step InputReader, adapting inputs\n",
      "Step InputReader, transforming...\n",
      "Step InputReader, transforming completed\n",
      "Step InputReader, transform completed\n",
      "Step LabelSanitizer, working in \"inference\" mode\n",
      "Step LabelSanitizer, adapting inputs\n",
      "Step LabelSanitizer, transforming...\n",
      "Step LabelSanitizer, transforming completed\n",
      "Step LabelSanitizer, transform completed\n",
      "Step MentionsAnnotator, working in \"inference\" mode\n",
      "Step InputReader, working in \"inference\" mode\n",
      "Step InputReader, adapting inputs\n",
      "Step InputReader, transforming...\n",
      "Step InputReader, transforming completed\n",
      "Step InputReader, transform completed\n",
      "Step MentionsAnnotator, unpacking inputs\n",
      "Step MentionsAnnotator, transforming...\n"
     ]
    },
    {
     "name": "stdout",
     "output_type": "stream",
     "text": [
      "Transforming data to features.\n",
      "------BEFORE DATA PIPELINE------- results/probert\n",
      "Empty DataFrame\n",
      "Columns: [id, label]\n",
      "Index: []\n"
     ]
    },
    {
     "name": "stderr",
     "output_type": "stream",
     "text": [
      "Extracting coref clusters...: 100%|██████████| 1/1 [00:00<00:00, 622.76it/s]\n",
      "Step MentionsAnnotator, transforming completed\n",
      "Step MentionsAnnotator, transform completed\n",
      "Step gather_step, adapting inputs\n",
      "Step gather_step, transforming...\n",
      "Step gather_step, transforming completed\n",
      "Step gather_step, transform completed\n"
     ]
    },
    {
     "name": "stdout",
     "output_type": "stream",
     "text": [
      "Transforming data to features done.\n",
      " Log a couple of examples for sanity check.\n",
      "\n"
     ]
    },
    {
     "name": "stderr",
     "output_type": "stream",
     "text": [
      "Convert Examples to features: 1it [00:00, 319.59it/s]\n",
      "Evaluating:   0%|          | 0/1 [00:00<?, ?it/s]/dccstor/media-bias-4374/gender-ambiguity-detectors/gap/models/gap/probert.py:35: UserWarning: indexing with dtype torch.uint8 is now deprecated, please use a dtype torch.bool instead. (Triggered internally at  ../aten/src/ATen/native/IndexingUtils.h:28.)\n",
      "  sequence_output = sequence_output[~gpr_tags_mask].view(batch_size, -1, self.config.hidden_size)\n",
      "Evaluating: 100%|██████████| 1/1 [00:04<00:00,  4.27s/it]"
     ]
    },
    {
     "name": "stdout",
     "output_type": "stream",
     "text": [
      "[0.9948278  0.00517222]\n",
      "Known pronoun 'their' resolves 'True' to 'Kathleen' with a probability of '0.9948278069496155'\n"
     ]
    },
    {
     "name": "stderr",
     "output_type": "stream",
     "text": [
      "\n"
     ]
    },
    {
     "data": {
      "text/html": [
       "<div>\n",
       "<style scoped>\n",
       "    .dataframe tbody tr th:only-of-type {\n",
       "        vertical-align: middle;\n",
       "    }\n",
       "\n",
       "    .dataframe tbody tr th {\n",
       "        vertical-align: top;\n",
       "    }\n",
       "\n",
       "    .dataframe thead th {\n",
       "        text-align: right;\n",
       "    }\n",
       "</style>\n",
       "<table border=\"1\" class=\"dataframe\">\n",
       "  <thead>\n",
       "    <tr style=\"text-align: right;\">\n",
       "      <th></th>\n",
       "      <th>id</th>\n",
       "      <th>text</th>\n",
       "      <th>pronoun</th>\n",
       "      <th>pronoun_offset</th>\n",
       "      <th>a</th>\n",
       "      <th>a_offset</th>\n",
       "      <th>url</th>\n",
       "    </tr>\n",
       "  </thead>\n",
       "  <tbody>\n",
       "    <tr>\n",
       "      <th>0</th>\n",
       "      <td>na</td>\n",
       "      <td>Kathleen Nott was born in Camberwell, London. ...</td>\n",
       "      <td>their</td>\n",
       "      <td>163</td>\n",
       "      <td>Kathleen</td>\n",
       "      <td>150</td>\n",
       "      <td>na</td>\n",
       "    </tr>\n",
       "  </tbody>\n",
       "</table>\n",
       "</div>"
      ],
      "text/plain": [
       "   id                                               text pronoun  \\\n",
       "0  na  Kathleen Nott was born in Camberwell, London. ...   their   \n",
       "\n",
       "   pronoun_offset         a  a_offset url  \n",
       "0             163  Kathleen       150  na  "
      ]
     },
     "metadata": {},
     "output_type": "display_data"
    },
    {
     "name": "stderr",
     "output_type": "stream",
     "text": [
      "Initializing Step InputReader\n",
      "Step InputReader initialized\n",
      "Initializing Step LabelSanitizer\n",
      "Step LabelSanitizer initialized\n",
      "Initializing Step MentionsAnnotator\n",
      "Step MentionsAnnotator initialized\n",
      "Initializing Step gather_step\n",
      "STEPPY WARNING: Step with name \"InputReader\", already exist. Make sure that all Steps have unique name.\n",
      "Step gather_step initialized\n",
      "Step gather_step, working in \"inference\" mode\n",
      "Step InputReader, working in \"inference\" mode\n",
      "Step InputReader, adapting inputs\n",
      "Step InputReader, transforming...\n",
      "Step InputReader, transforming completed\n",
      "Step InputReader, transform completed\n",
      "Step LabelSanitizer, working in \"inference\" mode\n",
      "Step LabelSanitizer, adapting inputs\n",
      "Step LabelSanitizer, transforming...\n",
      "Step LabelSanitizer, transforming completed\n",
      "Step LabelSanitizer, transform completed\n",
      "Step MentionsAnnotator, working in \"inference\" mode\n",
      "Step InputReader, working in \"inference\" mode\n",
      "Step InputReader, adapting inputs\n",
      "Step InputReader, transforming...\n",
      "Step InputReader, transforming completed\n",
      "Step InputReader, transform completed\n",
      "Step MentionsAnnotator, unpacking inputs\n",
      "Step MentionsAnnotator, transforming...\n"
     ]
    },
    {
     "name": "stdout",
     "output_type": "stream",
     "text": [
      "Transforming data to features.\n",
      "------BEFORE DATA PIPELINE------- results/probert\n",
      "Empty DataFrame\n",
      "Columns: [id, label]\n",
      "Index: []\n"
     ]
    },
    {
     "name": "stderr",
     "output_type": "stream",
     "text": [
      "Extracting coref clusters...: 100%|██████████| 1/1 [00:00<00:00, 602.54it/s]\n",
      "Step MentionsAnnotator, transforming completed\n",
      "Step MentionsAnnotator, transform completed\n",
      "Step gather_step, adapting inputs\n",
      "Step gather_step, transforming...\n",
      "Step gather_step, transforming completed\n",
      "Step gather_step, transform completed\n"
     ]
    },
    {
     "name": "stdout",
     "output_type": "stream",
     "text": [
      "Transforming data to features done.\n",
      " Log a couple of examples for sanity check.\n",
      "\n"
     ]
    },
    {
     "name": "stderr",
     "output_type": "stream",
     "text": [
      "Convert Examples to features: 1it [00:00, 267.72it/s]\n",
      "Evaluating:   0%|          | 0/1 [00:00<?, ?it/s]/dccstor/media-bias-4374/gender-ambiguity-detectors/gap/models/gap/probert.py:35: UserWarning: indexing with dtype torch.uint8 is now deprecated, please use a dtype torch.bool instead. (Triggered internally at  ../aten/src/ATen/native/IndexingUtils.h:28.)\n",
      "  sequence_output = sequence_output[~gpr_tags_mask].view(batch_size, -1, self.config.hidden_size)\n",
      "Evaluating: 100%|██████████| 1/1 [00:04<00:00,  4.41s/it]"
     ]
    },
    {
     "name": "stdout",
     "output_type": "stream",
     "text": [
      "[0.5271041  0.47289592]\n",
      "Known pronoun 'their' resolves 'True' to 'Kathleen' with a probability of '0.5271040797233582'\n"
     ]
    },
    {
     "name": "stderr",
     "output_type": "stream",
     "text": [
      "\n"
     ]
    },
    {
     "data": {
      "text/html": [
       "<div>\n",
       "<style scoped>\n",
       "    .dataframe tbody tr th:only-of-type {\n",
       "        vertical-align: middle;\n",
       "    }\n",
       "\n",
       "    .dataframe tbody tr th {\n",
       "        vertical-align: top;\n",
       "    }\n",
       "\n",
       "    .dataframe thead th {\n",
       "        text-align: right;\n",
       "    }\n",
       "</style>\n",
       "<table border=\"1\" class=\"dataframe\">\n",
       "  <thead>\n",
       "    <tr style=\"text-align: right;\">\n",
       "      <th></th>\n",
       "      <th>id</th>\n",
       "      <th>text</th>\n",
       "      <th>pronoun</th>\n",
       "      <th>pronoun_offset</th>\n",
       "      <th>a</th>\n",
       "      <th>a_offset</th>\n",
       "      <th>url</th>\n",
       "    </tr>\n",
       "  </thead>\n",
       "  <tbody>\n",
       "    <tr>\n",
       "      <th>0</th>\n",
       "      <td>na</td>\n",
       "      <td>Kathleen Nott was born in Camberwell, London. ...</td>\n",
       "      <td>She</td>\n",
       "      <td>205</td>\n",
       "      <td>Kathleen Nott</td>\n",
       "      <td>0</td>\n",
       "      <td>na</td>\n",
       "    </tr>\n",
       "  </tbody>\n",
       "</table>\n",
       "</div>"
      ],
      "text/plain": [
       "   id                                               text pronoun  \\\n",
       "0  na  Kathleen Nott was born in Camberwell, London. ...     She   \n",
       "\n",
       "   pronoun_offset              a  a_offset url  \n",
       "0             205  Kathleen Nott         0  na  "
      ]
     },
     "metadata": {},
     "output_type": "display_data"
    },
    {
     "name": "stderr",
     "output_type": "stream",
     "text": [
      "Initializing Step InputReader\n",
      "Step InputReader initialized\n",
      "Initializing Step LabelSanitizer\n",
      "Step LabelSanitizer initialized\n",
      "Initializing Step MentionsAnnotator\n",
      "Step MentionsAnnotator initialized\n",
      "Initializing Step gather_step\n",
      "STEPPY WARNING: Step with name \"InputReader\", already exist. Make sure that all Steps have unique name.\n",
      "Step gather_step initialized\n",
      "Step gather_step, working in \"inference\" mode\n",
      "Step InputReader, working in \"inference\" mode\n",
      "Step InputReader, adapting inputs\n",
      "Step InputReader, transforming...\n",
      "Step InputReader, transforming completed\n",
      "Step InputReader, transform completed\n",
      "Step LabelSanitizer, working in \"inference\" mode\n",
      "Step LabelSanitizer, adapting inputs\n",
      "Step LabelSanitizer, transforming...\n",
      "Step LabelSanitizer, transforming completed\n",
      "Step LabelSanitizer, transform completed\n",
      "Step MentionsAnnotator, working in \"inference\" mode\n",
      "Step InputReader, working in \"inference\" mode\n",
      "Step InputReader, adapting inputs\n",
      "Step InputReader, transforming...\n",
      "Step InputReader, transforming completed\n",
      "Step InputReader, transform completed\n",
      "Step MentionsAnnotator, unpacking inputs\n",
      "Step MentionsAnnotator, transforming...\n"
     ]
    },
    {
     "name": "stdout",
     "output_type": "stream",
     "text": [
      "Transforming data to features.\n",
      "------BEFORE DATA PIPELINE------- results/probert\n",
      "Empty DataFrame\n",
      "Columns: [id, label]\n",
      "Index: []\n"
     ]
    },
    {
     "name": "stderr",
     "output_type": "stream",
     "text": [
      "Extracting coref clusters...: 100%|██████████| 1/1 [00:00<00:00, 735.84it/s]\n",
      "Step MentionsAnnotator, transforming completed\n",
      "Step MentionsAnnotator, transform completed\n",
      "Step gather_step, adapting inputs\n",
      "Step gather_step, transforming...\n",
      "Step gather_step, transforming completed\n",
      "Step gather_step, transform completed\n"
     ]
    },
    {
     "name": "stdout",
     "output_type": "stream",
     "text": [
      "Transforming data to features done.\n",
      " Log a couple of examples for sanity check.\n",
      "\n"
     ]
    },
    {
     "name": "stderr",
     "output_type": "stream",
     "text": [
      "Convert Examples to features: 1it [00:00, 255.36it/s]\n",
      "Evaluating:   0%|          | 0/1 [00:00<?, ?it/s]/dccstor/media-bias-4374/gender-ambiguity-detectors/gap/models/gap/probert.py:35: UserWarning: indexing with dtype torch.uint8 is now deprecated, please use a dtype torch.bool instead. (Triggered internally at  ../aten/src/ATen/native/IndexingUtils.h:28.)\n",
      "  sequence_output = sequence_output[~gpr_tags_mask].view(batch_size, -1, self.config.hidden_size)\n",
      "Evaluating: 100%|██████████| 1/1 [00:04<00:00,  4.26s/it]"
     ]
    },
    {
     "name": "stdout",
     "output_type": "stream",
     "text": [
      "[9.9941015e-01 5.8989017e-04]\n",
      "Known pronoun 'She' resolves 'True' to 'Kathleen Nott' with a probability of '0.9994101524353027'\n"
     ]
    },
    {
     "name": "stderr",
     "output_type": "stream",
     "text": [
      "\n"
     ]
    },
    {
     "data": {
      "text/html": [
       "<div>\n",
       "<style scoped>\n",
       "    .dataframe tbody tr th:only-of-type {\n",
       "        vertical-align: middle;\n",
       "    }\n",
       "\n",
       "    .dataframe tbody tr th {\n",
       "        vertical-align: top;\n",
       "    }\n",
       "\n",
       "    .dataframe thead th {\n",
       "        text-align: right;\n",
       "    }\n",
       "</style>\n",
       "<table border=\"1\" class=\"dataframe\">\n",
       "  <thead>\n",
       "    <tr style=\"text-align: right;\">\n",
       "      <th></th>\n",
       "      <th>id</th>\n",
       "      <th>text</th>\n",
       "      <th>pronoun</th>\n",
       "      <th>pronoun_offset</th>\n",
       "      <th>a</th>\n",
       "      <th>a_offset</th>\n",
       "      <th>url</th>\n",
       "    </tr>\n",
       "  </thead>\n",
       "  <tbody>\n",
       "    <tr>\n",
       "      <th>0</th>\n",
       "      <td>na</td>\n",
       "      <td>Kathleen Nott was born in Camberwell, London. ...</td>\n",
       "      <td>She</td>\n",
       "      <td>205</td>\n",
       "      <td>Philip</td>\n",
       "      <td>58</td>\n",
       "      <td>na</td>\n",
       "    </tr>\n",
       "  </tbody>\n",
       "</table>\n",
       "</div>"
      ],
      "text/plain": [
       "   id                                               text pronoun  \\\n",
       "0  na  Kathleen Nott was born in Camberwell, London. ...     She   \n",
       "\n",
       "   pronoun_offset       a  a_offset url  \n",
       "0             205  Philip        58  na  "
      ]
     },
     "metadata": {},
     "output_type": "display_data"
    },
    {
     "name": "stderr",
     "output_type": "stream",
     "text": [
      "Initializing Step InputReader\n",
      "Step InputReader initialized\n",
      "Initializing Step LabelSanitizer\n",
      "Step LabelSanitizer initialized\n",
      "Initializing Step MentionsAnnotator\n",
      "Step MentionsAnnotator initialized\n",
      "Initializing Step gather_step\n",
      "STEPPY WARNING: Step with name \"InputReader\", already exist. Make sure that all Steps have unique name.\n",
      "Step gather_step initialized\n",
      "Step gather_step, working in \"inference\" mode\n",
      "Step InputReader, working in \"inference\" mode\n",
      "Step InputReader, adapting inputs\n",
      "Step InputReader, transforming...\n",
      "Step InputReader, transforming completed\n",
      "Step InputReader, transform completed\n",
      "Step LabelSanitizer, working in \"inference\" mode\n",
      "Step LabelSanitizer, adapting inputs\n",
      "Step LabelSanitizer, transforming...\n",
      "Step LabelSanitizer, transforming completed\n",
      "Step LabelSanitizer, transform completed\n",
      "Step MentionsAnnotator, working in \"inference\" mode\n",
      "Step InputReader, working in \"inference\" mode\n",
      "Step InputReader, adapting inputs\n",
      "Step InputReader, transforming...\n",
      "Step InputReader, transforming completed\n",
      "Step InputReader, transform completed\n",
      "Step MentionsAnnotator, unpacking inputs\n",
      "Step MentionsAnnotator, transforming...\n"
     ]
    },
    {
     "name": "stdout",
     "output_type": "stream",
     "text": [
      "Transforming data to features.\n",
      "------BEFORE DATA PIPELINE------- results/probert\n",
      "Empty DataFrame\n",
      "Columns: [id, label]\n",
      "Index: []\n"
     ]
    },
    {
     "name": "stderr",
     "output_type": "stream",
     "text": [
      "Extracting coref clusters...: 100%|██████████| 1/1 [00:00<00:00, 704.93it/s]\n",
      "Step MentionsAnnotator, transforming completed\n",
      "Step MentionsAnnotator, transform completed\n",
      "Step gather_step, adapting inputs\n",
      "Step gather_step, transforming...\n",
      "Step gather_step, transforming completed\n",
      "Step gather_step, transform completed\n"
     ]
    },
    {
     "name": "stdout",
     "output_type": "stream",
     "text": [
      "Transforming data to features done.\n",
      " Log a couple of examples for sanity check.\n",
      "\n"
     ]
    },
    {
     "name": "stderr",
     "output_type": "stream",
     "text": [
      "Convert Examples to features: 1it [00:00, 285.77it/s]\n",
      "Evaluating:   0%|          | 0/1 [00:00<?, ?it/s]/dccstor/media-bias-4374/gender-ambiguity-detectors/gap/models/gap/probert.py:35: UserWarning: indexing with dtype torch.uint8 is now deprecated, please use a dtype torch.bool instead. (Triggered internally at  ../aten/src/ATen/native/IndexingUtils.h:28.)\n",
      "  sequence_output = sequence_output[~gpr_tags_mask].view(batch_size, -1, self.config.hidden_size)\n",
      "Evaluating: 100%|██████████| 1/1 [00:04<00:00,  4.32s/it]"
     ]
    },
    {
     "name": "stdout",
     "output_type": "stream",
     "text": [
      "[0.00354195 0.996458  ]\n",
      "Known pronoun 'She' resolves 'False' to 'Philip' with a probability of '0.9964579939842224'\n"
     ]
    },
    {
     "name": "stderr",
     "output_type": "stream",
     "text": [
      "\n"
     ]
    },
    {
     "data": {
      "text/html": [
       "<div>\n",
       "<style scoped>\n",
       "    .dataframe tbody tr th:only-of-type {\n",
       "        vertical-align: middle;\n",
       "    }\n",
       "\n",
       "    .dataframe tbody tr th {\n",
       "        vertical-align: top;\n",
       "    }\n",
       "\n",
       "    .dataframe thead th {\n",
       "        text-align: right;\n",
       "    }\n",
       "</style>\n",
       "<table border=\"1\" class=\"dataframe\">\n",
       "  <thead>\n",
       "    <tr style=\"text-align: right;\">\n",
       "      <th></th>\n",
       "      <th>id</th>\n",
       "      <th>text</th>\n",
       "      <th>pronoun</th>\n",
       "      <th>pronoun_offset</th>\n",
       "      <th>a</th>\n",
       "      <th>a_offset</th>\n",
       "      <th>url</th>\n",
       "    </tr>\n",
       "  </thead>\n",
       "  <tbody>\n",
       "    <tr>\n",
       "      <th>0</th>\n",
       "      <td>na</td>\n",
       "      <td>Kathleen Nott was born in Camberwell, London. ...</td>\n",
       "      <td>She</td>\n",
       "      <td>205</td>\n",
       "      <td>Ellen</td>\n",
       "      <td>110</td>\n",
       "      <td>na</td>\n",
       "    </tr>\n",
       "  </tbody>\n",
       "</table>\n",
       "</div>"
      ],
      "text/plain": [
       "   id                                               text pronoun  \\\n",
       "0  na  Kathleen Nott was born in Camberwell, London. ...     She   \n",
       "\n",
       "   pronoun_offset      a  a_offset url  \n",
       "0             205  Ellen       110  na  "
      ]
     },
     "metadata": {},
     "output_type": "display_data"
    },
    {
     "name": "stderr",
     "output_type": "stream",
     "text": [
      "Initializing Step InputReader\n",
      "Step InputReader initialized\n",
      "Initializing Step LabelSanitizer\n",
      "Step LabelSanitizer initialized\n",
      "Initializing Step MentionsAnnotator\n",
      "Step MentionsAnnotator initialized\n",
      "Initializing Step gather_step\n",
      "STEPPY WARNING: Step with name \"InputReader\", already exist. Make sure that all Steps have unique name.\n",
      "Step gather_step initialized\n",
      "Step gather_step, working in \"inference\" mode\n",
      "Step InputReader, working in \"inference\" mode\n",
      "Step InputReader, adapting inputs\n",
      "Step InputReader, transforming...\n",
      "Step InputReader, transforming completed\n",
      "Step InputReader, transform completed\n",
      "Step LabelSanitizer, working in \"inference\" mode\n",
      "Step LabelSanitizer, adapting inputs\n",
      "Step LabelSanitizer, transforming...\n",
      "Step LabelSanitizer, transforming completed\n",
      "Step LabelSanitizer, transform completed\n",
      "Step MentionsAnnotator, working in \"inference\" mode\n",
      "Step InputReader, working in \"inference\" mode\n",
      "Step InputReader, adapting inputs\n",
      "Step InputReader, transforming...\n",
      "Step InputReader, transforming completed\n",
      "Step InputReader, transform completed\n",
      "Step MentionsAnnotator, unpacking inputs\n",
      "Step MentionsAnnotator, transforming...\n"
     ]
    },
    {
     "name": "stdout",
     "output_type": "stream",
     "text": [
      "Transforming data to features.\n",
      "------BEFORE DATA PIPELINE------- results/probert\n",
      "Empty DataFrame\n",
      "Columns: [id, label]\n",
      "Index: []\n"
     ]
    },
    {
     "name": "stderr",
     "output_type": "stream",
     "text": [
      "Extracting coref clusters...: 100%|██████████| 1/1 [00:00<00:00, 763.85it/s]\n",
      "Step MentionsAnnotator, transforming completed\n",
      "Step MentionsAnnotator, transform completed\n",
      "Step gather_step, adapting inputs\n",
      "Step gather_step, transforming...\n",
      "Step gather_step, transforming completed\n",
      "Step gather_step, transform completed\n"
     ]
    },
    {
     "name": "stdout",
     "output_type": "stream",
     "text": [
      "Transforming data to features done.\n",
      " Log a couple of examples for sanity check.\n",
      "\n"
     ]
    },
    {
     "name": "stderr",
     "output_type": "stream",
     "text": [
      "Convert Examples to features: 1it [00:00, 282.39it/s]\n",
      "Evaluating:   0%|          | 0/1 [00:00<?, ?it/s]/dccstor/media-bias-4374/gender-ambiguity-detectors/gap/models/gap/probert.py:35: UserWarning: indexing with dtype torch.uint8 is now deprecated, please use a dtype torch.bool instead. (Triggered internally at  ../aten/src/ATen/native/IndexingUtils.h:28.)\n",
      "  sequence_output = sequence_output[~gpr_tags_mask].view(batch_size, -1, self.config.hidden_size)\n",
      "Evaluating: 100%|██████████| 1/1 [00:04<00:00,  4.24s/it]"
     ]
    },
    {
     "name": "stdout",
     "output_type": "stream",
     "text": [
      "[0.00426279 0.9957372 ]\n",
      "Known pronoun 'She' resolves 'False' to 'Ellen' with a probability of '0.9957371950149536'\n"
     ]
    },
    {
     "name": "stderr",
     "output_type": "stream",
     "text": [
      "\n"
     ]
    },
    {
     "data": {
      "text/html": [
       "<div>\n",
       "<style scoped>\n",
       "    .dataframe tbody tr th:only-of-type {\n",
       "        vertical-align: middle;\n",
       "    }\n",
       "\n",
       "    .dataframe tbody tr th {\n",
       "        vertical-align: top;\n",
       "    }\n",
       "\n",
       "    .dataframe thead th {\n",
       "        text-align: right;\n",
       "    }\n",
       "</style>\n",
       "<table border=\"1\" class=\"dataframe\">\n",
       "  <thead>\n",
       "    <tr style=\"text-align: right;\">\n",
       "      <th></th>\n",
       "      <th>id</th>\n",
       "      <th>text</th>\n",
       "      <th>pronoun</th>\n",
       "      <th>pronoun_offset</th>\n",
       "      <th>a</th>\n",
       "      <th>a_offset</th>\n",
       "      <th>url</th>\n",
       "    </tr>\n",
       "  </thead>\n",
       "  <tbody>\n",
       "    <tr>\n",
       "      <th>0</th>\n",
       "      <td>na</td>\n",
       "      <td>Kathleen Nott was born in Camberwell, London. ...</td>\n",
       "      <td>She</td>\n",
       "      <td>205</td>\n",
       "      <td>Kathleen</td>\n",
       "      <td>0</td>\n",
       "      <td>na</td>\n",
       "    </tr>\n",
       "  </tbody>\n",
       "</table>\n",
       "</div>"
      ],
      "text/plain": [
       "   id                                               text pronoun  \\\n",
       "0  na  Kathleen Nott was born in Camberwell, London. ...     She   \n",
       "\n",
       "   pronoun_offset         a  a_offset url  \n",
       "0             205  Kathleen         0  na  "
      ]
     },
     "metadata": {},
     "output_type": "display_data"
    },
    {
     "name": "stderr",
     "output_type": "stream",
     "text": [
      "Initializing Step InputReader\n",
      "Step InputReader initialized\n",
      "Initializing Step LabelSanitizer\n",
      "Step LabelSanitizer initialized\n",
      "Initializing Step MentionsAnnotator\n",
      "Step MentionsAnnotator initialized\n",
      "Initializing Step gather_step\n",
      "STEPPY WARNING: Step with name \"InputReader\", already exist. Make sure that all Steps have unique name.\n",
      "Step gather_step initialized\n",
      "Step gather_step, working in \"inference\" mode\n",
      "Step InputReader, working in \"inference\" mode\n",
      "Step InputReader, adapting inputs\n",
      "Step InputReader, transforming...\n",
      "Step InputReader, transforming completed\n",
      "Step InputReader, transform completed\n",
      "Step LabelSanitizer, working in \"inference\" mode\n",
      "Step LabelSanitizer, adapting inputs\n",
      "Step LabelSanitizer, transforming...\n",
      "Step LabelSanitizer, transforming completed\n",
      "Step LabelSanitizer, transform completed\n",
      "Step MentionsAnnotator, working in \"inference\" mode\n",
      "Step InputReader, working in \"inference\" mode\n",
      "Step InputReader, adapting inputs\n",
      "Step InputReader, transforming...\n",
      "Step InputReader, transforming completed\n",
      "Step InputReader, transform completed\n",
      "Step MentionsAnnotator, unpacking inputs\n",
      "Step MentionsAnnotator, transforming...\n"
     ]
    },
    {
     "name": "stdout",
     "output_type": "stream",
     "text": [
      "Transforming data to features.\n",
      "------BEFORE DATA PIPELINE------- results/probert\n",
      "Empty DataFrame\n",
      "Columns: [id, label]\n",
      "Index: []\n"
     ]
    },
    {
     "name": "stderr",
     "output_type": "stream",
     "text": [
      "Extracting coref clusters...: 100%|██████████| 1/1 [00:00<00:00, 751.67it/s]\n",
      "Step MentionsAnnotator, transforming completed\n",
      "Step MentionsAnnotator, transform completed\n",
      "Step gather_step, adapting inputs\n",
      "Step gather_step, transforming...\n",
      "Step gather_step, transforming completed\n",
      "Step gather_step, transform completed\n"
     ]
    },
    {
     "name": "stdout",
     "output_type": "stream",
     "text": [
      "Transforming data to features done.\n",
      " Log a couple of examples for sanity check.\n",
      "\n"
     ]
    },
    {
     "name": "stderr",
     "output_type": "stream",
     "text": [
      "Convert Examples to features: 1it [00:00, 266.61it/s]\n",
      "Evaluating:   0%|          | 0/1 [00:00<?, ?it/s]/dccstor/media-bias-4374/gender-ambiguity-detectors/gap/models/gap/probert.py:35: UserWarning: indexing with dtype torch.uint8 is now deprecated, please use a dtype torch.bool instead. (Triggered internally at  ../aten/src/ATen/native/IndexingUtils.h:28.)\n",
      "  sequence_output = sequence_output[~gpr_tags_mask].view(batch_size, -1, self.config.hidden_size)\n",
      "Evaluating: 100%|██████████| 1/1 [00:04<00:00,  4.30s/it]"
     ]
    },
    {
     "name": "stdout",
     "output_type": "stream",
     "text": [
      "[9.9935192e-01 6.4806035e-04]\n",
      "Known pronoun 'She' resolves 'True' to 'Kathleen' with a probability of '0.9993519186973572'\n"
     ]
    },
    {
     "name": "stderr",
     "output_type": "stream",
     "text": [
      "\n"
     ]
    },
    {
     "data": {
      "text/html": [
       "<div>\n",
       "<style scoped>\n",
       "    .dataframe tbody tr th:only-of-type {\n",
       "        vertical-align: middle;\n",
       "    }\n",
       "\n",
       "    .dataframe tbody tr th {\n",
       "        vertical-align: top;\n",
       "    }\n",
       "\n",
       "    .dataframe thead th {\n",
       "        text-align: right;\n",
       "    }\n",
       "</style>\n",
       "<table border=\"1\" class=\"dataframe\">\n",
       "  <thead>\n",
       "    <tr style=\"text-align: right;\">\n",
       "      <th></th>\n",
       "      <th>id</th>\n",
       "      <th>text</th>\n",
       "      <th>pronoun</th>\n",
       "      <th>pronoun_offset</th>\n",
       "      <th>a</th>\n",
       "      <th>a_offset</th>\n",
       "      <th>url</th>\n",
       "    </tr>\n",
       "  </thead>\n",
       "  <tbody>\n",
       "    <tr>\n",
       "      <th>0</th>\n",
       "      <td>na</td>\n",
       "      <td>Kathleen Nott was born in Camberwell, London. ...</td>\n",
       "      <td>She</td>\n",
       "      <td>205</td>\n",
       "      <td>Kathleen</td>\n",
       "      <td>150</td>\n",
       "      <td>na</td>\n",
       "    </tr>\n",
       "  </tbody>\n",
       "</table>\n",
       "</div>"
      ],
      "text/plain": [
       "   id                                               text pronoun  \\\n",
       "0  na  Kathleen Nott was born in Camberwell, London. ...     She   \n",
       "\n",
       "   pronoun_offset         a  a_offset url  \n",
       "0             205  Kathleen       150  na  "
      ]
     },
     "metadata": {},
     "output_type": "display_data"
    },
    {
     "name": "stderr",
     "output_type": "stream",
     "text": [
      "Initializing Step InputReader\n",
      "Step InputReader initialized\n",
      "Initializing Step LabelSanitizer\n",
      "Step LabelSanitizer initialized\n",
      "Initializing Step MentionsAnnotator\n",
      "Step MentionsAnnotator initialized\n",
      "Initializing Step gather_step\n",
      "STEPPY WARNING: Step with name \"InputReader\", already exist. Make sure that all Steps have unique name.\n",
      "Step gather_step initialized\n",
      "Step gather_step, working in \"inference\" mode\n",
      "Step InputReader, working in \"inference\" mode\n",
      "Step InputReader, adapting inputs\n",
      "Step InputReader, transforming...\n",
      "Step InputReader, transforming completed\n",
      "Step InputReader, transform completed\n",
      "Step LabelSanitizer, working in \"inference\" mode\n",
      "Step LabelSanitizer, adapting inputs\n",
      "Step LabelSanitizer, transforming...\n",
      "Step LabelSanitizer, transforming completed\n",
      "Step LabelSanitizer, transform completed\n",
      "Step MentionsAnnotator, working in \"inference\" mode\n",
      "Step InputReader, working in \"inference\" mode\n",
      "Step InputReader, adapting inputs\n",
      "Step InputReader, transforming...\n",
      "Step InputReader, transforming completed\n",
      "Step InputReader, transform completed\n",
      "Step MentionsAnnotator, unpacking inputs\n",
      "Step MentionsAnnotator, transforming...\n"
     ]
    },
    {
     "name": "stdout",
     "output_type": "stream",
     "text": [
      "Transforming data to features.\n",
      "------BEFORE DATA PIPELINE------- results/probert\n",
      "Empty DataFrame\n",
      "Columns: [id, label]\n",
      "Index: []\n"
     ]
    },
    {
     "name": "stderr",
     "output_type": "stream",
     "text": [
      "Extracting coref clusters...: 100%|██████████| 1/1 [00:00<00:00, 686.02it/s]\n",
      "Step MentionsAnnotator, transforming completed\n",
      "Step MentionsAnnotator, transform completed\n",
      "Step gather_step, adapting inputs\n",
      "Step gather_step, transforming...\n",
      "Step gather_step, transforming completed\n",
      "Step gather_step, transform completed\n"
     ]
    },
    {
     "name": "stdout",
     "output_type": "stream",
     "text": [
      "Transforming data to features done.\n",
      " Log a couple of examples for sanity check.\n",
      "\n"
     ]
    },
    {
     "name": "stderr",
     "output_type": "stream",
     "text": [
      "Convert Examples to features: 1it [00:00, 287.56it/s]\n",
      "Evaluating:   0%|          | 0/1 [00:00<?, ?it/s]/dccstor/media-bias-4374/gender-ambiguity-detectors/gap/models/gap/probert.py:35: UserWarning: indexing with dtype torch.uint8 is now deprecated, please use a dtype torch.bool instead. (Triggered internally at  ../aten/src/ATen/native/IndexingUtils.h:28.)\n",
      "  sequence_output = sequence_output[~gpr_tags_mask].view(batch_size, -1, self.config.hidden_size)\n",
      "Evaluating: 100%|██████████| 1/1 [00:04<00:00,  4.29s/it]"
     ]
    },
    {
     "name": "stdout",
     "output_type": "stream",
     "text": [
      "[0.5121581  0.48784187]\n",
      "Known pronoun 'She' resolves 'True' to 'Kathleen' with a probability of '0.5121580958366394'\n"
     ]
    },
    {
     "name": "stderr",
     "output_type": "stream",
     "text": [
      "\n"
     ]
    },
    {
     "data": {
      "text/html": [
       "<div>\n",
       "<style scoped>\n",
       "    .dataframe tbody tr th:only-of-type {\n",
       "        vertical-align: middle;\n",
       "    }\n",
       "\n",
       "    .dataframe tbody tr th {\n",
       "        vertical-align: top;\n",
       "    }\n",
       "\n",
       "    .dataframe thead th {\n",
       "        text-align: right;\n",
       "    }\n",
       "</style>\n",
       "<table border=\"1\" class=\"dataframe\">\n",
       "  <thead>\n",
       "    <tr style=\"text-align: right;\">\n",
       "      <th></th>\n",
       "      <th>id</th>\n",
       "      <th>text</th>\n",
       "      <th>pronoun</th>\n",
       "      <th>pronoun_offset</th>\n",
       "      <th>a</th>\n",
       "      <th>a_offset</th>\n",
       "      <th>url</th>\n",
       "    </tr>\n",
       "  </thead>\n",
       "  <tbody>\n",
       "    <tr>\n",
       "      <th>0</th>\n",
       "      <td>na</td>\n",
       "      <td>This is most notable in two almost unique sett...</td>\n",
       "      <td>it</td>\n",
       "      <td>267</td>\n",
       "      <td>Infantas</td>\n",
       "      <td>185</td>\n",
       "      <td>na</td>\n",
       "    </tr>\n",
       "  </tbody>\n",
       "</table>\n",
       "</div>"
      ],
      "text/plain": [
       "   id                                               text pronoun  \\\n",
       "0  na  This is most notable in two almost unique sett...      it   \n",
       "\n",
       "   pronoun_offset         a  a_offset url  \n",
       "0             267  Infantas       185  na  "
      ]
     },
     "metadata": {},
     "output_type": "display_data"
    },
    {
     "name": "stderr",
     "output_type": "stream",
     "text": [
      "Initializing Step InputReader\n",
      "Step InputReader initialized\n",
      "Initializing Step LabelSanitizer\n",
      "Step LabelSanitizer initialized\n",
      "Initializing Step MentionsAnnotator\n",
      "Step MentionsAnnotator initialized\n",
      "Initializing Step gather_step\n",
      "STEPPY WARNING: Step with name \"InputReader\", already exist. Make sure that all Steps have unique name.\n",
      "Step gather_step initialized\n",
      "Step gather_step, working in \"inference\" mode\n",
      "Step InputReader, working in \"inference\" mode\n",
      "Step InputReader, adapting inputs\n",
      "Step InputReader, transforming...\n",
      "Step InputReader, transforming completed\n",
      "Step InputReader, transform completed\n",
      "Step LabelSanitizer, working in \"inference\" mode\n",
      "Step LabelSanitizer, adapting inputs\n",
      "Step LabelSanitizer, transforming...\n",
      "Step LabelSanitizer, transforming completed\n",
      "Step LabelSanitizer, transform completed\n",
      "Step MentionsAnnotator, working in \"inference\" mode\n",
      "Step InputReader, working in \"inference\" mode\n",
      "Step InputReader, adapting inputs\n",
      "Step InputReader, transforming...\n",
      "Step InputReader, transforming completed\n",
      "Step InputReader, transform completed\n",
      "Step MentionsAnnotator, unpacking inputs\n",
      "Step MentionsAnnotator, transforming...\n"
     ]
    },
    {
     "name": "stdout",
     "output_type": "stream",
     "text": [
      "Transforming data to features.\n",
      "------BEFORE DATA PIPELINE------- results/probert\n",
      "Empty DataFrame\n",
      "Columns: [id, label]\n",
      "Index: []\n"
     ]
    },
    {
     "name": "stderr",
     "output_type": "stream",
     "text": [
      "Extracting coref clusters...: 100%|██████████| 1/1 [00:00<00:00, 794.83it/s]\n",
      "Step MentionsAnnotator, transforming completed\n",
      "Step MentionsAnnotator, transform completed\n",
      "Step gather_step, adapting inputs\n",
      "Step gather_step, transforming...\n",
      "Step gather_step, transforming completed\n",
      "Step gather_step, transform completed\n"
     ]
    },
    {
     "name": "stdout",
     "output_type": "stream",
     "text": [
      "Transforming data to features done.\n",
      " Log a couple of examples for sanity check.\n",
      "\n"
     ]
    },
    {
     "name": "stderr",
     "output_type": "stream",
     "text": [
      "Convert Examples to features: 1it [00:00, 260.27it/s]\n",
      "Evaluating:   0%|          | 0/1 [00:00<?, ?it/s]/dccstor/media-bias-4374/gender-ambiguity-detectors/gap/models/gap/probert.py:35: UserWarning: indexing with dtype torch.uint8 is now deprecated, please use a dtype torch.bool instead. (Triggered internally at  ../aten/src/ATen/native/IndexingUtils.h:28.)\n",
      "  sequence_output = sequence_output[~gpr_tags_mask].view(batch_size, -1, self.config.hidden_size)\n",
      "Evaluating: 100%|██████████| 1/1 [00:04<00:00,  4.30s/it]"
     ]
    },
    {
     "name": "stdout",
     "output_type": "stream",
     "text": [
      "[0.8999098 0.1000902]\n",
      "Known pronoun 'it' resolves 'True' to 'Infantas' with a probability of '0.8999097943305969'\n"
     ]
    },
    {
     "name": "stderr",
     "output_type": "stream",
     "text": [
      "\n"
     ]
    },
    {
     "data": {
      "text/html": [
       "<div>\n",
       "<style scoped>\n",
       "    .dataframe tbody tr th:only-of-type {\n",
       "        vertical-align: middle;\n",
       "    }\n",
       "\n",
       "    .dataframe tbody tr th {\n",
       "        vertical-align: top;\n",
       "    }\n",
       "\n",
       "    .dataframe thead th {\n",
       "        text-align: right;\n",
       "    }\n",
       "</style>\n",
       "<table border=\"1\" class=\"dataframe\">\n",
       "  <thead>\n",
       "    <tr style=\"text-align: right;\">\n",
       "      <th></th>\n",
       "      <th>id</th>\n",
       "      <th>text</th>\n",
       "      <th>pronoun</th>\n",
       "      <th>pronoun_offset</th>\n",
       "      <th>a</th>\n",
       "      <th>a_offset</th>\n",
       "      <th>url</th>\n",
       "    </tr>\n",
       "  </thead>\n",
       "  <tbody>\n",
       "    <tr>\n",
       "      <th>0</th>\n",
       "      <td>na</td>\n",
       "      <td>This is most notable in two almost unique sett...</td>\n",
       "      <td>it</td>\n",
       "      <td>267</td>\n",
       "      <td>Infantas</td>\n",
       "      <td>284</td>\n",
       "      <td>na</td>\n",
       "    </tr>\n",
       "  </tbody>\n",
       "</table>\n",
       "</div>"
      ],
      "text/plain": [
       "   id                                               text pronoun  \\\n",
       "0  na  This is most notable in two almost unique sett...      it   \n",
       "\n",
       "   pronoun_offset         a  a_offset url  \n",
       "0             267  Infantas       284  na  "
      ]
     },
     "metadata": {},
     "output_type": "display_data"
    },
    {
     "name": "stderr",
     "output_type": "stream",
     "text": [
      "Initializing Step InputReader\n",
      "Step InputReader initialized\n",
      "Initializing Step LabelSanitizer\n",
      "Step LabelSanitizer initialized\n",
      "Initializing Step MentionsAnnotator\n",
      "Step MentionsAnnotator initialized\n",
      "Initializing Step gather_step\n",
      "STEPPY WARNING: Step with name \"InputReader\", already exist. Make sure that all Steps have unique name.\n",
      "Step gather_step initialized\n",
      "Step gather_step, working in \"inference\" mode\n",
      "Step InputReader, working in \"inference\" mode\n",
      "Step InputReader, adapting inputs\n",
      "Step InputReader, transforming...\n",
      "Step InputReader, transforming completed\n",
      "Step InputReader, transform completed\n",
      "Step LabelSanitizer, working in \"inference\" mode\n",
      "Step LabelSanitizer, adapting inputs\n",
      "Step LabelSanitizer, transforming...\n",
      "Step LabelSanitizer, transforming completed\n",
      "Step LabelSanitizer, transform completed\n",
      "Step MentionsAnnotator, working in \"inference\" mode\n",
      "Step InputReader, working in \"inference\" mode\n",
      "Step InputReader, adapting inputs\n",
      "Step InputReader, transforming...\n",
      "Step InputReader, transforming completed\n",
      "Step InputReader, transform completed\n",
      "Step MentionsAnnotator, unpacking inputs\n",
      "Step MentionsAnnotator, transforming...\n"
     ]
    },
    {
     "name": "stdout",
     "output_type": "stream",
     "text": [
      "Transforming data to features.\n",
      "------BEFORE DATA PIPELINE------- results/probert\n",
      "Empty DataFrame\n",
      "Columns: [id, label]\n",
      "Index: []\n"
     ]
    },
    {
     "name": "stderr",
     "output_type": "stream",
     "text": [
      "Extracting coref clusters...: 100%|██████████| 1/1 [00:00<00:00, 724.78it/s]\n",
      "Step MentionsAnnotator, transforming completed\n",
      "Step MentionsAnnotator, transform completed\n",
      "Step gather_step, adapting inputs\n",
      "Step gather_step, transforming...\n",
      "Step gather_step, transforming completed\n",
      "Step gather_step, transform completed\n"
     ]
    },
    {
     "name": "stdout",
     "output_type": "stream",
     "text": [
      "Transforming data to features done.\n",
      " Log a couple of examples for sanity check.\n",
      "\n"
     ]
    },
    {
     "name": "stderr",
     "output_type": "stream",
     "text": [
      "Convert Examples to features: 1it [00:00, 224.91it/s]\n",
      "Evaluating:   0%|          | 0/1 [00:00<?, ?it/s]/dccstor/media-bias-4374/gender-ambiguity-detectors/gap/models/gap/probert.py:35: UserWarning: indexing with dtype torch.uint8 is now deprecated, please use a dtype torch.bool instead. (Triggered internally at  ../aten/src/ATen/native/IndexingUtils.h:28.)\n",
      "  sequence_output = sequence_output[~gpr_tags_mask].view(batch_size, -1, self.config.hidden_size)\n",
      "Evaluating: 100%|██████████| 1/1 [00:04<00:00,  4.29s/it]"
     ]
    },
    {
     "name": "stdout",
     "output_type": "stream",
     "text": [
      "[0.9744667  0.02553326]\n",
      "Known pronoun 'it' resolves 'True' to 'Infantas' with a probability of '0.9744666814804077'\n"
     ]
    },
    {
     "name": "stderr",
     "output_type": "stream",
     "text": [
      "\n"
     ]
    },
    {
     "data": {
      "text/html": [
       "<div>\n",
       "<style scoped>\n",
       "    .dataframe tbody tr th:only-of-type {\n",
       "        vertical-align: middle;\n",
       "    }\n",
       "\n",
       "    .dataframe tbody tr th {\n",
       "        vertical-align: top;\n",
       "    }\n",
       "\n",
       "    .dataframe thead th {\n",
       "        text-align: right;\n",
       "    }\n",
       "</style>\n",
       "<table border=\"1\" class=\"dataframe\">\n",
       "  <thead>\n",
       "    <tr style=\"text-align: right;\">\n",
       "      <th></th>\n",
       "      <th>id</th>\n",
       "      <th>text</th>\n",
       "      <th>pronoun</th>\n",
       "      <th>pronoun_offset</th>\n",
       "      <th>a</th>\n",
       "      <th>a_offset</th>\n",
       "      <th>url</th>\n",
       "    </tr>\n",
       "  </thead>\n",
       "  <tbody>\n",
       "    <tr>\n",
       "      <th>0</th>\n",
       "      <td>na</td>\n",
       "      <td>This is most notable in two almost unique sett...</td>\n",
       "      <td>it</td>\n",
       "      <td>267</td>\n",
       "      <td>Infantas</td>\n",
       "      <td>401</td>\n",
       "      <td>na</td>\n",
       "    </tr>\n",
       "  </tbody>\n",
       "</table>\n",
       "</div>"
      ],
      "text/plain": [
       "   id                                               text pronoun  \\\n",
       "0  na  This is most notable in two almost unique sett...      it   \n",
       "\n",
       "   pronoun_offset         a  a_offset url  \n",
       "0             267  Infantas       401  na  "
      ]
     },
     "metadata": {},
     "output_type": "display_data"
    },
    {
     "name": "stderr",
     "output_type": "stream",
     "text": [
      "Initializing Step InputReader\n",
      "Step InputReader initialized\n",
      "Initializing Step LabelSanitizer\n",
      "Step LabelSanitizer initialized\n",
      "Initializing Step MentionsAnnotator\n",
      "Step MentionsAnnotator initialized\n",
      "Initializing Step gather_step\n",
      "STEPPY WARNING: Step with name \"InputReader\", already exist. Make sure that all Steps have unique name.\n",
      "Step gather_step initialized\n",
      "Step gather_step, working in \"inference\" mode\n",
      "Step InputReader, working in \"inference\" mode\n",
      "Step InputReader, adapting inputs\n",
      "Step InputReader, transforming...\n",
      "Step InputReader, transforming completed\n",
      "Step InputReader, transform completed\n",
      "Step LabelSanitizer, working in \"inference\" mode\n",
      "Step LabelSanitizer, adapting inputs\n",
      "Step LabelSanitizer, transforming...\n",
      "Step LabelSanitizer, transforming completed\n",
      "Step LabelSanitizer, transform completed\n",
      "Step MentionsAnnotator, working in \"inference\" mode\n",
      "Step InputReader, working in \"inference\" mode\n",
      "Step InputReader, adapting inputs\n",
      "Step InputReader, transforming...\n",
      "Step InputReader, transforming completed\n",
      "Step InputReader, transform completed\n",
      "Step MentionsAnnotator, unpacking inputs\n",
      "Step MentionsAnnotator, transforming...\n"
     ]
    },
    {
     "name": "stdout",
     "output_type": "stream",
     "text": [
      "Transforming data to features.\n",
      "------BEFORE DATA PIPELINE------- results/probert\n",
      "Empty DataFrame\n",
      "Columns: [id, label]\n",
      "Index: []\n"
     ]
    },
    {
     "name": "stderr",
     "output_type": "stream",
     "text": [
      "Extracting coref clusters...: 100%|██████████| 1/1 [00:00<00:00, 899.49it/s]\n",
      "Step MentionsAnnotator, transforming completed\n",
      "Step MentionsAnnotator, transform completed\n",
      "Step gather_step, adapting inputs\n",
      "Step gather_step, transforming...\n",
      "Step gather_step, transforming completed\n",
      "Step gather_step, transform completed\n"
     ]
    },
    {
     "name": "stdout",
     "output_type": "stream",
     "text": [
      "Transforming data to features done.\n",
      " Log a couple of examples for sanity check.\n",
      "\n"
     ]
    },
    {
     "name": "stderr",
     "output_type": "stream",
     "text": [
      "Convert Examples to features: 1it [00:00, 281.53it/s]\n",
      "Evaluating:   0%|          | 0/1 [00:00<?, ?it/s]/dccstor/media-bias-4374/gender-ambiguity-detectors/gap/models/gap/probert.py:35: UserWarning: indexing with dtype torch.uint8 is now deprecated, please use a dtype torch.bool instead. (Triggered internally at  ../aten/src/ATen/native/IndexingUtils.h:28.)\n",
      "  sequence_output = sequence_output[~gpr_tags_mask].view(batch_size, -1, self.config.hidden_size)\n",
      "Evaluating: 100%|██████████| 1/1 [00:04<00:00,  4.30s/it]"
     ]
    },
    {
     "name": "stdout",
     "output_type": "stream",
     "text": [
      "[0.9823246  0.01767542]\n",
      "Known pronoun 'it' resolves 'True' to 'Infantas' with a probability of '0.9823246002197266'\n"
     ]
    },
    {
     "name": "stderr",
     "output_type": "stream",
     "text": [
      "\n"
     ]
    },
    {
     "data": {
      "text/html": [
       "<div>\n",
       "<style scoped>\n",
       "    .dataframe tbody tr th:only-of-type {\n",
       "        vertical-align: middle;\n",
       "    }\n",
       "\n",
       "    .dataframe tbody tr th {\n",
       "        vertical-align: top;\n",
       "    }\n",
       "\n",
       "    .dataframe thead th {\n",
       "        text-align: right;\n",
       "    }\n",
       "</style>\n",
       "<table border=\"1\" class=\"dataframe\">\n",
       "  <thead>\n",
       "    <tr style=\"text-align: right;\">\n",
       "      <th></th>\n",
       "      <th>id</th>\n",
       "      <th>text</th>\n",
       "      <th>pronoun</th>\n",
       "      <th>pronoun_offset</th>\n",
       "      <th>a</th>\n",
       "      <th>a_offset</th>\n",
       "      <th>url</th>\n",
       "    </tr>\n",
       "  </thead>\n",
       "  <tbody>\n",
       "    <tr>\n",
       "      <th>0</th>\n",
       "      <td>na</td>\n",
       "      <td>This is most notable in two almost unique sett...</td>\n",
       "      <td>it</td>\n",
       "      <td>267</td>\n",
       "      <td>Michael Noone</td>\n",
       "      <td>229</td>\n",
       "      <td>na</td>\n",
       "    </tr>\n",
       "  </tbody>\n",
       "</table>\n",
       "</div>"
      ],
      "text/plain": [
       "   id                                               text pronoun  \\\n",
       "0  na  This is most notable in two almost unique sett...      it   \n",
       "\n",
       "   pronoun_offset              a  a_offset url  \n",
       "0             267  Michael Noone       229  na  "
      ]
     },
     "metadata": {},
     "output_type": "display_data"
    },
    {
     "name": "stderr",
     "output_type": "stream",
     "text": [
      "Initializing Step InputReader\n",
      "Step InputReader initialized\n",
      "Initializing Step LabelSanitizer\n",
      "Step LabelSanitizer initialized\n",
      "Initializing Step MentionsAnnotator\n",
      "Step MentionsAnnotator initialized\n",
      "Initializing Step gather_step\n",
      "STEPPY WARNING: Step with name \"InputReader\", already exist. Make sure that all Steps have unique name.\n",
      "Step gather_step initialized\n",
      "Step gather_step, working in \"inference\" mode\n",
      "Step InputReader, working in \"inference\" mode\n",
      "Step InputReader, adapting inputs\n",
      "Step InputReader, transforming...\n",
      "Step InputReader, transforming completed\n",
      "Step InputReader, transform completed\n",
      "Step LabelSanitizer, working in \"inference\" mode\n",
      "Step LabelSanitizer, adapting inputs\n",
      "Step LabelSanitizer, transforming...\n",
      "Step LabelSanitizer, transforming completed\n",
      "Step LabelSanitizer, transform completed\n",
      "Step MentionsAnnotator, working in \"inference\" mode\n",
      "Step InputReader, working in \"inference\" mode\n",
      "Step InputReader, adapting inputs\n",
      "Step InputReader, transforming...\n",
      "Step InputReader, transforming completed\n",
      "Step InputReader, transform completed\n",
      "Step MentionsAnnotator, unpacking inputs\n",
      "Step MentionsAnnotator, transforming...\n"
     ]
    },
    {
     "name": "stdout",
     "output_type": "stream",
     "text": [
      "Transforming data to features.\n",
      "------BEFORE DATA PIPELINE------- results/probert\n",
      "Empty DataFrame\n",
      "Columns: [id, label]\n",
      "Index: []\n"
     ]
    },
    {
     "name": "stderr",
     "output_type": "stream",
     "text": [
      "Extracting coref clusters...: 100%|██████████| 1/1 [00:00<00:00, 870.91it/s]\n",
      "Step MentionsAnnotator, transforming completed\n",
      "Step MentionsAnnotator, transform completed\n",
      "Step gather_step, adapting inputs\n",
      "Step gather_step, transforming...\n",
      "Step gather_step, transforming completed\n",
      "Step gather_step, transform completed\n"
     ]
    },
    {
     "name": "stdout",
     "output_type": "stream",
     "text": [
      "Transforming data to features done.\n",
      " Log a couple of examples for sanity check.\n",
      "\n"
     ]
    },
    {
     "name": "stderr",
     "output_type": "stream",
     "text": [
      "Convert Examples to features: 1it [00:00, 294.07it/s]\n",
      "Evaluating:   0%|          | 0/1 [00:00<?, ?it/s]/dccstor/media-bias-4374/gender-ambiguity-detectors/gap/models/gap/probert.py:35: UserWarning: indexing with dtype torch.uint8 is now deprecated, please use a dtype torch.bool instead. (Triggered internally at  ../aten/src/ATen/native/IndexingUtils.h:28.)\n",
      "  sequence_output = sequence_output[~gpr_tags_mask].view(batch_size, -1, self.config.hidden_size)\n",
      "Evaluating: 100%|██████████| 1/1 [00:04<00:00,  4.26s/it]"
     ]
    },
    {
     "name": "stdout",
     "output_type": "stream",
     "text": [
      "[0.11083713 0.8891629 ]\n",
      "Known pronoun 'it' resolves 'False' to 'Michael Noone' with a probability of '0.8891628980636597'\n"
     ]
    },
    {
     "name": "stderr",
     "output_type": "stream",
     "text": [
      "\n"
     ]
    },
    {
     "data": {
      "text/html": [
       "<div>\n",
       "<style scoped>\n",
       "    .dataframe tbody tr th:only-of-type {\n",
       "        vertical-align: middle;\n",
       "    }\n",
       "\n",
       "    .dataframe tbody tr th {\n",
       "        vertical-align: top;\n",
       "    }\n",
       "\n",
       "    .dataframe thead th {\n",
       "        text-align: right;\n",
       "    }\n",
       "</style>\n",
       "<table border=\"1\" class=\"dataframe\">\n",
       "  <thead>\n",
       "    <tr style=\"text-align: right;\">\n",
       "      <th></th>\n",
       "      <th>id</th>\n",
       "      <th>text</th>\n",
       "      <th>pronoun</th>\n",
       "      <th>pronoun_offset</th>\n",
       "      <th>a</th>\n",
       "      <th>a_offset</th>\n",
       "      <th>url</th>\n",
       "    </tr>\n",
       "  </thead>\n",
       "  <tbody>\n",
       "    <tr>\n",
       "      <th>0</th>\n",
       "      <td>na</td>\n",
       "      <td>This is most notable in two almost unique sett...</td>\n",
       "      <td>it</td>\n",
       "      <td>267</td>\n",
       "      <td>Le Brung</td>\n",
       "      <td>349</td>\n",
       "      <td>na</td>\n",
       "    </tr>\n",
       "  </tbody>\n",
       "</table>\n",
       "</div>"
      ],
      "text/plain": [
       "   id                                               text pronoun  \\\n",
       "0  na  This is most notable in two almost unique sett...      it   \n",
       "\n",
       "   pronoun_offset         a  a_offset url  \n",
       "0             267  Le Brung       349  na  "
      ]
     },
     "metadata": {},
     "output_type": "display_data"
    },
    {
     "name": "stderr",
     "output_type": "stream",
     "text": [
      "Initializing Step InputReader\n",
      "Step InputReader initialized\n",
      "Initializing Step LabelSanitizer\n",
      "Step LabelSanitizer initialized\n",
      "Initializing Step MentionsAnnotator\n",
      "Step MentionsAnnotator initialized\n",
      "Initializing Step gather_step\n",
      "STEPPY WARNING: Step with name \"InputReader\", already exist. Make sure that all Steps have unique name.\n",
      "Step gather_step initialized\n",
      "Step gather_step, working in \"inference\" mode\n",
      "Step InputReader, working in \"inference\" mode\n",
      "Step InputReader, adapting inputs\n",
      "Step InputReader, transforming...\n",
      "Step InputReader, transforming completed\n",
      "Step InputReader, transform completed\n",
      "Step LabelSanitizer, working in \"inference\" mode\n",
      "Step LabelSanitizer, adapting inputs\n",
      "Step LabelSanitizer, transforming...\n",
      "Step LabelSanitizer, transforming completed\n",
      "Step LabelSanitizer, transform completed\n",
      "Step MentionsAnnotator, working in \"inference\" mode\n",
      "Step InputReader, working in \"inference\" mode\n",
      "Step InputReader, adapting inputs\n",
      "Step InputReader, transforming...\n",
      "Step InputReader, transforming completed\n",
      "Step InputReader, transform completed\n",
      "Step MentionsAnnotator, unpacking inputs\n",
      "Step MentionsAnnotator, transforming...\n"
     ]
    },
    {
     "name": "stdout",
     "output_type": "stream",
     "text": [
      "Transforming data to features.\n",
      "------BEFORE DATA PIPELINE------- results/probert\n",
      "Empty DataFrame\n",
      "Columns: [id, label]\n",
      "Index: []\n"
     ]
    },
    {
     "name": "stderr",
     "output_type": "stream",
     "text": [
      "Extracting coref clusters...: 100%|██████████| 1/1 [00:00<00:00, 721.41it/s]\n",
      "Step MentionsAnnotator, transforming completed\n",
      "Step MentionsAnnotator, transform completed\n",
      "Step gather_step, adapting inputs\n",
      "Step gather_step, transforming...\n",
      "Step gather_step, transforming completed\n",
      "Step gather_step, transform completed\n"
     ]
    },
    {
     "name": "stdout",
     "output_type": "stream",
     "text": [
      "Transforming data to features done.\n",
      " Log a couple of examples for sanity check.\n",
      "\n"
     ]
    },
    {
     "name": "stderr",
     "output_type": "stream",
     "text": [
      "Convert Examples to features: 1it [00:00, 247.77it/s]\n",
      "Evaluating:   0%|          | 0/1 [00:00<?, ?it/s]/dccstor/media-bias-4374/gender-ambiguity-detectors/gap/models/gap/probert.py:35: UserWarning: indexing with dtype torch.uint8 is now deprecated, please use a dtype torch.bool instead. (Triggered internally at  ../aten/src/ATen/native/IndexingUtils.h:28.)\n",
      "  sequence_output = sequence_output[~gpr_tags_mask].view(batch_size, -1, self.config.hidden_size)\n",
      "Evaluating: 100%|██████████| 1/1 [00:04<00:00,  4.31s/it]"
     ]
    },
    {
     "name": "stdout",
     "output_type": "stream",
     "text": [
      "[0.01268474 0.9873153 ]\n",
      "Known pronoun 'it' resolves 'False' to 'Le Brung' with a probability of '0.98731529712677'\n"
     ]
    },
    {
     "name": "stderr",
     "output_type": "stream",
     "text": [
      "\n"
     ]
    },
    {
     "data": {
      "text/html": [
       "<div>\n",
       "<style scoped>\n",
       "    .dataframe tbody tr th:only-of-type {\n",
       "        vertical-align: middle;\n",
       "    }\n",
       "\n",
       "    .dataframe tbody tr th {\n",
       "        vertical-align: top;\n",
       "    }\n",
       "\n",
       "    .dataframe thead th {\n",
       "        text-align: right;\n",
       "    }\n",
       "</style>\n",
       "<table border=\"1\" class=\"dataframe\">\n",
       "  <thead>\n",
       "    <tr style=\"text-align: right;\">\n",
       "      <th></th>\n",
       "      <th>id</th>\n",
       "      <th>text</th>\n",
       "      <th>pronoun</th>\n",
       "      <th>pronoun_offset</th>\n",
       "      <th>a</th>\n",
       "      <th>a_offset</th>\n",
       "      <th>url</th>\n",
       "    </tr>\n",
       "  </thead>\n",
       "  <tbody>\n",
       "    <tr>\n",
       "      <th>0</th>\n",
       "      <td>na</td>\n",
       "      <td>This is most notable in two almost unique sett...</td>\n",
       "      <td>it</td>\n",
       "      <td>375</td>\n",
       "      <td>Infantas</td>\n",
       "      <td>185</td>\n",
       "      <td>na</td>\n",
       "    </tr>\n",
       "  </tbody>\n",
       "</table>\n",
       "</div>"
      ],
      "text/plain": [
       "   id                                               text pronoun  \\\n",
       "0  na  This is most notable in two almost unique sett...      it   \n",
       "\n",
       "   pronoun_offset         a  a_offset url  \n",
       "0             375  Infantas       185  na  "
      ]
     },
     "metadata": {},
     "output_type": "display_data"
    },
    {
     "name": "stderr",
     "output_type": "stream",
     "text": [
      "Initializing Step InputReader\n",
      "Step InputReader initialized\n",
      "Initializing Step LabelSanitizer\n",
      "Step LabelSanitizer initialized\n",
      "Initializing Step MentionsAnnotator\n",
      "Step MentionsAnnotator initialized\n",
      "Initializing Step gather_step\n",
      "STEPPY WARNING: Step with name \"InputReader\", already exist. Make sure that all Steps have unique name.\n",
      "Step gather_step initialized\n",
      "Step gather_step, working in \"inference\" mode\n",
      "Step InputReader, working in \"inference\" mode\n",
      "Step InputReader, adapting inputs\n",
      "Step InputReader, transforming...\n",
      "Step InputReader, transforming completed\n",
      "Step InputReader, transform completed\n",
      "Step LabelSanitizer, working in \"inference\" mode\n",
      "Step LabelSanitizer, adapting inputs\n",
      "Step LabelSanitizer, transforming...\n",
      "Step LabelSanitizer, transforming completed\n",
      "Step LabelSanitizer, transform completed\n",
      "Step MentionsAnnotator, working in \"inference\" mode\n",
      "Step InputReader, working in \"inference\" mode\n",
      "Step InputReader, adapting inputs\n",
      "Step InputReader, transforming...\n",
      "Step InputReader, transforming completed\n",
      "Step InputReader, transform completed\n",
      "Step MentionsAnnotator, unpacking inputs\n",
      "Step MentionsAnnotator, transforming...\n"
     ]
    },
    {
     "name": "stdout",
     "output_type": "stream",
     "text": [
      "Transforming data to features.\n",
      "------BEFORE DATA PIPELINE------- results/probert\n",
      "Empty DataFrame\n",
      "Columns: [id, label]\n",
      "Index: []\n"
     ]
    },
    {
     "name": "stderr",
     "output_type": "stream",
     "text": [
      "Extracting coref clusters...: 100%|██████████| 1/1 [00:00<00:00, 901.03it/s]\n",
      "Step MentionsAnnotator, transforming completed\n",
      "Step MentionsAnnotator, transform completed\n",
      "Step gather_step, adapting inputs\n",
      "Step gather_step, transforming...\n",
      "Step gather_step, transforming completed\n",
      "Step gather_step, transform completed\n"
     ]
    },
    {
     "name": "stdout",
     "output_type": "stream",
     "text": [
      "Transforming data to features done.\n",
      " Log a couple of examples for sanity check.\n",
      "\n"
     ]
    },
    {
     "name": "stderr",
     "output_type": "stream",
     "text": [
      "Convert Examples to features: 1it [00:00, 233.06it/s]\n",
      "Evaluating:   0%|          | 0/1 [00:00<?, ?it/s]/dccstor/media-bias-4374/gender-ambiguity-detectors/gap/models/gap/probert.py:35: UserWarning: indexing with dtype torch.uint8 is now deprecated, please use a dtype torch.bool instead. (Triggered internally at  ../aten/src/ATen/native/IndexingUtils.h:28.)\n",
      "  sequence_output = sequence_output[~gpr_tags_mask].view(batch_size, -1, self.config.hidden_size)\n",
      "Evaluating: 100%|██████████| 1/1 [00:04<00:00,  4.20s/it]"
     ]
    },
    {
     "name": "stdout",
     "output_type": "stream",
     "text": [
      "[0.9466516  0.05334845]\n",
      "Known pronoun 'it' resolves 'True' to 'Infantas' with a probability of '0.9466515779495239'\n"
     ]
    },
    {
     "name": "stderr",
     "output_type": "stream",
     "text": [
      "\n"
     ]
    },
    {
     "data": {
      "text/html": [
       "<div>\n",
       "<style scoped>\n",
       "    .dataframe tbody tr th:only-of-type {\n",
       "        vertical-align: middle;\n",
       "    }\n",
       "\n",
       "    .dataframe tbody tr th {\n",
       "        vertical-align: top;\n",
       "    }\n",
       "\n",
       "    .dataframe thead th {\n",
       "        text-align: right;\n",
       "    }\n",
       "</style>\n",
       "<table border=\"1\" class=\"dataframe\">\n",
       "  <thead>\n",
       "    <tr style=\"text-align: right;\">\n",
       "      <th></th>\n",
       "      <th>id</th>\n",
       "      <th>text</th>\n",
       "      <th>pronoun</th>\n",
       "      <th>pronoun_offset</th>\n",
       "      <th>a</th>\n",
       "      <th>a_offset</th>\n",
       "      <th>url</th>\n",
       "    </tr>\n",
       "  </thead>\n",
       "  <tbody>\n",
       "    <tr>\n",
       "      <th>0</th>\n",
       "      <td>na</td>\n",
       "      <td>This is most notable in two almost unique sett...</td>\n",
       "      <td>it</td>\n",
       "      <td>375</td>\n",
       "      <td>Infantas</td>\n",
       "      <td>284</td>\n",
       "      <td>na</td>\n",
       "    </tr>\n",
       "  </tbody>\n",
       "</table>\n",
       "</div>"
      ],
      "text/plain": [
       "   id                                               text pronoun  \\\n",
       "0  na  This is most notable in two almost unique sett...      it   \n",
       "\n",
       "   pronoun_offset         a  a_offset url  \n",
       "0             375  Infantas       284  na  "
      ]
     },
     "metadata": {},
     "output_type": "display_data"
    },
    {
     "name": "stderr",
     "output_type": "stream",
     "text": [
      "Initializing Step InputReader\n",
      "Step InputReader initialized\n",
      "Initializing Step LabelSanitizer\n",
      "Step LabelSanitizer initialized\n",
      "Initializing Step MentionsAnnotator\n",
      "Step MentionsAnnotator initialized\n",
      "Initializing Step gather_step\n",
      "STEPPY WARNING: Step with name \"InputReader\", already exist. Make sure that all Steps have unique name.\n",
      "Step gather_step initialized\n",
      "Step gather_step, working in \"inference\" mode\n",
      "Step InputReader, working in \"inference\" mode\n",
      "Step InputReader, adapting inputs\n",
      "Step InputReader, transforming...\n",
      "Step InputReader, transforming completed\n",
      "Step InputReader, transform completed\n",
      "Step LabelSanitizer, working in \"inference\" mode\n",
      "Step LabelSanitizer, adapting inputs\n",
      "Step LabelSanitizer, transforming...\n",
      "Step LabelSanitizer, transforming completed\n",
      "Step LabelSanitizer, transform completed\n",
      "Step MentionsAnnotator, working in \"inference\" mode\n",
      "Step InputReader, working in \"inference\" mode\n",
      "Step InputReader, adapting inputs\n",
      "Step InputReader, transforming...\n",
      "Step InputReader, transforming completed\n",
      "Step InputReader, transform completed\n",
      "Step MentionsAnnotator, unpacking inputs\n",
      "Step MentionsAnnotator, transforming...\n"
     ]
    },
    {
     "name": "stdout",
     "output_type": "stream",
     "text": [
      "Transforming data to features.\n",
      "------BEFORE DATA PIPELINE------- results/probert\n",
      "Empty DataFrame\n",
      "Columns: [id, label]\n",
      "Index: []\n"
     ]
    },
    {
     "name": "stderr",
     "output_type": "stream",
     "text": [
      "Extracting coref clusters...: 100%|██████████| 1/1 [00:00<00:00, 709.70it/s]\n",
      "Step MentionsAnnotator, transforming completed\n",
      "Step MentionsAnnotator, transform completed\n",
      "Step gather_step, adapting inputs\n",
      "Step gather_step, transforming...\n",
      "Step gather_step, transforming completed\n",
      "Step gather_step, transform completed\n"
     ]
    },
    {
     "name": "stdout",
     "output_type": "stream",
     "text": [
      "Transforming data to features done.\n",
      " Log a couple of examples for sanity check.\n",
      "\n"
     ]
    },
    {
     "name": "stderr",
     "output_type": "stream",
     "text": [
      "Convert Examples to features: 1it [00:00, 237.56it/s]\n",
      "Evaluating:   0%|          | 0/1 [00:00<?, ?it/s]/dccstor/media-bias-4374/gender-ambiguity-detectors/gap/models/gap/probert.py:35: UserWarning: indexing with dtype torch.uint8 is now deprecated, please use a dtype torch.bool instead. (Triggered internally at  ../aten/src/ATen/native/IndexingUtils.h:28.)\n",
      "  sequence_output = sequence_output[~gpr_tags_mask].view(batch_size, -1, self.config.hidden_size)\n",
      "Evaluating: 100%|██████████| 1/1 [00:04<00:00,  4.27s/it]"
     ]
    },
    {
     "name": "stdout",
     "output_type": "stream",
     "text": [
      "[0.992789   0.00721108]\n",
      "Known pronoun 'it' resolves 'True' to 'Infantas' with a probability of '0.9927889704704285'\n"
     ]
    },
    {
     "name": "stderr",
     "output_type": "stream",
     "text": [
      "\n"
     ]
    },
    {
     "data": {
      "text/html": [
       "<div>\n",
       "<style scoped>\n",
       "    .dataframe tbody tr th:only-of-type {\n",
       "        vertical-align: middle;\n",
       "    }\n",
       "\n",
       "    .dataframe tbody tr th {\n",
       "        vertical-align: top;\n",
       "    }\n",
       "\n",
       "    .dataframe thead th {\n",
       "        text-align: right;\n",
       "    }\n",
       "</style>\n",
       "<table border=\"1\" class=\"dataframe\">\n",
       "  <thead>\n",
       "    <tr style=\"text-align: right;\">\n",
       "      <th></th>\n",
       "      <th>id</th>\n",
       "      <th>text</th>\n",
       "      <th>pronoun</th>\n",
       "      <th>pronoun_offset</th>\n",
       "      <th>a</th>\n",
       "      <th>a_offset</th>\n",
       "      <th>url</th>\n",
       "    </tr>\n",
       "  </thead>\n",
       "  <tbody>\n",
       "    <tr>\n",
       "      <th>0</th>\n",
       "      <td>na</td>\n",
       "      <td>This is most notable in two almost unique sett...</td>\n",
       "      <td>it</td>\n",
       "      <td>375</td>\n",
       "      <td>Infantas</td>\n",
       "      <td>401</td>\n",
       "      <td>na</td>\n",
       "    </tr>\n",
       "  </tbody>\n",
       "</table>\n",
       "</div>"
      ],
      "text/plain": [
       "   id                                               text pronoun  \\\n",
       "0  na  This is most notable in two almost unique sett...      it   \n",
       "\n",
       "   pronoun_offset         a  a_offset url  \n",
       "0             375  Infantas       401  na  "
      ]
     },
     "metadata": {},
     "output_type": "display_data"
    },
    {
     "name": "stderr",
     "output_type": "stream",
     "text": [
      "Initializing Step InputReader\n",
      "Step InputReader initialized\n",
      "Initializing Step LabelSanitizer\n",
      "Step LabelSanitizer initialized\n",
      "Initializing Step MentionsAnnotator\n",
      "Step MentionsAnnotator initialized\n",
      "Initializing Step gather_step\n",
      "STEPPY WARNING: Step with name \"InputReader\", already exist. Make sure that all Steps have unique name.\n",
      "Step gather_step initialized\n",
      "Step gather_step, working in \"inference\" mode\n",
      "Step InputReader, working in \"inference\" mode\n",
      "Step InputReader, adapting inputs\n",
      "Step InputReader, transforming...\n",
      "Step InputReader, transforming completed\n",
      "Step InputReader, transform completed\n",
      "Step LabelSanitizer, working in \"inference\" mode\n",
      "Step LabelSanitizer, adapting inputs\n",
      "Step LabelSanitizer, transforming...\n",
      "Step LabelSanitizer, transforming completed\n",
      "Step LabelSanitizer, transform completed\n",
      "Step MentionsAnnotator, working in \"inference\" mode\n",
      "Step InputReader, working in \"inference\" mode\n",
      "Step InputReader, adapting inputs\n",
      "Step InputReader, transforming...\n",
      "Step InputReader, transforming completed\n",
      "Step InputReader, transform completed\n",
      "Step MentionsAnnotator, unpacking inputs\n",
      "Step MentionsAnnotator, transforming...\n"
     ]
    },
    {
     "name": "stdout",
     "output_type": "stream",
     "text": [
      "Transforming data to features.\n",
      "------BEFORE DATA PIPELINE------- results/probert\n",
      "Empty DataFrame\n",
      "Columns: [id, label]\n",
      "Index: []\n"
     ]
    },
    {
     "name": "stderr",
     "output_type": "stream",
     "text": [
      "Extracting coref clusters...: 100%|██████████| 1/1 [00:00<00:00, 822.09it/s]\n",
      "Step MentionsAnnotator, transforming completed\n",
      "Step MentionsAnnotator, transform completed\n",
      "Step gather_step, adapting inputs\n",
      "Step gather_step, transforming...\n",
      "Step gather_step, transforming completed\n",
      "Step gather_step, transform completed\n"
     ]
    },
    {
     "name": "stdout",
     "output_type": "stream",
     "text": [
      "Transforming data to features done.\n",
      " Log a couple of examples for sanity check.\n",
      "\n"
     ]
    },
    {
     "name": "stderr",
     "output_type": "stream",
     "text": [
      "Convert Examples to features: 1it [00:00, 241.34it/s]\n",
      "Evaluating:   0%|          | 0/1 [00:00<?, ?it/s]/dccstor/media-bias-4374/gender-ambiguity-detectors/gap/models/gap/probert.py:35: UserWarning: indexing with dtype torch.uint8 is now deprecated, please use a dtype torch.bool instead. (Triggered internally at  ../aten/src/ATen/native/IndexingUtils.h:28.)\n",
      "  sequence_output = sequence_output[~gpr_tags_mask].view(batch_size, -1, self.config.hidden_size)\n",
      "Evaluating: 100%|██████████| 1/1 [00:04<00:00,  4.24s/it]"
     ]
    },
    {
     "name": "stdout",
     "output_type": "stream",
     "text": [
      "[0.9947417  0.00525831]\n",
      "Known pronoun 'it' resolves 'True' to 'Infantas' with a probability of '0.994741678237915'\n"
     ]
    },
    {
     "name": "stderr",
     "output_type": "stream",
     "text": [
      "\n"
     ]
    },
    {
     "data": {
      "text/html": [
       "<div>\n",
       "<style scoped>\n",
       "    .dataframe tbody tr th:only-of-type {\n",
       "        vertical-align: middle;\n",
       "    }\n",
       "\n",
       "    .dataframe tbody tr th {\n",
       "        vertical-align: top;\n",
       "    }\n",
       "\n",
       "    .dataframe thead th {\n",
       "        text-align: right;\n",
       "    }\n",
       "</style>\n",
       "<table border=\"1\" class=\"dataframe\">\n",
       "  <thead>\n",
       "    <tr style=\"text-align: right;\">\n",
       "      <th></th>\n",
       "      <th>id</th>\n",
       "      <th>text</th>\n",
       "      <th>pronoun</th>\n",
       "      <th>pronoun_offset</th>\n",
       "      <th>a</th>\n",
       "      <th>a_offset</th>\n",
       "      <th>url</th>\n",
       "    </tr>\n",
       "  </thead>\n",
       "  <tbody>\n",
       "    <tr>\n",
       "      <th>0</th>\n",
       "      <td>na</td>\n",
       "      <td>This is most notable in two almost unique sett...</td>\n",
       "      <td>it</td>\n",
       "      <td>375</td>\n",
       "      <td>Michael Noone</td>\n",
       "      <td>229</td>\n",
       "      <td>na</td>\n",
       "    </tr>\n",
       "  </tbody>\n",
       "</table>\n",
       "</div>"
      ],
      "text/plain": [
       "   id                                               text pronoun  \\\n",
       "0  na  This is most notable in two almost unique sett...      it   \n",
       "\n",
       "   pronoun_offset              a  a_offset url  \n",
       "0             375  Michael Noone       229  na  "
      ]
     },
     "metadata": {},
     "output_type": "display_data"
    },
    {
     "name": "stderr",
     "output_type": "stream",
     "text": [
      "Initializing Step InputReader\n",
      "Step InputReader initialized\n",
      "Initializing Step LabelSanitizer\n",
      "Step LabelSanitizer initialized\n",
      "Initializing Step MentionsAnnotator\n",
      "Step MentionsAnnotator initialized\n",
      "Initializing Step gather_step\n",
      "STEPPY WARNING: Step with name \"InputReader\", already exist. Make sure that all Steps have unique name.\n",
      "Step gather_step initialized\n",
      "Step gather_step, working in \"inference\" mode\n",
      "Step InputReader, working in \"inference\" mode\n",
      "Step InputReader, adapting inputs\n",
      "Step InputReader, transforming...\n",
      "Step InputReader, transforming completed\n",
      "Step InputReader, transform completed\n",
      "Step LabelSanitizer, working in \"inference\" mode\n",
      "Step LabelSanitizer, adapting inputs\n",
      "Step LabelSanitizer, transforming...\n",
      "Step LabelSanitizer, transforming completed\n",
      "Step LabelSanitizer, transform completed\n",
      "Step MentionsAnnotator, working in \"inference\" mode\n",
      "Step InputReader, working in \"inference\" mode\n",
      "Step InputReader, adapting inputs\n",
      "Step InputReader, transforming...\n",
      "Step InputReader, transforming completed\n",
      "Step InputReader, transform completed\n",
      "Step MentionsAnnotator, unpacking inputs\n",
      "Step MentionsAnnotator, transforming...\n"
     ]
    },
    {
     "name": "stdout",
     "output_type": "stream",
     "text": [
      "Transforming data to features.\n",
      "------BEFORE DATA PIPELINE------- results/probert\n",
      "Empty DataFrame\n",
      "Columns: [id, label]\n",
      "Index: []\n"
     ]
    },
    {
     "name": "stderr",
     "output_type": "stream",
     "text": [
      "Extracting coref clusters...: 100%|██████████| 1/1 [00:00<00:00, 739.48it/s]\n",
      "Step MentionsAnnotator, transforming completed\n",
      "Step MentionsAnnotator, transform completed\n",
      "Step gather_step, adapting inputs\n",
      "Step gather_step, transforming...\n",
      "Step gather_step, transforming completed\n",
      "Step gather_step, transform completed\n"
     ]
    },
    {
     "name": "stdout",
     "output_type": "stream",
     "text": [
      "Transforming data to features done.\n",
      " Log a couple of examples for sanity check.\n",
      "\n"
     ]
    },
    {
     "name": "stderr",
     "output_type": "stream",
     "text": [
      "Convert Examples to features: 1it [00:00, 234.74it/s]\n",
      "Evaluating:   0%|          | 0/1 [00:00<?, ?it/s]/dccstor/media-bias-4374/gender-ambiguity-detectors/gap/models/gap/probert.py:35: UserWarning: indexing with dtype torch.uint8 is now deprecated, please use a dtype torch.bool instead. (Triggered internally at  ../aten/src/ATen/native/IndexingUtils.h:28.)\n",
      "  sequence_output = sequence_output[~gpr_tags_mask].view(batch_size, -1, self.config.hidden_size)\n",
      "Evaluating: 100%|██████████| 1/1 [00:04<00:00,  4.32s/it]"
     ]
    },
    {
     "name": "stdout",
     "output_type": "stream",
     "text": [
      "[0.754868   0.24513201]\n",
      "Known pronoun 'it' resolves 'True' to 'Michael Noone' with a probability of '0.7548679709434509'\n"
     ]
    },
    {
     "name": "stderr",
     "output_type": "stream",
     "text": [
      "\n"
     ]
    },
    {
     "data": {
      "text/html": [
       "<div>\n",
       "<style scoped>\n",
       "    .dataframe tbody tr th:only-of-type {\n",
       "        vertical-align: middle;\n",
       "    }\n",
       "\n",
       "    .dataframe tbody tr th {\n",
       "        vertical-align: top;\n",
       "    }\n",
       "\n",
       "    .dataframe thead th {\n",
       "        text-align: right;\n",
       "    }\n",
       "</style>\n",
       "<table border=\"1\" class=\"dataframe\">\n",
       "  <thead>\n",
       "    <tr style=\"text-align: right;\">\n",
       "      <th></th>\n",
       "      <th>id</th>\n",
       "      <th>text</th>\n",
       "      <th>pronoun</th>\n",
       "      <th>pronoun_offset</th>\n",
       "      <th>a</th>\n",
       "      <th>a_offset</th>\n",
       "      <th>url</th>\n",
       "    </tr>\n",
       "  </thead>\n",
       "  <tbody>\n",
       "    <tr>\n",
       "      <th>0</th>\n",
       "      <td>na</td>\n",
       "      <td>This is most notable in two almost unique sett...</td>\n",
       "      <td>it</td>\n",
       "      <td>375</td>\n",
       "      <td>Le Brung</td>\n",
       "      <td>349</td>\n",
       "      <td>na</td>\n",
       "    </tr>\n",
       "  </tbody>\n",
       "</table>\n",
       "</div>"
      ],
      "text/plain": [
       "   id                                               text pronoun  \\\n",
       "0  na  This is most notable in two almost unique sett...      it   \n",
       "\n",
       "   pronoun_offset         a  a_offset url  \n",
       "0             375  Le Brung       349  na  "
      ]
     },
     "metadata": {},
     "output_type": "display_data"
    },
    {
     "name": "stderr",
     "output_type": "stream",
     "text": [
      "Initializing Step InputReader\n",
      "Step InputReader initialized\n",
      "Initializing Step LabelSanitizer\n",
      "Step LabelSanitizer initialized\n",
      "Initializing Step MentionsAnnotator\n",
      "Step MentionsAnnotator initialized\n",
      "Initializing Step gather_step\n",
      "STEPPY WARNING: Step with name \"InputReader\", already exist. Make sure that all Steps have unique name.\n",
      "Step gather_step initialized\n",
      "Step gather_step, working in \"inference\" mode\n",
      "Step InputReader, working in \"inference\" mode\n",
      "Step InputReader, adapting inputs\n",
      "Step InputReader, transforming...\n",
      "Step InputReader, transforming completed\n",
      "Step InputReader, transform completed\n",
      "Step LabelSanitizer, working in \"inference\" mode\n",
      "Step LabelSanitizer, adapting inputs\n",
      "Step LabelSanitizer, transforming...\n",
      "Step LabelSanitizer, transforming completed\n",
      "Step LabelSanitizer, transform completed\n",
      "Step MentionsAnnotator, working in \"inference\" mode\n",
      "Step InputReader, working in \"inference\" mode\n",
      "Step InputReader, adapting inputs\n",
      "Step InputReader, transforming...\n",
      "Step InputReader, transforming completed\n",
      "Step InputReader, transform completed\n",
      "Step MentionsAnnotator, unpacking inputs\n",
      "Step MentionsAnnotator, transforming...\n"
     ]
    },
    {
     "name": "stdout",
     "output_type": "stream",
     "text": [
      "Transforming data to features.\n",
      "------BEFORE DATA PIPELINE------- results/probert\n",
      "Empty DataFrame\n",
      "Columns: [id, label]\n",
      "Index: []\n"
     ]
    },
    {
     "name": "stderr",
     "output_type": "stream",
     "text": [
      "Extracting coref clusters...: 100%|██████████| 1/1 [00:00<00:00, 814.43it/s]\n",
      "Step MentionsAnnotator, transforming completed\n",
      "Step MentionsAnnotator, transform completed\n",
      "Step gather_step, adapting inputs\n",
      "Step gather_step, transforming...\n",
      "Step gather_step, transforming completed\n",
      "Step gather_step, transform completed\n"
     ]
    },
    {
     "name": "stdout",
     "output_type": "stream",
     "text": [
      "Transforming data to features done.\n",
      " Log a couple of examples for sanity check.\n",
      "\n"
     ]
    },
    {
     "name": "stderr",
     "output_type": "stream",
     "text": [
      "Convert Examples to features: 1it [00:00, 197.24it/s]\n",
      "Evaluating:   0%|          | 0/1 [00:00<?, ?it/s]/dccstor/media-bias-4374/gender-ambiguity-detectors/gap/models/gap/probert.py:35: UserWarning: indexing with dtype torch.uint8 is now deprecated, please use a dtype torch.bool instead. (Triggered internally at  ../aten/src/ATen/native/IndexingUtils.h:28.)\n",
      "  sequence_output = sequence_output[~gpr_tags_mask].view(batch_size, -1, self.config.hidden_size)\n",
      "Evaluating: 100%|██████████| 1/1 [00:04<00:00,  4.42s/it]"
     ]
    },
    {
     "name": "stdout",
     "output_type": "stream",
     "text": [
      "[0.02017396 0.97982603]\n",
      "Known pronoun 'it' resolves 'False' to 'Le Brung' with a probability of '0.979826033115387'\n"
     ]
    },
    {
     "name": "stderr",
     "output_type": "stream",
     "text": [
      "\n"
     ]
    },
    {
     "data": {
      "text/html": [
       "<div>\n",
       "<style scoped>\n",
       "    .dataframe tbody tr th:only-of-type {\n",
       "        vertical-align: middle;\n",
       "    }\n",
       "\n",
       "    .dataframe tbody tr th {\n",
       "        vertical-align: top;\n",
       "    }\n",
       "\n",
       "    .dataframe thead th {\n",
       "        text-align: right;\n",
       "    }\n",
       "</style>\n",
       "<table border=\"1\" class=\"dataframe\">\n",
       "  <thead>\n",
       "    <tr style=\"text-align: right;\">\n",
       "      <th></th>\n",
       "      <th>id</th>\n",
       "      <th>text</th>\n",
       "      <th>pronoun</th>\n",
       "      <th>pronoun_offset</th>\n",
       "      <th>a</th>\n",
       "      <th>a_offset</th>\n",
       "      <th>url</th>\n",
       "    </tr>\n",
       "  </thead>\n",
       "  <tbody>\n",
       "    <tr>\n",
       "      <th>0</th>\n",
       "      <td>na</td>\n",
       "      <td>This is most notable in two almost unique sett...</td>\n",
       "      <td>his</td>\n",
       "      <td>1</td>\n",
       "      <td>Infantas</td>\n",
       "      <td>185</td>\n",
       "      <td>na</td>\n",
       "    </tr>\n",
       "  </tbody>\n",
       "</table>\n",
       "</div>"
      ],
      "text/plain": [
       "   id                                               text pronoun  \\\n",
       "0  na  This is most notable in two almost unique sett...     his   \n",
       "\n",
       "   pronoun_offset         a  a_offset url  \n",
       "0               1  Infantas       185  na  "
      ]
     },
     "metadata": {},
     "output_type": "display_data"
    },
    {
     "name": "stderr",
     "output_type": "stream",
     "text": [
      "Initializing Step InputReader\n",
      "Step InputReader initialized\n",
      "Initializing Step LabelSanitizer\n",
      "Step LabelSanitizer initialized\n",
      "Initializing Step MentionsAnnotator\n",
      "Step MentionsAnnotator initialized\n",
      "Initializing Step gather_step\n",
      "STEPPY WARNING: Step with name \"InputReader\", already exist. Make sure that all Steps have unique name.\n",
      "Step gather_step initialized\n",
      "Step gather_step, working in \"inference\" mode\n",
      "Step InputReader, working in \"inference\" mode\n",
      "Step InputReader, adapting inputs\n",
      "Step InputReader, transforming...\n",
      "Step InputReader, transforming completed\n",
      "Step InputReader, transform completed\n",
      "Step LabelSanitizer, working in \"inference\" mode\n",
      "Step LabelSanitizer, adapting inputs\n",
      "Step LabelSanitizer, transforming...\n",
      "Step LabelSanitizer, transforming completed\n",
      "Step LabelSanitizer, transform completed\n",
      "Step MentionsAnnotator, working in \"inference\" mode\n",
      "Step InputReader, working in \"inference\" mode\n",
      "Step InputReader, adapting inputs\n",
      "Step InputReader, transforming...\n",
      "Step InputReader, transforming completed\n",
      "Step InputReader, transform completed\n",
      "Step MentionsAnnotator, unpacking inputs\n",
      "Step MentionsAnnotator, transforming...\n"
     ]
    },
    {
     "name": "stdout",
     "output_type": "stream",
     "text": [
      "Transforming data to features.\n",
      "------BEFORE DATA PIPELINE------- results/probert\n",
      "Empty DataFrame\n",
      "Columns: [id, label]\n",
      "Index: []\n"
     ]
    },
    {
     "name": "stderr",
     "output_type": "stream",
     "text": [
      "Extracting coref clusters...: 100%|██████████| 1/1 [00:00<00:00, 784.13it/s]\n",
      "Step MentionsAnnotator, transforming completed\n",
      "Step MentionsAnnotator, transform completed\n",
      "Step gather_step, adapting inputs\n",
      "Step gather_step, transforming...\n",
      "Step gather_step, transforming completed\n",
      "Step gather_step, transform completed\n"
     ]
    },
    {
     "name": "stdout",
     "output_type": "stream",
     "text": [
      "Transforming data to features done.\n",
      " Log a couple of examples for sanity check.\n",
      "\n"
     ]
    },
    {
     "name": "stderr",
     "output_type": "stream",
     "text": [
      "Convert Examples to features: 1it [00:00, 272.96it/s]\n",
      "Evaluating:   0%|          | 0/1 [00:00<?, ?it/s]/dccstor/media-bias-4374/gender-ambiguity-detectors/gap/models/gap/probert.py:35: UserWarning: indexing with dtype torch.uint8 is now deprecated, please use a dtype torch.bool instead. (Triggered internally at  ../aten/src/ATen/native/IndexingUtils.h:28.)\n",
      "  sequence_output = sequence_output[~gpr_tags_mask].view(batch_size, -1, self.config.hidden_size)\n",
      "Evaluating: 100%|██████████| 1/1 [00:04<00:00,  4.24s/it]"
     ]
    },
    {
     "name": "stdout",
     "output_type": "stream",
     "text": [
      "[0.94792753 0.05207251]\n",
      "Known pronoun 'his' resolves 'True' to 'Infantas' with a probability of '0.9479275345802307'\n"
     ]
    },
    {
     "name": "stderr",
     "output_type": "stream",
     "text": [
      "\n"
     ]
    },
    {
     "data": {
      "text/html": [
       "<div>\n",
       "<style scoped>\n",
       "    .dataframe tbody tr th:only-of-type {\n",
       "        vertical-align: middle;\n",
       "    }\n",
       "\n",
       "    .dataframe tbody tr th {\n",
       "        vertical-align: top;\n",
       "    }\n",
       "\n",
       "    .dataframe thead th {\n",
       "        text-align: right;\n",
       "    }\n",
       "</style>\n",
       "<table border=\"1\" class=\"dataframe\">\n",
       "  <thead>\n",
       "    <tr style=\"text-align: right;\">\n",
       "      <th></th>\n",
       "      <th>id</th>\n",
       "      <th>text</th>\n",
       "      <th>pronoun</th>\n",
       "      <th>pronoun_offset</th>\n",
       "      <th>a</th>\n",
       "      <th>a_offset</th>\n",
       "      <th>url</th>\n",
       "    </tr>\n",
       "  </thead>\n",
       "  <tbody>\n",
       "    <tr>\n",
       "      <th>0</th>\n",
       "      <td>na</td>\n",
       "      <td>This is most notable in two almost unique sett...</td>\n",
       "      <td>his</td>\n",
       "      <td>1</td>\n",
       "      <td>Infantas</td>\n",
       "      <td>284</td>\n",
       "      <td>na</td>\n",
       "    </tr>\n",
       "  </tbody>\n",
       "</table>\n",
       "</div>"
      ],
      "text/plain": [
       "   id                                               text pronoun  \\\n",
       "0  na  This is most notable in two almost unique sett...     his   \n",
       "\n",
       "   pronoun_offset         a  a_offset url  \n",
       "0               1  Infantas       284  na  "
      ]
     },
     "metadata": {},
     "output_type": "display_data"
    },
    {
     "name": "stderr",
     "output_type": "stream",
     "text": [
      "Initializing Step InputReader\n",
      "Step InputReader initialized\n",
      "Initializing Step LabelSanitizer\n",
      "Step LabelSanitizer initialized\n",
      "Initializing Step MentionsAnnotator\n",
      "Step MentionsAnnotator initialized\n",
      "Initializing Step gather_step\n",
      "STEPPY WARNING: Step with name \"InputReader\", already exist. Make sure that all Steps have unique name.\n",
      "Step gather_step initialized\n",
      "Step gather_step, working in \"inference\" mode\n",
      "Step InputReader, working in \"inference\" mode\n",
      "Step InputReader, adapting inputs\n",
      "Step InputReader, transforming...\n",
      "Step InputReader, transforming completed\n",
      "Step InputReader, transform completed\n",
      "Step LabelSanitizer, working in \"inference\" mode\n",
      "Step LabelSanitizer, adapting inputs\n",
      "Step LabelSanitizer, transforming...\n",
      "Step LabelSanitizer, transforming completed\n",
      "Step LabelSanitizer, transform completed\n",
      "Step MentionsAnnotator, working in \"inference\" mode\n",
      "Step InputReader, working in \"inference\" mode\n",
      "Step InputReader, adapting inputs\n",
      "Step InputReader, transforming...\n",
      "Step InputReader, transforming completed\n",
      "Step InputReader, transform completed\n",
      "Step MentionsAnnotator, unpacking inputs\n",
      "Step MentionsAnnotator, transforming...\n"
     ]
    },
    {
     "name": "stdout",
     "output_type": "stream",
     "text": [
      "Transforming data to features.\n",
      "------BEFORE DATA PIPELINE------- results/probert\n",
      "Empty DataFrame\n",
      "Columns: [id, label]\n",
      "Index: []\n"
     ]
    },
    {
     "name": "stderr",
     "output_type": "stream",
     "text": [
      "Extracting coref clusters...: 100%|██████████| 1/1 [00:00<00:00, 785.01it/s]\n",
      "Step MentionsAnnotator, transforming completed\n",
      "Step MentionsAnnotator, transform completed\n",
      "Step gather_step, adapting inputs\n",
      "Step gather_step, transforming...\n",
      "Step gather_step, transforming completed\n",
      "Step gather_step, transform completed\n"
     ]
    },
    {
     "name": "stdout",
     "output_type": "stream",
     "text": [
      "Transforming data to features done.\n",
      " Log a couple of examples for sanity check.\n",
      "\n"
     ]
    },
    {
     "name": "stderr",
     "output_type": "stream",
     "text": [
      "Convert Examples to features: 1it [00:00, 232.28it/s]\n",
      "Evaluating:   0%|          | 0/1 [00:00<?, ?it/s]/dccstor/media-bias-4374/gender-ambiguity-detectors/gap/models/gap/probert.py:35: UserWarning: indexing with dtype torch.uint8 is now deprecated, please use a dtype torch.bool instead. (Triggered internally at  ../aten/src/ATen/native/IndexingUtils.h:28.)\n",
      "  sequence_output = sequence_output[~gpr_tags_mask].view(batch_size, -1, self.config.hidden_size)\n",
      "Evaluating: 100%|██████████| 1/1 [00:04<00:00,  4.30s/it]"
     ]
    },
    {
     "name": "stdout",
     "output_type": "stream",
     "text": [
      "[0.99316835 0.00683166]\n",
      "Known pronoun 'his' resolves 'True' to 'Infantas' with a probability of '0.9931683540344238'\n"
     ]
    },
    {
     "name": "stderr",
     "output_type": "stream",
     "text": [
      "\n"
     ]
    },
    {
     "data": {
      "text/html": [
       "<div>\n",
       "<style scoped>\n",
       "    .dataframe tbody tr th:only-of-type {\n",
       "        vertical-align: middle;\n",
       "    }\n",
       "\n",
       "    .dataframe tbody tr th {\n",
       "        vertical-align: top;\n",
       "    }\n",
       "\n",
       "    .dataframe thead th {\n",
       "        text-align: right;\n",
       "    }\n",
       "</style>\n",
       "<table border=\"1\" class=\"dataframe\">\n",
       "  <thead>\n",
       "    <tr style=\"text-align: right;\">\n",
       "      <th></th>\n",
       "      <th>id</th>\n",
       "      <th>text</th>\n",
       "      <th>pronoun</th>\n",
       "      <th>pronoun_offset</th>\n",
       "      <th>a</th>\n",
       "      <th>a_offset</th>\n",
       "      <th>url</th>\n",
       "    </tr>\n",
       "  </thead>\n",
       "  <tbody>\n",
       "    <tr>\n",
       "      <th>0</th>\n",
       "      <td>na</td>\n",
       "      <td>This is most notable in two almost unique sett...</td>\n",
       "      <td>his</td>\n",
       "      <td>1</td>\n",
       "      <td>Infantas</td>\n",
       "      <td>401</td>\n",
       "      <td>na</td>\n",
       "    </tr>\n",
       "  </tbody>\n",
       "</table>\n",
       "</div>"
      ],
      "text/plain": [
       "   id                                               text pronoun  \\\n",
       "0  na  This is most notable in two almost unique sett...     his   \n",
       "\n",
       "   pronoun_offset         a  a_offset url  \n",
       "0               1  Infantas       401  na  "
      ]
     },
     "metadata": {},
     "output_type": "display_data"
    },
    {
     "name": "stderr",
     "output_type": "stream",
     "text": [
      "Initializing Step InputReader\n",
      "Step InputReader initialized\n",
      "Initializing Step LabelSanitizer\n",
      "Step LabelSanitizer initialized\n",
      "Initializing Step MentionsAnnotator\n",
      "Step MentionsAnnotator initialized\n",
      "Initializing Step gather_step\n",
      "STEPPY WARNING: Step with name \"InputReader\", already exist. Make sure that all Steps have unique name.\n",
      "Step gather_step initialized\n",
      "Step gather_step, working in \"inference\" mode\n",
      "Step InputReader, working in \"inference\" mode\n",
      "Step InputReader, adapting inputs\n",
      "Step InputReader, transforming...\n",
      "Step InputReader, transforming completed\n",
      "Step InputReader, transform completed\n",
      "Step LabelSanitizer, working in \"inference\" mode\n",
      "Step LabelSanitizer, adapting inputs\n",
      "Step LabelSanitizer, transforming...\n",
      "Step LabelSanitizer, transforming completed\n",
      "Step LabelSanitizer, transform completed\n",
      "Step MentionsAnnotator, working in \"inference\" mode\n",
      "Step InputReader, working in \"inference\" mode\n",
      "Step InputReader, adapting inputs\n",
      "Step InputReader, transforming...\n",
      "Step InputReader, transforming completed\n",
      "Step InputReader, transform completed\n",
      "Step MentionsAnnotator, unpacking inputs\n",
      "Step MentionsAnnotator, transforming...\n"
     ]
    },
    {
     "name": "stdout",
     "output_type": "stream",
     "text": [
      "Transforming data to features.\n",
      "------BEFORE DATA PIPELINE------- results/probert\n",
      "Empty DataFrame\n",
      "Columns: [id, label]\n",
      "Index: []\n"
     ]
    },
    {
     "name": "stderr",
     "output_type": "stream",
     "text": [
      "Extracting coref clusters...: 100%|██████████| 1/1 [00:00<00:00, 776.44it/s]\n",
      "Step MentionsAnnotator, transforming completed\n",
      "Step MentionsAnnotator, transform completed\n",
      "Step gather_step, adapting inputs\n",
      "Step gather_step, transforming...\n",
      "Step gather_step, transforming completed\n",
      "Step gather_step, transform completed\n"
     ]
    },
    {
     "name": "stdout",
     "output_type": "stream",
     "text": [
      "Transforming data to features done.\n",
      " Log a couple of examples for sanity check.\n",
      "\n"
     ]
    },
    {
     "name": "stderr",
     "output_type": "stream",
     "text": [
      "Convert Examples to features: 1it [00:00, 252.90it/s]\n",
      "Evaluating:   0%|          | 0/1 [00:00<?, ?it/s]/dccstor/media-bias-4374/gender-ambiguity-detectors/gap/models/gap/probert.py:35: UserWarning: indexing with dtype torch.uint8 is now deprecated, please use a dtype torch.bool instead. (Triggered internally at  ../aten/src/ATen/native/IndexingUtils.h:28.)\n",
      "  sequence_output = sequence_output[~gpr_tags_mask].view(batch_size, -1, self.config.hidden_size)\n",
      "Evaluating: 100%|██████████| 1/1 [00:04<00:00,  4.22s/it]"
     ]
    },
    {
     "name": "stdout",
     "output_type": "stream",
     "text": [
      "[0.99085087 0.00914911]\n",
      "Known pronoun 'his' resolves 'True' to 'Infantas' with a probability of '0.9908508658409119'\n"
     ]
    },
    {
     "name": "stderr",
     "output_type": "stream",
     "text": [
      "\n"
     ]
    },
    {
     "data": {
      "text/html": [
       "<div>\n",
       "<style scoped>\n",
       "    .dataframe tbody tr th:only-of-type {\n",
       "        vertical-align: middle;\n",
       "    }\n",
       "\n",
       "    .dataframe tbody tr th {\n",
       "        vertical-align: top;\n",
       "    }\n",
       "\n",
       "    .dataframe thead th {\n",
       "        text-align: right;\n",
       "    }\n",
       "</style>\n",
       "<table border=\"1\" class=\"dataframe\">\n",
       "  <thead>\n",
       "    <tr style=\"text-align: right;\">\n",
       "      <th></th>\n",
       "      <th>id</th>\n",
       "      <th>text</th>\n",
       "      <th>pronoun</th>\n",
       "      <th>pronoun_offset</th>\n",
       "      <th>a</th>\n",
       "      <th>a_offset</th>\n",
       "      <th>url</th>\n",
       "    </tr>\n",
       "  </thead>\n",
       "  <tbody>\n",
       "    <tr>\n",
       "      <th>0</th>\n",
       "      <td>na</td>\n",
       "      <td>This is most notable in two almost unique sett...</td>\n",
       "      <td>his</td>\n",
       "      <td>1</td>\n",
       "      <td>Michael Noone</td>\n",
       "      <td>229</td>\n",
       "      <td>na</td>\n",
       "    </tr>\n",
       "  </tbody>\n",
       "</table>\n",
       "</div>"
      ],
      "text/plain": [
       "   id                                               text pronoun  \\\n",
       "0  na  This is most notable in two almost unique sett...     his   \n",
       "\n",
       "   pronoun_offset              a  a_offset url  \n",
       "0               1  Michael Noone       229  na  "
      ]
     },
     "metadata": {},
     "output_type": "display_data"
    },
    {
     "name": "stderr",
     "output_type": "stream",
     "text": [
      "Initializing Step InputReader\n",
      "Step InputReader initialized\n",
      "Initializing Step LabelSanitizer\n",
      "Step LabelSanitizer initialized\n",
      "Initializing Step MentionsAnnotator\n",
      "Step MentionsAnnotator initialized\n",
      "Initializing Step gather_step\n",
      "STEPPY WARNING: Step with name \"InputReader\", already exist. Make sure that all Steps have unique name.\n",
      "Step gather_step initialized\n",
      "Step gather_step, working in \"inference\" mode\n",
      "Step InputReader, working in \"inference\" mode\n",
      "Step InputReader, adapting inputs\n",
      "Step InputReader, transforming...\n",
      "Step InputReader, transforming completed\n",
      "Step InputReader, transform completed\n",
      "Step LabelSanitizer, working in \"inference\" mode\n",
      "Step LabelSanitizer, adapting inputs\n",
      "Step LabelSanitizer, transforming...\n",
      "Step LabelSanitizer, transforming completed\n",
      "Step LabelSanitizer, transform completed\n",
      "Step MentionsAnnotator, working in \"inference\" mode\n",
      "Step InputReader, working in \"inference\" mode\n",
      "Step InputReader, adapting inputs\n",
      "Step InputReader, transforming...\n",
      "Step InputReader, transforming completed\n",
      "Step InputReader, transform completed\n",
      "Step MentionsAnnotator, unpacking inputs\n",
      "Step MentionsAnnotator, transforming...\n"
     ]
    },
    {
     "name": "stdout",
     "output_type": "stream",
     "text": [
      "Transforming data to features.\n",
      "------BEFORE DATA PIPELINE------- results/probert\n",
      "Empty DataFrame\n",
      "Columns: [id, label]\n",
      "Index: []\n"
     ]
    },
    {
     "name": "stderr",
     "output_type": "stream",
     "text": [
      "Extracting coref clusters...: 100%|██████████| 1/1 [00:00<00:00, 777.30it/s]\n",
      "Step MentionsAnnotator, transforming completed\n",
      "Step MentionsAnnotator, transform completed\n",
      "Step gather_step, adapting inputs\n",
      "Step gather_step, transforming...\n",
      "Step gather_step, transforming completed\n",
      "Step gather_step, transform completed\n"
     ]
    },
    {
     "name": "stdout",
     "output_type": "stream",
     "text": [
      "Transforming data to features done.\n",
      " Log a couple of examples for sanity check.\n",
      "\n"
     ]
    },
    {
     "name": "stderr",
     "output_type": "stream",
     "text": [
      "Convert Examples to features: 1it [00:00, 205.08it/s]\n",
      "Evaluating:   0%|          | 0/1 [00:00<?, ?it/s]/dccstor/media-bias-4374/gender-ambiguity-detectors/gap/models/gap/probert.py:35: UserWarning: indexing with dtype torch.uint8 is now deprecated, please use a dtype torch.bool instead. (Triggered internally at  ../aten/src/ATen/native/IndexingUtils.h:28.)\n",
      "  sequence_output = sequence_output[~gpr_tags_mask].view(batch_size, -1, self.config.hidden_size)\n",
      "Evaluating: 100%|██████████| 1/1 [00:04<00:00,  4.35s/it]"
     ]
    },
    {
     "name": "stdout",
     "output_type": "stream",
     "text": [
      "[0.8526656  0.14733437]\n",
      "Known pronoun 'his' resolves 'True' to 'Michael Noone' with a probability of '0.8526656031608582'\n"
     ]
    },
    {
     "name": "stderr",
     "output_type": "stream",
     "text": [
      "\n"
     ]
    },
    {
     "data": {
      "text/html": [
       "<div>\n",
       "<style scoped>\n",
       "    .dataframe tbody tr th:only-of-type {\n",
       "        vertical-align: middle;\n",
       "    }\n",
       "\n",
       "    .dataframe tbody tr th {\n",
       "        vertical-align: top;\n",
       "    }\n",
       "\n",
       "    .dataframe thead th {\n",
       "        text-align: right;\n",
       "    }\n",
       "</style>\n",
       "<table border=\"1\" class=\"dataframe\">\n",
       "  <thead>\n",
       "    <tr style=\"text-align: right;\">\n",
       "      <th></th>\n",
       "      <th>id</th>\n",
       "      <th>text</th>\n",
       "      <th>pronoun</th>\n",
       "      <th>pronoun_offset</th>\n",
       "      <th>a</th>\n",
       "      <th>a_offset</th>\n",
       "      <th>url</th>\n",
       "    </tr>\n",
       "  </thead>\n",
       "  <tbody>\n",
       "    <tr>\n",
       "      <th>0</th>\n",
       "      <td>na</td>\n",
       "      <td>This is most notable in two almost unique sett...</td>\n",
       "      <td>his</td>\n",
       "      <td>1</td>\n",
       "      <td>Le Brung</td>\n",
       "      <td>349</td>\n",
       "      <td>na</td>\n",
       "    </tr>\n",
       "  </tbody>\n",
       "</table>\n",
       "</div>"
      ],
      "text/plain": [
       "   id                                               text pronoun  \\\n",
       "0  na  This is most notable in two almost unique sett...     his   \n",
       "\n",
       "   pronoun_offset         a  a_offset url  \n",
       "0               1  Le Brung       349  na  "
      ]
     },
     "metadata": {},
     "output_type": "display_data"
    },
    {
     "name": "stderr",
     "output_type": "stream",
     "text": [
      "Initializing Step InputReader\n",
      "Step InputReader initialized\n",
      "Initializing Step LabelSanitizer\n",
      "Step LabelSanitizer initialized\n",
      "Initializing Step MentionsAnnotator\n",
      "Step MentionsAnnotator initialized\n",
      "Initializing Step gather_step\n",
      "STEPPY WARNING: Step with name \"InputReader\", already exist. Make sure that all Steps have unique name.\n",
      "Step gather_step initialized\n",
      "Step gather_step, working in \"inference\" mode\n",
      "Step InputReader, working in \"inference\" mode\n",
      "Step InputReader, adapting inputs\n",
      "Step InputReader, transforming...\n",
      "Step InputReader, transforming completed\n",
      "Step InputReader, transform completed\n",
      "Step LabelSanitizer, working in \"inference\" mode\n",
      "Step LabelSanitizer, adapting inputs\n",
      "Step LabelSanitizer, transforming...\n",
      "Step LabelSanitizer, transforming completed\n",
      "Step LabelSanitizer, transform completed\n",
      "Step MentionsAnnotator, working in \"inference\" mode\n",
      "Step InputReader, working in \"inference\" mode\n",
      "Step InputReader, adapting inputs\n",
      "Step InputReader, transforming...\n",
      "Step InputReader, transforming completed\n",
      "Step InputReader, transform completed\n",
      "Step MentionsAnnotator, unpacking inputs\n",
      "Step MentionsAnnotator, transforming...\n"
     ]
    },
    {
     "name": "stdout",
     "output_type": "stream",
     "text": [
      "Transforming data to features.\n",
      "------BEFORE DATA PIPELINE------- results/probert\n",
      "Empty DataFrame\n",
      "Columns: [id, label]\n",
      "Index: []\n"
     ]
    },
    {
     "name": "stderr",
     "output_type": "stream",
     "text": [
      "Extracting coref clusters...: 100%|██████████| 1/1 [00:00<00:00, 667.88it/s]\n",
      "Step MentionsAnnotator, transforming completed\n",
      "Step MentionsAnnotator, transform completed\n",
      "Step gather_step, adapting inputs\n",
      "Step gather_step, transforming...\n",
      "Step gather_step, transforming completed\n",
      "Step gather_step, transform completed\n"
     ]
    },
    {
     "name": "stdout",
     "output_type": "stream",
     "text": [
      "Transforming data to features done.\n",
      " Log a couple of examples for sanity check.\n",
      "\n"
     ]
    },
    {
     "name": "stderr",
     "output_type": "stream",
     "text": [
      "Convert Examples to features: 1it [00:00, 244.69it/s]\n",
      "Evaluating:   0%|          | 0/1 [00:00<?, ?it/s]/dccstor/media-bias-4374/gender-ambiguity-detectors/gap/models/gap/probert.py:35: UserWarning: indexing with dtype torch.uint8 is now deprecated, please use a dtype torch.bool instead. (Triggered internally at  ../aten/src/ATen/native/IndexingUtils.h:28.)\n",
      "  sequence_output = sequence_output[~gpr_tags_mask].view(batch_size, -1, self.config.hidden_size)\n",
      "Evaluating: 100%|██████████| 1/1 [00:04<00:00,  4.44s/it]"
     ]
    },
    {
     "name": "stdout",
     "output_type": "stream",
     "text": [
      "[0.05276328 0.9472367 ]\n",
      "Known pronoun 'his' resolves 'False' to 'Le Brung' with a probability of '0.9472367167472839'\n"
     ]
    },
    {
     "name": "stderr",
     "output_type": "stream",
     "text": [
      "\n"
     ]
    },
    {
     "data": {
      "text/html": [
       "<div>\n",
       "<style scoped>\n",
       "    .dataframe tbody tr th:only-of-type {\n",
       "        vertical-align: middle;\n",
       "    }\n",
       "\n",
       "    .dataframe tbody tr th {\n",
       "        vertical-align: top;\n",
       "    }\n",
       "\n",
       "    .dataframe thead th {\n",
       "        text-align: right;\n",
       "    }\n",
       "</style>\n",
       "<table border=\"1\" class=\"dataframe\">\n",
       "  <thead>\n",
       "    <tr style=\"text-align: right;\">\n",
       "      <th></th>\n",
       "      <th>id</th>\n",
       "      <th>text</th>\n",
       "      <th>pronoun</th>\n",
       "      <th>pronoun_offset</th>\n",
       "      <th>a</th>\n",
       "      <th>a_offset</th>\n",
       "      <th>url</th>\n",
       "    </tr>\n",
       "  </thead>\n",
       "  <tbody>\n",
       "    <tr>\n",
       "      <th>0</th>\n",
       "      <td>na</td>\n",
       "      <td>This is most notable in two almost unique sett...</td>\n",
       "      <td>his</td>\n",
       "      <td>419</td>\n",
       "      <td>Infantas</td>\n",
       "      <td>185</td>\n",
       "      <td>na</td>\n",
       "    </tr>\n",
       "  </tbody>\n",
       "</table>\n",
       "</div>"
      ],
      "text/plain": [
       "   id                                               text pronoun  \\\n",
       "0  na  This is most notable in two almost unique sett...     his   \n",
       "\n",
       "   pronoun_offset         a  a_offset url  \n",
       "0             419  Infantas       185  na  "
      ]
     },
     "metadata": {},
     "output_type": "display_data"
    },
    {
     "name": "stderr",
     "output_type": "stream",
     "text": [
      "Initializing Step InputReader\n",
      "Step InputReader initialized\n",
      "Initializing Step LabelSanitizer\n",
      "Step LabelSanitizer initialized\n",
      "Initializing Step MentionsAnnotator\n",
      "Step MentionsAnnotator initialized\n",
      "Initializing Step gather_step\n",
      "STEPPY WARNING: Step with name \"InputReader\", already exist. Make sure that all Steps have unique name.\n",
      "Step gather_step initialized\n",
      "Step gather_step, working in \"inference\" mode\n",
      "Step InputReader, working in \"inference\" mode\n",
      "Step InputReader, adapting inputs\n",
      "Step InputReader, transforming...\n",
      "Step InputReader, transforming completed\n",
      "Step InputReader, transform completed\n",
      "Step LabelSanitizer, working in \"inference\" mode\n",
      "Step LabelSanitizer, adapting inputs\n",
      "Step LabelSanitizer, transforming...\n",
      "Step LabelSanitizer, transforming completed\n",
      "Step LabelSanitizer, transform completed\n",
      "Step MentionsAnnotator, working in \"inference\" mode\n",
      "Step InputReader, working in \"inference\" mode\n",
      "Step InputReader, adapting inputs\n",
      "Step InputReader, transforming...\n",
      "Step InputReader, transforming completed\n",
      "Step InputReader, transform completed\n",
      "Step MentionsAnnotator, unpacking inputs\n",
      "Step MentionsAnnotator, transforming...\n"
     ]
    },
    {
     "name": "stdout",
     "output_type": "stream",
     "text": [
      "Transforming data to features.\n",
      "------BEFORE DATA PIPELINE------- results/probert\n",
      "Empty DataFrame\n",
      "Columns: [id, label]\n",
      "Index: []\n"
     ]
    },
    {
     "name": "stderr",
     "output_type": "stream",
     "text": [
      "Extracting coref clusters...: 100%|██████████| 1/1 [00:00<00:00, 743.93it/s]\n",
      "Step MentionsAnnotator, transforming completed\n",
      "Step MentionsAnnotator, transform completed\n",
      "Step gather_step, adapting inputs\n",
      "Step gather_step, transforming...\n",
      "Step gather_step, transforming completed\n",
      "Step gather_step, transform completed\n"
     ]
    },
    {
     "name": "stdout",
     "output_type": "stream",
     "text": [
      "Transforming data to features done.\n",
      " Log a couple of examples for sanity check.\n",
      "\n"
     ]
    },
    {
     "name": "stderr",
     "output_type": "stream",
     "text": [
      "Convert Examples to features: 1it [00:00, 218.26it/s]\n",
      "Evaluating:   0%|          | 0/1 [00:00<?, ?it/s]/dccstor/media-bias-4374/gender-ambiguity-detectors/gap/models/gap/probert.py:35: UserWarning: indexing with dtype torch.uint8 is now deprecated, please use a dtype torch.bool instead. (Triggered internally at  ../aten/src/ATen/native/IndexingUtils.h:28.)\n",
      "  sequence_output = sequence_output[~gpr_tags_mask].view(batch_size, -1, self.config.hidden_size)\n",
      "Evaluating: 100%|██████████| 1/1 [00:04<00:00,  4.27s/it]"
     ]
    },
    {
     "name": "stdout",
     "output_type": "stream",
     "text": [
      "[0.36191744 0.63808256]\n",
      "Known pronoun 'his' resolves 'False' to 'Infantas' with a probability of '0.6380825638771057'\n"
     ]
    },
    {
     "name": "stderr",
     "output_type": "stream",
     "text": [
      "\n"
     ]
    },
    {
     "data": {
      "text/html": [
       "<div>\n",
       "<style scoped>\n",
       "    .dataframe tbody tr th:only-of-type {\n",
       "        vertical-align: middle;\n",
       "    }\n",
       "\n",
       "    .dataframe tbody tr th {\n",
       "        vertical-align: top;\n",
       "    }\n",
       "\n",
       "    .dataframe thead th {\n",
       "        text-align: right;\n",
       "    }\n",
       "</style>\n",
       "<table border=\"1\" class=\"dataframe\">\n",
       "  <thead>\n",
       "    <tr style=\"text-align: right;\">\n",
       "      <th></th>\n",
       "      <th>id</th>\n",
       "      <th>text</th>\n",
       "      <th>pronoun</th>\n",
       "      <th>pronoun_offset</th>\n",
       "      <th>a</th>\n",
       "      <th>a_offset</th>\n",
       "      <th>url</th>\n",
       "    </tr>\n",
       "  </thead>\n",
       "  <tbody>\n",
       "    <tr>\n",
       "      <th>0</th>\n",
       "      <td>na</td>\n",
       "      <td>This is most notable in two almost unique sett...</td>\n",
       "      <td>his</td>\n",
       "      <td>419</td>\n",
       "      <td>Infantas</td>\n",
       "      <td>284</td>\n",
       "      <td>na</td>\n",
       "    </tr>\n",
       "  </tbody>\n",
       "</table>\n",
       "</div>"
      ],
      "text/plain": [
       "   id                                               text pronoun  \\\n",
       "0  na  This is most notable in two almost unique sett...     his   \n",
       "\n",
       "   pronoun_offset         a  a_offset url  \n",
       "0             419  Infantas       284  na  "
      ]
     },
     "metadata": {},
     "output_type": "display_data"
    },
    {
     "name": "stderr",
     "output_type": "stream",
     "text": [
      "Initializing Step InputReader\n",
      "Step InputReader initialized\n",
      "Initializing Step LabelSanitizer\n",
      "Step LabelSanitizer initialized\n",
      "Initializing Step MentionsAnnotator\n",
      "Step MentionsAnnotator initialized\n",
      "Initializing Step gather_step\n",
      "STEPPY WARNING: Step with name \"InputReader\", already exist. Make sure that all Steps have unique name.\n",
      "Step gather_step initialized\n",
      "Step gather_step, working in \"inference\" mode\n",
      "Step InputReader, working in \"inference\" mode\n",
      "Step InputReader, adapting inputs\n",
      "Step InputReader, transforming...\n",
      "Step InputReader, transforming completed\n",
      "Step InputReader, transform completed\n",
      "Step LabelSanitizer, working in \"inference\" mode\n",
      "Step LabelSanitizer, adapting inputs\n",
      "Step LabelSanitizer, transforming...\n",
      "Step LabelSanitizer, transforming completed\n",
      "Step LabelSanitizer, transform completed\n",
      "Step MentionsAnnotator, working in \"inference\" mode\n",
      "Step InputReader, working in \"inference\" mode\n",
      "Step InputReader, adapting inputs\n",
      "Step InputReader, transforming...\n",
      "Step InputReader, transforming completed\n",
      "Step InputReader, transform completed\n",
      "Step MentionsAnnotator, unpacking inputs\n",
      "Step MentionsAnnotator, transforming...\n"
     ]
    },
    {
     "name": "stdout",
     "output_type": "stream",
     "text": [
      "Transforming data to features.\n",
      "------BEFORE DATA PIPELINE------- results/probert\n",
      "Empty DataFrame\n",
      "Columns: [id, label]\n",
      "Index: []\n"
     ]
    },
    {
     "name": "stderr",
     "output_type": "stream",
     "text": [
      "Extracting coref clusters...: 100%|██████████| 1/1 [00:00<00:00, 664.29it/s]\n",
      "Step MentionsAnnotator, transforming completed\n",
      "Step MentionsAnnotator, transform completed\n",
      "Step gather_step, adapting inputs\n",
      "Step gather_step, transforming...\n",
      "Step gather_step, transforming completed\n",
      "Step gather_step, transform completed\n"
     ]
    },
    {
     "name": "stdout",
     "output_type": "stream",
     "text": [
      "Transforming data to features done.\n",
      " Log a couple of examples for sanity check.\n",
      "\n"
     ]
    },
    {
     "name": "stderr",
     "output_type": "stream",
     "text": [
      "Convert Examples to features: 1it [00:00, 239.11it/s]\n",
      "Evaluating:   0%|          | 0/1 [00:00<?, ?it/s]/dccstor/media-bias-4374/gender-ambiguity-detectors/gap/models/gap/probert.py:35: UserWarning: indexing with dtype torch.uint8 is now deprecated, please use a dtype torch.bool instead. (Triggered internally at  ../aten/src/ATen/native/IndexingUtils.h:28.)\n",
      "  sequence_output = sequence_output[~gpr_tags_mask].view(batch_size, -1, self.config.hidden_size)\n",
      "Evaluating: 100%|██████████| 1/1 [00:04<00:00,  4.38s/it]"
     ]
    },
    {
     "name": "stdout",
     "output_type": "stream",
     "text": [
      "[0.8917452  0.10825478]\n",
      "Known pronoun 'his' resolves 'True' to 'Infantas' with a probability of '0.8917452096939087'\n"
     ]
    },
    {
     "name": "stderr",
     "output_type": "stream",
     "text": [
      "\n"
     ]
    },
    {
     "data": {
      "text/html": [
       "<div>\n",
       "<style scoped>\n",
       "    .dataframe tbody tr th:only-of-type {\n",
       "        vertical-align: middle;\n",
       "    }\n",
       "\n",
       "    .dataframe tbody tr th {\n",
       "        vertical-align: top;\n",
       "    }\n",
       "\n",
       "    .dataframe thead th {\n",
       "        text-align: right;\n",
       "    }\n",
       "</style>\n",
       "<table border=\"1\" class=\"dataframe\">\n",
       "  <thead>\n",
       "    <tr style=\"text-align: right;\">\n",
       "      <th></th>\n",
       "      <th>id</th>\n",
       "      <th>text</th>\n",
       "      <th>pronoun</th>\n",
       "      <th>pronoun_offset</th>\n",
       "      <th>a</th>\n",
       "      <th>a_offset</th>\n",
       "      <th>url</th>\n",
       "    </tr>\n",
       "  </thead>\n",
       "  <tbody>\n",
       "    <tr>\n",
       "      <th>0</th>\n",
       "      <td>na</td>\n",
       "      <td>This is most notable in two almost unique sett...</td>\n",
       "      <td>his</td>\n",
       "      <td>419</td>\n",
       "      <td>Infantas</td>\n",
       "      <td>401</td>\n",
       "      <td>na</td>\n",
       "    </tr>\n",
       "  </tbody>\n",
       "</table>\n",
       "</div>"
      ],
      "text/plain": [
       "   id                                               text pronoun  \\\n",
       "0  na  This is most notable in two almost unique sett...     his   \n",
       "\n",
       "   pronoun_offset         a  a_offset url  \n",
       "0             419  Infantas       401  na  "
      ]
     },
     "metadata": {},
     "output_type": "display_data"
    },
    {
     "name": "stderr",
     "output_type": "stream",
     "text": [
      "Initializing Step InputReader\n",
      "Step InputReader initialized\n",
      "Initializing Step LabelSanitizer\n",
      "Step LabelSanitizer initialized\n",
      "Initializing Step MentionsAnnotator\n",
      "Step MentionsAnnotator initialized\n",
      "Initializing Step gather_step\n",
      "STEPPY WARNING: Step with name \"InputReader\", already exist. Make sure that all Steps have unique name.\n",
      "Step gather_step initialized\n",
      "Step gather_step, working in \"inference\" mode\n",
      "Step InputReader, working in \"inference\" mode\n",
      "Step InputReader, adapting inputs\n",
      "Step InputReader, transforming...\n",
      "Step InputReader, transforming completed\n",
      "Step InputReader, transform completed\n",
      "Step LabelSanitizer, working in \"inference\" mode\n",
      "Step LabelSanitizer, adapting inputs\n",
      "Step LabelSanitizer, transforming...\n",
      "Step LabelSanitizer, transforming completed\n",
      "Step LabelSanitizer, transform completed\n",
      "Step MentionsAnnotator, working in \"inference\" mode\n",
      "Step InputReader, working in \"inference\" mode\n",
      "Step InputReader, adapting inputs\n",
      "Step InputReader, transforming...\n",
      "Step InputReader, transforming completed\n",
      "Step InputReader, transform completed\n",
      "Step MentionsAnnotator, unpacking inputs\n",
      "Step MentionsAnnotator, transforming...\n"
     ]
    },
    {
     "name": "stdout",
     "output_type": "stream",
     "text": [
      "Transforming data to features.\n",
      "------BEFORE DATA PIPELINE------- results/probert\n",
      "Empty DataFrame\n",
      "Columns: [id, label]\n",
      "Index: []\n"
     ]
    },
    {
     "name": "stderr",
     "output_type": "stream",
     "text": [
      "Extracting coref clusters...: 100%|██████████| 1/1 [00:00<00:00, 749.65it/s]\n",
      "Step MentionsAnnotator, transforming completed\n",
      "Step MentionsAnnotator, transform completed\n",
      "Step gather_step, adapting inputs\n",
      "Step gather_step, transforming...\n",
      "Step gather_step, transforming completed\n",
      "Step gather_step, transform completed\n"
     ]
    },
    {
     "name": "stdout",
     "output_type": "stream",
     "text": [
      "Transforming data to features done.\n",
      " Log a couple of examples for sanity check.\n",
      "\n"
     ]
    },
    {
     "name": "stderr",
     "output_type": "stream",
     "text": [
      "Convert Examples to features: 1it [00:00, 246.87it/s]\n",
      "Evaluating:   0%|          | 0/1 [00:00<?, ?it/s]/dccstor/media-bias-4374/gender-ambiguity-detectors/gap/models/gap/probert.py:35: UserWarning: indexing with dtype torch.uint8 is now deprecated, please use a dtype torch.bool instead. (Triggered internally at  ../aten/src/ATen/native/IndexingUtils.h:28.)\n",
      "  sequence_output = sequence_output[~gpr_tags_mask].view(batch_size, -1, self.config.hidden_size)\n",
      "Evaluating: 100%|██████████| 1/1 [00:04<00:00,  4.36s/it]"
     ]
    },
    {
     "name": "stdout",
     "output_type": "stream",
     "text": [
      "[0.53081894 0.46918103]\n",
      "Known pronoun 'his' resolves 'True' to 'Infantas' with a probability of '0.5308189392089844'\n"
     ]
    },
    {
     "name": "stderr",
     "output_type": "stream",
     "text": [
      "\n"
     ]
    },
    {
     "data": {
      "text/html": [
       "<div>\n",
       "<style scoped>\n",
       "    .dataframe tbody tr th:only-of-type {\n",
       "        vertical-align: middle;\n",
       "    }\n",
       "\n",
       "    .dataframe tbody tr th {\n",
       "        vertical-align: top;\n",
       "    }\n",
       "\n",
       "    .dataframe thead th {\n",
       "        text-align: right;\n",
       "    }\n",
       "</style>\n",
       "<table border=\"1\" class=\"dataframe\">\n",
       "  <thead>\n",
       "    <tr style=\"text-align: right;\">\n",
       "      <th></th>\n",
       "      <th>id</th>\n",
       "      <th>text</th>\n",
       "      <th>pronoun</th>\n",
       "      <th>pronoun_offset</th>\n",
       "      <th>a</th>\n",
       "      <th>a_offset</th>\n",
       "      <th>url</th>\n",
       "    </tr>\n",
       "  </thead>\n",
       "  <tbody>\n",
       "    <tr>\n",
       "      <th>0</th>\n",
       "      <td>na</td>\n",
       "      <td>This is most notable in two almost unique sett...</td>\n",
       "      <td>his</td>\n",
       "      <td>419</td>\n",
       "      <td>Michael Noone</td>\n",
       "      <td>229</td>\n",
       "      <td>na</td>\n",
       "    </tr>\n",
       "  </tbody>\n",
       "</table>\n",
       "</div>"
      ],
      "text/plain": [
       "   id                                               text pronoun  \\\n",
       "0  na  This is most notable in two almost unique sett...     his   \n",
       "\n",
       "   pronoun_offset              a  a_offset url  \n",
       "0             419  Michael Noone       229  na  "
      ]
     },
     "metadata": {},
     "output_type": "display_data"
    },
    {
     "name": "stderr",
     "output_type": "stream",
     "text": [
      "Initializing Step InputReader\n",
      "Step InputReader initialized\n",
      "Initializing Step LabelSanitizer\n",
      "Step LabelSanitizer initialized\n",
      "Initializing Step MentionsAnnotator\n",
      "Step MentionsAnnotator initialized\n",
      "Initializing Step gather_step\n",
      "STEPPY WARNING: Step with name \"InputReader\", already exist. Make sure that all Steps have unique name.\n",
      "Step gather_step initialized\n",
      "Step gather_step, working in \"inference\" mode\n",
      "Step InputReader, working in \"inference\" mode\n",
      "Step InputReader, adapting inputs\n",
      "Step InputReader, transforming...\n",
      "Step InputReader, transforming completed\n",
      "Step InputReader, transform completed\n",
      "Step LabelSanitizer, working in \"inference\" mode\n",
      "Step LabelSanitizer, adapting inputs\n",
      "Step LabelSanitizer, transforming...\n",
      "Step LabelSanitizer, transforming completed\n",
      "Step LabelSanitizer, transform completed\n",
      "Step MentionsAnnotator, working in \"inference\" mode\n",
      "Step InputReader, working in \"inference\" mode\n",
      "Step InputReader, adapting inputs\n",
      "Step InputReader, transforming...\n",
      "Step InputReader, transforming completed\n",
      "Step InputReader, transform completed\n",
      "Step MentionsAnnotator, unpacking inputs\n",
      "Step MentionsAnnotator, transforming...\n"
     ]
    },
    {
     "name": "stdout",
     "output_type": "stream",
     "text": [
      "Transforming data to features.\n",
      "------BEFORE DATA PIPELINE------- results/probert\n",
      "Empty DataFrame\n",
      "Columns: [id, label]\n",
      "Index: []\n"
     ]
    },
    {
     "name": "stderr",
     "output_type": "stream",
     "text": [
      "Extracting coref clusters...: 100%|██████████| 1/1 [00:00<00:00, 660.31it/s]\n",
      "Step MentionsAnnotator, transforming completed\n",
      "Step MentionsAnnotator, transform completed\n",
      "Step gather_step, adapting inputs\n",
      "Step gather_step, transforming...\n",
      "Step gather_step, transforming completed\n",
      "Step gather_step, transform completed\n"
     ]
    },
    {
     "name": "stdout",
     "output_type": "stream",
     "text": [
      "Transforming data to features done.\n",
      " Log a couple of examples for sanity check.\n",
      "\n"
     ]
    },
    {
     "name": "stderr",
     "output_type": "stream",
     "text": [
      "Convert Examples to features: 1it [00:00, 247.76it/s]\n",
      "Evaluating:   0%|          | 0/1 [00:00<?, ?it/s]/dccstor/media-bias-4374/gender-ambiguity-detectors/gap/models/gap/probert.py:35: UserWarning: indexing with dtype torch.uint8 is now deprecated, please use a dtype torch.bool instead. (Triggered internally at  ../aten/src/ATen/native/IndexingUtils.h:28.)\n",
      "  sequence_output = sequence_output[~gpr_tags_mask].view(batch_size, -1, self.config.hidden_size)\n",
      "Evaluating: 100%|██████████| 1/1 [00:04<00:00,  4.36s/it]"
     ]
    },
    {
     "name": "stdout",
     "output_type": "stream",
     "text": [
      "[0.01429688 0.9857032 ]\n",
      "Known pronoun 'his' resolves 'False' to 'Michael Noone' with a probability of '0.98570317029953'\n"
     ]
    },
    {
     "name": "stderr",
     "output_type": "stream",
     "text": [
      "\n"
     ]
    },
    {
     "data": {
      "text/html": [
       "<div>\n",
       "<style scoped>\n",
       "    .dataframe tbody tr th:only-of-type {\n",
       "        vertical-align: middle;\n",
       "    }\n",
       "\n",
       "    .dataframe tbody tr th {\n",
       "        vertical-align: top;\n",
       "    }\n",
       "\n",
       "    .dataframe thead th {\n",
       "        text-align: right;\n",
       "    }\n",
       "</style>\n",
       "<table border=\"1\" class=\"dataframe\">\n",
       "  <thead>\n",
       "    <tr style=\"text-align: right;\">\n",
       "      <th></th>\n",
       "      <th>id</th>\n",
       "      <th>text</th>\n",
       "      <th>pronoun</th>\n",
       "      <th>pronoun_offset</th>\n",
       "      <th>a</th>\n",
       "      <th>a_offset</th>\n",
       "      <th>url</th>\n",
       "    </tr>\n",
       "  </thead>\n",
       "  <tbody>\n",
       "    <tr>\n",
       "      <th>0</th>\n",
       "      <td>na</td>\n",
       "      <td>This is most notable in two almost unique sett...</td>\n",
       "      <td>his</td>\n",
       "      <td>419</td>\n",
       "      <td>Le Brung</td>\n",
       "      <td>349</td>\n",
       "      <td>na</td>\n",
       "    </tr>\n",
       "  </tbody>\n",
       "</table>\n",
       "</div>"
      ],
      "text/plain": [
       "   id                                               text pronoun  \\\n",
       "0  na  This is most notable in two almost unique sett...     his   \n",
       "\n",
       "   pronoun_offset         a  a_offset url  \n",
       "0             419  Le Brung       349  na  "
      ]
     },
     "metadata": {},
     "output_type": "display_data"
    },
    {
     "name": "stderr",
     "output_type": "stream",
     "text": [
      "Initializing Step InputReader\n",
      "Step InputReader initialized\n",
      "Initializing Step LabelSanitizer\n",
      "Step LabelSanitizer initialized\n",
      "Initializing Step MentionsAnnotator\n",
      "Step MentionsAnnotator initialized\n",
      "Initializing Step gather_step\n",
      "STEPPY WARNING: Step with name \"InputReader\", already exist. Make sure that all Steps have unique name.\n",
      "Step gather_step initialized\n",
      "Step gather_step, working in \"inference\" mode\n",
      "Step InputReader, working in \"inference\" mode\n",
      "Step InputReader, adapting inputs\n",
      "Step InputReader, transforming...\n",
      "Step InputReader, transforming completed\n",
      "Step InputReader, transform completed\n",
      "Step LabelSanitizer, working in \"inference\" mode\n",
      "Step LabelSanitizer, adapting inputs\n",
      "Step LabelSanitizer, transforming...\n",
      "Step LabelSanitizer, transforming completed\n",
      "Step LabelSanitizer, transform completed\n",
      "Step MentionsAnnotator, working in \"inference\" mode\n",
      "Step InputReader, working in \"inference\" mode\n",
      "Step InputReader, adapting inputs\n",
      "Step InputReader, transforming...\n",
      "Step InputReader, transforming completed\n",
      "Step InputReader, transform completed\n",
      "Step MentionsAnnotator, unpacking inputs\n",
      "Step MentionsAnnotator, transforming...\n"
     ]
    },
    {
     "name": "stdout",
     "output_type": "stream",
     "text": [
      "Transforming data to features.\n",
      "------BEFORE DATA PIPELINE------- results/probert\n",
      "Empty DataFrame\n",
      "Columns: [id, label]\n",
      "Index: []\n"
     ]
    },
    {
     "name": "stderr",
     "output_type": "stream",
     "text": [
      "Extracting coref clusters...: 100%|██████████| 1/1 [00:00<00:00, 589.09it/s]\n",
      "Step MentionsAnnotator, transforming completed\n",
      "Step MentionsAnnotator, transform completed\n",
      "Step gather_step, adapting inputs\n",
      "Step gather_step, transforming...\n",
      "Step gather_step, transforming completed\n",
      "Step gather_step, transform completed\n"
     ]
    },
    {
     "name": "stdout",
     "output_type": "stream",
     "text": [
      "Transforming data to features done.\n",
      " Log a couple of examples for sanity check.\n",
      "\n"
     ]
    },
    {
     "name": "stderr",
     "output_type": "stream",
     "text": [
      "Convert Examples to features: 1it [00:00, 230.68it/s]\n",
      "Evaluating:   0%|          | 0/1 [00:00<?, ?it/s]/dccstor/media-bias-4374/gender-ambiguity-detectors/gap/models/gap/probert.py:35: UserWarning: indexing with dtype torch.uint8 is now deprecated, please use a dtype torch.bool instead. (Triggered internally at  ../aten/src/ATen/native/IndexingUtils.h:28.)\n",
      "  sequence_output = sequence_output[~gpr_tags_mask].view(batch_size, -1, self.config.hidden_size)\n",
      "Evaluating: 100%|██████████| 1/1 [00:04<00:00,  4.34s/it]"
     ]
    },
    {
     "name": "stdout",
     "output_type": "stream",
     "text": [
      "[0.01602449 0.9839755 ]\n",
      "Known pronoun 'his' resolves 'False' to 'Le Brung' with a probability of '0.9839755296707153'\n"
     ]
    },
    {
     "name": "stderr",
     "output_type": "stream",
     "text": [
      "\n"
     ]
    },
    {
     "data": {
      "text/html": [
       "<div>\n",
       "<style scoped>\n",
       "    .dataframe tbody tr th:only-of-type {\n",
       "        vertical-align: middle;\n",
       "    }\n",
       "\n",
       "    .dataframe tbody tr th {\n",
       "        vertical-align: top;\n",
       "    }\n",
       "\n",
       "    .dataframe thead th {\n",
       "        text-align: right;\n",
       "    }\n",
       "</style>\n",
       "<table border=\"1\" class=\"dataframe\">\n",
       "  <thead>\n",
       "    <tr style=\"text-align: right;\">\n",
       "      <th></th>\n",
       "      <th>id</th>\n",
       "      <th>text</th>\n",
       "      <th>pronoun</th>\n",
       "      <th>pronoun_offset</th>\n",
       "      <th>a</th>\n",
       "      <th>a_offset</th>\n",
       "      <th>url</th>\n",
       "    </tr>\n",
       "  </thead>\n",
       "  <tbody>\n",
       "    <tr>\n",
       "      <th>0</th>\n",
       "      <td>na</td>\n",
       "      <td>Tilton first made contact with Dozenberg when ...</td>\n",
       "      <td>he</td>\n",
       "      <td>42</td>\n",
       "      <td>Tilton</td>\n",
       "      <td>0</td>\n",
       "      <td>na</td>\n",
       "    </tr>\n",
       "  </tbody>\n",
       "</table>\n",
       "</div>"
      ],
      "text/plain": [
       "   id                                               text pronoun  \\\n",
       "0  na  Tilton first made contact with Dozenberg when ...      he   \n",
       "\n",
       "   pronoun_offset       a  a_offset url  \n",
       "0              42  Tilton         0  na  "
      ]
     },
     "metadata": {},
     "output_type": "display_data"
    },
    {
     "name": "stderr",
     "output_type": "stream",
     "text": [
      "Initializing Step InputReader\n",
      "Step InputReader initialized\n",
      "Initializing Step LabelSanitizer\n",
      "Step LabelSanitizer initialized\n",
      "Initializing Step MentionsAnnotator\n",
      "Step MentionsAnnotator initialized\n",
      "Initializing Step gather_step\n",
      "STEPPY WARNING: Step with name \"InputReader\", already exist. Make sure that all Steps have unique name.\n",
      "Step gather_step initialized\n",
      "Step gather_step, working in \"inference\" mode\n",
      "Step InputReader, working in \"inference\" mode\n",
      "Step InputReader, adapting inputs\n",
      "Step InputReader, transforming...\n",
      "Step InputReader, transforming completed\n",
      "Step InputReader, transform completed\n",
      "Step LabelSanitizer, working in \"inference\" mode\n",
      "Step LabelSanitizer, adapting inputs\n",
      "Step LabelSanitizer, transforming...\n",
      "Step LabelSanitizer, transforming completed\n",
      "Step LabelSanitizer, transform completed\n",
      "Step MentionsAnnotator, working in \"inference\" mode\n",
      "Step InputReader, working in \"inference\" mode\n",
      "Step InputReader, adapting inputs\n",
      "Step InputReader, transforming...\n",
      "Step InputReader, transforming completed\n",
      "Step InputReader, transform completed\n",
      "Step MentionsAnnotator, unpacking inputs\n",
      "Step MentionsAnnotator, transforming...\n"
     ]
    },
    {
     "name": "stdout",
     "output_type": "stream",
     "text": [
      "Transforming data to features.\n",
      "------BEFORE DATA PIPELINE------- results/probert\n",
      "Empty DataFrame\n",
      "Columns: [id, label]\n",
      "Index: []\n"
     ]
    },
    {
     "name": "stderr",
     "output_type": "stream",
     "text": [
      "Extracting coref clusters...: 100%|██████████| 1/1 [00:00<00:00, 831.38it/s]\n",
      "Step MentionsAnnotator, transforming completed\n",
      "Step MentionsAnnotator, transform completed\n",
      "Step gather_step, adapting inputs\n",
      "Step gather_step, transforming...\n",
      "Step gather_step, transforming completed\n",
      "Step gather_step, transform completed\n"
     ]
    },
    {
     "name": "stdout",
     "output_type": "stream",
     "text": [
      "Transforming data to features done.\n",
      " Log a couple of examples for sanity check.\n",
      "\n"
     ]
    },
    {
     "name": "stderr",
     "output_type": "stream",
     "text": [
      "Convert Examples to features: 1it [00:00, 239.06it/s]\n",
      "Evaluating:   0%|          | 0/1 [00:00<?, ?it/s]/dccstor/media-bias-4374/gender-ambiguity-detectors/gap/models/gap/probert.py:35: UserWarning: indexing with dtype torch.uint8 is now deprecated, please use a dtype torch.bool instead. (Triggered internally at  ../aten/src/ATen/native/IndexingUtils.h:28.)\n",
      "  sequence_output = sequence_output[~gpr_tags_mask].view(batch_size, -1, self.config.hidden_size)\n",
      "Evaluating: 100%|██████████| 1/1 [00:04<00:00,  4.29s/it]"
     ]
    },
    {
     "name": "stdout",
     "output_type": "stream",
     "text": [
      "[0.568185 0.431815]\n",
      "Known pronoun 'he' resolves 'True' to 'Tilton' with a probability of '0.5681849718093872'\n"
     ]
    },
    {
     "name": "stderr",
     "output_type": "stream",
     "text": [
      "\n"
     ]
    },
    {
     "data": {
      "text/html": [
       "<div>\n",
       "<style scoped>\n",
       "    .dataframe tbody tr th:only-of-type {\n",
       "        vertical-align: middle;\n",
       "    }\n",
       "\n",
       "    .dataframe tbody tr th {\n",
       "        vertical-align: top;\n",
       "    }\n",
       "\n",
       "    .dataframe thead th {\n",
       "        text-align: right;\n",
       "    }\n",
       "</style>\n",
       "<table border=\"1\" class=\"dataframe\">\n",
       "  <thead>\n",
       "    <tr style=\"text-align: right;\">\n",
       "      <th></th>\n",
       "      <th>id</th>\n",
       "      <th>text</th>\n",
       "      <th>pronoun</th>\n",
       "      <th>pronoun_offset</th>\n",
       "      <th>a</th>\n",
       "      <th>a_offset</th>\n",
       "      <th>url</th>\n",
       "    </tr>\n",
       "  </thead>\n",
       "  <tbody>\n",
       "    <tr>\n",
       "      <th>0</th>\n",
       "      <td>na</td>\n",
       "      <td>Tilton first made contact with Dozenberg when ...</td>\n",
       "      <td>he</td>\n",
       "      <td>42</td>\n",
       "      <td>Tilton</td>\n",
       "      <td>126</td>\n",
       "      <td>na</td>\n",
       "    </tr>\n",
       "  </tbody>\n",
       "</table>\n",
       "</div>"
      ],
      "text/plain": [
       "   id                                               text pronoun  \\\n",
       "0  na  Tilton first made contact with Dozenberg when ...      he   \n",
       "\n",
       "   pronoun_offset       a  a_offset url  \n",
       "0              42  Tilton       126  na  "
      ]
     },
     "metadata": {},
     "output_type": "display_data"
    },
    {
     "name": "stderr",
     "output_type": "stream",
     "text": [
      "Initializing Step InputReader\n",
      "Step InputReader initialized\n",
      "Initializing Step LabelSanitizer\n",
      "Step LabelSanitizer initialized\n",
      "Initializing Step MentionsAnnotator\n",
      "Step MentionsAnnotator initialized\n",
      "Initializing Step gather_step\n",
      "STEPPY WARNING: Step with name \"InputReader\", already exist. Make sure that all Steps have unique name.\n",
      "Step gather_step initialized\n",
      "Step gather_step, working in \"inference\" mode\n",
      "Step InputReader, working in \"inference\" mode\n",
      "Step InputReader, adapting inputs\n",
      "Step InputReader, transforming...\n",
      "Step InputReader, transforming completed\n",
      "Step InputReader, transform completed\n",
      "Step LabelSanitizer, working in \"inference\" mode\n",
      "Step LabelSanitizer, adapting inputs\n",
      "Step LabelSanitizer, transforming...\n",
      "Step LabelSanitizer, transforming completed\n",
      "Step LabelSanitizer, transform completed\n",
      "Step MentionsAnnotator, working in \"inference\" mode\n",
      "Step InputReader, working in \"inference\" mode\n",
      "Step InputReader, adapting inputs\n",
      "Step InputReader, transforming...\n",
      "Step InputReader, transforming completed\n",
      "Step InputReader, transform completed\n",
      "Step MentionsAnnotator, unpacking inputs\n",
      "Step MentionsAnnotator, transforming...\n"
     ]
    },
    {
     "name": "stdout",
     "output_type": "stream",
     "text": [
      "Transforming data to features.\n",
      "------BEFORE DATA PIPELINE------- results/probert\n",
      "Empty DataFrame\n",
      "Columns: [id, label]\n",
      "Index: []\n"
     ]
    },
    {
     "name": "stderr",
     "output_type": "stream",
     "text": [
      "Extracting coref clusters...: 100%|██████████| 1/1 [00:00<00:00, 667.88it/s]\n",
      "Step MentionsAnnotator, transforming completed\n",
      "Step MentionsAnnotator, transform completed\n",
      "Step gather_step, adapting inputs\n",
      "Step gather_step, transforming...\n",
      "Step gather_step, transforming completed\n",
      "Step gather_step, transform completed\n"
     ]
    },
    {
     "name": "stdout",
     "output_type": "stream",
     "text": [
      "Transforming data to features done.\n",
      " Log a couple of examples for sanity check.\n",
      "\n"
     ]
    },
    {
     "name": "stderr",
     "output_type": "stream",
     "text": [
      "Convert Examples to features: 1it [00:00, 231.99it/s]\n",
      "Evaluating:   0%|          | 0/1 [00:00<?, ?it/s]/dccstor/media-bias-4374/gender-ambiguity-detectors/gap/models/gap/probert.py:35: UserWarning: indexing with dtype torch.uint8 is now deprecated, please use a dtype torch.bool instead. (Triggered internally at  ../aten/src/ATen/native/IndexingUtils.h:28.)\n",
      "  sequence_output = sequence_output[~gpr_tags_mask].view(batch_size, -1, self.config.hidden_size)\n",
      "Evaluating: 100%|██████████| 1/1 [00:04<00:00,  4.14s/it]"
     ]
    },
    {
     "name": "stdout",
     "output_type": "stream",
     "text": [
      "[0.27645436 0.7235457 ]\n",
      "Known pronoun 'he' resolves 'False' to 'Tilton' with a probability of '0.7235456705093384'\n"
     ]
    },
    {
     "name": "stderr",
     "output_type": "stream",
     "text": [
      "\n"
     ]
    },
    {
     "data": {
      "text/html": [
       "<div>\n",
       "<style scoped>\n",
       "    .dataframe tbody tr th:only-of-type {\n",
       "        vertical-align: middle;\n",
       "    }\n",
       "\n",
       "    .dataframe tbody tr th {\n",
       "        vertical-align: top;\n",
       "    }\n",
       "\n",
       "    .dataframe thead th {\n",
       "        text-align: right;\n",
       "    }\n",
       "</style>\n",
       "<table border=\"1\" class=\"dataframe\">\n",
       "  <thead>\n",
       "    <tr style=\"text-align: right;\">\n",
       "      <th></th>\n",
       "      <th>id</th>\n",
       "      <th>text</th>\n",
       "      <th>pronoun</th>\n",
       "      <th>pronoun_offset</th>\n",
       "      <th>a</th>\n",
       "      <th>a_offset</th>\n",
       "      <th>url</th>\n",
       "    </tr>\n",
       "  </thead>\n",
       "  <tbody>\n",
       "    <tr>\n",
       "      <th>0</th>\n",
       "      <td>na</td>\n",
       "      <td>Tilton first made contact with Dozenberg when ...</td>\n",
       "      <td>he</td>\n",
       "      <td>42</td>\n",
       "      <td>Tilton</td>\n",
       "      <td>291</td>\n",
       "      <td>na</td>\n",
       "    </tr>\n",
       "  </tbody>\n",
       "</table>\n",
       "</div>"
      ],
      "text/plain": [
       "   id                                               text pronoun  \\\n",
       "0  na  Tilton first made contact with Dozenberg when ...      he   \n",
       "\n",
       "   pronoun_offset       a  a_offset url  \n",
       "0              42  Tilton       291  na  "
      ]
     },
     "metadata": {},
     "output_type": "display_data"
    },
    {
     "name": "stderr",
     "output_type": "stream",
     "text": [
      "Initializing Step InputReader\n",
      "Step InputReader initialized\n",
      "Initializing Step LabelSanitizer\n",
      "Step LabelSanitizer initialized\n",
      "Initializing Step MentionsAnnotator\n",
      "Step MentionsAnnotator initialized\n",
      "Initializing Step gather_step\n",
      "STEPPY WARNING: Step with name \"InputReader\", already exist. Make sure that all Steps have unique name.\n",
      "Step gather_step initialized\n",
      "Step gather_step, working in \"inference\" mode\n",
      "Step InputReader, working in \"inference\" mode\n",
      "Step InputReader, adapting inputs\n",
      "Step InputReader, transforming...\n",
      "Step InputReader, transforming completed\n",
      "Step InputReader, transform completed\n",
      "Step LabelSanitizer, working in \"inference\" mode\n",
      "Step LabelSanitizer, adapting inputs\n",
      "Step LabelSanitizer, transforming...\n",
      "Step LabelSanitizer, transforming completed\n",
      "Step LabelSanitizer, transform completed\n",
      "Step MentionsAnnotator, working in \"inference\" mode\n",
      "Step InputReader, working in \"inference\" mode\n",
      "Step InputReader, adapting inputs\n",
      "Step InputReader, transforming...\n",
      "Step InputReader, transforming completed\n",
      "Step InputReader, transform completed\n",
      "Step MentionsAnnotator, unpacking inputs\n",
      "Step MentionsAnnotator, transforming...\n"
     ]
    },
    {
     "name": "stdout",
     "output_type": "stream",
     "text": [
      "Transforming data to features.\n",
      "------BEFORE DATA PIPELINE------- results/probert\n",
      "Empty DataFrame\n",
      "Columns: [id, label]\n",
      "Index: []\n"
     ]
    },
    {
     "name": "stderr",
     "output_type": "stream",
     "text": [
      "Extracting coref clusters...: 100%|██████████| 1/1 [00:00<00:00, 796.34it/s]\n",
      "Step MentionsAnnotator, transforming completed\n",
      "Step MentionsAnnotator, transform completed\n",
      "Step gather_step, adapting inputs\n",
      "Step gather_step, transforming...\n",
      "Step gather_step, transforming completed\n",
      "Step gather_step, transform completed\n"
     ]
    },
    {
     "name": "stdout",
     "output_type": "stream",
     "text": [
      "Transforming data to features done.\n",
      " Log a couple of examples for sanity check.\n",
      "\n"
     ]
    },
    {
     "name": "stderr",
     "output_type": "stream",
     "text": [
      "Convert Examples to features: 1it [00:00, 251.35it/s]\n",
      "Evaluating:   0%|          | 0/1 [00:00<?, ?it/s]/dccstor/media-bias-4374/gender-ambiguity-detectors/gap/models/gap/probert.py:35: UserWarning: indexing with dtype torch.uint8 is now deprecated, please use a dtype torch.bool instead. (Triggered internally at  ../aten/src/ATen/native/IndexingUtils.h:28.)\n",
      "  sequence_output = sequence_output[~gpr_tags_mask].view(batch_size, -1, self.config.hidden_size)\n",
      "Evaluating: 100%|██████████| 1/1 [00:04<00:00,  4.27s/it]"
     ]
    },
    {
     "name": "stdout",
     "output_type": "stream",
     "text": [
      "[0.5750555  0.42494455]\n",
      "Known pronoun 'he' resolves 'True' to 'Tilton' with a probability of '0.5750554800033569'\n"
     ]
    },
    {
     "name": "stderr",
     "output_type": "stream",
     "text": [
      "\n"
     ]
    },
    {
     "data": {
      "text/html": [
       "<div>\n",
       "<style scoped>\n",
       "    .dataframe tbody tr th:only-of-type {\n",
       "        vertical-align: middle;\n",
       "    }\n",
       "\n",
       "    .dataframe tbody tr th {\n",
       "        vertical-align: top;\n",
       "    }\n",
       "\n",
       "    .dataframe thead th {\n",
       "        text-align: right;\n",
       "    }\n",
       "</style>\n",
       "<table border=\"1\" class=\"dataframe\">\n",
       "  <thead>\n",
       "    <tr style=\"text-align: right;\">\n",
       "      <th></th>\n",
       "      <th>id</th>\n",
       "      <th>text</th>\n",
       "      <th>pronoun</th>\n",
       "      <th>pronoun_offset</th>\n",
       "      <th>a</th>\n",
       "      <th>a_offset</th>\n",
       "      <th>url</th>\n",
       "    </tr>\n",
       "  </thead>\n",
       "  <tbody>\n",
       "    <tr>\n",
       "      <th>0</th>\n",
       "      <td>na</td>\n",
       "      <td>Tilton first made contact with Dozenberg when ...</td>\n",
       "      <td>he</td>\n",
       "      <td>42</td>\n",
       "      <td>Dozenberg</td>\n",
       "      <td>31</td>\n",
       "      <td>na</td>\n",
       "    </tr>\n",
       "  </tbody>\n",
       "</table>\n",
       "</div>"
      ],
      "text/plain": [
       "   id                                               text pronoun  \\\n",
       "0  na  Tilton first made contact with Dozenberg when ...      he   \n",
       "\n",
       "   pronoun_offset          a  a_offset url  \n",
       "0              42  Dozenberg        31  na  "
      ]
     },
     "metadata": {},
     "output_type": "display_data"
    },
    {
     "name": "stderr",
     "output_type": "stream",
     "text": [
      "Initializing Step InputReader\n",
      "Step InputReader initialized\n",
      "Initializing Step LabelSanitizer\n",
      "Step LabelSanitizer initialized\n",
      "Initializing Step MentionsAnnotator\n",
      "Step MentionsAnnotator initialized\n",
      "Initializing Step gather_step\n",
      "STEPPY WARNING: Step with name \"InputReader\", already exist. Make sure that all Steps have unique name.\n",
      "Step gather_step initialized\n",
      "Step gather_step, working in \"inference\" mode\n",
      "Step InputReader, working in \"inference\" mode\n",
      "Step InputReader, adapting inputs\n",
      "Step InputReader, transforming...\n",
      "Step InputReader, transforming completed\n",
      "Step InputReader, transform completed\n",
      "Step LabelSanitizer, working in \"inference\" mode\n",
      "Step LabelSanitizer, adapting inputs\n",
      "Step LabelSanitizer, transforming...\n",
      "Step LabelSanitizer, transforming completed\n",
      "Step LabelSanitizer, transform completed\n",
      "Step MentionsAnnotator, working in \"inference\" mode\n",
      "Step InputReader, working in \"inference\" mode\n",
      "Step InputReader, adapting inputs\n",
      "Step InputReader, transforming...\n",
      "Step InputReader, transforming completed\n",
      "Step InputReader, transform completed\n",
      "Step MentionsAnnotator, unpacking inputs\n",
      "Step MentionsAnnotator, transforming...\n"
     ]
    },
    {
     "name": "stdout",
     "output_type": "stream",
     "text": [
      "Transforming data to features.\n",
      "------BEFORE DATA PIPELINE------- results/probert\n",
      "Empty DataFrame\n",
      "Columns: [id, label]\n",
      "Index: []\n"
     ]
    },
    {
     "name": "stderr",
     "output_type": "stream",
     "text": [
      "Extracting coref clusters...: 100%|██████████| 1/1 [00:00<00:00, 766.36it/s]\n",
      "Step MentionsAnnotator, transforming completed\n",
      "Step MentionsAnnotator, transform completed\n",
      "Step gather_step, adapting inputs\n",
      "Step gather_step, transforming...\n",
      "Step gather_step, transforming completed\n",
      "Step gather_step, transform completed\n"
     ]
    },
    {
     "name": "stdout",
     "output_type": "stream",
     "text": [
      "Transforming data to features done.\n",
      " Log a couple of examples for sanity check.\n",
      "\n"
     ]
    },
    {
     "name": "stderr",
     "output_type": "stream",
     "text": [
      "Convert Examples to features: 1it [00:00, 241.07it/s]\n",
      "Evaluating:   0%|          | 0/1 [00:00<?, ?it/s]/dccstor/media-bias-4374/gender-ambiguity-detectors/gap/models/gap/probert.py:35: UserWarning: indexing with dtype torch.uint8 is now deprecated, please use a dtype torch.bool instead. (Triggered internally at  ../aten/src/ATen/native/IndexingUtils.h:28.)\n",
      "  sequence_output = sequence_output[~gpr_tags_mask].view(batch_size, -1, self.config.hidden_size)\n",
      "Evaluating: 100%|██████████| 1/1 [00:04<00:00,  4.30s/it]"
     ]
    },
    {
     "name": "stdout",
     "output_type": "stream",
     "text": [
      "[0.17875318 0.82124686]\n",
      "Known pronoun 'he' resolves 'False' to 'Dozenberg' with a probability of '0.821246862411499'\n"
     ]
    },
    {
     "name": "stderr",
     "output_type": "stream",
     "text": [
      "\n"
     ]
    },
    {
     "data": {
      "text/html": [
       "<div>\n",
       "<style scoped>\n",
       "    .dataframe tbody tr th:only-of-type {\n",
       "        vertical-align: middle;\n",
       "    }\n",
       "\n",
       "    .dataframe tbody tr th {\n",
       "        vertical-align: top;\n",
       "    }\n",
       "\n",
       "    .dataframe thead th {\n",
       "        text-align: right;\n",
       "    }\n",
       "</style>\n",
       "<table border=\"1\" class=\"dataframe\">\n",
       "  <thead>\n",
       "    <tr style=\"text-align: right;\">\n",
       "      <th></th>\n",
       "      <th>id</th>\n",
       "      <th>text</th>\n",
       "      <th>pronoun</th>\n",
       "      <th>pronoun_offset</th>\n",
       "      <th>a</th>\n",
       "      <th>a_offset</th>\n",
       "      <th>url</th>\n",
       "    </tr>\n",
       "  </thead>\n",
       "  <tbody>\n",
       "    <tr>\n",
       "      <th>0</th>\n",
       "      <td>na</td>\n",
       "      <td>Tilton first made contact with Dozenberg when ...</td>\n",
       "      <td>he</td>\n",
       "      <td>42</td>\n",
       "      <td>Dozenberg</td>\n",
       "      <td>139</td>\n",
       "      <td>na</td>\n",
       "    </tr>\n",
       "  </tbody>\n",
       "</table>\n",
       "</div>"
      ],
      "text/plain": [
       "   id                                               text pronoun  \\\n",
       "0  na  Tilton first made contact with Dozenberg when ...      he   \n",
       "\n",
       "   pronoun_offset          a  a_offset url  \n",
       "0              42  Dozenberg       139  na  "
      ]
     },
     "metadata": {},
     "output_type": "display_data"
    },
    {
     "name": "stderr",
     "output_type": "stream",
     "text": [
      "Initializing Step InputReader\n",
      "Step InputReader initialized\n",
      "Initializing Step LabelSanitizer\n",
      "Step LabelSanitizer initialized\n",
      "Initializing Step MentionsAnnotator\n",
      "Step MentionsAnnotator initialized\n",
      "Initializing Step gather_step\n",
      "STEPPY WARNING: Step with name \"InputReader\", already exist. Make sure that all Steps have unique name.\n",
      "Step gather_step initialized\n",
      "Step gather_step, working in \"inference\" mode\n",
      "Step InputReader, working in \"inference\" mode\n",
      "Step InputReader, adapting inputs\n",
      "Step InputReader, transforming...\n",
      "Step InputReader, transforming completed\n",
      "Step InputReader, transform completed\n",
      "Step LabelSanitizer, working in \"inference\" mode\n",
      "Step LabelSanitizer, adapting inputs\n",
      "Step LabelSanitizer, transforming...\n",
      "Step LabelSanitizer, transforming completed\n",
      "Step LabelSanitizer, transform completed\n",
      "Step MentionsAnnotator, working in \"inference\" mode\n",
      "Step InputReader, working in \"inference\" mode\n",
      "Step InputReader, adapting inputs\n",
      "Step InputReader, transforming...\n",
      "Step InputReader, transforming completed\n",
      "Step InputReader, transform completed\n",
      "Step MentionsAnnotator, unpacking inputs\n",
      "Step MentionsAnnotator, transforming...\n"
     ]
    },
    {
     "name": "stdout",
     "output_type": "stream",
     "text": [
      "Transforming data to features.\n",
      "------BEFORE DATA PIPELINE------- results/probert\n",
      "Empty DataFrame\n",
      "Columns: [id, label]\n",
      "Index: []\n"
     ]
    },
    {
     "name": "stderr",
     "output_type": "stream",
     "text": [
      "Extracting coref clusters...: 100%|██████████| 1/1 [00:00<00:00, 773.00it/s]\n",
      "Step MentionsAnnotator, transforming completed\n",
      "Step MentionsAnnotator, transform completed\n",
      "Step gather_step, adapting inputs\n",
      "Step gather_step, transforming...\n",
      "Step gather_step, transforming completed\n",
      "Step gather_step, transform completed\n"
     ]
    },
    {
     "name": "stdout",
     "output_type": "stream",
     "text": [
      "Transforming data to features done.\n",
      " Log a couple of examples for sanity check.\n",
      "\n"
     ]
    },
    {
     "name": "stderr",
     "output_type": "stream",
     "text": [
      "Convert Examples to features: 1it [00:00, 250.78it/s]\n",
      "Evaluating:   0%|          | 0/1 [00:00<?, ?it/s]/dccstor/media-bias-4374/gender-ambiguity-detectors/gap/models/gap/probert.py:35: UserWarning: indexing with dtype torch.uint8 is now deprecated, please use a dtype torch.bool instead. (Triggered internally at  ../aten/src/ATen/native/IndexingUtils.h:28.)\n",
      "  sequence_output = sequence_output[~gpr_tags_mask].view(batch_size, -1, self.config.hidden_size)\n",
      "Evaluating: 100%|██████████| 1/1 [00:04<00:00,  4.21s/it]"
     ]
    },
    {
     "name": "stdout",
     "output_type": "stream",
     "text": [
      "[0.03271697 0.967283  ]\n",
      "Known pronoun 'he' resolves 'False' to 'Dozenberg' with a probability of '0.9672830104827881'\n"
     ]
    },
    {
     "name": "stderr",
     "output_type": "stream",
     "text": [
      "\n"
     ]
    },
    {
     "data": {
      "text/html": [
       "<div>\n",
       "<style scoped>\n",
       "    .dataframe tbody tr th:only-of-type {\n",
       "        vertical-align: middle;\n",
       "    }\n",
       "\n",
       "    .dataframe tbody tr th {\n",
       "        vertical-align: top;\n",
       "    }\n",
       "\n",
       "    .dataframe thead th {\n",
       "        text-align: right;\n",
       "    }\n",
       "</style>\n",
       "<table border=\"1\" class=\"dataframe\">\n",
       "  <thead>\n",
       "    <tr style=\"text-align: right;\">\n",
       "      <th></th>\n",
       "      <th>id</th>\n",
       "      <th>text</th>\n",
       "      <th>pronoun</th>\n",
       "      <th>pronoun_offset</th>\n",
       "      <th>a</th>\n",
       "      <th>a_offset</th>\n",
       "      <th>url</th>\n",
       "    </tr>\n",
       "  </thead>\n",
       "  <tbody>\n",
       "    <tr>\n",
       "      <th>0</th>\n",
       "      <td>na</td>\n",
       "      <td>Tilton first made contact with Dozenberg when ...</td>\n",
       "      <td>he</td>\n",
       "      <td>42</td>\n",
       "      <td>Dozenberg</td>\n",
       "      <td>202</td>\n",
       "      <td>na</td>\n",
       "    </tr>\n",
       "  </tbody>\n",
       "</table>\n",
       "</div>"
      ],
      "text/plain": [
       "   id                                               text pronoun  \\\n",
       "0  na  Tilton first made contact with Dozenberg when ...      he   \n",
       "\n",
       "   pronoun_offset          a  a_offset url  \n",
       "0              42  Dozenberg       202  na  "
      ]
     },
     "metadata": {},
     "output_type": "display_data"
    },
    {
     "name": "stderr",
     "output_type": "stream",
     "text": [
      "Initializing Step InputReader\n",
      "Step InputReader initialized\n",
      "Initializing Step LabelSanitizer\n",
      "Step LabelSanitizer initialized\n",
      "Initializing Step MentionsAnnotator\n",
      "Step MentionsAnnotator initialized\n",
      "Initializing Step gather_step\n",
      "STEPPY WARNING: Step with name \"InputReader\", already exist. Make sure that all Steps have unique name.\n",
      "Step gather_step initialized\n",
      "Step gather_step, working in \"inference\" mode\n",
      "Step InputReader, working in \"inference\" mode\n",
      "Step InputReader, adapting inputs\n",
      "Step InputReader, transforming...\n",
      "Step InputReader, transforming completed\n",
      "Step InputReader, transform completed\n",
      "Step LabelSanitizer, working in \"inference\" mode\n",
      "Step LabelSanitizer, adapting inputs\n",
      "Step LabelSanitizer, transforming...\n",
      "Step LabelSanitizer, transforming completed\n",
      "Step LabelSanitizer, transform completed\n",
      "Step MentionsAnnotator, working in \"inference\" mode\n",
      "Step InputReader, working in \"inference\" mode\n",
      "Step InputReader, adapting inputs\n",
      "Step InputReader, transforming...\n",
      "Step InputReader, transforming completed\n",
      "Step InputReader, transform completed\n",
      "Step MentionsAnnotator, unpacking inputs\n",
      "Step MentionsAnnotator, transforming...\n"
     ]
    },
    {
     "name": "stdout",
     "output_type": "stream",
     "text": [
      "Transforming data to features.\n",
      "------BEFORE DATA PIPELINE------- results/probert\n",
      "Empty DataFrame\n",
      "Columns: [id, label]\n",
      "Index: []\n"
     ]
    },
    {
     "name": "stderr",
     "output_type": "stream",
     "text": [
      "Extracting coref clusters...: 100%|██████████| 1/1 [00:00<00:00, 780.34it/s]\n",
      "Step MentionsAnnotator, transforming completed\n",
      "Step MentionsAnnotator, transform completed\n",
      "Step gather_step, adapting inputs\n",
      "Step gather_step, transforming...\n",
      "Step gather_step, transforming completed\n",
      "Step gather_step, transform completed\n"
     ]
    },
    {
     "name": "stdout",
     "output_type": "stream",
     "text": [
      "Transforming data to features done.\n",
      " Log a couple of examples for sanity check.\n",
      "\n"
     ]
    },
    {
     "name": "stderr",
     "output_type": "stream",
     "text": [
      "Convert Examples to features: 1it [00:00, 252.18it/s]\n",
      "Evaluating:   0%|          | 0/1 [00:00<?, ?it/s]/dccstor/media-bias-4374/gender-ambiguity-detectors/gap/models/gap/probert.py:35: UserWarning: indexing with dtype torch.uint8 is now deprecated, please use a dtype torch.bool instead. (Triggered internally at  ../aten/src/ATen/native/IndexingUtils.h:28.)\n",
      "  sequence_output = sequence_output[~gpr_tags_mask].view(batch_size, -1, self.config.hidden_size)\n",
      "Evaluating: 100%|██████████| 1/1 [00:04<00:00,  4.25s/it]"
     ]
    },
    {
     "name": "stdout",
     "output_type": "stream",
     "text": [
      "[0.04201628 0.9579837 ]\n",
      "Known pronoun 'he' resolves 'False' to 'Dozenberg' with a probability of '0.957983672618866'\n"
     ]
    },
    {
     "name": "stderr",
     "output_type": "stream",
     "text": [
      "\n"
     ]
    },
    {
     "data": {
      "text/html": [
       "<div>\n",
       "<style scoped>\n",
       "    .dataframe tbody tr th:only-of-type {\n",
       "        vertical-align: middle;\n",
       "    }\n",
       "\n",
       "    .dataframe tbody tr th {\n",
       "        vertical-align: top;\n",
       "    }\n",
       "\n",
       "    .dataframe thead th {\n",
       "        text-align: right;\n",
       "    }\n",
       "</style>\n",
       "<table border=\"1\" class=\"dataframe\">\n",
       "  <thead>\n",
       "    <tr style=\"text-align: right;\">\n",
       "      <th></th>\n",
       "      <th>id</th>\n",
       "      <th>text</th>\n",
       "      <th>pronoun</th>\n",
       "      <th>pronoun_offset</th>\n",
       "      <th>a</th>\n",
       "      <th>a_offset</th>\n",
       "      <th>url</th>\n",
       "    </tr>\n",
       "  </thead>\n",
       "  <tbody>\n",
       "    <tr>\n",
       "      <th>0</th>\n",
       "      <td>na</td>\n",
       "      <td>Tilton first made contact with Dozenberg when ...</td>\n",
       "      <td>he</td>\n",
       "      <td>42</td>\n",
       "      <td>Dozenberg</td>\n",
       "      <td>307</td>\n",
       "      <td>na</td>\n",
       "    </tr>\n",
       "  </tbody>\n",
       "</table>\n",
       "</div>"
      ],
      "text/plain": [
       "   id                                               text pronoun  \\\n",
       "0  na  Tilton first made contact with Dozenberg when ...      he   \n",
       "\n",
       "   pronoun_offset          a  a_offset url  \n",
       "0              42  Dozenberg       307  na  "
      ]
     },
     "metadata": {},
     "output_type": "display_data"
    },
    {
     "name": "stderr",
     "output_type": "stream",
     "text": [
      "Initializing Step InputReader\n",
      "Step InputReader initialized\n",
      "Initializing Step LabelSanitizer\n",
      "Step LabelSanitizer initialized\n",
      "Initializing Step MentionsAnnotator\n",
      "Step MentionsAnnotator initialized\n",
      "Initializing Step gather_step\n",
      "STEPPY WARNING: Step with name \"InputReader\", already exist. Make sure that all Steps have unique name.\n",
      "Step gather_step initialized\n",
      "Step gather_step, working in \"inference\" mode\n",
      "Step InputReader, working in \"inference\" mode\n",
      "Step InputReader, adapting inputs\n",
      "Step InputReader, transforming...\n",
      "Step InputReader, transforming completed\n",
      "Step InputReader, transform completed\n",
      "Step LabelSanitizer, working in \"inference\" mode\n",
      "Step LabelSanitizer, adapting inputs\n",
      "Step LabelSanitizer, transforming...\n",
      "Step LabelSanitizer, transforming completed\n",
      "Step LabelSanitizer, transform completed\n",
      "Step MentionsAnnotator, working in \"inference\" mode\n",
      "Step InputReader, working in \"inference\" mode\n",
      "Step InputReader, adapting inputs\n",
      "Step InputReader, transforming...\n",
      "Step InputReader, transforming completed\n",
      "Step InputReader, transform completed\n",
      "Step MentionsAnnotator, unpacking inputs\n",
      "Step MentionsAnnotator, transforming...\n"
     ]
    },
    {
     "name": "stdout",
     "output_type": "stream",
     "text": [
      "Transforming data to features.\n",
      "------BEFORE DATA PIPELINE------- results/probert\n",
      "Empty DataFrame\n",
      "Columns: [id, label]\n",
      "Index: []\n"
     ]
    },
    {
     "name": "stderr",
     "output_type": "stream",
     "text": [
      "Extracting coref clusters...: 100%|██████████| 1/1 [00:00<00:00, 734.04it/s]\n",
      "Step MentionsAnnotator, transforming completed\n",
      "Step MentionsAnnotator, transform completed\n",
      "Step gather_step, adapting inputs\n",
      "Step gather_step, transforming...\n",
      "Step gather_step, transforming completed\n",
      "Step gather_step, transform completed\n"
     ]
    },
    {
     "name": "stdout",
     "output_type": "stream",
     "text": [
      "Transforming data to features done.\n",
      " Log a couple of examples for sanity check.\n",
      "\n"
     ]
    },
    {
     "name": "stderr",
     "output_type": "stream",
     "text": [
      "Convert Examples to features: 1it [00:00, 227.40it/s]\n",
      "Evaluating:   0%|          | 0/1 [00:00<?, ?it/s]/dccstor/media-bias-4374/gender-ambiguity-detectors/gap/models/gap/probert.py:35: UserWarning: indexing with dtype torch.uint8 is now deprecated, please use a dtype torch.bool instead. (Triggered internally at  ../aten/src/ATen/native/IndexingUtils.h:28.)\n",
      "  sequence_output = sequence_output[~gpr_tags_mask].view(batch_size, -1, self.config.hidden_size)\n",
      "Evaluating: 100%|██████████| 1/1 [00:04<00:00,  4.23s/it]"
     ]
    },
    {
     "name": "stdout",
     "output_type": "stream",
     "text": [
      "[0.07964947 0.92035055]\n",
      "Known pronoun 'he' resolves 'False' to 'Dozenberg' with a probability of '0.9203505516052246'\n"
     ]
    },
    {
     "name": "stderr",
     "output_type": "stream",
     "text": [
      "\n"
     ]
    },
    {
     "data": {
      "text/html": [
       "<div>\n",
       "<style scoped>\n",
       "    .dataframe tbody tr th:only-of-type {\n",
       "        vertical-align: middle;\n",
       "    }\n",
       "\n",
       "    .dataframe tbody tr th {\n",
       "        vertical-align: top;\n",
       "    }\n",
       "\n",
       "    .dataframe thead th {\n",
       "        text-align: right;\n",
       "    }\n",
       "</style>\n",
       "<table border=\"1\" class=\"dataframe\">\n",
       "  <thead>\n",
       "    <tr style=\"text-align: right;\">\n",
       "      <th></th>\n",
       "      <th>id</th>\n",
       "      <th>text</th>\n",
       "      <th>pronoun</th>\n",
       "      <th>pronoun_offset</th>\n",
       "      <th>a</th>\n",
       "      <th>a_offset</th>\n",
       "      <th>url</th>\n",
       "    </tr>\n",
       "  </thead>\n",
       "  <tbody>\n",
       "    <tr>\n",
       "      <th>0</th>\n",
       "      <td>na</td>\n",
       "      <td>Tilton first made contact with Dozenberg when ...</td>\n",
       "      <td>he</td>\n",
       "      <td>42</td>\n",
       "      <td>Dozenberg</td>\n",
       "      <td>380</td>\n",
       "      <td>na</td>\n",
       "    </tr>\n",
       "  </tbody>\n",
       "</table>\n",
       "</div>"
      ],
      "text/plain": [
       "   id                                               text pronoun  \\\n",
       "0  na  Tilton first made contact with Dozenberg when ...      he   \n",
       "\n",
       "   pronoun_offset          a  a_offset url  \n",
       "0              42  Dozenberg       380  na  "
      ]
     },
     "metadata": {},
     "output_type": "display_data"
    },
    {
     "name": "stderr",
     "output_type": "stream",
     "text": [
      "Initializing Step InputReader\n",
      "Step InputReader initialized\n",
      "Initializing Step LabelSanitizer\n",
      "Step LabelSanitizer initialized\n",
      "Initializing Step MentionsAnnotator\n",
      "Step MentionsAnnotator initialized\n",
      "Initializing Step gather_step\n",
      "STEPPY WARNING: Step with name \"InputReader\", already exist. Make sure that all Steps have unique name.\n",
      "Step gather_step initialized\n",
      "Step gather_step, working in \"inference\" mode\n",
      "Step InputReader, working in \"inference\" mode\n",
      "Step InputReader, adapting inputs\n",
      "Step InputReader, transforming...\n",
      "Step InputReader, transforming completed\n",
      "Step InputReader, transform completed\n",
      "Step LabelSanitizer, working in \"inference\" mode\n",
      "Step LabelSanitizer, adapting inputs\n",
      "Step LabelSanitizer, transforming...\n",
      "Step LabelSanitizer, transforming completed\n",
      "Step LabelSanitizer, transform completed\n",
      "Step MentionsAnnotator, working in \"inference\" mode\n",
      "Step InputReader, working in \"inference\" mode\n",
      "Step InputReader, adapting inputs\n",
      "Step InputReader, transforming...\n",
      "Step InputReader, transforming completed\n",
      "Step InputReader, transform completed\n",
      "Step MentionsAnnotator, unpacking inputs\n",
      "Step MentionsAnnotator, transforming...\n"
     ]
    },
    {
     "name": "stdout",
     "output_type": "stream",
     "text": [
      "Transforming data to features.\n",
      "------BEFORE DATA PIPELINE------- results/probert\n",
      "Empty DataFrame\n",
      "Columns: [id, label]\n",
      "Index: []\n"
     ]
    },
    {
     "name": "stderr",
     "output_type": "stream",
     "text": [
      "Extracting coref clusters...: 100%|██████████| 1/1 [00:00<00:00, 782.67it/s]\n",
      "Step MentionsAnnotator, transforming completed\n",
      "Step MentionsAnnotator, transform completed\n",
      "Step gather_step, adapting inputs\n",
      "Step gather_step, transforming...\n",
      "Step gather_step, transforming completed\n",
      "Step gather_step, transform completed\n"
     ]
    },
    {
     "name": "stdout",
     "output_type": "stream",
     "text": [
      "Transforming data to features done.\n",
      " Log a couple of examples for sanity check.\n",
      "\n"
     ]
    },
    {
     "name": "stderr",
     "output_type": "stream",
     "text": [
      "Convert Examples to features: 1it [00:00, 250.47it/s]\n",
      "Evaluating:   0%|          | 0/1 [00:00<?, ?it/s]/dccstor/media-bias-4374/gender-ambiguity-detectors/gap/models/gap/probert.py:35: UserWarning: indexing with dtype torch.uint8 is now deprecated, please use a dtype torch.bool instead. (Triggered internally at  ../aten/src/ATen/native/IndexingUtils.h:28.)\n",
      "  sequence_output = sequence_output[~gpr_tags_mask].view(batch_size, -1, self.config.hidden_size)\n",
      "Evaluating: 100%|██████████| 1/1 [00:04<00:00,  4.26s/it]"
     ]
    },
    {
     "name": "stdout",
     "output_type": "stream",
     "text": [
      "[0.36363938 0.63636065]\n",
      "Known pronoun 'he' resolves 'False' to 'Dozenberg' with a probability of '0.6363606452941895'\n"
     ]
    },
    {
     "name": "stderr",
     "output_type": "stream",
     "text": [
      "\n"
     ]
    },
    {
     "data": {
      "text/html": [
       "<div>\n",
       "<style scoped>\n",
       "    .dataframe tbody tr th:only-of-type {\n",
       "        vertical-align: middle;\n",
       "    }\n",
       "\n",
       "    .dataframe tbody tr th {\n",
       "        vertical-align: top;\n",
       "    }\n",
       "\n",
       "    .dataframe thead th {\n",
       "        text-align: right;\n",
       "    }\n",
       "</style>\n",
       "<table border=\"1\" class=\"dataframe\">\n",
       "  <thead>\n",
       "    <tr style=\"text-align: right;\">\n",
       "      <th></th>\n",
       "      <th>id</th>\n",
       "      <th>text</th>\n",
       "      <th>pronoun</th>\n",
       "      <th>pronoun_offset</th>\n",
       "      <th>a</th>\n",
       "      <th>a_offset</th>\n",
       "      <th>url</th>\n",
       "    </tr>\n",
       "  </thead>\n",
       "  <tbody>\n",
       "    <tr>\n",
       "      <th>0</th>\n",
       "      <td>na</td>\n",
       "      <td>Tilton first made contact with Dozenberg when ...</td>\n",
       "      <td>he</td>\n",
       "      <td>46</td>\n",
       "      <td>Tilton</td>\n",
       "      <td>0</td>\n",
       "      <td>na</td>\n",
       "    </tr>\n",
       "  </tbody>\n",
       "</table>\n",
       "</div>"
      ],
      "text/plain": [
       "   id                                               text pronoun  \\\n",
       "0  na  Tilton first made contact with Dozenberg when ...      he   \n",
       "\n",
       "   pronoun_offset       a  a_offset url  \n",
       "0              46  Tilton         0  na  "
      ]
     },
     "metadata": {},
     "output_type": "display_data"
    },
    {
     "name": "stderr",
     "output_type": "stream",
     "text": [
      "Initializing Step InputReader\n",
      "Step InputReader initialized\n",
      "Initializing Step LabelSanitizer\n",
      "Step LabelSanitizer initialized\n",
      "Initializing Step MentionsAnnotator\n",
      "Step MentionsAnnotator initialized\n",
      "Initializing Step gather_step\n",
      "STEPPY WARNING: Step with name \"InputReader\", already exist. Make sure that all Steps have unique name.\n",
      "Step gather_step initialized\n",
      "Step gather_step, working in \"inference\" mode\n",
      "Step InputReader, working in \"inference\" mode\n",
      "Step InputReader, adapting inputs\n",
      "Step InputReader, transforming...\n",
      "Step InputReader, transforming completed\n",
      "Step InputReader, transform completed\n",
      "Step LabelSanitizer, working in \"inference\" mode\n",
      "Step LabelSanitizer, adapting inputs\n",
      "Step LabelSanitizer, transforming...\n",
      "Step LabelSanitizer, transforming completed\n",
      "Step LabelSanitizer, transform completed\n",
      "Step MentionsAnnotator, working in \"inference\" mode\n",
      "Step InputReader, working in \"inference\" mode\n",
      "Step InputReader, adapting inputs\n",
      "Step InputReader, transforming...\n",
      "Step InputReader, transforming completed\n",
      "Step InputReader, transform completed\n",
      "Step MentionsAnnotator, unpacking inputs\n",
      "Step MentionsAnnotator, transforming...\n"
     ]
    },
    {
     "name": "stdout",
     "output_type": "stream",
     "text": [
      "Transforming data to features.\n",
      "------BEFORE DATA PIPELINE------- results/probert\n",
      "Empty DataFrame\n",
      "Columns: [id, label]\n",
      "Index: []\n"
     ]
    },
    {
     "name": "stderr",
     "output_type": "stream",
     "text": [
      "Extracting coref clusters...: 100%|██████████| 1/1 [00:00<00:00, 554.73it/s]\n",
      "Step MentionsAnnotator, transforming completed\n",
      "Step MentionsAnnotator, transform completed\n",
      "Step gather_step, adapting inputs\n",
      "Step gather_step, transforming...\n",
      "Step gather_step, transforming completed\n",
      "Step gather_step, transform completed\n"
     ]
    },
    {
     "name": "stdout",
     "output_type": "stream",
     "text": [
      "Transforming data to features done.\n",
      " Log a couple of examples for sanity check.\n",
      "\n"
     ]
    },
    {
     "name": "stderr",
     "output_type": "stream",
     "text": [
      "Convert Examples to features: 1it [00:00, 228.63it/s]\n",
      "Evaluating:   0%|          | 0/1 [00:00<?, ?it/s]/dccstor/media-bias-4374/gender-ambiguity-detectors/gap/models/gap/probert.py:35: UserWarning: indexing with dtype torch.uint8 is now deprecated, please use a dtype torch.bool instead. (Triggered internally at  ../aten/src/ATen/native/IndexingUtils.h:28.)\n",
      "  sequence_output = sequence_output[~gpr_tags_mask].view(batch_size, -1, self.config.hidden_size)\n",
      "Evaluating: 100%|██████████| 1/1 [00:04<00:00,  4.25s/it]"
     ]
    },
    {
     "name": "stdout",
     "output_type": "stream",
     "text": [
      "[0.31634083 0.68365914]\n",
      "Known pronoun 'he' resolves 'False' to 'Tilton' with a probability of '0.6836591362953186'\n"
     ]
    },
    {
     "name": "stderr",
     "output_type": "stream",
     "text": [
      "\n"
     ]
    },
    {
     "data": {
      "text/html": [
       "<div>\n",
       "<style scoped>\n",
       "    .dataframe tbody tr th:only-of-type {\n",
       "        vertical-align: middle;\n",
       "    }\n",
       "\n",
       "    .dataframe tbody tr th {\n",
       "        vertical-align: top;\n",
       "    }\n",
       "\n",
       "    .dataframe thead th {\n",
       "        text-align: right;\n",
       "    }\n",
       "</style>\n",
       "<table border=\"1\" class=\"dataframe\">\n",
       "  <thead>\n",
       "    <tr style=\"text-align: right;\">\n",
       "      <th></th>\n",
       "      <th>id</th>\n",
       "      <th>text</th>\n",
       "      <th>pronoun</th>\n",
       "      <th>pronoun_offset</th>\n",
       "      <th>a</th>\n",
       "      <th>a_offset</th>\n",
       "      <th>url</th>\n",
       "    </tr>\n",
       "  </thead>\n",
       "  <tbody>\n",
       "    <tr>\n",
       "      <th>0</th>\n",
       "      <td>na</td>\n",
       "      <td>Tilton first made contact with Dozenberg when ...</td>\n",
       "      <td>he</td>\n",
       "      <td>46</td>\n",
       "      <td>Tilton</td>\n",
       "      <td>126</td>\n",
       "      <td>na</td>\n",
       "    </tr>\n",
       "  </tbody>\n",
       "</table>\n",
       "</div>"
      ],
      "text/plain": [
       "   id                                               text pronoun  \\\n",
       "0  na  Tilton first made contact with Dozenberg when ...      he   \n",
       "\n",
       "   pronoun_offset       a  a_offset url  \n",
       "0              46  Tilton       126  na  "
      ]
     },
     "metadata": {},
     "output_type": "display_data"
    },
    {
     "name": "stderr",
     "output_type": "stream",
     "text": [
      "Initializing Step InputReader\n",
      "Step InputReader initialized\n",
      "Initializing Step LabelSanitizer\n",
      "Step LabelSanitizer initialized\n",
      "Initializing Step MentionsAnnotator\n",
      "Step MentionsAnnotator initialized\n",
      "Initializing Step gather_step\n",
      "STEPPY WARNING: Step with name \"InputReader\", already exist. Make sure that all Steps have unique name.\n",
      "Step gather_step initialized\n",
      "Step gather_step, working in \"inference\" mode\n",
      "Step InputReader, working in \"inference\" mode\n",
      "Step InputReader, adapting inputs\n",
      "Step InputReader, transforming...\n",
      "Step InputReader, transforming completed\n",
      "Step InputReader, transform completed\n",
      "Step LabelSanitizer, working in \"inference\" mode\n",
      "Step LabelSanitizer, adapting inputs\n",
      "Step LabelSanitizer, transforming...\n",
      "Step LabelSanitizer, transforming completed\n",
      "Step LabelSanitizer, transform completed\n",
      "Step MentionsAnnotator, working in \"inference\" mode\n",
      "Step InputReader, working in \"inference\" mode\n",
      "Step InputReader, adapting inputs\n",
      "Step InputReader, transforming...\n",
      "Step InputReader, transforming completed\n",
      "Step InputReader, transform completed\n",
      "Step MentionsAnnotator, unpacking inputs\n",
      "Step MentionsAnnotator, transforming...\n"
     ]
    },
    {
     "name": "stdout",
     "output_type": "stream",
     "text": [
      "Transforming data to features.\n",
      "------BEFORE DATA PIPELINE------- results/probert\n",
      "Empty DataFrame\n",
      "Columns: [id, label]\n",
      "Index: []\n"
     ]
    },
    {
     "name": "stderr",
     "output_type": "stream",
     "text": [
      "Extracting coref clusters...: 100%|██████████| 1/1 [00:00<00:00, 751.94it/s]\n",
      "Step MentionsAnnotator, transforming completed\n",
      "Step MentionsAnnotator, transform completed\n",
      "Step gather_step, adapting inputs\n",
      "Step gather_step, transforming...\n",
      "Step gather_step, transforming completed\n",
      "Step gather_step, transform completed\n"
     ]
    },
    {
     "name": "stdout",
     "output_type": "stream",
     "text": [
      "Transforming data to features done.\n",
      " Log a couple of examples for sanity check.\n",
      "\n"
     ]
    },
    {
     "name": "stderr",
     "output_type": "stream",
     "text": [
      "Convert Examples to features: 1it [00:00, 257.04it/s]\n",
      "Evaluating:   0%|          | 0/1 [00:00<?, ?it/s]/dccstor/media-bias-4374/gender-ambiguity-detectors/gap/models/gap/probert.py:35: UserWarning: indexing with dtype torch.uint8 is now deprecated, please use a dtype torch.bool instead. (Triggered internally at  ../aten/src/ATen/native/IndexingUtils.h:28.)\n",
      "  sequence_output = sequence_output[~gpr_tags_mask].view(batch_size, -1, self.config.hidden_size)\n",
      "Evaluating: 100%|██████████| 1/1 [00:04<00:00,  4.31s/it]"
     ]
    },
    {
     "name": "stdout",
     "output_type": "stream",
     "text": [
      "[0.0400938 0.9599062]\n",
      "Known pronoun 'he' resolves 'False' to 'Tilton' with a probability of '0.9599062204360962'\n"
     ]
    },
    {
     "name": "stderr",
     "output_type": "stream",
     "text": [
      "\n"
     ]
    },
    {
     "data": {
      "text/html": [
       "<div>\n",
       "<style scoped>\n",
       "    .dataframe tbody tr th:only-of-type {\n",
       "        vertical-align: middle;\n",
       "    }\n",
       "\n",
       "    .dataframe tbody tr th {\n",
       "        vertical-align: top;\n",
       "    }\n",
       "\n",
       "    .dataframe thead th {\n",
       "        text-align: right;\n",
       "    }\n",
       "</style>\n",
       "<table border=\"1\" class=\"dataframe\">\n",
       "  <thead>\n",
       "    <tr style=\"text-align: right;\">\n",
       "      <th></th>\n",
       "      <th>id</th>\n",
       "      <th>text</th>\n",
       "      <th>pronoun</th>\n",
       "      <th>pronoun_offset</th>\n",
       "      <th>a</th>\n",
       "      <th>a_offset</th>\n",
       "      <th>url</th>\n",
       "    </tr>\n",
       "  </thead>\n",
       "  <tbody>\n",
       "    <tr>\n",
       "      <th>0</th>\n",
       "      <td>na</td>\n",
       "      <td>Tilton first made contact with Dozenberg when ...</td>\n",
       "      <td>he</td>\n",
       "      <td>46</td>\n",
       "      <td>Tilton</td>\n",
       "      <td>291</td>\n",
       "      <td>na</td>\n",
       "    </tr>\n",
       "  </tbody>\n",
       "</table>\n",
       "</div>"
      ],
      "text/plain": [
       "   id                                               text pronoun  \\\n",
       "0  na  Tilton first made contact with Dozenberg when ...      he   \n",
       "\n",
       "   pronoun_offset       a  a_offset url  \n",
       "0              46  Tilton       291  na  "
      ]
     },
     "metadata": {},
     "output_type": "display_data"
    },
    {
     "name": "stderr",
     "output_type": "stream",
     "text": [
      "Initializing Step InputReader\n",
      "Step InputReader initialized\n",
      "Initializing Step LabelSanitizer\n",
      "Step LabelSanitizer initialized\n",
      "Initializing Step MentionsAnnotator\n",
      "Step MentionsAnnotator initialized\n",
      "Initializing Step gather_step\n",
      "STEPPY WARNING: Step with name \"InputReader\", already exist. Make sure that all Steps have unique name.\n",
      "Step gather_step initialized\n",
      "Step gather_step, working in \"inference\" mode\n",
      "Step InputReader, working in \"inference\" mode\n",
      "Step InputReader, adapting inputs\n",
      "Step InputReader, transforming...\n",
      "Step InputReader, transforming completed\n",
      "Step InputReader, transform completed\n",
      "Step LabelSanitizer, working in \"inference\" mode\n",
      "Step LabelSanitizer, adapting inputs\n",
      "Step LabelSanitizer, transforming...\n",
      "Step LabelSanitizer, transforming completed\n",
      "Step LabelSanitizer, transform completed\n",
      "Step MentionsAnnotator, working in \"inference\" mode\n",
      "Step InputReader, working in \"inference\" mode\n",
      "Step InputReader, adapting inputs\n",
      "Step InputReader, transforming...\n",
      "Step InputReader, transforming completed\n",
      "Step InputReader, transform completed\n",
      "Step MentionsAnnotator, unpacking inputs\n",
      "Step MentionsAnnotator, transforming...\n"
     ]
    },
    {
     "name": "stdout",
     "output_type": "stream",
     "text": [
      "Transforming data to features.\n",
      "------BEFORE DATA PIPELINE------- results/probert\n",
      "Empty DataFrame\n",
      "Columns: [id, label]\n",
      "Index: []\n"
     ]
    },
    {
     "name": "stderr",
     "output_type": "stream",
     "text": [
      "Extracting coref clusters...: 100%|██████████| 1/1 [00:00<00:00, 508.71it/s]\n",
      "Step MentionsAnnotator, transforming completed\n",
      "Step MentionsAnnotator, transform completed\n",
      "Step gather_step, adapting inputs\n",
      "Step gather_step, transforming...\n",
      "Step gather_step, transforming completed\n",
      "Step gather_step, transform completed\n"
     ]
    },
    {
     "name": "stdout",
     "output_type": "stream",
     "text": [
      "Transforming data to features done.\n",
      " Log a couple of examples for sanity check.\n",
      "\n"
     ]
    },
    {
     "name": "stderr",
     "output_type": "stream",
     "text": [
      "Convert Examples to features: 1it [00:00, 234.70it/s]\n",
      "Evaluating:   0%|          | 0/1 [00:00<?, ?it/s]/dccstor/media-bias-4374/gender-ambiguity-detectors/gap/models/gap/probert.py:35: UserWarning: indexing with dtype torch.uint8 is now deprecated, please use a dtype torch.bool instead. (Triggered internally at  ../aten/src/ATen/native/IndexingUtils.h:28.)\n",
      "  sequence_output = sequence_output[~gpr_tags_mask].view(batch_size, -1, self.config.hidden_size)\n",
      "Evaluating: 100%|██████████| 1/1 [00:04<00:00,  4.26s/it]"
     ]
    },
    {
     "name": "stdout",
     "output_type": "stream",
     "text": [
      "[0.33356443 0.6664356 ]\n",
      "Known pronoun 'he' resolves 'False' to 'Tilton' with a probability of '0.6664355993270874'\n"
     ]
    },
    {
     "name": "stderr",
     "output_type": "stream",
     "text": [
      "\n"
     ]
    },
    {
     "data": {
      "text/html": [
       "<div>\n",
       "<style scoped>\n",
       "    .dataframe tbody tr th:only-of-type {\n",
       "        vertical-align: middle;\n",
       "    }\n",
       "\n",
       "    .dataframe tbody tr th {\n",
       "        vertical-align: top;\n",
       "    }\n",
       "\n",
       "    .dataframe thead th {\n",
       "        text-align: right;\n",
       "    }\n",
       "</style>\n",
       "<table border=\"1\" class=\"dataframe\">\n",
       "  <thead>\n",
       "    <tr style=\"text-align: right;\">\n",
       "      <th></th>\n",
       "      <th>id</th>\n",
       "      <th>text</th>\n",
       "      <th>pronoun</th>\n",
       "      <th>pronoun_offset</th>\n",
       "      <th>a</th>\n",
       "      <th>a_offset</th>\n",
       "      <th>url</th>\n",
       "    </tr>\n",
       "  </thead>\n",
       "  <tbody>\n",
       "    <tr>\n",
       "      <th>0</th>\n",
       "      <td>na</td>\n",
       "      <td>Tilton first made contact with Dozenberg when ...</td>\n",
       "      <td>he</td>\n",
       "      <td>46</td>\n",
       "      <td>Dozenberg</td>\n",
       "      <td>31</td>\n",
       "      <td>na</td>\n",
       "    </tr>\n",
       "  </tbody>\n",
       "</table>\n",
       "</div>"
      ],
      "text/plain": [
       "   id                                               text pronoun  \\\n",
       "0  na  Tilton first made contact with Dozenberg when ...      he   \n",
       "\n",
       "   pronoun_offset          a  a_offset url  \n",
       "0              46  Dozenberg        31  na  "
      ]
     },
     "metadata": {},
     "output_type": "display_data"
    },
    {
     "name": "stderr",
     "output_type": "stream",
     "text": [
      "Initializing Step InputReader\n",
      "Step InputReader initialized\n",
      "Initializing Step LabelSanitizer\n",
      "Step LabelSanitizer initialized\n",
      "Initializing Step MentionsAnnotator\n",
      "Step MentionsAnnotator initialized\n",
      "Initializing Step gather_step\n",
      "STEPPY WARNING: Step with name \"InputReader\", already exist. Make sure that all Steps have unique name.\n",
      "Step gather_step initialized\n",
      "Step gather_step, working in \"inference\" mode\n",
      "Step InputReader, working in \"inference\" mode\n",
      "Step InputReader, adapting inputs\n",
      "Step InputReader, transforming...\n",
      "Step InputReader, transforming completed\n",
      "Step InputReader, transform completed\n",
      "Step LabelSanitizer, working in \"inference\" mode\n",
      "Step LabelSanitizer, adapting inputs\n",
      "Step LabelSanitizer, transforming...\n",
      "Step LabelSanitizer, transforming completed\n",
      "Step LabelSanitizer, transform completed\n",
      "Step MentionsAnnotator, working in \"inference\" mode\n",
      "Step InputReader, working in \"inference\" mode\n",
      "Step InputReader, adapting inputs\n",
      "Step InputReader, transforming...\n",
      "Step InputReader, transforming completed\n",
      "Step InputReader, transform completed\n",
      "Step MentionsAnnotator, unpacking inputs\n",
      "Step MentionsAnnotator, transforming...\n"
     ]
    },
    {
     "name": "stdout",
     "output_type": "stream",
     "text": [
      "Transforming data to features.\n",
      "------BEFORE DATA PIPELINE------- results/probert\n",
      "Empty DataFrame\n",
      "Columns: [id, label]\n",
      "Index: []\n"
     ]
    },
    {
     "name": "stderr",
     "output_type": "stream",
     "text": [
      "Extracting coref clusters...: 100%|██████████| 1/1 [00:00<00:00, 746.18it/s]\n",
      "Step MentionsAnnotator, transforming completed\n",
      "Step MentionsAnnotator, transform completed\n",
      "Step gather_step, adapting inputs\n",
      "Step gather_step, transforming...\n",
      "Step gather_step, transforming completed\n",
      "Step gather_step, transform completed\n"
     ]
    },
    {
     "name": "stdout",
     "output_type": "stream",
     "text": [
      "Transforming data to features done.\n",
      " Log a couple of examples for sanity check.\n",
      "\n"
     ]
    },
    {
     "name": "stderr",
     "output_type": "stream",
     "text": [
      "Convert Examples to features: 1it [00:00, 227.40it/s]\n",
      "Evaluating:   0%|          | 0/1 [00:00<?, ?it/s]/dccstor/media-bias-4374/gender-ambiguity-detectors/gap/models/gap/probert.py:35: UserWarning: indexing with dtype torch.uint8 is now deprecated, please use a dtype torch.bool instead. (Triggered internally at  ../aten/src/ATen/native/IndexingUtils.h:28.)\n",
      "  sequence_output = sequence_output[~gpr_tags_mask].view(batch_size, -1, self.config.hidden_size)\n",
      "Evaluating: 100%|██████████| 1/1 [00:04<00:00,  4.23s/it]"
     ]
    },
    {
     "name": "stdout",
     "output_type": "stream",
     "text": [
      "[0.15581073 0.8441892 ]\n",
      "Known pronoun 'he' resolves 'False' to 'Dozenberg' with a probability of '0.8441892266273499'\n"
     ]
    },
    {
     "name": "stderr",
     "output_type": "stream",
     "text": [
      "\n"
     ]
    },
    {
     "data": {
      "text/html": [
       "<div>\n",
       "<style scoped>\n",
       "    .dataframe tbody tr th:only-of-type {\n",
       "        vertical-align: middle;\n",
       "    }\n",
       "\n",
       "    .dataframe tbody tr th {\n",
       "        vertical-align: top;\n",
       "    }\n",
       "\n",
       "    .dataframe thead th {\n",
       "        text-align: right;\n",
       "    }\n",
       "</style>\n",
       "<table border=\"1\" class=\"dataframe\">\n",
       "  <thead>\n",
       "    <tr style=\"text-align: right;\">\n",
       "      <th></th>\n",
       "      <th>id</th>\n",
       "      <th>text</th>\n",
       "      <th>pronoun</th>\n",
       "      <th>pronoun_offset</th>\n",
       "      <th>a</th>\n",
       "      <th>a_offset</th>\n",
       "      <th>url</th>\n",
       "    </tr>\n",
       "  </thead>\n",
       "  <tbody>\n",
       "    <tr>\n",
       "      <th>0</th>\n",
       "      <td>na</td>\n",
       "      <td>Tilton first made contact with Dozenberg when ...</td>\n",
       "      <td>he</td>\n",
       "      <td>46</td>\n",
       "      <td>Dozenberg</td>\n",
       "      <td>139</td>\n",
       "      <td>na</td>\n",
       "    </tr>\n",
       "  </tbody>\n",
       "</table>\n",
       "</div>"
      ],
      "text/plain": [
       "   id                                               text pronoun  \\\n",
       "0  na  Tilton first made contact with Dozenberg when ...      he   \n",
       "\n",
       "   pronoun_offset          a  a_offset url  \n",
       "0              46  Dozenberg       139  na  "
      ]
     },
     "metadata": {},
     "output_type": "display_data"
    },
    {
     "name": "stderr",
     "output_type": "stream",
     "text": [
      "Initializing Step InputReader\n",
      "Step InputReader initialized\n",
      "Initializing Step LabelSanitizer\n",
      "Step LabelSanitizer initialized\n",
      "Initializing Step MentionsAnnotator\n",
      "Step MentionsAnnotator initialized\n",
      "Initializing Step gather_step\n",
      "STEPPY WARNING: Step with name \"InputReader\", already exist. Make sure that all Steps have unique name.\n",
      "Step gather_step initialized\n",
      "Step gather_step, working in \"inference\" mode\n",
      "Step InputReader, working in \"inference\" mode\n",
      "Step InputReader, adapting inputs\n",
      "Step InputReader, transforming...\n",
      "Step InputReader, transforming completed\n",
      "Step InputReader, transform completed\n",
      "Step LabelSanitizer, working in \"inference\" mode\n",
      "Step LabelSanitizer, adapting inputs\n",
      "Step LabelSanitizer, transforming...\n",
      "Step LabelSanitizer, transforming completed\n",
      "Step LabelSanitizer, transform completed\n",
      "Step MentionsAnnotator, working in \"inference\" mode\n",
      "Step InputReader, working in \"inference\" mode\n",
      "Step InputReader, adapting inputs\n",
      "Step InputReader, transforming...\n",
      "Step InputReader, transforming completed\n",
      "Step InputReader, transform completed\n",
      "Step MentionsAnnotator, unpacking inputs\n",
      "Step MentionsAnnotator, transforming...\n"
     ]
    },
    {
     "name": "stdout",
     "output_type": "stream",
     "text": [
      "Transforming data to features.\n",
      "------BEFORE DATA PIPELINE------- results/probert\n",
      "Empty DataFrame\n",
      "Columns: [id, label]\n",
      "Index: []\n"
     ]
    },
    {
     "name": "stderr",
     "output_type": "stream",
     "text": [
      "Extracting coref clusters...: 100%|██████████| 1/1 [00:00<00:00, 819.84it/s]\n",
      "Step MentionsAnnotator, transforming completed\n",
      "Step MentionsAnnotator, transform completed\n",
      "Step gather_step, adapting inputs\n",
      "Step gather_step, transforming...\n",
      "Step gather_step, transforming completed\n",
      "Step gather_step, transform completed\n"
     ]
    },
    {
     "name": "stdout",
     "output_type": "stream",
     "text": [
      "Transforming data to features done.\n",
      " Log a couple of examples for sanity check.\n",
      "\n"
     ]
    },
    {
     "name": "stderr",
     "output_type": "stream",
     "text": [
      "Convert Examples to features: 1it [00:00, 243.83it/s]\n",
      "Evaluating:   0%|          | 0/1 [00:00<?, ?it/s]/dccstor/media-bias-4374/gender-ambiguity-detectors/gap/models/gap/probert.py:35: UserWarning: indexing with dtype torch.uint8 is now deprecated, please use a dtype torch.bool instead. (Triggered internally at  ../aten/src/ATen/native/IndexingUtils.h:28.)\n",
      "  sequence_output = sequence_output[~gpr_tags_mask].view(batch_size, -1, self.config.hidden_size)\n",
      "Evaluating: 100%|██████████| 1/1 [00:04<00:00,  4.27s/it]"
     ]
    },
    {
     "name": "stdout",
     "output_type": "stream",
     "text": [
      "[0.00718337 0.9928167 ]\n",
      "Known pronoun 'he' resolves 'False' to 'Dozenberg' with a probability of '0.992816686630249'\n"
     ]
    },
    {
     "name": "stderr",
     "output_type": "stream",
     "text": [
      "\n"
     ]
    },
    {
     "data": {
      "text/html": [
       "<div>\n",
       "<style scoped>\n",
       "    .dataframe tbody tr th:only-of-type {\n",
       "        vertical-align: middle;\n",
       "    }\n",
       "\n",
       "    .dataframe tbody tr th {\n",
       "        vertical-align: top;\n",
       "    }\n",
       "\n",
       "    .dataframe thead th {\n",
       "        text-align: right;\n",
       "    }\n",
       "</style>\n",
       "<table border=\"1\" class=\"dataframe\">\n",
       "  <thead>\n",
       "    <tr style=\"text-align: right;\">\n",
       "      <th></th>\n",
       "      <th>id</th>\n",
       "      <th>text</th>\n",
       "      <th>pronoun</th>\n",
       "      <th>pronoun_offset</th>\n",
       "      <th>a</th>\n",
       "      <th>a_offset</th>\n",
       "      <th>url</th>\n",
       "    </tr>\n",
       "  </thead>\n",
       "  <tbody>\n",
       "    <tr>\n",
       "      <th>0</th>\n",
       "      <td>na</td>\n",
       "      <td>Tilton first made contact with Dozenberg when ...</td>\n",
       "      <td>he</td>\n",
       "      <td>46</td>\n",
       "      <td>Dozenberg</td>\n",
       "      <td>202</td>\n",
       "      <td>na</td>\n",
       "    </tr>\n",
       "  </tbody>\n",
       "</table>\n",
       "</div>"
      ],
      "text/plain": [
       "   id                                               text pronoun  \\\n",
       "0  na  Tilton first made contact with Dozenberg when ...      he   \n",
       "\n",
       "   pronoun_offset          a  a_offset url  \n",
       "0              46  Dozenberg       202  na  "
      ]
     },
     "metadata": {},
     "output_type": "display_data"
    },
    {
     "name": "stderr",
     "output_type": "stream",
     "text": [
      "Initializing Step InputReader\n",
      "Step InputReader initialized\n",
      "Initializing Step LabelSanitizer\n",
      "Step LabelSanitizer initialized\n",
      "Initializing Step MentionsAnnotator\n",
      "Step MentionsAnnotator initialized\n",
      "Initializing Step gather_step\n",
      "STEPPY WARNING: Step with name \"InputReader\", already exist. Make sure that all Steps have unique name.\n",
      "Step gather_step initialized\n",
      "Step gather_step, working in \"inference\" mode\n",
      "Step InputReader, working in \"inference\" mode\n",
      "Step InputReader, adapting inputs\n",
      "Step InputReader, transforming...\n",
      "Step InputReader, transforming completed\n",
      "Step InputReader, transform completed\n",
      "Step LabelSanitizer, working in \"inference\" mode\n",
      "Step LabelSanitizer, adapting inputs\n",
      "Step LabelSanitizer, transforming...\n",
      "Step LabelSanitizer, transforming completed\n",
      "Step LabelSanitizer, transform completed\n",
      "Step MentionsAnnotator, working in \"inference\" mode\n",
      "Step InputReader, working in \"inference\" mode\n",
      "Step InputReader, adapting inputs\n",
      "Step InputReader, transforming...\n",
      "Step InputReader, transforming completed\n",
      "Step InputReader, transform completed\n",
      "Step MentionsAnnotator, unpacking inputs\n",
      "Step MentionsAnnotator, transforming...\n"
     ]
    },
    {
     "name": "stdout",
     "output_type": "stream",
     "text": [
      "Transforming data to features.\n",
      "------BEFORE DATA PIPELINE------- results/probert\n",
      "Empty DataFrame\n",
      "Columns: [id, label]\n",
      "Index: []\n"
     ]
    },
    {
     "name": "stderr",
     "output_type": "stream",
     "text": [
      "Extracting coref clusters...: 100%|██████████| 1/1 [00:00<00:00, 781.35it/s]\n",
      "Step MentionsAnnotator, transforming completed\n",
      "Step MentionsAnnotator, transform completed\n",
      "Step gather_step, adapting inputs\n",
      "Step gather_step, transforming...\n",
      "Step gather_step, transforming completed\n",
      "Step gather_step, transform completed\n"
     ]
    },
    {
     "name": "stdout",
     "output_type": "stream",
     "text": [
      "Transforming data to features done.\n",
      " Log a couple of examples for sanity check.\n",
      "\n"
     ]
    },
    {
     "name": "stderr",
     "output_type": "stream",
     "text": [
      "Convert Examples to features: 1it [00:00, 260.99it/s]\n",
      "Evaluating:   0%|          | 0/1 [00:00<?, ?it/s]/dccstor/media-bias-4374/gender-ambiguity-detectors/gap/models/gap/probert.py:35: UserWarning: indexing with dtype torch.uint8 is now deprecated, please use a dtype torch.bool instead. (Triggered internally at  ../aten/src/ATen/native/IndexingUtils.h:28.)\n",
      "  sequence_output = sequence_output[~gpr_tags_mask].view(batch_size, -1, self.config.hidden_size)\n",
      "Evaluating: 100%|██████████| 1/1 [00:04<00:00,  4.39s/it]"
     ]
    },
    {
     "name": "stdout",
     "output_type": "stream",
     "text": [
      "[0.00800965 0.9919904 ]\n",
      "Known pronoun 'he' resolves 'False' to 'Dozenberg' with a probability of '0.9919903874397278'\n"
     ]
    },
    {
     "name": "stderr",
     "output_type": "stream",
     "text": [
      "\n"
     ]
    },
    {
     "data": {
      "text/html": [
       "<div>\n",
       "<style scoped>\n",
       "    .dataframe tbody tr th:only-of-type {\n",
       "        vertical-align: middle;\n",
       "    }\n",
       "\n",
       "    .dataframe tbody tr th {\n",
       "        vertical-align: top;\n",
       "    }\n",
       "\n",
       "    .dataframe thead th {\n",
       "        text-align: right;\n",
       "    }\n",
       "</style>\n",
       "<table border=\"1\" class=\"dataframe\">\n",
       "  <thead>\n",
       "    <tr style=\"text-align: right;\">\n",
       "      <th></th>\n",
       "      <th>id</th>\n",
       "      <th>text</th>\n",
       "      <th>pronoun</th>\n",
       "      <th>pronoun_offset</th>\n",
       "      <th>a</th>\n",
       "      <th>a_offset</th>\n",
       "      <th>url</th>\n",
       "    </tr>\n",
       "  </thead>\n",
       "  <tbody>\n",
       "    <tr>\n",
       "      <th>0</th>\n",
       "      <td>na</td>\n",
       "      <td>Tilton first made contact with Dozenberg when ...</td>\n",
       "      <td>he</td>\n",
       "      <td>46</td>\n",
       "      <td>Dozenberg</td>\n",
       "      <td>307</td>\n",
       "      <td>na</td>\n",
       "    </tr>\n",
       "  </tbody>\n",
       "</table>\n",
       "</div>"
      ],
      "text/plain": [
       "   id                                               text pronoun  \\\n",
       "0  na  Tilton first made contact with Dozenberg when ...      he   \n",
       "\n",
       "   pronoun_offset          a  a_offset url  \n",
       "0              46  Dozenberg       307  na  "
      ]
     },
     "metadata": {},
     "output_type": "display_data"
    },
    {
     "name": "stderr",
     "output_type": "stream",
     "text": [
      "Initializing Step InputReader\n",
      "Step InputReader initialized\n",
      "Initializing Step LabelSanitizer\n",
      "Step LabelSanitizer initialized\n",
      "Initializing Step MentionsAnnotator\n",
      "Step MentionsAnnotator initialized\n",
      "Initializing Step gather_step\n",
      "STEPPY WARNING: Step with name \"InputReader\", already exist. Make sure that all Steps have unique name.\n",
      "Step gather_step initialized\n",
      "Step gather_step, working in \"inference\" mode\n",
      "Step InputReader, working in \"inference\" mode\n",
      "Step InputReader, adapting inputs\n",
      "Step InputReader, transforming...\n",
      "Step InputReader, transforming completed\n",
      "Step InputReader, transform completed\n",
      "Step LabelSanitizer, working in \"inference\" mode\n",
      "Step LabelSanitizer, adapting inputs\n",
      "Step LabelSanitizer, transforming...\n",
      "Step LabelSanitizer, transforming completed\n",
      "Step LabelSanitizer, transform completed\n",
      "Step MentionsAnnotator, working in \"inference\" mode\n",
      "Step InputReader, working in \"inference\" mode\n",
      "Step InputReader, adapting inputs\n",
      "Step InputReader, transforming...\n",
      "Step InputReader, transforming completed\n",
      "Step InputReader, transform completed\n",
      "Step MentionsAnnotator, unpacking inputs\n",
      "Step MentionsAnnotator, transforming...\n"
     ]
    },
    {
     "name": "stdout",
     "output_type": "stream",
     "text": [
      "Transforming data to features.\n",
      "------BEFORE DATA PIPELINE------- results/probert\n",
      "Empty DataFrame\n",
      "Columns: [id, label]\n",
      "Index: []\n"
     ]
    },
    {
     "name": "stderr",
     "output_type": "stream",
     "text": [
      "Extracting coref clusters...: 100%|██████████| 1/1 [00:00<00:00, 829.41it/s]\n",
      "Step MentionsAnnotator, transforming completed\n",
      "Step MentionsAnnotator, transform completed\n",
      "Step gather_step, adapting inputs\n",
      "Step gather_step, transforming...\n",
      "Step gather_step, transforming completed\n",
      "Step gather_step, transform completed\n"
     ]
    },
    {
     "name": "stdout",
     "output_type": "stream",
     "text": [
      "Transforming data to features done.\n",
      " Log a couple of examples for sanity check.\n",
      "\n"
     ]
    },
    {
     "name": "stderr",
     "output_type": "stream",
     "text": [
      "Convert Examples to features: 1it [00:00, 245.01it/s]\n",
      "Evaluating:   0%|          | 0/1 [00:00<?, ?it/s]/dccstor/media-bias-4374/gender-ambiguity-detectors/gap/models/gap/probert.py:35: UserWarning: indexing with dtype torch.uint8 is now deprecated, please use a dtype torch.bool instead. (Triggered internally at  ../aten/src/ATen/native/IndexingUtils.h:28.)\n",
      "  sequence_output = sequence_output[~gpr_tags_mask].view(batch_size, -1, self.config.hidden_size)\n",
      "Evaluating: 100%|██████████| 1/1 [00:04<00:00,  4.32s/it]"
     ]
    },
    {
     "name": "stdout",
     "output_type": "stream",
     "text": [
      "[0.00910191 0.9908981 ]\n",
      "Known pronoun 'he' resolves 'False' to 'Dozenberg' with a probability of '0.990898072719574'\n"
     ]
    },
    {
     "name": "stderr",
     "output_type": "stream",
     "text": [
      "\n"
     ]
    },
    {
     "data": {
      "text/html": [
       "<div>\n",
       "<style scoped>\n",
       "    .dataframe tbody tr th:only-of-type {\n",
       "        vertical-align: middle;\n",
       "    }\n",
       "\n",
       "    .dataframe tbody tr th {\n",
       "        vertical-align: top;\n",
       "    }\n",
       "\n",
       "    .dataframe thead th {\n",
       "        text-align: right;\n",
       "    }\n",
       "</style>\n",
       "<table border=\"1\" class=\"dataframe\">\n",
       "  <thead>\n",
       "    <tr style=\"text-align: right;\">\n",
       "      <th></th>\n",
       "      <th>id</th>\n",
       "      <th>text</th>\n",
       "      <th>pronoun</th>\n",
       "      <th>pronoun_offset</th>\n",
       "      <th>a</th>\n",
       "      <th>a_offset</th>\n",
       "      <th>url</th>\n",
       "    </tr>\n",
       "  </thead>\n",
       "  <tbody>\n",
       "    <tr>\n",
       "      <th>0</th>\n",
       "      <td>na</td>\n",
       "      <td>Tilton first made contact with Dozenberg when ...</td>\n",
       "      <td>he</td>\n",
       "      <td>46</td>\n",
       "      <td>Dozenberg</td>\n",
       "      <td>380</td>\n",
       "      <td>na</td>\n",
       "    </tr>\n",
       "  </tbody>\n",
       "</table>\n",
       "</div>"
      ],
      "text/plain": [
       "   id                                               text pronoun  \\\n",
       "0  na  Tilton first made contact with Dozenberg when ...      he   \n",
       "\n",
       "   pronoun_offset          a  a_offset url  \n",
       "0              46  Dozenberg       380  na  "
      ]
     },
     "metadata": {},
     "output_type": "display_data"
    },
    {
     "name": "stderr",
     "output_type": "stream",
     "text": [
      "Initializing Step InputReader\n",
      "Step InputReader initialized\n",
      "Initializing Step LabelSanitizer\n",
      "Step LabelSanitizer initialized\n",
      "Initializing Step MentionsAnnotator\n",
      "Step MentionsAnnotator initialized\n",
      "Initializing Step gather_step\n",
      "STEPPY WARNING: Step with name \"InputReader\", already exist. Make sure that all Steps have unique name.\n",
      "Step gather_step initialized\n",
      "Step gather_step, working in \"inference\" mode\n",
      "Step InputReader, working in \"inference\" mode\n",
      "Step InputReader, adapting inputs\n",
      "Step InputReader, transforming...\n",
      "Step InputReader, transforming completed\n",
      "Step InputReader, transform completed\n",
      "Step LabelSanitizer, working in \"inference\" mode\n",
      "Step LabelSanitizer, adapting inputs\n",
      "Step LabelSanitizer, transforming...\n",
      "Step LabelSanitizer, transforming completed\n",
      "Step LabelSanitizer, transform completed\n",
      "Step MentionsAnnotator, working in \"inference\" mode\n",
      "Step InputReader, working in \"inference\" mode\n",
      "Step InputReader, adapting inputs\n",
      "Step InputReader, transforming...\n",
      "Step InputReader, transforming completed\n",
      "Step InputReader, transform completed\n",
      "Step MentionsAnnotator, unpacking inputs\n",
      "Step MentionsAnnotator, transforming...\n"
     ]
    },
    {
     "name": "stdout",
     "output_type": "stream",
     "text": [
      "Transforming data to features.\n",
      "------BEFORE DATA PIPELINE------- results/probert\n",
      "Empty DataFrame\n",
      "Columns: [id, label]\n",
      "Index: []\n"
     ]
    },
    {
     "name": "stderr",
     "output_type": "stream",
     "text": [
      "Extracting coref clusters...: 100%|██████████| 1/1 [00:00<00:00, 798.61it/s]\n",
      "Step MentionsAnnotator, transforming completed\n",
      "Step MentionsAnnotator, transform completed\n",
      "Step gather_step, adapting inputs\n",
      "Step gather_step, transforming...\n",
      "Step gather_step, transforming completed\n",
      "Step gather_step, transform completed\n"
     ]
    },
    {
     "name": "stdout",
     "output_type": "stream",
     "text": [
      "Transforming data to features done.\n",
      " Log a couple of examples for sanity check.\n",
      "\n"
     ]
    },
    {
     "name": "stderr",
     "output_type": "stream",
     "text": [
      "Convert Examples to features: 1it [00:00, 230.52it/s]\n",
      "Evaluating:   0%|          | 0/1 [00:00<?, ?it/s]/dccstor/media-bias-4374/gender-ambiguity-detectors/gap/models/gap/probert.py:35: UserWarning: indexing with dtype torch.uint8 is now deprecated, please use a dtype torch.bool instead. (Triggered internally at  ../aten/src/ATen/native/IndexingUtils.h:28.)\n",
      "  sequence_output = sequence_output[~gpr_tags_mask].view(batch_size, -1, self.config.hidden_size)\n",
      "Evaluating: 100%|██████████| 1/1 [00:04<00:00,  4.33s/it]"
     ]
    },
    {
     "name": "stdout",
     "output_type": "stream",
     "text": [
      "[0.13035925 0.86964077]\n",
      "Known pronoun 'he' resolves 'False' to 'Dozenberg' with a probability of '0.8696407675743103'\n"
     ]
    },
    {
     "name": "stderr",
     "output_type": "stream",
     "text": [
      "\n"
     ]
    },
    {
     "data": {
      "text/html": [
       "<div>\n",
       "<style scoped>\n",
       "    .dataframe tbody tr th:only-of-type {\n",
       "        vertical-align: middle;\n",
       "    }\n",
       "\n",
       "    .dataframe tbody tr th {\n",
       "        vertical-align: top;\n",
       "    }\n",
       "\n",
       "    .dataframe thead th {\n",
       "        text-align: right;\n",
       "    }\n",
       "</style>\n",
       "<table border=\"1\" class=\"dataframe\">\n",
       "  <thead>\n",
       "    <tr style=\"text-align: right;\">\n",
       "      <th></th>\n",
       "      <th>id</th>\n",
       "      <th>text</th>\n",
       "      <th>pronoun</th>\n",
       "      <th>pronoun_offset</th>\n",
       "      <th>a</th>\n",
       "      <th>a_offset</th>\n",
       "      <th>url</th>\n",
       "    </tr>\n",
       "  </thead>\n",
       "  <tbody>\n",
       "    <tr>\n",
       "      <th>0</th>\n",
       "      <td>na</td>\n",
       "      <td>Tilton first made contact with Dozenberg when ...</td>\n",
       "      <td>he</td>\n",
       "      <td>111</td>\n",
       "      <td>Tilton</td>\n",
       "      <td>0</td>\n",
       "      <td>na</td>\n",
       "    </tr>\n",
       "  </tbody>\n",
       "</table>\n",
       "</div>"
      ],
      "text/plain": [
       "   id                                               text pronoun  \\\n",
       "0  na  Tilton first made contact with Dozenberg when ...      he   \n",
       "\n",
       "   pronoun_offset       a  a_offset url  \n",
       "0             111  Tilton         0  na  "
      ]
     },
     "metadata": {},
     "output_type": "display_data"
    },
    {
     "name": "stderr",
     "output_type": "stream",
     "text": [
      "Initializing Step InputReader\n",
      "Step InputReader initialized\n",
      "Initializing Step LabelSanitizer\n",
      "Step LabelSanitizer initialized\n",
      "Initializing Step MentionsAnnotator\n",
      "Step MentionsAnnotator initialized\n",
      "Initializing Step gather_step\n",
      "STEPPY WARNING: Step with name \"InputReader\", already exist. Make sure that all Steps have unique name.\n",
      "Step gather_step initialized\n",
      "Step gather_step, working in \"inference\" mode\n",
      "Step InputReader, working in \"inference\" mode\n",
      "Step InputReader, adapting inputs\n",
      "Step InputReader, transforming...\n",
      "Step InputReader, transforming completed\n",
      "Step InputReader, transform completed\n",
      "Step LabelSanitizer, working in \"inference\" mode\n",
      "Step LabelSanitizer, adapting inputs\n",
      "Step LabelSanitizer, transforming...\n",
      "Step LabelSanitizer, transforming completed\n",
      "Step LabelSanitizer, transform completed\n",
      "Step MentionsAnnotator, working in \"inference\" mode\n",
      "Step InputReader, working in \"inference\" mode\n",
      "Step InputReader, adapting inputs\n",
      "Step InputReader, transforming...\n",
      "Step InputReader, transforming completed\n",
      "Step InputReader, transform completed\n",
      "Step MentionsAnnotator, unpacking inputs\n",
      "Step MentionsAnnotator, transforming...\n"
     ]
    },
    {
     "name": "stdout",
     "output_type": "stream",
     "text": [
      "Transforming data to features.\n",
      "------BEFORE DATA PIPELINE------- results/probert\n",
      "Empty DataFrame\n",
      "Columns: [id, label]\n",
      "Index: []\n"
     ]
    },
    {
     "name": "stderr",
     "output_type": "stream",
     "text": [
      "Extracting coref clusters...: 100%|██████████| 1/1 [00:00<00:00, 792.87it/s]\n",
      "Step MentionsAnnotator, transforming completed\n",
      "Step MentionsAnnotator, transform completed\n",
      "Step gather_step, adapting inputs\n",
      "Step gather_step, transforming...\n",
      "Step gather_step, transforming completed\n",
      "Step gather_step, transform completed\n"
     ]
    },
    {
     "name": "stdout",
     "output_type": "stream",
     "text": [
      "Transforming data to features done.\n",
      " Log a couple of examples for sanity check.\n",
      "\n"
     ]
    },
    {
     "name": "stderr",
     "output_type": "stream",
     "text": [
      "Convert Examples to features: 1it [00:00, 220.39it/s]\n",
      "Evaluating:   0%|          | 0/1 [00:00<?, ?it/s]/dccstor/media-bias-4374/gender-ambiguity-detectors/gap/models/gap/probert.py:35: UserWarning: indexing with dtype torch.uint8 is now deprecated, please use a dtype torch.bool instead. (Triggered internally at  ../aten/src/ATen/native/IndexingUtils.h:28.)\n",
      "  sequence_output = sequence_output[~gpr_tags_mask].view(batch_size, -1, self.config.hidden_size)\n",
      "Evaluating: 100%|██████████| 1/1 [00:04<00:00,  4.27s/it]"
     ]
    },
    {
     "name": "stdout",
     "output_type": "stream",
     "text": [
      "[0.17014565 0.82985437]\n",
      "Known pronoun 'he' resolves 'False' to 'Tilton' with a probability of '0.8298543691635132'\n"
     ]
    },
    {
     "name": "stderr",
     "output_type": "stream",
     "text": [
      "\n"
     ]
    },
    {
     "data": {
      "text/html": [
       "<div>\n",
       "<style scoped>\n",
       "    .dataframe tbody tr th:only-of-type {\n",
       "        vertical-align: middle;\n",
       "    }\n",
       "\n",
       "    .dataframe tbody tr th {\n",
       "        vertical-align: top;\n",
       "    }\n",
       "\n",
       "    .dataframe thead th {\n",
       "        text-align: right;\n",
       "    }\n",
       "</style>\n",
       "<table border=\"1\" class=\"dataframe\">\n",
       "  <thead>\n",
       "    <tr style=\"text-align: right;\">\n",
       "      <th></th>\n",
       "      <th>id</th>\n",
       "      <th>text</th>\n",
       "      <th>pronoun</th>\n",
       "      <th>pronoun_offset</th>\n",
       "      <th>a</th>\n",
       "      <th>a_offset</th>\n",
       "      <th>url</th>\n",
       "    </tr>\n",
       "  </thead>\n",
       "  <tbody>\n",
       "    <tr>\n",
       "      <th>0</th>\n",
       "      <td>na</td>\n",
       "      <td>Tilton first made contact with Dozenberg when ...</td>\n",
       "      <td>he</td>\n",
       "      <td>111</td>\n",
       "      <td>Tilton</td>\n",
       "      <td>126</td>\n",
       "      <td>na</td>\n",
       "    </tr>\n",
       "  </tbody>\n",
       "</table>\n",
       "</div>"
      ],
      "text/plain": [
       "   id                                               text pronoun  \\\n",
       "0  na  Tilton first made contact with Dozenberg when ...      he   \n",
       "\n",
       "   pronoun_offset       a  a_offset url  \n",
       "0             111  Tilton       126  na  "
      ]
     },
     "metadata": {},
     "output_type": "display_data"
    },
    {
     "name": "stderr",
     "output_type": "stream",
     "text": [
      "Initializing Step InputReader\n",
      "Step InputReader initialized\n",
      "Initializing Step LabelSanitizer\n",
      "Step LabelSanitizer initialized\n",
      "Initializing Step MentionsAnnotator\n",
      "Step MentionsAnnotator initialized\n",
      "Initializing Step gather_step\n",
      "STEPPY WARNING: Step with name \"InputReader\", already exist. Make sure that all Steps have unique name.\n",
      "Step gather_step initialized\n",
      "Step gather_step, working in \"inference\" mode\n",
      "Step InputReader, working in \"inference\" mode\n",
      "Step InputReader, adapting inputs\n",
      "Step InputReader, transforming...\n",
      "Step InputReader, transforming completed\n",
      "Step InputReader, transform completed\n",
      "Step LabelSanitizer, working in \"inference\" mode\n",
      "Step LabelSanitizer, adapting inputs\n",
      "Step LabelSanitizer, transforming...\n",
      "Step LabelSanitizer, transforming completed\n",
      "Step LabelSanitizer, transform completed\n",
      "Step MentionsAnnotator, working in \"inference\" mode\n",
      "Step InputReader, working in \"inference\" mode\n",
      "Step InputReader, adapting inputs\n",
      "Step InputReader, transforming...\n",
      "Step InputReader, transforming completed\n",
      "Step InputReader, transform completed\n",
      "Step MentionsAnnotator, unpacking inputs\n",
      "Step MentionsAnnotator, transforming...\n"
     ]
    },
    {
     "name": "stdout",
     "output_type": "stream",
     "text": [
      "Transforming data to features.\n",
      "------BEFORE DATA PIPELINE------- results/probert\n",
      "Empty DataFrame\n",
      "Columns: [id, label]\n",
      "Index: []\n"
     ]
    },
    {
     "name": "stderr",
     "output_type": "stream",
     "text": [
      "Extracting coref clusters...: 100%|██████████| 1/1 [00:00<00:00, 483.27it/s]\n",
      "Step MentionsAnnotator, transforming completed\n",
      "Step MentionsAnnotator, transform completed\n",
      "Step gather_step, adapting inputs\n",
      "Step gather_step, transforming...\n",
      "Step gather_step, transforming completed\n",
      "Step gather_step, transform completed\n"
     ]
    },
    {
     "name": "stdout",
     "output_type": "stream",
     "text": [
      "Transforming data to features done.\n",
      " Log a couple of examples for sanity check.\n",
      "\n"
     ]
    },
    {
     "name": "stderr",
     "output_type": "stream",
     "text": [
      "Convert Examples to features: 1it [00:00, 229.52it/s]\n",
      "Evaluating:   0%|          | 0/1 [00:00<?, ?it/s]/dccstor/media-bias-4374/gender-ambiguity-detectors/gap/models/gap/probert.py:35: UserWarning: indexing with dtype torch.uint8 is now deprecated, please use a dtype torch.bool instead. (Triggered internally at  ../aten/src/ATen/native/IndexingUtils.h:28.)\n",
      "  sequence_output = sequence_output[~gpr_tags_mask].view(batch_size, -1, self.config.hidden_size)\n",
      "Evaluating: 100%|██████████| 1/1 [00:04<00:00,  4.37s/it]"
     ]
    },
    {
     "name": "stdout",
     "output_type": "stream",
     "text": [
      "[0.13588274 0.8641172 ]\n",
      "Known pronoun 'he' resolves 'False' to 'Tilton' with a probability of '0.8641172051429749'\n"
     ]
    },
    {
     "name": "stderr",
     "output_type": "stream",
     "text": [
      "\n"
     ]
    },
    {
     "data": {
      "text/html": [
       "<div>\n",
       "<style scoped>\n",
       "    .dataframe tbody tr th:only-of-type {\n",
       "        vertical-align: middle;\n",
       "    }\n",
       "\n",
       "    .dataframe tbody tr th {\n",
       "        vertical-align: top;\n",
       "    }\n",
       "\n",
       "    .dataframe thead th {\n",
       "        text-align: right;\n",
       "    }\n",
       "</style>\n",
       "<table border=\"1\" class=\"dataframe\">\n",
       "  <thead>\n",
       "    <tr style=\"text-align: right;\">\n",
       "      <th></th>\n",
       "      <th>id</th>\n",
       "      <th>text</th>\n",
       "      <th>pronoun</th>\n",
       "      <th>pronoun_offset</th>\n",
       "      <th>a</th>\n",
       "      <th>a_offset</th>\n",
       "      <th>url</th>\n",
       "    </tr>\n",
       "  </thead>\n",
       "  <tbody>\n",
       "    <tr>\n",
       "      <th>0</th>\n",
       "      <td>na</td>\n",
       "      <td>Tilton first made contact with Dozenberg when ...</td>\n",
       "      <td>he</td>\n",
       "      <td>111</td>\n",
       "      <td>Tilton</td>\n",
       "      <td>291</td>\n",
       "      <td>na</td>\n",
       "    </tr>\n",
       "  </tbody>\n",
       "</table>\n",
       "</div>"
      ],
      "text/plain": [
       "   id                                               text pronoun  \\\n",
       "0  na  Tilton first made contact with Dozenberg when ...      he   \n",
       "\n",
       "   pronoun_offset       a  a_offset url  \n",
       "0             111  Tilton       291  na  "
      ]
     },
     "metadata": {},
     "output_type": "display_data"
    },
    {
     "name": "stderr",
     "output_type": "stream",
     "text": [
      "Initializing Step InputReader\n",
      "Step InputReader initialized\n",
      "Initializing Step LabelSanitizer\n",
      "Step LabelSanitizer initialized\n",
      "Initializing Step MentionsAnnotator\n",
      "Step MentionsAnnotator initialized\n",
      "Initializing Step gather_step\n",
      "STEPPY WARNING: Step with name \"InputReader\", already exist. Make sure that all Steps have unique name.\n",
      "Step gather_step initialized\n",
      "Step gather_step, working in \"inference\" mode\n",
      "Step InputReader, working in \"inference\" mode\n",
      "Step InputReader, adapting inputs\n",
      "Step InputReader, transforming...\n",
      "Step InputReader, transforming completed\n",
      "Step InputReader, transform completed\n",
      "Step LabelSanitizer, working in \"inference\" mode\n",
      "Step LabelSanitizer, adapting inputs\n",
      "Step LabelSanitizer, transforming...\n",
      "Step LabelSanitizer, transforming completed\n",
      "Step LabelSanitizer, transform completed\n",
      "Step MentionsAnnotator, working in \"inference\" mode\n",
      "Step InputReader, working in \"inference\" mode\n",
      "Step InputReader, adapting inputs\n",
      "Step InputReader, transforming...\n",
      "Step InputReader, transforming completed\n",
      "Step InputReader, transform completed\n",
      "Step MentionsAnnotator, unpacking inputs\n",
      "Step MentionsAnnotator, transforming...\n"
     ]
    },
    {
     "name": "stdout",
     "output_type": "stream",
     "text": [
      "Transforming data to features.\n",
      "------BEFORE DATA PIPELINE------- results/probert\n",
      "Empty DataFrame\n",
      "Columns: [id, label]\n",
      "Index: []\n"
     ]
    },
    {
     "name": "stderr",
     "output_type": "stream",
     "text": [
      "Extracting coref clusters...: 100%|██████████| 1/1 [00:00<00:00, 761.49it/s]\n",
      "Step MentionsAnnotator, transforming completed\n",
      "Step MentionsAnnotator, transform completed\n",
      "Step gather_step, adapting inputs\n",
      "Step gather_step, transforming...\n",
      "Step gather_step, transforming completed\n",
      "Step gather_step, transform completed\n"
     ]
    },
    {
     "name": "stdout",
     "output_type": "stream",
     "text": [
      "Transforming data to features done.\n",
      " Log a couple of examples for sanity check.\n",
      "\n"
     ]
    },
    {
     "name": "stderr",
     "output_type": "stream",
     "text": [
      "Convert Examples to features: 1it [00:00, 242.96it/s]\n",
      "Evaluating:   0%|          | 0/1 [00:00<?, ?it/s]/dccstor/media-bias-4374/gender-ambiguity-detectors/gap/models/gap/probert.py:35: UserWarning: indexing with dtype torch.uint8 is now deprecated, please use a dtype torch.bool instead. (Triggered internally at  ../aten/src/ATen/native/IndexingUtils.h:28.)\n",
      "  sequence_output = sequence_output[~gpr_tags_mask].view(batch_size, -1, self.config.hidden_size)\n",
      "Evaluating: 100%|██████████| 1/1 [00:04<00:00,  4.29s/it]"
     ]
    },
    {
     "name": "stdout",
     "output_type": "stream",
     "text": [
      "[0.15882345 0.84117657]\n",
      "Known pronoun 'he' resolves 'False' to 'Tilton' with a probability of '0.8411765694618225'\n"
     ]
    },
    {
     "name": "stderr",
     "output_type": "stream",
     "text": [
      "\n"
     ]
    },
    {
     "data": {
      "text/html": [
       "<div>\n",
       "<style scoped>\n",
       "    .dataframe tbody tr th:only-of-type {\n",
       "        vertical-align: middle;\n",
       "    }\n",
       "\n",
       "    .dataframe tbody tr th {\n",
       "        vertical-align: top;\n",
       "    }\n",
       "\n",
       "    .dataframe thead th {\n",
       "        text-align: right;\n",
       "    }\n",
       "</style>\n",
       "<table border=\"1\" class=\"dataframe\">\n",
       "  <thead>\n",
       "    <tr style=\"text-align: right;\">\n",
       "      <th></th>\n",
       "      <th>id</th>\n",
       "      <th>text</th>\n",
       "      <th>pronoun</th>\n",
       "      <th>pronoun_offset</th>\n",
       "      <th>a</th>\n",
       "      <th>a_offset</th>\n",
       "      <th>url</th>\n",
       "    </tr>\n",
       "  </thead>\n",
       "  <tbody>\n",
       "    <tr>\n",
       "      <th>0</th>\n",
       "      <td>na</td>\n",
       "      <td>Tilton first made contact with Dozenberg when ...</td>\n",
       "      <td>he</td>\n",
       "      <td>111</td>\n",
       "      <td>Dozenberg</td>\n",
       "      <td>31</td>\n",
       "      <td>na</td>\n",
       "    </tr>\n",
       "  </tbody>\n",
       "</table>\n",
       "</div>"
      ],
      "text/plain": [
       "   id                                               text pronoun  \\\n",
       "0  na  Tilton first made contact with Dozenberg when ...      he   \n",
       "\n",
       "   pronoun_offset          a  a_offset url  \n",
       "0             111  Dozenberg        31  na  "
      ]
     },
     "metadata": {},
     "output_type": "display_data"
    },
    {
     "name": "stderr",
     "output_type": "stream",
     "text": [
      "Initializing Step InputReader\n",
      "Step InputReader initialized\n",
      "Initializing Step LabelSanitizer\n",
      "Step LabelSanitizer initialized\n",
      "Initializing Step MentionsAnnotator\n",
      "Step MentionsAnnotator initialized\n",
      "Initializing Step gather_step\n",
      "STEPPY WARNING: Step with name \"InputReader\", already exist. Make sure that all Steps have unique name.\n",
      "Step gather_step initialized\n",
      "Step gather_step, working in \"inference\" mode\n",
      "Step InputReader, working in \"inference\" mode\n",
      "Step InputReader, adapting inputs\n",
      "Step InputReader, transforming...\n",
      "Step InputReader, transforming completed\n",
      "Step InputReader, transform completed\n",
      "Step LabelSanitizer, working in \"inference\" mode\n",
      "Step LabelSanitizer, adapting inputs\n",
      "Step LabelSanitizer, transforming...\n",
      "Step LabelSanitizer, transforming completed\n",
      "Step LabelSanitizer, transform completed\n",
      "Step MentionsAnnotator, working in \"inference\" mode\n",
      "Step InputReader, working in \"inference\" mode\n",
      "Step InputReader, adapting inputs\n",
      "Step InputReader, transforming...\n",
      "Step InputReader, transforming completed\n",
      "Step InputReader, transform completed\n",
      "Step MentionsAnnotator, unpacking inputs\n",
      "Step MentionsAnnotator, transforming...\n"
     ]
    },
    {
     "name": "stdout",
     "output_type": "stream",
     "text": [
      "Transforming data to features.\n",
      "------BEFORE DATA PIPELINE------- results/probert\n",
      "Empty DataFrame\n",
      "Columns: [id, label]\n",
      "Index: []\n"
     ]
    },
    {
     "name": "stderr",
     "output_type": "stream",
     "text": [
      "Extracting coref clusters...: 100%|██████████| 1/1 [00:00<00:00, 736.62it/s]\n",
      "Step MentionsAnnotator, transforming completed\n",
      "Step MentionsAnnotator, transform completed\n",
      "Step gather_step, adapting inputs\n",
      "Step gather_step, transforming...\n",
      "Step gather_step, transforming completed\n",
      "Step gather_step, transform completed\n"
     ]
    },
    {
     "name": "stdout",
     "output_type": "stream",
     "text": [
      "Transforming data to features done.\n",
      " Log a couple of examples for sanity check.\n",
      "\n"
     ]
    },
    {
     "name": "stderr",
     "output_type": "stream",
     "text": [
      "Convert Examples to features: 1it [00:00, 246.87it/s]\n",
      "Evaluating:   0%|          | 0/1 [00:00<?, ?it/s]/dccstor/media-bias-4374/gender-ambiguity-detectors/gap/models/gap/probert.py:35: UserWarning: indexing with dtype torch.uint8 is now deprecated, please use a dtype torch.bool instead. (Triggered internally at  ../aten/src/ATen/native/IndexingUtils.h:28.)\n",
      "  sequence_output = sequence_output[~gpr_tags_mask].view(batch_size, -1, self.config.hidden_size)\n",
      "Evaluating: 100%|██████████| 1/1 [00:04<00:00,  4.27s/it]"
     ]
    },
    {
     "name": "stdout",
     "output_type": "stream",
     "text": [
      "[0.14992264 0.8500774 ]\n",
      "Known pronoun 'he' resolves 'False' to 'Dozenberg' with a probability of '0.8500773906707764'\n"
     ]
    },
    {
     "name": "stderr",
     "output_type": "stream",
     "text": [
      "\n"
     ]
    },
    {
     "data": {
      "text/html": [
       "<div>\n",
       "<style scoped>\n",
       "    .dataframe tbody tr th:only-of-type {\n",
       "        vertical-align: middle;\n",
       "    }\n",
       "\n",
       "    .dataframe tbody tr th {\n",
       "        vertical-align: top;\n",
       "    }\n",
       "\n",
       "    .dataframe thead th {\n",
       "        text-align: right;\n",
       "    }\n",
       "</style>\n",
       "<table border=\"1\" class=\"dataframe\">\n",
       "  <thead>\n",
       "    <tr style=\"text-align: right;\">\n",
       "      <th></th>\n",
       "      <th>id</th>\n",
       "      <th>text</th>\n",
       "      <th>pronoun</th>\n",
       "      <th>pronoun_offset</th>\n",
       "      <th>a</th>\n",
       "      <th>a_offset</th>\n",
       "      <th>url</th>\n",
       "    </tr>\n",
       "  </thead>\n",
       "  <tbody>\n",
       "    <tr>\n",
       "      <th>0</th>\n",
       "      <td>na</td>\n",
       "      <td>Tilton first made contact with Dozenberg when ...</td>\n",
       "      <td>he</td>\n",
       "      <td>111</td>\n",
       "      <td>Dozenberg</td>\n",
       "      <td>139</td>\n",
       "      <td>na</td>\n",
       "    </tr>\n",
       "  </tbody>\n",
       "</table>\n",
       "</div>"
      ],
      "text/plain": [
       "   id                                               text pronoun  \\\n",
       "0  na  Tilton first made contact with Dozenberg when ...      he   \n",
       "\n",
       "   pronoun_offset          a  a_offset url  \n",
       "0             111  Dozenberg       139  na  "
      ]
     },
     "metadata": {},
     "output_type": "display_data"
    },
    {
     "name": "stderr",
     "output_type": "stream",
     "text": [
      "Initializing Step InputReader\n",
      "Step InputReader initialized\n",
      "Initializing Step LabelSanitizer\n",
      "Step LabelSanitizer initialized\n",
      "Initializing Step MentionsAnnotator\n",
      "Step MentionsAnnotator initialized\n",
      "Initializing Step gather_step\n",
      "STEPPY WARNING: Step with name \"InputReader\", already exist. Make sure that all Steps have unique name.\n",
      "Step gather_step initialized\n",
      "Step gather_step, working in \"inference\" mode\n",
      "Step InputReader, working in \"inference\" mode\n",
      "Step InputReader, adapting inputs\n",
      "Step InputReader, transforming...\n",
      "Step InputReader, transforming completed\n",
      "Step InputReader, transform completed\n",
      "Step LabelSanitizer, working in \"inference\" mode\n",
      "Step LabelSanitizer, adapting inputs\n",
      "Step LabelSanitizer, transforming...\n",
      "Step LabelSanitizer, transforming completed\n",
      "Step LabelSanitizer, transform completed\n",
      "Step MentionsAnnotator, working in \"inference\" mode\n",
      "Step InputReader, working in \"inference\" mode\n",
      "Step InputReader, adapting inputs\n",
      "Step InputReader, transforming...\n",
      "Step InputReader, transforming completed\n",
      "Step InputReader, transform completed\n",
      "Step MentionsAnnotator, unpacking inputs\n",
      "Step MentionsAnnotator, transforming...\n"
     ]
    },
    {
     "name": "stdout",
     "output_type": "stream",
     "text": [
      "Transforming data to features.\n",
      "------BEFORE DATA PIPELINE------- results/probert\n",
      "Empty DataFrame\n",
      "Columns: [id, label]\n",
      "Index: []\n"
     ]
    },
    {
     "name": "stderr",
     "output_type": "stream",
     "text": [
      "Extracting coref clusters...: 100%|██████████| 1/1 [00:00<00:00, 803.81it/s]\n",
      "Step MentionsAnnotator, transforming completed\n",
      "Step MentionsAnnotator, transform completed\n",
      "Step gather_step, adapting inputs\n",
      "Step gather_step, transforming...\n",
      "Step gather_step, transforming completed\n",
      "Step gather_step, transform completed\n"
     ]
    },
    {
     "name": "stdout",
     "output_type": "stream",
     "text": [
      "Transforming data to features done.\n",
      " Log a couple of examples for sanity check.\n",
      "\n"
     ]
    },
    {
     "name": "stderr",
     "output_type": "stream",
     "text": [
      "Convert Examples to features: 1it [00:00, 240.68it/s]\n",
      "Evaluating:   0%|          | 0/1 [00:00<?, ?it/s]/dccstor/media-bias-4374/gender-ambiguity-detectors/gap/models/gap/probert.py:35: UserWarning: indexing with dtype torch.uint8 is now deprecated, please use a dtype torch.bool instead. (Triggered internally at  ../aten/src/ATen/native/IndexingUtils.h:28.)\n",
      "  sequence_output = sequence_output[~gpr_tags_mask].view(batch_size, -1, self.config.hidden_size)\n",
      "Evaluating: 100%|██████████| 1/1 [00:03<00:00,  3.75s/it]"
     ]
    },
    {
     "name": "stdout",
     "output_type": "stream",
     "text": [
      "[0.04504602 0.95495397]\n",
      "Known pronoun 'he' resolves 'False' to 'Dozenberg' with a probability of '0.9549539685249329'\n"
     ]
    },
    {
     "name": "stderr",
     "output_type": "stream",
     "text": [
      "\n"
     ]
    },
    {
     "data": {
      "text/html": [
       "<div>\n",
       "<style scoped>\n",
       "    .dataframe tbody tr th:only-of-type {\n",
       "        vertical-align: middle;\n",
       "    }\n",
       "\n",
       "    .dataframe tbody tr th {\n",
       "        vertical-align: top;\n",
       "    }\n",
       "\n",
       "    .dataframe thead th {\n",
       "        text-align: right;\n",
       "    }\n",
       "</style>\n",
       "<table border=\"1\" class=\"dataframe\">\n",
       "  <thead>\n",
       "    <tr style=\"text-align: right;\">\n",
       "      <th></th>\n",
       "      <th>id</th>\n",
       "      <th>text</th>\n",
       "      <th>pronoun</th>\n",
       "      <th>pronoun_offset</th>\n",
       "      <th>a</th>\n",
       "      <th>a_offset</th>\n",
       "      <th>url</th>\n",
       "    </tr>\n",
       "  </thead>\n",
       "  <tbody>\n",
       "    <tr>\n",
       "      <th>0</th>\n",
       "      <td>na</td>\n",
       "      <td>Tilton first made contact with Dozenberg when ...</td>\n",
       "      <td>he</td>\n",
       "      <td>111</td>\n",
       "      <td>Dozenberg</td>\n",
       "      <td>202</td>\n",
       "      <td>na</td>\n",
       "    </tr>\n",
       "  </tbody>\n",
       "</table>\n",
       "</div>"
      ],
      "text/plain": [
       "   id                                               text pronoun  \\\n",
       "0  na  Tilton first made contact with Dozenberg when ...      he   \n",
       "\n",
       "   pronoun_offset          a  a_offset url  \n",
       "0             111  Dozenberg       202  na  "
      ]
     },
     "metadata": {},
     "output_type": "display_data"
    },
    {
     "name": "stderr",
     "output_type": "stream",
     "text": [
      "Initializing Step InputReader\n",
      "Step InputReader initialized\n",
      "Initializing Step LabelSanitizer\n",
      "Step LabelSanitizer initialized\n",
      "Initializing Step MentionsAnnotator\n",
      "Step MentionsAnnotator initialized\n",
      "Initializing Step gather_step\n",
      "STEPPY WARNING: Step with name \"InputReader\", already exist. Make sure that all Steps have unique name.\n",
      "Step gather_step initialized\n",
      "Step gather_step, working in \"inference\" mode\n",
      "Step InputReader, working in \"inference\" mode\n",
      "Step InputReader, adapting inputs\n",
      "Step InputReader, transforming...\n",
      "Step InputReader, transforming completed\n",
      "Step InputReader, transform completed\n",
      "Step LabelSanitizer, working in \"inference\" mode\n",
      "Step LabelSanitizer, adapting inputs\n",
      "Step LabelSanitizer, transforming...\n",
      "Step LabelSanitizer, transforming completed\n",
      "Step LabelSanitizer, transform completed\n",
      "Step MentionsAnnotator, working in \"inference\" mode\n",
      "Step InputReader, working in \"inference\" mode\n",
      "Step InputReader, adapting inputs\n",
      "Step InputReader, transforming...\n",
      "Step InputReader, transforming completed\n",
      "Step InputReader, transform completed\n",
      "Step MentionsAnnotator, unpacking inputs\n",
      "Step MentionsAnnotator, transforming...\n"
     ]
    },
    {
     "name": "stdout",
     "output_type": "stream",
     "text": [
      "Transforming data to features.\n",
      "------BEFORE DATA PIPELINE------- results/probert\n",
      "Empty DataFrame\n",
      "Columns: [id, label]\n",
      "Index: []\n"
     ]
    },
    {
     "name": "stderr",
     "output_type": "stream",
     "text": [
      "Extracting coref clusters...: 100%|██████████| 1/1 [00:00<00:00, 801.20it/s]\n",
      "Step MentionsAnnotator, transforming completed\n",
      "Step MentionsAnnotator, transform completed\n",
      "Step gather_step, adapting inputs\n",
      "Step gather_step, transforming...\n",
      "Step gather_step, transforming completed\n",
      "Step gather_step, transform completed\n"
     ]
    },
    {
     "name": "stdout",
     "output_type": "stream",
     "text": [
      "Transforming data to features done.\n",
      " Log a couple of examples for sanity check.\n",
      "\n"
     ]
    },
    {
     "name": "stderr",
     "output_type": "stream",
     "text": [
      "Convert Examples to features: 1it [00:00, 246.99it/s]\n",
      "Evaluating:   0%|          | 0/1 [00:00<?, ?it/s]/dccstor/media-bias-4374/gender-ambiguity-detectors/gap/models/gap/probert.py:35: UserWarning: indexing with dtype torch.uint8 is now deprecated, please use a dtype torch.bool instead. (Triggered internally at  ../aten/src/ATen/native/IndexingUtils.h:28.)\n",
      "  sequence_output = sequence_output[~gpr_tags_mask].view(batch_size, -1, self.config.hidden_size)\n",
      "Evaluating: 100%|██████████| 1/1 [00:04<00:00,  4.09s/it]"
     ]
    },
    {
     "name": "stdout",
     "output_type": "stream",
     "text": [
      "[0.04909478 0.9509052 ]\n",
      "Known pronoun 'he' resolves 'False' to 'Dozenberg' with a probability of '0.9509052038192749'\n"
     ]
    },
    {
     "name": "stderr",
     "output_type": "stream",
     "text": [
      "\n"
     ]
    },
    {
     "data": {
      "text/html": [
       "<div>\n",
       "<style scoped>\n",
       "    .dataframe tbody tr th:only-of-type {\n",
       "        vertical-align: middle;\n",
       "    }\n",
       "\n",
       "    .dataframe tbody tr th {\n",
       "        vertical-align: top;\n",
       "    }\n",
       "\n",
       "    .dataframe thead th {\n",
       "        text-align: right;\n",
       "    }\n",
       "</style>\n",
       "<table border=\"1\" class=\"dataframe\">\n",
       "  <thead>\n",
       "    <tr style=\"text-align: right;\">\n",
       "      <th></th>\n",
       "      <th>id</th>\n",
       "      <th>text</th>\n",
       "      <th>pronoun</th>\n",
       "      <th>pronoun_offset</th>\n",
       "      <th>a</th>\n",
       "      <th>a_offset</th>\n",
       "      <th>url</th>\n",
       "    </tr>\n",
       "  </thead>\n",
       "  <tbody>\n",
       "    <tr>\n",
       "      <th>0</th>\n",
       "      <td>na</td>\n",
       "      <td>Tilton first made contact with Dozenberg when ...</td>\n",
       "      <td>he</td>\n",
       "      <td>111</td>\n",
       "      <td>Dozenberg</td>\n",
       "      <td>307</td>\n",
       "      <td>na</td>\n",
       "    </tr>\n",
       "  </tbody>\n",
       "</table>\n",
       "</div>"
      ],
      "text/plain": [
       "   id                                               text pronoun  \\\n",
       "0  na  Tilton first made contact with Dozenberg when ...      he   \n",
       "\n",
       "   pronoun_offset          a  a_offset url  \n",
       "0             111  Dozenberg       307  na  "
      ]
     },
     "metadata": {},
     "output_type": "display_data"
    },
    {
     "name": "stderr",
     "output_type": "stream",
     "text": [
      "Initializing Step InputReader\n",
      "Step InputReader initialized\n",
      "Initializing Step LabelSanitizer\n",
      "Step LabelSanitizer initialized\n",
      "Initializing Step MentionsAnnotator\n",
      "Step MentionsAnnotator initialized\n",
      "Initializing Step gather_step\n",
      "STEPPY WARNING: Step with name \"InputReader\", already exist. Make sure that all Steps have unique name.\n",
      "Step gather_step initialized\n",
      "Step gather_step, working in \"inference\" mode\n",
      "Step InputReader, working in \"inference\" mode\n",
      "Step InputReader, adapting inputs\n",
      "Step InputReader, transforming...\n",
      "Step InputReader, transforming completed\n",
      "Step InputReader, transform completed\n",
      "Step LabelSanitizer, working in \"inference\" mode\n",
      "Step LabelSanitizer, adapting inputs\n",
      "Step LabelSanitizer, transforming...\n",
      "Step LabelSanitizer, transforming completed\n",
      "Step LabelSanitizer, transform completed\n",
      "Step MentionsAnnotator, working in \"inference\" mode\n",
      "Step InputReader, working in \"inference\" mode\n",
      "Step InputReader, adapting inputs\n",
      "Step InputReader, transforming...\n",
      "Step InputReader, transforming completed\n",
      "Step InputReader, transform completed\n",
      "Step MentionsAnnotator, unpacking inputs\n",
      "Step MentionsAnnotator, transforming...\n"
     ]
    },
    {
     "name": "stdout",
     "output_type": "stream",
     "text": [
      "Transforming data to features.\n",
      "------BEFORE DATA PIPELINE------- results/probert\n",
      "Empty DataFrame\n",
      "Columns: [id, label]\n",
      "Index: []\n"
     ]
    },
    {
     "name": "stderr",
     "output_type": "stream",
     "text": [
      "Extracting coref clusters...: 100%|██████████| 1/1 [00:00<00:00, 750.46it/s]\n",
      "Step MentionsAnnotator, transforming completed\n",
      "Step MentionsAnnotator, transform completed\n",
      "Step gather_step, adapting inputs\n",
      "Step gather_step, transforming...\n",
      "Step gather_step, transforming completed\n",
      "Step gather_step, transform completed\n"
     ]
    },
    {
     "name": "stdout",
     "output_type": "stream",
     "text": [
      "Transforming data to features done.\n",
      " Log a couple of examples for sanity check.\n",
      "\n"
     ]
    },
    {
     "name": "stderr",
     "output_type": "stream",
     "text": [
      "Convert Examples to features: 1it [00:00, 252.23it/s]\n",
      "Evaluating:   0%|          | 0/1 [00:00<?, ?it/s]/dccstor/media-bias-4374/gender-ambiguity-detectors/gap/models/gap/probert.py:35: UserWarning: indexing with dtype torch.uint8 is now deprecated, please use a dtype torch.bool instead. (Triggered internally at  ../aten/src/ATen/native/IndexingUtils.h:28.)\n",
      "  sequence_output = sequence_output[~gpr_tags_mask].view(batch_size, -1, self.config.hidden_size)\n",
      "Evaluating: 100%|██████████| 1/1 [00:04<00:00,  4.32s/it]"
     ]
    },
    {
     "name": "stdout",
     "output_type": "stream",
     "text": [
      "[0.05501426 0.94498575]\n",
      "Known pronoun 'he' resolves 'False' to 'Dozenberg' with a probability of '0.9449857473373413'\n"
     ]
    },
    {
     "name": "stderr",
     "output_type": "stream",
     "text": [
      "\n"
     ]
    },
    {
     "data": {
      "text/html": [
       "<div>\n",
       "<style scoped>\n",
       "    .dataframe tbody tr th:only-of-type {\n",
       "        vertical-align: middle;\n",
       "    }\n",
       "\n",
       "    .dataframe tbody tr th {\n",
       "        vertical-align: top;\n",
       "    }\n",
       "\n",
       "    .dataframe thead th {\n",
       "        text-align: right;\n",
       "    }\n",
       "</style>\n",
       "<table border=\"1\" class=\"dataframe\">\n",
       "  <thead>\n",
       "    <tr style=\"text-align: right;\">\n",
       "      <th></th>\n",
       "      <th>id</th>\n",
       "      <th>text</th>\n",
       "      <th>pronoun</th>\n",
       "      <th>pronoun_offset</th>\n",
       "      <th>a</th>\n",
       "      <th>a_offset</th>\n",
       "      <th>url</th>\n",
       "    </tr>\n",
       "  </thead>\n",
       "  <tbody>\n",
       "    <tr>\n",
       "      <th>0</th>\n",
       "      <td>na</td>\n",
       "      <td>Tilton first made contact with Dozenberg when ...</td>\n",
       "      <td>he</td>\n",
       "      <td>111</td>\n",
       "      <td>Dozenberg</td>\n",
       "      <td>380</td>\n",
       "      <td>na</td>\n",
       "    </tr>\n",
       "  </tbody>\n",
       "</table>\n",
       "</div>"
      ],
      "text/plain": [
       "   id                                               text pronoun  \\\n",
       "0  na  Tilton first made contact with Dozenberg when ...      he   \n",
       "\n",
       "   pronoun_offset          a  a_offset url  \n",
       "0             111  Dozenberg       380  na  "
      ]
     },
     "metadata": {},
     "output_type": "display_data"
    },
    {
     "name": "stderr",
     "output_type": "stream",
     "text": [
      "Initializing Step InputReader\n",
      "Step InputReader initialized\n",
      "Initializing Step LabelSanitizer\n",
      "Step LabelSanitizer initialized\n",
      "Initializing Step MentionsAnnotator\n",
      "Step MentionsAnnotator initialized\n",
      "Initializing Step gather_step\n",
      "STEPPY WARNING: Step with name \"InputReader\", already exist. Make sure that all Steps have unique name.\n",
      "Step gather_step initialized\n",
      "Step gather_step, working in \"inference\" mode\n",
      "Step InputReader, working in \"inference\" mode\n",
      "Step InputReader, adapting inputs\n",
      "Step InputReader, transforming...\n",
      "Step InputReader, transforming completed\n",
      "Step InputReader, transform completed\n",
      "Step LabelSanitizer, working in \"inference\" mode\n",
      "Step LabelSanitizer, adapting inputs\n",
      "Step LabelSanitizer, transforming...\n",
      "Step LabelSanitizer, transforming completed\n",
      "Step LabelSanitizer, transform completed\n",
      "Step MentionsAnnotator, working in \"inference\" mode\n",
      "Step InputReader, working in \"inference\" mode\n",
      "Step InputReader, adapting inputs\n",
      "Step InputReader, transforming...\n",
      "Step InputReader, transforming completed\n",
      "Step InputReader, transform completed\n",
      "Step MentionsAnnotator, unpacking inputs\n",
      "Step MentionsAnnotator, transforming...\n"
     ]
    },
    {
     "name": "stdout",
     "output_type": "stream",
     "text": [
      "Transforming data to features.\n",
      "------BEFORE DATA PIPELINE------- results/probert\n",
      "Empty DataFrame\n",
      "Columns: [id, label]\n",
      "Index: []\n"
     ]
    },
    {
     "name": "stderr",
     "output_type": "stream",
     "text": [
      "Extracting coref clusters...: 100%|██████████| 1/1 [00:00<00:00, 797.40it/s]\n",
      "Step MentionsAnnotator, transforming completed\n",
      "Step MentionsAnnotator, transform completed\n",
      "Step gather_step, adapting inputs\n",
      "Step gather_step, transforming...\n",
      "Step gather_step, transforming completed\n",
      "Step gather_step, transform completed\n"
     ]
    },
    {
     "name": "stdout",
     "output_type": "stream",
     "text": [
      "Transforming data to features done.\n",
      " Log a couple of examples for sanity check.\n",
      "\n"
     ]
    },
    {
     "name": "stderr",
     "output_type": "stream",
     "text": [
      "Convert Examples to features: 1it [00:00, 236.78it/s]\n",
      "Evaluating:   0%|          | 0/1 [00:00<?, ?it/s]/dccstor/media-bias-4374/gender-ambiguity-detectors/gap/models/gap/probert.py:35: UserWarning: indexing with dtype torch.uint8 is now deprecated, please use a dtype torch.bool instead. (Triggered internally at  ../aten/src/ATen/native/IndexingUtils.h:28.)\n",
      "  sequence_output = sequence_output[~gpr_tags_mask].view(batch_size, -1, self.config.hidden_size)\n",
      "Evaluating: 100%|██████████| 1/1 [00:04<00:00,  4.33s/it]"
     ]
    },
    {
     "name": "stdout",
     "output_type": "stream",
     "text": [
      "[0.21642081 0.7835791 ]\n",
      "Known pronoun 'he' resolves 'False' to 'Dozenberg' with a probability of '0.7835791110992432'\n"
     ]
    },
    {
     "name": "stderr",
     "output_type": "stream",
     "text": [
      "\n"
     ]
    },
    {
     "data": {
      "text/html": [
       "<div>\n",
       "<style scoped>\n",
       "    .dataframe tbody tr th:only-of-type {\n",
       "        vertical-align: middle;\n",
       "    }\n",
       "\n",
       "    .dataframe tbody tr th {\n",
       "        vertical-align: top;\n",
       "    }\n",
       "\n",
       "    .dataframe thead th {\n",
       "        text-align: right;\n",
       "    }\n",
       "</style>\n",
       "<table border=\"1\" class=\"dataframe\">\n",
       "  <thead>\n",
       "    <tr style=\"text-align: right;\">\n",
       "      <th></th>\n",
       "      <th>id</th>\n",
       "      <th>text</th>\n",
       "      <th>pronoun</th>\n",
       "      <th>pronoun_offset</th>\n",
       "      <th>a</th>\n",
       "      <th>a_offset</th>\n",
       "      <th>url</th>\n",
       "    </tr>\n",
       "  </thead>\n",
       "  <tbody>\n",
       "    <tr>\n",
       "      <th>0</th>\n",
       "      <td>na</td>\n",
       "      <td>Tilton first made contact with Dozenberg when ...</td>\n",
       "      <td>he</td>\n",
       "      <td>247</td>\n",
       "      <td>Tilton</td>\n",
       "      <td>0</td>\n",
       "      <td>na</td>\n",
       "    </tr>\n",
       "  </tbody>\n",
       "</table>\n",
       "</div>"
      ],
      "text/plain": [
       "   id                                               text pronoun  \\\n",
       "0  na  Tilton first made contact with Dozenberg when ...      he   \n",
       "\n",
       "   pronoun_offset       a  a_offset url  \n",
       "0             247  Tilton         0  na  "
      ]
     },
     "metadata": {},
     "output_type": "display_data"
    },
    {
     "name": "stderr",
     "output_type": "stream",
     "text": [
      "Initializing Step InputReader\n",
      "Step InputReader initialized\n",
      "Initializing Step LabelSanitizer\n",
      "Step LabelSanitizer initialized\n",
      "Initializing Step MentionsAnnotator\n",
      "Step MentionsAnnotator initialized\n",
      "Initializing Step gather_step\n",
      "STEPPY WARNING: Step with name \"InputReader\", already exist. Make sure that all Steps have unique name.\n",
      "Step gather_step initialized\n",
      "Step gather_step, working in \"inference\" mode\n",
      "Step InputReader, working in \"inference\" mode\n",
      "Step InputReader, adapting inputs\n",
      "Step InputReader, transforming...\n",
      "Step InputReader, transforming completed\n",
      "Step InputReader, transform completed\n",
      "Step LabelSanitizer, working in \"inference\" mode\n",
      "Step LabelSanitizer, adapting inputs\n",
      "Step LabelSanitizer, transforming...\n",
      "Step LabelSanitizer, transforming completed\n",
      "Step LabelSanitizer, transform completed\n",
      "Step MentionsAnnotator, working in \"inference\" mode\n",
      "Step InputReader, working in \"inference\" mode\n",
      "Step InputReader, adapting inputs\n",
      "Step InputReader, transforming...\n",
      "Step InputReader, transforming completed\n",
      "Step InputReader, transform completed\n",
      "Step MentionsAnnotator, unpacking inputs\n",
      "Step MentionsAnnotator, transforming...\n"
     ]
    },
    {
     "name": "stdout",
     "output_type": "stream",
     "text": [
      "Transforming data to features.\n",
      "------BEFORE DATA PIPELINE------- results/probert\n",
      "Empty DataFrame\n",
      "Columns: [id, label]\n",
      "Index: []\n"
     ]
    },
    {
     "name": "stderr",
     "output_type": "stream",
     "text": [
      "Extracting coref clusters...: 100%|██████████| 1/1 [00:00<00:00, 828.91it/s]\n",
      "Step MentionsAnnotator, transforming completed\n",
      "Step MentionsAnnotator, transform completed\n",
      "Step gather_step, adapting inputs\n",
      "Step gather_step, transforming...\n",
      "Step gather_step, transforming completed\n",
      "Step gather_step, transform completed\n"
     ]
    },
    {
     "name": "stdout",
     "output_type": "stream",
     "text": [
      "Transforming data to features done.\n",
      " Log a couple of examples for sanity check.\n",
      "\n"
     ]
    },
    {
     "name": "stderr",
     "output_type": "stream",
     "text": [
      "Convert Examples to features: 1it [00:00, 256.47it/s]\n",
      "Evaluating:   0%|          | 0/1 [00:00<?, ?it/s]/dccstor/media-bias-4374/gender-ambiguity-detectors/gap/models/gap/probert.py:35: UserWarning: indexing with dtype torch.uint8 is now deprecated, please use a dtype torch.bool instead. (Triggered internally at  ../aten/src/ATen/native/IndexingUtils.h:28.)\n",
      "  sequence_output = sequence_output[~gpr_tags_mask].view(batch_size, -1, self.config.hidden_size)\n",
      "Evaluating: 100%|██████████| 1/1 [00:04<00:00,  4.39s/it]"
     ]
    },
    {
     "name": "stdout",
     "output_type": "stream",
     "text": [
      "[0.21555075 0.7844492 ]\n",
      "Known pronoun 'he' resolves 'False' to 'Tilton' with a probability of '0.7844492197036743'\n"
     ]
    },
    {
     "name": "stderr",
     "output_type": "stream",
     "text": [
      "\n"
     ]
    },
    {
     "data": {
      "text/html": [
       "<div>\n",
       "<style scoped>\n",
       "    .dataframe tbody tr th:only-of-type {\n",
       "        vertical-align: middle;\n",
       "    }\n",
       "\n",
       "    .dataframe tbody tr th {\n",
       "        vertical-align: top;\n",
       "    }\n",
       "\n",
       "    .dataframe thead th {\n",
       "        text-align: right;\n",
       "    }\n",
       "</style>\n",
       "<table border=\"1\" class=\"dataframe\">\n",
       "  <thead>\n",
       "    <tr style=\"text-align: right;\">\n",
       "      <th></th>\n",
       "      <th>id</th>\n",
       "      <th>text</th>\n",
       "      <th>pronoun</th>\n",
       "      <th>pronoun_offset</th>\n",
       "      <th>a</th>\n",
       "      <th>a_offset</th>\n",
       "      <th>url</th>\n",
       "    </tr>\n",
       "  </thead>\n",
       "  <tbody>\n",
       "    <tr>\n",
       "      <th>0</th>\n",
       "      <td>na</td>\n",
       "      <td>Tilton first made contact with Dozenberg when ...</td>\n",
       "      <td>he</td>\n",
       "      <td>247</td>\n",
       "      <td>Tilton</td>\n",
       "      <td>126</td>\n",
       "      <td>na</td>\n",
       "    </tr>\n",
       "  </tbody>\n",
       "</table>\n",
       "</div>"
      ],
      "text/plain": [
       "   id                                               text pronoun  \\\n",
       "0  na  Tilton first made contact with Dozenberg when ...      he   \n",
       "\n",
       "   pronoun_offset       a  a_offset url  \n",
       "0             247  Tilton       126  na  "
      ]
     },
     "metadata": {},
     "output_type": "display_data"
    },
    {
     "name": "stderr",
     "output_type": "stream",
     "text": [
      "Initializing Step InputReader\n",
      "Step InputReader initialized\n",
      "Initializing Step LabelSanitizer\n",
      "Step LabelSanitizer initialized\n",
      "Initializing Step MentionsAnnotator\n",
      "Step MentionsAnnotator initialized\n",
      "Initializing Step gather_step\n",
      "STEPPY WARNING: Step with name \"InputReader\", already exist. Make sure that all Steps have unique name.\n",
      "Step gather_step initialized\n",
      "Step gather_step, working in \"inference\" mode\n",
      "Step InputReader, working in \"inference\" mode\n",
      "Step InputReader, adapting inputs\n",
      "Step InputReader, transforming...\n",
      "Step InputReader, transforming completed\n",
      "Step InputReader, transform completed\n",
      "Step LabelSanitizer, working in \"inference\" mode\n",
      "Step LabelSanitizer, adapting inputs\n",
      "Step LabelSanitizer, transforming...\n",
      "Step LabelSanitizer, transforming completed\n",
      "Step LabelSanitizer, transform completed\n",
      "Step MentionsAnnotator, working in \"inference\" mode\n",
      "Step InputReader, working in \"inference\" mode\n",
      "Step InputReader, adapting inputs\n",
      "Step InputReader, transforming...\n",
      "Step InputReader, transforming completed\n",
      "Step InputReader, transform completed\n",
      "Step MentionsAnnotator, unpacking inputs\n",
      "Step MentionsAnnotator, transforming...\n"
     ]
    },
    {
     "name": "stdout",
     "output_type": "stream",
     "text": [
      "Transforming data to features.\n",
      "------BEFORE DATA PIPELINE------- results/probert\n",
      "Empty DataFrame\n",
      "Columns: [id, label]\n",
      "Index: []\n"
     ]
    },
    {
     "name": "stderr",
     "output_type": "stream",
     "text": [
      "Extracting coref clusters...: 100%|██████████| 1/1 [00:00<00:00, 815.70it/s]\n",
      "Step MentionsAnnotator, transforming completed\n",
      "Step MentionsAnnotator, transform completed\n",
      "Step gather_step, adapting inputs\n",
      "Step gather_step, transforming...\n",
      "Step gather_step, transforming completed\n",
      "Step gather_step, transform completed\n"
     ]
    },
    {
     "name": "stdout",
     "output_type": "stream",
     "text": [
      "Transforming data to features done.\n",
      " Log a couple of examples for sanity check.\n",
      "\n"
     ]
    },
    {
     "name": "stderr",
     "output_type": "stream",
     "text": [
      "Convert Examples to features: 1it [00:00, 255.53it/s]\n",
      "Evaluating:   0%|          | 0/1 [00:00<?, ?it/s]/dccstor/media-bias-4374/gender-ambiguity-detectors/gap/models/gap/probert.py:35: UserWarning: indexing with dtype torch.uint8 is now deprecated, please use a dtype torch.bool instead. (Triggered internally at  ../aten/src/ATen/native/IndexingUtils.h:28.)\n",
      "  sequence_output = sequence_output[~gpr_tags_mask].view(batch_size, -1, self.config.hidden_size)\n",
      "Evaluating: 100%|██████████| 1/1 [00:04<00:00,  4.24s/it]"
     ]
    },
    {
     "name": "stdout",
     "output_type": "stream",
     "text": [
      "[0.06220043 0.9377996 ]\n",
      "Known pronoun 'he' resolves 'False' to 'Tilton' with a probability of '0.9377995729446411'\n"
     ]
    },
    {
     "name": "stderr",
     "output_type": "stream",
     "text": [
      "\n"
     ]
    },
    {
     "data": {
      "text/html": [
       "<div>\n",
       "<style scoped>\n",
       "    .dataframe tbody tr th:only-of-type {\n",
       "        vertical-align: middle;\n",
       "    }\n",
       "\n",
       "    .dataframe tbody tr th {\n",
       "        vertical-align: top;\n",
       "    }\n",
       "\n",
       "    .dataframe thead th {\n",
       "        text-align: right;\n",
       "    }\n",
       "</style>\n",
       "<table border=\"1\" class=\"dataframe\">\n",
       "  <thead>\n",
       "    <tr style=\"text-align: right;\">\n",
       "      <th></th>\n",
       "      <th>id</th>\n",
       "      <th>text</th>\n",
       "      <th>pronoun</th>\n",
       "      <th>pronoun_offset</th>\n",
       "      <th>a</th>\n",
       "      <th>a_offset</th>\n",
       "      <th>url</th>\n",
       "    </tr>\n",
       "  </thead>\n",
       "  <tbody>\n",
       "    <tr>\n",
       "      <th>0</th>\n",
       "      <td>na</td>\n",
       "      <td>Tilton first made contact with Dozenberg when ...</td>\n",
       "      <td>he</td>\n",
       "      <td>247</td>\n",
       "      <td>Tilton</td>\n",
       "      <td>291</td>\n",
       "      <td>na</td>\n",
       "    </tr>\n",
       "  </tbody>\n",
       "</table>\n",
       "</div>"
      ],
      "text/plain": [
       "   id                                               text pronoun  \\\n",
       "0  na  Tilton first made contact with Dozenberg when ...      he   \n",
       "\n",
       "   pronoun_offset       a  a_offset url  \n",
       "0             247  Tilton       291  na  "
      ]
     },
     "metadata": {},
     "output_type": "display_data"
    },
    {
     "name": "stderr",
     "output_type": "stream",
     "text": [
      "Initializing Step InputReader\n",
      "Step InputReader initialized\n",
      "Initializing Step LabelSanitizer\n",
      "Step LabelSanitizer initialized\n",
      "Initializing Step MentionsAnnotator\n",
      "Step MentionsAnnotator initialized\n",
      "Initializing Step gather_step\n",
      "STEPPY WARNING: Step with name \"InputReader\", already exist. Make sure that all Steps have unique name.\n",
      "Step gather_step initialized\n",
      "Step gather_step, working in \"inference\" mode\n",
      "Step InputReader, working in \"inference\" mode\n",
      "Step InputReader, adapting inputs\n",
      "Step InputReader, transforming...\n",
      "Step InputReader, transforming completed\n",
      "Step InputReader, transform completed\n",
      "Step LabelSanitizer, working in \"inference\" mode\n",
      "Step LabelSanitizer, adapting inputs\n",
      "Step LabelSanitizer, transforming...\n",
      "Step LabelSanitizer, transforming completed\n",
      "Step LabelSanitizer, transform completed\n",
      "Step MentionsAnnotator, working in \"inference\" mode\n",
      "Step InputReader, working in \"inference\" mode\n",
      "Step InputReader, adapting inputs\n",
      "Step InputReader, transforming...\n",
      "Step InputReader, transforming completed\n",
      "Step InputReader, transform completed\n",
      "Step MentionsAnnotator, unpacking inputs\n",
      "Step MentionsAnnotator, transforming...\n"
     ]
    },
    {
     "name": "stdout",
     "output_type": "stream",
     "text": [
      "Transforming data to features.\n",
      "------BEFORE DATA PIPELINE------- results/probert\n",
      "Empty DataFrame\n",
      "Columns: [id, label]\n",
      "Index: []\n"
     ]
    },
    {
     "name": "stderr",
     "output_type": "stream",
     "text": [
      "Extracting coref clusters...: 100%|██████████| 1/1 [00:00<00:00, 735.33it/s]\n",
      "Step MentionsAnnotator, transforming completed\n",
      "Step MentionsAnnotator, transform completed\n",
      "Step gather_step, adapting inputs\n",
      "Step gather_step, transforming...\n",
      "Step gather_step, transforming completed\n",
      "Step gather_step, transform completed\n"
     ]
    },
    {
     "name": "stdout",
     "output_type": "stream",
     "text": [
      "Transforming data to features done.\n",
      " Log a couple of examples for sanity check.\n",
      "\n"
     ]
    },
    {
     "name": "stderr",
     "output_type": "stream",
     "text": [
      "Convert Examples to features: 1it [00:00, 243.29it/s]\n",
      "Evaluating:   0%|          | 0/1 [00:00<?, ?it/s]/dccstor/media-bias-4374/gender-ambiguity-detectors/gap/models/gap/probert.py:35: UserWarning: indexing with dtype torch.uint8 is now deprecated, please use a dtype torch.bool instead. (Triggered internally at  ../aten/src/ATen/native/IndexingUtils.h:28.)\n",
      "  sequence_output = sequence_output[~gpr_tags_mask].view(batch_size, -1, self.config.hidden_size)\n",
      "Evaluating: 100%|██████████| 1/1 [00:04<00:00,  4.28s/it]"
     ]
    },
    {
     "name": "stdout",
     "output_type": "stream",
     "text": [
      "[0.17455071 0.8254493 ]\n",
      "Known pronoun 'he' resolves 'False' to 'Tilton' with a probability of '0.8254492878913879'\n"
     ]
    },
    {
     "name": "stderr",
     "output_type": "stream",
     "text": [
      "\n"
     ]
    },
    {
     "data": {
      "text/html": [
       "<div>\n",
       "<style scoped>\n",
       "    .dataframe tbody tr th:only-of-type {\n",
       "        vertical-align: middle;\n",
       "    }\n",
       "\n",
       "    .dataframe tbody tr th {\n",
       "        vertical-align: top;\n",
       "    }\n",
       "\n",
       "    .dataframe thead th {\n",
       "        text-align: right;\n",
       "    }\n",
       "</style>\n",
       "<table border=\"1\" class=\"dataframe\">\n",
       "  <thead>\n",
       "    <tr style=\"text-align: right;\">\n",
       "      <th></th>\n",
       "      <th>id</th>\n",
       "      <th>text</th>\n",
       "      <th>pronoun</th>\n",
       "      <th>pronoun_offset</th>\n",
       "      <th>a</th>\n",
       "      <th>a_offset</th>\n",
       "      <th>url</th>\n",
       "    </tr>\n",
       "  </thead>\n",
       "  <tbody>\n",
       "    <tr>\n",
       "      <th>0</th>\n",
       "      <td>na</td>\n",
       "      <td>Tilton first made contact with Dozenberg when ...</td>\n",
       "      <td>he</td>\n",
       "      <td>247</td>\n",
       "      <td>Dozenberg</td>\n",
       "      <td>31</td>\n",
       "      <td>na</td>\n",
       "    </tr>\n",
       "  </tbody>\n",
       "</table>\n",
       "</div>"
      ],
      "text/plain": [
       "   id                                               text pronoun  \\\n",
       "0  na  Tilton first made contact with Dozenberg when ...      he   \n",
       "\n",
       "   pronoun_offset          a  a_offset url  \n",
       "0             247  Dozenberg        31  na  "
      ]
     },
     "metadata": {},
     "output_type": "display_data"
    },
    {
     "name": "stderr",
     "output_type": "stream",
     "text": [
      "Initializing Step InputReader\n",
      "Step InputReader initialized\n",
      "Initializing Step LabelSanitizer\n",
      "Step LabelSanitizer initialized\n",
      "Initializing Step MentionsAnnotator\n",
      "Step MentionsAnnotator initialized\n",
      "Initializing Step gather_step\n",
      "STEPPY WARNING: Step with name \"InputReader\", already exist. Make sure that all Steps have unique name.\n",
      "Step gather_step initialized\n",
      "Step gather_step, working in \"inference\" mode\n",
      "Step InputReader, working in \"inference\" mode\n",
      "Step InputReader, adapting inputs\n",
      "Step InputReader, transforming...\n",
      "Step InputReader, transforming completed\n",
      "Step InputReader, transform completed\n",
      "Step LabelSanitizer, working in \"inference\" mode\n",
      "Step LabelSanitizer, adapting inputs\n",
      "Step LabelSanitizer, transforming...\n",
      "Step LabelSanitizer, transforming completed\n",
      "Step LabelSanitizer, transform completed\n",
      "Step MentionsAnnotator, working in \"inference\" mode\n",
      "Step InputReader, working in \"inference\" mode\n",
      "Step InputReader, adapting inputs\n",
      "Step InputReader, transforming...\n",
      "Step InputReader, transforming completed\n",
      "Step InputReader, transform completed\n",
      "Step MentionsAnnotator, unpacking inputs\n",
      "Step MentionsAnnotator, transforming...\n"
     ]
    },
    {
     "name": "stdout",
     "output_type": "stream",
     "text": [
      "Transforming data to features.\n",
      "------BEFORE DATA PIPELINE------- results/probert\n",
      "Empty DataFrame\n",
      "Columns: [id, label]\n",
      "Index: []\n"
     ]
    },
    {
     "name": "stderr",
     "output_type": "stream",
     "text": [
      "Extracting coref clusters...: 100%|██████████| 1/1 [00:00<00:00, 821.12it/s]\n",
      "Step MentionsAnnotator, transforming completed\n",
      "Step MentionsAnnotator, transform completed\n",
      "Step gather_step, adapting inputs\n",
      "Step gather_step, transforming...\n",
      "Step gather_step, transforming completed\n",
      "Step gather_step, transform completed\n"
     ]
    },
    {
     "name": "stdout",
     "output_type": "stream",
     "text": [
      "Transforming data to features done.\n",
      " Log a couple of examples for sanity check.\n",
      "\n"
     ]
    },
    {
     "name": "stderr",
     "output_type": "stream",
     "text": [
      "Convert Examples to features: 1it [00:00, 276.98it/s]\n",
      "Evaluating:   0%|          | 0/1 [00:00<?, ?it/s]/dccstor/media-bias-4374/gender-ambiguity-detectors/gap/models/gap/probert.py:35: UserWarning: indexing with dtype torch.uint8 is now deprecated, please use a dtype torch.bool instead. (Triggered internally at  ../aten/src/ATen/native/IndexingUtils.h:28.)\n",
      "  sequence_output = sequence_output[~gpr_tags_mask].view(batch_size, -1, self.config.hidden_size)\n",
      "Evaluating: 100%|██████████| 1/1 [00:04<00:00,  4.24s/it]"
     ]
    },
    {
     "name": "stdout",
     "output_type": "stream",
     "text": [
      "[0.10663534 0.8933646 ]\n",
      "Known pronoun 'he' resolves 'False' to 'Dozenberg' with a probability of '0.8933646082878113'\n"
     ]
    },
    {
     "name": "stderr",
     "output_type": "stream",
     "text": [
      "\n"
     ]
    },
    {
     "data": {
      "text/html": [
       "<div>\n",
       "<style scoped>\n",
       "    .dataframe tbody tr th:only-of-type {\n",
       "        vertical-align: middle;\n",
       "    }\n",
       "\n",
       "    .dataframe tbody tr th {\n",
       "        vertical-align: top;\n",
       "    }\n",
       "\n",
       "    .dataframe thead th {\n",
       "        text-align: right;\n",
       "    }\n",
       "</style>\n",
       "<table border=\"1\" class=\"dataframe\">\n",
       "  <thead>\n",
       "    <tr style=\"text-align: right;\">\n",
       "      <th></th>\n",
       "      <th>id</th>\n",
       "      <th>text</th>\n",
       "      <th>pronoun</th>\n",
       "      <th>pronoun_offset</th>\n",
       "      <th>a</th>\n",
       "      <th>a_offset</th>\n",
       "      <th>url</th>\n",
       "    </tr>\n",
       "  </thead>\n",
       "  <tbody>\n",
       "    <tr>\n",
       "      <th>0</th>\n",
       "      <td>na</td>\n",
       "      <td>Tilton first made contact with Dozenberg when ...</td>\n",
       "      <td>he</td>\n",
       "      <td>247</td>\n",
       "      <td>Dozenberg</td>\n",
       "      <td>139</td>\n",
       "      <td>na</td>\n",
       "    </tr>\n",
       "  </tbody>\n",
       "</table>\n",
       "</div>"
      ],
      "text/plain": [
       "   id                                               text pronoun  \\\n",
       "0  na  Tilton first made contact with Dozenberg when ...      he   \n",
       "\n",
       "   pronoun_offset          a  a_offset url  \n",
       "0             247  Dozenberg       139  na  "
      ]
     },
     "metadata": {},
     "output_type": "display_data"
    },
    {
     "name": "stderr",
     "output_type": "stream",
     "text": [
      "Initializing Step InputReader\n",
      "Step InputReader initialized\n",
      "Initializing Step LabelSanitizer\n",
      "Step LabelSanitizer initialized\n",
      "Initializing Step MentionsAnnotator\n",
      "Step MentionsAnnotator initialized\n",
      "Initializing Step gather_step\n",
      "STEPPY WARNING: Step with name \"InputReader\", already exist. Make sure that all Steps have unique name.\n",
      "Step gather_step initialized\n",
      "Step gather_step, working in \"inference\" mode\n",
      "Step InputReader, working in \"inference\" mode\n",
      "Step InputReader, adapting inputs\n",
      "Step InputReader, transforming...\n",
      "Step InputReader, transforming completed\n",
      "Step InputReader, transform completed\n",
      "Step LabelSanitizer, working in \"inference\" mode\n",
      "Step LabelSanitizer, adapting inputs\n",
      "Step LabelSanitizer, transforming...\n",
      "Step LabelSanitizer, transforming completed\n",
      "Step LabelSanitizer, transform completed\n",
      "Step MentionsAnnotator, working in \"inference\" mode\n",
      "Step InputReader, working in \"inference\" mode\n",
      "Step InputReader, adapting inputs\n",
      "Step InputReader, transforming...\n",
      "Step InputReader, transforming completed\n",
      "Step InputReader, transform completed\n",
      "Step MentionsAnnotator, unpacking inputs\n",
      "Step MentionsAnnotator, transforming...\n"
     ]
    },
    {
     "name": "stdout",
     "output_type": "stream",
     "text": [
      "Transforming data to features.\n",
      "------BEFORE DATA PIPELINE------- results/probert\n",
      "Empty DataFrame\n",
      "Columns: [id, label]\n",
      "Index: []\n"
     ]
    },
    {
     "name": "stderr",
     "output_type": "stream",
     "text": [
      "Extracting coref clusters...: 100%|██████████| 1/1 [00:00<00:00, 860.37it/s]\n",
      "Step MentionsAnnotator, transforming completed\n",
      "Step MentionsAnnotator, transform completed\n",
      "Step gather_step, adapting inputs\n",
      "Step gather_step, transforming...\n",
      "Step gather_step, transforming completed\n",
      "Step gather_step, transform completed\n"
     ]
    },
    {
     "name": "stdout",
     "output_type": "stream",
     "text": [
      "Transforming data to features done.\n",
      " Log a couple of examples for sanity check.\n",
      "\n"
     ]
    },
    {
     "name": "stderr",
     "output_type": "stream",
     "text": [
      "Convert Examples to features: 1it [00:00, 266.09it/s]\n",
      "Evaluating:   0%|          | 0/1 [00:00<?, ?it/s]/dccstor/media-bias-4374/gender-ambiguity-detectors/gap/models/gap/probert.py:35: UserWarning: indexing with dtype torch.uint8 is now deprecated, please use a dtype torch.bool instead. (Triggered internally at  ../aten/src/ATen/native/IndexingUtils.h:28.)\n",
      "  sequence_output = sequence_output[~gpr_tags_mask].view(batch_size, -1, self.config.hidden_size)\n",
      "Evaluating: 100%|██████████| 1/1 [00:04<00:00,  4.26s/it]"
     ]
    },
    {
     "name": "stdout",
     "output_type": "stream",
     "text": [
      "[0.05428211 0.9457178 ]\n",
      "Known pronoun 'he' resolves 'False' to 'Dozenberg' with a probability of '0.9457178115844727'\n"
     ]
    },
    {
     "name": "stderr",
     "output_type": "stream",
     "text": [
      "\n"
     ]
    },
    {
     "data": {
      "text/html": [
       "<div>\n",
       "<style scoped>\n",
       "    .dataframe tbody tr th:only-of-type {\n",
       "        vertical-align: middle;\n",
       "    }\n",
       "\n",
       "    .dataframe tbody tr th {\n",
       "        vertical-align: top;\n",
       "    }\n",
       "\n",
       "    .dataframe thead th {\n",
       "        text-align: right;\n",
       "    }\n",
       "</style>\n",
       "<table border=\"1\" class=\"dataframe\">\n",
       "  <thead>\n",
       "    <tr style=\"text-align: right;\">\n",
       "      <th></th>\n",
       "      <th>id</th>\n",
       "      <th>text</th>\n",
       "      <th>pronoun</th>\n",
       "      <th>pronoun_offset</th>\n",
       "      <th>a</th>\n",
       "      <th>a_offset</th>\n",
       "      <th>url</th>\n",
       "    </tr>\n",
       "  </thead>\n",
       "  <tbody>\n",
       "    <tr>\n",
       "      <th>0</th>\n",
       "      <td>na</td>\n",
       "      <td>Tilton first made contact with Dozenberg when ...</td>\n",
       "      <td>he</td>\n",
       "      <td>247</td>\n",
       "      <td>Dozenberg</td>\n",
       "      <td>202</td>\n",
       "      <td>na</td>\n",
       "    </tr>\n",
       "  </tbody>\n",
       "</table>\n",
       "</div>"
      ],
      "text/plain": [
       "   id                                               text pronoun  \\\n",
       "0  na  Tilton first made contact with Dozenberg when ...      he   \n",
       "\n",
       "   pronoun_offset          a  a_offset url  \n",
       "0             247  Dozenberg       202  na  "
      ]
     },
     "metadata": {},
     "output_type": "display_data"
    },
    {
     "name": "stderr",
     "output_type": "stream",
     "text": [
      "Initializing Step InputReader\n",
      "Step InputReader initialized\n",
      "Initializing Step LabelSanitizer\n",
      "Step LabelSanitizer initialized\n",
      "Initializing Step MentionsAnnotator\n",
      "Step MentionsAnnotator initialized\n",
      "Initializing Step gather_step\n",
      "STEPPY WARNING: Step with name \"InputReader\", already exist. Make sure that all Steps have unique name.\n",
      "Step gather_step initialized\n",
      "Step gather_step, working in \"inference\" mode\n",
      "Step InputReader, working in \"inference\" mode\n",
      "Step InputReader, adapting inputs\n",
      "Step InputReader, transforming...\n",
      "Step InputReader, transforming completed\n",
      "Step InputReader, transform completed\n",
      "Step LabelSanitizer, working in \"inference\" mode\n",
      "Step LabelSanitizer, adapting inputs\n",
      "Step LabelSanitizer, transforming...\n",
      "Step LabelSanitizer, transforming completed\n",
      "Step LabelSanitizer, transform completed\n",
      "Step MentionsAnnotator, working in \"inference\" mode\n",
      "Step InputReader, working in \"inference\" mode\n",
      "Step InputReader, adapting inputs\n",
      "Step InputReader, transforming...\n",
      "Step InputReader, transforming completed\n",
      "Step InputReader, transform completed\n",
      "Step MentionsAnnotator, unpacking inputs\n",
      "Step MentionsAnnotator, transforming...\n"
     ]
    },
    {
     "name": "stdout",
     "output_type": "stream",
     "text": [
      "Transforming data to features.\n",
      "------BEFORE DATA PIPELINE------- results/probert\n",
      "Empty DataFrame\n",
      "Columns: [id, label]\n",
      "Index: []\n"
     ]
    },
    {
     "name": "stderr",
     "output_type": "stream",
     "text": [
      "Extracting coref clusters...: 100%|██████████| 1/1 [00:00<00:00, 776.44it/s]\n",
      "Step MentionsAnnotator, transforming completed\n",
      "Step MentionsAnnotator, transform completed\n",
      "Step gather_step, adapting inputs\n",
      "Step gather_step, transforming...\n",
      "Step gather_step, transforming completed\n",
      "Step gather_step, transform completed\n"
     ]
    },
    {
     "name": "stdout",
     "output_type": "stream",
     "text": [
      "Transforming data to features done.\n",
      " Log a couple of examples for sanity check.\n",
      "\n"
     ]
    },
    {
     "name": "stderr",
     "output_type": "stream",
     "text": [
      "Convert Examples to features: 1it [00:00, 233.97it/s]\n",
      "Evaluating:   0%|          | 0/1 [00:00<?, ?it/s]/dccstor/media-bias-4374/gender-ambiguity-detectors/gap/models/gap/probert.py:35: UserWarning: indexing with dtype torch.uint8 is now deprecated, please use a dtype torch.bool instead. (Triggered internally at  ../aten/src/ATen/native/IndexingUtils.h:28.)\n",
      "  sequence_output = sequence_output[~gpr_tags_mask].view(batch_size, -1, self.config.hidden_size)\n",
      "Evaluating: 100%|██████████| 1/1 [00:04<00:00,  4.27s/it]"
     ]
    },
    {
     "name": "stdout",
     "output_type": "stream",
     "text": [
      "[0.22158056 0.77841944]\n",
      "Known pronoun 'he' resolves 'False' to 'Dozenberg' with a probability of '0.7784194350242615'\n"
     ]
    },
    {
     "name": "stderr",
     "output_type": "stream",
     "text": [
      "\n"
     ]
    },
    {
     "data": {
      "text/html": [
       "<div>\n",
       "<style scoped>\n",
       "    .dataframe tbody tr th:only-of-type {\n",
       "        vertical-align: middle;\n",
       "    }\n",
       "\n",
       "    .dataframe tbody tr th {\n",
       "        vertical-align: top;\n",
       "    }\n",
       "\n",
       "    .dataframe thead th {\n",
       "        text-align: right;\n",
       "    }\n",
       "</style>\n",
       "<table border=\"1\" class=\"dataframe\">\n",
       "  <thead>\n",
       "    <tr style=\"text-align: right;\">\n",
       "      <th></th>\n",
       "      <th>id</th>\n",
       "      <th>text</th>\n",
       "      <th>pronoun</th>\n",
       "      <th>pronoun_offset</th>\n",
       "      <th>a</th>\n",
       "      <th>a_offset</th>\n",
       "      <th>url</th>\n",
       "    </tr>\n",
       "  </thead>\n",
       "  <tbody>\n",
       "    <tr>\n",
       "      <th>0</th>\n",
       "      <td>na</td>\n",
       "      <td>Tilton first made contact with Dozenberg when ...</td>\n",
       "      <td>he</td>\n",
       "      <td>247</td>\n",
       "      <td>Dozenberg</td>\n",
       "      <td>307</td>\n",
       "      <td>na</td>\n",
       "    </tr>\n",
       "  </tbody>\n",
       "</table>\n",
       "</div>"
      ],
      "text/plain": [
       "   id                                               text pronoun  \\\n",
       "0  na  Tilton first made contact with Dozenberg when ...      he   \n",
       "\n",
       "   pronoun_offset          a  a_offset url  \n",
       "0             247  Dozenberg       307  na  "
      ]
     },
     "metadata": {},
     "output_type": "display_data"
    },
    {
     "name": "stderr",
     "output_type": "stream",
     "text": [
      "Initializing Step InputReader\n",
      "Step InputReader initialized\n",
      "Initializing Step LabelSanitizer\n",
      "Step LabelSanitizer initialized\n",
      "Initializing Step MentionsAnnotator\n",
      "Step MentionsAnnotator initialized\n",
      "Initializing Step gather_step\n",
      "STEPPY WARNING: Step with name \"InputReader\", already exist. Make sure that all Steps have unique name.\n",
      "Step gather_step initialized\n",
      "Step gather_step, working in \"inference\" mode\n",
      "Step InputReader, working in \"inference\" mode\n",
      "Step InputReader, adapting inputs\n",
      "Step InputReader, transforming...\n",
      "Step InputReader, transforming completed\n",
      "Step InputReader, transform completed\n",
      "Step LabelSanitizer, working in \"inference\" mode\n",
      "Step LabelSanitizer, adapting inputs\n",
      "Step LabelSanitizer, transforming...\n",
      "Step LabelSanitizer, transforming completed\n",
      "Step LabelSanitizer, transform completed\n",
      "Step MentionsAnnotator, working in \"inference\" mode\n",
      "Step InputReader, working in \"inference\" mode\n",
      "Step InputReader, adapting inputs\n",
      "Step InputReader, transforming...\n",
      "Step InputReader, transforming completed\n",
      "Step InputReader, transform completed\n",
      "Step MentionsAnnotator, unpacking inputs\n",
      "Step MentionsAnnotator, transforming...\n"
     ]
    },
    {
     "name": "stdout",
     "output_type": "stream",
     "text": [
      "Transforming data to features.\n",
      "------BEFORE DATA PIPELINE------- results/probert\n",
      "Empty DataFrame\n",
      "Columns: [id, label]\n",
      "Index: []\n"
     ]
    },
    {
     "name": "stderr",
     "output_type": "stream",
     "text": [
      "Extracting coref clusters...: 100%|██████████| 1/1 [00:00<00:00, 737.78it/s]\n",
      "Step MentionsAnnotator, transforming completed\n",
      "Step MentionsAnnotator, transform completed\n",
      "Step gather_step, adapting inputs\n",
      "Step gather_step, transforming...\n",
      "Step gather_step, transforming completed\n",
      "Step gather_step, transform completed\n"
     ]
    },
    {
     "name": "stdout",
     "output_type": "stream",
     "text": [
      "Transforming data to features done.\n",
      " Log a couple of examples for sanity check.\n",
      "\n"
     ]
    },
    {
     "name": "stderr",
     "output_type": "stream",
     "text": [
      "Convert Examples to features: 1it [00:00, 225.50it/s]\n",
      "Evaluating:   0%|          | 0/1 [00:00<?, ?it/s]/dccstor/media-bias-4374/gender-ambiguity-detectors/gap/models/gap/probert.py:35: UserWarning: indexing with dtype torch.uint8 is now deprecated, please use a dtype torch.bool instead. (Triggered internally at  ../aten/src/ATen/native/IndexingUtils.h:28.)\n",
      "  sequence_output = sequence_output[~gpr_tags_mask].view(batch_size, -1, self.config.hidden_size)\n",
      "Evaluating: 100%|██████████| 1/1 [00:04<00:00,  4.32s/it]"
     ]
    },
    {
     "name": "stdout",
     "output_type": "stream",
     "text": [
      "[0.01044204 0.98955804]\n",
      "Known pronoun 'he' resolves 'False' to 'Dozenberg' with a probability of '0.9895580410957336'\n"
     ]
    },
    {
     "name": "stderr",
     "output_type": "stream",
     "text": [
      "\n"
     ]
    },
    {
     "data": {
      "text/html": [
       "<div>\n",
       "<style scoped>\n",
       "    .dataframe tbody tr th:only-of-type {\n",
       "        vertical-align: middle;\n",
       "    }\n",
       "\n",
       "    .dataframe tbody tr th {\n",
       "        vertical-align: top;\n",
       "    }\n",
       "\n",
       "    .dataframe thead th {\n",
       "        text-align: right;\n",
       "    }\n",
       "</style>\n",
       "<table border=\"1\" class=\"dataframe\">\n",
       "  <thead>\n",
       "    <tr style=\"text-align: right;\">\n",
       "      <th></th>\n",
       "      <th>id</th>\n",
       "      <th>text</th>\n",
       "      <th>pronoun</th>\n",
       "      <th>pronoun_offset</th>\n",
       "      <th>a</th>\n",
       "      <th>a_offset</th>\n",
       "      <th>url</th>\n",
       "    </tr>\n",
       "  </thead>\n",
       "  <tbody>\n",
       "    <tr>\n",
       "      <th>0</th>\n",
       "      <td>na</td>\n",
       "      <td>Tilton first made contact with Dozenberg when ...</td>\n",
       "      <td>he</td>\n",
       "      <td>247</td>\n",
       "      <td>Dozenberg</td>\n",
       "      <td>380</td>\n",
       "      <td>na</td>\n",
       "    </tr>\n",
       "  </tbody>\n",
       "</table>\n",
       "</div>"
      ],
      "text/plain": [
       "   id                                               text pronoun  \\\n",
       "0  na  Tilton first made contact with Dozenberg when ...      he   \n",
       "\n",
       "   pronoun_offset          a  a_offset url  \n",
       "0             247  Dozenberg       380  na  "
      ]
     },
     "metadata": {},
     "output_type": "display_data"
    },
    {
     "name": "stderr",
     "output_type": "stream",
     "text": [
      "Initializing Step InputReader\n",
      "Step InputReader initialized\n",
      "Initializing Step LabelSanitizer\n",
      "Step LabelSanitizer initialized\n",
      "Initializing Step MentionsAnnotator\n",
      "Step MentionsAnnotator initialized\n",
      "Initializing Step gather_step\n",
      "STEPPY WARNING: Step with name \"InputReader\", already exist. Make sure that all Steps have unique name.\n",
      "Step gather_step initialized\n",
      "Step gather_step, working in \"inference\" mode\n",
      "Step InputReader, working in \"inference\" mode\n",
      "Step InputReader, adapting inputs\n",
      "Step InputReader, transforming...\n",
      "Step InputReader, transforming completed\n",
      "Step InputReader, transform completed\n",
      "Step LabelSanitizer, working in \"inference\" mode\n",
      "Step LabelSanitizer, adapting inputs\n",
      "Step LabelSanitizer, transforming...\n",
      "Step LabelSanitizer, transforming completed\n",
      "Step LabelSanitizer, transform completed\n",
      "Step MentionsAnnotator, working in \"inference\" mode\n",
      "Step InputReader, working in \"inference\" mode\n",
      "Step InputReader, adapting inputs\n",
      "Step InputReader, transforming...\n",
      "Step InputReader, transforming completed\n",
      "Step InputReader, transform completed\n",
      "Step MentionsAnnotator, unpacking inputs\n",
      "Step MentionsAnnotator, transforming...\n"
     ]
    },
    {
     "name": "stdout",
     "output_type": "stream",
     "text": [
      "Transforming data to features.\n",
      "------BEFORE DATA PIPELINE------- results/probert\n",
      "Empty DataFrame\n",
      "Columns: [id, label]\n",
      "Index: []\n"
     ]
    },
    {
     "name": "stderr",
     "output_type": "stream",
     "text": [
      "Extracting coref clusters...: 100%|██████████| 1/1 [00:00<00:00, 764.27it/s]\n",
      "Step MentionsAnnotator, transforming completed\n",
      "Step MentionsAnnotator, transform completed\n",
      "Step gather_step, adapting inputs\n",
      "Step gather_step, transforming...\n",
      "Step gather_step, transforming completed\n",
      "Step gather_step, transform completed\n"
     ]
    },
    {
     "name": "stdout",
     "output_type": "stream",
     "text": [
      "Transforming data to features done.\n",
      " Log a couple of examples for sanity check.\n",
      "\n"
     ]
    },
    {
     "name": "stderr",
     "output_type": "stream",
     "text": [
      "Convert Examples to features: 1it [00:00, 237.13it/s]\n",
      "Evaluating:   0%|          | 0/1 [00:00<?, ?it/s]/dccstor/media-bias-4374/gender-ambiguity-detectors/gap/models/gap/probert.py:35: UserWarning: indexing with dtype torch.uint8 is now deprecated, please use a dtype torch.bool instead. (Triggered internally at  ../aten/src/ATen/native/IndexingUtils.h:28.)\n",
      "  sequence_output = sequence_output[~gpr_tags_mask].view(batch_size, -1, self.config.hidden_size)\n",
      "Evaluating: 100%|██████████| 1/1 [00:04<00:00,  4.33s/it]"
     ]
    },
    {
     "name": "stdout",
     "output_type": "stream",
     "text": [
      "[0.06916074 0.93083924]\n",
      "Known pronoun 'he' resolves 'False' to 'Dozenberg' with a probability of '0.9308392405509949'\n"
     ]
    },
    {
     "name": "stderr",
     "output_type": "stream",
     "text": [
      "\n"
     ]
    },
    {
     "data": {
      "text/html": [
       "<div>\n",
       "<style scoped>\n",
       "    .dataframe tbody tr th:only-of-type {\n",
       "        vertical-align: middle;\n",
       "    }\n",
       "\n",
       "    .dataframe tbody tr th {\n",
       "        vertical-align: top;\n",
       "    }\n",
       "\n",
       "    .dataframe thead th {\n",
       "        text-align: right;\n",
       "    }\n",
       "</style>\n",
       "<table border=\"1\" class=\"dataframe\">\n",
       "  <thead>\n",
       "    <tr style=\"text-align: right;\">\n",
       "      <th></th>\n",
       "      <th>id</th>\n",
       "      <th>text</th>\n",
       "      <th>pronoun</th>\n",
       "      <th>pronoun_offset</th>\n",
       "      <th>a</th>\n",
       "      <th>a_offset</th>\n",
       "      <th>url</th>\n",
       "    </tr>\n",
       "  </thead>\n",
       "  <tbody>\n",
       "    <tr>\n",
       "      <th>0</th>\n",
       "      <td>na</td>\n",
       "      <td>Tilton first made contact with Dozenberg when ...</td>\n",
       "      <td>he</td>\n",
       "      <td>261</td>\n",
       "      <td>Tilton</td>\n",
       "      <td>0</td>\n",
       "      <td>na</td>\n",
       "    </tr>\n",
       "  </tbody>\n",
       "</table>\n",
       "</div>"
      ],
      "text/plain": [
       "   id                                               text pronoun  \\\n",
       "0  na  Tilton first made contact with Dozenberg when ...      he   \n",
       "\n",
       "   pronoun_offset       a  a_offset url  \n",
       "0             261  Tilton         0  na  "
      ]
     },
     "metadata": {},
     "output_type": "display_data"
    },
    {
     "name": "stderr",
     "output_type": "stream",
     "text": [
      "Initializing Step InputReader\n",
      "Step InputReader initialized\n",
      "Initializing Step LabelSanitizer\n",
      "Step LabelSanitizer initialized\n",
      "Initializing Step MentionsAnnotator\n",
      "Step MentionsAnnotator initialized\n",
      "Initializing Step gather_step\n",
      "STEPPY WARNING: Step with name \"InputReader\", already exist. Make sure that all Steps have unique name.\n",
      "Step gather_step initialized\n",
      "Step gather_step, working in \"inference\" mode\n",
      "Step InputReader, working in \"inference\" mode\n",
      "Step InputReader, adapting inputs\n",
      "Step InputReader, transforming...\n",
      "Step InputReader, transforming completed\n",
      "Step InputReader, transform completed\n",
      "Step LabelSanitizer, working in \"inference\" mode\n",
      "Step LabelSanitizer, adapting inputs\n",
      "Step LabelSanitizer, transforming...\n",
      "Step LabelSanitizer, transforming completed\n",
      "Step LabelSanitizer, transform completed\n",
      "Step MentionsAnnotator, working in \"inference\" mode\n",
      "Step InputReader, working in \"inference\" mode\n",
      "Step InputReader, adapting inputs\n",
      "Step InputReader, transforming...\n",
      "Step InputReader, transforming completed\n",
      "Step InputReader, transform completed\n",
      "Step MentionsAnnotator, unpacking inputs\n",
      "Step MentionsAnnotator, transforming...\n"
     ]
    },
    {
     "name": "stdout",
     "output_type": "stream",
     "text": [
      "Transforming data to features.\n",
      "------BEFORE DATA PIPELINE------- results/probert\n",
      "Empty DataFrame\n",
      "Columns: [id, label]\n",
      "Index: []\n"
     ]
    },
    {
     "name": "stderr",
     "output_type": "stream",
     "text": [
      "Extracting coref clusters...: 100%|██████████| 1/1 [00:00<00:00, 784.42it/s]\n",
      "Step MentionsAnnotator, transforming completed\n",
      "Step MentionsAnnotator, transform completed\n",
      "Step gather_step, adapting inputs\n",
      "Step gather_step, transforming...\n",
      "Step gather_step, transforming completed\n",
      "Step gather_step, transform completed\n"
     ]
    },
    {
     "name": "stdout",
     "output_type": "stream",
     "text": [
      "Transforming data to features done.\n",
      " Log a couple of examples for sanity check.\n",
      "\n"
     ]
    },
    {
     "name": "stderr",
     "output_type": "stream",
     "text": [
      "Convert Examples to features: 1it [00:00, 229.42it/s]\n",
      "Evaluating:   0%|          | 0/1 [00:00<?, ?it/s]/dccstor/media-bias-4374/gender-ambiguity-detectors/gap/models/gap/probert.py:35: UserWarning: indexing with dtype torch.uint8 is now deprecated, please use a dtype torch.bool instead. (Triggered internally at  ../aten/src/ATen/native/IndexingUtils.h:28.)\n",
      "  sequence_output = sequence_output[~gpr_tags_mask].view(batch_size, -1, self.config.hidden_size)\n",
      "Evaluating: 100%|██████████| 1/1 [00:04<00:00,  4.45s/it]"
     ]
    },
    {
     "name": "stdout",
     "output_type": "stream",
     "text": [
      "[0.3822076 0.6177924]\n",
      "Known pronoun 'he' resolves 'False' to 'Tilton' with a probability of '0.6177924275398254'\n"
     ]
    },
    {
     "name": "stderr",
     "output_type": "stream",
     "text": [
      "\n"
     ]
    },
    {
     "data": {
      "text/html": [
       "<div>\n",
       "<style scoped>\n",
       "    .dataframe tbody tr th:only-of-type {\n",
       "        vertical-align: middle;\n",
       "    }\n",
       "\n",
       "    .dataframe tbody tr th {\n",
       "        vertical-align: top;\n",
       "    }\n",
       "\n",
       "    .dataframe thead th {\n",
       "        text-align: right;\n",
       "    }\n",
       "</style>\n",
       "<table border=\"1\" class=\"dataframe\">\n",
       "  <thead>\n",
       "    <tr style=\"text-align: right;\">\n",
       "      <th></th>\n",
       "      <th>id</th>\n",
       "      <th>text</th>\n",
       "      <th>pronoun</th>\n",
       "      <th>pronoun_offset</th>\n",
       "      <th>a</th>\n",
       "      <th>a_offset</th>\n",
       "      <th>url</th>\n",
       "    </tr>\n",
       "  </thead>\n",
       "  <tbody>\n",
       "    <tr>\n",
       "      <th>0</th>\n",
       "      <td>na</td>\n",
       "      <td>Tilton first made contact with Dozenberg when ...</td>\n",
       "      <td>he</td>\n",
       "      <td>261</td>\n",
       "      <td>Tilton</td>\n",
       "      <td>126</td>\n",
       "      <td>na</td>\n",
       "    </tr>\n",
       "  </tbody>\n",
       "</table>\n",
       "</div>"
      ],
      "text/plain": [
       "   id                                               text pronoun  \\\n",
       "0  na  Tilton first made contact with Dozenberg when ...      he   \n",
       "\n",
       "   pronoun_offset       a  a_offset url  \n",
       "0             261  Tilton       126  na  "
      ]
     },
     "metadata": {},
     "output_type": "display_data"
    },
    {
     "name": "stderr",
     "output_type": "stream",
     "text": [
      "Initializing Step InputReader\n",
      "Step InputReader initialized\n",
      "Initializing Step LabelSanitizer\n",
      "Step LabelSanitizer initialized\n",
      "Initializing Step MentionsAnnotator\n",
      "Step MentionsAnnotator initialized\n",
      "Initializing Step gather_step\n",
      "STEPPY WARNING: Step with name \"InputReader\", already exist. Make sure that all Steps have unique name.\n",
      "Step gather_step initialized\n",
      "Step gather_step, working in \"inference\" mode\n",
      "Step InputReader, working in \"inference\" mode\n",
      "Step InputReader, adapting inputs\n",
      "Step InputReader, transforming...\n",
      "Step InputReader, transforming completed\n",
      "Step InputReader, transform completed\n",
      "Step LabelSanitizer, working in \"inference\" mode\n",
      "Step LabelSanitizer, adapting inputs\n",
      "Step LabelSanitizer, transforming...\n",
      "Step LabelSanitizer, transforming completed\n",
      "Step LabelSanitizer, transform completed\n",
      "Step MentionsAnnotator, working in \"inference\" mode\n",
      "Step InputReader, working in \"inference\" mode\n",
      "Step InputReader, adapting inputs\n",
      "Step InputReader, transforming...\n",
      "Step InputReader, transforming completed\n",
      "Step InputReader, transform completed\n",
      "Step MentionsAnnotator, unpacking inputs\n",
      "Step MentionsAnnotator, transforming...\n"
     ]
    },
    {
     "name": "stdout",
     "output_type": "stream",
     "text": [
      "Transforming data to features.\n",
      "------BEFORE DATA PIPELINE------- results/probert\n",
      "Empty DataFrame\n",
      "Columns: [id, label]\n",
      "Index: []\n"
     ]
    },
    {
     "name": "stderr",
     "output_type": "stream",
     "text": [
      "Extracting coref clusters...: 100%|██████████| 1/1 [00:00<00:00, 705.76it/s]\n",
      "Step MentionsAnnotator, transforming completed\n",
      "Step MentionsAnnotator, transform completed\n",
      "Step gather_step, adapting inputs\n",
      "Step gather_step, transforming...\n",
      "Step gather_step, transforming completed\n",
      "Step gather_step, transform completed\n"
     ]
    },
    {
     "name": "stdout",
     "output_type": "stream",
     "text": [
      "Transforming data to features done.\n",
      " Log a couple of examples for sanity check.\n",
      "\n"
     ]
    },
    {
     "name": "stderr",
     "output_type": "stream",
     "text": [
      "Convert Examples to features: 1it [00:00, 221.51it/s]\n",
      "Evaluating:   0%|          | 0/1 [00:00<?, ?it/s]/dccstor/media-bias-4374/gender-ambiguity-detectors/gap/models/gap/probert.py:35: UserWarning: indexing with dtype torch.uint8 is now deprecated, please use a dtype torch.bool instead. (Triggered internally at  ../aten/src/ATen/native/IndexingUtils.h:28.)\n",
      "  sequence_output = sequence_output[~gpr_tags_mask].view(batch_size, -1, self.config.hidden_size)\n",
      "Evaluating: 100%|██████████| 1/1 [00:04<00:00,  4.27s/it]"
     ]
    },
    {
     "name": "stdout",
     "output_type": "stream",
     "text": [
      "[0.18661039 0.8133896 ]\n",
      "Known pronoun 'he' resolves 'False' to 'Tilton' with a probability of '0.8133895993232727'\n"
     ]
    },
    {
     "name": "stderr",
     "output_type": "stream",
     "text": [
      "\n"
     ]
    },
    {
     "data": {
      "text/html": [
       "<div>\n",
       "<style scoped>\n",
       "    .dataframe tbody tr th:only-of-type {\n",
       "        vertical-align: middle;\n",
       "    }\n",
       "\n",
       "    .dataframe tbody tr th {\n",
       "        vertical-align: top;\n",
       "    }\n",
       "\n",
       "    .dataframe thead th {\n",
       "        text-align: right;\n",
       "    }\n",
       "</style>\n",
       "<table border=\"1\" class=\"dataframe\">\n",
       "  <thead>\n",
       "    <tr style=\"text-align: right;\">\n",
       "      <th></th>\n",
       "      <th>id</th>\n",
       "      <th>text</th>\n",
       "      <th>pronoun</th>\n",
       "      <th>pronoun_offset</th>\n",
       "      <th>a</th>\n",
       "      <th>a_offset</th>\n",
       "      <th>url</th>\n",
       "    </tr>\n",
       "  </thead>\n",
       "  <tbody>\n",
       "    <tr>\n",
       "      <th>0</th>\n",
       "      <td>na</td>\n",
       "      <td>Tilton first made contact with Dozenberg when ...</td>\n",
       "      <td>he</td>\n",
       "      <td>261</td>\n",
       "      <td>Tilton</td>\n",
       "      <td>291</td>\n",
       "      <td>na</td>\n",
       "    </tr>\n",
       "  </tbody>\n",
       "</table>\n",
       "</div>"
      ],
      "text/plain": [
       "   id                                               text pronoun  \\\n",
       "0  na  Tilton first made contact with Dozenberg when ...      he   \n",
       "\n",
       "   pronoun_offset       a  a_offset url  \n",
       "0             261  Tilton       291  na  "
      ]
     },
     "metadata": {},
     "output_type": "display_data"
    },
    {
     "name": "stderr",
     "output_type": "stream",
     "text": [
      "Initializing Step InputReader\n",
      "Step InputReader initialized\n",
      "Initializing Step LabelSanitizer\n",
      "Step LabelSanitizer initialized\n",
      "Initializing Step MentionsAnnotator\n",
      "Step MentionsAnnotator initialized\n",
      "Initializing Step gather_step\n",
      "STEPPY WARNING: Step with name \"InputReader\", already exist. Make sure that all Steps have unique name.\n",
      "Step gather_step initialized\n",
      "Step gather_step, working in \"inference\" mode\n",
      "Step InputReader, working in \"inference\" mode\n",
      "Step InputReader, adapting inputs\n",
      "Step InputReader, transforming...\n",
      "Step InputReader, transforming completed\n",
      "Step InputReader, transform completed\n",
      "Step LabelSanitizer, working in \"inference\" mode\n",
      "Step LabelSanitizer, adapting inputs\n",
      "Step LabelSanitizer, transforming...\n",
      "Step LabelSanitizer, transforming completed\n",
      "Step LabelSanitizer, transform completed\n",
      "Step MentionsAnnotator, working in \"inference\" mode\n",
      "Step InputReader, working in \"inference\" mode\n",
      "Step InputReader, adapting inputs\n",
      "Step InputReader, transforming...\n",
      "Step InputReader, transforming completed\n",
      "Step InputReader, transform completed\n",
      "Step MentionsAnnotator, unpacking inputs\n",
      "Step MentionsAnnotator, transforming...\n"
     ]
    },
    {
     "name": "stdout",
     "output_type": "stream",
     "text": [
      "Transforming data to features.\n",
      "------BEFORE DATA PIPELINE------- results/probert\n",
      "Empty DataFrame\n",
      "Columns: [id, label]\n",
      "Index: []\n"
     ]
    },
    {
     "name": "stderr",
     "output_type": "stream",
     "text": [
      "Extracting coref clusters...: 100%|██████████| 1/1 [00:00<00:00, 836.85it/s]\n",
      "Step MentionsAnnotator, transforming completed\n",
      "Step MentionsAnnotator, transform completed\n",
      "Step gather_step, adapting inputs\n",
      "Step gather_step, transforming...\n",
      "Step gather_step, transforming completed\n",
      "Step gather_step, transform completed\n"
     ]
    },
    {
     "name": "stdout",
     "output_type": "stream",
     "text": [
      "Transforming data to features done.\n",
      " Log a couple of examples for sanity check.\n",
      "\n"
     ]
    },
    {
     "name": "stderr",
     "output_type": "stream",
     "text": [
      "Convert Examples to features: 1it [00:00, 239.02it/s]\n",
      "Evaluating:   0%|          | 0/1 [00:00<?, ?it/s]/dccstor/media-bias-4374/gender-ambiguity-detectors/gap/models/gap/probert.py:35: UserWarning: indexing with dtype torch.uint8 is now deprecated, please use a dtype torch.bool instead. (Triggered internally at  ../aten/src/ATen/native/IndexingUtils.h:28.)\n",
      "  sequence_output = sequence_output[~gpr_tags_mask].view(batch_size, -1, self.config.hidden_size)\n",
      "Evaluating: 100%|██████████| 1/1 [00:04<00:00,  4.30s/it]"
     ]
    },
    {
     "name": "stdout",
     "output_type": "stream",
     "text": [
      "[0.42558038 0.5744197 ]\n",
      "Known pronoun 'he' resolves 'False' to 'Tilton' with a probability of '0.5744196772575378'\n"
     ]
    },
    {
     "name": "stderr",
     "output_type": "stream",
     "text": [
      "\n"
     ]
    },
    {
     "data": {
      "text/html": [
       "<div>\n",
       "<style scoped>\n",
       "    .dataframe tbody tr th:only-of-type {\n",
       "        vertical-align: middle;\n",
       "    }\n",
       "\n",
       "    .dataframe tbody tr th {\n",
       "        vertical-align: top;\n",
       "    }\n",
       "\n",
       "    .dataframe thead th {\n",
       "        text-align: right;\n",
       "    }\n",
       "</style>\n",
       "<table border=\"1\" class=\"dataframe\">\n",
       "  <thead>\n",
       "    <tr style=\"text-align: right;\">\n",
       "      <th></th>\n",
       "      <th>id</th>\n",
       "      <th>text</th>\n",
       "      <th>pronoun</th>\n",
       "      <th>pronoun_offset</th>\n",
       "      <th>a</th>\n",
       "      <th>a_offset</th>\n",
       "      <th>url</th>\n",
       "    </tr>\n",
       "  </thead>\n",
       "  <tbody>\n",
       "    <tr>\n",
       "      <th>0</th>\n",
       "      <td>na</td>\n",
       "      <td>Tilton first made contact with Dozenberg when ...</td>\n",
       "      <td>he</td>\n",
       "      <td>261</td>\n",
       "      <td>Dozenberg</td>\n",
       "      <td>31</td>\n",
       "      <td>na</td>\n",
       "    </tr>\n",
       "  </tbody>\n",
       "</table>\n",
       "</div>"
      ],
      "text/plain": [
       "   id                                               text pronoun  \\\n",
       "0  na  Tilton first made contact with Dozenberg when ...      he   \n",
       "\n",
       "   pronoun_offset          a  a_offset url  \n",
       "0             261  Dozenberg        31  na  "
      ]
     },
     "metadata": {},
     "output_type": "display_data"
    },
    {
     "name": "stderr",
     "output_type": "stream",
     "text": [
      "Initializing Step InputReader\n",
      "Step InputReader initialized\n",
      "Initializing Step LabelSanitizer\n",
      "Step LabelSanitizer initialized\n",
      "Initializing Step MentionsAnnotator\n",
      "Step MentionsAnnotator initialized\n",
      "Initializing Step gather_step\n",
      "STEPPY WARNING: Step with name \"InputReader\", already exist. Make sure that all Steps have unique name.\n",
      "Step gather_step initialized\n",
      "Step gather_step, working in \"inference\" mode\n",
      "Step InputReader, working in \"inference\" mode\n",
      "Step InputReader, adapting inputs\n",
      "Step InputReader, transforming...\n",
      "Step InputReader, transforming completed\n",
      "Step InputReader, transform completed\n",
      "Step LabelSanitizer, working in \"inference\" mode\n",
      "Step LabelSanitizer, adapting inputs\n",
      "Step LabelSanitizer, transforming...\n",
      "Step LabelSanitizer, transforming completed\n",
      "Step LabelSanitizer, transform completed\n",
      "Step MentionsAnnotator, working in \"inference\" mode\n",
      "Step InputReader, working in \"inference\" mode\n",
      "Step InputReader, adapting inputs\n",
      "Step InputReader, transforming...\n",
      "Step InputReader, transforming completed\n",
      "Step InputReader, transform completed\n",
      "Step MentionsAnnotator, unpacking inputs\n",
      "Step MentionsAnnotator, transforming...\n"
     ]
    },
    {
     "name": "stdout",
     "output_type": "stream",
     "text": [
      "Transforming data to features.\n",
      "------BEFORE DATA PIPELINE------- results/probert\n",
      "Empty DataFrame\n",
      "Columns: [id, label]\n",
      "Index: []\n"
     ]
    },
    {
     "name": "stderr",
     "output_type": "stream",
     "text": [
      "Extracting coref clusters...: 100%|██████████| 1/1 [00:00<00:00, 786.19it/s]\n",
      "Step MentionsAnnotator, transforming completed\n",
      "Step MentionsAnnotator, transform completed\n",
      "Step gather_step, adapting inputs\n",
      "Step gather_step, transforming...\n",
      "Step gather_step, transforming completed\n",
      "Step gather_step, transform completed\n"
     ]
    },
    {
     "name": "stdout",
     "output_type": "stream",
     "text": [
      "Transforming data to features done.\n",
      " Log a couple of examples for sanity check.\n",
      "\n"
     ]
    },
    {
     "name": "stderr",
     "output_type": "stream",
     "text": [
      "Convert Examples to features: 1it [00:00, 238.79it/s]\n",
      "Evaluating:   0%|          | 0/1 [00:00<?, ?it/s]/dccstor/media-bias-4374/gender-ambiguity-detectors/gap/models/gap/probert.py:35: UserWarning: indexing with dtype torch.uint8 is now deprecated, please use a dtype torch.bool instead. (Triggered internally at  ../aten/src/ATen/native/IndexingUtils.h:28.)\n",
      "  sequence_output = sequence_output[~gpr_tags_mask].view(batch_size, -1, self.config.hidden_size)\n",
      "Evaluating: 100%|██████████| 1/1 [00:04<00:00,  4.29s/it]"
     ]
    },
    {
     "name": "stdout",
     "output_type": "stream",
     "text": [
      "[0.07489391 0.92510605]\n",
      "Known pronoun 'he' resolves 'False' to 'Dozenberg' with a probability of '0.9251060485839844'\n"
     ]
    },
    {
     "name": "stderr",
     "output_type": "stream",
     "text": [
      "\n"
     ]
    },
    {
     "data": {
      "text/html": [
       "<div>\n",
       "<style scoped>\n",
       "    .dataframe tbody tr th:only-of-type {\n",
       "        vertical-align: middle;\n",
       "    }\n",
       "\n",
       "    .dataframe tbody tr th {\n",
       "        vertical-align: top;\n",
       "    }\n",
       "\n",
       "    .dataframe thead th {\n",
       "        text-align: right;\n",
       "    }\n",
       "</style>\n",
       "<table border=\"1\" class=\"dataframe\">\n",
       "  <thead>\n",
       "    <tr style=\"text-align: right;\">\n",
       "      <th></th>\n",
       "      <th>id</th>\n",
       "      <th>text</th>\n",
       "      <th>pronoun</th>\n",
       "      <th>pronoun_offset</th>\n",
       "      <th>a</th>\n",
       "      <th>a_offset</th>\n",
       "      <th>url</th>\n",
       "    </tr>\n",
       "  </thead>\n",
       "  <tbody>\n",
       "    <tr>\n",
       "      <th>0</th>\n",
       "      <td>na</td>\n",
       "      <td>Tilton first made contact with Dozenberg when ...</td>\n",
       "      <td>he</td>\n",
       "      <td>261</td>\n",
       "      <td>Dozenberg</td>\n",
       "      <td>139</td>\n",
       "      <td>na</td>\n",
       "    </tr>\n",
       "  </tbody>\n",
       "</table>\n",
       "</div>"
      ],
      "text/plain": [
       "   id                                               text pronoun  \\\n",
       "0  na  Tilton first made contact with Dozenberg when ...      he   \n",
       "\n",
       "   pronoun_offset          a  a_offset url  \n",
       "0             261  Dozenberg       139  na  "
      ]
     },
     "metadata": {},
     "output_type": "display_data"
    },
    {
     "name": "stderr",
     "output_type": "stream",
     "text": [
      "Initializing Step InputReader\n",
      "Step InputReader initialized\n",
      "Initializing Step LabelSanitizer\n",
      "Step LabelSanitizer initialized\n",
      "Initializing Step MentionsAnnotator\n",
      "Step MentionsAnnotator initialized\n",
      "Initializing Step gather_step\n",
      "STEPPY WARNING: Step with name \"InputReader\", already exist. Make sure that all Steps have unique name.\n",
      "Step gather_step initialized\n",
      "Step gather_step, working in \"inference\" mode\n",
      "Step InputReader, working in \"inference\" mode\n",
      "Step InputReader, adapting inputs\n",
      "Step InputReader, transforming...\n",
      "Step InputReader, transforming completed\n",
      "Step InputReader, transform completed\n",
      "Step LabelSanitizer, working in \"inference\" mode\n",
      "Step LabelSanitizer, adapting inputs\n",
      "Step LabelSanitizer, transforming...\n",
      "Step LabelSanitizer, transforming completed\n",
      "Step LabelSanitizer, transform completed\n",
      "Step MentionsAnnotator, working in \"inference\" mode\n",
      "Step InputReader, working in \"inference\" mode\n",
      "Step InputReader, adapting inputs\n",
      "Step InputReader, transforming...\n",
      "Step InputReader, transforming completed\n",
      "Step InputReader, transform completed\n",
      "Step MentionsAnnotator, unpacking inputs\n",
      "Step MentionsAnnotator, transforming...\n"
     ]
    },
    {
     "name": "stdout",
     "output_type": "stream",
     "text": [
      "Transforming data to features.\n",
      "------BEFORE DATA PIPELINE------- results/probert\n",
      "Empty DataFrame\n",
      "Columns: [id, label]\n",
      "Index: []\n"
     ]
    },
    {
     "name": "stderr",
     "output_type": "stream",
     "text": [
      "Extracting coref clusters...: 100%|██████████| 1/1 [00:00<00:00, 697.89it/s]\n",
      "Step MentionsAnnotator, transforming completed\n",
      "Step MentionsAnnotator, transform completed\n",
      "Step gather_step, adapting inputs\n",
      "Step gather_step, transforming...\n",
      "Step gather_step, transforming completed\n",
      "Step gather_step, transform completed\n"
     ]
    },
    {
     "name": "stdout",
     "output_type": "stream",
     "text": [
      "Transforming data to features done.\n",
      " Log a couple of examples for sanity check.\n",
      "\n"
     ]
    },
    {
     "name": "stderr",
     "output_type": "stream",
     "text": [
      "Convert Examples to features: 1it [00:00, 262.01it/s]\n",
      "Evaluating:   0%|          | 0/1 [00:00<?, ?it/s]/dccstor/media-bias-4374/gender-ambiguity-detectors/gap/models/gap/probert.py:35: UserWarning: indexing with dtype torch.uint8 is now deprecated, please use a dtype torch.bool instead. (Triggered internally at  ../aten/src/ATen/native/IndexingUtils.h:28.)\n",
      "  sequence_output = sequence_output[~gpr_tags_mask].view(batch_size, -1, self.config.hidden_size)\n",
      "Evaluating: 100%|██████████| 1/1 [00:04<00:00,  4.31s/it]"
     ]
    },
    {
     "name": "stdout",
     "output_type": "stream",
     "text": [
      "[0.1181896 0.8818104]\n",
      "Known pronoun 'he' resolves 'False' to 'Dozenberg' with a probability of '0.8818104267120361'\n"
     ]
    },
    {
     "name": "stderr",
     "output_type": "stream",
     "text": [
      "\n"
     ]
    },
    {
     "data": {
      "text/html": [
       "<div>\n",
       "<style scoped>\n",
       "    .dataframe tbody tr th:only-of-type {\n",
       "        vertical-align: middle;\n",
       "    }\n",
       "\n",
       "    .dataframe tbody tr th {\n",
       "        vertical-align: top;\n",
       "    }\n",
       "\n",
       "    .dataframe thead th {\n",
       "        text-align: right;\n",
       "    }\n",
       "</style>\n",
       "<table border=\"1\" class=\"dataframe\">\n",
       "  <thead>\n",
       "    <tr style=\"text-align: right;\">\n",
       "      <th></th>\n",
       "      <th>id</th>\n",
       "      <th>text</th>\n",
       "      <th>pronoun</th>\n",
       "      <th>pronoun_offset</th>\n",
       "      <th>a</th>\n",
       "      <th>a_offset</th>\n",
       "      <th>url</th>\n",
       "    </tr>\n",
       "  </thead>\n",
       "  <tbody>\n",
       "    <tr>\n",
       "      <th>0</th>\n",
       "      <td>na</td>\n",
       "      <td>Tilton first made contact with Dozenberg when ...</td>\n",
       "      <td>he</td>\n",
       "      <td>261</td>\n",
       "      <td>Dozenberg</td>\n",
       "      <td>202</td>\n",
       "      <td>na</td>\n",
       "    </tr>\n",
       "  </tbody>\n",
       "</table>\n",
       "</div>"
      ],
      "text/plain": [
       "   id                                               text pronoun  \\\n",
       "0  na  Tilton first made contact with Dozenberg when ...      he   \n",
       "\n",
       "   pronoun_offset          a  a_offset url  \n",
       "0             261  Dozenberg       202  na  "
      ]
     },
     "metadata": {},
     "output_type": "display_data"
    },
    {
     "name": "stderr",
     "output_type": "stream",
     "text": [
      "Initializing Step InputReader\n",
      "Step InputReader initialized\n",
      "Initializing Step LabelSanitizer\n",
      "Step LabelSanitizer initialized\n",
      "Initializing Step MentionsAnnotator\n",
      "Step MentionsAnnotator initialized\n",
      "Initializing Step gather_step\n",
      "STEPPY WARNING: Step with name \"InputReader\", already exist. Make sure that all Steps have unique name.\n",
      "Step gather_step initialized\n",
      "Step gather_step, working in \"inference\" mode\n",
      "Step InputReader, working in \"inference\" mode\n",
      "Step InputReader, adapting inputs\n",
      "Step InputReader, transforming...\n",
      "Step InputReader, transforming completed\n",
      "Step InputReader, transform completed\n",
      "Step LabelSanitizer, working in \"inference\" mode\n",
      "Step LabelSanitizer, adapting inputs\n",
      "Step LabelSanitizer, transforming...\n",
      "Step LabelSanitizer, transforming completed\n",
      "Step LabelSanitizer, transform completed\n",
      "Step MentionsAnnotator, working in \"inference\" mode\n",
      "Step InputReader, working in \"inference\" mode\n",
      "Step InputReader, adapting inputs\n",
      "Step InputReader, transforming...\n",
      "Step InputReader, transforming completed\n",
      "Step InputReader, transform completed\n",
      "Step MentionsAnnotator, unpacking inputs\n",
      "Step MentionsAnnotator, transforming...\n"
     ]
    },
    {
     "name": "stdout",
     "output_type": "stream",
     "text": [
      "Transforming data to features.\n",
      "------BEFORE DATA PIPELINE------- results/probert\n",
      "Empty DataFrame\n",
      "Columns: [id, label]\n",
      "Index: []\n"
     ]
    },
    {
     "name": "stderr",
     "output_type": "stream",
     "text": [
      "Extracting coref clusters...: 100%|██████████| 1/1 [00:00<00:00, 541.27it/s]\n",
      "Step MentionsAnnotator, transforming completed\n",
      "Step MentionsAnnotator, transform completed\n",
      "Step gather_step, adapting inputs\n",
      "Step gather_step, transforming...\n",
      "Step gather_step, transforming completed\n",
      "Step gather_step, transform completed\n"
     ]
    },
    {
     "name": "stdout",
     "output_type": "stream",
     "text": [
      "Transforming data to features done.\n",
      " Log a couple of examples for sanity check.\n",
      "\n"
     ]
    },
    {
     "name": "stderr",
     "output_type": "stream",
     "text": [
      "Convert Examples to features: 1it [00:00, 245.94it/s]\n",
      "Evaluating:   0%|          | 0/1 [00:00<?, ?it/s]/dccstor/media-bias-4374/gender-ambiguity-detectors/gap/models/gap/probert.py:35: UserWarning: indexing with dtype torch.uint8 is now deprecated, please use a dtype torch.bool instead. (Triggered internally at  ../aten/src/ATen/native/IndexingUtils.h:28.)\n",
      "  sequence_output = sequence_output[~gpr_tags_mask].view(batch_size, -1, self.config.hidden_size)\n",
      "Evaluating: 100%|██████████| 1/1 [00:04<00:00,  4.28s/it]"
     ]
    },
    {
     "name": "stdout",
     "output_type": "stream",
     "text": [
      "[0.1983928  0.80160725]\n",
      "Known pronoun 'he' resolves 'False' to 'Dozenberg' with a probability of '0.8016072511672974'\n"
     ]
    },
    {
     "name": "stderr",
     "output_type": "stream",
     "text": [
      "\n"
     ]
    },
    {
     "data": {
      "text/html": [
       "<div>\n",
       "<style scoped>\n",
       "    .dataframe tbody tr th:only-of-type {\n",
       "        vertical-align: middle;\n",
       "    }\n",
       "\n",
       "    .dataframe tbody tr th {\n",
       "        vertical-align: top;\n",
       "    }\n",
       "\n",
       "    .dataframe thead th {\n",
       "        text-align: right;\n",
       "    }\n",
       "</style>\n",
       "<table border=\"1\" class=\"dataframe\">\n",
       "  <thead>\n",
       "    <tr style=\"text-align: right;\">\n",
       "      <th></th>\n",
       "      <th>id</th>\n",
       "      <th>text</th>\n",
       "      <th>pronoun</th>\n",
       "      <th>pronoun_offset</th>\n",
       "      <th>a</th>\n",
       "      <th>a_offset</th>\n",
       "      <th>url</th>\n",
       "    </tr>\n",
       "  </thead>\n",
       "  <tbody>\n",
       "    <tr>\n",
       "      <th>0</th>\n",
       "      <td>na</td>\n",
       "      <td>Tilton first made contact with Dozenberg when ...</td>\n",
       "      <td>he</td>\n",
       "      <td>261</td>\n",
       "      <td>Dozenberg</td>\n",
       "      <td>307</td>\n",
       "      <td>na</td>\n",
       "    </tr>\n",
       "  </tbody>\n",
       "</table>\n",
       "</div>"
      ],
      "text/plain": [
       "   id                                               text pronoun  \\\n",
       "0  na  Tilton first made contact with Dozenberg when ...      he   \n",
       "\n",
       "   pronoun_offset          a  a_offset url  \n",
       "0             261  Dozenberg       307  na  "
      ]
     },
     "metadata": {},
     "output_type": "display_data"
    },
    {
     "name": "stderr",
     "output_type": "stream",
     "text": [
      "Initializing Step InputReader\n",
      "Step InputReader initialized\n",
      "Initializing Step LabelSanitizer\n",
      "Step LabelSanitizer initialized\n",
      "Initializing Step MentionsAnnotator\n",
      "Step MentionsAnnotator initialized\n",
      "Initializing Step gather_step\n",
      "STEPPY WARNING: Step with name \"InputReader\", already exist. Make sure that all Steps have unique name.\n",
      "Step gather_step initialized\n",
      "Step gather_step, working in \"inference\" mode\n",
      "Step InputReader, working in \"inference\" mode\n",
      "Step InputReader, adapting inputs\n",
      "Step InputReader, transforming...\n",
      "Step InputReader, transforming completed\n",
      "Step InputReader, transform completed\n",
      "Step LabelSanitizer, working in \"inference\" mode\n",
      "Step LabelSanitizer, adapting inputs\n",
      "Step LabelSanitizer, transforming...\n",
      "Step LabelSanitizer, transforming completed\n",
      "Step LabelSanitizer, transform completed\n",
      "Step MentionsAnnotator, working in \"inference\" mode\n",
      "Step InputReader, working in \"inference\" mode\n",
      "Step InputReader, adapting inputs\n",
      "Step InputReader, transforming...\n",
      "Step InputReader, transforming completed\n",
      "Step InputReader, transform completed\n",
      "Step MentionsAnnotator, unpacking inputs\n",
      "Step MentionsAnnotator, transforming...\n"
     ]
    },
    {
     "name": "stdout",
     "output_type": "stream",
     "text": [
      "Transforming data to features.\n",
      "------BEFORE DATA PIPELINE------- results/probert\n",
      "Empty DataFrame\n",
      "Columns: [id, label]\n",
      "Index: []\n"
     ]
    },
    {
     "name": "stderr",
     "output_type": "stream",
     "text": [
      "Extracting coref clusters...: 100%|██████████| 1/1 [00:00<00:00, 584.00it/s]\n",
      "Step MentionsAnnotator, transforming completed\n",
      "Step MentionsAnnotator, transform completed\n",
      "Step gather_step, adapting inputs\n",
      "Step gather_step, transforming...\n",
      "Step gather_step, transforming completed\n",
      "Step gather_step, transform completed\n"
     ]
    },
    {
     "name": "stdout",
     "output_type": "stream",
     "text": [
      "Transforming data to features done.\n",
      " Log a couple of examples for sanity check.\n",
      "\n"
     ]
    },
    {
     "name": "stderr",
     "output_type": "stream",
     "text": [
      "Convert Examples to features: 1it [00:00, 233.85it/s]\n",
      "Evaluating:   0%|          | 0/1 [00:00<?, ?it/s]/dccstor/media-bias-4374/gender-ambiguity-detectors/gap/models/gap/probert.py:35: UserWarning: indexing with dtype torch.uint8 is now deprecated, please use a dtype torch.bool instead. (Triggered internally at  ../aten/src/ATen/native/IndexingUtils.h:28.)\n",
      "  sequence_output = sequence_output[~gpr_tags_mask].view(batch_size, -1, self.config.hidden_size)\n",
      "Evaluating: 100%|██████████| 1/1 [00:04<00:00,  4.21s/it]"
     ]
    },
    {
     "name": "stdout",
     "output_type": "stream",
     "text": [
      "[0.04640484 0.95359516]\n",
      "Known pronoun 'he' resolves 'False' to 'Dozenberg' with a probability of '0.9535951614379883'\n"
     ]
    },
    {
     "name": "stderr",
     "output_type": "stream",
     "text": [
      "\n"
     ]
    },
    {
     "data": {
      "text/html": [
       "<div>\n",
       "<style scoped>\n",
       "    .dataframe tbody tr th:only-of-type {\n",
       "        vertical-align: middle;\n",
       "    }\n",
       "\n",
       "    .dataframe tbody tr th {\n",
       "        vertical-align: top;\n",
       "    }\n",
       "\n",
       "    .dataframe thead th {\n",
       "        text-align: right;\n",
       "    }\n",
       "</style>\n",
       "<table border=\"1\" class=\"dataframe\">\n",
       "  <thead>\n",
       "    <tr style=\"text-align: right;\">\n",
       "      <th></th>\n",
       "      <th>id</th>\n",
       "      <th>text</th>\n",
       "      <th>pronoun</th>\n",
       "      <th>pronoun_offset</th>\n",
       "      <th>a</th>\n",
       "      <th>a_offset</th>\n",
       "      <th>url</th>\n",
       "    </tr>\n",
       "  </thead>\n",
       "  <tbody>\n",
       "    <tr>\n",
       "      <th>0</th>\n",
       "      <td>na</td>\n",
       "      <td>Tilton first made contact with Dozenberg when ...</td>\n",
       "      <td>he</td>\n",
       "      <td>261</td>\n",
       "      <td>Dozenberg</td>\n",
       "      <td>380</td>\n",
       "      <td>na</td>\n",
       "    </tr>\n",
       "  </tbody>\n",
       "</table>\n",
       "</div>"
      ],
      "text/plain": [
       "   id                                               text pronoun  \\\n",
       "0  na  Tilton first made contact with Dozenberg when ...      he   \n",
       "\n",
       "   pronoun_offset          a  a_offset url  \n",
       "0             261  Dozenberg       380  na  "
      ]
     },
     "metadata": {},
     "output_type": "display_data"
    },
    {
     "name": "stderr",
     "output_type": "stream",
     "text": [
      "Initializing Step InputReader\n",
      "Step InputReader initialized\n",
      "Initializing Step LabelSanitizer\n",
      "Step LabelSanitizer initialized\n",
      "Initializing Step MentionsAnnotator\n",
      "Step MentionsAnnotator initialized\n",
      "Initializing Step gather_step\n",
      "STEPPY WARNING: Step with name \"InputReader\", already exist. Make sure that all Steps have unique name.\n",
      "Step gather_step initialized\n",
      "Step gather_step, working in \"inference\" mode\n",
      "Step InputReader, working in \"inference\" mode\n",
      "Step InputReader, adapting inputs\n",
      "Step InputReader, transforming...\n",
      "Step InputReader, transforming completed\n",
      "Step InputReader, transform completed\n",
      "Step LabelSanitizer, working in \"inference\" mode\n",
      "Step LabelSanitizer, adapting inputs\n",
      "Step LabelSanitizer, transforming...\n",
      "Step LabelSanitizer, transforming completed\n",
      "Step LabelSanitizer, transform completed\n",
      "Step MentionsAnnotator, working in \"inference\" mode\n",
      "Step InputReader, working in \"inference\" mode\n",
      "Step InputReader, adapting inputs\n",
      "Step InputReader, transforming...\n",
      "Step InputReader, transforming completed\n",
      "Step InputReader, transform completed\n",
      "Step MentionsAnnotator, unpacking inputs\n",
      "Step MentionsAnnotator, transforming...\n"
     ]
    },
    {
     "name": "stdout",
     "output_type": "stream",
     "text": [
      "Transforming data to features.\n",
      "------BEFORE DATA PIPELINE------- results/probert\n",
      "Empty DataFrame\n",
      "Columns: [id, label]\n",
      "Index: []\n"
     ]
    },
    {
     "name": "stderr",
     "output_type": "stream",
     "text": [
      "Extracting coref clusters...: 100%|██████████| 1/1 [00:00<00:00, 792.42it/s]\n",
      "Step MentionsAnnotator, transforming completed\n",
      "Step MentionsAnnotator, transform completed\n",
      "Step gather_step, adapting inputs\n",
      "Step gather_step, transforming...\n",
      "Step gather_step, transforming completed\n",
      "Step gather_step, transform completed\n"
     ]
    },
    {
     "name": "stdout",
     "output_type": "stream",
     "text": [
      "Transforming data to features done.\n",
      " Log a couple of examples for sanity check.\n",
      "\n"
     ]
    },
    {
     "name": "stderr",
     "output_type": "stream",
     "text": [
      "Convert Examples to features: 1it [00:00, 259.28it/s]\n",
      "Evaluating:   0%|          | 0/1 [00:00<?, ?it/s]/dccstor/media-bias-4374/gender-ambiguity-detectors/gap/models/gap/probert.py:35: UserWarning: indexing with dtype torch.uint8 is now deprecated, please use a dtype torch.bool instead. (Triggered internally at  ../aten/src/ATen/native/IndexingUtils.h:28.)\n",
      "  sequence_output = sequence_output[~gpr_tags_mask].view(batch_size, -1, self.config.hidden_size)\n",
      "Evaluating: 100%|██████████| 1/1 [00:04<00:00,  4.34s/it]"
     ]
    },
    {
     "name": "stdout",
     "output_type": "stream",
     "text": [
      "[0.13003585 0.8699642 ]\n",
      "Known pronoun 'he' resolves 'False' to 'Dozenberg' with a probability of '0.8699641823768616'\n"
     ]
    },
    {
     "name": "stderr",
     "output_type": "stream",
     "text": [
      "\n"
     ]
    },
    {
     "data": {
      "text/html": [
       "<div>\n",
       "<style scoped>\n",
       "    .dataframe tbody tr th:only-of-type {\n",
       "        vertical-align: middle;\n",
       "    }\n",
       "\n",
       "    .dataframe tbody tr th {\n",
       "        vertical-align: top;\n",
       "    }\n",
       "\n",
       "    .dataframe thead th {\n",
       "        text-align: right;\n",
       "    }\n",
       "</style>\n",
       "<table border=\"1\" class=\"dataframe\">\n",
       "  <thead>\n",
       "    <tr style=\"text-align: right;\">\n",
       "      <th></th>\n",
       "      <th>id</th>\n",
       "      <th>text</th>\n",
       "      <th>pronoun</th>\n",
       "      <th>pronoun_offset</th>\n",
       "      <th>a</th>\n",
       "      <th>a_offset</th>\n",
       "      <th>url</th>\n",
       "    </tr>\n",
       "  </thead>\n",
       "  <tbody>\n",
       "    <tr>\n",
       "      <th>0</th>\n",
       "      <td>na</td>\n",
       "      <td>Tilton first made contact with Dozenberg when ...</td>\n",
       "      <td>he</td>\n",
       "      <td>432</td>\n",
       "      <td>Tilton</td>\n",
       "      <td>0</td>\n",
       "      <td>na</td>\n",
       "    </tr>\n",
       "  </tbody>\n",
       "</table>\n",
       "</div>"
      ],
      "text/plain": [
       "   id                                               text pronoun  \\\n",
       "0  na  Tilton first made contact with Dozenberg when ...      he   \n",
       "\n",
       "   pronoun_offset       a  a_offset url  \n",
       "0             432  Tilton         0  na  "
      ]
     },
     "metadata": {},
     "output_type": "display_data"
    },
    {
     "name": "stderr",
     "output_type": "stream",
     "text": [
      "Initializing Step InputReader\n",
      "Step InputReader initialized\n",
      "Initializing Step LabelSanitizer\n",
      "Step LabelSanitizer initialized\n",
      "Initializing Step MentionsAnnotator\n",
      "Step MentionsAnnotator initialized\n",
      "Initializing Step gather_step\n",
      "STEPPY WARNING: Step with name \"InputReader\", already exist. Make sure that all Steps have unique name.\n",
      "Step gather_step initialized\n",
      "Step gather_step, working in \"inference\" mode\n",
      "Step InputReader, working in \"inference\" mode\n",
      "Step InputReader, adapting inputs\n",
      "Step InputReader, transforming...\n",
      "Step InputReader, transforming completed\n",
      "Step InputReader, transform completed\n",
      "Step LabelSanitizer, working in \"inference\" mode\n",
      "Step LabelSanitizer, adapting inputs\n",
      "Step LabelSanitizer, transforming...\n",
      "Step LabelSanitizer, transforming completed\n",
      "Step LabelSanitizer, transform completed\n",
      "Step MentionsAnnotator, working in \"inference\" mode\n",
      "Step InputReader, working in \"inference\" mode\n",
      "Step InputReader, adapting inputs\n",
      "Step InputReader, transforming...\n",
      "Step InputReader, transforming completed\n",
      "Step InputReader, transform completed\n",
      "Step MentionsAnnotator, unpacking inputs\n",
      "Step MentionsAnnotator, transforming...\n"
     ]
    },
    {
     "name": "stdout",
     "output_type": "stream",
     "text": [
      "Transforming data to features.\n",
      "------BEFORE DATA PIPELINE------- results/probert\n",
      "Empty DataFrame\n",
      "Columns: [id, label]\n",
      "Index: []\n"
     ]
    },
    {
     "name": "stderr",
     "output_type": "stream",
     "text": [
      "Extracting coref clusters...: 100%|██████████| 1/1 [00:00<00:00, 813.32it/s]\n",
      "Step MentionsAnnotator, transforming completed\n",
      "Step MentionsAnnotator, transform completed\n",
      "Step gather_step, adapting inputs\n",
      "Step gather_step, transforming...\n",
      "Step gather_step, transforming completed\n",
      "Step gather_step, transform completed\n"
     ]
    },
    {
     "name": "stdout",
     "output_type": "stream",
     "text": [
      "Transforming data to features done.\n",
      " Log a couple of examples for sanity check.\n",
      "\n"
     ]
    },
    {
     "name": "stderr",
     "output_type": "stream",
     "text": [
      "Convert Examples to features: 1it [00:00, 256.63it/s]\n",
      "Evaluating:   0%|          | 0/1 [00:00<?, ?it/s]/dccstor/media-bias-4374/gender-ambiguity-detectors/gap/models/gap/probert.py:35: UserWarning: indexing with dtype torch.uint8 is now deprecated, please use a dtype torch.bool instead. (Triggered internally at  ../aten/src/ATen/native/IndexingUtils.h:28.)\n",
      "  sequence_output = sequence_output[~gpr_tags_mask].view(batch_size, -1, self.config.hidden_size)\n",
      "Evaluating: 100%|██████████| 1/1 [00:04<00:00,  4.26s/it]"
     ]
    },
    {
     "name": "stdout",
     "output_type": "stream",
     "text": [
      "[0.19727816 0.80272186]\n",
      "Known pronoun 'he' resolves 'False' to 'Tilton' with a probability of '0.8027218580245972'\n"
     ]
    },
    {
     "name": "stderr",
     "output_type": "stream",
     "text": [
      "\n"
     ]
    },
    {
     "data": {
      "text/html": [
       "<div>\n",
       "<style scoped>\n",
       "    .dataframe tbody tr th:only-of-type {\n",
       "        vertical-align: middle;\n",
       "    }\n",
       "\n",
       "    .dataframe tbody tr th {\n",
       "        vertical-align: top;\n",
       "    }\n",
       "\n",
       "    .dataframe thead th {\n",
       "        text-align: right;\n",
       "    }\n",
       "</style>\n",
       "<table border=\"1\" class=\"dataframe\">\n",
       "  <thead>\n",
       "    <tr style=\"text-align: right;\">\n",
       "      <th></th>\n",
       "      <th>id</th>\n",
       "      <th>text</th>\n",
       "      <th>pronoun</th>\n",
       "      <th>pronoun_offset</th>\n",
       "      <th>a</th>\n",
       "      <th>a_offset</th>\n",
       "      <th>url</th>\n",
       "    </tr>\n",
       "  </thead>\n",
       "  <tbody>\n",
       "    <tr>\n",
       "      <th>0</th>\n",
       "      <td>na</td>\n",
       "      <td>Tilton first made contact with Dozenberg when ...</td>\n",
       "      <td>he</td>\n",
       "      <td>432</td>\n",
       "      <td>Tilton</td>\n",
       "      <td>126</td>\n",
       "      <td>na</td>\n",
       "    </tr>\n",
       "  </tbody>\n",
       "</table>\n",
       "</div>"
      ],
      "text/plain": [
       "   id                                               text pronoun  \\\n",
       "0  na  Tilton first made contact with Dozenberg when ...      he   \n",
       "\n",
       "   pronoun_offset       a  a_offset url  \n",
       "0             432  Tilton       126  na  "
      ]
     },
     "metadata": {},
     "output_type": "display_data"
    },
    {
     "name": "stderr",
     "output_type": "stream",
     "text": [
      "Initializing Step InputReader\n",
      "Step InputReader initialized\n",
      "Initializing Step LabelSanitizer\n",
      "Step LabelSanitizer initialized\n",
      "Initializing Step MentionsAnnotator\n",
      "Step MentionsAnnotator initialized\n",
      "Initializing Step gather_step\n",
      "STEPPY WARNING: Step with name \"InputReader\", already exist. Make sure that all Steps have unique name.\n",
      "Step gather_step initialized\n",
      "Step gather_step, working in \"inference\" mode\n",
      "Step InputReader, working in \"inference\" mode\n",
      "Step InputReader, adapting inputs\n",
      "Step InputReader, transforming...\n",
      "Step InputReader, transforming completed\n",
      "Step InputReader, transform completed\n",
      "Step LabelSanitizer, working in \"inference\" mode\n",
      "Step LabelSanitizer, adapting inputs\n",
      "Step LabelSanitizer, transforming...\n",
      "Step LabelSanitizer, transforming completed\n",
      "Step LabelSanitizer, transform completed\n",
      "Step MentionsAnnotator, working in \"inference\" mode\n",
      "Step InputReader, working in \"inference\" mode\n",
      "Step InputReader, adapting inputs\n",
      "Step InputReader, transforming...\n",
      "Step InputReader, transforming completed\n",
      "Step InputReader, transform completed\n",
      "Step MentionsAnnotator, unpacking inputs\n",
      "Step MentionsAnnotator, transforming...\n"
     ]
    },
    {
     "name": "stdout",
     "output_type": "stream",
     "text": [
      "Transforming data to features.\n",
      "------BEFORE DATA PIPELINE------- results/probert\n",
      "Empty DataFrame\n",
      "Columns: [id, label]\n",
      "Index: []\n"
     ]
    },
    {
     "name": "stderr",
     "output_type": "stream",
     "text": [
      "Extracting coref clusters...: 100%|██████████| 1/1 [00:00<00:00, 785.16it/s]\n",
      "Step MentionsAnnotator, transforming completed\n",
      "Step MentionsAnnotator, transform completed\n",
      "Step gather_step, adapting inputs\n",
      "Step gather_step, transforming...\n",
      "Step gather_step, transforming completed\n",
      "Step gather_step, transform completed\n"
     ]
    },
    {
     "name": "stdout",
     "output_type": "stream",
     "text": [
      "Transforming data to features done.\n",
      " Log a couple of examples for sanity check.\n",
      "\n"
     ]
    },
    {
     "name": "stderr",
     "output_type": "stream",
     "text": [
      "Convert Examples to features: 1it [00:00, 242.26it/s]\n",
      "Evaluating:   0%|          | 0/1 [00:00<?, ?it/s]/dccstor/media-bias-4374/gender-ambiguity-detectors/gap/models/gap/probert.py:35: UserWarning: indexing with dtype torch.uint8 is now deprecated, please use a dtype torch.bool instead. (Triggered internally at  ../aten/src/ATen/native/IndexingUtils.h:28.)\n",
      "  sequence_output = sequence_output[~gpr_tags_mask].view(batch_size, -1, self.config.hidden_size)\n",
      "Evaluating: 100%|██████████| 1/1 [00:04<00:00,  4.25s/it]"
     ]
    },
    {
     "name": "stdout",
     "output_type": "stream",
     "text": [
      "[0.05418019 0.9458198 ]\n",
      "Known pronoun 'he' resolves 'False' to 'Tilton' with a probability of '0.9458197951316833'\n"
     ]
    },
    {
     "name": "stderr",
     "output_type": "stream",
     "text": [
      "\n"
     ]
    },
    {
     "data": {
      "text/html": [
       "<div>\n",
       "<style scoped>\n",
       "    .dataframe tbody tr th:only-of-type {\n",
       "        vertical-align: middle;\n",
       "    }\n",
       "\n",
       "    .dataframe tbody tr th {\n",
       "        vertical-align: top;\n",
       "    }\n",
       "\n",
       "    .dataframe thead th {\n",
       "        text-align: right;\n",
       "    }\n",
       "</style>\n",
       "<table border=\"1\" class=\"dataframe\">\n",
       "  <thead>\n",
       "    <tr style=\"text-align: right;\">\n",
       "      <th></th>\n",
       "      <th>id</th>\n",
       "      <th>text</th>\n",
       "      <th>pronoun</th>\n",
       "      <th>pronoun_offset</th>\n",
       "      <th>a</th>\n",
       "      <th>a_offset</th>\n",
       "      <th>url</th>\n",
       "    </tr>\n",
       "  </thead>\n",
       "  <tbody>\n",
       "    <tr>\n",
       "      <th>0</th>\n",
       "      <td>na</td>\n",
       "      <td>Tilton first made contact with Dozenberg when ...</td>\n",
       "      <td>he</td>\n",
       "      <td>432</td>\n",
       "      <td>Tilton</td>\n",
       "      <td>291</td>\n",
       "      <td>na</td>\n",
       "    </tr>\n",
       "  </tbody>\n",
       "</table>\n",
       "</div>"
      ],
      "text/plain": [
       "   id                                               text pronoun  \\\n",
       "0  na  Tilton first made contact with Dozenberg when ...      he   \n",
       "\n",
       "   pronoun_offset       a  a_offset url  \n",
       "0             432  Tilton       291  na  "
      ]
     },
     "metadata": {},
     "output_type": "display_data"
    },
    {
     "name": "stderr",
     "output_type": "stream",
     "text": [
      "Initializing Step InputReader\n",
      "Step InputReader initialized\n",
      "Initializing Step LabelSanitizer\n",
      "Step LabelSanitizer initialized\n",
      "Initializing Step MentionsAnnotator\n",
      "Step MentionsAnnotator initialized\n",
      "Initializing Step gather_step\n",
      "STEPPY WARNING: Step with name \"InputReader\", already exist. Make sure that all Steps have unique name.\n",
      "Step gather_step initialized\n",
      "Step gather_step, working in \"inference\" mode\n",
      "Step InputReader, working in \"inference\" mode\n",
      "Step InputReader, adapting inputs\n",
      "Step InputReader, transforming...\n",
      "Step InputReader, transforming completed\n",
      "Step InputReader, transform completed\n",
      "Step LabelSanitizer, working in \"inference\" mode\n",
      "Step LabelSanitizer, adapting inputs\n",
      "Step LabelSanitizer, transforming...\n",
      "Step LabelSanitizer, transforming completed\n",
      "Step LabelSanitizer, transform completed\n",
      "Step MentionsAnnotator, working in \"inference\" mode\n",
      "Step InputReader, working in \"inference\" mode\n",
      "Step InputReader, adapting inputs\n",
      "Step InputReader, transforming...\n",
      "Step InputReader, transforming completed\n",
      "Step InputReader, transform completed\n",
      "Step MentionsAnnotator, unpacking inputs\n",
      "Step MentionsAnnotator, transforming...\n"
     ]
    },
    {
     "name": "stdout",
     "output_type": "stream",
     "text": [
      "Transforming data to features.\n",
      "------BEFORE DATA PIPELINE------- results/probert\n",
      "Empty DataFrame\n",
      "Columns: [id, label]\n",
      "Index: []\n"
     ]
    },
    {
     "name": "stderr",
     "output_type": "stream",
     "text": [
      "Extracting coref clusters...: 100%|██████████| 1/1 [00:00<00:00, 804.28it/s]\n",
      "Step MentionsAnnotator, transforming completed\n",
      "Step MentionsAnnotator, transform completed\n",
      "Step gather_step, adapting inputs\n",
      "Step gather_step, transforming...\n",
      "Step gather_step, transforming completed\n",
      "Step gather_step, transform completed\n"
     ]
    },
    {
     "name": "stdout",
     "output_type": "stream",
     "text": [
      "Transforming data to features done.\n",
      " Log a couple of examples for sanity check.\n",
      "\n"
     ]
    },
    {
     "name": "stderr",
     "output_type": "stream",
     "text": [
      "Convert Examples to features: 1it [00:00, 270.20it/s]\n",
      "Evaluating:   0%|          | 0/1 [00:00<?, ?it/s]/dccstor/media-bias-4374/gender-ambiguity-detectors/gap/models/gap/probert.py:35: UserWarning: indexing with dtype torch.uint8 is now deprecated, please use a dtype torch.bool instead. (Triggered internally at  ../aten/src/ATen/native/IndexingUtils.h:28.)\n",
      "  sequence_output = sequence_output[~gpr_tags_mask].view(batch_size, -1, self.config.hidden_size)\n",
      "Evaluating: 100%|██████████| 1/1 [00:04<00:00,  4.16s/it]"
     ]
    },
    {
     "name": "stdout",
     "output_type": "stream",
     "text": [
      "[0.24982087 0.7501791 ]\n",
      "Known pronoun 'he' resolves 'False' to 'Tilton' with a probability of '0.75017911195755'\n"
     ]
    },
    {
     "name": "stderr",
     "output_type": "stream",
     "text": [
      "\n"
     ]
    },
    {
     "data": {
      "text/html": [
       "<div>\n",
       "<style scoped>\n",
       "    .dataframe tbody tr th:only-of-type {\n",
       "        vertical-align: middle;\n",
       "    }\n",
       "\n",
       "    .dataframe tbody tr th {\n",
       "        vertical-align: top;\n",
       "    }\n",
       "\n",
       "    .dataframe thead th {\n",
       "        text-align: right;\n",
       "    }\n",
       "</style>\n",
       "<table border=\"1\" class=\"dataframe\">\n",
       "  <thead>\n",
       "    <tr style=\"text-align: right;\">\n",
       "      <th></th>\n",
       "      <th>id</th>\n",
       "      <th>text</th>\n",
       "      <th>pronoun</th>\n",
       "      <th>pronoun_offset</th>\n",
       "      <th>a</th>\n",
       "      <th>a_offset</th>\n",
       "      <th>url</th>\n",
       "    </tr>\n",
       "  </thead>\n",
       "  <tbody>\n",
       "    <tr>\n",
       "      <th>0</th>\n",
       "      <td>na</td>\n",
       "      <td>Tilton first made contact with Dozenberg when ...</td>\n",
       "      <td>he</td>\n",
       "      <td>432</td>\n",
       "      <td>Dozenberg</td>\n",
       "      <td>31</td>\n",
       "      <td>na</td>\n",
       "    </tr>\n",
       "  </tbody>\n",
       "</table>\n",
       "</div>"
      ],
      "text/plain": [
       "   id                                               text pronoun  \\\n",
       "0  na  Tilton first made contact with Dozenberg when ...      he   \n",
       "\n",
       "   pronoun_offset          a  a_offset url  \n",
       "0             432  Dozenberg        31  na  "
      ]
     },
     "metadata": {},
     "output_type": "display_data"
    },
    {
     "name": "stderr",
     "output_type": "stream",
     "text": [
      "Initializing Step InputReader\n",
      "Step InputReader initialized\n",
      "Initializing Step LabelSanitizer\n",
      "Step LabelSanitizer initialized\n",
      "Initializing Step MentionsAnnotator\n",
      "Step MentionsAnnotator initialized\n",
      "Initializing Step gather_step\n",
      "STEPPY WARNING: Step with name \"InputReader\", already exist. Make sure that all Steps have unique name.\n",
      "Step gather_step initialized\n",
      "Step gather_step, working in \"inference\" mode\n",
      "Step InputReader, working in \"inference\" mode\n",
      "Step InputReader, adapting inputs\n",
      "Step InputReader, transforming...\n",
      "Step InputReader, transforming completed\n",
      "Step InputReader, transform completed\n",
      "Step LabelSanitizer, working in \"inference\" mode\n",
      "Step LabelSanitizer, adapting inputs\n",
      "Step LabelSanitizer, transforming...\n",
      "Step LabelSanitizer, transforming completed\n",
      "Step LabelSanitizer, transform completed\n",
      "Step MentionsAnnotator, working in \"inference\" mode\n",
      "Step InputReader, working in \"inference\" mode\n",
      "Step InputReader, adapting inputs\n",
      "Step InputReader, transforming...\n",
      "Step InputReader, transforming completed\n",
      "Step InputReader, transform completed\n",
      "Step MentionsAnnotator, unpacking inputs\n",
      "Step MentionsAnnotator, transforming...\n"
     ]
    },
    {
     "name": "stdout",
     "output_type": "stream",
     "text": [
      "Transforming data to features.\n",
      "------BEFORE DATA PIPELINE------- results/probert\n",
      "Empty DataFrame\n",
      "Columns: [id, label]\n",
      "Index: []\n"
     ]
    },
    {
     "name": "stderr",
     "output_type": "stream",
     "text": [
      "Extracting coref clusters...: 100%|██████████| 1/1 [00:00<00:00, 772.72it/s]\n",
      "Step MentionsAnnotator, transforming completed\n",
      "Step MentionsAnnotator, transform completed\n",
      "Step gather_step, adapting inputs\n",
      "Step gather_step, transforming...\n",
      "Step gather_step, transforming completed\n",
      "Step gather_step, transform completed\n"
     ]
    },
    {
     "name": "stdout",
     "output_type": "stream",
     "text": [
      "Transforming data to features done.\n",
      " Log a couple of examples for sanity check.\n",
      "\n"
     ]
    },
    {
     "name": "stderr",
     "output_type": "stream",
     "text": [
      "Convert Examples to features: 1it [00:00, 261.39it/s]\n",
      "Evaluating:   0%|          | 0/1 [00:00<?, ?it/s]/dccstor/media-bias-4374/gender-ambiguity-detectors/gap/models/gap/probert.py:35: UserWarning: indexing with dtype torch.uint8 is now deprecated, please use a dtype torch.bool instead. (Triggered internally at  ../aten/src/ATen/native/IndexingUtils.h:28.)\n",
      "  sequence_output = sequence_output[~gpr_tags_mask].view(batch_size, -1, self.config.hidden_size)\n",
      "Evaluating: 100%|██████████| 1/1 [00:04<00:00,  4.25s/it]"
     ]
    },
    {
     "name": "stdout",
     "output_type": "stream",
     "text": [
      "[0.04163713 0.9583629 ]\n",
      "Known pronoun 'he' resolves 'False' to 'Dozenberg' with a probability of '0.958362877368927'\n"
     ]
    },
    {
     "name": "stderr",
     "output_type": "stream",
     "text": [
      "\n"
     ]
    },
    {
     "data": {
      "text/html": [
       "<div>\n",
       "<style scoped>\n",
       "    .dataframe tbody tr th:only-of-type {\n",
       "        vertical-align: middle;\n",
       "    }\n",
       "\n",
       "    .dataframe tbody tr th {\n",
       "        vertical-align: top;\n",
       "    }\n",
       "\n",
       "    .dataframe thead th {\n",
       "        text-align: right;\n",
       "    }\n",
       "</style>\n",
       "<table border=\"1\" class=\"dataframe\">\n",
       "  <thead>\n",
       "    <tr style=\"text-align: right;\">\n",
       "      <th></th>\n",
       "      <th>id</th>\n",
       "      <th>text</th>\n",
       "      <th>pronoun</th>\n",
       "      <th>pronoun_offset</th>\n",
       "      <th>a</th>\n",
       "      <th>a_offset</th>\n",
       "      <th>url</th>\n",
       "    </tr>\n",
       "  </thead>\n",
       "  <tbody>\n",
       "    <tr>\n",
       "      <th>0</th>\n",
       "      <td>na</td>\n",
       "      <td>Tilton first made contact with Dozenberg when ...</td>\n",
       "      <td>he</td>\n",
       "      <td>432</td>\n",
       "      <td>Dozenberg</td>\n",
       "      <td>139</td>\n",
       "      <td>na</td>\n",
       "    </tr>\n",
       "  </tbody>\n",
       "</table>\n",
       "</div>"
      ],
      "text/plain": [
       "   id                                               text pronoun  \\\n",
       "0  na  Tilton first made contact with Dozenberg when ...      he   \n",
       "\n",
       "   pronoun_offset          a  a_offset url  \n",
       "0             432  Dozenberg       139  na  "
      ]
     },
     "metadata": {},
     "output_type": "display_data"
    },
    {
     "name": "stderr",
     "output_type": "stream",
     "text": [
      "Initializing Step InputReader\n",
      "Step InputReader initialized\n",
      "Initializing Step LabelSanitizer\n",
      "Step LabelSanitizer initialized\n",
      "Initializing Step MentionsAnnotator\n",
      "Step MentionsAnnotator initialized\n",
      "Initializing Step gather_step\n",
      "STEPPY WARNING: Step with name \"InputReader\", already exist. Make sure that all Steps have unique name.\n",
      "Step gather_step initialized\n",
      "Step gather_step, working in \"inference\" mode\n",
      "Step InputReader, working in \"inference\" mode\n",
      "Step InputReader, adapting inputs\n",
      "Step InputReader, transforming...\n",
      "Step InputReader, transforming completed\n",
      "Step InputReader, transform completed\n",
      "Step LabelSanitizer, working in \"inference\" mode\n",
      "Step LabelSanitizer, adapting inputs\n",
      "Step LabelSanitizer, transforming...\n",
      "Step LabelSanitizer, transforming completed\n",
      "Step LabelSanitizer, transform completed\n",
      "Step MentionsAnnotator, working in \"inference\" mode\n",
      "Step InputReader, working in \"inference\" mode\n",
      "Step InputReader, adapting inputs\n",
      "Step InputReader, transforming...\n",
      "Step InputReader, transforming completed\n",
      "Step InputReader, transform completed\n",
      "Step MentionsAnnotator, unpacking inputs\n",
      "Step MentionsAnnotator, transforming...\n"
     ]
    },
    {
     "name": "stdout",
     "output_type": "stream",
     "text": [
      "Transforming data to features.\n",
      "------BEFORE DATA PIPELINE------- results/probert\n",
      "Empty DataFrame\n",
      "Columns: [id, label]\n",
      "Index: []\n"
     ]
    },
    {
     "name": "stderr",
     "output_type": "stream",
     "text": [
      "Extracting coref clusters...: 100%|██████████| 1/1 [00:00<00:00, 903.56it/s]\n",
      "Step MentionsAnnotator, transforming completed\n",
      "Step MentionsAnnotator, transform completed\n",
      "Step gather_step, adapting inputs\n",
      "Step gather_step, transforming...\n",
      "Step gather_step, transforming completed\n",
      "Step gather_step, transform completed\n"
     ]
    },
    {
     "name": "stdout",
     "output_type": "stream",
     "text": [
      "Transforming data to features done.\n",
      " Log a couple of examples for sanity check.\n",
      "\n"
     ]
    },
    {
     "name": "stderr",
     "output_type": "stream",
     "text": [
      "Convert Examples to features: 1it [00:00, 264.76it/s]\n",
      "Evaluating:   0%|          | 0/1 [00:00<?, ?it/s]/dccstor/media-bias-4374/gender-ambiguity-detectors/gap/models/gap/probert.py:35: UserWarning: indexing with dtype torch.uint8 is now deprecated, please use a dtype torch.bool instead. (Triggered internally at  ../aten/src/ATen/native/IndexingUtils.h:28.)\n",
      "  sequence_output = sequence_output[~gpr_tags_mask].view(batch_size, -1, self.config.hidden_size)\n",
      "Evaluating: 100%|██████████| 1/1 [00:04<00:00,  4.28s/it]"
     ]
    },
    {
     "name": "stdout",
     "output_type": "stream",
     "text": [
      "[0.02744188 0.9725581 ]\n",
      "Known pronoun 'he' resolves 'False' to 'Dozenberg' with a probability of '0.9725580811500549'\n"
     ]
    },
    {
     "name": "stderr",
     "output_type": "stream",
     "text": [
      "\n"
     ]
    },
    {
     "data": {
      "text/html": [
       "<div>\n",
       "<style scoped>\n",
       "    .dataframe tbody tr th:only-of-type {\n",
       "        vertical-align: middle;\n",
       "    }\n",
       "\n",
       "    .dataframe tbody tr th {\n",
       "        vertical-align: top;\n",
       "    }\n",
       "\n",
       "    .dataframe thead th {\n",
       "        text-align: right;\n",
       "    }\n",
       "</style>\n",
       "<table border=\"1\" class=\"dataframe\">\n",
       "  <thead>\n",
       "    <tr style=\"text-align: right;\">\n",
       "      <th></th>\n",
       "      <th>id</th>\n",
       "      <th>text</th>\n",
       "      <th>pronoun</th>\n",
       "      <th>pronoun_offset</th>\n",
       "      <th>a</th>\n",
       "      <th>a_offset</th>\n",
       "      <th>url</th>\n",
       "    </tr>\n",
       "  </thead>\n",
       "  <tbody>\n",
       "    <tr>\n",
       "      <th>0</th>\n",
       "      <td>na</td>\n",
       "      <td>Tilton first made contact with Dozenberg when ...</td>\n",
       "      <td>he</td>\n",
       "      <td>432</td>\n",
       "      <td>Dozenberg</td>\n",
       "      <td>202</td>\n",
       "      <td>na</td>\n",
       "    </tr>\n",
       "  </tbody>\n",
       "</table>\n",
       "</div>"
      ],
      "text/plain": [
       "   id                                               text pronoun  \\\n",
       "0  na  Tilton first made contact with Dozenberg when ...      he   \n",
       "\n",
       "   pronoun_offset          a  a_offset url  \n",
       "0             432  Dozenberg       202  na  "
      ]
     },
     "metadata": {},
     "output_type": "display_data"
    },
    {
     "name": "stderr",
     "output_type": "stream",
     "text": [
      "Initializing Step InputReader\n",
      "Step InputReader initialized\n",
      "Initializing Step LabelSanitizer\n",
      "Step LabelSanitizer initialized\n",
      "Initializing Step MentionsAnnotator\n",
      "Step MentionsAnnotator initialized\n",
      "Initializing Step gather_step\n",
      "STEPPY WARNING: Step with name \"InputReader\", already exist. Make sure that all Steps have unique name.\n",
      "Step gather_step initialized\n",
      "Step gather_step, working in \"inference\" mode\n",
      "Step InputReader, working in \"inference\" mode\n",
      "Step InputReader, adapting inputs\n",
      "Step InputReader, transforming...\n",
      "Step InputReader, transforming completed\n",
      "Step InputReader, transform completed\n",
      "Step LabelSanitizer, working in \"inference\" mode\n",
      "Step LabelSanitizer, adapting inputs\n",
      "Step LabelSanitizer, transforming...\n",
      "Step LabelSanitizer, transforming completed\n",
      "Step LabelSanitizer, transform completed\n",
      "Step MentionsAnnotator, working in \"inference\" mode\n",
      "Step InputReader, working in \"inference\" mode\n",
      "Step InputReader, adapting inputs\n",
      "Step InputReader, transforming...\n",
      "Step InputReader, transforming completed\n",
      "Step InputReader, transform completed\n",
      "Step MentionsAnnotator, unpacking inputs\n",
      "Step MentionsAnnotator, transforming...\n"
     ]
    },
    {
     "name": "stdout",
     "output_type": "stream",
     "text": [
      "Transforming data to features.\n",
      "------BEFORE DATA PIPELINE------- results/probert\n",
      "Empty DataFrame\n",
      "Columns: [id, label]\n",
      "Index: []\n"
     ]
    },
    {
     "name": "stderr",
     "output_type": "stream",
     "text": [
      "Extracting coref clusters...: 100%|██████████| 1/1 [00:00<00:00, 662.29it/s]\n",
      "Step MentionsAnnotator, transforming completed\n",
      "Step MentionsAnnotator, transform completed\n",
      "Step gather_step, adapting inputs\n",
      "Step gather_step, transforming...\n",
      "Step gather_step, transforming completed\n",
      "Step gather_step, transform completed\n"
     ]
    },
    {
     "name": "stdout",
     "output_type": "stream",
     "text": [
      "Transforming data to features done.\n",
      " Log a couple of examples for sanity check.\n",
      "\n"
     ]
    },
    {
     "name": "stderr",
     "output_type": "stream",
     "text": [
      "Convert Examples to features: 1it [00:00, 240.15it/s]\n",
      "Evaluating:   0%|          | 0/1 [00:00<?, ?it/s]/dccstor/media-bias-4374/gender-ambiguity-detectors/gap/models/gap/probert.py:35: UserWarning: indexing with dtype torch.uint8 is now deprecated, please use a dtype torch.bool instead. (Triggered internally at  ../aten/src/ATen/native/IndexingUtils.h:28.)\n",
      "  sequence_output = sequence_output[~gpr_tags_mask].view(batch_size, -1, self.config.hidden_size)\n",
      "Evaluating: 100%|██████████| 1/1 [00:04<00:00,  4.28s/it]"
     ]
    },
    {
     "name": "stdout",
     "output_type": "stream",
     "text": [
      "[0.02873603 0.971264  ]\n",
      "Known pronoun 'he' resolves 'False' to 'Dozenberg' with a probability of '0.9712640047073364'\n"
     ]
    },
    {
     "name": "stderr",
     "output_type": "stream",
     "text": [
      "\n"
     ]
    },
    {
     "data": {
      "text/html": [
       "<div>\n",
       "<style scoped>\n",
       "    .dataframe tbody tr th:only-of-type {\n",
       "        vertical-align: middle;\n",
       "    }\n",
       "\n",
       "    .dataframe tbody tr th {\n",
       "        vertical-align: top;\n",
       "    }\n",
       "\n",
       "    .dataframe thead th {\n",
       "        text-align: right;\n",
       "    }\n",
       "</style>\n",
       "<table border=\"1\" class=\"dataframe\">\n",
       "  <thead>\n",
       "    <tr style=\"text-align: right;\">\n",
       "      <th></th>\n",
       "      <th>id</th>\n",
       "      <th>text</th>\n",
       "      <th>pronoun</th>\n",
       "      <th>pronoun_offset</th>\n",
       "      <th>a</th>\n",
       "      <th>a_offset</th>\n",
       "      <th>url</th>\n",
       "    </tr>\n",
       "  </thead>\n",
       "  <tbody>\n",
       "    <tr>\n",
       "      <th>0</th>\n",
       "      <td>na</td>\n",
       "      <td>Tilton first made contact with Dozenberg when ...</td>\n",
       "      <td>he</td>\n",
       "      <td>432</td>\n",
       "      <td>Dozenberg</td>\n",
       "      <td>307</td>\n",
       "      <td>na</td>\n",
       "    </tr>\n",
       "  </tbody>\n",
       "</table>\n",
       "</div>"
      ],
      "text/plain": [
       "   id                                               text pronoun  \\\n",
       "0  na  Tilton first made contact with Dozenberg when ...      he   \n",
       "\n",
       "   pronoun_offset          a  a_offset url  \n",
       "0             432  Dozenberg       307  na  "
      ]
     },
     "metadata": {},
     "output_type": "display_data"
    },
    {
     "name": "stderr",
     "output_type": "stream",
     "text": [
      "Initializing Step InputReader\n",
      "Step InputReader initialized\n",
      "Initializing Step LabelSanitizer\n",
      "Step LabelSanitizer initialized\n",
      "Initializing Step MentionsAnnotator\n",
      "Step MentionsAnnotator initialized\n",
      "Initializing Step gather_step\n",
      "STEPPY WARNING: Step with name \"InputReader\", already exist. Make sure that all Steps have unique name.\n",
      "Step gather_step initialized\n",
      "Step gather_step, working in \"inference\" mode\n",
      "Step InputReader, working in \"inference\" mode\n",
      "Step InputReader, adapting inputs\n",
      "Step InputReader, transforming...\n",
      "Step InputReader, transforming completed\n",
      "Step InputReader, transform completed\n",
      "Step LabelSanitizer, working in \"inference\" mode\n",
      "Step LabelSanitizer, adapting inputs\n",
      "Step LabelSanitizer, transforming...\n",
      "Step LabelSanitizer, transforming completed\n",
      "Step LabelSanitizer, transform completed\n",
      "Step MentionsAnnotator, working in \"inference\" mode\n",
      "Step InputReader, working in \"inference\" mode\n",
      "Step InputReader, adapting inputs\n",
      "Step InputReader, transforming...\n",
      "Step InputReader, transforming completed\n",
      "Step InputReader, transform completed\n",
      "Step MentionsAnnotator, unpacking inputs\n",
      "Step MentionsAnnotator, transforming...\n"
     ]
    },
    {
     "name": "stdout",
     "output_type": "stream",
     "text": [
      "Transforming data to features.\n",
      "------BEFORE DATA PIPELINE------- results/probert\n",
      "Empty DataFrame\n",
      "Columns: [id, label]\n",
      "Index: []\n"
     ]
    },
    {
     "name": "stderr",
     "output_type": "stream",
     "text": [
      "Extracting coref clusters...: 100%|██████████| 1/1 [00:00<00:00, 804.43it/s]\n",
      "Step MentionsAnnotator, transforming completed\n",
      "Step MentionsAnnotator, transform completed\n",
      "Step gather_step, adapting inputs\n",
      "Step gather_step, transforming...\n",
      "Step gather_step, transforming completed\n",
      "Step gather_step, transform completed\n"
     ]
    },
    {
     "name": "stdout",
     "output_type": "stream",
     "text": [
      "Transforming data to features done.\n",
      " Log a couple of examples for sanity check.\n",
      "\n"
     ]
    },
    {
     "name": "stderr",
     "output_type": "stream",
     "text": [
      "Convert Examples to features: 1it [00:00, 262.85it/s]\n",
      "Evaluating:   0%|          | 0/1 [00:00<?, ?it/s]/dccstor/media-bias-4374/gender-ambiguity-detectors/gap/models/gap/probert.py:35: UserWarning: indexing with dtype torch.uint8 is now deprecated, please use a dtype torch.bool instead. (Triggered internally at  ../aten/src/ATen/native/IndexingUtils.h:28.)\n",
      "  sequence_output = sequence_output[~gpr_tags_mask].view(batch_size, -1, self.config.hidden_size)\n",
      "Evaluating: 100%|██████████| 1/1 [00:04<00:00,  4.35s/it]"
     ]
    },
    {
     "name": "stdout",
     "output_type": "stream",
     "text": [
      "[0.03424415 0.96575594]\n",
      "Known pronoun 'he' resolves 'False' to 'Dozenberg' with a probability of '0.9657559394836426'\n"
     ]
    },
    {
     "name": "stderr",
     "output_type": "stream",
     "text": [
      "\n"
     ]
    },
    {
     "data": {
      "text/html": [
       "<div>\n",
       "<style scoped>\n",
       "    .dataframe tbody tr th:only-of-type {\n",
       "        vertical-align: middle;\n",
       "    }\n",
       "\n",
       "    .dataframe tbody tr th {\n",
       "        vertical-align: top;\n",
       "    }\n",
       "\n",
       "    .dataframe thead th {\n",
       "        text-align: right;\n",
       "    }\n",
       "</style>\n",
       "<table border=\"1\" class=\"dataframe\">\n",
       "  <thead>\n",
       "    <tr style=\"text-align: right;\">\n",
       "      <th></th>\n",
       "      <th>id</th>\n",
       "      <th>text</th>\n",
       "      <th>pronoun</th>\n",
       "      <th>pronoun_offset</th>\n",
       "      <th>a</th>\n",
       "      <th>a_offset</th>\n",
       "      <th>url</th>\n",
       "    </tr>\n",
       "  </thead>\n",
       "  <tbody>\n",
       "    <tr>\n",
       "      <th>0</th>\n",
       "      <td>na</td>\n",
       "      <td>Tilton first made contact with Dozenberg when ...</td>\n",
       "      <td>he</td>\n",
       "      <td>432</td>\n",
       "      <td>Dozenberg</td>\n",
       "      <td>380</td>\n",
       "      <td>na</td>\n",
       "    </tr>\n",
       "  </tbody>\n",
       "</table>\n",
       "</div>"
      ],
      "text/plain": [
       "   id                                               text pronoun  \\\n",
       "0  na  Tilton first made contact with Dozenberg when ...      he   \n",
       "\n",
       "   pronoun_offset          a  a_offset url  \n",
       "0             432  Dozenberg       380  na  "
      ]
     },
     "metadata": {},
     "output_type": "display_data"
    },
    {
     "name": "stderr",
     "output_type": "stream",
     "text": [
      "Initializing Step InputReader\n",
      "Step InputReader initialized\n",
      "Initializing Step LabelSanitizer\n",
      "Step LabelSanitizer initialized\n",
      "Initializing Step MentionsAnnotator\n",
      "Step MentionsAnnotator initialized\n",
      "Initializing Step gather_step\n",
      "STEPPY WARNING: Step with name \"InputReader\", already exist. Make sure that all Steps have unique name.\n",
      "Step gather_step initialized\n",
      "Step gather_step, working in \"inference\" mode\n",
      "Step InputReader, working in \"inference\" mode\n",
      "Step InputReader, adapting inputs\n",
      "Step InputReader, transforming...\n",
      "Step InputReader, transforming completed\n",
      "Step InputReader, transform completed\n",
      "Step LabelSanitizer, working in \"inference\" mode\n",
      "Step LabelSanitizer, adapting inputs\n",
      "Step LabelSanitizer, transforming...\n",
      "Step LabelSanitizer, transforming completed\n",
      "Step LabelSanitizer, transform completed\n",
      "Step MentionsAnnotator, working in \"inference\" mode\n",
      "Step InputReader, working in \"inference\" mode\n",
      "Step InputReader, adapting inputs\n",
      "Step InputReader, transforming...\n",
      "Step InputReader, transforming completed\n",
      "Step InputReader, transform completed\n",
      "Step MentionsAnnotator, unpacking inputs\n",
      "Step MentionsAnnotator, transforming...\n"
     ]
    },
    {
     "name": "stdout",
     "output_type": "stream",
     "text": [
      "Transforming data to features.\n",
      "------BEFORE DATA PIPELINE------- results/probert\n",
      "Empty DataFrame\n",
      "Columns: [id, label]\n",
      "Index: []\n"
     ]
    },
    {
     "name": "stderr",
     "output_type": "stream",
     "text": [
      "Extracting coref clusters...: 100%|██████████| 1/1 [00:00<00:00, 834.36it/s]\n",
      "Step MentionsAnnotator, transforming completed\n",
      "Step MentionsAnnotator, transform completed\n",
      "Step gather_step, adapting inputs\n",
      "Step gather_step, transforming...\n",
      "Step gather_step, transforming completed\n",
      "Step gather_step, transform completed\n"
     ]
    },
    {
     "name": "stdout",
     "output_type": "stream",
     "text": [
      "Transforming data to features done.\n",
      " Log a couple of examples for sanity check.\n",
      "\n"
     ]
    },
    {
     "name": "stderr",
     "output_type": "stream",
     "text": [
      "Convert Examples to features: 1it [00:00, 236.25it/s]\n",
      "Evaluating:   0%|          | 0/1 [00:00<?, ?it/s]/dccstor/media-bias-4374/gender-ambiguity-detectors/gap/models/gap/probert.py:35: UserWarning: indexing with dtype torch.uint8 is now deprecated, please use a dtype torch.bool instead. (Triggered internally at  ../aten/src/ATen/native/IndexingUtils.h:28.)\n",
      "  sequence_output = sequence_output[~gpr_tags_mask].view(batch_size, -1, self.config.hidden_size)\n",
      "Evaluating: 100%|██████████| 1/1 [00:04<00:00,  4.29s/it]"
     ]
    },
    {
     "name": "stdout",
     "output_type": "stream",
     "text": [
      "[0.5062524  0.49374768]\n",
      "Known pronoun 'he' resolves 'True' to 'Dozenberg' with a probability of '0.5062524080276489'\n"
     ]
    },
    {
     "name": "stderr",
     "output_type": "stream",
     "text": [
      "\n"
     ]
    },
    {
     "data": {
      "text/html": [
       "<div>\n",
       "<style scoped>\n",
       "    .dataframe tbody tr th:only-of-type {\n",
       "        vertical-align: middle;\n",
       "    }\n",
       "\n",
       "    .dataframe tbody tr th {\n",
       "        vertical-align: top;\n",
       "    }\n",
       "\n",
       "    .dataframe thead th {\n",
       "        text-align: right;\n",
       "    }\n",
       "</style>\n",
       "<table border=\"1\" class=\"dataframe\">\n",
       "  <thead>\n",
       "    <tr style=\"text-align: right;\">\n",
       "      <th></th>\n",
       "      <th>id</th>\n",
       "      <th>text</th>\n",
       "      <th>pronoun</th>\n",
       "      <th>pronoun_offset</th>\n",
       "      <th>a</th>\n",
       "      <th>a_offset</th>\n",
       "      <th>url</th>\n",
       "    </tr>\n",
       "  </thead>\n",
       "  <tbody>\n",
       "    <tr>\n",
       "      <th>0</th>\n",
       "      <td>na</td>\n",
       "      <td>Tilton first made contact with Dozenberg when ...</td>\n",
       "      <td>him</td>\n",
       "      <td>220</td>\n",
       "      <td>Tilton</td>\n",
       "      <td>0</td>\n",
       "      <td>na</td>\n",
       "    </tr>\n",
       "  </tbody>\n",
       "</table>\n",
       "</div>"
      ],
      "text/plain": [
       "   id                                               text pronoun  \\\n",
       "0  na  Tilton first made contact with Dozenberg when ...     him   \n",
       "\n",
       "   pronoun_offset       a  a_offset url  \n",
       "0             220  Tilton         0  na  "
      ]
     },
     "metadata": {},
     "output_type": "display_data"
    },
    {
     "name": "stderr",
     "output_type": "stream",
     "text": [
      "Initializing Step InputReader\n",
      "Step InputReader initialized\n",
      "Initializing Step LabelSanitizer\n",
      "Step LabelSanitizer initialized\n",
      "Initializing Step MentionsAnnotator\n",
      "Step MentionsAnnotator initialized\n",
      "Initializing Step gather_step\n",
      "STEPPY WARNING: Step with name \"InputReader\", already exist. Make sure that all Steps have unique name.\n",
      "Step gather_step initialized\n",
      "Step gather_step, working in \"inference\" mode\n",
      "Step InputReader, working in \"inference\" mode\n",
      "Step InputReader, adapting inputs\n",
      "Step InputReader, transforming...\n",
      "Step InputReader, transforming completed\n",
      "Step InputReader, transform completed\n",
      "Step LabelSanitizer, working in \"inference\" mode\n",
      "Step LabelSanitizer, adapting inputs\n",
      "Step LabelSanitizer, transforming...\n",
      "Step LabelSanitizer, transforming completed\n",
      "Step LabelSanitizer, transform completed\n",
      "Step MentionsAnnotator, working in \"inference\" mode\n",
      "Step InputReader, working in \"inference\" mode\n",
      "Step InputReader, adapting inputs\n",
      "Step InputReader, transforming...\n",
      "Step InputReader, transforming completed\n",
      "Step InputReader, transform completed\n",
      "Step MentionsAnnotator, unpacking inputs\n",
      "Step MentionsAnnotator, transforming...\n"
     ]
    },
    {
     "name": "stdout",
     "output_type": "stream",
     "text": [
      "Transforming data to features.\n",
      "------BEFORE DATA PIPELINE------- results/probert\n",
      "Empty DataFrame\n",
      "Columns: [id, label]\n",
      "Index: []\n"
     ]
    },
    {
     "name": "stderr",
     "output_type": "stream",
     "text": [
      "Extracting coref clusters...: 100%|██████████| 1/1 [00:00<00:00, 905.31it/s]\n",
      "Step MentionsAnnotator, transforming completed\n",
      "Step MentionsAnnotator, transform completed\n",
      "Step gather_step, adapting inputs\n",
      "Step gather_step, transforming...\n",
      "Step gather_step, transforming completed\n",
      "Step gather_step, transform completed\n"
     ]
    },
    {
     "name": "stdout",
     "output_type": "stream",
     "text": [
      "Transforming data to features done.\n",
      " Log a couple of examples for sanity check.\n",
      "\n"
     ]
    },
    {
     "name": "stderr",
     "output_type": "stream",
     "text": [
      "Convert Examples to features: 1it [00:00, 269.16it/s]\n",
      "Evaluating:   0%|          | 0/1 [00:00<?, ?it/s]/dccstor/media-bias-4374/gender-ambiguity-detectors/gap/models/gap/probert.py:35: UserWarning: indexing with dtype torch.uint8 is now deprecated, please use a dtype torch.bool instead. (Triggered internally at  ../aten/src/ATen/native/IndexingUtils.h:28.)\n",
      "  sequence_output = sequence_output[~gpr_tags_mask].view(batch_size, -1, self.config.hidden_size)\n",
      "Evaluating: 100%|██████████| 1/1 [00:04<00:00,  4.23s/it]"
     ]
    },
    {
     "name": "stdout",
     "output_type": "stream",
     "text": [
      "[0.612293  0.3877069]\n",
      "Known pronoun 'him' resolves 'True' to 'Tilton' with a probability of '0.612293004989624'\n"
     ]
    },
    {
     "name": "stderr",
     "output_type": "stream",
     "text": [
      "\n"
     ]
    },
    {
     "data": {
      "text/html": [
       "<div>\n",
       "<style scoped>\n",
       "    .dataframe tbody tr th:only-of-type {\n",
       "        vertical-align: middle;\n",
       "    }\n",
       "\n",
       "    .dataframe tbody tr th {\n",
       "        vertical-align: top;\n",
       "    }\n",
       "\n",
       "    .dataframe thead th {\n",
       "        text-align: right;\n",
       "    }\n",
       "</style>\n",
       "<table border=\"1\" class=\"dataframe\">\n",
       "  <thead>\n",
       "    <tr style=\"text-align: right;\">\n",
       "      <th></th>\n",
       "      <th>id</th>\n",
       "      <th>text</th>\n",
       "      <th>pronoun</th>\n",
       "      <th>pronoun_offset</th>\n",
       "      <th>a</th>\n",
       "      <th>a_offset</th>\n",
       "      <th>url</th>\n",
       "    </tr>\n",
       "  </thead>\n",
       "  <tbody>\n",
       "    <tr>\n",
       "      <th>0</th>\n",
       "      <td>na</td>\n",
       "      <td>Tilton first made contact with Dozenberg when ...</td>\n",
       "      <td>him</td>\n",
       "      <td>220</td>\n",
       "      <td>Tilton</td>\n",
       "      <td>126</td>\n",
       "      <td>na</td>\n",
       "    </tr>\n",
       "  </tbody>\n",
       "</table>\n",
       "</div>"
      ],
      "text/plain": [
       "   id                                               text pronoun  \\\n",
       "0  na  Tilton first made contact with Dozenberg when ...     him   \n",
       "\n",
       "   pronoun_offset       a  a_offset url  \n",
       "0             220  Tilton       126  na  "
      ]
     },
     "metadata": {},
     "output_type": "display_data"
    },
    {
     "name": "stderr",
     "output_type": "stream",
     "text": [
      "Initializing Step InputReader\n",
      "Step InputReader initialized\n",
      "Initializing Step LabelSanitizer\n",
      "Step LabelSanitizer initialized\n",
      "Initializing Step MentionsAnnotator\n",
      "Step MentionsAnnotator initialized\n",
      "Initializing Step gather_step\n",
      "STEPPY WARNING: Step with name \"InputReader\", already exist. Make sure that all Steps have unique name.\n",
      "Step gather_step initialized\n",
      "Step gather_step, working in \"inference\" mode\n",
      "Step InputReader, working in \"inference\" mode\n",
      "Step InputReader, adapting inputs\n",
      "Step InputReader, transforming...\n",
      "Step InputReader, transforming completed\n",
      "Step InputReader, transform completed\n",
      "Step LabelSanitizer, working in \"inference\" mode\n",
      "Step LabelSanitizer, adapting inputs\n",
      "Step LabelSanitizer, transforming...\n",
      "Step LabelSanitizer, transforming completed\n",
      "Step LabelSanitizer, transform completed\n",
      "Step MentionsAnnotator, working in \"inference\" mode\n",
      "Step InputReader, working in \"inference\" mode\n",
      "Step InputReader, adapting inputs\n",
      "Step InputReader, transforming...\n",
      "Step InputReader, transforming completed\n",
      "Step InputReader, transform completed\n",
      "Step MentionsAnnotator, unpacking inputs\n",
      "Step MentionsAnnotator, transforming...\n"
     ]
    },
    {
     "name": "stdout",
     "output_type": "stream",
     "text": [
      "Transforming data to features.\n",
      "------BEFORE DATA PIPELINE------- results/probert\n",
      "Empty DataFrame\n",
      "Columns: [id, label]\n",
      "Index: []\n"
     ]
    },
    {
     "name": "stderr",
     "output_type": "stream",
     "text": [
      "Extracting coref clusters...: 100%|██████████| 1/1 [00:00<00:00, 766.22it/s]\n",
      "Step MentionsAnnotator, transforming completed\n",
      "Step MentionsAnnotator, transform completed\n",
      "Step gather_step, adapting inputs\n",
      "Step gather_step, transforming...\n",
      "Step gather_step, transforming completed\n",
      "Step gather_step, transform completed\n"
     ]
    },
    {
     "name": "stdout",
     "output_type": "stream",
     "text": [
      "Transforming data to features done.\n",
      " Log a couple of examples for sanity check.\n",
      "\n"
     ]
    },
    {
     "name": "stderr",
     "output_type": "stream",
     "text": [
      "Convert Examples to features: 1it [00:00, 236.70it/s]\n",
      "Evaluating:   0%|          | 0/1 [00:00<?, ?it/s]/dccstor/media-bias-4374/gender-ambiguity-detectors/gap/models/gap/probert.py:35: UserWarning: indexing with dtype torch.uint8 is now deprecated, please use a dtype torch.bool instead. (Triggered internally at  ../aten/src/ATen/native/IndexingUtils.h:28.)\n",
      "  sequence_output = sequence_output[~gpr_tags_mask].view(batch_size, -1, self.config.hidden_size)\n",
      "Evaluating: 100%|██████████| 1/1 [00:04<00:00,  4.31s/it]"
     ]
    },
    {
     "name": "stdout",
     "output_type": "stream",
     "text": [
      "[0.33198127 0.66801876]\n",
      "Known pronoun 'him' resolves 'False' to 'Tilton' with a probability of '0.6680187582969666'\n"
     ]
    },
    {
     "name": "stderr",
     "output_type": "stream",
     "text": [
      "\n"
     ]
    },
    {
     "data": {
      "text/html": [
       "<div>\n",
       "<style scoped>\n",
       "    .dataframe tbody tr th:only-of-type {\n",
       "        vertical-align: middle;\n",
       "    }\n",
       "\n",
       "    .dataframe tbody tr th {\n",
       "        vertical-align: top;\n",
       "    }\n",
       "\n",
       "    .dataframe thead th {\n",
       "        text-align: right;\n",
       "    }\n",
       "</style>\n",
       "<table border=\"1\" class=\"dataframe\">\n",
       "  <thead>\n",
       "    <tr style=\"text-align: right;\">\n",
       "      <th></th>\n",
       "      <th>id</th>\n",
       "      <th>text</th>\n",
       "      <th>pronoun</th>\n",
       "      <th>pronoun_offset</th>\n",
       "      <th>a</th>\n",
       "      <th>a_offset</th>\n",
       "      <th>url</th>\n",
       "    </tr>\n",
       "  </thead>\n",
       "  <tbody>\n",
       "    <tr>\n",
       "      <th>0</th>\n",
       "      <td>na</td>\n",
       "      <td>Tilton first made contact with Dozenberg when ...</td>\n",
       "      <td>him</td>\n",
       "      <td>220</td>\n",
       "      <td>Tilton</td>\n",
       "      <td>291</td>\n",
       "      <td>na</td>\n",
       "    </tr>\n",
       "  </tbody>\n",
       "</table>\n",
       "</div>"
      ],
      "text/plain": [
       "   id                                               text pronoun  \\\n",
       "0  na  Tilton first made contact with Dozenberg when ...     him   \n",
       "\n",
       "   pronoun_offset       a  a_offset url  \n",
       "0             220  Tilton       291  na  "
      ]
     },
     "metadata": {},
     "output_type": "display_data"
    },
    {
     "name": "stderr",
     "output_type": "stream",
     "text": [
      "Initializing Step InputReader\n",
      "Step InputReader initialized\n",
      "Initializing Step LabelSanitizer\n",
      "Step LabelSanitizer initialized\n",
      "Initializing Step MentionsAnnotator\n",
      "Step MentionsAnnotator initialized\n",
      "Initializing Step gather_step\n",
      "STEPPY WARNING: Step with name \"InputReader\", already exist. Make sure that all Steps have unique name.\n",
      "Step gather_step initialized\n",
      "Step gather_step, working in \"inference\" mode\n",
      "Step InputReader, working in \"inference\" mode\n",
      "Step InputReader, adapting inputs\n",
      "Step InputReader, transforming...\n",
      "Step InputReader, transforming completed\n",
      "Step InputReader, transform completed\n",
      "Step LabelSanitizer, working in \"inference\" mode\n",
      "Step LabelSanitizer, adapting inputs\n",
      "Step LabelSanitizer, transforming...\n",
      "Step LabelSanitizer, transforming completed\n",
      "Step LabelSanitizer, transform completed\n",
      "Step MentionsAnnotator, working in \"inference\" mode\n",
      "Step InputReader, working in \"inference\" mode\n",
      "Step InputReader, adapting inputs\n",
      "Step InputReader, transforming...\n",
      "Step InputReader, transforming completed\n",
      "Step InputReader, transform completed\n",
      "Step MentionsAnnotator, unpacking inputs\n",
      "Step MentionsAnnotator, transforming...\n"
     ]
    },
    {
     "name": "stdout",
     "output_type": "stream",
     "text": [
      "Transforming data to features.\n",
      "------BEFORE DATA PIPELINE------- results/probert\n",
      "Empty DataFrame\n",
      "Columns: [id, label]\n",
      "Index: []\n"
     ]
    },
    {
     "name": "stderr",
     "output_type": "stream",
     "text": [
      "Extracting coref clusters...: 100%|██████████| 1/1 [00:00<00:00, 639.57it/s]\n",
      "Step MentionsAnnotator, transforming completed\n",
      "Step MentionsAnnotator, transform completed\n",
      "Step gather_step, adapting inputs\n",
      "Step gather_step, transforming...\n",
      "Step gather_step, transforming completed\n",
      "Step gather_step, transform completed\n"
     ]
    },
    {
     "name": "stdout",
     "output_type": "stream",
     "text": [
      "Transforming data to features done.\n",
      " Log a couple of examples for sanity check.\n",
      "\n"
     ]
    },
    {
     "name": "stderr",
     "output_type": "stream",
     "text": [
      "Convert Examples to features: 1it [00:00, 237.69it/s]\n",
      "Evaluating:   0%|          | 0/1 [00:00<?, ?it/s]/dccstor/media-bias-4374/gender-ambiguity-detectors/gap/models/gap/probert.py:35: UserWarning: indexing with dtype torch.uint8 is now deprecated, please use a dtype torch.bool instead. (Triggered internally at  ../aten/src/ATen/native/IndexingUtils.h:28.)\n",
      "  sequence_output = sequence_output[~gpr_tags_mask].view(batch_size, -1, self.config.hidden_size)\n",
      "Evaluating: 100%|██████████| 1/1 [00:04<00:00,  4.22s/it]"
     ]
    },
    {
     "name": "stdout",
     "output_type": "stream",
     "text": [
      "[0.7499299 0.2500701]\n",
      "Known pronoun 'him' resolves 'True' to 'Tilton' with a probability of '0.7499299049377441'\n"
     ]
    },
    {
     "name": "stderr",
     "output_type": "stream",
     "text": [
      "\n"
     ]
    },
    {
     "data": {
      "text/html": [
       "<div>\n",
       "<style scoped>\n",
       "    .dataframe tbody tr th:only-of-type {\n",
       "        vertical-align: middle;\n",
       "    }\n",
       "\n",
       "    .dataframe tbody tr th {\n",
       "        vertical-align: top;\n",
       "    }\n",
       "\n",
       "    .dataframe thead th {\n",
       "        text-align: right;\n",
       "    }\n",
       "</style>\n",
       "<table border=\"1\" class=\"dataframe\">\n",
       "  <thead>\n",
       "    <tr style=\"text-align: right;\">\n",
       "      <th></th>\n",
       "      <th>id</th>\n",
       "      <th>text</th>\n",
       "      <th>pronoun</th>\n",
       "      <th>pronoun_offset</th>\n",
       "      <th>a</th>\n",
       "      <th>a_offset</th>\n",
       "      <th>url</th>\n",
       "    </tr>\n",
       "  </thead>\n",
       "  <tbody>\n",
       "    <tr>\n",
       "      <th>0</th>\n",
       "      <td>na</td>\n",
       "      <td>Tilton first made contact with Dozenberg when ...</td>\n",
       "      <td>him</td>\n",
       "      <td>220</td>\n",
       "      <td>Dozenberg</td>\n",
       "      <td>31</td>\n",
       "      <td>na</td>\n",
       "    </tr>\n",
       "  </tbody>\n",
       "</table>\n",
       "</div>"
      ],
      "text/plain": [
       "   id                                               text pronoun  \\\n",
       "0  na  Tilton first made contact with Dozenberg when ...     him   \n",
       "\n",
       "   pronoun_offset          a  a_offset url  \n",
       "0             220  Dozenberg        31  na  "
      ]
     },
     "metadata": {},
     "output_type": "display_data"
    },
    {
     "name": "stderr",
     "output_type": "stream",
     "text": [
      "Initializing Step InputReader\n",
      "Step InputReader initialized\n",
      "Initializing Step LabelSanitizer\n",
      "Step LabelSanitizer initialized\n",
      "Initializing Step MentionsAnnotator\n",
      "Step MentionsAnnotator initialized\n",
      "Initializing Step gather_step\n",
      "STEPPY WARNING: Step with name \"InputReader\", already exist. Make sure that all Steps have unique name.\n",
      "Step gather_step initialized\n",
      "Step gather_step, working in \"inference\" mode\n",
      "Step InputReader, working in \"inference\" mode\n",
      "Step InputReader, adapting inputs\n",
      "Step InputReader, transforming...\n",
      "Step InputReader, transforming completed\n",
      "Step InputReader, transform completed\n",
      "Step LabelSanitizer, working in \"inference\" mode\n",
      "Step LabelSanitizer, adapting inputs\n",
      "Step LabelSanitizer, transforming...\n",
      "Step LabelSanitizer, transforming completed\n",
      "Step LabelSanitizer, transform completed\n",
      "Step MentionsAnnotator, working in \"inference\" mode\n",
      "Step InputReader, working in \"inference\" mode\n",
      "Step InputReader, adapting inputs\n",
      "Step InputReader, transforming...\n",
      "Step InputReader, transforming completed\n",
      "Step InputReader, transform completed\n",
      "Step MentionsAnnotator, unpacking inputs\n",
      "Step MentionsAnnotator, transforming...\n"
     ]
    },
    {
     "name": "stdout",
     "output_type": "stream",
     "text": [
      "Transforming data to features.\n",
      "------BEFORE DATA PIPELINE------- results/probert\n",
      "Empty DataFrame\n",
      "Columns: [id, label]\n",
      "Index: []\n"
     ]
    },
    {
     "name": "stderr",
     "output_type": "stream",
     "text": [
      "Extracting coref clusters...: 100%|██████████| 1/1 [00:00<00:00, 675.52it/s]\n",
      "Step MentionsAnnotator, transforming completed\n",
      "Step MentionsAnnotator, transform completed\n",
      "Step gather_step, adapting inputs\n",
      "Step gather_step, transforming...\n",
      "Step gather_step, transforming completed\n",
      "Step gather_step, transform completed\n"
     ]
    },
    {
     "name": "stdout",
     "output_type": "stream",
     "text": [
      "Transforming data to features done.\n",
      " Log a couple of examples for sanity check.\n",
      "\n"
     ]
    },
    {
     "name": "stderr",
     "output_type": "stream",
     "text": [
      "Convert Examples to features: 1it [00:00, 248.65it/s]\n",
      "Evaluating:   0%|          | 0/1 [00:00<?, ?it/s]/dccstor/media-bias-4374/gender-ambiguity-detectors/gap/models/gap/probert.py:35: UserWarning: indexing with dtype torch.uint8 is now deprecated, please use a dtype torch.bool instead. (Triggered internally at  ../aten/src/ATen/native/IndexingUtils.h:28.)\n",
      "  sequence_output = sequence_output[~gpr_tags_mask].view(batch_size, -1, self.config.hidden_size)\n",
      "Evaluating: 100%|██████████| 1/1 [00:04<00:00,  4.23s/it]"
     ]
    },
    {
     "name": "stdout",
     "output_type": "stream",
     "text": [
      "[0.6148573  0.38514268]\n",
      "Known pronoun 'him' resolves 'True' to 'Dozenberg' with a probability of '0.6148573160171509'\n"
     ]
    },
    {
     "name": "stderr",
     "output_type": "stream",
     "text": [
      "\n"
     ]
    },
    {
     "data": {
      "text/html": [
       "<div>\n",
       "<style scoped>\n",
       "    .dataframe tbody tr th:only-of-type {\n",
       "        vertical-align: middle;\n",
       "    }\n",
       "\n",
       "    .dataframe tbody tr th {\n",
       "        vertical-align: top;\n",
       "    }\n",
       "\n",
       "    .dataframe thead th {\n",
       "        text-align: right;\n",
       "    }\n",
       "</style>\n",
       "<table border=\"1\" class=\"dataframe\">\n",
       "  <thead>\n",
       "    <tr style=\"text-align: right;\">\n",
       "      <th></th>\n",
       "      <th>id</th>\n",
       "      <th>text</th>\n",
       "      <th>pronoun</th>\n",
       "      <th>pronoun_offset</th>\n",
       "      <th>a</th>\n",
       "      <th>a_offset</th>\n",
       "      <th>url</th>\n",
       "    </tr>\n",
       "  </thead>\n",
       "  <tbody>\n",
       "    <tr>\n",
       "      <th>0</th>\n",
       "      <td>na</td>\n",
       "      <td>Tilton first made contact with Dozenberg when ...</td>\n",
       "      <td>him</td>\n",
       "      <td>220</td>\n",
       "      <td>Dozenberg</td>\n",
       "      <td>139</td>\n",
       "      <td>na</td>\n",
       "    </tr>\n",
       "  </tbody>\n",
       "</table>\n",
       "</div>"
      ],
      "text/plain": [
       "   id                                               text pronoun  \\\n",
       "0  na  Tilton first made contact with Dozenberg when ...     him   \n",
       "\n",
       "   pronoun_offset          a  a_offset url  \n",
       "0             220  Dozenberg       139  na  "
      ]
     },
     "metadata": {},
     "output_type": "display_data"
    },
    {
     "name": "stderr",
     "output_type": "stream",
     "text": [
      "Initializing Step InputReader\n",
      "Step InputReader initialized\n",
      "Initializing Step LabelSanitizer\n",
      "Step LabelSanitizer initialized\n",
      "Initializing Step MentionsAnnotator\n",
      "Step MentionsAnnotator initialized\n",
      "Initializing Step gather_step\n",
      "STEPPY WARNING: Step with name \"InputReader\", already exist. Make sure that all Steps have unique name.\n",
      "Step gather_step initialized\n",
      "Step gather_step, working in \"inference\" mode\n",
      "Step InputReader, working in \"inference\" mode\n",
      "Step InputReader, adapting inputs\n",
      "Step InputReader, transforming...\n",
      "Step InputReader, transforming completed\n",
      "Step InputReader, transform completed\n",
      "Step LabelSanitizer, working in \"inference\" mode\n",
      "Step LabelSanitizer, adapting inputs\n",
      "Step LabelSanitizer, transforming...\n",
      "Step LabelSanitizer, transforming completed\n",
      "Step LabelSanitizer, transform completed\n",
      "Step MentionsAnnotator, working in \"inference\" mode\n",
      "Step InputReader, working in \"inference\" mode\n",
      "Step InputReader, adapting inputs\n",
      "Step InputReader, transforming...\n",
      "Step InputReader, transforming completed\n",
      "Step InputReader, transform completed\n",
      "Step MentionsAnnotator, unpacking inputs\n",
      "Step MentionsAnnotator, transforming...\n"
     ]
    },
    {
     "name": "stdout",
     "output_type": "stream",
     "text": [
      "Transforming data to features.\n",
      "------BEFORE DATA PIPELINE------- results/probert\n",
      "Empty DataFrame\n",
      "Columns: [id, label]\n",
      "Index: []\n"
     ]
    },
    {
     "name": "stderr",
     "output_type": "stream",
     "text": [
      "Extracting coref clusters...: 100%|██████████| 1/1 [00:00<00:00, 794.68it/s]\n",
      "Step MentionsAnnotator, transforming completed\n",
      "Step MentionsAnnotator, transform completed\n",
      "Step gather_step, adapting inputs\n",
      "Step gather_step, transforming...\n",
      "Step gather_step, transforming completed\n",
      "Step gather_step, transform completed\n"
     ]
    },
    {
     "name": "stdout",
     "output_type": "stream",
     "text": [
      "Transforming data to features done.\n",
      " Log a couple of examples for sanity check.\n",
      "\n"
     ]
    },
    {
     "name": "stderr",
     "output_type": "stream",
     "text": [
      "Convert Examples to features: 1it [00:00, 266.61it/s]\n",
      "Evaluating:   0%|          | 0/1 [00:00<?, ?it/s]/dccstor/media-bias-4374/gender-ambiguity-detectors/gap/models/gap/probert.py:35: UserWarning: indexing with dtype torch.uint8 is now deprecated, please use a dtype torch.bool instead. (Triggered internally at  ../aten/src/ATen/native/IndexingUtils.h:28.)\n",
      "  sequence_output = sequence_output[~gpr_tags_mask].view(batch_size, -1, self.config.hidden_size)\n",
      "Evaluating: 100%|██████████| 1/1 [00:04<00:00,  4.27s/it]"
     ]
    },
    {
     "name": "stdout",
     "output_type": "stream",
     "text": [
      "[0.29808053 0.7019195 ]\n",
      "Known pronoun 'him' resolves 'False' to 'Dozenberg' with a probability of '0.7019194960594177'\n"
     ]
    },
    {
     "name": "stderr",
     "output_type": "stream",
     "text": [
      "\n"
     ]
    },
    {
     "data": {
      "text/html": [
       "<div>\n",
       "<style scoped>\n",
       "    .dataframe tbody tr th:only-of-type {\n",
       "        vertical-align: middle;\n",
       "    }\n",
       "\n",
       "    .dataframe tbody tr th {\n",
       "        vertical-align: top;\n",
       "    }\n",
       "\n",
       "    .dataframe thead th {\n",
       "        text-align: right;\n",
       "    }\n",
       "</style>\n",
       "<table border=\"1\" class=\"dataframe\">\n",
       "  <thead>\n",
       "    <tr style=\"text-align: right;\">\n",
       "      <th></th>\n",
       "      <th>id</th>\n",
       "      <th>text</th>\n",
       "      <th>pronoun</th>\n",
       "      <th>pronoun_offset</th>\n",
       "      <th>a</th>\n",
       "      <th>a_offset</th>\n",
       "      <th>url</th>\n",
       "    </tr>\n",
       "  </thead>\n",
       "  <tbody>\n",
       "    <tr>\n",
       "      <th>0</th>\n",
       "      <td>na</td>\n",
       "      <td>Tilton first made contact with Dozenberg when ...</td>\n",
       "      <td>him</td>\n",
       "      <td>220</td>\n",
       "      <td>Dozenberg</td>\n",
       "      <td>202</td>\n",
       "      <td>na</td>\n",
       "    </tr>\n",
       "  </tbody>\n",
       "</table>\n",
       "</div>"
      ],
      "text/plain": [
       "   id                                               text pronoun  \\\n",
       "0  na  Tilton first made contact with Dozenberg when ...     him   \n",
       "\n",
       "   pronoun_offset          a  a_offset url  \n",
       "0             220  Dozenberg       202  na  "
      ]
     },
     "metadata": {},
     "output_type": "display_data"
    },
    {
     "name": "stderr",
     "output_type": "stream",
     "text": [
      "Initializing Step InputReader\n",
      "Step InputReader initialized\n",
      "Initializing Step LabelSanitizer\n",
      "Step LabelSanitizer initialized\n",
      "Initializing Step MentionsAnnotator\n",
      "Step MentionsAnnotator initialized\n",
      "Initializing Step gather_step\n",
      "STEPPY WARNING: Step with name \"InputReader\", already exist. Make sure that all Steps have unique name.\n",
      "Step gather_step initialized\n",
      "Step gather_step, working in \"inference\" mode\n",
      "Step InputReader, working in \"inference\" mode\n",
      "Step InputReader, adapting inputs\n",
      "Step InputReader, transforming...\n",
      "Step InputReader, transforming completed\n",
      "Step InputReader, transform completed\n",
      "Step LabelSanitizer, working in \"inference\" mode\n",
      "Step LabelSanitizer, adapting inputs\n",
      "Step LabelSanitizer, transforming...\n",
      "Step LabelSanitizer, transforming completed\n",
      "Step LabelSanitizer, transform completed\n",
      "Step MentionsAnnotator, working in \"inference\" mode\n",
      "Step InputReader, working in \"inference\" mode\n",
      "Step InputReader, adapting inputs\n",
      "Step InputReader, transforming...\n",
      "Step InputReader, transforming completed\n",
      "Step InputReader, transform completed\n",
      "Step MentionsAnnotator, unpacking inputs\n",
      "Step MentionsAnnotator, transforming...\n"
     ]
    },
    {
     "name": "stdout",
     "output_type": "stream",
     "text": [
      "Transforming data to features.\n",
      "------BEFORE DATA PIPELINE------- results/probert\n",
      "Empty DataFrame\n",
      "Columns: [id, label]\n",
      "Index: []\n"
     ]
    },
    {
     "name": "stderr",
     "output_type": "stream",
     "text": [
      "Extracting coref clusters...: 100%|██████████| 1/1 [00:00<00:00, 770.02it/s]\n",
      "Step MentionsAnnotator, transforming completed\n",
      "Step MentionsAnnotator, transform completed\n",
      "Step gather_step, adapting inputs\n",
      "Step gather_step, transforming...\n",
      "Step gather_step, transforming completed\n",
      "Step gather_step, transform completed\n"
     ]
    },
    {
     "name": "stdout",
     "output_type": "stream",
     "text": [
      "Transforming data to features done.\n",
      " Log a couple of examples for sanity check.\n",
      "\n"
     ]
    },
    {
     "name": "stderr",
     "output_type": "stream",
     "text": [
      "Convert Examples to features: 1it [00:00, 224.45it/s]\n",
      "Evaluating:   0%|          | 0/1 [00:00<?, ?it/s]/dccstor/media-bias-4374/gender-ambiguity-detectors/gap/models/gap/probert.py:35: UserWarning: indexing with dtype torch.uint8 is now deprecated, please use a dtype torch.bool instead. (Triggered internally at  ../aten/src/ATen/native/IndexingUtils.h:28.)\n",
      "  sequence_output = sequence_output[~gpr_tags_mask].view(batch_size, -1, self.config.hidden_size)\n",
      "Evaluating: 100%|██████████| 1/1 [00:04<00:00,  4.24s/it]"
     ]
    },
    {
     "name": "stdout",
     "output_type": "stream",
     "text": [
      "[0.70966315 0.29033685]\n",
      "Known pronoun 'him' resolves 'True' to 'Dozenberg' with a probability of '0.7096631526947021'\n"
     ]
    },
    {
     "name": "stderr",
     "output_type": "stream",
     "text": [
      "\n"
     ]
    },
    {
     "data": {
      "text/html": [
       "<div>\n",
       "<style scoped>\n",
       "    .dataframe tbody tr th:only-of-type {\n",
       "        vertical-align: middle;\n",
       "    }\n",
       "\n",
       "    .dataframe tbody tr th {\n",
       "        vertical-align: top;\n",
       "    }\n",
       "\n",
       "    .dataframe thead th {\n",
       "        text-align: right;\n",
       "    }\n",
       "</style>\n",
       "<table border=\"1\" class=\"dataframe\">\n",
       "  <thead>\n",
       "    <tr style=\"text-align: right;\">\n",
       "      <th></th>\n",
       "      <th>id</th>\n",
       "      <th>text</th>\n",
       "      <th>pronoun</th>\n",
       "      <th>pronoun_offset</th>\n",
       "      <th>a</th>\n",
       "      <th>a_offset</th>\n",
       "      <th>url</th>\n",
       "    </tr>\n",
       "  </thead>\n",
       "  <tbody>\n",
       "    <tr>\n",
       "      <th>0</th>\n",
       "      <td>na</td>\n",
       "      <td>Tilton first made contact with Dozenberg when ...</td>\n",
       "      <td>him</td>\n",
       "      <td>220</td>\n",
       "      <td>Dozenberg</td>\n",
       "      <td>307</td>\n",
       "      <td>na</td>\n",
       "    </tr>\n",
       "  </tbody>\n",
       "</table>\n",
       "</div>"
      ],
      "text/plain": [
       "   id                                               text pronoun  \\\n",
       "0  na  Tilton first made contact with Dozenberg when ...     him   \n",
       "\n",
       "   pronoun_offset          a  a_offset url  \n",
       "0             220  Dozenberg       307  na  "
      ]
     },
     "metadata": {},
     "output_type": "display_data"
    },
    {
     "name": "stderr",
     "output_type": "stream",
     "text": [
      "Initializing Step InputReader\n",
      "Step InputReader initialized\n",
      "Initializing Step LabelSanitizer\n",
      "Step LabelSanitizer initialized\n",
      "Initializing Step MentionsAnnotator\n",
      "Step MentionsAnnotator initialized\n",
      "Initializing Step gather_step\n",
      "STEPPY WARNING: Step with name \"InputReader\", already exist. Make sure that all Steps have unique name.\n",
      "Step gather_step initialized\n",
      "Step gather_step, working in \"inference\" mode\n",
      "Step InputReader, working in \"inference\" mode\n",
      "Step InputReader, adapting inputs\n",
      "Step InputReader, transforming...\n",
      "Step InputReader, transforming completed\n",
      "Step InputReader, transform completed\n",
      "Step LabelSanitizer, working in \"inference\" mode\n",
      "Step LabelSanitizer, adapting inputs\n",
      "Step LabelSanitizer, transforming...\n",
      "Step LabelSanitizer, transforming completed\n",
      "Step LabelSanitizer, transform completed\n",
      "Step MentionsAnnotator, working in \"inference\" mode\n",
      "Step InputReader, working in \"inference\" mode\n",
      "Step InputReader, adapting inputs\n",
      "Step InputReader, transforming...\n",
      "Step InputReader, transforming completed\n",
      "Step InputReader, transform completed\n",
      "Step MentionsAnnotator, unpacking inputs\n",
      "Step MentionsAnnotator, transforming...\n"
     ]
    },
    {
     "name": "stdout",
     "output_type": "stream",
     "text": [
      "Transforming data to features.\n",
      "------BEFORE DATA PIPELINE------- results/probert\n",
      "Empty DataFrame\n",
      "Columns: [id, label]\n",
      "Index: []\n"
     ]
    },
    {
     "name": "stderr",
     "output_type": "stream",
     "text": [
      "Extracting coref clusters...: 100%|██████████| 1/1 [00:00<00:00, 683.89it/s]\n",
      "Step MentionsAnnotator, transforming completed\n",
      "Step MentionsAnnotator, transform completed\n",
      "Step gather_step, adapting inputs\n",
      "Step gather_step, transforming...\n",
      "Step gather_step, transforming completed\n",
      "Step gather_step, transform completed\n"
     ]
    },
    {
     "name": "stdout",
     "output_type": "stream",
     "text": [
      "Transforming data to features done.\n",
      " Log a couple of examples for sanity check.\n",
      "\n"
     ]
    },
    {
     "name": "stderr",
     "output_type": "stream",
     "text": [
      "Convert Examples to features: 1it [00:00, 252.64it/s]\n",
      "Evaluating:   0%|          | 0/1 [00:00<?, ?it/s]/dccstor/media-bias-4374/gender-ambiguity-detectors/gap/models/gap/probert.py:35: UserWarning: indexing with dtype torch.uint8 is now deprecated, please use a dtype torch.bool instead. (Triggered internally at  ../aten/src/ATen/native/IndexingUtils.h:28.)\n",
      "  sequence_output = sequence_output[~gpr_tags_mask].view(batch_size, -1, self.config.hidden_size)\n",
      "Evaluating: 100%|██████████| 1/1 [00:04<00:00,  4.25s/it]"
     ]
    },
    {
     "name": "stdout",
     "output_type": "stream",
     "text": [
      "[0.06008708 0.9399129 ]\n",
      "Known pronoun 'him' resolves 'False' to 'Dozenberg' with a probability of '0.9399129152297974'\n"
     ]
    },
    {
     "name": "stderr",
     "output_type": "stream",
     "text": [
      "\n"
     ]
    },
    {
     "data": {
      "text/html": [
       "<div>\n",
       "<style scoped>\n",
       "    .dataframe tbody tr th:only-of-type {\n",
       "        vertical-align: middle;\n",
       "    }\n",
       "\n",
       "    .dataframe tbody tr th {\n",
       "        vertical-align: top;\n",
       "    }\n",
       "\n",
       "    .dataframe thead th {\n",
       "        text-align: right;\n",
       "    }\n",
       "</style>\n",
       "<table border=\"1\" class=\"dataframe\">\n",
       "  <thead>\n",
       "    <tr style=\"text-align: right;\">\n",
       "      <th></th>\n",
       "      <th>id</th>\n",
       "      <th>text</th>\n",
       "      <th>pronoun</th>\n",
       "      <th>pronoun_offset</th>\n",
       "      <th>a</th>\n",
       "      <th>a_offset</th>\n",
       "      <th>url</th>\n",
       "    </tr>\n",
       "  </thead>\n",
       "  <tbody>\n",
       "    <tr>\n",
       "      <th>0</th>\n",
       "      <td>na</td>\n",
       "      <td>Tilton first made contact with Dozenberg when ...</td>\n",
       "      <td>him</td>\n",
       "      <td>220</td>\n",
       "      <td>Dozenberg</td>\n",
       "      <td>380</td>\n",
       "      <td>na</td>\n",
       "    </tr>\n",
       "  </tbody>\n",
       "</table>\n",
       "</div>"
      ],
      "text/plain": [
       "   id                                               text pronoun  \\\n",
       "0  na  Tilton first made contact with Dozenberg when ...     him   \n",
       "\n",
       "   pronoun_offset          a  a_offset url  \n",
       "0             220  Dozenberg       380  na  "
      ]
     },
     "metadata": {},
     "output_type": "display_data"
    },
    {
     "name": "stderr",
     "output_type": "stream",
     "text": [
      "Initializing Step InputReader\n",
      "Step InputReader initialized\n",
      "Initializing Step LabelSanitizer\n",
      "Step LabelSanitizer initialized\n",
      "Initializing Step MentionsAnnotator\n",
      "Step MentionsAnnotator initialized\n",
      "Initializing Step gather_step\n",
      "STEPPY WARNING: Step with name \"InputReader\", already exist. Make sure that all Steps have unique name.\n",
      "Step gather_step initialized\n",
      "Step gather_step, working in \"inference\" mode\n",
      "Step InputReader, working in \"inference\" mode\n",
      "Step InputReader, adapting inputs\n",
      "Step InputReader, transforming...\n",
      "Step InputReader, transforming completed\n",
      "Step InputReader, transform completed\n",
      "Step LabelSanitizer, working in \"inference\" mode\n",
      "Step LabelSanitizer, adapting inputs\n",
      "Step LabelSanitizer, transforming...\n",
      "Step LabelSanitizer, transforming completed\n",
      "Step LabelSanitizer, transform completed\n",
      "Step MentionsAnnotator, working in \"inference\" mode\n",
      "Step InputReader, working in \"inference\" mode\n",
      "Step InputReader, adapting inputs\n",
      "Step InputReader, transforming...\n",
      "Step InputReader, transforming completed\n",
      "Step InputReader, transform completed\n",
      "Step MentionsAnnotator, unpacking inputs\n",
      "Step MentionsAnnotator, transforming...\n"
     ]
    },
    {
     "name": "stdout",
     "output_type": "stream",
     "text": [
      "Transforming data to features.\n",
      "------BEFORE DATA PIPELINE------- results/probert\n",
      "Empty DataFrame\n",
      "Columns: [id, label]\n",
      "Index: []\n"
     ]
    },
    {
     "name": "stderr",
     "output_type": "stream",
     "text": [
      "Extracting coref clusters...: 100%|██████████| 1/1 [00:00<00:00, 727.04it/s]\n",
      "Step MentionsAnnotator, transforming completed\n",
      "Step MentionsAnnotator, transform completed\n",
      "Step gather_step, adapting inputs\n",
      "Step gather_step, transforming...\n",
      "Step gather_step, transforming completed\n",
      "Step gather_step, transform completed\n"
     ]
    },
    {
     "name": "stdout",
     "output_type": "stream",
     "text": [
      "Transforming data to features done.\n",
      " Log a couple of examples for sanity check.\n",
      "\n"
     ]
    },
    {
     "name": "stderr",
     "output_type": "stream",
     "text": [
      "Convert Examples to features: 1it [00:00, 260.92it/s]\n",
      "Evaluating:   0%|          | 0/1 [00:00<?, ?it/s]/dccstor/media-bias-4374/gender-ambiguity-detectors/gap/models/gap/probert.py:35: UserWarning: indexing with dtype torch.uint8 is now deprecated, please use a dtype torch.bool instead. (Triggered internally at  ../aten/src/ATen/native/IndexingUtils.h:28.)\n",
      "  sequence_output = sequence_output[~gpr_tags_mask].view(batch_size, -1, self.config.hidden_size)\n",
      "Evaluating: 100%|██████████| 1/1 [00:04<00:00,  4.28s/it]"
     ]
    },
    {
     "name": "stdout",
     "output_type": "stream",
     "text": [
      "[0.5409219  0.45907807]\n",
      "Known pronoun 'him' resolves 'True' to 'Dozenberg' with a probability of '0.5409219264984131'\n"
     ]
    },
    {
     "name": "stderr",
     "output_type": "stream",
     "text": [
      "\n"
     ]
    },
    {
     "data": {
      "text/html": [
       "<div>\n",
       "<style scoped>\n",
       "    .dataframe tbody tr th:only-of-type {\n",
       "        vertical-align: middle;\n",
       "    }\n",
       "\n",
       "    .dataframe tbody tr th {\n",
       "        vertical-align: top;\n",
       "    }\n",
       "\n",
       "    .dataframe thead th {\n",
       "        text-align: right;\n",
       "    }\n",
       "</style>\n",
       "<table border=\"1\" class=\"dataframe\">\n",
       "  <thead>\n",
       "    <tr style=\"text-align: right;\">\n",
       "      <th></th>\n",
       "      <th>id</th>\n",
       "      <th>text</th>\n",
       "      <th>pronoun</th>\n",
       "      <th>pronoun_offset</th>\n",
       "      <th>a</th>\n",
       "      <th>a_offset</th>\n",
       "      <th>url</th>\n",
       "    </tr>\n",
       "  </thead>\n",
       "  <tbody>\n",
       "    <tr>\n",
       "      <th>0</th>\n",
       "      <td>na</td>\n",
       "      <td>Tilton first made contact with Dozenberg when ...</td>\n",
       "      <td>his</td>\n",
       "      <td>399</td>\n",
       "      <td>Tilton</td>\n",
       "      <td>0</td>\n",
       "      <td>na</td>\n",
       "    </tr>\n",
       "  </tbody>\n",
       "</table>\n",
       "</div>"
      ],
      "text/plain": [
       "   id                                               text pronoun  \\\n",
       "0  na  Tilton first made contact with Dozenberg when ...     his   \n",
       "\n",
       "   pronoun_offset       a  a_offset url  \n",
       "0             399  Tilton         0  na  "
      ]
     },
     "metadata": {},
     "output_type": "display_data"
    },
    {
     "name": "stderr",
     "output_type": "stream",
     "text": [
      "Initializing Step InputReader\n",
      "Step InputReader initialized\n",
      "Initializing Step LabelSanitizer\n",
      "Step LabelSanitizer initialized\n",
      "Initializing Step MentionsAnnotator\n",
      "Step MentionsAnnotator initialized\n",
      "Initializing Step gather_step\n",
      "STEPPY WARNING: Step with name \"InputReader\", already exist. Make sure that all Steps have unique name.\n",
      "Step gather_step initialized\n",
      "Step gather_step, working in \"inference\" mode\n",
      "Step InputReader, working in \"inference\" mode\n",
      "Step InputReader, adapting inputs\n",
      "Step InputReader, transforming...\n",
      "Step InputReader, transforming completed\n",
      "Step InputReader, transform completed\n",
      "Step LabelSanitizer, working in \"inference\" mode\n",
      "Step LabelSanitizer, adapting inputs\n",
      "Step LabelSanitizer, transforming...\n",
      "Step LabelSanitizer, transforming completed\n",
      "Step LabelSanitizer, transform completed\n",
      "Step MentionsAnnotator, working in \"inference\" mode\n",
      "Step InputReader, working in \"inference\" mode\n",
      "Step InputReader, adapting inputs\n",
      "Step InputReader, transforming...\n",
      "Step InputReader, transforming completed\n",
      "Step InputReader, transform completed\n",
      "Step MentionsAnnotator, unpacking inputs\n",
      "Step MentionsAnnotator, transforming...\n"
     ]
    },
    {
     "name": "stdout",
     "output_type": "stream",
     "text": [
      "Transforming data to features.\n",
      "------BEFORE DATA PIPELINE------- results/probert\n",
      "Empty DataFrame\n",
      "Columns: [id, label]\n",
      "Index: []\n"
     ]
    },
    {
     "name": "stderr",
     "output_type": "stream",
     "text": [
      "Extracting coref clusters...: 100%|██████████| 1/1 [00:00<00:00, 766.78it/s]\n",
      "Step MentionsAnnotator, transforming completed\n",
      "Step MentionsAnnotator, transform completed\n",
      "Step gather_step, adapting inputs\n",
      "Step gather_step, transforming...\n",
      "Step gather_step, transforming completed\n",
      "Step gather_step, transform completed\n"
     ]
    },
    {
     "name": "stdout",
     "output_type": "stream",
     "text": [
      "Transforming data to features done.\n",
      " Log a couple of examples for sanity check.\n",
      "\n"
     ]
    },
    {
     "name": "stderr",
     "output_type": "stream",
     "text": [
      "Convert Examples to features: 1it [00:00, 236.99it/s]\n",
      "Evaluating:   0%|          | 0/1 [00:00<?, ?it/s]/dccstor/media-bias-4374/gender-ambiguity-detectors/gap/models/gap/probert.py:35: UserWarning: indexing with dtype torch.uint8 is now deprecated, please use a dtype torch.bool instead. (Triggered internally at  ../aten/src/ATen/native/IndexingUtils.h:28.)\n",
      "  sequence_output = sequence_output[~gpr_tags_mask].view(batch_size, -1, self.config.hidden_size)\n",
      "Evaluating: 100%|██████████| 1/1 [00:04<00:00,  4.24s/it]"
     ]
    },
    {
     "name": "stdout",
     "output_type": "stream",
     "text": [
      "[0.5469478 0.4530522]\n",
      "Known pronoun 'his' resolves 'True' to 'Tilton' with a probability of '0.5469477772712708'\n"
     ]
    },
    {
     "name": "stderr",
     "output_type": "stream",
     "text": [
      "\n"
     ]
    },
    {
     "data": {
      "text/html": [
       "<div>\n",
       "<style scoped>\n",
       "    .dataframe tbody tr th:only-of-type {\n",
       "        vertical-align: middle;\n",
       "    }\n",
       "\n",
       "    .dataframe tbody tr th {\n",
       "        vertical-align: top;\n",
       "    }\n",
       "\n",
       "    .dataframe thead th {\n",
       "        text-align: right;\n",
       "    }\n",
       "</style>\n",
       "<table border=\"1\" class=\"dataframe\">\n",
       "  <thead>\n",
       "    <tr style=\"text-align: right;\">\n",
       "      <th></th>\n",
       "      <th>id</th>\n",
       "      <th>text</th>\n",
       "      <th>pronoun</th>\n",
       "      <th>pronoun_offset</th>\n",
       "      <th>a</th>\n",
       "      <th>a_offset</th>\n",
       "      <th>url</th>\n",
       "    </tr>\n",
       "  </thead>\n",
       "  <tbody>\n",
       "    <tr>\n",
       "      <th>0</th>\n",
       "      <td>na</td>\n",
       "      <td>Tilton first made contact with Dozenberg when ...</td>\n",
       "      <td>his</td>\n",
       "      <td>399</td>\n",
       "      <td>Tilton</td>\n",
       "      <td>126</td>\n",
       "      <td>na</td>\n",
       "    </tr>\n",
       "  </tbody>\n",
       "</table>\n",
       "</div>"
      ],
      "text/plain": [
       "   id                                               text pronoun  \\\n",
       "0  na  Tilton first made contact with Dozenberg when ...     his   \n",
       "\n",
       "   pronoun_offset       a  a_offset url  \n",
       "0             399  Tilton       126  na  "
      ]
     },
     "metadata": {},
     "output_type": "display_data"
    },
    {
     "name": "stderr",
     "output_type": "stream",
     "text": [
      "Initializing Step InputReader\n",
      "Step InputReader initialized\n",
      "Initializing Step LabelSanitizer\n",
      "Step LabelSanitizer initialized\n",
      "Initializing Step MentionsAnnotator\n",
      "Step MentionsAnnotator initialized\n",
      "Initializing Step gather_step\n",
      "STEPPY WARNING: Step with name \"InputReader\", already exist. Make sure that all Steps have unique name.\n",
      "Step gather_step initialized\n",
      "Step gather_step, working in \"inference\" mode\n",
      "Step InputReader, working in \"inference\" mode\n",
      "Step InputReader, adapting inputs\n",
      "Step InputReader, transforming...\n",
      "Step InputReader, transforming completed\n",
      "Step InputReader, transform completed\n",
      "Step LabelSanitizer, working in \"inference\" mode\n",
      "Step LabelSanitizer, adapting inputs\n",
      "Step LabelSanitizer, transforming...\n",
      "Step LabelSanitizer, transforming completed\n",
      "Step LabelSanitizer, transform completed\n",
      "Step MentionsAnnotator, working in \"inference\" mode\n",
      "Step InputReader, working in \"inference\" mode\n",
      "Step InputReader, adapting inputs\n",
      "Step InputReader, transforming...\n",
      "Step InputReader, transforming completed\n",
      "Step InputReader, transform completed\n",
      "Step MentionsAnnotator, unpacking inputs\n",
      "Step MentionsAnnotator, transforming...\n"
     ]
    },
    {
     "name": "stdout",
     "output_type": "stream",
     "text": [
      "Transforming data to features.\n",
      "------BEFORE DATA PIPELINE------- results/probert\n",
      "Empty DataFrame\n",
      "Columns: [id, label]\n",
      "Index: []\n"
     ]
    },
    {
     "name": "stderr",
     "output_type": "stream",
     "text": [
      "Extracting coref clusters...: 100%|██████████| 1/1 [00:00<00:00, 637.72it/s]\n",
      "Step MentionsAnnotator, transforming completed\n",
      "Step MentionsAnnotator, transform completed\n",
      "Step gather_step, adapting inputs\n",
      "Step gather_step, transforming...\n",
      "Step gather_step, transforming completed\n",
      "Step gather_step, transform completed\n"
     ]
    },
    {
     "name": "stdout",
     "output_type": "stream",
     "text": [
      "Transforming data to features done.\n",
      " Log a couple of examples for sanity check.\n",
      "\n"
     ]
    },
    {
     "name": "stderr",
     "output_type": "stream",
     "text": [
      "Convert Examples to features: 1it [00:00, 220.83it/s]\n",
      "Evaluating:   0%|          | 0/1 [00:00<?, ?it/s]/dccstor/media-bias-4374/gender-ambiguity-detectors/gap/models/gap/probert.py:35: UserWarning: indexing with dtype torch.uint8 is now deprecated, please use a dtype torch.bool instead. (Triggered internally at  ../aten/src/ATen/native/IndexingUtils.h:28.)\n",
      "  sequence_output = sequence_output[~gpr_tags_mask].view(batch_size, -1, self.config.hidden_size)\n",
      "Evaluating: 100%|██████████| 1/1 [00:04<00:00,  4.36s/it]"
     ]
    },
    {
     "name": "stdout",
     "output_type": "stream",
     "text": [
      "[0.03527577 0.96472424]\n",
      "Known pronoun 'his' resolves 'False' to 'Tilton' with a probability of '0.9647242426872253'\n"
     ]
    },
    {
     "name": "stderr",
     "output_type": "stream",
     "text": [
      "\n"
     ]
    },
    {
     "data": {
      "text/html": [
       "<div>\n",
       "<style scoped>\n",
       "    .dataframe tbody tr th:only-of-type {\n",
       "        vertical-align: middle;\n",
       "    }\n",
       "\n",
       "    .dataframe tbody tr th {\n",
       "        vertical-align: top;\n",
       "    }\n",
       "\n",
       "    .dataframe thead th {\n",
       "        text-align: right;\n",
       "    }\n",
       "</style>\n",
       "<table border=\"1\" class=\"dataframe\">\n",
       "  <thead>\n",
       "    <tr style=\"text-align: right;\">\n",
       "      <th></th>\n",
       "      <th>id</th>\n",
       "      <th>text</th>\n",
       "      <th>pronoun</th>\n",
       "      <th>pronoun_offset</th>\n",
       "      <th>a</th>\n",
       "      <th>a_offset</th>\n",
       "      <th>url</th>\n",
       "    </tr>\n",
       "  </thead>\n",
       "  <tbody>\n",
       "    <tr>\n",
       "      <th>0</th>\n",
       "      <td>na</td>\n",
       "      <td>Tilton first made contact with Dozenberg when ...</td>\n",
       "      <td>his</td>\n",
       "      <td>399</td>\n",
       "      <td>Tilton</td>\n",
       "      <td>291</td>\n",
       "      <td>na</td>\n",
       "    </tr>\n",
       "  </tbody>\n",
       "</table>\n",
       "</div>"
      ],
      "text/plain": [
       "   id                                               text pronoun  \\\n",
       "0  na  Tilton first made contact with Dozenberg when ...     his   \n",
       "\n",
       "   pronoun_offset       a  a_offset url  \n",
       "0             399  Tilton       291  na  "
      ]
     },
     "metadata": {},
     "output_type": "display_data"
    },
    {
     "name": "stderr",
     "output_type": "stream",
     "text": [
      "Initializing Step InputReader\n",
      "Step InputReader initialized\n",
      "Initializing Step LabelSanitizer\n",
      "Step LabelSanitizer initialized\n",
      "Initializing Step MentionsAnnotator\n",
      "Step MentionsAnnotator initialized\n",
      "Initializing Step gather_step\n",
      "STEPPY WARNING: Step with name \"InputReader\", already exist. Make sure that all Steps have unique name.\n",
      "Step gather_step initialized\n",
      "Step gather_step, working in \"inference\" mode\n",
      "Step InputReader, working in \"inference\" mode\n",
      "Step InputReader, adapting inputs\n",
      "Step InputReader, transforming...\n",
      "Step InputReader, transforming completed\n",
      "Step InputReader, transform completed\n",
      "Step LabelSanitizer, working in \"inference\" mode\n",
      "Step LabelSanitizer, adapting inputs\n",
      "Step LabelSanitizer, transforming...\n",
      "Step LabelSanitizer, transforming completed\n",
      "Step LabelSanitizer, transform completed\n",
      "Step MentionsAnnotator, working in \"inference\" mode\n",
      "Step InputReader, working in \"inference\" mode\n",
      "Step InputReader, adapting inputs\n",
      "Step InputReader, transforming...\n",
      "Step InputReader, transforming completed\n",
      "Step InputReader, transform completed\n",
      "Step MentionsAnnotator, unpacking inputs\n",
      "Step MentionsAnnotator, transforming...\n"
     ]
    },
    {
     "name": "stdout",
     "output_type": "stream",
     "text": [
      "Transforming data to features.\n",
      "------BEFORE DATA PIPELINE------- results/probert\n",
      "Empty DataFrame\n",
      "Columns: [id, label]\n",
      "Index: []\n"
     ]
    },
    {
     "name": "stderr",
     "output_type": "stream",
     "text": [
      "Extracting coref clusters...: 100%|██████████| 1/1 [00:00<00:00, 724.40it/s]\n",
      "Step MentionsAnnotator, transforming completed\n",
      "Step MentionsAnnotator, transform completed\n",
      "Step gather_step, adapting inputs\n",
      "Step gather_step, transforming...\n",
      "Step gather_step, transforming completed\n",
      "Step gather_step, transform completed\n"
     ]
    },
    {
     "name": "stdout",
     "output_type": "stream",
     "text": [
      "Transforming data to features done.\n",
      " Log a couple of examples for sanity check.\n",
      "\n"
     ]
    },
    {
     "name": "stderr",
     "output_type": "stream",
     "text": [
      "Convert Examples to features: 1it [00:00, 224.98it/s]\n",
      "Evaluating:   0%|          | 0/1 [00:00<?, ?it/s]/dccstor/media-bias-4374/gender-ambiguity-detectors/gap/models/gap/probert.py:35: UserWarning: indexing with dtype torch.uint8 is now deprecated, please use a dtype torch.bool instead. (Triggered internally at  ../aten/src/ATen/native/IndexingUtils.h:28.)\n",
      "  sequence_output = sequence_output[~gpr_tags_mask].view(batch_size, -1, self.config.hidden_size)\n",
      "Evaluating: 100%|██████████| 1/1 [00:04<00:00,  4.24s/it]"
     ]
    },
    {
     "name": "stdout",
     "output_type": "stream",
     "text": [
      "[0.3279038 0.6720962]\n",
      "Known pronoun 'his' resolves 'False' to 'Tilton' with a probability of '0.6720961928367615'\n"
     ]
    },
    {
     "name": "stderr",
     "output_type": "stream",
     "text": [
      "\n"
     ]
    },
    {
     "data": {
      "text/html": [
       "<div>\n",
       "<style scoped>\n",
       "    .dataframe tbody tr th:only-of-type {\n",
       "        vertical-align: middle;\n",
       "    }\n",
       "\n",
       "    .dataframe tbody tr th {\n",
       "        vertical-align: top;\n",
       "    }\n",
       "\n",
       "    .dataframe thead th {\n",
       "        text-align: right;\n",
       "    }\n",
       "</style>\n",
       "<table border=\"1\" class=\"dataframe\">\n",
       "  <thead>\n",
       "    <tr style=\"text-align: right;\">\n",
       "      <th></th>\n",
       "      <th>id</th>\n",
       "      <th>text</th>\n",
       "      <th>pronoun</th>\n",
       "      <th>pronoun_offset</th>\n",
       "      <th>a</th>\n",
       "      <th>a_offset</th>\n",
       "      <th>url</th>\n",
       "    </tr>\n",
       "  </thead>\n",
       "  <tbody>\n",
       "    <tr>\n",
       "      <th>0</th>\n",
       "      <td>na</td>\n",
       "      <td>Tilton first made contact with Dozenberg when ...</td>\n",
       "      <td>his</td>\n",
       "      <td>399</td>\n",
       "      <td>Dozenberg</td>\n",
       "      <td>31</td>\n",
       "      <td>na</td>\n",
       "    </tr>\n",
       "  </tbody>\n",
       "</table>\n",
       "</div>"
      ],
      "text/plain": [
       "   id                                               text pronoun  \\\n",
       "0  na  Tilton first made contact with Dozenberg when ...     his   \n",
       "\n",
       "   pronoun_offset          a  a_offset url  \n",
       "0             399  Dozenberg        31  na  "
      ]
     },
     "metadata": {},
     "output_type": "display_data"
    },
    {
     "name": "stderr",
     "output_type": "stream",
     "text": [
      "Initializing Step InputReader\n",
      "Step InputReader initialized\n",
      "Initializing Step LabelSanitizer\n",
      "Step LabelSanitizer initialized\n",
      "Initializing Step MentionsAnnotator\n",
      "Step MentionsAnnotator initialized\n",
      "Initializing Step gather_step\n",
      "STEPPY WARNING: Step with name \"InputReader\", already exist. Make sure that all Steps have unique name.\n",
      "Step gather_step initialized\n",
      "Step gather_step, working in \"inference\" mode\n",
      "Step InputReader, working in \"inference\" mode\n",
      "Step InputReader, adapting inputs\n",
      "Step InputReader, transforming...\n",
      "Step InputReader, transforming completed\n",
      "Step InputReader, transform completed\n",
      "Step LabelSanitizer, working in \"inference\" mode\n",
      "Step LabelSanitizer, adapting inputs\n",
      "Step LabelSanitizer, transforming...\n",
      "Step LabelSanitizer, transforming completed\n",
      "Step LabelSanitizer, transform completed\n",
      "Step MentionsAnnotator, working in \"inference\" mode\n",
      "Step InputReader, working in \"inference\" mode\n",
      "Step InputReader, adapting inputs\n",
      "Step InputReader, transforming...\n",
      "Step InputReader, transforming completed\n",
      "Step InputReader, transform completed\n",
      "Step MentionsAnnotator, unpacking inputs\n",
      "Step MentionsAnnotator, transforming...\n"
     ]
    },
    {
     "name": "stdout",
     "output_type": "stream",
     "text": [
      "Transforming data to features.\n",
      "------BEFORE DATA PIPELINE------- results/probert\n",
      "Empty DataFrame\n",
      "Columns: [id, label]\n",
      "Index: []\n"
     ]
    },
    {
     "name": "stderr",
     "output_type": "stream",
     "text": [
      "Extracting coref clusters...: 100%|██████████| 1/1 [00:00<00:00, 776.87it/s]\n",
      "Step MentionsAnnotator, transforming completed\n",
      "Step MentionsAnnotator, transform completed\n",
      "Step gather_step, adapting inputs\n",
      "Step gather_step, transforming...\n",
      "Step gather_step, transforming completed\n",
      "Step gather_step, transform completed\n"
     ]
    },
    {
     "name": "stdout",
     "output_type": "stream",
     "text": [
      "Transforming data to features done.\n",
      " Log a couple of examples for sanity check.\n",
      "\n"
     ]
    },
    {
     "name": "stderr",
     "output_type": "stream",
     "text": [
      "Convert Examples to features: 1it [00:00, 234.94it/s]\n",
      "Evaluating:   0%|          | 0/1 [00:00<?, ?it/s]/dccstor/media-bias-4374/gender-ambiguity-detectors/gap/models/gap/probert.py:35: UserWarning: indexing with dtype torch.uint8 is now deprecated, please use a dtype torch.bool instead. (Triggered internally at  ../aten/src/ATen/native/IndexingUtils.h:28.)\n",
      "  sequence_output = sequence_output[~gpr_tags_mask].view(batch_size, -1, self.config.hidden_size)\n",
      "Evaluating: 100%|██████████| 1/1 [00:04<00:00,  4.26s/it]"
     ]
    },
    {
     "name": "stdout",
     "output_type": "stream",
     "text": [
      "[0.12963185 0.8703681 ]\n",
      "Known pronoun 'his' resolves 'False' to 'Dozenberg' with a probability of '0.8703681230545044'\n"
     ]
    },
    {
     "name": "stderr",
     "output_type": "stream",
     "text": [
      "\n"
     ]
    },
    {
     "data": {
      "text/html": [
       "<div>\n",
       "<style scoped>\n",
       "    .dataframe tbody tr th:only-of-type {\n",
       "        vertical-align: middle;\n",
       "    }\n",
       "\n",
       "    .dataframe tbody tr th {\n",
       "        vertical-align: top;\n",
       "    }\n",
       "\n",
       "    .dataframe thead th {\n",
       "        text-align: right;\n",
       "    }\n",
       "</style>\n",
       "<table border=\"1\" class=\"dataframe\">\n",
       "  <thead>\n",
       "    <tr style=\"text-align: right;\">\n",
       "      <th></th>\n",
       "      <th>id</th>\n",
       "      <th>text</th>\n",
       "      <th>pronoun</th>\n",
       "      <th>pronoun_offset</th>\n",
       "      <th>a</th>\n",
       "      <th>a_offset</th>\n",
       "      <th>url</th>\n",
       "    </tr>\n",
       "  </thead>\n",
       "  <tbody>\n",
       "    <tr>\n",
       "      <th>0</th>\n",
       "      <td>na</td>\n",
       "      <td>Tilton first made contact with Dozenberg when ...</td>\n",
       "      <td>his</td>\n",
       "      <td>399</td>\n",
       "      <td>Dozenberg</td>\n",
       "      <td>139</td>\n",
       "      <td>na</td>\n",
       "    </tr>\n",
       "  </tbody>\n",
       "</table>\n",
       "</div>"
      ],
      "text/plain": [
       "   id                                               text pronoun  \\\n",
       "0  na  Tilton first made contact with Dozenberg when ...     his   \n",
       "\n",
       "   pronoun_offset          a  a_offset url  \n",
       "0             399  Dozenberg       139  na  "
      ]
     },
     "metadata": {},
     "output_type": "display_data"
    },
    {
     "name": "stderr",
     "output_type": "stream",
     "text": [
      "Initializing Step InputReader\n",
      "Step InputReader initialized\n",
      "Initializing Step LabelSanitizer\n",
      "Step LabelSanitizer initialized\n",
      "Initializing Step MentionsAnnotator\n",
      "Step MentionsAnnotator initialized\n",
      "Initializing Step gather_step\n",
      "STEPPY WARNING: Step with name \"InputReader\", already exist. Make sure that all Steps have unique name.\n",
      "Step gather_step initialized\n",
      "Step gather_step, working in \"inference\" mode\n",
      "Step InputReader, working in \"inference\" mode\n",
      "Step InputReader, adapting inputs\n",
      "Step InputReader, transforming...\n",
      "Step InputReader, transforming completed\n",
      "Step InputReader, transform completed\n",
      "Step LabelSanitizer, working in \"inference\" mode\n",
      "Step LabelSanitizer, adapting inputs\n",
      "Step LabelSanitizer, transforming...\n",
      "Step LabelSanitizer, transforming completed\n",
      "Step LabelSanitizer, transform completed\n",
      "Step MentionsAnnotator, working in \"inference\" mode\n",
      "Step InputReader, working in \"inference\" mode\n",
      "Step InputReader, adapting inputs\n",
      "Step InputReader, transforming...\n",
      "Step InputReader, transforming completed\n",
      "Step InputReader, transform completed\n",
      "Step MentionsAnnotator, unpacking inputs\n",
      "Step MentionsAnnotator, transforming...\n"
     ]
    },
    {
     "name": "stdout",
     "output_type": "stream",
     "text": [
      "Transforming data to features.\n",
      "------BEFORE DATA PIPELINE------- results/probert\n",
      "Empty DataFrame\n",
      "Columns: [id, label]\n",
      "Index: []\n"
     ]
    },
    {
     "name": "stderr",
     "output_type": "stream",
     "text": [
      "Extracting coref clusters...: 100%|██████████| 1/1 [00:00<00:00, 723.65it/s]\n",
      "Step MentionsAnnotator, transforming completed\n",
      "Step MentionsAnnotator, transform completed\n",
      "Step gather_step, adapting inputs\n",
      "Step gather_step, transforming...\n",
      "Step gather_step, transforming completed\n",
      "Step gather_step, transform completed\n"
     ]
    },
    {
     "name": "stdout",
     "output_type": "stream",
     "text": [
      "Transforming data to features done.\n",
      " Log a couple of examples for sanity check.\n",
      "\n"
     ]
    },
    {
     "name": "stderr",
     "output_type": "stream",
     "text": [
      "Convert Examples to features: 1it [00:00, 227.15it/s]\n",
      "Evaluating:   0%|          | 0/1 [00:00<?, ?it/s]/dccstor/media-bias-4374/gender-ambiguity-detectors/gap/models/gap/probert.py:35: UserWarning: indexing with dtype torch.uint8 is now deprecated, please use a dtype torch.bool instead. (Triggered internally at  ../aten/src/ATen/native/IndexingUtils.h:28.)\n",
      "  sequence_output = sequence_output[~gpr_tags_mask].view(batch_size, -1, self.config.hidden_size)\n",
      "Evaluating: 100%|██████████| 1/1 [00:04<00:00,  4.43s/it]"
     ]
    },
    {
     "name": "stdout",
     "output_type": "stream",
     "text": [
      "[0.027281 0.972719]\n",
      "Known pronoun 'his' resolves 'False' to 'Dozenberg' with a probability of '0.9727190136909485'\n"
     ]
    },
    {
     "name": "stderr",
     "output_type": "stream",
     "text": [
      "\n"
     ]
    },
    {
     "data": {
      "text/html": [
       "<div>\n",
       "<style scoped>\n",
       "    .dataframe tbody tr th:only-of-type {\n",
       "        vertical-align: middle;\n",
       "    }\n",
       "\n",
       "    .dataframe tbody tr th {\n",
       "        vertical-align: top;\n",
       "    }\n",
       "\n",
       "    .dataframe thead th {\n",
       "        text-align: right;\n",
       "    }\n",
       "</style>\n",
       "<table border=\"1\" class=\"dataframe\">\n",
       "  <thead>\n",
       "    <tr style=\"text-align: right;\">\n",
       "      <th></th>\n",
       "      <th>id</th>\n",
       "      <th>text</th>\n",
       "      <th>pronoun</th>\n",
       "      <th>pronoun_offset</th>\n",
       "      <th>a</th>\n",
       "      <th>a_offset</th>\n",
       "      <th>url</th>\n",
       "    </tr>\n",
       "  </thead>\n",
       "  <tbody>\n",
       "    <tr>\n",
       "      <th>0</th>\n",
       "      <td>na</td>\n",
       "      <td>Tilton first made contact with Dozenberg when ...</td>\n",
       "      <td>his</td>\n",
       "      <td>399</td>\n",
       "      <td>Dozenberg</td>\n",
       "      <td>202</td>\n",
       "      <td>na</td>\n",
       "    </tr>\n",
       "  </tbody>\n",
       "</table>\n",
       "</div>"
      ],
      "text/plain": [
       "   id                                               text pronoun  \\\n",
       "0  na  Tilton first made contact with Dozenberg when ...     his   \n",
       "\n",
       "   pronoun_offset          a  a_offset url  \n",
       "0             399  Dozenberg       202  na  "
      ]
     },
     "metadata": {},
     "output_type": "display_data"
    },
    {
     "name": "stderr",
     "output_type": "stream",
     "text": [
      "Initializing Step InputReader\n",
      "Step InputReader initialized\n",
      "Initializing Step LabelSanitizer\n",
      "Step LabelSanitizer initialized\n",
      "Initializing Step MentionsAnnotator\n",
      "Step MentionsAnnotator initialized\n",
      "Initializing Step gather_step\n",
      "STEPPY WARNING: Step with name \"InputReader\", already exist. Make sure that all Steps have unique name.\n",
      "Step gather_step initialized\n",
      "Step gather_step, working in \"inference\" mode\n",
      "Step InputReader, working in \"inference\" mode\n",
      "Step InputReader, adapting inputs\n",
      "Step InputReader, transforming...\n",
      "Step InputReader, transforming completed\n",
      "Step InputReader, transform completed\n",
      "Step LabelSanitizer, working in \"inference\" mode\n",
      "Step LabelSanitizer, adapting inputs\n",
      "Step LabelSanitizer, transforming...\n",
      "Step LabelSanitizer, transforming completed\n",
      "Step LabelSanitizer, transform completed\n",
      "Step MentionsAnnotator, working in \"inference\" mode\n",
      "Step InputReader, working in \"inference\" mode\n",
      "Step InputReader, adapting inputs\n",
      "Step InputReader, transforming...\n",
      "Step InputReader, transforming completed\n",
      "Step InputReader, transform completed\n",
      "Step MentionsAnnotator, unpacking inputs\n",
      "Step MentionsAnnotator, transforming...\n"
     ]
    },
    {
     "name": "stdout",
     "output_type": "stream",
     "text": [
      "Transforming data to features.\n",
      "------BEFORE DATA PIPELINE------- results/probert\n",
      "Empty DataFrame\n",
      "Columns: [id, label]\n",
      "Index: []\n"
     ]
    },
    {
     "name": "stderr",
     "output_type": "stream",
     "text": [
      "Extracting coref clusters...: 100%|██████████| 1/1 [00:00<00:00, 800.59it/s]\n",
      "Step MentionsAnnotator, transforming completed\n",
      "Step MentionsAnnotator, transform completed\n",
      "Step gather_step, adapting inputs\n",
      "Step gather_step, transforming...\n",
      "Step gather_step, transforming completed\n",
      "Step gather_step, transform completed\n"
     ]
    },
    {
     "name": "stdout",
     "output_type": "stream",
     "text": [
      "Transforming data to features done.\n",
      " Log a couple of examples for sanity check.\n",
      "\n"
     ]
    },
    {
     "name": "stderr",
     "output_type": "stream",
     "text": [
      "Convert Examples to features: 1it [00:00, 256.28it/s]\n",
      "Evaluating:   0%|          | 0/1 [00:00<?, ?it/s]/dccstor/media-bias-4374/gender-ambiguity-detectors/gap/models/gap/probert.py:35: UserWarning: indexing with dtype torch.uint8 is now deprecated, please use a dtype torch.bool instead. (Triggered internally at  ../aten/src/ATen/native/IndexingUtils.h:28.)\n",
      "  sequence_output = sequence_output[~gpr_tags_mask].view(batch_size, -1, self.config.hidden_size)\n",
      "Evaluating: 100%|██████████| 1/1 [00:04<00:00,  4.23s/it]"
     ]
    },
    {
     "name": "stdout",
     "output_type": "stream",
     "text": [
      "[0.01542503 0.9845749 ]\n",
      "Known pronoun 'his' resolves 'False' to 'Dozenberg' with a probability of '0.9845749139785767'\n"
     ]
    },
    {
     "name": "stderr",
     "output_type": "stream",
     "text": [
      "\n"
     ]
    },
    {
     "data": {
      "text/html": [
       "<div>\n",
       "<style scoped>\n",
       "    .dataframe tbody tr th:only-of-type {\n",
       "        vertical-align: middle;\n",
       "    }\n",
       "\n",
       "    .dataframe tbody tr th {\n",
       "        vertical-align: top;\n",
       "    }\n",
       "\n",
       "    .dataframe thead th {\n",
       "        text-align: right;\n",
       "    }\n",
       "</style>\n",
       "<table border=\"1\" class=\"dataframe\">\n",
       "  <thead>\n",
       "    <tr style=\"text-align: right;\">\n",
       "      <th></th>\n",
       "      <th>id</th>\n",
       "      <th>text</th>\n",
       "      <th>pronoun</th>\n",
       "      <th>pronoun_offset</th>\n",
       "      <th>a</th>\n",
       "      <th>a_offset</th>\n",
       "      <th>url</th>\n",
       "    </tr>\n",
       "  </thead>\n",
       "  <tbody>\n",
       "    <tr>\n",
       "      <th>0</th>\n",
       "      <td>na</td>\n",
       "      <td>Tilton first made contact with Dozenberg when ...</td>\n",
       "      <td>his</td>\n",
       "      <td>399</td>\n",
       "      <td>Dozenberg</td>\n",
       "      <td>307</td>\n",
       "      <td>na</td>\n",
       "    </tr>\n",
       "  </tbody>\n",
       "</table>\n",
       "</div>"
      ],
      "text/plain": [
       "   id                                               text pronoun  \\\n",
       "0  na  Tilton first made contact with Dozenberg when ...     his   \n",
       "\n",
       "   pronoun_offset          a  a_offset url  \n",
       "0             399  Dozenberg       307  na  "
      ]
     },
     "metadata": {},
     "output_type": "display_data"
    },
    {
     "name": "stderr",
     "output_type": "stream",
     "text": [
      "Initializing Step InputReader\n",
      "Step InputReader initialized\n",
      "Initializing Step LabelSanitizer\n",
      "Step LabelSanitizer initialized\n",
      "Initializing Step MentionsAnnotator\n",
      "Step MentionsAnnotator initialized\n",
      "Initializing Step gather_step\n",
      "STEPPY WARNING: Step with name \"InputReader\", already exist. Make sure that all Steps have unique name.\n",
      "Step gather_step initialized\n",
      "Step gather_step, working in \"inference\" mode\n",
      "Step InputReader, working in \"inference\" mode\n",
      "Step InputReader, adapting inputs\n",
      "Step InputReader, transforming...\n",
      "Step InputReader, transforming completed\n",
      "Step InputReader, transform completed\n",
      "Step LabelSanitizer, working in \"inference\" mode\n",
      "Step LabelSanitizer, adapting inputs\n",
      "Step LabelSanitizer, transforming...\n",
      "Step LabelSanitizer, transforming completed\n",
      "Step LabelSanitizer, transform completed\n",
      "Step MentionsAnnotator, working in \"inference\" mode\n",
      "Step InputReader, working in \"inference\" mode\n",
      "Step InputReader, adapting inputs\n",
      "Step InputReader, transforming...\n",
      "Step InputReader, transforming completed\n",
      "Step InputReader, transform completed\n",
      "Step MentionsAnnotator, unpacking inputs\n",
      "Step MentionsAnnotator, transforming...\n"
     ]
    },
    {
     "name": "stdout",
     "output_type": "stream",
     "text": [
      "Transforming data to features.\n",
      "------BEFORE DATA PIPELINE------- results/probert\n",
      "Empty DataFrame\n",
      "Columns: [id, label]\n",
      "Index: []\n"
     ]
    },
    {
     "name": "stderr",
     "output_type": "stream",
     "text": [
      "Extracting coref clusters...: 100%|██████████| 1/1 [00:00<00:00, 837.86it/s]\n",
      "Step MentionsAnnotator, transforming completed\n",
      "Step MentionsAnnotator, transform completed\n",
      "Step gather_step, adapting inputs\n",
      "Step gather_step, transforming...\n",
      "Step gather_step, transforming completed\n",
      "Step gather_step, transform completed\n"
     ]
    },
    {
     "name": "stdout",
     "output_type": "stream",
     "text": [
      "Transforming data to features done.\n",
      " Log a couple of examples for sanity check.\n",
      "\n"
     ]
    },
    {
     "name": "stderr",
     "output_type": "stream",
     "text": [
      "Convert Examples to features: 1it [00:00, 252.38it/s]\n",
      "Evaluating:   0%|          | 0/1 [00:00<?, ?it/s]/dccstor/media-bias-4374/gender-ambiguity-detectors/gap/models/gap/probert.py:35: UserWarning: indexing with dtype torch.uint8 is now deprecated, please use a dtype torch.bool instead. (Triggered internally at  ../aten/src/ATen/native/IndexingUtils.h:28.)\n",
      "  sequence_output = sequence_output[~gpr_tags_mask].view(batch_size, -1, self.config.hidden_size)\n",
      "Evaluating: 100%|██████████| 1/1 [00:04<00:00,  4.31s/it]"
     ]
    },
    {
     "name": "stdout",
     "output_type": "stream",
     "text": [
      "[0.0845154  0.91548455]\n",
      "Known pronoun 'his' resolves 'False' to 'Dozenberg' with a probability of '0.9154845476150513'\n"
     ]
    },
    {
     "name": "stderr",
     "output_type": "stream",
     "text": [
      "\n"
     ]
    },
    {
     "data": {
      "text/html": [
       "<div>\n",
       "<style scoped>\n",
       "    .dataframe tbody tr th:only-of-type {\n",
       "        vertical-align: middle;\n",
       "    }\n",
       "\n",
       "    .dataframe tbody tr th {\n",
       "        vertical-align: top;\n",
       "    }\n",
       "\n",
       "    .dataframe thead th {\n",
       "        text-align: right;\n",
       "    }\n",
       "</style>\n",
       "<table border=\"1\" class=\"dataframe\">\n",
       "  <thead>\n",
       "    <tr style=\"text-align: right;\">\n",
       "      <th></th>\n",
       "      <th>id</th>\n",
       "      <th>text</th>\n",
       "      <th>pronoun</th>\n",
       "      <th>pronoun_offset</th>\n",
       "      <th>a</th>\n",
       "      <th>a_offset</th>\n",
       "      <th>url</th>\n",
       "    </tr>\n",
       "  </thead>\n",
       "  <tbody>\n",
       "    <tr>\n",
       "      <th>0</th>\n",
       "      <td>na</td>\n",
       "      <td>Tilton first made contact with Dozenberg when ...</td>\n",
       "      <td>his</td>\n",
       "      <td>399</td>\n",
       "      <td>Dozenberg</td>\n",
       "      <td>380</td>\n",
       "      <td>na</td>\n",
       "    </tr>\n",
       "  </tbody>\n",
       "</table>\n",
       "</div>"
      ],
      "text/plain": [
       "   id                                               text pronoun  \\\n",
       "0  na  Tilton first made contact with Dozenberg when ...     his   \n",
       "\n",
       "   pronoun_offset          a  a_offset url  \n",
       "0             399  Dozenberg       380  na  "
      ]
     },
     "metadata": {},
     "output_type": "display_data"
    },
    {
     "name": "stderr",
     "output_type": "stream",
     "text": [
      "Initializing Step InputReader\n",
      "Step InputReader initialized\n",
      "Initializing Step LabelSanitizer\n",
      "Step LabelSanitizer initialized\n",
      "Initializing Step MentionsAnnotator\n",
      "Step MentionsAnnotator initialized\n",
      "Initializing Step gather_step\n",
      "STEPPY WARNING: Step with name \"InputReader\", already exist. Make sure that all Steps have unique name.\n",
      "Step gather_step initialized\n",
      "Step gather_step, working in \"inference\" mode\n",
      "Step InputReader, working in \"inference\" mode\n",
      "Step InputReader, adapting inputs\n",
      "Step InputReader, transforming...\n",
      "Step InputReader, transforming completed\n",
      "Step InputReader, transform completed\n",
      "Step LabelSanitizer, working in \"inference\" mode\n",
      "Step LabelSanitizer, adapting inputs\n",
      "Step LabelSanitizer, transforming...\n",
      "Step LabelSanitizer, transforming completed\n",
      "Step LabelSanitizer, transform completed\n",
      "Step MentionsAnnotator, working in \"inference\" mode\n",
      "Step InputReader, working in \"inference\" mode\n",
      "Step InputReader, adapting inputs\n",
      "Step InputReader, transforming...\n",
      "Step InputReader, transforming completed\n",
      "Step InputReader, transform completed\n",
      "Step MentionsAnnotator, unpacking inputs\n",
      "Step MentionsAnnotator, transforming...\n"
     ]
    },
    {
     "name": "stdout",
     "output_type": "stream",
     "text": [
      "Transforming data to features.\n",
      "------BEFORE DATA PIPELINE------- results/probert\n",
      "Empty DataFrame\n",
      "Columns: [id, label]\n",
      "Index: []\n"
     ]
    },
    {
     "name": "stderr",
     "output_type": "stream",
     "text": [
      "Extracting coref clusters...: 100%|██████████| 1/1 [00:00<00:00, 744.20it/s]\n",
      "Step MentionsAnnotator, transforming completed\n",
      "Step MentionsAnnotator, transform completed\n",
      "Step gather_step, adapting inputs\n",
      "Step gather_step, transforming...\n",
      "Step gather_step, transforming completed\n",
      "Step gather_step, transform completed\n"
     ]
    },
    {
     "name": "stdout",
     "output_type": "stream",
     "text": [
      "Transforming data to features done.\n",
      " Log a couple of examples for sanity check.\n",
      "\n"
     ]
    },
    {
     "name": "stderr",
     "output_type": "stream",
     "text": [
      "Convert Examples to features: 1it [00:00, 258.76it/s]\n",
      "Evaluating:   0%|          | 0/1 [00:00<?, ?it/s]/dccstor/media-bias-4374/gender-ambiguity-detectors/gap/models/gap/probert.py:35: UserWarning: indexing with dtype torch.uint8 is now deprecated, please use a dtype torch.bool instead. (Triggered internally at  ../aten/src/ATen/native/IndexingUtils.h:28.)\n",
      "  sequence_output = sequence_output[~gpr_tags_mask].view(batch_size, -1, self.config.hidden_size)\n",
      "Evaluating: 100%|██████████| 1/1 [00:04<00:00,  4.23s/it]"
     ]
    },
    {
     "name": "stdout",
     "output_type": "stream",
     "text": [
      "[0.8111978 0.1888022]\n",
      "Known pronoun 'his' resolves 'True' to 'Dozenberg' with a probability of '0.811197817325592'\n"
     ]
    },
    {
     "name": "stderr",
     "output_type": "stream",
     "text": [
      "\n"
     ]
    }
   ],
   "source": [
    "# initialize results data frame\n",
    "cols = ['id', 'text', 'pronoun', 'pronoun_offset', 'a', 'a_offset', 'url']\n",
    "\n",
    "output_cols = ['id', 'text', 'pronoun', 'pronoun_offset', 'a', 'a_offset', 'url', 'probabilities', 'output']\n",
    "df_output = pd.DataFrame([], columns=output_cols)\n",
    "\n",
    "for i in range(len(original_text)):\n",
    "    combinations = get_combinations(entity_list[i], pronoun_list[i])\n",
    "    for combination in combinations:\n",
    "        # each combination is a list with 4 elements \n",
    "            # [pronoun, pronoun_offset, entity1, entity1_offset]\n",
    "        pronoun, pronoun_offset = combination[0], combination[1]\n",
    "        entity1, entity1_offset = combination[2], combination[3]\n",
    "        \n",
    "        new_df = pd.DataFrame([['na',original_text[i], pronoun,pronoun_offset,entity1,entity1_offset,'na']], columns=cols)\n",
    "        display(new_df)\n",
    "        \n",
    "        tmp_write_path = f'{exp_dir}/new_df.csv'\n",
    "        new_df.to_csv(tmp_write_path, sep='\\t', index=False)\n",
    "        \n",
    "        # Initialise the data tranformation \n",
    "        # Not sure we really need this as all it does is change some columns names then adds 2 new columns \n",
    "        X_inference = init_data(exp_dir=exp_dir,test_path=tmp_write_path, verbose=0, mode='inference')\n",
    "        \n",
    "        # Tokenisation of the text happens here\n",
    "        inference_features = convert_examples_to_features(X_inference,tokenizer,512,n_coref_models=0,verbose=0)\n",
    "        \n",
    "        # evaluate sample using model\n",
    "        labels = [True,False]\n",
    "        predicted_probs, _ = evaluate(model,inference_features,device,eval_mode=True)\n",
    "        \n",
    "        # print(predicted_probs)\n",
    "\n",
    "        # index of max value from predictions so we get exact entity name it resolves to\n",
    "        for prob in predicted_probs:\n",
    "            print(prob)\n",
    "            max_idx = list(prob).index(max(prob))\n",
    "            print(f\"Known pronoun '{pronoun}' resolves '{labels[max_idx]}' to '{entity1}' with a probability of '{prob[max_idx]}'\")\n",
    "        \n",
    "        output = \"\"\n",
    "        if labels[max_idx]:\n",
    "            output = f\"Known pronoun '{pronoun}' resolves to '{entity1}' with a probability of '{prob[max_idx]}'\"\n",
    "        else:\n",
    "            output = f\"Known pronoun '{pronoun}' does not resolve to '{entity1}' with a probability of '{prob[max_idx]}'\"\n",
    "        new_df_output = pd.DataFrame([['na',original_text[i], pronoun,pronoun_offset,entity1,entity1_offset,'na', predicted_probs, output]], columns=output_cols)\n",
    "        df_output = pd.concat([df_output, new_df_output])\n",
    "    \n",
    "df_output.to_csv(f'{exp_dir}/df_output.csv', index=False)"
   ]
  },
  {
   "cell_type": "code",
   "execution_count": 38,
   "id": "bc77fdcd",
   "metadata": {},
   "outputs": [
    {
     "data": {
      "text/html": [
       "<div>\n",
       "<style scoped>\n",
       "    .dataframe tbody tr th:only-of-type {\n",
       "        vertical-align: middle;\n",
       "    }\n",
       "\n",
       "    .dataframe tbody tr th {\n",
       "        vertical-align: top;\n",
       "    }\n",
       "\n",
       "    .dataframe thead th {\n",
       "        text-align: right;\n",
       "    }\n",
       "</style>\n",
       "<table border=\"1\" class=\"dataframe\">\n",
       "  <thead>\n",
       "    <tr style=\"text-align: right;\">\n",
       "      <th></th>\n",
       "      <th>id</th>\n",
       "      <th>text</th>\n",
       "      <th>pronoun</th>\n",
       "      <th>pronoun_offset</th>\n",
       "      <th>a</th>\n",
       "      <th>a_offset</th>\n",
       "      <th>url</th>\n",
       "      <th>probabilities</th>\n",
       "      <th>output</th>\n",
       "    </tr>\n",
       "  </thead>\n",
       "  <tbody>\n",
       "    <tr>\n",
       "      <th>0</th>\n",
       "      <td>na</td>\n",
       "      <td>Pat (they/them/their) was not sure how they sh...</td>\n",
       "      <td>they</td>\n",
       "      <td>5</td>\n",
       "      <td>Pat</td>\n",
       "      <td>0</td>\n",
       "      <td>na</td>\n",
       "      <td>[[0.8394642  0.16053584]]</td>\n",
       "      <td>Known pronoun 'they' resolves to 'Pat' with a ...</td>\n",
       "    </tr>\n",
       "    <tr>\n",
       "      <th>1</th>\n",
       "      <td>na</td>\n",
       "      <td>Pat (they/them/their) was not sure how they sh...</td>\n",
       "      <td>they</td>\n",
       "      <td>39</td>\n",
       "      <td>Pat</td>\n",
       "      <td>0</td>\n",
       "      <td>na</td>\n",
       "      <td>[[0.7435659 0.2564341]]</td>\n",
       "      <td>Known pronoun 'they' resolves to 'Pat' with a ...</td>\n",
       "    </tr>\n",
       "    <tr>\n",
       "      <th>2</th>\n",
       "      <td>na</td>\n",
       "      <td>Pat (they/them/their) was not sure how they sh...</td>\n",
       "      <td>them</td>\n",
       "      <td>10</td>\n",
       "      <td>Pat</td>\n",
       "      <td>0</td>\n",
       "      <td>na</td>\n",
       "      <td>[[0.40619457 0.59380543]]</td>\n",
       "      <td>Known pronoun 'them' does not resolve to 'Pat'...</td>\n",
       "    </tr>\n",
       "    <tr>\n",
       "      <th>3</th>\n",
       "      <td>na</td>\n",
       "      <td>Pat (they/them/their) was not sure how they sh...</td>\n",
       "      <td>their</td>\n",
       "      <td>15</td>\n",
       "      <td>Pat</td>\n",
       "      <td>0</td>\n",
       "      <td>na</td>\n",
       "      <td>[[0.18119642 0.81880355]]</td>\n",
       "      <td>Known pronoun 'their' does not resolve to 'Pat...</td>\n",
       "    </tr>\n",
       "    <tr>\n",
       "      <th>4</th>\n",
       "      <td>na</td>\n",
       "      <td>For the U.S. Under Secretary of State, see Luc...</td>\n",
       "      <td>she</td>\n",
       "      <td>330</td>\n",
       "      <td>Lucy W. Benson</td>\n",
       "      <td>43</td>\n",
       "      <td>na</td>\n",
       "      <td>[[0.10031489 0.8996851 ]]</td>\n",
       "      <td>Known pronoun 'she' does not resolve to 'Lucy ...</td>\n",
       "    </tr>\n",
       "    <tr>\n",
       "      <th>...</th>\n",
       "      <td>...</td>\n",
       "      <td>...</td>\n",
       "      <td>...</td>\n",
       "      <td>...</td>\n",
       "      <td>...</td>\n",
       "      <td>...</td>\n",
       "      <td>...</td>\n",
       "      <td>...</td>\n",
       "      <td>...</td>\n",
       "    </tr>\n",
       "    <tr>\n",
       "      <th>116</th>\n",
       "      <td>na</td>\n",
       "      <td>Tilton first made contact with Dozenberg when ...</td>\n",
       "      <td>his</td>\n",
       "      <td>399</td>\n",
       "      <td>Dozenberg</td>\n",
       "      <td>31</td>\n",
       "      <td>na</td>\n",
       "      <td>[[0.12963185 0.8703681 ]]</td>\n",
       "      <td>Known pronoun 'his' does not resolve to 'Dozen...</td>\n",
       "    </tr>\n",
       "    <tr>\n",
       "      <th>117</th>\n",
       "      <td>na</td>\n",
       "      <td>Tilton first made contact with Dozenberg when ...</td>\n",
       "      <td>his</td>\n",
       "      <td>399</td>\n",
       "      <td>Dozenberg</td>\n",
       "      <td>139</td>\n",
       "      <td>na</td>\n",
       "      <td>[[0.027281 0.972719]]</td>\n",
       "      <td>Known pronoun 'his' does not resolve to 'Dozen...</td>\n",
       "    </tr>\n",
       "    <tr>\n",
       "      <th>118</th>\n",
       "      <td>na</td>\n",
       "      <td>Tilton first made contact with Dozenberg when ...</td>\n",
       "      <td>his</td>\n",
       "      <td>399</td>\n",
       "      <td>Dozenberg</td>\n",
       "      <td>202</td>\n",
       "      <td>na</td>\n",
       "      <td>[[0.01542503 0.9845749 ]]</td>\n",
       "      <td>Known pronoun 'his' does not resolve to 'Dozen...</td>\n",
       "    </tr>\n",
       "    <tr>\n",
       "      <th>119</th>\n",
       "      <td>na</td>\n",
       "      <td>Tilton first made contact with Dozenberg when ...</td>\n",
       "      <td>his</td>\n",
       "      <td>399</td>\n",
       "      <td>Dozenberg</td>\n",
       "      <td>307</td>\n",
       "      <td>na</td>\n",
       "      <td>[[0.0845154  0.91548455]]</td>\n",
       "      <td>Known pronoun 'his' does not resolve to 'Dozen...</td>\n",
       "    </tr>\n",
       "    <tr>\n",
       "      <th>120</th>\n",
       "      <td>na</td>\n",
       "      <td>Tilton first made contact with Dozenberg when ...</td>\n",
       "      <td>his</td>\n",
       "      <td>399</td>\n",
       "      <td>Dozenberg</td>\n",
       "      <td>380</td>\n",
       "      <td>na</td>\n",
       "      <td>[[0.8111978 0.1888022]]</td>\n",
       "      <td>Known pronoun 'his' resolves to 'Dozenberg' wi...</td>\n",
       "    </tr>\n",
       "  </tbody>\n",
       "</table>\n",
       "<p>121 rows × 9 columns</p>\n",
       "</div>"
      ],
      "text/plain": [
       "     id                                               text pronoun  \\\n",
       "0    na  Pat (they/them/their) was not sure how they sh...    they   \n",
       "1    na  Pat (they/them/their) was not sure how they sh...    they   \n",
       "2    na  Pat (they/them/their) was not sure how they sh...    them   \n",
       "3    na  Pat (they/them/their) was not sure how they sh...   their   \n",
       "4    na  For the U.S. Under Secretary of State, see Luc...     she   \n",
       "..   ..                                                ...     ...   \n",
       "116  na  Tilton first made contact with Dozenberg when ...     his   \n",
       "117  na  Tilton first made contact with Dozenberg when ...     his   \n",
       "118  na  Tilton first made contact with Dozenberg when ...     his   \n",
       "119  na  Tilton first made contact with Dozenberg when ...     his   \n",
       "120  na  Tilton first made contact with Dozenberg when ...     his   \n",
       "\n",
       "     pronoun_offset               a  a_offset url              probabilities  \\\n",
       "0                 5             Pat         0  na  [[0.8394642  0.16053584]]   \n",
       "1                39             Pat         0  na    [[0.7435659 0.2564341]]   \n",
       "2                10             Pat         0  na  [[0.40619457 0.59380543]]   \n",
       "3                15             Pat         0  na  [[0.18119642 0.81880355]]   \n",
       "4               330  Lucy W. Benson        43  na  [[0.10031489 0.8996851 ]]   \n",
       "..              ...             ...       ...  ..                        ...   \n",
       "116             399       Dozenberg        31  na  [[0.12963185 0.8703681 ]]   \n",
       "117             399       Dozenberg       139  na      [[0.027281 0.972719]]   \n",
       "118             399       Dozenberg       202  na  [[0.01542503 0.9845749 ]]   \n",
       "119             399       Dozenberg       307  na  [[0.0845154  0.91548455]]   \n",
       "120             399       Dozenberg       380  na    [[0.8111978 0.1888022]]   \n",
       "\n",
       "                                                output  \n",
       "0    Known pronoun 'they' resolves to 'Pat' with a ...  \n",
       "1    Known pronoun 'they' resolves to 'Pat' with a ...  \n",
       "2    Known pronoun 'them' does not resolve to 'Pat'...  \n",
       "3    Known pronoun 'their' does not resolve to 'Pat...  \n",
       "4    Known pronoun 'she' does not resolve to 'Lucy ...  \n",
       "..                                                 ...  \n",
       "116  Known pronoun 'his' does not resolve to 'Dozen...  \n",
       "117  Known pronoun 'his' does not resolve to 'Dozen...  \n",
       "118  Known pronoun 'his' does not resolve to 'Dozen...  \n",
       "119  Known pronoun 'his' does not resolve to 'Dozen...  \n",
       "120  Known pronoun 'his' resolves to 'Dozenberg' wi...  \n",
       "\n",
       "[121 rows x 9 columns]"
      ]
     },
     "execution_count": 38,
     "metadata": {},
     "output_type": "execute_result"
    }
   ],
   "source": [
    "pd.read_csv(\"results/probert/df_output.csv\")"
   ]
  }
 ],
 "metadata": {
  "kernelspec": {
   "display_name": "Python 3",
   "language": "python",
   "name": "python3"
  },
  "language_info": {
   "codemirror_mode": {
    "name": "ipython",
    "version": 3
   },
   "file_extension": ".py",
   "mimetype": "text/x-python",
   "name": "python",
   "nbconvert_exporter": "python",
   "pygments_lexer": "ipython3",
   "version": "3.7.2"
  },
  "vscode": {
   "interpreter": {
    "hash": "ada593a78c6b194b2899cf6ebd1fc2561ce5c9a595ddfc46f7cad3c5ee25f5a5"
   }
  }
 },
 "nbformat": 4,
 "nbformat_minor": 5
}
