{
 "cells": [
  {
   "cell_type": "markdown",
   "id": "39e819f2",
   "metadata": {},
   "source": [
    "# Gender Ambiguity Detector\n",
    "\n",
    "Codebase: https://github.com/sattree/gap"
   ]
  },
  {
   "cell_type": "code",
   "execution_count": 1,
   "id": "a55f52b4",
   "metadata": {},
   "outputs": [],
   "source": [
    "import pandas as pd\n",
    "import torch\n",
    "import os\n",
    "from pathlib import Path\n",
    "import re"
   ]
  },
  {
   "cell_type": "code",
   "execution_count": 2,
   "id": "5eb23892",
   "metadata": {},
   "outputs": [],
   "source": [
    "model_version = 'probert'\n",
    "annotate_coref_mentions = pretrained_proref = False\n",
    "coref_models = []\n",
    "sanitize_labels = True\n",
    "preprocess_eval = True\n",
    "exp_dir = Path('results/probert')\n",
    "coref_models_ = []\n",
    "\n",
    "n_gpu = torch.cuda.device_count()\n",
    "n_samples = 0"
   ]
  },
  {
   "cell_type": "code",
   "execution_count": 3,
   "id": "8ea7b017",
   "metadata": {},
   "outputs": [
    {
     "name": "stdout",
     "output_type": "stream",
     "text": [
      "Preparing Model.\n"
     ]
    },
    {
     "data": {
      "text/plain": [
       "ProBERT(\n",
       "  (bert): BertModel(\n",
       "    (embeddings): BertEmbeddings(\n",
       "      (word_embeddings): Embedding(30522, 1024, padding_idx=0)\n",
       "      (position_embeddings): Embedding(512, 1024)\n",
       "      (token_type_embeddings): Embedding(2, 1024)\n",
       "      (LayerNorm): BertLayerNorm()\n",
       "      (dropout): Dropout(p=0.1, inplace=False)\n",
       "    )\n",
       "    (encoder): BertEncoder(\n",
       "      (layer): ModuleList(\n",
       "        (0): BertLayer(\n",
       "          (attention): BertAttention(\n",
       "            (self): BertSelfAttention(\n",
       "              (query): Linear(in_features=1024, out_features=1024, bias=True)\n",
       "              (key): Linear(in_features=1024, out_features=1024, bias=True)\n",
       "              (value): Linear(in_features=1024, out_features=1024, bias=True)\n",
       "              (dropout): Dropout(p=0.1, inplace=False)\n",
       "            )\n",
       "            (output): BertSelfOutput(\n",
       "              (dense): Linear(in_features=1024, out_features=1024, bias=True)\n",
       "              (LayerNorm): BertLayerNorm()\n",
       "              (dropout): Dropout(p=0.1, inplace=False)\n",
       "            )\n",
       "          )\n",
       "          (intermediate): BertIntermediate(\n",
       "            (dense): Linear(in_features=1024, out_features=4096, bias=True)\n",
       "          )\n",
       "          (output): BertOutput(\n",
       "            (dense): Linear(in_features=4096, out_features=1024, bias=True)\n",
       "            (LayerNorm): BertLayerNorm()\n",
       "            (dropout): Dropout(p=0.1, inplace=False)\n",
       "          )\n",
       "        )\n",
       "        (1): BertLayer(\n",
       "          (attention): BertAttention(\n",
       "            (self): BertSelfAttention(\n",
       "              (query): Linear(in_features=1024, out_features=1024, bias=True)\n",
       "              (key): Linear(in_features=1024, out_features=1024, bias=True)\n",
       "              (value): Linear(in_features=1024, out_features=1024, bias=True)\n",
       "              (dropout): Dropout(p=0.1, inplace=False)\n",
       "            )\n",
       "            (output): BertSelfOutput(\n",
       "              (dense): Linear(in_features=1024, out_features=1024, bias=True)\n",
       "              (LayerNorm): BertLayerNorm()\n",
       "              (dropout): Dropout(p=0.1, inplace=False)\n",
       "            )\n",
       "          )\n",
       "          (intermediate): BertIntermediate(\n",
       "            (dense): Linear(in_features=1024, out_features=4096, bias=True)\n",
       "          )\n",
       "          (output): BertOutput(\n",
       "            (dense): Linear(in_features=4096, out_features=1024, bias=True)\n",
       "            (LayerNorm): BertLayerNorm()\n",
       "            (dropout): Dropout(p=0.1, inplace=False)\n",
       "          )\n",
       "        )\n",
       "        (2): BertLayer(\n",
       "          (attention): BertAttention(\n",
       "            (self): BertSelfAttention(\n",
       "              (query): Linear(in_features=1024, out_features=1024, bias=True)\n",
       "              (key): Linear(in_features=1024, out_features=1024, bias=True)\n",
       "              (value): Linear(in_features=1024, out_features=1024, bias=True)\n",
       "              (dropout): Dropout(p=0.1, inplace=False)\n",
       "            )\n",
       "            (output): BertSelfOutput(\n",
       "              (dense): Linear(in_features=1024, out_features=1024, bias=True)\n",
       "              (LayerNorm): BertLayerNorm()\n",
       "              (dropout): Dropout(p=0.1, inplace=False)\n",
       "            )\n",
       "          )\n",
       "          (intermediate): BertIntermediate(\n",
       "            (dense): Linear(in_features=1024, out_features=4096, bias=True)\n",
       "          )\n",
       "          (output): BertOutput(\n",
       "            (dense): Linear(in_features=4096, out_features=1024, bias=True)\n",
       "            (LayerNorm): BertLayerNorm()\n",
       "            (dropout): Dropout(p=0.1, inplace=False)\n",
       "          )\n",
       "        )\n",
       "        (3): BertLayer(\n",
       "          (attention): BertAttention(\n",
       "            (self): BertSelfAttention(\n",
       "              (query): Linear(in_features=1024, out_features=1024, bias=True)\n",
       "              (key): Linear(in_features=1024, out_features=1024, bias=True)\n",
       "              (value): Linear(in_features=1024, out_features=1024, bias=True)\n",
       "              (dropout): Dropout(p=0.1, inplace=False)\n",
       "            )\n",
       "            (output): BertSelfOutput(\n",
       "              (dense): Linear(in_features=1024, out_features=1024, bias=True)\n",
       "              (LayerNorm): BertLayerNorm()\n",
       "              (dropout): Dropout(p=0.1, inplace=False)\n",
       "            )\n",
       "          )\n",
       "          (intermediate): BertIntermediate(\n",
       "            (dense): Linear(in_features=1024, out_features=4096, bias=True)\n",
       "          )\n",
       "          (output): BertOutput(\n",
       "            (dense): Linear(in_features=4096, out_features=1024, bias=True)\n",
       "            (LayerNorm): BertLayerNorm()\n",
       "            (dropout): Dropout(p=0.1, inplace=False)\n",
       "          )\n",
       "        )\n",
       "        (4): BertLayer(\n",
       "          (attention): BertAttention(\n",
       "            (self): BertSelfAttention(\n",
       "              (query): Linear(in_features=1024, out_features=1024, bias=True)\n",
       "              (key): Linear(in_features=1024, out_features=1024, bias=True)\n",
       "              (value): Linear(in_features=1024, out_features=1024, bias=True)\n",
       "              (dropout): Dropout(p=0.1, inplace=False)\n",
       "            )\n",
       "            (output): BertSelfOutput(\n",
       "              (dense): Linear(in_features=1024, out_features=1024, bias=True)\n",
       "              (LayerNorm): BertLayerNorm()\n",
       "              (dropout): Dropout(p=0.1, inplace=False)\n",
       "            )\n",
       "          )\n",
       "          (intermediate): BertIntermediate(\n",
       "            (dense): Linear(in_features=1024, out_features=4096, bias=True)\n",
       "          )\n",
       "          (output): BertOutput(\n",
       "            (dense): Linear(in_features=4096, out_features=1024, bias=True)\n",
       "            (LayerNorm): BertLayerNorm()\n",
       "            (dropout): Dropout(p=0.1, inplace=False)\n",
       "          )\n",
       "        )\n",
       "        (5): BertLayer(\n",
       "          (attention): BertAttention(\n",
       "            (self): BertSelfAttention(\n",
       "              (query): Linear(in_features=1024, out_features=1024, bias=True)\n",
       "              (key): Linear(in_features=1024, out_features=1024, bias=True)\n",
       "              (value): Linear(in_features=1024, out_features=1024, bias=True)\n",
       "              (dropout): Dropout(p=0.1, inplace=False)\n",
       "            )\n",
       "            (output): BertSelfOutput(\n",
       "              (dense): Linear(in_features=1024, out_features=1024, bias=True)\n",
       "              (LayerNorm): BertLayerNorm()\n",
       "              (dropout): Dropout(p=0.1, inplace=False)\n",
       "            )\n",
       "          )\n",
       "          (intermediate): BertIntermediate(\n",
       "            (dense): Linear(in_features=1024, out_features=4096, bias=True)\n",
       "          )\n",
       "          (output): BertOutput(\n",
       "            (dense): Linear(in_features=4096, out_features=1024, bias=True)\n",
       "            (LayerNorm): BertLayerNorm()\n",
       "            (dropout): Dropout(p=0.1, inplace=False)\n",
       "          )\n",
       "        )\n",
       "        (6): BertLayer(\n",
       "          (attention): BertAttention(\n",
       "            (self): BertSelfAttention(\n",
       "              (query): Linear(in_features=1024, out_features=1024, bias=True)\n",
       "              (key): Linear(in_features=1024, out_features=1024, bias=True)\n",
       "              (value): Linear(in_features=1024, out_features=1024, bias=True)\n",
       "              (dropout): Dropout(p=0.1, inplace=False)\n",
       "            )\n",
       "            (output): BertSelfOutput(\n",
       "              (dense): Linear(in_features=1024, out_features=1024, bias=True)\n",
       "              (LayerNorm): BertLayerNorm()\n",
       "              (dropout): Dropout(p=0.1, inplace=False)\n",
       "            )\n",
       "          )\n",
       "          (intermediate): BertIntermediate(\n",
       "            (dense): Linear(in_features=1024, out_features=4096, bias=True)\n",
       "          )\n",
       "          (output): BertOutput(\n",
       "            (dense): Linear(in_features=4096, out_features=1024, bias=True)\n",
       "            (LayerNorm): BertLayerNorm()\n",
       "            (dropout): Dropout(p=0.1, inplace=False)\n",
       "          )\n",
       "        )\n",
       "        (7): BertLayer(\n",
       "          (attention): BertAttention(\n",
       "            (self): BertSelfAttention(\n",
       "              (query): Linear(in_features=1024, out_features=1024, bias=True)\n",
       "              (key): Linear(in_features=1024, out_features=1024, bias=True)\n",
       "              (value): Linear(in_features=1024, out_features=1024, bias=True)\n",
       "              (dropout): Dropout(p=0.1, inplace=False)\n",
       "            )\n",
       "            (output): BertSelfOutput(\n",
       "              (dense): Linear(in_features=1024, out_features=1024, bias=True)\n",
       "              (LayerNorm): BertLayerNorm()\n",
       "              (dropout): Dropout(p=0.1, inplace=False)\n",
       "            )\n",
       "          )\n",
       "          (intermediate): BertIntermediate(\n",
       "            (dense): Linear(in_features=1024, out_features=4096, bias=True)\n",
       "          )\n",
       "          (output): BertOutput(\n",
       "            (dense): Linear(in_features=4096, out_features=1024, bias=True)\n",
       "            (LayerNorm): BertLayerNorm()\n",
       "            (dropout): Dropout(p=0.1, inplace=False)\n",
       "          )\n",
       "        )\n",
       "        (8): BertLayer(\n",
       "          (attention): BertAttention(\n",
       "            (self): BertSelfAttention(\n",
       "              (query): Linear(in_features=1024, out_features=1024, bias=True)\n",
       "              (key): Linear(in_features=1024, out_features=1024, bias=True)\n",
       "              (value): Linear(in_features=1024, out_features=1024, bias=True)\n",
       "              (dropout): Dropout(p=0.1, inplace=False)\n",
       "            )\n",
       "            (output): BertSelfOutput(\n",
       "              (dense): Linear(in_features=1024, out_features=1024, bias=True)\n",
       "              (LayerNorm): BertLayerNorm()\n",
       "              (dropout): Dropout(p=0.1, inplace=False)\n",
       "            )\n",
       "          )\n",
       "          (intermediate): BertIntermediate(\n",
       "            (dense): Linear(in_features=1024, out_features=4096, bias=True)\n",
       "          )\n",
       "          (output): BertOutput(\n",
       "            (dense): Linear(in_features=4096, out_features=1024, bias=True)\n",
       "            (LayerNorm): BertLayerNorm()\n",
       "            (dropout): Dropout(p=0.1, inplace=False)\n",
       "          )\n",
       "        )\n",
       "        (9): BertLayer(\n",
       "          (attention): BertAttention(\n",
       "            (self): BertSelfAttention(\n",
       "              (query): Linear(in_features=1024, out_features=1024, bias=True)\n",
       "              (key): Linear(in_features=1024, out_features=1024, bias=True)\n",
       "              (value): Linear(in_features=1024, out_features=1024, bias=True)\n",
       "              (dropout): Dropout(p=0.1, inplace=False)\n",
       "            )\n",
       "            (output): BertSelfOutput(\n",
       "              (dense): Linear(in_features=1024, out_features=1024, bias=True)\n",
       "              (LayerNorm): BertLayerNorm()\n",
       "              (dropout): Dropout(p=0.1, inplace=False)\n",
       "            )\n",
       "          )\n",
       "          (intermediate): BertIntermediate(\n",
       "            (dense): Linear(in_features=1024, out_features=4096, bias=True)\n",
       "          )\n",
       "          (output): BertOutput(\n",
       "            (dense): Linear(in_features=4096, out_features=1024, bias=True)\n",
       "            (LayerNorm): BertLayerNorm()\n",
       "            (dropout): Dropout(p=0.1, inplace=False)\n",
       "          )\n",
       "        )\n",
       "        (10): BertLayer(\n",
       "          (attention): BertAttention(\n",
       "            (self): BertSelfAttention(\n",
       "              (query): Linear(in_features=1024, out_features=1024, bias=True)\n",
       "              (key): Linear(in_features=1024, out_features=1024, bias=True)\n",
       "              (value): Linear(in_features=1024, out_features=1024, bias=True)\n",
       "              (dropout): Dropout(p=0.1, inplace=False)\n",
       "            )\n",
       "            (output): BertSelfOutput(\n",
       "              (dense): Linear(in_features=1024, out_features=1024, bias=True)\n",
       "              (LayerNorm): BertLayerNorm()\n",
       "              (dropout): Dropout(p=0.1, inplace=False)\n",
       "            )\n",
       "          )\n",
       "          (intermediate): BertIntermediate(\n",
       "            (dense): Linear(in_features=1024, out_features=4096, bias=True)\n",
       "          )\n",
       "          (output): BertOutput(\n",
       "            (dense): Linear(in_features=4096, out_features=1024, bias=True)\n",
       "            (LayerNorm): BertLayerNorm()\n",
       "            (dropout): Dropout(p=0.1, inplace=False)\n",
       "          )\n",
       "        )\n",
       "        (11): BertLayer(\n",
       "          (attention): BertAttention(\n",
       "            (self): BertSelfAttention(\n",
       "              (query): Linear(in_features=1024, out_features=1024, bias=True)\n",
       "              (key): Linear(in_features=1024, out_features=1024, bias=True)\n",
       "              (value): Linear(in_features=1024, out_features=1024, bias=True)\n",
       "              (dropout): Dropout(p=0.1, inplace=False)\n",
       "            )\n",
       "            (output): BertSelfOutput(\n",
       "              (dense): Linear(in_features=1024, out_features=1024, bias=True)\n",
       "              (LayerNorm): BertLayerNorm()\n",
       "              (dropout): Dropout(p=0.1, inplace=False)\n",
       "            )\n",
       "          )\n",
       "          (intermediate): BertIntermediate(\n",
       "            (dense): Linear(in_features=1024, out_features=4096, bias=True)\n",
       "          )\n",
       "          (output): BertOutput(\n",
       "            (dense): Linear(in_features=4096, out_features=1024, bias=True)\n",
       "            (LayerNorm): BertLayerNorm()\n",
       "            (dropout): Dropout(p=0.1, inplace=False)\n",
       "          )\n",
       "        )\n",
       "        (12): BertLayer(\n",
       "          (attention): BertAttention(\n",
       "            (self): BertSelfAttention(\n",
       "              (query): Linear(in_features=1024, out_features=1024, bias=True)\n",
       "              (key): Linear(in_features=1024, out_features=1024, bias=True)\n",
       "              (value): Linear(in_features=1024, out_features=1024, bias=True)\n",
       "              (dropout): Dropout(p=0.1, inplace=False)\n",
       "            )\n",
       "            (output): BertSelfOutput(\n",
       "              (dense): Linear(in_features=1024, out_features=1024, bias=True)\n",
       "              (LayerNorm): BertLayerNorm()\n",
       "              (dropout): Dropout(p=0.1, inplace=False)\n",
       "            )\n",
       "          )\n",
       "          (intermediate): BertIntermediate(\n",
       "            (dense): Linear(in_features=1024, out_features=4096, bias=True)\n",
       "          )\n",
       "          (output): BertOutput(\n",
       "            (dense): Linear(in_features=4096, out_features=1024, bias=True)\n",
       "            (LayerNorm): BertLayerNorm()\n",
       "            (dropout): Dropout(p=0.1, inplace=False)\n",
       "          )\n",
       "        )\n",
       "        (13): BertLayer(\n",
       "          (attention): BertAttention(\n",
       "            (self): BertSelfAttention(\n",
       "              (query): Linear(in_features=1024, out_features=1024, bias=True)\n",
       "              (key): Linear(in_features=1024, out_features=1024, bias=True)\n",
       "              (value): Linear(in_features=1024, out_features=1024, bias=True)\n",
       "              (dropout): Dropout(p=0.1, inplace=False)\n",
       "            )\n",
       "            (output): BertSelfOutput(\n",
       "              (dense): Linear(in_features=1024, out_features=1024, bias=True)\n",
       "              (LayerNorm): BertLayerNorm()\n",
       "              (dropout): Dropout(p=0.1, inplace=False)\n",
       "            )\n",
       "          )\n",
       "          (intermediate): BertIntermediate(\n",
       "            (dense): Linear(in_features=1024, out_features=4096, bias=True)\n",
       "          )\n",
       "          (output): BertOutput(\n",
       "            (dense): Linear(in_features=4096, out_features=1024, bias=True)\n",
       "            (LayerNorm): BertLayerNorm()\n",
       "            (dropout): Dropout(p=0.1, inplace=False)\n",
       "          )\n",
       "        )\n",
       "        (14): BertLayer(\n",
       "          (attention): BertAttention(\n",
       "            (self): BertSelfAttention(\n",
       "              (query): Linear(in_features=1024, out_features=1024, bias=True)\n",
       "              (key): Linear(in_features=1024, out_features=1024, bias=True)\n",
       "              (value): Linear(in_features=1024, out_features=1024, bias=True)\n",
       "              (dropout): Dropout(p=0.1, inplace=False)\n",
       "            )\n",
       "            (output): BertSelfOutput(\n",
       "              (dense): Linear(in_features=1024, out_features=1024, bias=True)\n",
       "              (LayerNorm): BertLayerNorm()\n",
       "              (dropout): Dropout(p=0.1, inplace=False)\n",
       "            )\n",
       "          )\n",
       "          (intermediate): BertIntermediate(\n",
       "            (dense): Linear(in_features=1024, out_features=4096, bias=True)\n",
       "          )\n",
       "          (output): BertOutput(\n",
       "            (dense): Linear(in_features=4096, out_features=1024, bias=True)\n",
       "            (LayerNorm): BertLayerNorm()\n",
       "            (dropout): Dropout(p=0.1, inplace=False)\n",
       "          )\n",
       "        )\n",
       "        (15): BertLayer(\n",
       "          (attention): BertAttention(\n",
       "            (self): BertSelfAttention(\n",
       "              (query): Linear(in_features=1024, out_features=1024, bias=True)\n",
       "              (key): Linear(in_features=1024, out_features=1024, bias=True)\n",
       "              (value): Linear(in_features=1024, out_features=1024, bias=True)\n",
       "              (dropout): Dropout(p=0.1, inplace=False)\n",
       "            )\n",
       "            (output): BertSelfOutput(\n",
       "              (dense): Linear(in_features=1024, out_features=1024, bias=True)\n",
       "              (LayerNorm): BertLayerNorm()\n",
       "              (dropout): Dropout(p=0.1, inplace=False)\n",
       "            )\n",
       "          )\n",
       "          (intermediate): BertIntermediate(\n",
       "            (dense): Linear(in_features=1024, out_features=4096, bias=True)\n",
       "          )\n",
       "          (output): BertOutput(\n",
       "            (dense): Linear(in_features=4096, out_features=1024, bias=True)\n",
       "            (LayerNorm): BertLayerNorm()\n",
       "            (dropout): Dropout(p=0.1, inplace=False)\n",
       "          )\n",
       "        )\n",
       "        (16): BertLayer(\n",
       "          (attention): BertAttention(\n",
       "            (self): BertSelfAttention(\n",
       "              (query): Linear(in_features=1024, out_features=1024, bias=True)\n",
       "              (key): Linear(in_features=1024, out_features=1024, bias=True)\n",
       "              (value): Linear(in_features=1024, out_features=1024, bias=True)\n",
       "              (dropout): Dropout(p=0.1, inplace=False)\n",
       "            )\n",
       "            (output): BertSelfOutput(\n",
       "              (dense): Linear(in_features=1024, out_features=1024, bias=True)\n",
       "              (LayerNorm): BertLayerNorm()\n",
       "              (dropout): Dropout(p=0.1, inplace=False)\n",
       "            )\n",
       "          )\n",
       "          (intermediate): BertIntermediate(\n",
       "            (dense): Linear(in_features=1024, out_features=4096, bias=True)\n",
       "          )\n",
       "          (output): BertOutput(\n",
       "            (dense): Linear(in_features=4096, out_features=1024, bias=True)\n",
       "            (LayerNorm): BertLayerNorm()\n",
       "            (dropout): Dropout(p=0.1, inplace=False)\n",
       "          )\n",
       "        )\n",
       "        (17): BertLayer(\n",
       "          (attention): BertAttention(\n",
       "            (self): BertSelfAttention(\n",
       "              (query): Linear(in_features=1024, out_features=1024, bias=True)\n",
       "              (key): Linear(in_features=1024, out_features=1024, bias=True)\n",
       "              (value): Linear(in_features=1024, out_features=1024, bias=True)\n",
       "              (dropout): Dropout(p=0.1, inplace=False)\n",
       "            )\n",
       "            (output): BertSelfOutput(\n",
       "              (dense): Linear(in_features=1024, out_features=1024, bias=True)\n",
       "              (LayerNorm): BertLayerNorm()\n",
       "              (dropout): Dropout(p=0.1, inplace=False)\n",
       "            )\n",
       "          )\n",
       "          (intermediate): BertIntermediate(\n",
       "            (dense): Linear(in_features=1024, out_features=4096, bias=True)\n",
       "          )\n",
       "          (output): BertOutput(\n",
       "            (dense): Linear(in_features=4096, out_features=1024, bias=True)\n",
       "            (LayerNorm): BertLayerNorm()\n",
       "            (dropout): Dropout(p=0.1, inplace=False)\n",
       "          )\n",
       "        )\n",
       "        (18): BertLayer(\n",
       "          (attention): BertAttention(\n",
       "            (self): BertSelfAttention(\n",
       "              (query): Linear(in_features=1024, out_features=1024, bias=True)\n",
       "              (key): Linear(in_features=1024, out_features=1024, bias=True)\n",
       "              (value): Linear(in_features=1024, out_features=1024, bias=True)\n",
       "              (dropout): Dropout(p=0.1, inplace=False)\n",
       "            )\n",
       "            (output): BertSelfOutput(\n",
       "              (dense): Linear(in_features=1024, out_features=1024, bias=True)\n",
       "              (LayerNorm): BertLayerNorm()\n",
       "              (dropout): Dropout(p=0.1, inplace=False)\n",
       "            )\n",
       "          )\n",
       "          (intermediate): BertIntermediate(\n",
       "            (dense): Linear(in_features=1024, out_features=4096, bias=True)\n",
       "          )\n",
       "          (output): BertOutput(\n",
       "            (dense): Linear(in_features=4096, out_features=1024, bias=True)\n",
       "            (LayerNorm): BertLayerNorm()\n",
       "            (dropout): Dropout(p=0.1, inplace=False)\n",
       "          )\n",
       "        )\n",
       "        (19): BertLayer(\n",
       "          (attention): BertAttention(\n",
       "            (self): BertSelfAttention(\n",
       "              (query): Linear(in_features=1024, out_features=1024, bias=True)\n",
       "              (key): Linear(in_features=1024, out_features=1024, bias=True)\n",
       "              (value): Linear(in_features=1024, out_features=1024, bias=True)\n",
       "              (dropout): Dropout(p=0.1, inplace=False)\n",
       "            )\n",
       "            (output): BertSelfOutput(\n",
       "              (dense): Linear(in_features=1024, out_features=1024, bias=True)\n",
       "              (LayerNorm): BertLayerNorm()\n",
       "              (dropout): Dropout(p=0.1, inplace=False)\n",
       "            )\n",
       "          )\n",
       "          (intermediate): BertIntermediate(\n",
       "            (dense): Linear(in_features=1024, out_features=4096, bias=True)\n",
       "          )\n",
       "          (output): BertOutput(\n",
       "            (dense): Linear(in_features=4096, out_features=1024, bias=True)\n",
       "            (LayerNorm): BertLayerNorm()\n",
       "            (dropout): Dropout(p=0.1, inplace=False)\n",
       "          )\n",
       "        )\n",
       "        (20): BertLayer(\n",
       "          (attention): BertAttention(\n",
       "            (self): BertSelfAttention(\n",
       "              (query): Linear(in_features=1024, out_features=1024, bias=True)\n",
       "              (key): Linear(in_features=1024, out_features=1024, bias=True)\n",
       "              (value): Linear(in_features=1024, out_features=1024, bias=True)\n",
       "              (dropout): Dropout(p=0.1, inplace=False)\n",
       "            )\n",
       "            (output): BertSelfOutput(\n",
       "              (dense): Linear(in_features=1024, out_features=1024, bias=True)\n",
       "              (LayerNorm): BertLayerNorm()\n",
       "              (dropout): Dropout(p=0.1, inplace=False)\n",
       "            )\n",
       "          )\n",
       "          (intermediate): BertIntermediate(\n",
       "            (dense): Linear(in_features=1024, out_features=4096, bias=True)\n",
       "          )\n",
       "          (output): BertOutput(\n",
       "            (dense): Linear(in_features=4096, out_features=1024, bias=True)\n",
       "            (LayerNorm): BertLayerNorm()\n",
       "            (dropout): Dropout(p=0.1, inplace=False)\n",
       "          )\n",
       "        )\n",
       "        (21): BertLayer(\n",
       "          (attention): BertAttention(\n",
       "            (self): BertSelfAttention(\n",
       "              (query): Linear(in_features=1024, out_features=1024, bias=True)\n",
       "              (key): Linear(in_features=1024, out_features=1024, bias=True)\n",
       "              (value): Linear(in_features=1024, out_features=1024, bias=True)\n",
       "              (dropout): Dropout(p=0.1, inplace=False)\n",
       "            )\n",
       "            (output): BertSelfOutput(\n",
       "              (dense): Linear(in_features=1024, out_features=1024, bias=True)\n",
       "              (LayerNorm): BertLayerNorm()\n",
       "              (dropout): Dropout(p=0.1, inplace=False)\n",
       "            )\n",
       "          )\n",
       "          (intermediate): BertIntermediate(\n",
       "            (dense): Linear(in_features=1024, out_features=4096, bias=True)\n",
       "          )\n",
       "          (output): BertOutput(\n",
       "            (dense): Linear(in_features=4096, out_features=1024, bias=True)\n",
       "            (LayerNorm): BertLayerNorm()\n",
       "            (dropout): Dropout(p=0.1, inplace=False)\n",
       "          )\n",
       "        )\n",
       "        (22): BertLayer(\n",
       "          (attention): BertAttention(\n",
       "            (self): BertSelfAttention(\n",
       "              (query): Linear(in_features=1024, out_features=1024, bias=True)\n",
       "              (key): Linear(in_features=1024, out_features=1024, bias=True)\n",
       "              (value): Linear(in_features=1024, out_features=1024, bias=True)\n",
       "              (dropout): Dropout(p=0.1, inplace=False)\n",
       "            )\n",
       "            (output): BertSelfOutput(\n",
       "              (dense): Linear(in_features=1024, out_features=1024, bias=True)\n",
       "              (LayerNorm): BertLayerNorm()\n",
       "              (dropout): Dropout(p=0.1, inplace=False)\n",
       "            )\n",
       "          )\n",
       "          (intermediate): BertIntermediate(\n",
       "            (dense): Linear(in_features=1024, out_features=4096, bias=True)\n",
       "          )\n",
       "          (output): BertOutput(\n",
       "            (dense): Linear(in_features=4096, out_features=1024, bias=True)\n",
       "            (LayerNorm): BertLayerNorm()\n",
       "            (dropout): Dropout(p=0.1, inplace=False)\n",
       "          )\n",
       "        )\n",
       "        (23): BertLayer(\n",
       "          (attention): BertAttention(\n",
       "            (self): BertSelfAttention(\n",
       "              (query): Linear(in_features=1024, out_features=1024, bias=True)\n",
       "              (key): Linear(in_features=1024, out_features=1024, bias=True)\n",
       "              (value): Linear(in_features=1024, out_features=1024, bias=True)\n",
       "              (dropout): Dropout(p=0.1, inplace=False)\n",
       "            )\n",
       "            (output): BertSelfOutput(\n",
       "              (dense): Linear(in_features=1024, out_features=1024, bias=True)\n",
       "              (LayerNorm): BertLayerNorm()\n",
       "              (dropout): Dropout(p=0.1, inplace=False)\n",
       "            )\n",
       "          )\n",
       "          (intermediate): BertIntermediate(\n",
       "            (dense): Linear(in_features=1024, out_features=4096, bias=True)\n",
       "          )\n",
       "          (output): BertOutput(\n",
       "            (dense): Linear(in_features=4096, out_features=1024, bias=True)\n",
       "            (LayerNorm): BertLayerNorm()\n",
       "            (dropout): Dropout(p=0.1, inplace=False)\n",
       "          )\n",
       "        )\n",
       "      )\n",
       "    )\n",
       "    (pooler): BertPooler(\n",
       "      (dense): Linear(in_features=1024, out_features=1024, bias=True)\n",
       "      (activation): Tanh()\n",
       "    )\n",
       "  )\n",
       "  (pooler): BertPooler(\n",
       "    (dense): Linear(in_features=1024, out_features=1024, bias=True)\n",
       "    (activation): Tanh()\n",
       "  )\n",
       "  (dropout): Dropout(p=0.1, inplace=False)\n",
       "  (classifier): Linear(in_features=1024, out_features=2, bias=True)\n",
       ")"
      ]
     },
     "execution_count": 3,
     "metadata": {},
     "output_type": "execute_result"
    }
   ],
   "source": [
    "# Prepare model\n",
    "from models.gap.probert import ProBERT\n",
    "from models.gap.features import convert_examples_to_features\n",
    "\n",
    "from pytorch_pretrained_bert.file_utils import PYTORCH_PRETRAINED_BERT_CACHE\n",
    "from pytorch_pretrained_bert.modeling import BertConfig, WEIGHTS_NAME, CONFIG_NAME\n",
    "from transformers import BertTokenizer\n",
    "\n",
    "device = torch.device(\"cuda\" if torch.cuda.is_available() and not False else \"cpu\")\n",
    "n_gpu = torch.cuda.device_count()\n",
    "\n",
    "print('Preparing Model.')\n",
    "cache_dir = str(PYTORCH_PRETRAINED_BERT_CACHE)\n",
    "if model_version == 'probert':\n",
    "    model = ProBERT.from_pretrained(\"bert-base-uncased\",cache_dir=cache_dir,num_labels=2)\n",
    "\n",
    "model.to(device)\n",
    "\n",
    "if n_gpu > 1:\n",
    "    model = torch.nn.DataParallel(model)\n",
    "        \n",
    "# Loading the trained model and config that you have fine-tuned\n",
    "model_name = os.path.abspath(\"results/probert/train_evaluate/bert-large-uncased/probert/0/probert-singular\")\n",
    "output_model_file = os.path.join(model_name, WEIGHTS_NAME)\n",
    "output_config_file = os.path.join(model_name, CONFIG_NAME)\n",
    "config = BertConfig(output_config_file)\n",
    "\n",
    "tokenizer = BertTokenizer.from_pretrained(\"bert-large-uncased\", do_lower_case=True, \n",
    "                                          never_split=[\"[UNK]\", \"[SEP]\", \"[PAD]\", \"[CLS]\", \"[MASK]\"])\n",
    "\n",
    "if model_version == 'probert':\n",
    "    model = ProBERT(config,num_labels=2)\n",
    "\n",
    "if torch.cuda.is_available():\n",
    "    map_location=lambda storage, loc: storage.cuda()\n",
    "else:\n",
    "    map_location='cpu'\n",
    "\n",
    "model.load_state_dict(torch.load(output_model_file, map_location=map_location))\n",
    "model.to(device)\n"
   ]
  },
  {
   "cell_type": "code",
   "execution_count": 4,
   "id": "3aaac579",
   "metadata": {},
   "outputs": [
    {
     "name": "stderr",
     "output_type": "stream",
     "text": [
      "/dccstor/t4jmedia4374/miniconda3/envs/gap/lib/python3.7/site-packages/sklearn/utils/linear_assignment_.py:22: FutureWarning: The linear_assignment_ module is deprecated in 0.21 and will be removed from 0.23. Use scipy.optimize.linear_sum_assignment instead.\n",
      "  FutureWarning)\n",
      "/dccstor/t4jmedia4374/miniconda3/envs/gap/lib/python3.7/importlib/_bootstrap.py:219: RuntimeWarning: spacy.tokens.span.Span size changed, may indicate binary incompatibility. Expected 72 from C header, got 80 from PyObject\n",
      "  return f(*args, **kwds)\n",
      "/dccstor/t4jmedia4374/miniconda3/envs/gap/lib/python3.7/site-packages/tensorflow/python/framework/dtypes.py:526: FutureWarning: Passing (type, 1) or '1type' as a synonym of type is deprecated; in a future version of numpy, it will be understood as (type, (1,)) / '(1,)type'.\n",
      "  _np_qint8 = np.dtype([(\"qint8\", np.int8, 1)])\n",
      "/dccstor/t4jmedia4374/miniconda3/envs/gap/lib/python3.7/site-packages/tensorflow/python/framework/dtypes.py:527: FutureWarning: Passing (type, 1) or '1type' as a synonym of type is deprecated; in a future version of numpy, it will be understood as (type, (1,)) / '(1,)type'.\n",
      "  _np_quint8 = np.dtype([(\"quint8\", np.uint8, 1)])\n",
      "/dccstor/t4jmedia4374/miniconda3/envs/gap/lib/python3.7/site-packages/tensorflow/python/framework/dtypes.py:528: FutureWarning: Passing (type, 1) or '1type' as a synonym of type is deprecated; in a future version of numpy, it will be understood as (type, (1,)) / '(1,)type'.\n",
      "  _np_qint16 = np.dtype([(\"qint16\", np.int16, 1)])\n",
      "/dccstor/t4jmedia4374/miniconda3/envs/gap/lib/python3.7/site-packages/tensorflow/python/framework/dtypes.py:529: FutureWarning: Passing (type, 1) or '1type' as a synonym of type is deprecated; in a future version of numpy, it will be understood as (type, (1,)) / '(1,)type'.\n",
      "  _np_quint16 = np.dtype([(\"quint16\", np.uint16, 1)])\n",
      "/dccstor/t4jmedia4374/miniconda3/envs/gap/lib/python3.7/site-packages/tensorflow/python/framework/dtypes.py:530: FutureWarning: Passing (type, 1) or '1type' as a synonym of type is deprecated; in a future version of numpy, it will be understood as (type, (1,)) / '(1,)type'.\n",
      "  _np_qint32 = np.dtype([(\"qint32\", np.int32, 1)])\n",
      "/dccstor/t4jmedia4374/miniconda3/envs/gap/lib/python3.7/site-packages/tensorflow/python/framework/dtypes.py:535: FutureWarning: Passing (type, 1) or '1type' as a synonym of type is deprecated; in a future version of numpy, it will be understood as (type, (1,)) / '(1,)type'.\n",
      "  np_resource = np.dtype([(\"resource\", np.ubyte, 1)])\n"
     ]
    },
    {
     "name": "stdout",
     "output_type": "stream",
     "text": [
      "\n",
      "WARNING: The TensorFlow contrib module will not be included in TensorFlow 2.0.\n",
      "For more information, please see:\n",
      "  * https://github.com/tensorflow/community/blob/master/rfcs/20180907-contrib-sunset.md\n",
      "  * https://github.com/tensorflow/addons\n",
      "If you depend on functionality not listed there, please file an issue.\n",
      "\n"
     ]
    },
    {
     "name": "stderr",
     "output_type": "stream",
     "text": [
      "/dccstor/t4jmedia4374/miniconda3/envs/gap/lib/python3.7/site-packages/sklearn/externals/joblib/__init__.py:15: FutureWarning: sklearn.externals.joblib is deprecated in 0.21 and will be removed in 0.23. Please import this functionality directly from joblib, which can be installed with: pip install joblib. If this warning is raised when loading pickled models, you may need to re-serialize those models with scikit-learn 0.21+.\n",
      "  warnings.warn(msg, category=FutureWarning)\n"
     ]
    }
   ],
   "source": [
    "from tqdm import tqdm\n",
    "import numpy as np\n",
    "import contextlib\n",
    "from torch.utils.data import DataLoader, SequentialSampler,TensorDataset\n",
    "from models.utils import init_data\n",
    "\n",
    "def evaluate(model,eval_features,device,eval_mode=True):\n",
    "\n",
    "    model.eval()\n",
    "\n",
    "    all_input_ids = torch.tensor([f.input_ids for f in eval_features], dtype=torch.long)\n",
    "    all_input_mask = torch.tensor([f.input_mask for f in eval_features], dtype=torch.uint8)\n",
    "    all_segment_ids = torch.tensor([f.segment_ids for f in eval_features], dtype=torch.long)\n",
    "    all_gpr_tags_mask = torch.tensor([f.gpr_tags_mask for f in eval_features], dtype=torch.uint8)\n",
    "\n",
    "    all_mention_p_ids = torch.tensor([f.mention_p_ids for f in eval_features], dtype=torch.long)\n",
    "    all_mention_a_ids = torch.tensor([f.mention_a_ids for f in eval_features], dtype=torch.long)\n",
    "    all_mention_p_mask = torch.tensor([f.mention_p_mask for f in eval_features], dtype=torch.uint8)\n",
    "    all_mention_a_mask = torch.tensor([f.mention_a_mask for f in eval_features], dtype=torch.uint8)\n",
    "\n",
    "    all_cluster_ids_a = torch.tensor([f.cluster_ids_a for f in eval_features], dtype=torch.long)\n",
    "    all_cluster_mask_a = torch.tensor([f.cluster_mask_a for f in eval_features], dtype=torch.uint8)\n",
    "    all_cluster_ids_p = torch.tensor([f.cluster_ids_p for f in eval_features], dtype=torch.long)\n",
    "    all_cluster_mask_p = torch.tensor([f.cluster_mask_p for f in eval_features], dtype=torch.uint8)\n",
    "\n",
    "    all_pretrained = torch.tensor([f.pretrained for f in eval_features], dtype=torch.float)\n",
    "    \n",
    "    all_label_ids = torch.tensor([f.label_id for f in eval_features], dtype=torch.long)\n",
    "\n",
    "    eval_data = TensorDataset(all_input_ids, \n",
    "                                all_input_mask, \n",
    "                                all_segment_ids, \n",
    "                                all_gpr_tags_mask,\n",
    "                                all_mention_p_ids,\n",
    "                                all_mention_a_ids,\n",
    "                                all_mention_p_mask,\n",
    "                                all_mention_a_mask,\n",
    "                                all_cluster_ids_a,\n",
    "                                all_cluster_mask_a,\n",
    "                                all_cluster_ids_p,\n",
    "                                all_cluster_mask_p,\n",
    "                                all_pretrained,\n",
    "                                all_label_ids)\n",
    "\n",
    "    # Run prediction for full data\n",
    "    eval_sampler = SequentialSampler(eval_data)\n",
    "    eval_dataloader = DataLoader(eval_data, \n",
    "                                sampler=eval_sampler, \n",
    "                                batch_size=1)\n",
    "\n",
    "    eval_loss = 0\n",
    "    preds = []\n",
    "    attn_wts = []\n",
    "    pbar = tqdm(desc=\"Evaluating\", total=len(eval_dataloader)) if eval_mode else contextlib.suppress()\n",
    "    with pbar:\n",
    "        for step, batch in enumerate(eval_dataloader):\n",
    "            # with torch.cuda.device(0):\n",
    "            batch = tuple(t.to(device) for t in batch)\n",
    "            (input_ids, input_mask, segment_ids, \n",
    "                gpr_tags_mask,\n",
    "                mention_p_ids, mention_a_ids,\n",
    "                mention_p_mask, mention_a_mask,\n",
    "                cluster_ids_a, cluster_mask_a,\n",
    "                cluster_ids_p, cluster_mask_p, pretrained, label_ids) = batch\n",
    "\n",
    "            with torch.no_grad():\n",
    "                res = model(input_ids,\n",
    "                            segment_ids, \n",
    "                            input_mask, \n",
    "                            gpr_tags_mask=gpr_tags_mask,\n",
    "                            mention_p_ids=mention_p_ids,\n",
    "                            mention_a_ids=mention_a_ids,\n",
    "                            mention_p_mask=mention_p_mask,\n",
    "                            mention_a_mask=mention_a_mask, \n",
    "                            cluster_ids_a=cluster_ids_a,\n",
    "                            cluster_mask_a=cluster_mask_a,\n",
    "                            cluster_ids_p=cluster_ids_p,\n",
    "                            cluster_mask_p=cluster_mask_p,\n",
    "                            pretrained=pretrained,\n",
    "                            labels=None,\n",
    "                            training=False,\n",
    "                            eval_mode=eval_mode\n",
    "                        )\n",
    "\n",
    "                if eval_mode:\n",
    "                    logits, probabilties, attn_wts_m, attn_wts_c, attn_wts_co = res\n",
    "                else:\n",
    "                    logits, probabilties = res\n",
    "\n",
    "            if len(preds) == 0:\n",
    "                preds.append(probabilties.detach().cpu().numpy())\n",
    "            else:\n",
    "                preds[0] = np.append(preds[0], probabilties.detach().cpu().numpy(), axis=0)\n",
    "\n",
    "            if eval_mode:\n",
    "                pbar.update()\n",
    "\n",
    "                if len(attn_wts) == 0:\n",
    "                    attn_wts = [attn_wts_m, attn_wts_c]\n",
    "                else:\n",
    "                    attn_wts[0] = np.append(attn_wts[0], attn_wts_m, axis=0)\n",
    "                    attn_wts[1] = np.append(attn_wts[1], attn_wts_c, axis=0)\n",
    "\n",
    "    preds = preds[0]\n",
    "    return preds, attn_wts"
   ]
  },
  {
   "cell_type": "markdown",
   "id": "7cd9b640",
   "metadata": {},
   "source": [
    "## Testing Automatic Pipeline for Using the Detector"
   ]
  },
  {
   "cell_type": "code",
   "execution_count": 5,
   "id": "a642bcf5",
   "metadata": {},
   "outputs": [],
   "source": [
    "# Raw input text\n",
    "# original_text = [\"For the U.S. Under Secretary of State, see Lucy W. Benson. Lucy Benson is a fictional character from the long-running Channel 4 soap opera Hollyoaks,\" \\\n",
    "#                  \"played by Kerrie Taylor between 1995--2000 and appeared in the shows first ever episode airing on the 23 October 1995. The character left five years later when she went travelling.\",\n",
    "#                  \"Kathleen Nott was born in Camberwell, London. Her father, Philip, was a lithographic printer, and her mother, Ellen, ran a boarding house in Brixton; Kathleen was their third daughter. \"\\\n",
    "#                     \"She was educated at Mary Datchelor Girls' School (now closed), London, before attending King's College, London.\",\n",
    "#                 ]    \n",
    "original_text = [\n",
    "                    \"Kathleen Nott was born in Camberwell, London. Her father, Philip, was a lithographic printer, and her mother, Ellen, ran a boarding house in Brixton; Kathleen was their third daughter. \"\\\n",
    "                    \"She was educated at Mary Datchelor Girls' School (now closed), London, before attending King's College, London. This is where she met and married them.\",\n",
    "                ] \n",
    "# original_text = [\"Pat (they/them/their) was not sure how they should bring up inclusivity in the workplace.\"]"
   ]
  },
  {
   "cell_type": "code",
   "execution_count": 6,
   "id": "7e2dad6f",
   "metadata": {},
   "outputs": [],
   "source": [
    "# A list of raw input text\n",
    "text = [\"For the U.S. Under Secretary of State, see Lucy W. Benson. Lucy Benson is a fictional character from the long-running Channel 4 soap opera Hollyoaks, \\\n",
    "        played by Kerrie Taylor between 1995--2000 and appeared in the shows first ever episode airing on the 23 October 1995. The character left five years later when she went travelling.\",\n",
    "        \"Kathleen Nott was born in Camberwell, London. Her father, Philip, was a lithographic printer, and her mother, Ellen, ran a boarding house in Brixton; Kathleen was their third daughter. \\\n",
    "            She was educated at Mary Datchelor Girls' School (now closed), London, before attending King's College, London.\",\n",
    "        \"This is most notable in two almost unique settings of the Symbolum Apostolorum, \\\n",
    "            a Credo according to the Apostle's Creed, not according to the ordinary of the mass. \\\n",
    "            Infantas left no conventional mass setting. Michael Noone suggests that, \\\n",
    "            although it possible that Infantas may have been aware of a setting by the \\\n",
    "            French composer Le Brung printed in 1540, it is equally likely that Infantas believed his settings to be unique.\",\n",
    "        \"Tilton first made contact with Dozenberg when he was still in Chicago in 1927, \\\n",
    "            liquidating the print shop. Tilton wrote Dozenberg a letter in Latvian signed simply ``Alfred,'' asking Dozenberg \\\n",
    "            to meet him in New York as soon as he relocated there. Tilton met with Dozenberg in a restaurant in New York \\\n",
    "            City about a month later and asked Dozenberg to enter his service, without specifying the exact service in question.\"\n",
    "        ]"
   ]
  },
  {
   "cell_type": "code",
   "execution_count": 7,
   "id": "e030d4da",
   "metadata": {},
   "outputs": [],
   "source": [
    "_corenlp_url = 'http://cccxc440.pok.ibm.com:9000/'\n",
    "from pycorenlp import StanfordCoreNLP\n",
    "import json\n",
    "corenlp = StanfordCoreNLP(_corenlp_url)"
   ]
  },
  {
   "cell_type": "code",
   "execution_count": 15,
   "id": "94554e48",
   "metadata": {},
   "outputs": [
    {
     "name": "stdout",
     "output_type": "stream",
     "text": [
      "[{'Kathleen Nott': [0], 'Philip': [58], 'Ellen': [110], 'Kathleen': [0, 150]}] [{'Her': [46], 'her': [53, 98, 105, 306], 'their': [163], 'She': [185], 'she': [311], 'them': [331]}]\n"
     ]
    }
   ],
   "source": [
    "from typing import List\n",
    "\n",
    "def is_pronoun(sentence, entity):\n",
    "    for token_dict in sentence['tokens']:\n",
    "        if token_dict['originalText'] == entity:\n",
    "            return token_dict['pos'] == 'PRP' or token_dict['pos'] == 'PRP$'\n",
    "\n",
    "# need to get combinations of every pronoun + offset with every entity + offset\n",
    "def get_combinations(entity_dict, pronoun_dict):\n",
    "    combinations = []\n",
    "    # each pronoun\n",
    "    for pronoun in pronoun_dict:\n",
    "        # offset for each pronoun\n",
    "        for pronoun_offset in pronoun_dict[pronoun]:\n",
    "            finished_entities = []\n",
    "            # each pair of entities\n",
    "            for entity1 in entity_dict:\n",
    "                # no duplicates (only want one of [[entity1 = a], [entity2 = b]])\n",
    "                if entity1 not in finished_entities:\n",
    "                    # offset for each entity\n",
    "                    for entity1_offset in entity_dict[entity1]:\n",
    "                        combinations.append([pronoun, pronoun_offset, entity1, entity1_offset])\n",
    "                finished_entities.append(entity1)\n",
    "            \n",
    "    return combinations\n",
    "\n",
    "def get_entities_and_pronouns(original_text: List[str]):\n",
    "    entity_list, pronoun_list = [], []\n",
    "    if type(original_text) != list and original_text != []:\n",
    "        raise Exception(\"Input must be a list of strings.\")\n",
    "    \n",
    "    for i in range(len(original_text)):\n",
    "        entity_dict, pronoun_dict = {}, {}\n",
    "        root = json.loads(corenlp.annotate(original_text[i], properties={'annotators': 'parse,coref,openie,ner', \"timeout\": \"50000\"}))\n",
    "\n",
    "        for sentence_idx in range(len(root['sentences'])):\n",
    "            sentence = root['sentences'][sentence_idx]\n",
    "            for idx in range(len(sentence['entitymentions'])):\n",
    "                entity = sentence['entitymentions'][idx]['ner']\n",
    "                text = sentence['entitymentions'][idx]['text']\n",
    "                if entity == 'PERSON' and not is_pronoun(sentence, text):\n",
    "                    entity_dict[text] = []\n",
    "            for token_dict in sentence['tokens']:\n",
    "                if token_dict['pos'] == 'PRP' or token_dict['pos'] == 'PRP$':\n",
    "                    pronoun_dict[token_dict['originalText']] = []\n",
    "                    # if is_pronoun(sentence, text):\n",
    "                    #     pronoun_dict[text] = []\n",
    "                    # else:\n",
    "                    #     entity_dict[text] = []\n",
    "\n",
    "        # add offset from ORIGINAL text \n",
    "        # (can't add directly from above because coref annotation adds spaces / other chars) \n",
    "        for name in entity_dict:\n",
    "            if entity_dict[name] == []:\n",
    "                entity_dict[name] = [word.start() for word in re.finditer(name, original_text[i])]\n",
    "        for name in pronoun_dict:\n",
    "            if pronoun_dict[name] == []:\n",
    "                pronoun_dict[name] = [word.start() for word in re.finditer(name, original_text[i])]\n",
    "        \n",
    "        entity_list.append(entity_dict)\n",
    "        pronoun_list.append(pronoun_dict)\n",
    "    return entity_list, pronoun_list\n",
    "\n",
    "entity_list, pronoun_list = get_entities_and_pronouns(original_text)\n",
    "print(entity_list, pronoun_list)\n",
    "combinations = []\n",
    "for i in range(len(entity_list)):\n",
    "    # get all possible permutations of (entity, pronoun)\n",
    "    combs = get_combinations(entity_list[i], pronoun_list[i])\n",
    "    combinations.extend(combs)"
   ]
  },
  {
   "cell_type": "code",
   "execution_count": 16,
   "id": "04c7d2d5",
   "metadata": {},
   "outputs": [
    {
     "data": {
      "text/plain": [
       "[['Her', 46, 'Kathleen Nott', 0],\n",
       " ['Her', 46, 'Philip', 58],\n",
       " ['Her', 46, 'Ellen', 110],\n",
       " ['Her', 46, 'Kathleen', 0],\n",
       " ['Her', 46, 'Kathleen', 150],\n",
       " ['her', 53, 'Kathleen Nott', 0],\n",
       " ['her', 53, 'Philip', 58],\n",
       " ['her', 53, 'Ellen', 110],\n",
       " ['her', 53, 'Kathleen', 0],\n",
       " ['her', 53, 'Kathleen', 150],\n",
       " ['her', 98, 'Kathleen Nott', 0],\n",
       " ['her', 98, 'Philip', 58],\n",
       " ['her', 98, 'Ellen', 110],\n",
       " ['her', 98, 'Kathleen', 0],\n",
       " ['her', 98, 'Kathleen', 150],\n",
       " ['her', 105, 'Kathleen Nott', 0],\n",
       " ['her', 105, 'Philip', 58],\n",
       " ['her', 105, 'Ellen', 110],\n",
       " ['her', 105, 'Kathleen', 0],\n",
       " ['her', 105, 'Kathleen', 150],\n",
       " ['her', 306, 'Kathleen Nott', 0],\n",
       " ['her', 306, 'Philip', 58],\n",
       " ['her', 306, 'Ellen', 110],\n",
       " ['her', 306, 'Kathleen', 0],\n",
       " ['her', 306, 'Kathleen', 150],\n",
       " ['their', 163, 'Kathleen Nott', 0],\n",
       " ['their', 163, 'Philip', 58],\n",
       " ['their', 163, 'Ellen', 110],\n",
       " ['their', 163, 'Kathleen', 0],\n",
       " ['their', 163, 'Kathleen', 150],\n",
       " ['She', 185, 'Kathleen Nott', 0],\n",
       " ['She', 185, 'Philip', 58],\n",
       " ['She', 185, 'Ellen', 110],\n",
       " ['She', 185, 'Kathleen', 0],\n",
       " ['She', 185, 'Kathleen', 150],\n",
       " ['she', 311, 'Kathleen Nott', 0],\n",
       " ['she', 311, 'Philip', 58],\n",
       " ['she', 311, 'Ellen', 110],\n",
       " ['she', 311, 'Kathleen', 0],\n",
       " ['she', 311, 'Kathleen', 150],\n",
       " ['them', 331, 'Kathleen Nott', 0],\n",
       " ['them', 331, 'Philip', 58],\n",
       " ['them', 331, 'Ellen', 110],\n",
       " ['them', 331, 'Kathleen', 0],\n",
       " ['them', 331, 'Kathleen', 150]]"
      ]
     },
     "execution_count": 16,
     "metadata": {},
     "output_type": "execute_result"
    }
   ],
   "source": [
    "combinations"
   ]
  },
  {
   "cell_type": "code",
   "execution_count": 17,
   "id": "ea0e5825",
   "metadata": {},
   "outputs": [
    {
     "data": {
      "text/html": [
       "<div>\n",
       "<style scoped>\n",
       "    .dataframe tbody tr th:only-of-type {\n",
       "        vertical-align: middle;\n",
       "    }\n",
       "\n",
       "    .dataframe tbody tr th {\n",
       "        vertical-align: top;\n",
       "    }\n",
       "\n",
       "    .dataframe thead th {\n",
       "        text-align: right;\n",
       "    }\n",
       "</style>\n",
       "<table border=\"1\" class=\"dataframe\">\n",
       "  <thead>\n",
       "    <tr style=\"text-align: right;\">\n",
       "      <th></th>\n",
       "      <th>id</th>\n",
       "      <th>text</th>\n",
       "      <th>pronoun</th>\n",
       "      <th>pronoun_offset</th>\n",
       "      <th>a</th>\n",
       "      <th>a_offset</th>\n",
       "      <th>url</th>\n",
       "    </tr>\n",
       "  </thead>\n",
       "  <tbody>\n",
       "    <tr>\n",
       "      <th>0</th>\n",
       "      <td>na</td>\n",
       "      <td>Kathleen Nott was born in Camberwell, London. ...</td>\n",
       "      <td>Her</td>\n",
       "      <td>46</td>\n",
       "      <td>Kathleen Nott</td>\n",
       "      <td>0</td>\n",
       "      <td>na</td>\n",
       "    </tr>\n",
       "  </tbody>\n",
       "</table>\n",
       "</div>"
      ],
      "text/plain": [
       "   id                                               text pronoun  \\\n",
       "0  na  Kathleen Nott was born in Camberwell, London. ...     Her   \n",
       "\n",
       "   pronoun_offset              a  a_offset url  \n",
       "0              46  Kathleen Nott         0  na  "
      ]
     },
     "metadata": {},
     "output_type": "display_data"
    },
    {
     "name": "stderr",
     "output_type": "stream",
     "text": [
      "Initializing Step InputReader\n",
      "Step InputReader initialized\n",
      "Initializing Step LabelSanitizer\n",
      "Step LabelSanitizer initialized\n",
      "Initializing Step MentionsAnnotator\n",
      "Step MentionsAnnotator initialized\n",
      "Initializing Step gather_step\n",
      "STEPPY WARNING: Step with name \"InputReader\", already exist. Make sure that all Steps have unique name.\n",
      "Step gather_step initialized\n",
      "Step gather_step, working in \"inference\" mode\n",
      "Step InputReader, working in \"inference\" mode\n",
      "Step InputReader, adapting inputs\n",
      "Step InputReader, transforming...\n",
      "Step InputReader, transforming completed\n",
      "Step InputReader, transform completed\n",
      "Step LabelSanitizer, working in \"inference\" mode\n",
      "Step LabelSanitizer, adapting inputs\n",
      "Step LabelSanitizer, transforming...\n",
      "Step LabelSanitizer, transforming completed\n",
      "Step LabelSanitizer, transform completed\n",
      "Step MentionsAnnotator, working in \"inference\" mode\n",
      "Step InputReader, working in \"inference\" mode\n",
      "Step InputReader, adapting inputs\n",
      "Step InputReader, transforming...\n",
      "Step InputReader, transforming completed\n",
      "Step InputReader, transform completed\n",
      "Step MentionsAnnotator, unpacking inputs\n",
      "Step MentionsAnnotator, transforming...\n"
     ]
    },
    {
     "name": "stdout",
     "output_type": "stream",
     "text": [
      "Transforming data to features.\n",
      "------BEFORE DATA PIPELINE------- results/probert\n",
      "Empty DataFrame\n",
      "Columns: [id, label]\n",
      "Index: []\n"
     ]
    },
    {
     "name": "stderr",
     "output_type": "stream",
     "text": [
      "Extracting coref clusters...: 100%|██████████| 1/1 [00:00<00:00, 166.28it/s]\n",
      "Step MentionsAnnotator, transforming completed\n",
      "Step MentionsAnnotator, transform completed\n",
      "Step gather_step, adapting inputs\n",
      "Step gather_step, transforming...\n",
      "Step gather_step, transforming completed\n",
      "Step gather_step, transform completed\n"
     ]
    },
    {
     "name": "stdout",
     "output_type": "stream",
     "text": [
      "Transforming data to features done.\n",
      " Log a couple of examples for sanity check.\n",
      "\n"
     ]
    },
    {
     "name": "stderr",
     "output_type": "stream",
     "text": [
      "Convert Examples to features: 1it [00:00, 71.48it/s]\n",
      "Evaluating:   0%|          | 0/1 [00:00<?, ?it/s]"
     ]
    },
    {
     "name": "stderr",
     "output_type": "stream",
     "text": [
      "/dccstor/media-bias-4374/gender-ambiguity-detectors/gap/models/gap/probert.py:35: UserWarning: indexing with dtype torch.uint8 is now deprecated, please use a dtype torch.bool instead. (Triggered internally at  ../aten/src/ATen/native/IndexingUtils.h:28.)\n",
      "  sequence_output = sequence_output[~gpr_tags_mask].view(batch_size, -1, self.config.hidden_size)\n",
      "Evaluating: 100%|██████████| 1/1 [00:05<00:00,  5.42s/it]"
     ]
    },
    {
     "name": "stdout",
     "output_type": "stream",
     "text": [
      "[0.99260384 0.00739616]\n",
      "Known pronoun 'Her' resolves 'True' to 'Kathleen Nott' with a probability of '0.9926038384437561'\n"
     ]
    },
    {
     "name": "stderr",
     "output_type": "stream",
     "text": [
      "\n"
     ]
    },
    {
     "data": {
      "text/html": [
       "<div>\n",
       "<style scoped>\n",
       "    .dataframe tbody tr th:only-of-type {\n",
       "        vertical-align: middle;\n",
       "    }\n",
       "\n",
       "    .dataframe tbody tr th {\n",
       "        vertical-align: top;\n",
       "    }\n",
       "\n",
       "    .dataframe thead th {\n",
       "        text-align: right;\n",
       "    }\n",
       "</style>\n",
       "<table border=\"1\" class=\"dataframe\">\n",
       "  <thead>\n",
       "    <tr style=\"text-align: right;\">\n",
       "      <th></th>\n",
       "      <th>id</th>\n",
       "      <th>text</th>\n",
       "      <th>pronoun</th>\n",
       "      <th>pronoun_offset</th>\n",
       "      <th>a</th>\n",
       "      <th>a_offset</th>\n",
       "      <th>url</th>\n",
       "    </tr>\n",
       "  </thead>\n",
       "  <tbody>\n",
       "    <tr>\n",
       "      <th>0</th>\n",
       "      <td>na</td>\n",
       "      <td>Kathleen Nott was born in Camberwell, London. ...</td>\n",
       "      <td>Her</td>\n",
       "      <td>46</td>\n",
       "      <td>Philip</td>\n",
       "      <td>58</td>\n",
       "      <td>na</td>\n",
       "    </tr>\n",
       "  </tbody>\n",
       "</table>\n",
       "</div>"
      ],
      "text/plain": [
       "   id                                               text pronoun  \\\n",
       "0  na  Kathleen Nott was born in Camberwell, London. ...     Her   \n",
       "\n",
       "   pronoun_offset       a  a_offset url  \n",
       "0              46  Philip        58  na  "
      ]
     },
     "metadata": {},
     "output_type": "display_data"
    },
    {
     "name": "stderr",
     "output_type": "stream",
     "text": [
      "Initializing Step InputReader\n",
      "Step InputReader initialized\n",
      "Initializing Step LabelSanitizer\n",
      "Step LabelSanitizer initialized\n",
      "Initializing Step MentionsAnnotator\n",
      "Step MentionsAnnotator initialized\n",
      "Initializing Step gather_step\n",
      "STEPPY WARNING: Step with name \"InputReader\", already exist. Make sure that all Steps have unique name.\n",
      "Step gather_step initialized\n",
      "Step gather_step, working in \"inference\" mode\n",
      "Step InputReader, working in \"inference\" mode\n",
      "Step InputReader, adapting inputs\n",
      "Step InputReader, transforming...\n",
      "Step InputReader, transforming completed\n",
      "Step InputReader, transform completed\n",
      "Step LabelSanitizer, working in \"inference\" mode\n",
      "Step LabelSanitizer, adapting inputs\n",
      "Step LabelSanitizer, transforming...\n",
      "Step LabelSanitizer, transforming completed\n",
      "Step LabelSanitizer, transform completed\n",
      "Step MentionsAnnotator, working in \"inference\" mode\n",
      "Step InputReader, working in \"inference\" mode\n",
      "Step InputReader, adapting inputs\n",
      "Step InputReader, transforming...\n",
      "Step InputReader, transforming completed\n",
      "Step InputReader, transform completed\n",
      "Step MentionsAnnotator, unpacking inputs\n",
      "Step MentionsAnnotator, transforming...\n"
     ]
    },
    {
     "name": "stdout",
     "output_type": "stream",
     "text": [
      "Transforming data to features.\n",
      "------BEFORE DATA PIPELINE------- results/probert\n",
      "Empty DataFrame\n",
      "Columns: [id, label]\n",
      "Index: []\n"
     ]
    },
    {
     "name": "stderr",
     "output_type": "stream",
     "text": [
      "Extracting coref clusters...: 100%|██████████| 1/1 [00:00<00:00, 387.21it/s]\n",
      "Step MentionsAnnotator, transforming completed\n",
      "Step MentionsAnnotator, transform completed\n",
      "Step gather_step, adapting inputs\n",
      "Step gather_step, transforming...\n",
      "Step gather_step, transforming completed\n",
      "Step gather_step, transform completed\n"
     ]
    },
    {
     "name": "stdout",
     "output_type": "stream",
     "text": [
      "Transforming data to features done.\n",
      " Log a couple of examples for sanity check.\n",
      "\n"
     ]
    },
    {
     "name": "stderr",
     "output_type": "stream",
     "text": [
      "Convert Examples to features: 1it [00:00, 132.68it/s]\n",
      "Evaluating:   0%|          | 0/1 [00:00<?, ?it/s]/dccstor/media-bias-4374/gender-ambiguity-detectors/gap/models/gap/probert.py:35: UserWarning: indexing with dtype torch.uint8 is now deprecated, please use a dtype torch.bool instead. (Triggered internally at  ../aten/src/ATen/native/IndexingUtils.h:28.)\n",
      "  sequence_output = sequence_output[~gpr_tags_mask].view(batch_size, -1, self.config.hidden_size)\n",
      "Evaluating: 100%|██████████| 1/1 [00:05<00:00,  5.51s/it]"
     ]
    },
    {
     "name": "stdout",
     "output_type": "stream",
     "text": [
      "[0.00402209 0.99597794]\n",
      "Known pronoun 'Her' resolves 'False' to 'Philip' with a probability of '0.9959779381752014'\n"
     ]
    },
    {
     "name": "stderr",
     "output_type": "stream",
     "text": [
      "\n"
     ]
    },
    {
     "data": {
      "text/html": [
       "<div>\n",
       "<style scoped>\n",
       "    .dataframe tbody tr th:only-of-type {\n",
       "        vertical-align: middle;\n",
       "    }\n",
       "\n",
       "    .dataframe tbody tr th {\n",
       "        vertical-align: top;\n",
       "    }\n",
       "\n",
       "    .dataframe thead th {\n",
       "        text-align: right;\n",
       "    }\n",
       "</style>\n",
       "<table border=\"1\" class=\"dataframe\">\n",
       "  <thead>\n",
       "    <tr style=\"text-align: right;\">\n",
       "      <th></th>\n",
       "      <th>id</th>\n",
       "      <th>text</th>\n",
       "      <th>pronoun</th>\n",
       "      <th>pronoun_offset</th>\n",
       "      <th>a</th>\n",
       "      <th>a_offset</th>\n",
       "      <th>url</th>\n",
       "    </tr>\n",
       "  </thead>\n",
       "  <tbody>\n",
       "    <tr>\n",
       "      <th>0</th>\n",
       "      <td>na</td>\n",
       "      <td>Kathleen Nott was born in Camberwell, London. ...</td>\n",
       "      <td>Her</td>\n",
       "      <td>46</td>\n",
       "      <td>Ellen</td>\n",
       "      <td>110</td>\n",
       "      <td>na</td>\n",
       "    </tr>\n",
       "  </tbody>\n",
       "</table>\n",
       "</div>"
      ],
      "text/plain": [
       "   id                                               text pronoun  \\\n",
       "0  na  Kathleen Nott was born in Camberwell, London. ...     Her   \n",
       "\n",
       "   pronoun_offset      a  a_offset url  \n",
       "0              46  Ellen       110  na  "
      ]
     },
     "metadata": {},
     "output_type": "display_data"
    },
    {
     "name": "stderr",
     "output_type": "stream",
     "text": [
      "Initializing Step InputReader\n",
      "Step InputReader initialized\n",
      "Initializing Step LabelSanitizer\n",
      "Step LabelSanitizer initialized\n",
      "Initializing Step MentionsAnnotator\n",
      "Step MentionsAnnotator initialized\n",
      "Initializing Step gather_step\n",
      "STEPPY WARNING: Step with name \"InputReader\", already exist. Make sure that all Steps have unique name.\n",
      "Step gather_step initialized\n",
      "Step gather_step, working in \"inference\" mode\n",
      "Step InputReader, working in \"inference\" mode\n",
      "Step InputReader, adapting inputs\n",
      "Step InputReader, transforming...\n",
      "Step InputReader, transforming completed\n",
      "Step InputReader, transform completed\n",
      "Step LabelSanitizer, working in \"inference\" mode\n",
      "Step LabelSanitizer, adapting inputs\n",
      "Step LabelSanitizer, transforming...\n",
      "Step LabelSanitizer, transforming completed\n",
      "Step LabelSanitizer, transform completed\n",
      "Step MentionsAnnotator, working in \"inference\" mode\n",
      "Step InputReader, working in \"inference\" mode\n",
      "Step InputReader, adapting inputs\n",
      "Step InputReader, transforming...\n",
      "Step InputReader, transforming completed\n",
      "Step InputReader, transform completed\n",
      "Step MentionsAnnotator, unpacking inputs\n",
      "Step MentionsAnnotator, transforming...\n"
     ]
    },
    {
     "name": "stdout",
     "output_type": "stream",
     "text": [
      "Transforming data to features.\n",
      "------BEFORE DATA PIPELINE------- results/probert\n",
      "Empty DataFrame\n",
      "Columns: [id, label]\n",
      "Index: []\n"
     ]
    },
    {
     "name": "stderr",
     "output_type": "stream",
     "text": [
      "Extracting coref clusters...: 100%|██████████| 1/1 [00:00<00:00, 357.17it/s]\n",
      "Step MentionsAnnotator, transforming completed\n",
      "Step MentionsAnnotator, transform completed\n",
      "Step gather_step, adapting inputs\n",
      "Step gather_step, transforming...\n",
      "Step gather_step, transforming completed\n",
      "Step gather_step, transform completed\n"
     ]
    },
    {
     "name": "stdout",
     "output_type": "stream",
     "text": [
      "Transforming data to features done.\n",
      " Log a couple of examples for sanity check.\n",
      "\n"
     ]
    },
    {
     "name": "stderr",
     "output_type": "stream",
     "text": [
      "Convert Examples to features: 1it [00:00, 126.19it/s]\n",
      "Evaluating:   0%|          | 0/1 [00:00<?, ?it/s]/dccstor/media-bias-4374/gender-ambiguity-detectors/gap/models/gap/probert.py:35: UserWarning: indexing with dtype torch.uint8 is now deprecated, please use a dtype torch.bool instead. (Triggered internally at  ../aten/src/ATen/native/IndexingUtils.h:28.)\n",
      "  sequence_output = sequence_output[~gpr_tags_mask].view(batch_size, -1, self.config.hidden_size)\n",
      "Evaluating: 100%|██████████| 1/1 [00:05<00:00,  5.12s/it]"
     ]
    },
    {
     "name": "stdout",
     "output_type": "stream",
     "text": [
      "[0.00593911 0.9940608 ]\n",
      "Known pronoun 'Her' resolves 'False' to 'Ellen' with a probability of '0.9940608143806458'\n"
     ]
    },
    {
     "name": "stderr",
     "output_type": "stream",
     "text": [
      "\n"
     ]
    },
    {
     "data": {
      "text/html": [
       "<div>\n",
       "<style scoped>\n",
       "    .dataframe tbody tr th:only-of-type {\n",
       "        vertical-align: middle;\n",
       "    }\n",
       "\n",
       "    .dataframe tbody tr th {\n",
       "        vertical-align: top;\n",
       "    }\n",
       "\n",
       "    .dataframe thead th {\n",
       "        text-align: right;\n",
       "    }\n",
       "</style>\n",
       "<table border=\"1\" class=\"dataframe\">\n",
       "  <thead>\n",
       "    <tr style=\"text-align: right;\">\n",
       "      <th></th>\n",
       "      <th>id</th>\n",
       "      <th>text</th>\n",
       "      <th>pronoun</th>\n",
       "      <th>pronoun_offset</th>\n",
       "      <th>a</th>\n",
       "      <th>a_offset</th>\n",
       "      <th>url</th>\n",
       "    </tr>\n",
       "  </thead>\n",
       "  <tbody>\n",
       "    <tr>\n",
       "      <th>0</th>\n",
       "      <td>na</td>\n",
       "      <td>Kathleen Nott was born in Camberwell, London. ...</td>\n",
       "      <td>Her</td>\n",
       "      <td>46</td>\n",
       "      <td>Kathleen</td>\n",
       "      <td>0</td>\n",
       "      <td>na</td>\n",
       "    </tr>\n",
       "  </tbody>\n",
       "</table>\n",
       "</div>"
      ],
      "text/plain": [
       "   id                                               text pronoun  \\\n",
       "0  na  Kathleen Nott was born in Camberwell, London. ...     Her   \n",
       "\n",
       "   pronoun_offset         a  a_offset url  \n",
       "0              46  Kathleen         0  na  "
      ]
     },
     "metadata": {},
     "output_type": "display_data"
    },
    {
     "name": "stderr",
     "output_type": "stream",
     "text": [
      "Initializing Step InputReader\n",
      "Step InputReader initialized\n",
      "Initializing Step LabelSanitizer\n",
      "Step LabelSanitizer initialized\n",
      "Initializing Step MentionsAnnotator\n",
      "Step MentionsAnnotator initialized\n",
      "Initializing Step gather_step\n",
      "STEPPY WARNING: Step with name \"InputReader\", already exist. Make sure that all Steps have unique name.\n",
      "Step gather_step initialized\n",
      "Step gather_step, working in \"inference\" mode\n",
      "Step InputReader, working in \"inference\" mode\n",
      "Step InputReader, adapting inputs\n",
      "Step InputReader, transforming...\n",
      "Step InputReader, transforming completed\n",
      "Step InputReader, transform completed\n",
      "Step LabelSanitizer, working in \"inference\" mode\n",
      "Step LabelSanitizer, adapting inputs\n",
      "Step LabelSanitizer, transforming...\n",
      "Step LabelSanitizer, transforming completed\n",
      "Step LabelSanitizer, transform completed\n",
      "Step MentionsAnnotator, working in \"inference\" mode\n",
      "Step InputReader, working in \"inference\" mode\n",
      "Step InputReader, adapting inputs\n",
      "Step InputReader, transforming...\n",
      "Step InputReader, transforming completed\n",
      "Step InputReader, transform completed\n",
      "Step MentionsAnnotator, unpacking inputs\n",
      "Step MentionsAnnotator, transforming...\n"
     ]
    },
    {
     "name": "stdout",
     "output_type": "stream",
     "text": [
      "Transforming data to features.\n",
      "------BEFORE DATA PIPELINE------- results/probert\n",
      "Empty DataFrame\n",
      "Columns: [id, label]\n",
      "Index: []\n"
     ]
    },
    {
     "name": "stderr",
     "output_type": "stream",
     "text": [
      "Extracting coref clusters...: 100%|██████████| 1/1 [00:00<00:00, 308.61it/s]\n",
      "Step MentionsAnnotator, transforming completed\n",
      "Step MentionsAnnotator, transform completed\n",
      "Step gather_step, adapting inputs\n",
      "Step gather_step, transforming...\n",
      "Step gather_step, transforming completed\n",
      "Step gather_step, transform completed\n"
     ]
    },
    {
     "name": "stdout",
     "output_type": "stream",
     "text": [
      "Transforming data to features done.\n",
      " Log a couple of examples for sanity check.\n",
      "\n"
     ]
    },
    {
     "name": "stderr",
     "output_type": "stream",
     "text": [
      "Convert Examples to features: 1it [00:00, 123.71it/s]\n",
      "Evaluating:   0%|          | 0/1 [00:00<?, ?it/s]/dccstor/media-bias-4374/gender-ambiguity-detectors/gap/models/gap/probert.py:35: UserWarning: indexing with dtype torch.uint8 is now deprecated, please use a dtype torch.bool instead. (Triggered internally at  ../aten/src/ATen/native/IndexingUtils.h:28.)\n",
      "  sequence_output = sequence_output[~gpr_tags_mask].view(batch_size, -1, self.config.hidden_size)\n",
      "Evaluating: 100%|██████████| 1/1 [00:05<00:00,  5.14s/it]"
     ]
    },
    {
     "name": "stdout",
     "output_type": "stream",
     "text": [
      "[0.9805736  0.01942644]\n",
      "Known pronoun 'Her' resolves 'True' to 'Kathleen' with a probability of '0.9805735945701599'\n"
     ]
    },
    {
     "name": "stderr",
     "output_type": "stream",
     "text": [
      "\n"
     ]
    },
    {
     "data": {
      "text/html": [
       "<div>\n",
       "<style scoped>\n",
       "    .dataframe tbody tr th:only-of-type {\n",
       "        vertical-align: middle;\n",
       "    }\n",
       "\n",
       "    .dataframe tbody tr th {\n",
       "        vertical-align: top;\n",
       "    }\n",
       "\n",
       "    .dataframe thead th {\n",
       "        text-align: right;\n",
       "    }\n",
       "</style>\n",
       "<table border=\"1\" class=\"dataframe\">\n",
       "  <thead>\n",
       "    <tr style=\"text-align: right;\">\n",
       "      <th></th>\n",
       "      <th>id</th>\n",
       "      <th>text</th>\n",
       "      <th>pronoun</th>\n",
       "      <th>pronoun_offset</th>\n",
       "      <th>a</th>\n",
       "      <th>a_offset</th>\n",
       "      <th>url</th>\n",
       "    </tr>\n",
       "  </thead>\n",
       "  <tbody>\n",
       "    <tr>\n",
       "      <th>0</th>\n",
       "      <td>na</td>\n",
       "      <td>Kathleen Nott was born in Camberwell, London. ...</td>\n",
       "      <td>Her</td>\n",
       "      <td>46</td>\n",
       "      <td>Kathleen</td>\n",
       "      <td>150</td>\n",
       "      <td>na</td>\n",
       "    </tr>\n",
       "  </tbody>\n",
       "</table>\n",
       "</div>"
      ],
      "text/plain": [
       "   id                                               text pronoun  \\\n",
       "0  na  Kathleen Nott was born in Camberwell, London. ...     Her   \n",
       "\n",
       "   pronoun_offset         a  a_offset url  \n",
       "0              46  Kathleen       150  na  "
      ]
     },
     "metadata": {},
     "output_type": "display_data"
    },
    {
     "name": "stderr",
     "output_type": "stream",
     "text": [
      "Initializing Step InputReader\n",
      "Step InputReader initialized\n",
      "Initializing Step LabelSanitizer\n",
      "Step LabelSanitizer initialized\n",
      "Initializing Step MentionsAnnotator\n",
      "Step MentionsAnnotator initialized\n",
      "Initializing Step gather_step\n",
      "STEPPY WARNING: Step with name \"InputReader\", already exist. Make sure that all Steps have unique name.\n",
      "Step gather_step initialized\n",
      "Step gather_step, working in \"inference\" mode\n",
      "Step InputReader, working in \"inference\" mode\n",
      "Step InputReader, adapting inputs\n",
      "Step InputReader, transforming...\n",
      "Step InputReader, transforming completed\n",
      "Step InputReader, transform completed\n",
      "Step LabelSanitizer, working in \"inference\" mode\n",
      "Step LabelSanitizer, adapting inputs\n",
      "Step LabelSanitizer, transforming...\n",
      "Step LabelSanitizer, transforming completed\n",
      "Step LabelSanitizer, transform completed\n",
      "Step MentionsAnnotator, working in \"inference\" mode\n",
      "Step InputReader, working in \"inference\" mode\n",
      "Step InputReader, adapting inputs\n",
      "Step InputReader, transforming...\n",
      "Step InputReader, transforming completed\n",
      "Step InputReader, transform completed\n",
      "Step MentionsAnnotator, unpacking inputs\n",
      "Step MentionsAnnotator, transforming...\n"
     ]
    },
    {
     "name": "stdout",
     "output_type": "stream",
     "text": [
      "Transforming data to features.\n",
      "------BEFORE DATA PIPELINE------- results/probert\n",
      "Empty DataFrame\n",
      "Columns: [id, label]\n",
      "Index: []\n"
     ]
    },
    {
     "name": "stderr",
     "output_type": "stream",
     "text": [
      "Extracting coref clusters...: 100%|██████████| 1/1 [00:00<00:00, 318.93it/s]\n",
      "Step MentionsAnnotator, transforming completed\n",
      "Step MentionsAnnotator, transform completed\n",
      "Step gather_step, adapting inputs\n",
      "Step gather_step, transforming...\n",
      "Step gather_step, transforming completed\n",
      "Step gather_step, transform completed\n"
     ]
    },
    {
     "name": "stdout",
     "output_type": "stream",
     "text": [
      "Transforming data to features done.\n",
      " Log a couple of examples for sanity check.\n",
      "\n"
     ]
    },
    {
     "name": "stderr",
     "output_type": "stream",
     "text": [
      "Convert Examples to features: 1it [00:00, 113.67it/s]\n",
      "Evaluating:   0%|          | 0/1 [00:00<?, ?it/s]/dccstor/media-bias-4374/gender-ambiguity-detectors/gap/models/gap/probert.py:35: UserWarning: indexing with dtype torch.uint8 is now deprecated, please use a dtype torch.bool instead. (Triggered internally at  ../aten/src/ATen/native/IndexingUtils.h:28.)\n",
      "  sequence_output = sequence_output[~gpr_tags_mask].view(batch_size, -1, self.config.hidden_size)\n",
      "Evaluating: 100%|██████████| 1/1 [00:05<00:00,  5.17s/it]"
     ]
    },
    {
     "name": "stdout",
     "output_type": "stream",
     "text": [
      "[0.03754032 0.9624597 ]\n",
      "Known pronoun 'Her' resolves 'False' to 'Kathleen' with a probability of '0.9624596834182739'\n"
     ]
    },
    {
     "name": "stderr",
     "output_type": "stream",
     "text": [
      "\n"
     ]
    },
    {
     "data": {
      "text/html": [
       "<div>\n",
       "<style scoped>\n",
       "    .dataframe tbody tr th:only-of-type {\n",
       "        vertical-align: middle;\n",
       "    }\n",
       "\n",
       "    .dataframe tbody tr th {\n",
       "        vertical-align: top;\n",
       "    }\n",
       "\n",
       "    .dataframe thead th {\n",
       "        text-align: right;\n",
       "    }\n",
       "</style>\n",
       "<table border=\"1\" class=\"dataframe\">\n",
       "  <thead>\n",
       "    <tr style=\"text-align: right;\">\n",
       "      <th></th>\n",
       "      <th>id</th>\n",
       "      <th>text</th>\n",
       "      <th>pronoun</th>\n",
       "      <th>pronoun_offset</th>\n",
       "      <th>a</th>\n",
       "      <th>a_offset</th>\n",
       "      <th>url</th>\n",
       "    </tr>\n",
       "  </thead>\n",
       "  <tbody>\n",
       "    <tr>\n",
       "      <th>0</th>\n",
       "      <td>na</td>\n",
       "      <td>Kathleen Nott was born in Camberwell, London. ...</td>\n",
       "      <td>her</td>\n",
       "      <td>53</td>\n",
       "      <td>Kathleen Nott</td>\n",
       "      <td>0</td>\n",
       "      <td>na</td>\n",
       "    </tr>\n",
       "  </tbody>\n",
       "</table>\n",
       "</div>"
      ],
      "text/plain": [
       "   id                                               text pronoun  \\\n",
       "0  na  Kathleen Nott was born in Camberwell, London. ...     her   \n",
       "\n",
       "   pronoun_offset              a  a_offset url  \n",
       "0              53  Kathleen Nott         0  na  "
      ]
     },
     "metadata": {},
     "output_type": "display_data"
    },
    {
     "name": "stderr",
     "output_type": "stream",
     "text": [
      "Initializing Step InputReader\n",
      "Step InputReader initialized\n",
      "Initializing Step LabelSanitizer\n",
      "Step LabelSanitizer initialized\n",
      "Initializing Step MentionsAnnotator\n",
      "Step MentionsAnnotator initialized\n",
      "Initializing Step gather_step\n",
      "STEPPY WARNING: Step with name \"InputReader\", already exist. Make sure that all Steps have unique name.\n",
      "Step gather_step initialized\n",
      "Step gather_step, working in \"inference\" mode\n",
      "Step InputReader, working in \"inference\" mode\n",
      "Step InputReader, adapting inputs\n",
      "Step InputReader, transforming...\n",
      "Step InputReader, transforming completed\n",
      "Step InputReader, transform completed\n",
      "Step LabelSanitizer, working in \"inference\" mode\n",
      "Step LabelSanitizer, adapting inputs\n",
      "Step LabelSanitizer, transforming...\n",
      "Step LabelSanitizer, transforming completed\n",
      "Step LabelSanitizer, transform completed\n",
      "Step MentionsAnnotator, working in \"inference\" mode\n",
      "Step InputReader, working in \"inference\" mode\n",
      "Step InputReader, adapting inputs\n",
      "Step InputReader, transforming...\n",
      "Step InputReader, transforming completed\n",
      "Step InputReader, transform completed\n",
      "Step MentionsAnnotator, unpacking inputs\n",
      "Step MentionsAnnotator, transforming...\n"
     ]
    },
    {
     "name": "stdout",
     "output_type": "stream",
     "text": [
      "Transforming data to features.\n",
      "------BEFORE DATA PIPELINE------- results/probert\n",
      "Empty DataFrame\n",
      "Columns: [id, label]\n",
      "Index: []\n"
     ]
    },
    {
     "name": "stderr",
     "output_type": "stream",
     "text": [
      "Extracting coref clusters...: 100%|██████████| 1/1 [00:00<00:00, 392.36it/s]\n",
      "Step MentionsAnnotator, transforming completed\n",
      "Step MentionsAnnotator, transform completed\n",
      "Step gather_step, adapting inputs\n",
      "Step gather_step, transforming...\n",
      "Step gather_step, transforming completed\n",
      "Step gather_step, transform completed\n"
     ]
    },
    {
     "name": "stdout",
     "output_type": "stream",
     "text": [
      "Transforming data to features done.\n",
      " Log a couple of examples for sanity check.\n",
      "\n"
     ]
    },
    {
     "name": "stderr",
     "output_type": "stream",
     "text": [
      "Convert Examples to features: 1it [00:00, 129.38it/s]\n",
      "Evaluating:   0%|          | 0/1 [00:00<?, ?it/s]/dccstor/media-bias-4374/gender-ambiguity-detectors/gap/models/gap/probert.py:35: UserWarning: indexing with dtype torch.uint8 is now deprecated, please use a dtype torch.bool instead. (Triggered internally at  ../aten/src/ATen/native/IndexingUtils.h:28.)\n",
      "  sequence_output = sequence_output[~gpr_tags_mask].view(batch_size, -1, self.config.hidden_size)\n",
      "Evaluating: 100%|██████████| 1/1 [00:05<00:00,  5.14s/it]"
     ]
    },
    {
     "name": "stdout",
     "output_type": "stream",
     "text": [
      "[0.72761524 0.27238473]\n",
      "Known pronoun 'her' resolves 'True' to 'Kathleen Nott' with a probability of '0.727615237236023'\n"
     ]
    },
    {
     "name": "stderr",
     "output_type": "stream",
     "text": [
      "\n"
     ]
    },
    {
     "data": {
      "text/html": [
       "<div>\n",
       "<style scoped>\n",
       "    .dataframe tbody tr th:only-of-type {\n",
       "        vertical-align: middle;\n",
       "    }\n",
       "\n",
       "    .dataframe tbody tr th {\n",
       "        vertical-align: top;\n",
       "    }\n",
       "\n",
       "    .dataframe thead th {\n",
       "        text-align: right;\n",
       "    }\n",
       "</style>\n",
       "<table border=\"1\" class=\"dataframe\">\n",
       "  <thead>\n",
       "    <tr style=\"text-align: right;\">\n",
       "      <th></th>\n",
       "      <th>id</th>\n",
       "      <th>text</th>\n",
       "      <th>pronoun</th>\n",
       "      <th>pronoun_offset</th>\n",
       "      <th>a</th>\n",
       "      <th>a_offset</th>\n",
       "      <th>url</th>\n",
       "    </tr>\n",
       "  </thead>\n",
       "  <tbody>\n",
       "    <tr>\n",
       "      <th>0</th>\n",
       "      <td>na</td>\n",
       "      <td>Kathleen Nott was born in Camberwell, London. ...</td>\n",
       "      <td>her</td>\n",
       "      <td>53</td>\n",
       "      <td>Philip</td>\n",
       "      <td>58</td>\n",
       "      <td>na</td>\n",
       "    </tr>\n",
       "  </tbody>\n",
       "</table>\n",
       "</div>"
      ],
      "text/plain": [
       "   id                                               text pronoun  \\\n",
       "0  na  Kathleen Nott was born in Camberwell, London. ...     her   \n",
       "\n",
       "   pronoun_offset       a  a_offset url  \n",
       "0              53  Philip        58  na  "
      ]
     },
     "metadata": {},
     "output_type": "display_data"
    },
    {
     "name": "stderr",
     "output_type": "stream",
     "text": [
      "Initializing Step InputReader\n",
      "Step InputReader initialized\n",
      "Initializing Step LabelSanitizer\n",
      "Step LabelSanitizer initialized\n",
      "Initializing Step MentionsAnnotator\n",
      "Step MentionsAnnotator initialized\n",
      "Initializing Step gather_step\n",
      "STEPPY WARNING: Step with name \"InputReader\", already exist. Make sure that all Steps have unique name.\n",
      "Step gather_step initialized\n",
      "Step gather_step, working in \"inference\" mode\n",
      "Step InputReader, working in \"inference\" mode\n",
      "Step InputReader, adapting inputs\n",
      "Step InputReader, transforming...\n",
      "Step InputReader, transforming completed\n",
      "Step InputReader, transform completed\n",
      "Step LabelSanitizer, working in \"inference\" mode\n",
      "Step LabelSanitizer, adapting inputs\n",
      "Step LabelSanitizer, transforming...\n",
      "Step LabelSanitizer, transforming completed\n",
      "Step LabelSanitizer, transform completed\n",
      "Step MentionsAnnotator, working in \"inference\" mode\n",
      "Step InputReader, working in \"inference\" mode\n",
      "Step InputReader, adapting inputs\n",
      "Step InputReader, transforming...\n",
      "Step InputReader, transforming completed\n",
      "Step InputReader, transform completed\n",
      "Step MentionsAnnotator, unpacking inputs\n",
      "Step MentionsAnnotator, transforming...\n"
     ]
    },
    {
     "name": "stdout",
     "output_type": "stream",
     "text": [
      "Transforming data to features.\n",
      "------BEFORE DATA PIPELINE------- results/probert\n",
      "Empty DataFrame\n",
      "Columns: [id, label]\n",
      "Index: []\n"
     ]
    },
    {
     "name": "stderr",
     "output_type": "stream",
     "text": [
      "Extracting coref clusters...: 100%|██████████| 1/1 [00:00<00:00, 378.75it/s]\n",
      "Step MentionsAnnotator, transforming completed\n",
      "Step MentionsAnnotator, transform completed\n",
      "Step gather_step, adapting inputs\n",
      "Step gather_step, transforming...\n",
      "Step gather_step, transforming completed\n",
      "Step gather_step, transform completed\n"
     ]
    },
    {
     "name": "stdout",
     "output_type": "stream",
     "text": [
      "Transforming data to features done.\n",
      " Log a couple of examples for sanity check.\n",
      "\n"
     ]
    },
    {
     "name": "stderr",
     "output_type": "stream",
     "text": [
      "Convert Examples to features: 1it [00:00, 126.44it/s]\n",
      "Evaluating:   0%|          | 0/1 [00:00<?, ?it/s]/dccstor/media-bias-4374/gender-ambiguity-detectors/gap/models/gap/probert.py:35: UserWarning: indexing with dtype torch.uint8 is now deprecated, please use a dtype torch.bool instead. (Triggered internally at  ../aten/src/ATen/native/IndexingUtils.h:28.)\n",
      "  sequence_output = sequence_output[~gpr_tags_mask].view(batch_size, -1, self.config.hidden_size)\n",
      "Evaluating: 100%|██████████| 1/1 [00:05<00:00,  5.44s/it]"
     ]
    },
    {
     "name": "stdout",
     "output_type": "stream",
     "text": [
      "[0.01057735 0.9894226 ]\n",
      "Known pronoun 'her' resolves 'False' to 'Philip' with a probability of '0.989422619342804'\n"
     ]
    },
    {
     "name": "stderr",
     "output_type": "stream",
     "text": [
      "\n"
     ]
    },
    {
     "data": {
      "text/html": [
       "<div>\n",
       "<style scoped>\n",
       "    .dataframe tbody tr th:only-of-type {\n",
       "        vertical-align: middle;\n",
       "    }\n",
       "\n",
       "    .dataframe tbody tr th {\n",
       "        vertical-align: top;\n",
       "    }\n",
       "\n",
       "    .dataframe thead th {\n",
       "        text-align: right;\n",
       "    }\n",
       "</style>\n",
       "<table border=\"1\" class=\"dataframe\">\n",
       "  <thead>\n",
       "    <tr style=\"text-align: right;\">\n",
       "      <th></th>\n",
       "      <th>id</th>\n",
       "      <th>text</th>\n",
       "      <th>pronoun</th>\n",
       "      <th>pronoun_offset</th>\n",
       "      <th>a</th>\n",
       "      <th>a_offset</th>\n",
       "      <th>url</th>\n",
       "    </tr>\n",
       "  </thead>\n",
       "  <tbody>\n",
       "    <tr>\n",
       "      <th>0</th>\n",
       "      <td>na</td>\n",
       "      <td>Kathleen Nott was born in Camberwell, London. ...</td>\n",
       "      <td>her</td>\n",
       "      <td>53</td>\n",
       "      <td>Ellen</td>\n",
       "      <td>110</td>\n",
       "      <td>na</td>\n",
       "    </tr>\n",
       "  </tbody>\n",
       "</table>\n",
       "</div>"
      ],
      "text/plain": [
       "   id                                               text pronoun  \\\n",
       "0  na  Kathleen Nott was born in Camberwell, London. ...     her   \n",
       "\n",
       "   pronoun_offset      a  a_offset url  \n",
       "0              53  Ellen       110  na  "
      ]
     },
     "metadata": {},
     "output_type": "display_data"
    },
    {
     "name": "stderr",
     "output_type": "stream",
     "text": [
      "Initializing Step InputReader\n",
      "Step InputReader initialized\n",
      "Initializing Step LabelSanitizer\n",
      "Step LabelSanitizer initialized\n",
      "Initializing Step MentionsAnnotator\n",
      "Step MentionsAnnotator initialized\n",
      "Initializing Step gather_step\n",
      "STEPPY WARNING: Step with name \"InputReader\", already exist. Make sure that all Steps have unique name.\n",
      "Step gather_step initialized\n",
      "Step gather_step, working in \"inference\" mode\n",
      "Step InputReader, working in \"inference\" mode\n",
      "Step InputReader, adapting inputs\n",
      "Step InputReader, transforming...\n",
      "Step InputReader, transforming completed\n",
      "Step InputReader, transform completed\n",
      "Step LabelSanitizer, working in \"inference\" mode\n",
      "Step LabelSanitizer, adapting inputs\n",
      "Step LabelSanitizer, transforming...\n",
      "Step LabelSanitizer, transforming completed\n",
      "Step LabelSanitizer, transform completed\n",
      "Step MentionsAnnotator, working in \"inference\" mode\n",
      "Step InputReader, working in \"inference\" mode\n",
      "Step InputReader, adapting inputs\n",
      "Step InputReader, transforming...\n",
      "Step InputReader, transforming completed\n",
      "Step InputReader, transform completed\n",
      "Step MentionsAnnotator, unpacking inputs\n",
      "Step MentionsAnnotator, transforming...\n"
     ]
    },
    {
     "name": "stdout",
     "output_type": "stream",
     "text": [
      "Transforming data to features.\n",
      "------BEFORE DATA PIPELINE------- results/probert\n",
      "Empty DataFrame\n",
      "Columns: [id, label]\n",
      "Index: []\n"
     ]
    },
    {
     "name": "stderr",
     "output_type": "stream",
     "text": [
      "Extracting coref clusters...: 100%|██████████| 1/1 [00:00<00:00, 370.72it/s]\n",
      "Step MentionsAnnotator, transforming completed\n",
      "Step MentionsAnnotator, transform completed\n",
      "Step gather_step, adapting inputs\n",
      "Step gather_step, transforming...\n",
      "Step gather_step, transforming completed\n",
      "Step gather_step, transform completed\n"
     ]
    },
    {
     "name": "stdout",
     "output_type": "stream",
     "text": [
      "Transforming data to features done.\n",
      " Log a couple of examples for sanity check.\n",
      "\n"
     ]
    },
    {
     "name": "stderr",
     "output_type": "stream",
     "text": [
      "Convert Examples to features: 1it [00:00, 116.87it/s]\n",
      "Evaluating:   0%|          | 0/1 [00:00<?, ?it/s]/dccstor/media-bias-4374/gender-ambiguity-detectors/gap/models/gap/probert.py:35: UserWarning: indexing with dtype torch.uint8 is now deprecated, please use a dtype torch.bool instead. (Triggered internally at  ../aten/src/ATen/native/IndexingUtils.h:28.)\n",
      "  sequence_output = sequence_output[~gpr_tags_mask].view(batch_size, -1, self.config.hidden_size)\n",
      "Evaluating: 100%|██████████| 1/1 [00:05<00:00,  5.22s/it]"
     ]
    },
    {
     "name": "stdout",
     "output_type": "stream",
     "text": [
      "[0.01645187 0.9835481 ]\n",
      "Known pronoun 'her' resolves 'False' to 'Ellen' with a probability of '0.983548104763031'\n"
     ]
    },
    {
     "name": "stderr",
     "output_type": "stream",
     "text": [
      "\n"
     ]
    },
    {
     "data": {
      "text/html": [
       "<div>\n",
       "<style scoped>\n",
       "    .dataframe tbody tr th:only-of-type {\n",
       "        vertical-align: middle;\n",
       "    }\n",
       "\n",
       "    .dataframe tbody tr th {\n",
       "        vertical-align: top;\n",
       "    }\n",
       "\n",
       "    .dataframe thead th {\n",
       "        text-align: right;\n",
       "    }\n",
       "</style>\n",
       "<table border=\"1\" class=\"dataframe\">\n",
       "  <thead>\n",
       "    <tr style=\"text-align: right;\">\n",
       "      <th></th>\n",
       "      <th>id</th>\n",
       "      <th>text</th>\n",
       "      <th>pronoun</th>\n",
       "      <th>pronoun_offset</th>\n",
       "      <th>a</th>\n",
       "      <th>a_offset</th>\n",
       "      <th>url</th>\n",
       "    </tr>\n",
       "  </thead>\n",
       "  <tbody>\n",
       "    <tr>\n",
       "      <th>0</th>\n",
       "      <td>na</td>\n",
       "      <td>Kathleen Nott was born in Camberwell, London. ...</td>\n",
       "      <td>her</td>\n",
       "      <td>53</td>\n",
       "      <td>Kathleen</td>\n",
       "      <td>0</td>\n",
       "      <td>na</td>\n",
       "    </tr>\n",
       "  </tbody>\n",
       "</table>\n",
       "</div>"
      ],
      "text/plain": [
       "   id                                               text pronoun  \\\n",
       "0  na  Kathleen Nott was born in Camberwell, London. ...     her   \n",
       "\n",
       "   pronoun_offset         a  a_offset url  \n",
       "0              53  Kathleen         0  na  "
      ]
     },
     "metadata": {},
     "output_type": "display_data"
    },
    {
     "name": "stderr",
     "output_type": "stream",
     "text": [
      "Initializing Step InputReader\n",
      "Step InputReader initialized\n",
      "Initializing Step LabelSanitizer\n",
      "Step LabelSanitizer initialized\n",
      "Initializing Step MentionsAnnotator\n",
      "Step MentionsAnnotator initialized\n",
      "Initializing Step gather_step\n",
      "STEPPY WARNING: Step with name \"InputReader\", already exist. Make sure that all Steps have unique name.\n",
      "Step gather_step initialized\n",
      "Step gather_step, working in \"inference\" mode\n",
      "Step InputReader, working in \"inference\" mode\n",
      "Step InputReader, adapting inputs\n",
      "Step InputReader, transforming...\n",
      "Step InputReader, transforming completed\n",
      "Step InputReader, transform completed\n",
      "Step LabelSanitizer, working in \"inference\" mode\n",
      "Step LabelSanitizer, adapting inputs\n",
      "Step LabelSanitizer, transforming...\n",
      "Step LabelSanitizer, transforming completed\n",
      "Step LabelSanitizer, transform completed\n",
      "Step MentionsAnnotator, working in \"inference\" mode\n",
      "Step InputReader, working in \"inference\" mode\n",
      "Step InputReader, adapting inputs\n",
      "Step InputReader, transforming...\n",
      "Step InputReader, transforming completed\n",
      "Step InputReader, transform completed\n",
      "Step MentionsAnnotator, unpacking inputs\n",
      "Step MentionsAnnotator, transforming...\n"
     ]
    },
    {
     "name": "stdout",
     "output_type": "stream",
     "text": [
      "Transforming data to features.\n",
      "------BEFORE DATA PIPELINE------- results/probert\n",
      "Empty DataFrame\n",
      "Columns: [id, label]\n",
      "Index: []\n"
     ]
    },
    {
     "name": "stderr",
     "output_type": "stream",
     "text": [
      "Extracting coref clusters...: 100%|██████████| 1/1 [00:00<00:00, 359.38it/s]\n",
      "Step MentionsAnnotator, transforming completed\n",
      "Step MentionsAnnotator, transform completed\n",
      "Step gather_step, adapting inputs\n",
      "Step gather_step, transforming...\n",
      "Step gather_step, transforming completed\n",
      "Step gather_step, transform completed\n"
     ]
    },
    {
     "name": "stdout",
     "output_type": "stream",
     "text": [
      "Transforming data to features done.\n",
      " Log a couple of examples for sanity check.\n",
      "\n"
     ]
    },
    {
     "name": "stderr",
     "output_type": "stream",
     "text": [
      "Convert Examples to features: 1it [00:00, 122.47it/s]\n",
      "Evaluating:   0%|          | 0/1 [00:00<?, ?it/s]/dccstor/media-bias-4374/gender-ambiguity-detectors/gap/models/gap/probert.py:35: UserWarning: indexing with dtype torch.uint8 is now deprecated, please use a dtype torch.bool instead. (Triggered internally at  ../aten/src/ATen/native/IndexingUtils.h:28.)\n",
      "  sequence_output = sequence_output[~gpr_tags_mask].view(batch_size, -1, self.config.hidden_size)\n",
      "Evaluating: 100%|██████████| 1/1 [00:06<00:00,  6.76s/it]"
     ]
    },
    {
     "name": "stdout",
     "output_type": "stream",
     "text": [
      "[0.5869416 0.4130584]\n",
      "Known pronoun 'her' resolves 'True' to 'Kathleen' with a probability of '0.5869415998458862'\n"
     ]
    },
    {
     "name": "stderr",
     "output_type": "stream",
     "text": [
      "\n"
     ]
    },
    {
     "data": {
      "text/html": [
       "<div>\n",
       "<style scoped>\n",
       "    .dataframe tbody tr th:only-of-type {\n",
       "        vertical-align: middle;\n",
       "    }\n",
       "\n",
       "    .dataframe tbody tr th {\n",
       "        vertical-align: top;\n",
       "    }\n",
       "\n",
       "    .dataframe thead th {\n",
       "        text-align: right;\n",
       "    }\n",
       "</style>\n",
       "<table border=\"1\" class=\"dataframe\">\n",
       "  <thead>\n",
       "    <tr style=\"text-align: right;\">\n",
       "      <th></th>\n",
       "      <th>id</th>\n",
       "      <th>text</th>\n",
       "      <th>pronoun</th>\n",
       "      <th>pronoun_offset</th>\n",
       "      <th>a</th>\n",
       "      <th>a_offset</th>\n",
       "      <th>url</th>\n",
       "    </tr>\n",
       "  </thead>\n",
       "  <tbody>\n",
       "    <tr>\n",
       "      <th>0</th>\n",
       "      <td>na</td>\n",
       "      <td>Kathleen Nott was born in Camberwell, London. ...</td>\n",
       "      <td>her</td>\n",
       "      <td>53</td>\n",
       "      <td>Kathleen</td>\n",
       "      <td>150</td>\n",
       "      <td>na</td>\n",
       "    </tr>\n",
       "  </tbody>\n",
       "</table>\n",
       "</div>"
      ],
      "text/plain": [
       "   id                                               text pronoun  \\\n",
       "0  na  Kathleen Nott was born in Camberwell, London. ...     her   \n",
       "\n",
       "   pronoun_offset         a  a_offset url  \n",
       "0              53  Kathleen       150  na  "
      ]
     },
     "metadata": {},
     "output_type": "display_data"
    },
    {
     "name": "stderr",
     "output_type": "stream",
     "text": [
      "Initializing Step InputReader\n",
      "Step InputReader initialized\n",
      "Initializing Step LabelSanitizer\n",
      "Step LabelSanitizer initialized\n",
      "Initializing Step MentionsAnnotator\n",
      "Step MentionsAnnotator initialized\n",
      "Initializing Step gather_step\n",
      "STEPPY WARNING: Step with name \"InputReader\", already exist. Make sure that all Steps have unique name.\n",
      "Step gather_step initialized\n",
      "Step gather_step, working in \"inference\" mode\n",
      "Step InputReader, working in \"inference\" mode\n",
      "Step InputReader, adapting inputs\n",
      "Step InputReader, transforming...\n",
      "Step InputReader, transforming completed\n",
      "Step InputReader, transform completed\n",
      "Step LabelSanitizer, working in \"inference\" mode\n",
      "Step LabelSanitizer, adapting inputs\n",
      "Step LabelSanitizer, transforming...\n",
      "Step LabelSanitizer, transforming completed\n",
      "Step LabelSanitizer, transform completed\n",
      "Step MentionsAnnotator, working in \"inference\" mode\n",
      "Step InputReader, working in \"inference\" mode\n",
      "Step InputReader, adapting inputs\n",
      "Step InputReader, transforming...\n",
      "Step InputReader, transforming completed\n",
      "Step InputReader, transform completed\n",
      "Step MentionsAnnotator, unpacking inputs\n",
      "Step MentionsAnnotator, transforming...\n"
     ]
    },
    {
     "name": "stdout",
     "output_type": "stream",
     "text": [
      "Transforming data to features.\n",
      "------BEFORE DATA PIPELINE------- results/probert\n",
      "Empty DataFrame\n",
      "Columns: [id, label]\n",
      "Index: []\n"
     ]
    },
    {
     "name": "stderr",
     "output_type": "stream",
     "text": [
      "Extracting coref clusters...: 100%|██████████| 1/1 [00:00<00:00, 324.81it/s]\n",
      "Step MentionsAnnotator, transforming completed\n",
      "Step MentionsAnnotator, transform completed\n",
      "Step gather_step, adapting inputs\n",
      "Step gather_step, transforming...\n",
      "Step gather_step, transforming completed\n",
      "Step gather_step, transform completed\n"
     ]
    },
    {
     "name": "stdout",
     "output_type": "stream",
     "text": [
      "Transforming data to features done.\n",
      " Log a couple of examples for sanity check.\n",
      "\n"
     ]
    },
    {
     "name": "stderr",
     "output_type": "stream",
     "text": [
      "Convert Examples to features: 1it [00:00, 119.51it/s]\n",
      "Evaluating:   0%|          | 0/1 [00:00<?, ?it/s]/dccstor/media-bias-4374/gender-ambiguity-detectors/gap/models/gap/probert.py:35: UserWarning: indexing with dtype torch.uint8 is now deprecated, please use a dtype torch.bool instead. (Triggered internally at  ../aten/src/ATen/native/IndexingUtils.h:28.)\n",
      "  sequence_output = sequence_output[~gpr_tags_mask].view(batch_size, -1, self.config.hidden_size)\n",
      "Evaluating: 100%|██████████| 1/1 [00:06<00:00,  6.13s/it]"
     ]
    },
    {
     "name": "stdout",
     "output_type": "stream",
     "text": [
      "[0.04886014 0.9511398 ]\n",
      "Known pronoun 'her' resolves 'False' to 'Kathleen' with a probability of '0.9511398077011108'\n"
     ]
    },
    {
     "name": "stderr",
     "output_type": "stream",
     "text": [
      "\n"
     ]
    },
    {
     "data": {
      "text/html": [
       "<div>\n",
       "<style scoped>\n",
       "    .dataframe tbody tr th:only-of-type {\n",
       "        vertical-align: middle;\n",
       "    }\n",
       "\n",
       "    .dataframe tbody tr th {\n",
       "        vertical-align: top;\n",
       "    }\n",
       "\n",
       "    .dataframe thead th {\n",
       "        text-align: right;\n",
       "    }\n",
       "</style>\n",
       "<table border=\"1\" class=\"dataframe\">\n",
       "  <thead>\n",
       "    <tr style=\"text-align: right;\">\n",
       "      <th></th>\n",
       "      <th>id</th>\n",
       "      <th>text</th>\n",
       "      <th>pronoun</th>\n",
       "      <th>pronoun_offset</th>\n",
       "      <th>a</th>\n",
       "      <th>a_offset</th>\n",
       "      <th>url</th>\n",
       "    </tr>\n",
       "  </thead>\n",
       "  <tbody>\n",
       "    <tr>\n",
       "      <th>0</th>\n",
       "      <td>na</td>\n",
       "      <td>Kathleen Nott was born in Camberwell, London. ...</td>\n",
       "      <td>her</td>\n",
       "      <td>98</td>\n",
       "      <td>Kathleen Nott</td>\n",
       "      <td>0</td>\n",
       "      <td>na</td>\n",
       "    </tr>\n",
       "  </tbody>\n",
       "</table>\n",
       "</div>"
      ],
      "text/plain": [
       "   id                                               text pronoun  \\\n",
       "0  na  Kathleen Nott was born in Camberwell, London. ...     her   \n",
       "\n",
       "   pronoun_offset              a  a_offset url  \n",
       "0              98  Kathleen Nott         0  na  "
      ]
     },
     "metadata": {},
     "output_type": "display_data"
    },
    {
     "name": "stderr",
     "output_type": "stream",
     "text": [
      "Initializing Step InputReader\n",
      "Step InputReader initialized\n",
      "Initializing Step LabelSanitizer\n",
      "Step LabelSanitizer initialized\n",
      "Initializing Step MentionsAnnotator\n",
      "Step MentionsAnnotator initialized\n",
      "Initializing Step gather_step\n",
      "STEPPY WARNING: Step with name \"InputReader\", already exist. Make sure that all Steps have unique name.\n",
      "Step gather_step initialized\n",
      "Step gather_step, working in \"inference\" mode\n",
      "Step InputReader, working in \"inference\" mode\n",
      "Step InputReader, adapting inputs\n",
      "Step InputReader, transforming...\n",
      "Step InputReader, transforming completed\n",
      "Step InputReader, transform completed\n",
      "Step LabelSanitizer, working in \"inference\" mode\n",
      "Step LabelSanitizer, adapting inputs\n",
      "Step LabelSanitizer, transforming...\n",
      "Step LabelSanitizer, transforming completed\n",
      "Step LabelSanitizer, transform completed\n",
      "Step MentionsAnnotator, working in \"inference\" mode\n",
      "Step InputReader, working in \"inference\" mode\n",
      "Step InputReader, adapting inputs\n",
      "Step InputReader, transforming...\n",
      "Step InputReader, transforming completed\n",
      "Step InputReader, transform completed\n",
      "Step MentionsAnnotator, unpacking inputs\n",
      "Step MentionsAnnotator, transforming...\n"
     ]
    },
    {
     "name": "stdout",
     "output_type": "stream",
     "text": [
      "Transforming data to features.\n",
      "------BEFORE DATA PIPELINE------- results/probert\n",
      "Empty DataFrame\n",
      "Columns: [id, label]\n",
      "Index: []\n"
     ]
    },
    {
     "name": "stderr",
     "output_type": "stream",
     "text": [
      "Extracting coref clusters...: 100%|██████████| 1/1 [00:00<00:00, 366.99it/s]\n",
      "Step MentionsAnnotator, transforming completed\n",
      "Step MentionsAnnotator, transform completed\n",
      "Step gather_step, adapting inputs\n",
      "Step gather_step, transforming...\n",
      "Step gather_step, transforming completed\n",
      "Step gather_step, transform completed\n"
     ]
    },
    {
     "name": "stdout",
     "output_type": "stream",
     "text": [
      "Transforming data to features done.\n",
      " Log a couple of examples for sanity check.\n",
      "\n"
     ]
    },
    {
     "name": "stderr",
     "output_type": "stream",
     "text": [
      "Convert Examples to features: 1it [00:00, 117.77it/s]\n",
      "Evaluating:   0%|          | 0/1 [00:00<?, ?it/s]/dccstor/media-bias-4374/gender-ambiguity-detectors/gap/models/gap/probert.py:35: UserWarning: indexing with dtype torch.uint8 is now deprecated, please use a dtype torch.bool instead. (Triggered internally at  ../aten/src/ATen/native/IndexingUtils.h:28.)\n",
      "  sequence_output = sequence_output[~gpr_tags_mask].view(batch_size, -1, self.config.hidden_size)\n",
      "Evaluating: 100%|██████████| 1/1 [00:05<00:00,  5.06s/it]"
     ]
    },
    {
     "name": "stdout",
     "output_type": "stream",
     "text": [
      "[0.977957   0.02204303]\n",
      "Known pronoun 'her' resolves 'True' to 'Kathleen Nott' with a probability of '0.977957010269165'\n"
     ]
    },
    {
     "name": "stderr",
     "output_type": "stream",
     "text": [
      "\n"
     ]
    },
    {
     "data": {
      "text/html": [
       "<div>\n",
       "<style scoped>\n",
       "    .dataframe tbody tr th:only-of-type {\n",
       "        vertical-align: middle;\n",
       "    }\n",
       "\n",
       "    .dataframe tbody tr th {\n",
       "        vertical-align: top;\n",
       "    }\n",
       "\n",
       "    .dataframe thead th {\n",
       "        text-align: right;\n",
       "    }\n",
       "</style>\n",
       "<table border=\"1\" class=\"dataframe\">\n",
       "  <thead>\n",
       "    <tr style=\"text-align: right;\">\n",
       "      <th></th>\n",
       "      <th>id</th>\n",
       "      <th>text</th>\n",
       "      <th>pronoun</th>\n",
       "      <th>pronoun_offset</th>\n",
       "      <th>a</th>\n",
       "      <th>a_offset</th>\n",
       "      <th>url</th>\n",
       "    </tr>\n",
       "  </thead>\n",
       "  <tbody>\n",
       "    <tr>\n",
       "      <th>0</th>\n",
       "      <td>na</td>\n",
       "      <td>Kathleen Nott was born in Camberwell, London. ...</td>\n",
       "      <td>her</td>\n",
       "      <td>98</td>\n",
       "      <td>Philip</td>\n",
       "      <td>58</td>\n",
       "      <td>na</td>\n",
       "    </tr>\n",
       "  </tbody>\n",
       "</table>\n",
       "</div>"
      ],
      "text/plain": [
       "   id                                               text pronoun  \\\n",
       "0  na  Kathleen Nott was born in Camberwell, London. ...     her   \n",
       "\n",
       "   pronoun_offset       a  a_offset url  \n",
       "0              98  Philip        58  na  "
      ]
     },
     "metadata": {},
     "output_type": "display_data"
    },
    {
     "name": "stderr",
     "output_type": "stream",
     "text": [
      "Initializing Step InputReader\n",
      "Step InputReader initialized\n",
      "Initializing Step LabelSanitizer\n",
      "Step LabelSanitizer initialized\n",
      "Initializing Step MentionsAnnotator\n",
      "Step MentionsAnnotator initialized\n",
      "Initializing Step gather_step\n",
      "STEPPY WARNING: Step with name \"InputReader\", already exist. Make sure that all Steps have unique name.\n",
      "Step gather_step initialized\n",
      "Step gather_step, working in \"inference\" mode\n",
      "Step InputReader, working in \"inference\" mode\n",
      "Step InputReader, adapting inputs\n",
      "Step InputReader, transforming...\n",
      "Step InputReader, transforming completed\n",
      "Step InputReader, transform completed\n",
      "Step LabelSanitizer, working in \"inference\" mode\n",
      "Step LabelSanitizer, adapting inputs\n",
      "Step LabelSanitizer, transforming...\n",
      "Step LabelSanitizer, transforming completed\n",
      "Step LabelSanitizer, transform completed\n",
      "Step MentionsAnnotator, working in \"inference\" mode\n",
      "Step InputReader, working in \"inference\" mode\n",
      "Step InputReader, adapting inputs\n",
      "Step InputReader, transforming...\n",
      "Step InputReader, transforming completed\n",
      "Step InputReader, transform completed\n",
      "Step MentionsAnnotator, unpacking inputs\n",
      "Step MentionsAnnotator, transforming...\n"
     ]
    },
    {
     "name": "stdout",
     "output_type": "stream",
     "text": [
      "Transforming data to features.\n",
      "------BEFORE DATA PIPELINE------- results/probert\n",
      "Empty DataFrame\n",
      "Columns: [id, label]\n",
      "Index: []\n"
     ]
    },
    {
     "name": "stderr",
     "output_type": "stream",
     "text": [
      "Extracting coref clusters...: 100%|██████████| 1/1 [00:00<00:00, 311.77it/s]\n",
      "Step MentionsAnnotator, transforming completed\n",
      "Step MentionsAnnotator, transform completed\n",
      "Step gather_step, adapting inputs\n",
      "Step gather_step, transforming...\n",
      "Step gather_step, transforming completed\n",
      "Step gather_step, transform completed\n"
     ]
    },
    {
     "name": "stdout",
     "output_type": "stream",
     "text": [
      "Transforming data to features done.\n",
      " Log a couple of examples for sanity check.\n",
      "\n"
     ]
    },
    {
     "name": "stderr",
     "output_type": "stream",
     "text": [
      "Convert Examples to features: 1it [00:00, 110.60it/s]\n",
      "Evaluating:   0%|          | 0/1 [00:00<?, ?it/s]/dccstor/media-bias-4374/gender-ambiguity-detectors/gap/models/gap/probert.py:35: UserWarning: indexing with dtype torch.uint8 is now deprecated, please use a dtype torch.bool instead. (Triggered internally at  ../aten/src/ATen/native/IndexingUtils.h:28.)\n",
      "  sequence_output = sequence_output[~gpr_tags_mask].view(batch_size, -1, self.config.hidden_size)\n",
      "Evaluating: 100%|██████████| 1/1 [00:05<00:00,  5.13s/it]"
     ]
    },
    {
     "name": "stdout",
     "output_type": "stream",
     "text": [
      "[0.01530357 0.9846964 ]\n",
      "Known pronoun 'her' resolves 'False' to 'Philip' with a probability of '0.9846963882446289'\n"
     ]
    },
    {
     "name": "stderr",
     "output_type": "stream",
     "text": [
      "\n"
     ]
    },
    {
     "data": {
      "text/html": [
       "<div>\n",
       "<style scoped>\n",
       "    .dataframe tbody tr th:only-of-type {\n",
       "        vertical-align: middle;\n",
       "    }\n",
       "\n",
       "    .dataframe tbody tr th {\n",
       "        vertical-align: top;\n",
       "    }\n",
       "\n",
       "    .dataframe thead th {\n",
       "        text-align: right;\n",
       "    }\n",
       "</style>\n",
       "<table border=\"1\" class=\"dataframe\">\n",
       "  <thead>\n",
       "    <tr style=\"text-align: right;\">\n",
       "      <th></th>\n",
       "      <th>id</th>\n",
       "      <th>text</th>\n",
       "      <th>pronoun</th>\n",
       "      <th>pronoun_offset</th>\n",
       "      <th>a</th>\n",
       "      <th>a_offset</th>\n",
       "      <th>url</th>\n",
       "    </tr>\n",
       "  </thead>\n",
       "  <tbody>\n",
       "    <tr>\n",
       "      <th>0</th>\n",
       "      <td>na</td>\n",
       "      <td>Kathleen Nott was born in Camberwell, London. ...</td>\n",
       "      <td>her</td>\n",
       "      <td>98</td>\n",
       "      <td>Ellen</td>\n",
       "      <td>110</td>\n",
       "      <td>na</td>\n",
       "    </tr>\n",
       "  </tbody>\n",
       "</table>\n",
       "</div>"
      ],
      "text/plain": [
       "   id                                               text pronoun  \\\n",
       "0  na  Kathleen Nott was born in Camberwell, London. ...     her   \n",
       "\n",
       "   pronoun_offset      a  a_offset url  \n",
       "0              98  Ellen       110  na  "
      ]
     },
     "metadata": {},
     "output_type": "display_data"
    },
    {
     "name": "stderr",
     "output_type": "stream",
     "text": [
      "Initializing Step InputReader\n",
      "Step InputReader initialized\n",
      "Initializing Step LabelSanitizer\n",
      "Step LabelSanitizer initialized\n",
      "Initializing Step MentionsAnnotator\n",
      "Step MentionsAnnotator initialized\n",
      "Initializing Step gather_step\n",
      "STEPPY WARNING: Step with name \"InputReader\", already exist. Make sure that all Steps have unique name.\n",
      "Step gather_step initialized\n",
      "Step gather_step, working in \"inference\" mode\n",
      "Step InputReader, working in \"inference\" mode\n",
      "Step InputReader, adapting inputs\n",
      "Step InputReader, transforming...\n",
      "Step InputReader, transforming completed\n",
      "Step InputReader, transform completed\n",
      "Step LabelSanitizer, working in \"inference\" mode\n",
      "Step LabelSanitizer, adapting inputs\n",
      "Step LabelSanitizer, transforming...\n",
      "Step LabelSanitizer, transforming completed\n",
      "Step LabelSanitizer, transform completed\n",
      "Step MentionsAnnotator, working in \"inference\" mode\n",
      "Step InputReader, working in \"inference\" mode\n",
      "Step InputReader, adapting inputs\n",
      "Step InputReader, transforming...\n",
      "Step InputReader, transforming completed\n",
      "Step InputReader, transform completed\n",
      "Step MentionsAnnotator, unpacking inputs\n",
      "Step MentionsAnnotator, transforming...\n"
     ]
    },
    {
     "name": "stdout",
     "output_type": "stream",
     "text": [
      "Transforming data to features.\n",
      "------BEFORE DATA PIPELINE------- results/probert\n",
      "Empty DataFrame\n",
      "Columns: [id, label]\n",
      "Index: []\n"
     ]
    },
    {
     "name": "stderr",
     "output_type": "stream",
     "text": [
      "Extracting coref clusters...: 100%|██████████| 1/1 [00:00<00:00, 388.58it/s]\n",
      "Step MentionsAnnotator, transforming completed\n",
      "Step MentionsAnnotator, transform completed\n",
      "Step gather_step, adapting inputs\n",
      "Step gather_step, transforming...\n",
      "Step gather_step, transforming completed\n",
      "Step gather_step, transform completed\n"
     ]
    },
    {
     "name": "stdout",
     "output_type": "stream",
     "text": [
      "Transforming data to features done.\n",
      " Log a couple of examples for sanity check.\n",
      "\n"
     ]
    },
    {
     "name": "stderr",
     "output_type": "stream",
     "text": [
      "Convert Examples to features: 1it [00:00, 127.74it/s]\n",
      "Evaluating:   0%|          | 0/1 [00:00<?, ?it/s]/dccstor/media-bias-4374/gender-ambiguity-detectors/gap/models/gap/probert.py:35: UserWarning: indexing with dtype torch.uint8 is now deprecated, please use a dtype torch.bool instead. (Triggered internally at  ../aten/src/ATen/native/IndexingUtils.h:28.)\n",
      "  sequence_output = sequence_output[~gpr_tags_mask].view(batch_size, -1, self.config.hidden_size)\n",
      "Evaluating: 100%|██████████| 1/1 [00:05<00:00,  5.16s/it]"
     ]
    },
    {
     "name": "stdout",
     "output_type": "stream",
     "text": [
      "[0.00493314 0.9950669 ]\n",
      "Known pronoun 'her' resolves 'False' to 'Ellen' with a probability of '0.9950668811798096'\n"
     ]
    },
    {
     "name": "stderr",
     "output_type": "stream",
     "text": [
      "\n"
     ]
    },
    {
     "data": {
      "text/html": [
       "<div>\n",
       "<style scoped>\n",
       "    .dataframe tbody tr th:only-of-type {\n",
       "        vertical-align: middle;\n",
       "    }\n",
       "\n",
       "    .dataframe tbody tr th {\n",
       "        vertical-align: top;\n",
       "    }\n",
       "\n",
       "    .dataframe thead th {\n",
       "        text-align: right;\n",
       "    }\n",
       "</style>\n",
       "<table border=\"1\" class=\"dataframe\">\n",
       "  <thead>\n",
       "    <tr style=\"text-align: right;\">\n",
       "      <th></th>\n",
       "      <th>id</th>\n",
       "      <th>text</th>\n",
       "      <th>pronoun</th>\n",
       "      <th>pronoun_offset</th>\n",
       "      <th>a</th>\n",
       "      <th>a_offset</th>\n",
       "      <th>url</th>\n",
       "    </tr>\n",
       "  </thead>\n",
       "  <tbody>\n",
       "    <tr>\n",
       "      <th>0</th>\n",
       "      <td>na</td>\n",
       "      <td>Kathleen Nott was born in Camberwell, London. ...</td>\n",
       "      <td>her</td>\n",
       "      <td>98</td>\n",
       "      <td>Kathleen</td>\n",
       "      <td>0</td>\n",
       "      <td>na</td>\n",
       "    </tr>\n",
       "  </tbody>\n",
       "</table>\n",
       "</div>"
      ],
      "text/plain": [
       "   id                                               text pronoun  \\\n",
       "0  na  Kathleen Nott was born in Camberwell, London. ...     her   \n",
       "\n",
       "   pronoun_offset         a  a_offset url  \n",
       "0              98  Kathleen         0  na  "
      ]
     },
     "metadata": {},
     "output_type": "display_data"
    },
    {
     "name": "stderr",
     "output_type": "stream",
     "text": [
      "Initializing Step InputReader\n",
      "Step InputReader initialized\n",
      "Initializing Step LabelSanitizer\n",
      "Step LabelSanitizer initialized\n",
      "Initializing Step MentionsAnnotator\n",
      "Step MentionsAnnotator initialized\n",
      "Initializing Step gather_step\n",
      "STEPPY WARNING: Step with name \"InputReader\", already exist. Make sure that all Steps have unique name.\n",
      "Step gather_step initialized\n",
      "Step gather_step, working in \"inference\" mode\n",
      "Step InputReader, working in \"inference\" mode\n",
      "Step InputReader, adapting inputs\n",
      "Step InputReader, transforming...\n",
      "Step InputReader, transforming completed\n",
      "Step InputReader, transform completed\n",
      "Step LabelSanitizer, working in \"inference\" mode\n",
      "Step LabelSanitizer, adapting inputs\n",
      "Step LabelSanitizer, transforming...\n",
      "Step LabelSanitizer, transforming completed\n",
      "Step LabelSanitizer, transform completed\n",
      "Step MentionsAnnotator, working in \"inference\" mode\n",
      "Step InputReader, working in \"inference\" mode\n",
      "Step InputReader, adapting inputs\n",
      "Step InputReader, transforming...\n",
      "Step InputReader, transforming completed\n",
      "Step InputReader, transform completed\n",
      "Step MentionsAnnotator, unpacking inputs\n",
      "Step MentionsAnnotator, transforming...\n"
     ]
    },
    {
     "name": "stdout",
     "output_type": "stream",
     "text": [
      "Transforming data to features.\n",
      "------BEFORE DATA PIPELINE------- results/probert\n",
      "Empty DataFrame\n",
      "Columns: [id, label]\n",
      "Index: []\n"
     ]
    },
    {
     "name": "stderr",
     "output_type": "stream",
     "text": [
      "Extracting coref clusters...: 100%|██████████| 1/1 [00:00<00:00, 349.73it/s]\n",
      "Step MentionsAnnotator, transforming completed\n",
      "Step MentionsAnnotator, transform completed\n",
      "Step gather_step, adapting inputs\n",
      "Step gather_step, transforming...\n",
      "Step gather_step, transforming completed\n",
      "Step gather_step, transform completed\n"
     ]
    },
    {
     "name": "stdout",
     "output_type": "stream",
     "text": [
      "Transforming data to features done.\n",
      " Log a couple of examples for sanity check.\n",
      "\n"
     ]
    },
    {
     "name": "stderr",
     "output_type": "stream",
     "text": [
      "Convert Examples to features: 1it [00:00, 134.18it/s]\n",
      "Evaluating:   0%|          | 0/1 [00:00<?, ?it/s]/dccstor/media-bias-4374/gender-ambiguity-detectors/gap/models/gap/probert.py:35: UserWarning: indexing with dtype torch.uint8 is now deprecated, please use a dtype torch.bool instead. (Triggered internally at  ../aten/src/ATen/native/IndexingUtils.h:28.)\n",
      "  sequence_output = sequence_output[~gpr_tags_mask].view(batch_size, -1, self.config.hidden_size)\n",
      "Evaluating: 100%|██████████| 1/1 [00:05<00:00,  5.01s/it]"
     ]
    },
    {
     "name": "stdout",
     "output_type": "stream",
     "text": [
      "[0.9529636  0.04703634]\n",
      "Known pronoun 'her' resolves 'True' to 'Kathleen' with a probability of '0.9529635906219482'\n"
     ]
    },
    {
     "name": "stderr",
     "output_type": "stream",
     "text": [
      "\n"
     ]
    },
    {
     "data": {
      "text/html": [
       "<div>\n",
       "<style scoped>\n",
       "    .dataframe tbody tr th:only-of-type {\n",
       "        vertical-align: middle;\n",
       "    }\n",
       "\n",
       "    .dataframe tbody tr th {\n",
       "        vertical-align: top;\n",
       "    }\n",
       "\n",
       "    .dataframe thead th {\n",
       "        text-align: right;\n",
       "    }\n",
       "</style>\n",
       "<table border=\"1\" class=\"dataframe\">\n",
       "  <thead>\n",
       "    <tr style=\"text-align: right;\">\n",
       "      <th></th>\n",
       "      <th>id</th>\n",
       "      <th>text</th>\n",
       "      <th>pronoun</th>\n",
       "      <th>pronoun_offset</th>\n",
       "      <th>a</th>\n",
       "      <th>a_offset</th>\n",
       "      <th>url</th>\n",
       "    </tr>\n",
       "  </thead>\n",
       "  <tbody>\n",
       "    <tr>\n",
       "      <th>0</th>\n",
       "      <td>na</td>\n",
       "      <td>Kathleen Nott was born in Camberwell, London. ...</td>\n",
       "      <td>her</td>\n",
       "      <td>98</td>\n",
       "      <td>Kathleen</td>\n",
       "      <td>150</td>\n",
       "      <td>na</td>\n",
       "    </tr>\n",
       "  </tbody>\n",
       "</table>\n",
       "</div>"
      ],
      "text/plain": [
       "   id                                               text pronoun  \\\n",
       "0  na  Kathleen Nott was born in Camberwell, London. ...     her   \n",
       "\n",
       "   pronoun_offset         a  a_offset url  \n",
       "0              98  Kathleen       150  na  "
      ]
     },
     "metadata": {},
     "output_type": "display_data"
    },
    {
     "name": "stderr",
     "output_type": "stream",
     "text": [
      "Initializing Step InputReader\n",
      "Step InputReader initialized\n",
      "Initializing Step LabelSanitizer\n",
      "Step LabelSanitizer initialized\n",
      "Initializing Step MentionsAnnotator\n",
      "Step MentionsAnnotator initialized\n",
      "Initializing Step gather_step\n",
      "STEPPY WARNING: Step with name \"InputReader\", already exist. Make sure that all Steps have unique name.\n",
      "Step gather_step initialized\n",
      "Step gather_step, working in \"inference\" mode\n",
      "Step InputReader, working in \"inference\" mode\n",
      "Step InputReader, adapting inputs\n",
      "Step InputReader, transforming...\n",
      "Step InputReader, transforming completed\n",
      "Step InputReader, transform completed\n",
      "Step LabelSanitizer, working in \"inference\" mode\n",
      "Step LabelSanitizer, adapting inputs\n",
      "Step LabelSanitizer, transforming...\n",
      "Step LabelSanitizer, transforming completed\n",
      "Step LabelSanitizer, transform completed\n",
      "Step MentionsAnnotator, working in \"inference\" mode\n",
      "Step InputReader, working in \"inference\" mode\n",
      "Step InputReader, adapting inputs\n",
      "Step InputReader, transforming...\n",
      "Step InputReader, transforming completed\n",
      "Step InputReader, transform completed\n",
      "Step MentionsAnnotator, unpacking inputs\n",
      "Step MentionsAnnotator, transforming...\n"
     ]
    },
    {
     "name": "stdout",
     "output_type": "stream",
     "text": [
      "Transforming data to features.\n",
      "------BEFORE DATA PIPELINE------- results/probert\n",
      "Empty DataFrame\n",
      "Columns: [id, label]\n",
      "Index: []\n"
     ]
    },
    {
     "name": "stderr",
     "output_type": "stream",
     "text": [
      "Extracting coref clusters...: 100%|██████████| 1/1 [00:00<00:00, 373.72it/s]\n",
      "Step MentionsAnnotator, transforming completed\n",
      "Step MentionsAnnotator, transform completed\n",
      "Step gather_step, adapting inputs\n",
      "Step gather_step, transforming...\n",
      "Step gather_step, transforming completed\n",
      "Step gather_step, transform completed\n"
     ]
    },
    {
     "name": "stdout",
     "output_type": "stream",
     "text": [
      "Transforming data to features done.\n",
      " Log a couple of examples for sanity check.\n",
      "\n"
     ]
    },
    {
     "name": "stderr",
     "output_type": "stream",
     "text": [
      "Convert Examples to features: 1it [00:00, 115.97it/s]\n",
      "Evaluating:   0%|          | 0/1 [00:00<?, ?it/s]/dccstor/media-bias-4374/gender-ambiguity-detectors/gap/models/gap/probert.py:35: UserWarning: indexing with dtype torch.uint8 is now deprecated, please use a dtype torch.bool instead. (Triggered internally at  ../aten/src/ATen/native/IndexingUtils.h:28.)\n",
      "  sequence_output = sequence_output[~gpr_tags_mask].view(batch_size, -1, self.config.hidden_size)\n",
      "Evaluating: 100%|██████████| 1/1 [00:05<00:00,  5.70s/it]"
     ]
    },
    {
     "name": "stdout",
     "output_type": "stream",
     "text": [
      "[0.01005239 0.9899476 ]\n",
      "Known pronoun 'her' resolves 'False' to 'Kathleen' with a probability of '0.9899476170539856'\n"
     ]
    },
    {
     "name": "stderr",
     "output_type": "stream",
     "text": [
      "\n"
     ]
    },
    {
     "data": {
      "text/html": [
       "<div>\n",
       "<style scoped>\n",
       "    .dataframe tbody tr th:only-of-type {\n",
       "        vertical-align: middle;\n",
       "    }\n",
       "\n",
       "    .dataframe tbody tr th {\n",
       "        vertical-align: top;\n",
       "    }\n",
       "\n",
       "    .dataframe thead th {\n",
       "        text-align: right;\n",
       "    }\n",
       "</style>\n",
       "<table border=\"1\" class=\"dataframe\">\n",
       "  <thead>\n",
       "    <tr style=\"text-align: right;\">\n",
       "      <th></th>\n",
       "      <th>id</th>\n",
       "      <th>text</th>\n",
       "      <th>pronoun</th>\n",
       "      <th>pronoun_offset</th>\n",
       "      <th>a</th>\n",
       "      <th>a_offset</th>\n",
       "      <th>url</th>\n",
       "    </tr>\n",
       "  </thead>\n",
       "  <tbody>\n",
       "    <tr>\n",
       "      <th>0</th>\n",
       "      <td>na</td>\n",
       "      <td>Kathleen Nott was born in Camberwell, London. ...</td>\n",
       "      <td>her</td>\n",
       "      <td>105</td>\n",
       "      <td>Kathleen Nott</td>\n",
       "      <td>0</td>\n",
       "      <td>na</td>\n",
       "    </tr>\n",
       "  </tbody>\n",
       "</table>\n",
       "</div>"
      ],
      "text/plain": [
       "   id                                               text pronoun  \\\n",
       "0  na  Kathleen Nott was born in Camberwell, London. ...     her   \n",
       "\n",
       "   pronoun_offset              a  a_offset url  \n",
       "0             105  Kathleen Nott         0  na  "
      ]
     },
     "metadata": {},
     "output_type": "display_data"
    },
    {
     "name": "stderr",
     "output_type": "stream",
     "text": [
      "Initializing Step InputReader\n",
      "Step InputReader initialized\n",
      "Initializing Step LabelSanitizer\n",
      "Step LabelSanitizer initialized\n",
      "Initializing Step MentionsAnnotator\n",
      "Step MentionsAnnotator initialized\n",
      "Initializing Step gather_step\n",
      "STEPPY WARNING: Step with name \"InputReader\", already exist. Make sure that all Steps have unique name.\n",
      "Step gather_step initialized\n",
      "Step gather_step, working in \"inference\" mode\n",
      "Step InputReader, working in \"inference\" mode\n",
      "Step InputReader, adapting inputs\n",
      "Step InputReader, transforming...\n",
      "Step InputReader, transforming completed\n",
      "Step InputReader, transform completed\n",
      "Step LabelSanitizer, working in \"inference\" mode\n",
      "Step LabelSanitizer, adapting inputs\n",
      "Step LabelSanitizer, transforming...\n",
      "Step LabelSanitizer, transforming completed\n",
      "Step LabelSanitizer, transform completed\n",
      "Step MentionsAnnotator, working in \"inference\" mode\n",
      "Step InputReader, working in \"inference\" mode\n",
      "Step InputReader, adapting inputs\n",
      "Step InputReader, transforming...\n",
      "Step InputReader, transforming completed\n",
      "Step InputReader, transform completed\n",
      "Step MentionsAnnotator, unpacking inputs\n",
      "Step MentionsAnnotator, transforming...\n"
     ]
    },
    {
     "name": "stdout",
     "output_type": "stream",
     "text": [
      "Transforming data to features.\n",
      "------BEFORE DATA PIPELINE------- results/probert\n",
      "Empty DataFrame\n",
      "Columns: [id, label]\n",
      "Index: []\n"
     ]
    },
    {
     "name": "stderr",
     "output_type": "stream",
     "text": [
      "Extracting coref clusters...: 100%|██████████| 1/1 [00:00<00:00, 328.73it/s]\n",
      "Step MentionsAnnotator, transforming completed\n",
      "Step MentionsAnnotator, transform completed\n",
      "Step gather_step, adapting inputs\n",
      "Step gather_step, transforming...\n",
      "Step gather_step, transforming completed\n",
      "Step gather_step, transform completed\n"
     ]
    },
    {
     "name": "stdout",
     "output_type": "stream",
     "text": [
      "Transforming data to features done.\n",
      " Log a couple of examples for sanity check.\n",
      "\n"
     ]
    },
    {
     "name": "stderr",
     "output_type": "stream",
     "text": [
      "Convert Examples to features: 1it [00:00, 121.69it/s]\n",
      "Evaluating:   0%|          | 0/1 [00:00<?, ?it/s]/dccstor/media-bias-4374/gender-ambiguity-detectors/gap/models/gap/probert.py:35: UserWarning: indexing with dtype torch.uint8 is now deprecated, please use a dtype torch.bool instead. (Triggered internally at  ../aten/src/ATen/native/IndexingUtils.h:28.)\n",
      "  sequence_output = sequence_output[~gpr_tags_mask].view(batch_size, -1, self.config.hidden_size)\n",
      "Evaluating: 100%|██████████| 1/1 [00:04<00:00,  4.93s/it]"
     ]
    },
    {
     "name": "stdout",
     "output_type": "stream",
     "text": [
      "[0.9521233  0.04787667]\n",
      "Known pronoun 'her' resolves 'True' to 'Kathleen Nott' with a probability of '0.9521232843399048'\n"
     ]
    },
    {
     "name": "stderr",
     "output_type": "stream",
     "text": [
      "\n"
     ]
    },
    {
     "data": {
      "text/html": [
       "<div>\n",
       "<style scoped>\n",
       "    .dataframe tbody tr th:only-of-type {\n",
       "        vertical-align: middle;\n",
       "    }\n",
       "\n",
       "    .dataframe tbody tr th {\n",
       "        vertical-align: top;\n",
       "    }\n",
       "\n",
       "    .dataframe thead th {\n",
       "        text-align: right;\n",
       "    }\n",
       "</style>\n",
       "<table border=\"1\" class=\"dataframe\">\n",
       "  <thead>\n",
       "    <tr style=\"text-align: right;\">\n",
       "      <th></th>\n",
       "      <th>id</th>\n",
       "      <th>text</th>\n",
       "      <th>pronoun</th>\n",
       "      <th>pronoun_offset</th>\n",
       "      <th>a</th>\n",
       "      <th>a_offset</th>\n",
       "      <th>url</th>\n",
       "    </tr>\n",
       "  </thead>\n",
       "  <tbody>\n",
       "    <tr>\n",
       "      <th>0</th>\n",
       "      <td>na</td>\n",
       "      <td>Kathleen Nott was born in Camberwell, London. ...</td>\n",
       "      <td>her</td>\n",
       "      <td>105</td>\n",
       "      <td>Philip</td>\n",
       "      <td>58</td>\n",
       "      <td>na</td>\n",
       "    </tr>\n",
       "  </tbody>\n",
       "</table>\n",
       "</div>"
      ],
      "text/plain": [
       "   id                                               text pronoun  \\\n",
       "0  na  Kathleen Nott was born in Camberwell, London. ...     her   \n",
       "\n",
       "   pronoun_offset       a  a_offset url  \n",
       "0             105  Philip        58  na  "
      ]
     },
     "metadata": {},
     "output_type": "display_data"
    },
    {
     "name": "stderr",
     "output_type": "stream",
     "text": [
      "Initializing Step InputReader\n",
      "Step InputReader initialized\n",
      "Initializing Step LabelSanitizer\n",
      "Step LabelSanitizer initialized\n",
      "Initializing Step MentionsAnnotator\n",
      "Step MentionsAnnotator initialized\n",
      "Initializing Step gather_step\n",
      "STEPPY WARNING: Step with name \"InputReader\", already exist. Make sure that all Steps have unique name.\n",
      "Step gather_step initialized\n",
      "Step gather_step, working in \"inference\" mode\n",
      "Step InputReader, working in \"inference\" mode\n",
      "Step InputReader, adapting inputs\n",
      "Step InputReader, transforming...\n",
      "Step InputReader, transforming completed\n",
      "Step InputReader, transform completed\n",
      "Step LabelSanitizer, working in \"inference\" mode\n",
      "Step LabelSanitizer, adapting inputs\n",
      "Step LabelSanitizer, transforming...\n",
      "Step LabelSanitizer, transforming completed\n",
      "Step LabelSanitizer, transform completed\n",
      "Step MentionsAnnotator, working in \"inference\" mode\n",
      "Step InputReader, working in \"inference\" mode\n",
      "Step InputReader, adapting inputs\n",
      "Step InputReader, transforming...\n",
      "Step InputReader, transforming completed\n",
      "Step InputReader, transform completed\n",
      "Step MentionsAnnotator, unpacking inputs\n",
      "Step MentionsAnnotator, transforming...\n"
     ]
    },
    {
     "name": "stdout",
     "output_type": "stream",
     "text": [
      "Transforming data to features.\n",
      "------BEFORE DATA PIPELINE------- results/probert\n",
      "Empty DataFrame\n",
      "Columns: [id, label]\n",
      "Index: []\n"
     ]
    },
    {
     "name": "stderr",
     "output_type": "stream",
     "text": [
      "Extracting coref clusters...: 100%|██████████| 1/1 [00:00<00:00, 360.74it/s]\n",
      "Step MentionsAnnotator, transforming completed\n",
      "Step MentionsAnnotator, transform completed\n",
      "Step gather_step, adapting inputs\n",
      "Step gather_step, transforming...\n",
      "Step gather_step, transforming completed\n",
      "Step gather_step, transform completed\n"
     ]
    },
    {
     "name": "stdout",
     "output_type": "stream",
     "text": [
      "Transforming data to features done.\n",
      " Log a couple of examples for sanity check.\n",
      "\n"
     ]
    },
    {
     "name": "stderr",
     "output_type": "stream",
     "text": [
      "Convert Examples to features: 1it [00:00, 131.06it/s]\n",
      "Evaluating:   0%|          | 0/1 [00:00<?, ?it/s]/dccstor/media-bias-4374/gender-ambiguity-detectors/gap/models/gap/probert.py:35: UserWarning: indexing with dtype torch.uint8 is now deprecated, please use a dtype torch.bool instead. (Triggered internally at  ../aten/src/ATen/native/IndexingUtils.h:28.)\n",
      "  sequence_output = sequence_output[~gpr_tags_mask].view(batch_size, -1, self.config.hidden_size)\n",
      "Evaluating: 100%|██████████| 1/1 [00:04<00:00,  4.96s/it]"
     ]
    },
    {
     "name": "stdout",
     "output_type": "stream",
     "text": [
      "[0.11377078 0.8862292 ]\n",
      "Known pronoun 'her' resolves 'False' to 'Philip' with a probability of '0.8862292170524597'\n"
     ]
    },
    {
     "name": "stderr",
     "output_type": "stream",
     "text": [
      "\n"
     ]
    },
    {
     "data": {
      "text/html": [
       "<div>\n",
       "<style scoped>\n",
       "    .dataframe tbody tr th:only-of-type {\n",
       "        vertical-align: middle;\n",
       "    }\n",
       "\n",
       "    .dataframe tbody tr th {\n",
       "        vertical-align: top;\n",
       "    }\n",
       "\n",
       "    .dataframe thead th {\n",
       "        text-align: right;\n",
       "    }\n",
       "</style>\n",
       "<table border=\"1\" class=\"dataframe\">\n",
       "  <thead>\n",
       "    <tr style=\"text-align: right;\">\n",
       "      <th></th>\n",
       "      <th>id</th>\n",
       "      <th>text</th>\n",
       "      <th>pronoun</th>\n",
       "      <th>pronoun_offset</th>\n",
       "      <th>a</th>\n",
       "      <th>a_offset</th>\n",
       "      <th>url</th>\n",
       "    </tr>\n",
       "  </thead>\n",
       "  <tbody>\n",
       "    <tr>\n",
       "      <th>0</th>\n",
       "      <td>na</td>\n",
       "      <td>Kathleen Nott was born in Camberwell, London. ...</td>\n",
       "      <td>her</td>\n",
       "      <td>105</td>\n",
       "      <td>Ellen</td>\n",
       "      <td>110</td>\n",
       "      <td>na</td>\n",
       "    </tr>\n",
       "  </tbody>\n",
       "</table>\n",
       "</div>"
      ],
      "text/plain": [
       "   id                                               text pronoun  \\\n",
       "0  na  Kathleen Nott was born in Camberwell, London. ...     her   \n",
       "\n",
       "   pronoun_offset      a  a_offset url  \n",
       "0             105  Ellen       110  na  "
      ]
     },
     "metadata": {},
     "output_type": "display_data"
    },
    {
     "name": "stderr",
     "output_type": "stream",
     "text": [
      "Initializing Step InputReader\n",
      "Step InputReader initialized\n",
      "Initializing Step LabelSanitizer\n",
      "Step LabelSanitizer initialized\n",
      "Initializing Step MentionsAnnotator\n",
      "Step MentionsAnnotator initialized\n",
      "Initializing Step gather_step\n",
      "STEPPY WARNING: Step with name \"InputReader\", already exist. Make sure that all Steps have unique name.\n",
      "Step gather_step initialized\n",
      "Step gather_step, working in \"inference\" mode\n",
      "Step InputReader, working in \"inference\" mode\n",
      "Step InputReader, adapting inputs\n",
      "Step InputReader, transforming...\n",
      "Step InputReader, transforming completed\n",
      "Step InputReader, transform completed\n",
      "Step LabelSanitizer, working in \"inference\" mode\n",
      "Step LabelSanitizer, adapting inputs\n",
      "Step LabelSanitizer, transforming...\n",
      "Step LabelSanitizer, transforming completed\n",
      "Step LabelSanitizer, transform completed\n",
      "Step MentionsAnnotator, working in \"inference\" mode\n",
      "Step InputReader, working in \"inference\" mode\n",
      "Step InputReader, adapting inputs\n",
      "Step InputReader, transforming...\n",
      "Step InputReader, transforming completed\n",
      "Step InputReader, transform completed\n",
      "Step MentionsAnnotator, unpacking inputs\n",
      "Step MentionsAnnotator, transforming...\n"
     ]
    },
    {
     "name": "stdout",
     "output_type": "stream",
     "text": [
      "Transforming data to features.\n",
      "------BEFORE DATA PIPELINE------- results/probert\n",
      "Empty DataFrame\n",
      "Columns: [id, label]\n",
      "Index: []\n"
     ]
    },
    {
     "name": "stderr",
     "output_type": "stream",
     "text": [
      "Extracting coref clusters...: 100%|██████████| 1/1 [00:00<00:00, 347.15it/s]\n",
      "Step MentionsAnnotator, transforming completed\n",
      "Step MentionsAnnotator, transform completed\n",
      "Step gather_step, adapting inputs\n",
      "Step gather_step, transforming...\n",
      "Step gather_step, transforming completed\n",
      "Step gather_step, transform completed\n"
     ]
    },
    {
     "name": "stdout",
     "output_type": "stream",
     "text": [
      "Transforming data to features done.\n",
      " Log a couple of examples for sanity check.\n",
      "\n"
     ]
    },
    {
     "name": "stderr",
     "output_type": "stream",
     "text": [
      "Convert Examples to features: 1it [00:00, 117.21it/s]\n",
      "Evaluating:   0%|          | 0/1 [00:00<?, ?it/s]/dccstor/media-bias-4374/gender-ambiguity-detectors/gap/models/gap/probert.py:35: UserWarning: indexing with dtype torch.uint8 is now deprecated, please use a dtype torch.bool instead. (Triggered internally at  ../aten/src/ATen/native/IndexingUtils.h:28.)\n",
      "  sequence_output = sequence_output[~gpr_tags_mask].view(batch_size, -1, self.config.hidden_size)\n",
      "Evaluating: 100%|██████████| 1/1 [00:05<00:00,  5.07s/it]"
     ]
    },
    {
     "name": "stdout",
     "output_type": "stream",
     "text": [
      "[0.02079036 0.97920966]\n",
      "Known pronoun 'her' resolves 'False' to 'Ellen' with a probability of '0.9792096614837646'\n"
     ]
    },
    {
     "name": "stderr",
     "output_type": "stream",
     "text": [
      "\n"
     ]
    },
    {
     "data": {
      "text/html": [
       "<div>\n",
       "<style scoped>\n",
       "    .dataframe tbody tr th:only-of-type {\n",
       "        vertical-align: middle;\n",
       "    }\n",
       "\n",
       "    .dataframe tbody tr th {\n",
       "        vertical-align: top;\n",
       "    }\n",
       "\n",
       "    .dataframe thead th {\n",
       "        text-align: right;\n",
       "    }\n",
       "</style>\n",
       "<table border=\"1\" class=\"dataframe\">\n",
       "  <thead>\n",
       "    <tr style=\"text-align: right;\">\n",
       "      <th></th>\n",
       "      <th>id</th>\n",
       "      <th>text</th>\n",
       "      <th>pronoun</th>\n",
       "      <th>pronoun_offset</th>\n",
       "      <th>a</th>\n",
       "      <th>a_offset</th>\n",
       "      <th>url</th>\n",
       "    </tr>\n",
       "  </thead>\n",
       "  <tbody>\n",
       "    <tr>\n",
       "      <th>0</th>\n",
       "      <td>na</td>\n",
       "      <td>Kathleen Nott was born in Camberwell, London. ...</td>\n",
       "      <td>her</td>\n",
       "      <td>105</td>\n",
       "      <td>Kathleen</td>\n",
       "      <td>0</td>\n",
       "      <td>na</td>\n",
       "    </tr>\n",
       "  </tbody>\n",
       "</table>\n",
       "</div>"
      ],
      "text/plain": [
       "   id                                               text pronoun  \\\n",
       "0  na  Kathleen Nott was born in Camberwell, London. ...     her   \n",
       "\n",
       "   pronoun_offset         a  a_offset url  \n",
       "0             105  Kathleen         0  na  "
      ]
     },
     "metadata": {},
     "output_type": "display_data"
    },
    {
     "name": "stderr",
     "output_type": "stream",
     "text": [
      "Initializing Step InputReader\n",
      "Step InputReader initialized\n",
      "Initializing Step LabelSanitizer\n",
      "Step LabelSanitizer initialized\n",
      "Initializing Step MentionsAnnotator\n",
      "Step MentionsAnnotator initialized\n",
      "Initializing Step gather_step\n",
      "STEPPY WARNING: Step with name \"InputReader\", already exist. Make sure that all Steps have unique name.\n",
      "Step gather_step initialized\n",
      "Step gather_step, working in \"inference\" mode\n",
      "Step InputReader, working in \"inference\" mode\n",
      "Step InputReader, adapting inputs\n",
      "Step InputReader, transforming...\n",
      "Step InputReader, transforming completed\n",
      "Step InputReader, transform completed\n",
      "Step LabelSanitizer, working in \"inference\" mode\n",
      "Step LabelSanitizer, adapting inputs\n",
      "Step LabelSanitizer, transforming...\n",
      "Step LabelSanitizer, transforming completed\n",
      "Step LabelSanitizer, transform completed\n",
      "Step MentionsAnnotator, working in \"inference\" mode\n",
      "Step InputReader, working in \"inference\" mode\n",
      "Step InputReader, adapting inputs\n",
      "Step InputReader, transforming...\n",
      "Step InputReader, transforming completed\n",
      "Step InputReader, transform completed\n",
      "Step MentionsAnnotator, unpacking inputs\n",
      "Step MentionsAnnotator, transforming...\n"
     ]
    },
    {
     "name": "stdout",
     "output_type": "stream",
     "text": [
      "Transforming data to features.\n",
      "------BEFORE DATA PIPELINE------- results/probert\n",
      "Empty DataFrame\n",
      "Columns: [id, label]\n",
      "Index: []\n"
     ]
    },
    {
     "name": "stderr",
     "output_type": "stream",
     "text": [
      "Extracting coref clusters...: 100%|██████████| 1/1 [00:00<00:00, 351.40it/s]\n",
      "Step MentionsAnnotator, transforming completed\n",
      "Step MentionsAnnotator, transform completed\n",
      "Step gather_step, adapting inputs\n",
      "Step gather_step, transforming...\n",
      "Step gather_step, transforming completed\n",
      "Step gather_step, transform completed\n"
     ]
    },
    {
     "name": "stdout",
     "output_type": "stream",
     "text": [
      "Transforming data to features done.\n",
      " Log a couple of examples for sanity check.\n",
      "\n"
     ]
    },
    {
     "name": "stderr",
     "output_type": "stream",
     "text": [
      "Convert Examples to features: 1it [00:00, 120.73it/s]\n",
      "Evaluating:   0%|          | 0/1 [00:00<?, ?it/s]/dccstor/media-bias-4374/gender-ambiguity-detectors/gap/models/gap/probert.py:35: UserWarning: indexing with dtype torch.uint8 is now deprecated, please use a dtype torch.bool instead. (Triggered internally at  ../aten/src/ATen/native/IndexingUtils.h:28.)\n",
      "  sequence_output = sequence_output[~gpr_tags_mask].view(batch_size, -1, self.config.hidden_size)\n",
      "Evaluating: 100%|██████████| 1/1 [00:05<00:00,  5.27s/it]"
     ]
    },
    {
     "name": "stdout",
     "output_type": "stream",
     "text": [
      "[0.8773988  0.12260126]\n",
      "Known pronoun 'her' resolves 'True' to 'Kathleen' with a probability of '0.8773987889289856'\n"
     ]
    },
    {
     "name": "stderr",
     "output_type": "stream",
     "text": [
      "\n"
     ]
    },
    {
     "data": {
      "text/html": [
       "<div>\n",
       "<style scoped>\n",
       "    .dataframe tbody tr th:only-of-type {\n",
       "        vertical-align: middle;\n",
       "    }\n",
       "\n",
       "    .dataframe tbody tr th {\n",
       "        vertical-align: top;\n",
       "    }\n",
       "\n",
       "    .dataframe thead th {\n",
       "        text-align: right;\n",
       "    }\n",
       "</style>\n",
       "<table border=\"1\" class=\"dataframe\">\n",
       "  <thead>\n",
       "    <tr style=\"text-align: right;\">\n",
       "      <th></th>\n",
       "      <th>id</th>\n",
       "      <th>text</th>\n",
       "      <th>pronoun</th>\n",
       "      <th>pronoun_offset</th>\n",
       "      <th>a</th>\n",
       "      <th>a_offset</th>\n",
       "      <th>url</th>\n",
       "    </tr>\n",
       "  </thead>\n",
       "  <tbody>\n",
       "    <tr>\n",
       "      <th>0</th>\n",
       "      <td>na</td>\n",
       "      <td>Kathleen Nott was born in Camberwell, London. ...</td>\n",
       "      <td>her</td>\n",
       "      <td>105</td>\n",
       "      <td>Kathleen</td>\n",
       "      <td>150</td>\n",
       "      <td>na</td>\n",
       "    </tr>\n",
       "  </tbody>\n",
       "</table>\n",
       "</div>"
      ],
      "text/plain": [
       "   id                                               text pronoun  \\\n",
       "0  na  Kathleen Nott was born in Camberwell, London. ...     her   \n",
       "\n",
       "   pronoun_offset         a  a_offset url  \n",
       "0             105  Kathleen       150  na  "
      ]
     },
     "metadata": {},
     "output_type": "display_data"
    },
    {
     "name": "stderr",
     "output_type": "stream",
     "text": [
      "Initializing Step InputReader\n",
      "Step InputReader initialized\n",
      "Initializing Step LabelSanitizer\n",
      "Step LabelSanitizer initialized\n",
      "Initializing Step MentionsAnnotator\n",
      "Step MentionsAnnotator initialized\n",
      "Initializing Step gather_step\n",
      "STEPPY WARNING: Step with name \"InputReader\", already exist. Make sure that all Steps have unique name.\n",
      "Step gather_step initialized\n",
      "Step gather_step, working in \"inference\" mode\n",
      "Step InputReader, working in \"inference\" mode\n",
      "Step InputReader, adapting inputs\n",
      "Step InputReader, transforming...\n",
      "Step InputReader, transforming completed\n",
      "Step InputReader, transform completed\n",
      "Step LabelSanitizer, working in \"inference\" mode\n",
      "Step LabelSanitizer, adapting inputs\n",
      "Step LabelSanitizer, transforming...\n",
      "Step LabelSanitizer, transforming completed\n",
      "Step LabelSanitizer, transform completed\n",
      "Step MentionsAnnotator, working in \"inference\" mode\n",
      "Step InputReader, working in \"inference\" mode\n",
      "Step InputReader, adapting inputs\n",
      "Step InputReader, transforming...\n",
      "Step InputReader, transforming completed\n",
      "Step InputReader, transform completed\n",
      "Step MentionsAnnotator, unpacking inputs\n",
      "Step MentionsAnnotator, transforming...\n"
     ]
    },
    {
     "name": "stdout",
     "output_type": "stream",
     "text": [
      "Transforming data to features.\n",
      "------BEFORE DATA PIPELINE------- results/probert\n",
      "Empty DataFrame\n",
      "Columns: [id, label]\n",
      "Index: []\n"
     ]
    },
    {
     "name": "stderr",
     "output_type": "stream",
     "text": [
      "Extracting coref clusters...: 100%|██████████| 1/1 [00:00<00:00, 355.87it/s]\n",
      "Step MentionsAnnotator, transforming completed\n",
      "Step MentionsAnnotator, transform completed\n",
      "Step gather_step, adapting inputs\n",
      "Step gather_step, transforming...\n",
      "Step gather_step, transforming completed\n",
      "Step gather_step, transform completed\n"
     ]
    },
    {
     "name": "stdout",
     "output_type": "stream",
     "text": [
      "Transforming data to features done.\n",
      " Log a couple of examples for sanity check.\n",
      "\n"
     ]
    },
    {
     "name": "stderr",
     "output_type": "stream",
     "text": [
      "Convert Examples to features: 1it [00:00, 130.16it/s]\n",
      "Evaluating:   0%|          | 0/1 [00:00<?, ?it/s]/dccstor/media-bias-4374/gender-ambiguity-detectors/gap/models/gap/probert.py:35: UserWarning: indexing with dtype torch.uint8 is now deprecated, please use a dtype torch.bool instead. (Triggered internally at  ../aten/src/ATen/native/IndexingUtils.h:28.)\n",
      "  sequence_output = sequence_output[~gpr_tags_mask].view(batch_size, -1, self.config.hidden_size)\n",
      "Evaluating: 100%|██████████| 1/1 [00:04<00:00,  4.85s/it]"
     ]
    },
    {
     "name": "stdout",
     "output_type": "stream",
     "text": [
      "[0.08743308 0.9125669 ]\n",
      "Known pronoun 'her' resolves 'False' to 'Kathleen' with a probability of '0.9125669002532959'\n"
     ]
    },
    {
     "name": "stderr",
     "output_type": "stream",
     "text": [
      "\n"
     ]
    },
    {
     "data": {
      "text/html": [
       "<div>\n",
       "<style scoped>\n",
       "    .dataframe tbody tr th:only-of-type {\n",
       "        vertical-align: middle;\n",
       "    }\n",
       "\n",
       "    .dataframe tbody tr th {\n",
       "        vertical-align: top;\n",
       "    }\n",
       "\n",
       "    .dataframe thead th {\n",
       "        text-align: right;\n",
       "    }\n",
       "</style>\n",
       "<table border=\"1\" class=\"dataframe\">\n",
       "  <thead>\n",
       "    <tr style=\"text-align: right;\">\n",
       "      <th></th>\n",
       "      <th>id</th>\n",
       "      <th>text</th>\n",
       "      <th>pronoun</th>\n",
       "      <th>pronoun_offset</th>\n",
       "      <th>a</th>\n",
       "      <th>a_offset</th>\n",
       "      <th>url</th>\n",
       "    </tr>\n",
       "  </thead>\n",
       "  <tbody>\n",
       "    <tr>\n",
       "      <th>0</th>\n",
       "      <td>na</td>\n",
       "      <td>Kathleen Nott was born in Camberwell, London. ...</td>\n",
       "      <td>her</td>\n",
       "      <td>306</td>\n",
       "      <td>Kathleen Nott</td>\n",
       "      <td>0</td>\n",
       "      <td>na</td>\n",
       "    </tr>\n",
       "  </tbody>\n",
       "</table>\n",
       "</div>"
      ],
      "text/plain": [
       "   id                                               text pronoun  \\\n",
       "0  na  Kathleen Nott was born in Camberwell, London. ...     her   \n",
       "\n",
       "   pronoun_offset              a  a_offset url  \n",
       "0             306  Kathleen Nott         0  na  "
      ]
     },
     "metadata": {},
     "output_type": "display_data"
    },
    {
     "name": "stderr",
     "output_type": "stream",
     "text": [
      "Initializing Step InputReader\n",
      "Step InputReader initialized\n",
      "Initializing Step LabelSanitizer\n",
      "Step LabelSanitizer initialized\n",
      "Initializing Step MentionsAnnotator\n",
      "Step MentionsAnnotator initialized\n",
      "Initializing Step gather_step\n",
      "STEPPY WARNING: Step with name \"InputReader\", already exist. Make sure that all Steps have unique name.\n",
      "Step gather_step initialized\n",
      "Step gather_step, working in \"inference\" mode\n",
      "Step InputReader, working in \"inference\" mode\n",
      "Step InputReader, adapting inputs\n",
      "Step InputReader, transforming...\n",
      "Step InputReader, transforming completed\n",
      "Step InputReader, transform completed\n",
      "Step LabelSanitizer, working in \"inference\" mode\n",
      "Step LabelSanitizer, adapting inputs\n",
      "Step LabelSanitizer, transforming...\n",
      "Step LabelSanitizer, transforming completed\n",
      "Step LabelSanitizer, transform completed\n",
      "Step MentionsAnnotator, working in \"inference\" mode\n",
      "Step InputReader, working in \"inference\" mode\n",
      "Step InputReader, adapting inputs\n",
      "Step InputReader, transforming...\n",
      "Step InputReader, transforming completed\n",
      "Step InputReader, transform completed\n",
      "Step MentionsAnnotator, unpacking inputs\n",
      "Step MentionsAnnotator, transforming...\n"
     ]
    },
    {
     "name": "stdout",
     "output_type": "stream",
     "text": [
      "Transforming data to features.\n",
      "------BEFORE DATA PIPELINE------- results/probert\n",
      "Empty DataFrame\n",
      "Columns: [id, label]\n",
      "Index: []\n"
     ]
    },
    {
     "name": "stderr",
     "output_type": "stream",
     "text": [
      "Extracting coref clusters...: 100%|██████████| 1/1 [00:00<00:00, 399.72it/s]\n",
      "Step MentionsAnnotator, transforming completed\n",
      "Step MentionsAnnotator, transform completed\n",
      "Step gather_step, adapting inputs\n",
      "Step gather_step, transforming...\n",
      "Step gather_step, transforming completed\n",
      "Step gather_step, transform completed\n"
     ]
    },
    {
     "name": "stdout",
     "output_type": "stream",
     "text": [
      "Transforming data to features done.\n",
      " Log a couple of examples for sanity check.\n",
      "\n"
     ]
    },
    {
     "name": "stderr",
     "output_type": "stream",
     "text": [
      "Convert Examples to features: 1it [00:00, 106.37it/s]\n",
      "Evaluating:   0%|          | 0/1 [00:00<?, ?it/s]/dccstor/media-bias-4374/gender-ambiguity-detectors/gap/models/gap/probert.py:35: UserWarning: indexing with dtype torch.uint8 is now deprecated, please use a dtype torch.bool instead. (Triggered internally at  ../aten/src/ATen/native/IndexingUtils.h:28.)\n",
      "  sequence_output = sequence_output[~gpr_tags_mask].view(batch_size, -1, self.config.hidden_size)\n",
      "Evaluating: 100%|██████████| 1/1 [00:05<00:00,  5.13s/it]"
     ]
    },
    {
     "name": "stdout",
     "output_type": "stream",
     "text": [
      "[0.98786014 0.01213983]\n",
      "Known pronoun 'her' resolves 'True' to 'Kathleen Nott' with a probability of '0.9878601431846619'\n"
     ]
    },
    {
     "name": "stderr",
     "output_type": "stream",
     "text": [
      "\n"
     ]
    },
    {
     "data": {
      "text/html": [
       "<div>\n",
       "<style scoped>\n",
       "    .dataframe tbody tr th:only-of-type {\n",
       "        vertical-align: middle;\n",
       "    }\n",
       "\n",
       "    .dataframe tbody tr th {\n",
       "        vertical-align: top;\n",
       "    }\n",
       "\n",
       "    .dataframe thead th {\n",
       "        text-align: right;\n",
       "    }\n",
       "</style>\n",
       "<table border=\"1\" class=\"dataframe\">\n",
       "  <thead>\n",
       "    <tr style=\"text-align: right;\">\n",
       "      <th></th>\n",
       "      <th>id</th>\n",
       "      <th>text</th>\n",
       "      <th>pronoun</th>\n",
       "      <th>pronoun_offset</th>\n",
       "      <th>a</th>\n",
       "      <th>a_offset</th>\n",
       "      <th>url</th>\n",
       "    </tr>\n",
       "  </thead>\n",
       "  <tbody>\n",
       "    <tr>\n",
       "      <th>0</th>\n",
       "      <td>na</td>\n",
       "      <td>Kathleen Nott was born in Camberwell, London. ...</td>\n",
       "      <td>her</td>\n",
       "      <td>306</td>\n",
       "      <td>Philip</td>\n",
       "      <td>58</td>\n",
       "      <td>na</td>\n",
       "    </tr>\n",
       "  </tbody>\n",
       "</table>\n",
       "</div>"
      ],
      "text/plain": [
       "   id                                               text pronoun  \\\n",
       "0  na  Kathleen Nott was born in Camberwell, London. ...     her   \n",
       "\n",
       "   pronoun_offset       a  a_offset url  \n",
       "0             306  Philip        58  na  "
      ]
     },
     "metadata": {},
     "output_type": "display_data"
    },
    {
     "name": "stderr",
     "output_type": "stream",
     "text": [
      "Initializing Step InputReader\n",
      "Step InputReader initialized\n",
      "Initializing Step LabelSanitizer\n",
      "Step LabelSanitizer initialized\n",
      "Initializing Step MentionsAnnotator\n",
      "Step MentionsAnnotator initialized\n",
      "Initializing Step gather_step\n",
      "STEPPY WARNING: Step with name \"InputReader\", already exist. Make sure that all Steps have unique name.\n",
      "Step gather_step initialized\n",
      "Step gather_step, working in \"inference\" mode\n",
      "Step InputReader, working in \"inference\" mode\n",
      "Step InputReader, adapting inputs\n",
      "Step InputReader, transforming...\n",
      "Step InputReader, transforming completed\n",
      "Step InputReader, transform completed\n",
      "Step LabelSanitizer, working in \"inference\" mode\n",
      "Step LabelSanitizer, adapting inputs\n",
      "Step LabelSanitizer, transforming...\n",
      "Step LabelSanitizer, transforming completed\n",
      "Step LabelSanitizer, transform completed\n",
      "Step MentionsAnnotator, working in \"inference\" mode\n",
      "Step InputReader, working in \"inference\" mode\n",
      "Step InputReader, adapting inputs\n",
      "Step InputReader, transforming...\n",
      "Step InputReader, transforming completed\n",
      "Step InputReader, transform completed\n",
      "Step MentionsAnnotator, unpacking inputs\n",
      "Step MentionsAnnotator, transforming...\n"
     ]
    },
    {
     "name": "stdout",
     "output_type": "stream",
     "text": [
      "Transforming data to features.\n",
      "------BEFORE DATA PIPELINE------- results/probert\n",
      "Empty DataFrame\n",
      "Columns: [id, label]\n",
      "Index: []\n"
     ]
    },
    {
     "name": "stderr",
     "output_type": "stream",
     "text": [
      "Extracting coref clusters...: 100%|██████████| 1/1 [00:00<00:00, 353.20it/s]\n",
      "Step MentionsAnnotator, transforming completed\n",
      "Step MentionsAnnotator, transform completed\n",
      "Step gather_step, adapting inputs\n",
      "Step gather_step, transforming...\n",
      "Step gather_step, transforming completed\n",
      "Step gather_step, transform completed\n"
     ]
    },
    {
     "name": "stdout",
     "output_type": "stream",
     "text": [
      "Transforming data to features done.\n",
      " Log a couple of examples for sanity check.\n",
      "\n"
     ]
    },
    {
     "name": "stderr",
     "output_type": "stream",
     "text": [
      "Convert Examples to features: 1it [00:00, 133.02it/s]\n",
      "Evaluating:   0%|          | 0/1 [00:00<?, ?it/s]/dccstor/media-bias-4374/gender-ambiguity-detectors/gap/models/gap/probert.py:35: UserWarning: indexing with dtype torch.uint8 is now deprecated, please use a dtype torch.bool instead. (Triggered internally at  ../aten/src/ATen/native/IndexingUtils.h:28.)\n",
      "  sequence_output = sequence_output[~gpr_tags_mask].view(batch_size, -1, self.config.hidden_size)\n",
      "Evaluating: 100%|██████████| 1/1 [00:04<00:00,  4.90s/it]"
     ]
    },
    {
     "name": "stdout",
     "output_type": "stream",
     "text": [
      "[0.01200981 0.9879902 ]\n",
      "Known pronoun 'her' resolves 'False' to 'Philip' with a probability of '0.9879902005195618'\n"
     ]
    },
    {
     "name": "stderr",
     "output_type": "stream",
     "text": [
      "\n"
     ]
    },
    {
     "data": {
      "text/html": [
       "<div>\n",
       "<style scoped>\n",
       "    .dataframe tbody tr th:only-of-type {\n",
       "        vertical-align: middle;\n",
       "    }\n",
       "\n",
       "    .dataframe tbody tr th {\n",
       "        vertical-align: top;\n",
       "    }\n",
       "\n",
       "    .dataframe thead th {\n",
       "        text-align: right;\n",
       "    }\n",
       "</style>\n",
       "<table border=\"1\" class=\"dataframe\">\n",
       "  <thead>\n",
       "    <tr style=\"text-align: right;\">\n",
       "      <th></th>\n",
       "      <th>id</th>\n",
       "      <th>text</th>\n",
       "      <th>pronoun</th>\n",
       "      <th>pronoun_offset</th>\n",
       "      <th>a</th>\n",
       "      <th>a_offset</th>\n",
       "      <th>url</th>\n",
       "    </tr>\n",
       "  </thead>\n",
       "  <tbody>\n",
       "    <tr>\n",
       "      <th>0</th>\n",
       "      <td>na</td>\n",
       "      <td>Kathleen Nott was born in Camberwell, London. ...</td>\n",
       "      <td>her</td>\n",
       "      <td>306</td>\n",
       "      <td>Ellen</td>\n",
       "      <td>110</td>\n",
       "      <td>na</td>\n",
       "    </tr>\n",
       "  </tbody>\n",
       "</table>\n",
       "</div>"
      ],
      "text/plain": [
       "   id                                               text pronoun  \\\n",
       "0  na  Kathleen Nott was born in Camberwell, London. ...     her   \n",
       "\n",
       "   pronoun_offset      a  a_offset url  \n",
       "0             306  Ellen       110  na  "
      ]
     },
     "metadata": {},
     "output_type": "display_data"
    },
    {
     "name": "stderr",
     "output_type": "stream",
     "text": [
      "Initializing Step InputReader\n",
      "Step InputReader initialized\n",
      "Initializing Step LabelSanitizer\n",
      "Step LabelSanitizer initialized\n",
      "Initializing Step MentionsAnnotator\n",
      "Step MentionsAnnotator initialized\n",
      "Initializing Step gather_step\n",
      "STEPPY WARNING: Step with name \"InputReader\", already exist. Make sure that all Steps have unique name.\n",
      "Step gather_step initialized\n",
      "Step gather_step, working in \"inference\" mode\n",
      "Step InputReader, working in \"inference\" mode\n",
      "Step InputReader, adapting inputs\n",
      "Step InputReader, transforming...\n",
      "Step InputReader, transforming completed\n",
      "Step InputReader, transform completed\n",
      "Step LabelSanitizer, working in \"inference\" mode\n",
      "Step LabelSanitizer, adapting inputs\n",
      "Step LabelSanitizer, transforming...\n",
      "Step LabelSanitizer, transforming completed\n",
      "Step LabelSanitizer, transform completed\n",
      "Step MentionsAnnotator, working in \"inference\" mode\n",
      "Step InputReader, working in \"inference\" mode\n",
      "Step InputReader, adapting inputs\n",
      "Step InputReader, transforming...\n",
      "Step InputReader, transforming completed\n",
      "Step InputReader, transform completed\n",
      "Step MentionsAnnotator, unpacking inputs\n",
      "Step MentionsAnnotator, transforming...\n"
     ]
    },
    {
     "name": "stdout",
     "output_type": "stream",
     "text": [
      "Transforming data to features.\n",
      "------BEFORE DATA PIPELINE------- results/probert\n",
      "Empty DataFrame\n",
      "Columns: [id, label]\n",
      "Index: []\n"
     ]
    },
    {
     "name": "stderr",
     "output_type": "stream",
     "text": [
      "Extracting coref clusters...: 100%|██████████| 1/1 [00:00<00:00, 370.91it/s]\n",
      "Step MentionsAnnotator, transforming completed\n",
      "Step MentionsAnnotator, transform completed\n",
      "Step gather_step, adapting inputs\n",
      "Step gather_step, transforming...\n",
      "Step gather_step, transforming completed\n",
      "Step gather_step, transform completed\n"
     ]
    },
    {
     "name": "stdout",
     "output_type": "stream",
     "text": [
      "Transforming data to features done.\n",
      " Log a couple of examples for sanity check.\n",
      "\n"
     ]
    },
    {
     "name": "stderr",
     "output_type": "stream",
     "text": [
      "Convert Examples to features: 1it [00:00, 123.69it/s]\n",
      "Evaluating:   0%|          | 0/1 [00:00<?, ?it/s]/dccstor/media-bias-4374/gender-ambiguity-detectors/gap/models/gap/probert.py:35: UserWarning: indexing with dtype torch.uint8 is now deprecated, please use a dtype torch.bool instead. (Triggered internally at  ../aten/src/ATen/native/IndexingUtils.h:28.)\n",
      "  sequence_output = sequence_output[~gpr_tags_mask].view(batch_size, -1, self.config.hidden_size)\n",
      "Evaluating: 100%|██████████| 1/1 [00:05<00:00,  5.05s/it]"
     ]
    },
    {
     "name": "stdout",
     "output_type": "stream",
     "text": [
      "[0.00737238 0.9926277 ]\n",
      "Known pronoun 'her' resolves 'False' to 'Ellen' with a probability of '0.9926276803016663'\n"
     ]
    },
    {
     "name": "stderr",
     "output_type": "stream",
     "text": [
      "\n"
     ]
    },
    {
     "data": {
      "text/html": [
       "<div>\n",
       "<style scoped>\n",
       "    .dataframe tbody tr th:only-of-type {\n",
       "        vertical-align: middle;\n",
       "    }\n",
       "\n",
       "    .dataframe tbody tr th {\n",
       "        vertical-align: top;\n",
       "    }\n",
       "\n",
       "    .dataframe thead th {\n",
       "        text-align: right;\n",
       "    }\n",
       "</style>\n",
       "<table border=\"1\" class=\"dataframe\">\n",
       "  <thead>\n",
       "    <tr style=\"text-align: right;\">\n",
       "      <th></th>\n",
       "      <th>id</th>\n",
       "      <th>text</th>\n",
       "      <th>pronoun</th>\n",
       "      <th>pronoun_offset</th>\n",
       "      <th>a</th>\n",
       "      <th>a_offset</th>\n",
       "      <th>url</th>\n",
       "    </tr>\n",
       "  </thead>\n",
       "  <tbody>\n",
       "    <tr>\n",
       "      <th>0</th>\n",
       "      <td>na</td>\n",
       "      <td>Kathleen Nott was born in Camberwell, London. ...</td>\n",
       "      <td>her</td>\n",
       "      <td>306</td>\n",
       "      <td>Kathleen</td>\n",
       "      <td>0</td>\n",
       "      <td>na</td>\n",
       "    </tr>\n",
       "  </tbody>\n",
       "</table>\n",
       "</div>"
      ],
      "text/plain": [
       "   id                                               text pronoun  \\\n",
       "0  na  Kathleen Nott was born in Camberwell, London. ...     her   \n",
       "\n",
       "   pronoun_offset         a  a_offset url  \n",
       "0             306  Kathleen         0  na  "
      ]
     },
     "metadata": {},
     "output_type": "display_data"
    },
    {
     "name": "stderr",
     "output_type": "stream",
     "text": [
      "Initializing Step InputReader\n",
      "Step InputReader initialized\n",
      "Initializing Step LabelSanitizer\n",
      "Step LabelSanitizer initialized\n",
      "Initializing Step MentionsAnnotator\n",
      "Step MentionsAnnotator initialized\n",
      "Initializing Step gather_step\n",
      "STEPPY WARNING: Step with name \"InputReader\", already exist. Make sure that all Steps have unique name.\n",
      "Step gather_step initialized\n",
      "Step gather_step, working in \"inference\" mode\n",
      "Step InputReader, working in \"inference\" mode\n",
      "Step InputReader, adapting inputs\n",
      "Step InputReader, transforming...\n",
      "Step InputReader, transforming completed\n",
      "Step InputReader, transform completed\n",
      "Step LabelSanitizer, working in \"inference\" mode\n",
      "Step LabelSanitizer, adapting inputs\n",
      "Step LabelSanitizer, transforming...\n",
      "Step LabelSanitizer, transforming completed\n",
      "Step LabelSanitizer, transform completed\n",
      "Step MentionsAnnotator, working in \"inference\" mode\n",
      "Step InputReader, working in \"inference\" mode\n",
      "Step InputReader, adapting inputs\n",
      "Step InputReader, transforming...\n",
      "Step InputReader, transforming completed\n",
      "Step InputReader, transform completed\n",
      "Step MentionsAnnotator, unpacking inputs\n",
      "Step MentionsAnnotator, transforming...\n"
     ]
    },
    {
     "name": "stdout",
     "output_type": "stream",
     "text": [
      "Transforming data to features.\n",
      "------BEFORE DATA PIPELINE------- results/probert\n",
      "Empty DataFrame\n",
      "Columns: [id, label]\n",
      "Index: []\n"
     ]
    },
    {
     "name": "stderr",
     "output_type": "stream",
     "text": [
      "Extracting coref clusters...: 100%|██████████| 1/1 [00:00<00:00, 391.33it/s]\n",
      "Step MentionsAnnotator, transforming completed\n",
      "Step MentionsAnnotator, transform completed\n",
      "Step gather_step, adapting inputs\n",
      "Step gather_step, transforming...\n",
      "Step gather_step, transforming completed\n",
      "Step gather_step, transform completed\n"
     ]
    },
    {
     "name": "stdout",
     "output_type": "stream",
     "text": [
      "Transforming data to features done.\n",
      " Log a couple of examples for sanity check.\n",
      "\n"
     ]
    },
    {
     "name": "stderr",
     "output_type": "stream",
     "text": [
      "Convert Examples to features: 1it [00:00, 116.81it/s]\n",
      "Evaluating:   0%|          | 0/1 [00:00<?, ?it/s]/dccstor/media-bias-4374/gender-ambiguity-detectors/gap/models/gap/probert.py:35: UserWarning: indexing with dtype torch.uint8 is now deprecated, please use a dtype torch.bool instead. (Triggered internally at  ../aten/src/ATen/native/IndexingUtils.h:28.)\n",
      "  sequence_output = sequence_output[~gpr_tags_mask].view(batch_size, -1, self.config.hidden_size)\n",
      "Evaluating: 100%|██████████| 1/1 [00:05<00:00,  5.08s/it]"
     ]
    },
    {
     "name": "stdout",
     "output_type": "stream",
     "text": [
      "[0.9820188  0.01798119]\n",
      "Known pronoun 'her' resolves 'True' to 'Kathleen' with a probability of '0.9820188283920288'\n"
     ]
    },
    {
     "name": "stderr",
     "output_type": "stream",
     "text": [
      "\n"
     ]
    },
    {
     "data": {
      "text/html": [
       "<div>\n",
       "<style scoped>\n",
       "    .dataframe tbody tr th:only-of-type {\n",
       "        vertical-align: middle;\n",
       "    }\n",
       "\n",
       "    .dataframe tbody tr th {\n",
       "        vertical-align: top;\n",
       "    }\n",
       "\n",
       "    .dataframe thead th {\n",
       "        text-align: right;\n",
       "    }\n",
       "</style>\n",
       "<table border=\"1\" class=\"dataframe\">\n",
       "  <thead>\n",
       "    <tr style=\"text-align: right;\">\n",
       "      <th></th>\n",
       "      <th>id</th>\n",
       "      <th>text</th>\n",
       "      <th>pronoun</th>\n",
       "      <th>pronoun_offset</th>\n",
       "      <th>a</th>\n",
       "      <th>a_offset</th>\n",
       "      <th>url</th>\n",
       "    </tr>\n",
       "  </thead>\n",
       "  <tbody>\n",
       "    <tr>\n",
       "      <th>0</th>\n",
       "      <td>na</td>\n",
       "      <td>Kathleen Nott was born in Camberwell, London. ...</td>\n",
       "      <td>her</td>\n",
       "      <td>306</td>\n",
       "      <td>Kathleen</td>\n",
       "      <td>150</td>\n",
       "      <td>na</td>\n",
       "    </tr>\n",
       "  </tbody>\n",
       "</table>\n",
       "</div>"
      ],
      "text/plain": [
       "   id                                               text pronoun  \\\n",
       "0  na  Kathleen Nott was born in Camberwell, London. ...     her   \n",
       "\n",
       "   pronoun_offset         a  a_offset url  \n",
       "0             306  Kathleen       150  na  "
      ]
     },
     "metadata": {},
     "output_type": "display_data"
    },
    {
     "name": "stderr",
     "output_type": "stream",
     "text": [
      "Initializing Step InputReader\n",
      "Step InputReader initialized\n",
      "Initializing Step LabelSanitizer\n",
      "Step LabelSanitizer initialized\n",
      "Initializing Step MentionsAnnotator\n",
      "Step MentionsAnnotator initialized\n",
      "Initializing Step gather_step\n",
      "STEPPY WARNING: Step with name \"InputReader\", already exist. Make sure that all Steps have unique name.\n",
      "Step gather_step initialized\n",
      "Step gather_step, working in \"inference\" mode\n",
      "Step InputReader, working in \"inference\" mode\n",
      "Step InputReader, adapting inputs\n",
      "Step InputReader, transforming...\n",
      "Step InputReader, transforming completed\n",
      "Step InputReader, transform completed\n",
      "Step LabelSanitizer, working in \"inference\" mode\n",
      "Step LabelSanitizer, adapting inputs\n",
      "Step LabelSanitizer, transforming...\n",
      "Step LabelSanitizer, transforming completed\n",
      "Step LabelSanitizer, transform completed\n",
      "Step MentionsAnnotator, working in \"inference\" mode\n",
      "Step InputReader, working in \"inference\" mode\n",
      "Step InputReader, adapting inputs\n",
      "Step InputReader, transforming...\n",
      "Step InputReader, transforming completed\n",
      "Step InputReader, transform completed\n",
      "Step MentionsAnnotator, unpacking inputs\n",
      "Step MentionsAnnotator, transforming...\n"
     ]
    },
    {
     "name": "stdout",
     "output_type": "stream",
     "text": [
      "Transforming data to features.\n",
      "------BEFORE DATA PIPELINE------- results/probert\n",
      "Empty DataFrame\n",
      "Columns: [id, label]\n",
      "Index: []\n"
     ]
    },
    {
     "name": "stderr",
     "output_type": "stream",
     "text": [
      "Extracting coref clusters...: 100%|██████████| 1/1 [00:00<00:00, 365.29it/s]\n",
      "Step MentionsAnnotator, transforming completed\n",
      "Step MentionsAnnotator, transform completed\n",
      "Step gather_step, adapting inputs\n",
      "Step gather_step, transforming...\n",
      "Step gather_step, transforming completed\n",
      "Step gather_step, transform completed\n"
     ]
    },
    {
     "name": "stdout",
     "output_type": "stream",
     "text": [
      "Transforming data to features done.\n",
      " Log a couple of examples for sanity check.\n",
      "\n"
     ]
    },
    {
     "name": "stderr",
     "output_type": "stream",
     "text": [
      "Convert Examples to features: 1it [00:00, 126.88it/s]\n",
      "Evaluating:   0%|          | 0/1 [00:00<?, ?it/s]/dccstor/media-bias-4374/gender-ambiguity-detectors/gap/models/gap/probert.py:35: UserWarning: indexing with dtype torch.uint8 is now deprecated, please use a dtype torch.bool instead. (Triggered internally at  ../aten/src/ATen/native/IndexingUtils.h:28.)\n",
      "  sequence_output = sequence_output[~gpr_tags_mask].view(batch_size, -1, self.config.hidden_size)\n",
      "Evaluating: 100%|██████████| 1/1 [00:06<00:00,  6.23s/it]"
     ]
    },
    {
     "name": "stdout",
     "output_type": "stream",
     "text": [
      "[0.02563355 0.9743664 ]\n",
      "Known pronoun 'her' resolves 'False' to 'Kathleen' with a probability of '0.9743664264678955'\n"
     ]
    },
    {
     "name": "stderr",
     "output_type": "stream",
     "text": [
      "\n"
     ]
    },
    {
     "data": {
      "text/html": [
       "<div>\n",
       "<style scoped>\n",
       "    .dataframe tbody tr th:only-of-type {\n",
       "        vertical-align: middle;\n",
       "    }\n",
       "\n",
       "    .dataframe tbody tr th {\n",
       "        vertical-align: top;\n",
       "    }\n",
       "\n",
       "    .dataframe thead th {\n",
       "        text-align: right;\n",
       "    }\n",
       "</style>\n",
       "<table border=\"1\" class=\"dataframe\">\n",
       "  <thead>\n",
       "    <tr style=\"text-align: right;\">\n",
       "      <th></th>\n",
       "      <th>id</th>\n",
       "      <th>text</th>\n",
       "      <th>pronoun</th>\n",
       "      <th>pronoun_offset</th>\n",
       "      <th>a</th>\n",
       "      <th>a_offset</th>\n",
       "      <th>url</th>\n",
       "    </tr>\n",
       "  </thead>\n",
       "  <tbody>\n",
       "    <tr>\n",
       "      <th>0</th>\n",
       "      <td>na</td>\n",
       "      <td>Kathleen Nott was born in Camberwell, London. ...</td>\n",
       "      <td>their</td>\n",
       "      <td>163</td>\n",
       "      <td>Kathleen Nott</td>\n",
       "      <td>0</td>\n",
       "      <td>na</td>\n",
       "    </tr>\n",
       "  </tbody>\n",
       "</table>\n",
       "</div>"
      ],
      "text/plain": [
       "   id                                               text pronoun  \\\n",
       "0  na  Kathleen Nott was born in Camberwell, London. ...   their   \n",
       "\n",
       "   pronoun_offset              a  a_offset url  \n",
       "0             163  Kathleen Nott         0  na  "
      ]
     },
     "metadata": {},
     "output_type": "display_data"
    },
    {
     "name": "stderr",
     "output_type": "stream",
     "text": [
      "Initializing Step InputReader\n",
      "Step InputReader initialized\n",
      "Initializing Step LabelSanitizer\n",
      "Step LabelSanitizer initialized\n",
      "Initializing Step MentionsAnnotator\n",
      "Step MentionsAnnotator initialized\n",
      "Initializing Step gather_step\n",
      "STEPPY WARNING: Step with name \"InputReader\", already exist. Make sure that all Steps have unique name.\n",
      "Step gather_step initialized\n",
      "Step gather_step, working in \"inference\" mode\n",
      "Step InputReader, working in \"inference\" mode\n",
      "Step InputReader, adapting inputs\n",
      "Step InputReader, transforming...\n",
      "Step InputReader, transforming completed\n",
      "Step InputReader, transform completed\n",
      "Step LabelSanitizer, working in \"inference\" mode\n",
      "Step LabelSanitizer, adapting inputs\n",
      "Step LabelSanitizer, transforming...\n",
      "Step LabelSanitizer, transforming completed\n",
      "Step LabelSanitizer, transform completed\n",
      "Step MentionsAnnotator, working in \"inference\" mode\n",
      "Step InputReader, working in \"inference\" mode\n",
      "Step InputReader, adapting inputs\n",
      "Step InputReader, transforming...\n",
      "Step InputReader, transforming completed\n",
      "Step InputReader, transform completed\n",
      "Step MentionsAnnotator, unpacking inputs\n",
      "Step MentionsAnnotator, transforming...\n"
     ]
    },
    {
     "name": "stdout",
     "output_type": "stream",
     "text": [
      "Transforming data to features.\n",
      "------BEFORE DATA PIPELINE------- results/probert\n",
      "Empty DataFrame\n",
      "Columns: [id, label]\n",
      "Index: []\n"
     ]
    },
    {
     "name": "stderr",
     "output_type": "stream",
     "text": [
      "Extracting coref clusters...: 100%|██████████| 1/1 [00:00<00:00, 300.62it/s]\n",
      "Step MentionsAnnotator, transforming completed\n",
      "Step MentionsAnnotator, transform completed\n",
      "Step gather_step, adapting inputs\n",
      "Step gather_step, transforming...\n",
      "Step gather_step, transforming completed\n",
      "Step gather_step, transform completed\n"
     ]
    },
    {
     "name": "stdout",
     "output_type": "stream",
     "text": [
      "Transforming data to features done.\n",
      " Log a couple of examples for sanity check.\n",
      "\n"
     ]
    },
    {
     "name": "stderr",
     "output_type": "stream",
     "text": [
      "Convert Examples to features: 1it [00:00, 101.13it/s]\n",
      "Evaluating:   0%|          | 0/1 [00:00<?, ?it/s]/dccstor/media-bias-4374/gender-ambiguity-detectors/gap/models/gap/probert.py:35: UserWarning: indexing with dtype torch.uint8 is now deprecated, please use a dtype torch.bool instead. (Triggered internally at  ../aten/src/ATen/native/IndexingUtils.h:28.)\n",
      "  sequence_output = sequence_output[~gpr_tags_mask].view(batch_size, -1, self.config.hidden_size)\n",
      "Evaluating: 100%|██████████| 1/1 [00:06<00:00,  6.91s/it]"
     ]
    },
    {
     "name": "stdout",
     "output_type": "stream",
     "text": [
      "[0.98428625 0.0157138 ]\n",
      "Known pronoun 'their' resolves 'True' to 'Kathleen Nott' with a probability of '0.9842862486839294'\n"
     ]
    },
    {
     "name": "stderr",
     "output_type": "stream",
     "text": [
      "\n"
     ]
    },
    {
     "data": {
      "text/html": [
       "<div>\n",
       "<style scoped>\n",
       "    .dataframe tbody tr th:only-of-type {\n",
       "        vertical-align: middle;\n",
       "    }\n",
       "\n",
       "    .dataframe tbody tr th {\n",
       "        vertical-align: top;\n",
       "    }\n",
       "\n",
       "    .dataframe thead th {\n",
       "        text-align: right;\n",
       "    }\n",
       "</style>\n",
       "<table border=\"1\" class=\"dataframe\">\n",
       "  <thead>\n",
       "    <tr style=\"text-align: right;\">\n",
       "      <th></th>\n",
       "      <th>id</th>\n",
       "      <th>text</th>\n",
       "      <th>pronoun</th>\n",
       "      <th>pronoun_offset</th>\n",
       "      <th>a</th>\n",
       "      <th>a_offset</th>\n",
       "      <th>url</th>\n",
       "    </tr>\n",
       "  </thead>\n",
       "  <tbody>\n",
       "    <tr>\n",
       "      <th>0</th>\n",
       "      <td>na</td>\n",
       "      <td>Kathleen Nott was born in Camberwell, London. ...</td>\n",
       "      <td>their</td>\n",
       "      <td>163</td>\n",
       "      <td>Philip</td>\n",
       "      <td>58</td>\n",
       "      <td>na</td>\n",
       "    </tr>\n",
       "  </tbody>\n",
       "</table>\n",
       "</div>"
      ],
      "text/plain": [
       "   id                                               text pronoun  \\\n",
       "0  na  Kathleen Nott was born in Camberwell, London. ...   their   \n",
       "\n",
       "   pronoun_offset       a  a_offset url  \n",
       "0             163  Philip        58  na  "
      ]
     },
     "metadata": {},
     "output_type": "display_data"
    },
    {
     "name": "stderr",
     "output_type": "stream",
     "text": [
      "Initializing Step InputReader\n",
      "Step InputReader initialized\n",
      "Initializing Step LabelSanitizer\n",
      "Step LabelSanitizer initialized\n",
      "Initializing Step MentionsAnnotator\n",
      "Step MentionsAnnotator initialized\n",
      "Initializing Step gather_step\n",
      "STEPPY WARNING: Step with name \"InputReader\", already exist. Make sure that all Steps have unique name.\n",
      "Step gather_step initialized\n",
      "Step gather_step, working in \"inference\" mode\n",
      "Step InputReader, working in \"inference\" mode\n",
      "Step InputReader, adapting inputs\n",
      "Step InputReader, transforming...\n",
      "Step InputReader, transforming completed\n",
      "Step InputReader, transform completed\n",
      "Step LabelSanitizer, working in \"inference\" mode\n",
      "Step LabelSanitizer, adapting inputs\n",
      "Step LabelSanitizer, transforming...\n",
      "Step LabelSanitizer, transforming completed\n",
      "Step LabelSanitizer, transform completed\n",
      "Step MentionsAnnotator, working in \"inference\" mode\n",
      "Step InputReader, working in \"inference\" mode\n",
      "Step InputReader, adapting inputs\n",
      "Step InputReader, transforming...\n",
      "Step InputReader, transforming completed\n",
      "Step InputReader, transform completed\n",
      "Step MentionsAnnotator, unpacking inputs\n",
      "Step MentionsAnnotator, transforming...\n"
     ]
    },
    {
     "name": "stdout",
     "output_type": "stream",
     "text": [
      "Transforming data to features.\n",
      "------BEFORE DATA PIPELINE------- results/probert\n",
      "Empty DataFrame\n",
      "Columns: [id, label]\n",
      "Index: []\n"
     ]
    },
    {
     "name": "stderr",
     "output_type": "stream",
     "text": [
      "Extracting coref clusters...: 100%|██████████| 1/1 [00:00<00:00, 363.02it/s]\n",
      "Step MentionsAnnotator, transforming completed\n",
      "Step MentionsAnnotator, transform completed\n",
      "Step gather_step, adapting inputs\n",
      "Step gather_step, transforming...\n",
      "Step gather_step, transforming completed\n",
      "Step gather_step, transform completed\n"
     ]
    },
    {
     "name": "stdout",
     "output_type": "stream",
     "text": [
      "Transforming data to features done.\n",
      " Log a couple of examples for sanity check.\n",
      "\n"
     ]
    },
    {
     "name": "stderr",
     "output_type": "stream",
     "text": [
      "Convert Examples to features: 1it [00:00, 126.52it/s]\n",
      "Evaluating:   0%|          | 0/1 [00:00<?, ?it/s]/dccstor/media-bias-4374/gender-ambiguity-detectors/gap/models/gap/probert.py:35: UserWarning: indexing with dtype torch.uint8 is now deprecated, please use a dtype torch.bool instead. (Triggered internally at  ../aten/src/ATen/native/IndexingUtils.h:28.)\n",
      "  sequence_output = sequence_output[~gpr_tags_mask].view(batch_size, -1, self.config.hidden_size)\n",
      "Evaluating: 100%|██████████| 1/1 [00:07<00:00,  7.16s/it]"
     ]
    },
    {
     "name": "stdout",
     "output_type": "stream",
     "text": [
      "[0.1468023 0.8531977]\n",
      "Known pronoun 'their' resolves 'False' to 'Philip' with a probability of '0.8531976938247681'\n"
     ]
    },
    {
     "name": "stderr",
     "output_type": "stream",
     "text": [
      "\n"
     ]
    },
    {
     "data": {
      "text/html": [
       "<div>\n",
       "<style scoped>\n",
       "    .dataframe tbody tr th:only-of-type {\n",
       "        vertical-align: middle;\n",
       "    }\n",
       "\n",
       "    .dataframe tbody tr th {\n",
       "        vertical-align: top;\n",
       "    }\n",
       "\n",
       "    .dataframe thead th {\n",
       "        text-align: right;\n",
       "    }\n",
       "</style>\n",
       "<table border=\"1\" class=\"dataframe\">\n",
       "  <thead>\n",
       "    <tr style=\"text-align: right;\">\n",
       "      <th></th>\n",
       "      <th>id</th>\n",
       "      <th>text</th>\n",
       "      <th>pronoun</th>\n",
       "      <th>pronoun_offset</th>\n",
       "      <th>a</th>\n",
       "      <th>a_offset</th>\n",
       "      <th>url</th>\n",
       "    </tr>\n",
       "  </thead>\n",
       "  <tbody>\n",
       "    <tr>\n",
       "      <th>0</th>\n",
       "      <td>na</td>\n",
       "      <td>Kathleen Nott was born in Camberwell, London. ...</td>\n",
       "      <td>their</td>\n",
       "      <td>163</td>\n",
       "      <td>Ellen</td>\n",
       "      <td>110</td>\n",
       "      <td>na</td>\n",
       "    </tr>\n",
       "  </tbody>\n",
       "</table>\n",
       "</div>"
      ],
      "text/plain": [
       "   id                                               text pronoun  \\\n",
       "0  na  Kathleen Nott was born in Camberwell, London. ...   their   \n",
       "\n",
       "   pronoun_offset      a  a_offset url  \n",
       "0             163  Ellen       110  na  "
      ]
     },
     "metadata": {},
     "output_type": "display_data"
    },
    {
     "name": "stderr",
     "output_type": "stream",
     "text": [
      "Initializing Step InputReader\n",
      "Step InputReader initialized\n",
      "Initializing Step LabelSanitizer\n",
      "Step LabelSanitizer initialized\n",
      "Initializing Step MentionsAnnotator\n",
      "Step MentionsAnnotator initialized\n",
      "Initializing Step gather_step\n",
      "STEPPY WARNING: Step with name \"InputReader\", already exist. Make sure that all Steps have unique name.\n",
      "Step gather_step initialized\n",
      "Step gather_step, working in \"inference\" mode\n",
      "Step InputReader, working in \"inference\" mode\n",
      "Step InputReader, adapting inputs\n",
      "Step InputReader, transforming...\n",
      "Step InputReader, transforming completed\n",
      "Step InputReader, transform completed\n",
      "Step LabelSanitizer, working in \"inference\" mode\n",
      "Step LabelSanitizer, adapting inputs\n",
      "Step LabelSanitizer, transforming...\n",
      "Step LabelSanitizer, transforming completed\n",
      "Step LabelSanitizer, transform completed\n",
      "Step MentionsAnnotator, working in \"inference\" mode\n",
      "Step InputReader, working in \"inference\" mode\n",
      "Step InputReader, adapting inputs\n",
      "Step InputReader, transforming...\n",
      "Step InputReader, transforming completed\n",
      "Step InputReader, transform completed\n",
      "Step MentionsAnnotator, unpacking inputs\n",
      "Step MentionsAnnotator, transforming...\n"
     ]
    },
    {
     "name": "stdout",
     "output_type": "stream",
     "text": [
      "Transforming data to features.\n",
      "------BEFORE DATA PIPELINE------- results/probert\n",
      "Empty DataFrame\n",
      "Columns: [id, label]\n",
      "Index: []\n"
     ]
    },
    {
     "name": "stderr",
     "output_type": "stream",
     "text": [
      "Extracting coref clusters...: 100%|██████████| 1/1 [00:00<00:00, 322.74it/s]\n",
      "Step MentionsAnnotator, transforming completed\n",
      "Step MentionsAnnotator, transform completed\n",
      "Step gather_step, adapting inputs\n",
      "Step gather_step, transforming...\n",
      "Step gather_step, transforming completed\n",
      "Step gather_step, transform completed\n"
     ]
    },
    {
     "name": "stdout",
     "output_type": "stream",
     "text": [
      "Transforming data to features done.\n",
      " Log a couple of examples for sanity check.\n",
      "\n"
     ]
    },
    {
     "name": "stderr",
     "output_type": "stream",
     "text": [
      "Convert Examples to features: 1it [00:00, 115.35it/s]\n",
      "Evaluating:   0%|          | 0/1 [00:00<?, ?it/s]/dccstor/media-bias-4374/gender-ambiguity-detectors/gap/models/gap/probert.py:35: UserWarning: indexing with dtype torch.uint8 is now deprecated, please use a dtype torch.bool instead. (Triggered internally at  ../aten/src/ATen/native/IndexingUtils.h:28.)\n",
      "  sequence_output = sequence_output[~gpr_tags_mask].view(batch_size, -1, self.config.hidden_size)\n",
      "Evaluating: 100%|██████████| 1/1 [00:06<00:00,  6.76s/it]"
     ]
    },
    {
     "name": "stdout",
     "output_type": "stream",
     "text": [
      "[0.11969691 0.8803031 ]\n",
      "Known pronoun 'their' resolves 'False' to 'Ellen' with a probability of '0.8803030848503113'\n"
     ]
    },
    {
     "name": "stderr",
     "output_type": "stream",
     "text": [
      "\n"
     ]
    },
    {
     "data": {
      "text/html": [
       "<div>\n",
       "<style scoped>\n",
       "    .dataframe tbody tr th:only-of-type {\n",
       "        vertical-align: middle;\n",
       "    }\n",
       "\n",
       "    .dataframe tbody tr th {\n",
       "        vertical-align: top;\n",
       "    }\n",
       "\n",
       "    .dataframe thead th {\n",
       "        text-align: right;\n",
       "    }\n",
       "</style>\n",
       "<table border=\"1\" class=\"dataframe\">\n",
       "  <thead>\n",
       "    <tr style=\"text-align: right;\">\n",
       "      <th></th>\n",
       "      <th>id</th>\n",
       "      <th>text</th>\n",
       "      <th>pronoun</th>\n",
       "      <th>pronoun_offset</th>\n",
       "      <th>a</th>\n",
       "      <th>a_offset</th>\n",
       "      <th>url</th>\n",
       "    </tr>\n",
       "  </thead>\n",
       "  <tbody>\n",
       "    <tr>\n",
       "      <th>0</th>\n",
       "      <td>na</td>\n",
       "      <td>Kathleen Nott was born in Camberwell, London. ...</td>\n",
       "      <td>their</td>\n",
       "      <td>163</td>\n",
       "      <td>Kathleen</td>\n",
       "      <td>0</td>\n",
       "      <td>na</td>\n",
       "    </tr>\n",
       "  </tbody>\n",
       "</table>\n",
       "</div>"
      ],
      "text/plain": [
       "   id                                               text pronoun  \\\n",
       "0  na  Kathleen Nott was born in Camberwell, London. ...   their   \n",
       "\n",
       "   pronoun_offset         a  a_offset url  \n",
       "0             163  Kathleen         0  na  "
      ]
     },
     "metadata": {},
     "output_type": "display_data"
    },
    {
     "name": "stderr",
     "output_type": "stream",
     "text": [
      "Initializing Step InputReader\n",
      "Step InputReader initialized\n",
      "Initializing Step LabelSanitizer\n",
      "Step LabelSanitizer initialized\n",
      "Initializing Step MentionsAnnotator\n",
      "Step MentionsAnnotator initialized\n",
      "Initializing Step gather_step\n",
      "STEPPY WARNING: Step with name \"InputReader\", already exist. Make sure that all Steps have unique name.\n",
      "Step gather_step initialized\n",
      "Step gather_step, working in \"inference\" mode\n",
      "Step InputReader, working in \"inference\" mode\n",
      "Step InputReader, adapting inputs\n",
      "Step InputReader, transforming...\n",
      "Step InputReader, transforming completed\n",
      "Step InputReader, transform completed\n",
      "Step LabelSanitizer, working in \"inference\" mode\n",
      "Step LabelSanitizer, adapting inputs\n",
      "Step LabelSanitizer, transforming...\n",
      "Step LabelSanitizer, transforming completed\n",
      "Step LabelSanitizer, transform completed\n",
      "Step MentionsAnnotator, working in \"inference\" mode\n",
      "Step InputReader, working in \"inference\" mode\n",
      "Step InputReader, adapting inputs\n",
      "Step InputReader, transforming...\n",
      "Step InputReader, transforming completed\n",
      "Step InputReader, transform completed\n",
      "Step MentionsAnnotator, unpacking inputs\n",
      "Step MentionsAnnotator, transforming...\n"
     ]
    },
    {
     "name": "stdout",
     "output_type": "stream",
     "text": [
      "Transforming data to features.\n",
      "------BEFORE DATA PIPELINE------- results/probert\n",
      "Empty DataFrame\n",
      "Columns: [id, label]\n",
      "Index: []\n"
     ]
    },
    {
     "name": "stderr",
     "output_type": "stream",
     "text": [
      "Extracting coref clusters...: 100%|██████████| 1/1 [00:00<00:00, 358.67it/s]\n",
      "Step MentionsAnnotator, transforming completed\n",
      "Step MentionsAnnotator, transform completed\n",
      "Step gather_step, adapting inputs\n",
      "Step gather_step, transforming...\n",
      "Step gather_step, transforming completed\n",
      "Step gather_step, transform completed\n"
     ]
    },
    {
     "name": "stdout",
     "output_type": "stream",
     "text": [
      "Transforming data to features done.\n",
      " Log a couple of examples for sanity check.\n",
      "\n"
     ]
    },
    {
     "name": "stderr",
     "output_type": "stream",
     "text": [
      "Convert Examples to features: 1it [00:00, 114.36it/s]\n",
      "Evaluating:   0%|          | 0/1 [00:00<?, ?it/s]/dccstor/media-bias-4374/gender-ambiguity-detectors/gap/models/gap/probert.py:35: UserWarning: indexing with dtype torch.uint8 is now deprecated, please use a dtype torch.bool instead. (Triggered internally at  ../aten/src/ATen/native/IndexingUtils.h:28.)\n",
      "  sequence_output = sequence_output[~gpr_tags_mask].view(batch_size, -1, self.config.hidden_size)\n",
      "Evaluating: 100%|██████████| 1/1 [00:07<00:00,  7.03s/it]"
     ]
    },
    {
     "name": "stdout",
     "output_type": "stream",
     "text": [
      "[0.97100407 0.0289959 ]\n",
      "Known pronoun 'their' resolves 'True' to 'Kathleen' with a probability of '0.971004068851471'\n"
     ]
    },
    {
     "name": "stderr",
     "output_type": "stream",
     "text": [
      "\n"
     ]
    },
    {
     "data": {
      "text/html": [
       "<div>\n",
       "<style scoped>\n",
       "    .dataframe tbody tr th:only-of-type {\n",
       "        vertical-align: middle;\n",
       "    }\n",
       "\n",
       "    .dataframe tbody tr th {\n",
       "        vertical-align: top;\n",
       "    }\n",
       "\n",
       "    .dataframe thead th {\n",
       "        text-align: right;\n",
       "    }\n",
       "</style>\n",
       "<table border=\"1\" class=\"dataframe\">\n",
       "  <thead>\n",
       "    <tr style=\"text-align: right;\">\n",
       "      <th></th>\n",
       "      <th>id</th>\n",
       "      <th>text</th>\n",
       "      <th>pronoun</th>\n",
       "      <th>pronoun_offset</th>\n",
       "      <th>a</th>\n",
       "      <th>a_offset</th>\n",
       "      <th>url</th>\n",
       "    </tr>\n",
       "  </thead>\n",
       "  <tbody>\n",
       "    <tr>\n",
       "      <th>0</th>\n",
       "      <td>na</td>\n",
       "      <td>Kathleen Nott was born in Camberwell, London. ...</td>\n",
       "      <td>their</td>\n",
       "      <td>163</td>\n",
       "      <td>Kathleen</td>\n",
       "      <td>150</td>\n",
       "      <td>na</td>\n",
       "    </tr>\n",
       "  </tbody>\n",
       "</table>\n",
       "</div>"
      ],
      "text/plain": [
       "   id                                               text pronoun  \\\n",
       "0  na  Kathleen Nott was born in Camberwell, London. ...   their   \n",
       "\n",
       "   pronoun_offset         a  a_offset url  \n",
       "0             163  Kathleen       150  na  "
      ]
     },
     "metadata": {},
     "output_type": "display_data"
    },
    {
     "name": "stderr",
     "output_type": "stream",
     "text": [
      "Initializing Step InputReader\n",
      "Step InputReader initialized\n",
      "Initializing Step LabelSanitizer\n",
      "Step LabelSanitizer initialized\n",
      "Initializing Step MentionsAnnotator\n",
      "Step MentionsAnnotator initialized\n",
      "Initializing Step gather_step\n",
      "STEPPY WARNING: Step with name \"InputReader\", already exist. Make sure that all Steps have unique name.\n",
      "Step gather_step initialized\n",
      "Step gather_step, working in \"inference\" mode\n",
      "Step InputReader, working in \"inference\" mode\n",
      "Step InputReader, adapting inputs\n",
      "Step InputReader, transforming...\n",
      "Step InputReader, transforming completed\n",
      "Step InputReader, transform completed\n",
      "Step LabelSanitizer, working in \"inference\" mode\n",
      "Step LabelSanitizer, adapting inputs\n",
      "Step LabelSanitizer, transforming...\n",
      "Step LabelSanitizer, transforming completed\n",
      "Step LabelSanitizer, transform completed\n",
      "Step MentionsAnnotator, working in \"inference\" mode\n",
      "Step InputReader, working in \"inference\" mode\n",
      "Step InputReader, adapting inputs\n",
      "Step InputReader, transforming...\n",
      "Step InputReader, transforming completed\n",
      "Step InputReader, transform completed\n",
      "Step MentionsAnnotator, unpacking inputs\n",
      "Step MentionsAnnotator, transforming...\n"
     ]
    },
    {
     "name": "stdout",
     "output_type": "stream",
     "text": [
      "Transforming data to features.\n",
      "------BEFORE DATA PIPELINE------- results/probert\n",
      "Empty DataFrame\n",
      "Columns: [id, label]\n",
      "Index: []\n"
     ]
    },
    {
     "name": "stderr",
     "output_type": "stream",
     "text": [
      "Extracting coref clusters...: 100%|██████████| 1/1 [00:00<00:00, 239.81it/s]\n",
      "Step MentionsAnnotator, transforming completed\n",
      "Step MentionsAnnotator, transform completed\n",
      "Step gather_step, adapting inputs\n",
      "Step gather_step, transforming...\n",
      "Step gather_step, transforming completed\n",
      "Step gather_step, transform completed\n"
     ]
    },
    {
     "name": "stdout",
     "output_type": "stream",
     "text": [
      "Transforming data to features done.\n",
      " Log a couple of examples for sanity check.\n",
      "\n"
     ]
    },
    {
     "name": "stderr",
     "output_type": "stream",
     "text": [
      "Convert Examples to features: 1it [00:00, 118.98it/s]\n",
      "Evaluating:   0%|          | 0/1 [00:00<?, ?it/s]/dccstor/media-bias-4374/gender-ambiguity-detectors/gap/models/gap/probert.py:35: UserWarning: indexing with dtype torch.uint8 is now deprecated, please use a dtype torch.bool instead. (Triggered internally at  ../aten/src/ATen/native/IndexingUtils.h:28.)\n",
      "  sequence_output = sequence_output[~gpr_tags_mask].view(batch_size, -1, self.config.hidden_size)\n",
      "Evaluating: 100%|██████████| 1/1 [00:06<00:00,  6.06s/it]"
     ]
    },
    {
     "name": "stdout",
     "output_type": "stream",
     "text": [
      "[0.40707874 0.5929213 ]\n",
      "Known pronoun 'their' resolves 'False' to 'Kathleen' with a probability of '0.5929213166236877'\n"
     ]
    },
    {
     "name": "stderr",
     "output_type": "stream",
     "text": [
      "\n"
     ]
    },
    {
     "data": {
      "text/html": [
       "<div>\n",
       "<style scoped>\n",
       "    .dataframe tbody tr th:only-of-type {\n",
       "        vertical-align: middle;\n",
       "    }\n",
       "\n",
       "    .dataframe tbody tr th {\n",
       "        vertical-align: top;\n",
       "    }\n",
       "\n",
       "    .dataframe thead th {\n",
       "        text-align: right;\n",
       "    }\n",
       "</style>\n",
       "<table border=\"1\" class=\"dataframe\">\n",
       "  <thead>\n",
       "    <tr style=\"text-align: right;\">\n",
       "      <th></th>\n",
       "      <th>id</th>\n",
       "      <th>text</th>\n",
       "      <th>pronoun</th>\n",
       "      <th>pronoun_offset</th>\n",
       "      <th>a</th>\n",
       "      <th>a_offset</th>\n",
       "      <th>url</th>\n",
       "    </tr>\n",
       "  </thead>\n",
       "  <tbody>\n",
       "    <tr>\n",
       "      <th>0</th>\n",
       "      <td>na</td>\n",
       "      <td>Kathleen Nott was born in Camberwell, London. ...</td>\n",
       "      <td>She</td>\n",
       "      <td>185</td>\n",
       "      <td>Kathleen Nott</td>\n",
       "      <td>0</td>\n",
       "      <td>na</td>\n",
       "    </tr>\n",
       "  </tbody>\n",
       "</table>\n",
       "</div>"
      ],
      "text/plain": [
       "   id                                               text pronoun  \\\n",
       "0  na  Kathleen Nott was born in Camberwell, London. ...     She   \n",
       "\n",
       "   pronoun_offset              a  a_offset url  \n",
       "0             185  Kathleen Nott         0  na  "
      ]
     },
     "metadata": {},
     "output_type": "display_data"
    },
    {
     "name": "stderr",
     "output_type": "stream",
     "text": [
      "Initializing Step InputReader\n",
      "Step InputReader initialized\n",
      "Initializing Step LabelSanitizer\n",
      "Step LabelSanitizer initialized\n",
      "Initializing Step MentionsAnnotator\n",
      "Step MentionsAnnotator initialized\n",
      "Initializing Step gather_step\n",
      "STEPPY WARNING: Step with name \"InputReader\", already exist. Make sure that all Steps have unique name.\n",
      "Step gather_step initialized\n",
      "Step gather_step, working in \"inference\" mode\n",
      "Step InputReader, working in \"inference\" mode\n",
      "Step InputReader, adapting inputs\n",
      "Step InputReader, transforming...\n",
      "Step InputReader, transforming completed\n",
      "Step InputReader, transform completed\n",
      "Step LabelSanitizer, working in \"inference\" mode\n",
      "Step LabelSanitizer, adapting inputs\n",
      "Step LabelSanitizer, transforming...\n",
      "Step LabelSanitizer, transforming completed\n",
      "Step LabelSanitizer, transform completed\n",
      "Step MentionsAnnotator, working in \"inference\" mode\n",
      "Step InputReader, working in \"inference\" mode\n",
      "Step InputReader, adapting inputs\n",
      "Step InputReader, transforming...\n",
      "Step InputReader, transforming completed\n",
      "Step InputReader, transform completed\n",
      "Step MentionsAnnotator, unpacking inputs\n",
      "Step MentionsAnnotator, transforming...\n"
     ]
    },
    {
     "name": "stdout",
     "output_type": "stream",
     "text": [
      "Transforming data to features.\n",
      "------BEFORE DATA PIPELINE------- results/probert\n",
      "Empty DataFrame\n",
      "Columns: [id, label]\n",
      "Index: []\n"
     ]
    },
    {
     "name": "stderr",
     "output_type": "stream",
     "text": [
      "Extracting coref clusters...: 100%|██████████| 1/1 [00:00<00:00, 348.25it/s]\n",
      "Step MentionsAnnotator, transforming completed\n",
      "Step MentionsAnnotator, transform completed\n",
      "Step gather_step, adapting inputs\n",
      "Step gather_step, transforming...\n",
      "Step gather_step, transforming completed\n",
      "Step gather_step, transform completed\n"
     ]
    },
    {
     "name": "stdout",
     "output_type": "stream",
     "text": [
      "Transforming data to features done.\n",
      " Log a couple of examples for sanity check.\n",
      "\n"
     ]
    },
    {
     "name": "stderr",
     "output_type": "stream",
     "text": [
      "Convert Examples to features: 1it [00:00, 108.64it/s]\n",
      "Evaluating:   0%|          | 0/1 [00:00<?, ?it/s]/dccstor/media-bias-4374/gender-ambiguity-detectors/gap/models/gap/probert.py:35: UserWarning: indexing with dtype torch.uint8 is now deprecated, please use a dtype torch.bool instead. (Triggered internally at  ../aten/src/ATen/native/IndexingUtils.h:28.)\n",
      "  sequence_output = sequence_output[~gpr_tags_mask].view(batch_size, -1, self.config.hidden_size)\n",
      "Evaluating: 100%|██████████| 1/1 [00:06<00:00,  6.49s/it]"
     ]
    },
    {
     "name": "stdout",
     "output_type": "stream",
     "text": [
      "[0.9987293  0.00127075]\n",
      "Known pronoun 'She' resolves 'True' to 'Kathleen Nott' with a probability of '0.9987292885780334'\n"
     ]
    },
    {
     "name": "stderr",
     "output_type": "stream",
     "text": [
      "\n"
     ]
    },
    {
     "data": {
      "text/html": [
       "<div>\n",
       "<style scoped>\n",
       "    .dataframe tbody tr th:only-of-type {\n",
       "        vertical-align: middle;\n",
       "    }\n",
       "\n",
       "    .dataframe tbody tr th {\n",
       "        vertical-align: top;\n",
       "    }\n",
       "\n",
       "    .dataframe thead th {\n",
       "        text-align: right;\n",
       "    }\n",
       "</style>\n",
       "<table border=\"1\" class=\"dataframe\">\n",
       "  <thead>\n",
       "    <tr style=\"text-align: right;\">\n",
       "      <th></th>\n",
       "      <th>id</th>\n",
       "      <th>text</th>\n",
       "      <th>pronoun</th>\n",
       "      <th>pronoun_offset</th>\n",
       "      <th>a</th>\n",
       "      <th>a_offset</th>\n",
       "      <th>url</th>\n",
       "    </tr>\n",
       "  </thead>\n",
       "  <tbody>\n",
       "    <tr>\n",
       "      <th>0</th>\n",
       "      <td>na</td>\n",
       "      <td>Kathleen Nott was born in Camberwell, London. ...</td>\n",
       "      <td>She</td>\n",
       "      <td>185</td>\n",
       "      <td>Philip</td>\n",
       "      <td>58</td>\n",
       "      <td>na</td>\n",
       "    </tr>\n",
       "  </tbody>\n",
       "</table>\n",
       "</div>"
      ],
      "text/plain": [
       "   id                                               text pronoun  \\\n",
       "0  na  Kathleen Nott was born in Camberwell, London. ...     She   \n",
       "\n",
       "   pronoun_offset       a  a_offset url  \n",
       "0             185  Philip        58  na  "
      ]
     },
     "metadata": {},
     "output_type": "display_data"
    },
    {
     "name": "stderr",
     "output_type": "stream",
     "text": [
      "Initializing Step InputReader\n",
      "Step InputReader initialized\n",
      "Initializing Step LabelSanitizer\n",
      "Step LabelSanitizer initialized\n",
      "Initializing Step MentionsAnnotator\n",
      "Step MentionsAnnotator initialized\n",
      "Initializing Step gather_step\n",
      "STEPPY WARNING: Step with name \"InputReader\", already exist. Make sure that all Steps have unique name.\n",
      "Step gather_step initialized\n",
      "Step gather_step, working in \"inference\" mode\n",
      "Step InputReader, working in \"inference\" mode\n",
      "Step InputReader, adapting inputs\n",
      "Step InputReader, transforming...\n",
      "Step InputReader, transforming completed\n",
      "Step InputReader, transform completed\n",
      "Step LabelSanitizer, working in \"inference\" mode\n",
      "Step LabelSanitizer, adapting inputs\n",
      "Step LabelSanitizer, transforming...\n",
      "Step LabelSanitizer, transforming completed\n",
      "Step LabelSanitizer, transform completed\n",
      "Step MentionsAnnotator, working in \"inference\" mode\n",
      "Step InputReader, working in \"inference\" mode\n",
      "Step InputReader, adapting inputs\n",
      "Step InputReader, transforming...\n",
      "Step InputReader, transforming completed\n",
      "Step InputReader, transform completed\n",
      "Step MentionsAnnotator, unpacking inputs\n",
      "Step MentionsAnnotator, transforming...\n"
     ]
    },
    {
     "name": "stdout",
     "output_type": "stream",
     "text": [
      "Transforming data to features.\n",
      "------BEFORE DATA PIPELINE------- results/probert\n",
      "Empty DataFrame\n",
      "Columns: [id, label]\n",
      "Index: []\n"
     ]
    },
    {
     "name": "stderr",
     "output_type": "stream",
     "text": [
      "Extracting coref clusters...: 100%|██████████| 1/1 [00:00<00:00, 354.52it/s]\n",
      "Step MentionsAnnotator, transforming completed\n",
      "Step MentionsAnnotator, transform completed\n",
      "Step gather_step, adapting inputs\n",
      "Step gather_step, transforming...\n",
      "Step gather_step, transforming completed\n",
      "Step gather_step, transform completed\n"
     ]
    },
    {
     "name": "stdout",
     "output_type": "stream",
     "text": [
      "Transforming data to features done.\n",
      " Log a couple of examples for sanity check.\n",
      "\n"
     ]
    },
    {
     "name": "stderr",
     "output_type": "stream",
     "text": [
      "Convert Examples to features: 1it [00:00, 132.66it/s]\n",
      "Evaluating:   0%|          | 0/1 [00:00<?, ?it/s]/dccstor/media-bias-4374/gender-ambiguity-detectors/gap/models/gap/probert.py:35: UserWarning: indexing with dtype torch.uint8 is now deprecated, please use a dtype torch.bool instead. (Triggered internally at  ../aten/src/ATen/native/IndexingUtils.h:28.)\n",
      "  sequence_output = sequence_output[~gpr_tags_mask].view(batch_size, -1, self.config.hidden_size)\n",
      "Evaluating: 100%|██████████| 1/1 [00:07<00:00,  7.31s/it]"
     ]
    },
    {
     "name": "stdout",
     "output_type": "stream",
     "text": [
      "[0.00554579 0.9944542 ]\n",
      "Known pronoun 'She' resolves 'False' to 'Philip' with a probability of '0.9944542050361633'\n"
     ]
    },
    {
     "name": "stderr",
     "output_type": "stream",
     "text": [
      "\n"
     ]
    },
    {
     "data": {
      "text/html": [
       "<div>\n",
       "<style scoped>\n",
       "    .dataframe tbody tr th:only-of-type {\n",
       "        vertical-align: middle;\n",
       "    }\n",
       "\n",
       "    .dataframe tbody tr th {\n",
       "        vertical-align: top;\n",
       "    }\n",
       "\n",
       "    .dataframe thead th {\n",
       "        text-align: right;\n",
       "    }\n",
       "</style>\n",
       "<table border=\"1\" class=\"dataframe\">\n",
       "  <thead>\n",
       "    <tr style=\"text-align: right;\">\n",
       "      <th></th>\n",
       "      <th>id</th>\n",
       "      <th>text</th>\n",
       "      <th>pronoun</th>\n",
       "      <th>pronoun_offset</th>\n",
       "      <th>a</th>\n",
       "      <th>a_offset</th>\n",
       "      <th>url</th>\n",
       "    </tr>\n",
       "  </thead>\n",
       "  <tbody>\n",
       "    <tr>\n",
       "      <th>0</th>\n",
       "      <td>na</td>\n",
       "      <td>Kathleen Nott was born in Camberwell, London. ...</td>\n",
       "      <td>She</td>\n",
       "      <td>185</td>\n",
       "      <td>Ellen</td>\n",
       "      <td>110</td>\n",
       "      <td>na</td>\n",
       "    </tr>\n",
       "  </tbody>\n",
       "</table>\n",
       "</div>"
      ],
      "text/plain": [
       "   id                                               text pronoun  \\\n",
       "0  na  Kathleen Nott was born in Camberwell, London. ...     She   \n",
       "\n",
       "   pronoun_offset      a  a_offset url  \n",
       "0             185  Ellen       110  na  "
      ]
     },
     "metadata": {},
     "output_type": "display_data"
    },
    {
     "name": "stderr",
     "output_type": "stream",
     "text": [
      "Initializing Step InputReader\n",
      "Step InputReader initialized\n",
      "Initializing Step LabelSanitizer\n",
      "Step LabelSanitizer initialized\n",
      "Initializing Step MentionsAnnotator\n",
      "Step MentionsAnnotator initialized\n",
      "Initializing Step gather_step\n",
      "STEPPY WARNING: Step with name \"InputReader\", already exist. Make sure that all Steps have unique name.\n",
      "Step gather_step initialized\n",
      "Step gather_step, working in \"inference\" mode\n",
      "Step InputReader, working in \"inference\" mode\n",
      "Step InputReader, adapting inputs\n",
      "Step InputReader, transforming...\n",
      "Step InputReader, transforming completed\n",
      "Step InputReader, transform completed\n",
      "Step LabelSanitizer, working in \"inference\" mode\n",
      "Step LabelSanitizer, adapting inputs\n",
      "Step LabelSanitizer, transforming...\n",
      "Step LabelSanitizer, transforming completed\n",
      "Step LabelSanitizer, transform completed\n",
      "Step MentionsAnnotator, working in \"inference\" mode\n",
      "Step InputReader, working in \"inference\" mode\n",
      "Step InputReader, adapting inputs\n",
      "Step InputReader, transforming...\n",
      "Step InputReader, transforming completed\n",
      "Step InputReader, transform completed\n",
      "Step MentionsAnnotator, unpacking inputs\n",
      "Step MentionsAnnotator, transforming...\n"
     ]
    },
    {
     "name": "stdout",
     "output_type": "stream",
     "text": [
      "Transforming data to features.\n",
      "------BEFORE DATA PIPELINE------- results/probert\n",
      "Empty DataFrame\n",
      "Columns: [id, label]\n",
      "Index: []\n"
     ]
    },
    {
     "name": "stderr",
     "output_type": "stream",
     "text": [
      "Extracting coref clusters...: 100%|██████████| 1/1 [00:00<00:00, 381.96it/s]\n",
      "Step MentionsAnnotator, transforming completed\n",
      "Step MentionsAnnotator, transform completed\n",
      "Step gather_step, adapting inputs\n",
      "Step gather_step, transforming...\n",
      "Step gather_step, transforming completed\n",
      "Step gather_step, transform completed\n"
     ]
    },
    {
     "name": "stdout",
     "output_type": "stream",
     "text": [
      "Transforming data to features done.\n",
      " Log a couple of examples for sanity check.\n",
      "\n"
     ]
    },
    {
     "name": "stderr",
     "output_type": "stream",
     "text": [
      "Convert Examples to features: 1it [00:00, 116.26it/s]\n",
      "Evaluating:   0%|          | 0/1 [00:00<?, ?it/s]/dccstor/media-bias-4374/gender-ambiguity-detectors/gap/models/gap/probert.py:35: UserWarning: indexing with dtype torch.uint8 is now deprecated, please use a dtype torch.bool instead. (Triggered internally at  ../aten/src/ATen/native/IndexingUtils.h:28.)\n",
      "  sequence_output = sequence_output[~gpr_tags_mask].view(batch_size, -1, self.config.hidden_size)\n",
      "Evaluating: 100%|██████████| 1/1 [00:06<00:00,  6.47s/it]"
     ]
    },
    {
     "name": "stdout",
     "output_type": "stream",
     "text": [
      "[0.00456119 0.9954389 ]\n",
      "Known pronoun 'She' resolves 'False' to 'Ellen' with a probability of '0.9954388737678528'\n"
     ]
    },
    {
     "name": "stderr",
     "output_type": "stream",
     "text": [
      "\n"
     ]
    },
    {
     "data": {
      "text/html": [
       "<div>\n",
       "<style scoped>\n",
       "    .dataframe tbody tr th:only-of-type {\n",
       "        vertical-align: middle;\n",
       "    }\n",
       "\n",
       "    .dataframe tbody tr th {\n",
       "        vertical-align: top;\n",
       "    }\n",
       "\n",
       "    .dataframe thead th {\n",
       "        text-align: right;\n",
       "    }\n",
       "</style>\n",
       "<table border=\"1\" class=\"dataframe\">\n",
       "  <thead>\n",
       "    <tr style=\"text-align: right;\">\n",
       "      <th></th>\n",
       "      <th>id</th>\n",
       "      <th>text</th>\n",
       "      <th>pronoun</th>\n",
       "      <th>pronoun_offset</th>\n",
       "      <th>a</th>\n",
       "      <th>a_offset</th>\n",
       "      <th>url</th>\n",
       "    </tr>\n",
       "  </thead>\n",
       "  <tbody>\n",
       "    <tr>\n",
       "      <th>0</th>\n",
       "      <td>na</td>\n",
       "      <td>Kathleen Nott was born in Camberwell, London. ...</td>\n",
       "      <td>She</td>\n",
       "      <td>185</td>\n",
       "      <td>Kathleen</td>\n",
       "      <td>0</td>\n",
       "      <td>na</td>\n",
       "    </tr>\n",
       "  </tbody>\n",
       "</table>\n",
       "</div>"
      ],
      "text/plain": [
       "   id                                               text pronoun  \\\n",
       "0  na  Kathleen Nott was born in Camberwell, London. ...     She   \n",
       "\n",
       "   pronoun_offset         a  a_offset url  \n",
       "0             185  Kathleen         0  na  "
      ]
     },
     "metadata": {},
     "output_type": "display_data"
    },
    {
     "name": "stderr",
     "output_type": "stream",
     "text": [
      "Initializing Step InputReader\n",
      "Step InputReader initialized\n",
      "Initializing Step LabelSanitizer\n",
      "Step LabelSanitizer initialized\n",
      "Initializing Step MentionsAnnotator\n",
      "Step MentionsAnnotator initialized\n",
      "Initializing Step gather_step\n",
      "STEPPY WARNING: Step with name \"InputReader\", already exist. Make sure that all Steps have unique name.\n",
      "Step gather_step initialized\n",
      "Step gather_step, working in \"inference\" mode\n",
      "Step InputReader, working in \"inference\" mode\n",
      "Step InputReader, adapting inputs\n",
      "Step InputReader, transforming...\n",
      "Step InputReader, transforming completed\n",
      "Step InputReader, transform completed\n",
      "Step LabelSanitizer, working in \"inference\" mode\n",
      "Step LabelSanitizer, adapting inputs\n",
      "Step LabelSanitizer, transforming...\n",
      "Step LabelSanitizer, transforming completed\n",
      "Step LabelSanitizer, transform completed\n",
      "Step MentionsAnnotator, working in \"inference\" mode\n",
      "Step InputReader, working in \"inference\" mode\n",
      "Step InputReader, adapting inputs\n",
      "Step InputReader, transforming...\n",
      "Step InputReader, transforming completed\n",
      "Step InputReader, transform completed\n",
      "Step MentionsAnnotator, unpacking inputs\n",
      "Step MentionsAnnotator, transforming...\n"
     ]
    },
    {
     "name": "stdout",
     "output_type": "stream",
     "text": [
      "Transforming data to features.\n",
      "------BEFORE DATA PIPELINE------- results/probert\n",
      "Empty DataFrame\n",
      "Columns: [id, label]\n",
      "Index: []\n"
     ]
    },
    {
     "name": "stderr",
     "output_type": "stream",
     "text": [
      "Extracting coref clusters...: 100%|██████████| 1/1 [00:00<00:00, 331.80it/s]\n",
      "Step MentionsAnnotator, transforming completed\n",
      "Step MentionsAnnotator, transform completed\n",
      "Step gather_step, adapting inputs\n",
      "Step gather_step, transforming...\n",
      "Step gather_step, transforming completed\n",
      "Step gather_step, transform completed\n"
     ]
    },
    {
     "name": "stdout",
     "output_type": "stream",
     "text": [
      "Transforming data to features done.\n",
      " Log a couple of examples for sanity check.\n",
      "\n"
     ]
    },
    {
     "name": "stderr",
     "output_type": "stream",
     "text": [
      "Convert Examples to features: 1it [00:00, 116.55it/s]\n",
      "Evaluating:   0%|          | 0/1 [00:00<?, ?it/s]/dccstor/media-bias-4374/gender-ambiguity-detectors/gap/models/gap/probert.py:35: UserWarning: indexing with dtype torch.uint8 is now deprecated, please use a dtype torch.bool instead. (Triggered internally at  ../aten/src/ATen/native/IndexingUtils.h:28.)\n",
      "  sequence_output = sequence_output[~gpr_tags_mask].view(batch_size, -1, self.config.hidden_size)\n",
      "Evaluating: 100%|██████████| 1/1 [00:06<00:00,  6.66s/it]"
     ]
    },
    {
     "name": "stdout",
     "output_type": "stream",
     "text": [
      "[0.9983675  0.00163249]\n",
      "Known pronoun 'She' resolves 'True' to 'Kathleen' with a probability of '0.9983674883842468'\n"
     ]
    },
    {
     "name": "stderr",
     "output_type": "stream",
     "text": [
      "\n"
     ]
    },
    {
     "data": {
      "text/html": [
       "<div>\n",
       "<style scoped>\n",
       "    .dataframe tbody tr th:only-of-type {\n",
       "        vertical-align: middle;\n",
       "    }\n",
       "\n",
       "    .dataframe tbody tr th {\n",
       "        vertical-align: top;\n",
       "    }\n",
       "\n",
       "    .dataframe thead th {\n",
       "        text-align: right;\n",
       "    }\n",
       "</style>\n",
       "<table border=\"1\" class=\"dataframe\">\n",
       "  <thead>\n",
       "    <tr style=\"text-align: right;\">\n",
       "      <th></th>\n",
       "      <th>id</th>\n",
       "      <th>text</th>\n",
       "      <th>pronoun</th>\n",
       "      <th>pronoun_offset</th>\n",
       "      <th>a</th>\n",
       "      <th>a_offset</th>\n",
       "      <th>url</th>\n",
       "    </tr>\n",
       "  </thead>\n",
       "  <tbody>\n",
       "    <tr>\n",
       "      <th>0</th>\n",
       "      <td>na</td>\n",
       "      <td>Kathleen Nott was born in Camberwell, London. ...</td>\n",
       "      <td>She</td>\n",
       "      <td>185</td>\n",
       "      <td>Kathleen</td>\n",
       "      <td>150</td>\n",
       "      <td>na</td>\n",
       "    </tr>\n",
       "  </tbody>\n",
       "</table>\n",
       "</div>"
      ],
      "text/plain": [
       "   id                                               text pronoun  \\\n",
       "0  na  Kathleen Nott was born in Camberwell, London. ...     She   \n",
       "\n",
       "   pronoun_offset         a  a_offset url  \n",
       "0             185  Kathleen       150  na  "
      ]
     },
     "metadata": {},
     "output_type": "display_data"
    },
    {
     "name": "stderr",
     "output_type": "stream",
     "text": [
      "Initializing Step InputReader\n",
      "Step InputReader initialized\n",
      "Initializing Step LabelSanitizer\n",
      "Step LabelSanitizer initialized\n",
      "Initializing Step MentionsAnnotator\n",
      "Step MentionsAnnotator initialized\n",
      "Initializing Step gather_step\n",
      "STEPPY WARNING: Step with name \"InputReader\", already exist. Make sure that all Steps have unique name.\n",
      "Step gather_step initialized\n",
      "Step gather_step, working in \"inference\" mode\n",
      "Step InputReader, working in \"inference\" mode\n",
      "Step InputReader, adapting inputs\n",
      "Step InputReader, transforming...\n",
      "Step InputReader, transforming completed\n",
      "Step InputReader, transform completed\n",
      "Step LabelSanitizer, working in \"inference\" mode\n",
      "Step LabelSanitizer, adapting inputs\n",
      "Step LabelSanitizer, transforming...\n",
      "Step LabelSanitizer, transforming completed\n",
      "Step LabelSanitizer, transform completed\n",
      "Step MentionsAnnotator, working in \"inference\" mode\n",
      "Step InputReader, working in \"inference\" mode\n",
      "Step InputReader, adapting inputs\n",
      "Step InputReader, transforming...\n",
      "Step InputReader, transforming completed\n",
      "Step InputReader, transform completed\n",
      "Step MentionsAnnotator, unpacking inputs\n",
      "Step MentionsAnnotator, transforming...\n"
     ]
    },
    {
     "name": "stdout",
     "output_type": "stream",
     "text": [
      "Transforming data to features.\n",
      "------BEFORE DATA PIPELINE------- results/probert\n",
      "Empty DataFrame\n",
      "Columns: [id, label]\n",
      "Index: []\n"
     ]
    },
    {
     "name": "stderr",
     "output_type": "stream",
     "text": [
      "Extracting coref clusters...: 100%|██████████| 1/1 [00:00<00:00, 324.99it/s]\n",
      "Step MentionsAnnotator, transforming completed\n",
      "Step MentionsAnnotator, transform completed\n",
      "Step gather_step, adapting inputs\n",
      "Step gather_step, transforming...\n",
      "Step gather_step, transforming completed\n",
      "Step gather_step, transform completed\n"
     ]
    },
    {
     "name": "stdout",
     "output_type": "stream",
     "text": [
      "Transforming data to features done.\n",
      " Log a couple of examples for sanity check.\n",
      "\n"
     ]
    },
    {
     "name": "stderr",
     "output_type": "stream",
     "text": [
      "Convert Examples to features: 1it [00:00, 119.77it/s]\n",
      "Evaluating:   0%|          | 0/1 [00:00<?, ?it/s]/dccstor/media-bias-4374/gender-ambiguity-detectors/gap/models/gap/probert.py:35: UserWarning: indexing with dtype torch.uint8 is now deprecated, please use a dtype torch.bool instead. (Triggered internally at  ../aten/src/ATen/native/IndexingUtils.h:28.)\n",
      "  sequence_output = sequence_output[~gpr_tags_mask].view(batch_size, -1, self.config.hidden_size)\n",
      "Evaluating: 100%|██████████| 1/1 [00:07<00:00,  7.42s/it]"
     ]
    },
    {
     "name": "stdout",
     "output_type": "stream",
     "text": [
      "[0.15811901 0.841881  ]\n",
      "Known pronoun 'She' resolves 'False' to 'Kathleen' with a probability of '0.8418809771537781'\n"
     ]
    },
    {
     "name": "stderr",
     "output_type": "stream",
     "text": [
      "\n"
     ]
    },
    {
     "data": {
      "text/html": [
       "<div>\n",
       "<style scoped>\n",
       "    .dataframe tbody tr th:only-of-type {\n",
       "        vertical-align: middle;\n",
       "    }\n",
       "\n",
       "    .dataframe tbody tr th {\n",
       "        vertical-align: top;\n",
       "    }\n",
       "\n",
       "    .dataframe thead th {\n",
       "        text-align: right;\n",
       "    }\n",
       "</style>\n",
       "<table border=\"1\" class=\"dataframe\">\n",
       "  <thead>\n",
       "    <tr style=\"text-align: right;\">\n",
       "      <th></th>\n",
       "      <th>id</th>\n",
       "      <th>text</th>\n",
       "      <th>pronoun</th>\n",
       "      <th>pronoun_offset</th>\n",
       "      <th>a</th>\n",
       "      <th>a_offset</th>\n",
       "      <th>url</th>\n",
       "    </tr>\n",
       "  </thead>\n",
       "  <tbody>\n",
       "    <tr>\n",
       "      <th>0</th>\n",
       "      <td>na</td>\n",
       "      <td>Kathleen Nott was born in Camberwell, London. ...</td>\n",
       "      <td>she</td>\n",
       "      <td>311</td>\n",
       "      <td>Kathleen Nott</td>\n",
       "      <td>0</td>\n",
       "      <td>na</td>\n",
       "    </tr>\n",
       "  </tbody>\n",
       "</table>\n",
       "</div>"
      ],
      "text/plain": [
       "   id                                               text pronoun  \\\n",
       "0  na  Kathleen Nott was born in Camberwell, London. ...     she   \n",
       "\n",
       "   pronoun_offset              a  a_offset url  \n",
       "0             311  Kathleen Nott         0  na  "
      ]
     },
     "metadata": {},
     "output_type": "display_data"
    },
    {
     "name": "stderr",
     "output_type": "stream",
     "text": [
      "Initializing Step InputReader\n",
      "Step InputReader initialized\n",
      "Initializing Step LabelSanitizer\n",
      "Step LabelSanitizer initialized\n",
      "Initializing Step MentionsAnnotator\n",
      "Step MentionsAnnotator initialized\n",
      "Initializing Step gather_step\n",
      "STEPPY WARNING: Step with name \"InputReader\", already exist. Make sure that all Steps have unique name.\n",
      "Step gather_step initialized\n",
      "Step gather_step, working in \"inference\" mode\n",
      "Step InputReader, working in \"inference\" mode\n",
      "Step InputReader, adapting inputs\n",
      "Step InputReader, transforming...\n",
      "Step InputReader, transforming completed\n",
      "Step InputReader, transform completed\n",
      "Step LabelSanitizer, working in \"inference\" mode\n",
      "Step LabelSanitizer, adapting inputs\n",
      "Step LabelSanitizer, transforming...\n",
      "Step LabelSanitizer, transforming completed\n",
      "Step LabelSanitizer, transform completed\n",
      "Step MentionsAnnotator, working in \"inference\" mode\n",
      "Step InputReader, working in \"inference\" mode\n",
      "Step InputReader, adapting inputs\n",
      "Step InputReader, transforming...\n",
      "Step InputReader, transforming completed\n",
      "Step InputReader, transform completed\n",
      "Step MentionsAnnotator, unpacking inputs\n",
      "Step MentionsAnnotator, transforming...\n"
     ]
    },
    {
     "name": "stdout",
     "output_type": "stream",
     "text": [
      "Transforming data to features.\n",
      "------BEFORE DATA PIPELINE------- results/probert\n",
      "Empty DataFrame\n",
      "Columns: [id, label]\n",
      "Index: []\n"
     ]
    },
    {
     "name": "stderr",
     "output_type": "stream",
     "text": [
      "Extracting coref clusters...: 100%|██████████| 1/1 [00:00<00:00, 258.76it/s]\n",
      "Step MentionsAnnotator, transforming completed\n",
      "Step MentionsAnnotator, transform completed\n",
      "Step gather_step, adapting inputs\n",
      "Step gather_step, transforming...\n",
      "Step gather_step, transforming completed\n",
      "Step gather_step, transform completed\n"
     ]
    },
    {
     "name": "stdout",
     "output_type": "stream",
     "text": [
      "Transforming data to features done.\n",
      " Log a couple of examples for sanity check.\n",
      "\n"
     ]
    },
    {
     "name": "stderr",
     "output_type": "stream",
     "text": [
      "Convert Examples to features: 1it [00:00, 120.88it/s]\n",
      "Evaluating:   0%|          | 0/1 [00:00<?, ?it/s]/dccstor/media-bias-4374/gender-ambiguity-detectors/gap/models/gap/probert.py:35: UserWarning: indexing with dtype torch.uint8 is now deprecated, please use a dtype torch.bool instead. (Triggered internally at  ../aten/src/ATen/native/IndexingUtils.h:28.)\n",
      "  sequence_output = sequence_output[~gpr_tags_mask].view(batch_size, -1, self.config.hidden_size)\n",
      "Evaluating: 100%|██████████| 1/1 [00:08<00:00,  8.34s/it]"
     ]
    },
    {
     "name": "stdout",
     "output_type": "stream",
     "text": [
      "[0.9963928  0.00360723]\n",
      "Known pronoun 'she' resolves 'True' to 'Kathleen Nott' with a probability of '0.9963927865028381'\n"
     ]
    },
    {
     "name": "stderr",
     "output_type": "stream",
     "text": [
      "\n"
     ]
    },
    {
     "data": {
      "text/html": [
       "<div>\n",
       "<style scoped>\n",
       "    .dataframe tbody tr th:only-of-type {\n",
       "        vertical-align: middle;\n",
       "    }\n",
       "\n",
       "    .dataframe tbody tr th {\n",
       "        vertical-align: top;\n",
       "    }\n",
       "\n",
       "    .dataframe thead th {\n",
       "        text-align: right;\n",
       "    }\n",
       "</style>\n",
       "<table border=\"1\" class=\"dataframe\">\n",
       "  <thead>\n",
       "    <tr style=\"text-align: right;\">\n",
       "      <th></th>\n",
       "      <th>id</th>\n",
       "      <th>text</th>\n",
       "      <th>pronoun</th>\n",
       "      <th>pronoun_offset</th>\n",
       "      <th>a</th>\n",
       "      <th>a_offset</th>\n",
       "      <th>url</th>\n",
       "    </tr>\n",
       "  </thead>\n",
       "  <tbody>\n",
       "    <tr>\n",
       "      <th>0</th>\n",
       "      <td>na</td>\n",
       "      <td>Kathleen Nott was born in Camberwell, London. ...</td>\n",
       "      <td>she</td>\n",
       "      <td>311</td>\n",
       "      <td>Philip</td>\n",
       "      <td>58</td>\n",
       "      <td>na</td>\n",
       "    </tr>\n",
       "  </tbody>\n",
       "</table>\n",
       "</div>"
      ],
      "text/plain": [
       "   id                                               text pronoun  \\\n",
       "0  na  Kathleen Nott was born in Camberwell, London. ...     she   \n",
       "\n",
       "   pronoun_offset       a  a_offset url  \n",
       "0             311  Philip        58  na  "
      ]
     },
     "metadata": {},
     "output_type": "display_data"
    },
    {
     "name": "stderr",
     "output_type": "stream",
     "text": [
      "Initializing Step InputReader\n",
      "Step InputReader initialized\n",
      "Initializing Step LabelSanitizer\n",
      "Step LabelSanitizer initialized\n",
      "Initializing Step MentionsAnnotator\n",
      "Step MentionsAnnotator initialized\n",
      "Initializing Step gather_step\n",
      "STEPPY WARNING: Step with name \"InputReader\", already exist. Make sure that all Steps have unique name.\n",
      "Step gather_step initialized\n",
      "Step gather_step, working in \"inference\" mode\n",
      "Step InputReader, working in \"inference\" mode\n",
      "Step InputReader, adapting inputs\n",
      "Step InputReader, transforming...\n",
      "Step InputReader, transforming completed\n",
      "Step InputReader, transform completed\n",
      "Step LabelSanitizer, working in \"inference\" mode\n",
      "Step LabelSanitizer, adapting inputs\n",
      "Step LabelSanitizer, transforming...\n",
      "Step LabelSanitizer, transforming completed\n",
      "Step LabelSanitizer, transform completed\n",
      "Step MentionsAnnotator, working in \"inference\" mode\n",
      "Step InputReader, working in \"inference\" mode\n",
      "Step InputReader, adapting inputs\n",
      "Step InputReader, transforming...\n",
      "Step InputReader, transforming completed\n",
      "Step InputReader, transform completed\n",
      "Step MentionsAnnotator, unpacking inputs\n",
      "Step MentionsAnnotator, transforming...\n"
     ]
    },
    {
     "name": "stdout",
     "output_type": "stream",
     "text": [
      "Transforming data to features.\n",
      "------BEFORE DATA PIPELINE------- results/probert\n",
      "Empty DataFrame\n",
      "Columns: [id, label]\n",
      "Index: []\n"
     ]
    },
    {
     "name": "stderr",
     "output_type": "stream",
     "text": [
      "Extracting coref clusters...: 100%|██████████| 1/1 [00:00<00:00, 250.80it/s]\n",
      "Step MentionsAnnotator, transforming completed\n",
      "Step MentionsAnnotator, transform completed\n",
      "Step gather_step, adapting inputs\n",
      "Step gather_step, transforming...\n",
      "Step gather_step, transforming completed\n",
      "Step gather_step, transform completed\n"
     ]
    },
    {
     "name": "stdout",
     "output_type": "stream",
     "text": [
      "Transforming data to features done.\n",
      " Log a couple of examples for sanity check.\n",
      "\n"
     ]
    },
    {
     "name": "stderr",
     "output_type": "stream",
     "text": [
      "Convert Examples to features: 1it [00:00, 96.08it/s]\n",
      "Evaluating:   0%|          | 0/1 [00:00<?, ?it/s]/dccstor/media-bias-4374/gender-ambiguity-detectors/gap/models/gap/probert.py:35: UserWarning: indexing with dtype torch.uint8 is now deprecated, please use a dtype torch.bool instead. (Triggered internally at  ../aten/src/ATen/native/IndexingUtils.h:28.)\n",
      "  sequence_output = sequence_output[~gpr_tags_mask].view(batch_size, -1, self.config.hidden_size)\n",
      "Evaluating: 100%|██████████| 1/1 [00:08<00:00,  8.66s/it]"
     ]
    },
    {
     "name": "stdout",
     "output_type": "stream",
     "text": [
      "[0.00463207 0.995368  ]\n",
      "Known pronoun 'she' resolves 'False' to 'Philip' with a probability of '0.9953680038452148'\n"
     ]
    },
    {
     "name": "stderr",
     "output_type": "stream",
     "text": [
      "\n"
     ]
    },
    {
     "data": {
      "text/html": [
       "<div>\n",
       "<style scoped>\n",
       "    .dataframe tbody tr th:only-of-type {\n",
       "        vertical-align: middle;\n",
       "    }\n",
       "\n",
       "    .dataframe tbody tr th {\n",
       "        vertical-align: top;\n",
       "    }\n",
       "\n",
       "    .dataframe thead th {\n",
       "        text-align: right;\n",
       "    }\n",
       "</style>\n",
       "<table border=\"1\" class=\"dataframe\">\n",
       "  <thead>\n",
       "    <tr style=\"text-align: right;\">\n",
       "      <th></th>\n",
       "      <th>id</th>\n",
       "      <th>text</th>\n",
       "      <th>pronoun</th>\n",
       "      <th>pronoun_offset</th>\n",
       "      <th>a</th>\n",
       "      <th>a_offset</th>\n",
       "      <th>url</th>\n",
       "    </tr>\n",
       "  </thead>\n",
       "  <tbody>\n",
       "    <tr>\n",
       "      <th>0</th>\n",
       "      <td>na</td>\n",
       "      <td>Kathleen Nott was born in Camberwell, London. ...</td>\n",
       "      <td>she</td>\n",
       "      <td>311</td>\n",
       "      <td>Ellen</td>\n",
       "      <td>110</td>\n",
       "      <td>na</td>\n",
       "    </tr>\n",
       "  </tbody>\n",
       "</table>\n",
       "</div>"
      ],
      "text/plain": [
       "   id                                               text pronoun  \\\n",
       "0  na  Kathleen Nott was born in Camberwell, London. ...     she   \n",
       "\n",
       "   pronoun_offset      a  a_offset url  \n",
       "0             311  Ellen       110  na  "
      ]
     },
     "metadata": {},
     "output_type": "display_data"
    },
    {
     "name": "stderr",
     "output_type": "stream",
     "text": [
      "Initializing Step InputReader\n",
      "Step InputReader initialized\n",
      "Initializing Step LabelSanitizer\n",
      "Step LabelSanitizer initialized\n",
      "Initializing Step MentionsAnnotator\n",
      "Step MentionsAnnotator initialized\n",
      "Initializing Step gather_step\n",
      "STEPPY WARNING: Step with name \"InputReader\", already exist. Make sure that all Steps have unique name.\n",
      "Step gather_step initialized\n",
      "Step gather_step, working in \"inference\" mode\n",
      "Step InputReader, working in \"inference\" mode\n",
      "Step InputReader, adapting inputs\n",
      "Step InputReader, transforming...\n",
      "Step InputReader, transforming completed\n",
      "Step InputReader, transform completed\n",
      "Step LabelSanitizer, working in \"inference\" mode\n",
      "Step LabelSanitizer, adapting inputs\n",
      "Step LabelSanitizer, transforming...\n",
      "Step LabelSanitizer, transforming completed\n",
      "Step LabelSanitizer, transform completed\n",
      "Step MentionsAnnotator, working in \"inference\" mode\n",
      "Step InputReader, working in \"inference\" mode\n",
      "Step InputReader, adapting inputs\n",
      "Step InputReader, transforming...\n",
      "Step InputReader, transforming completed\n",
      "Step InputReader, transform completed\n",
      "Step MentionsAnnotator, unpacking inputs\n",
      "Step MentionsAnnotator, transforming...\n"
     ]
    },
    {
     "name": "stdout",
     "output_type": "stream",
     "text": [
      "Transforming data to features.\n",
      "------BEFORE DATA PIPELINE------- results/probert\n",
      "Empty DataFrame\n",
      "Columns: [id, label]\n",
      "Index: []\n"
     ]
    },
    {
     "name": "stderr",
     "output_type": "stream",
     "text": [
      "Extracting coref clusters...: 100%|██████████| 1/1 [00:00<00:00, 336.46it/s]\n",
      "Step MentionsAnnotator, transforming completed\n",
      "Step MentionsAnnotator, transform completed\n",
      "Step gather_step, adapting inputs\n",
      "Step gather_step, transforming...\n",
      "Step gather_step, transforming completed\n",
      "Step gather_step, transform completed\n"
     ]
    },
    {
     "name": "stdout",
     "output_type": "stream",
     "text": [
      "Transforming data to features done.\n",
      " Log a couple of examples for sanity check.\n",
      "\n"
     ]
    },
    {
     "name": "stderr",
     "output_type": "stream",
     "text": [
      "Convert Examples to features: 1it [00:00, 100.90it/s]\n",
      "Evaluating:   0%|          | 0/1 [00:00<?, ?it/s]/dccstor/media-bias-4374/gender-ambiguity-detectors/gap/models/gap/probert.py:35: UserWarning: indexing with dtype torch.uint8 is now deprecated, please use a dtype torch.bool instead. (Triggered internally at  ../aten/src/ATen/native/IndexingUtils.h:28.)\n",
      "  sequence_output = sequence_output[~gpr_tags_mask].view(batch_size, -1, self.config.hidden_size)\n",
      "Evaluating: 100%|██████████| 1/1 [00:08<00:00,  8.44s/it]"
     ]
    },
    {
     "name": "stdout",
     "output_type": "stream",
     "text": [
      "[0.00306092 0.99693906]\n",
      "Known pronoun 'she' resolves 'False' to 'Ellen' with a probability of '0.9969390630722046'\n"
     ]
    },
    {
     "name": "stderr",
     "output_type": "stream",
     "text": [
      "\n"
     ]
    },
    {
     "data": {
      "text/html": [
       "<div>\n",
       "<style scoped>\n",
       "    .dataframe tbody tr th:only-of-type {\n",
       "        vertical-align: middle;\n",
       "    }\n",
       "\n",
       "    .dataframe tbody tr th {\n",
       "        vertical-align: top;\n",
       "    }\n",
       "\n",
       "    .dataframe thead th {\n",
       "        text-align: right;\n",
       "    }\n",
       "</style>\n",
       "<table border=\"1\" class=\"dataframe\">\n",
       "  <thead>\n",
       "    <tr style=\"text-align: right;\">\n",
       "      <th></th>\n",
       "      <th>id</th>\n",
       "      <th>text</th>\n",
       "      <th>pronoun</th>\n",
       "      <th>pronoun_offset</th>\n",
       "      <th>a</th>\n",
       "      <th>a_offset</th>\n",
       "      <th>url</th>\n",
       "    </tr>\n",
       "  </thead>\n",
       "  <tbody>\n",
       "    <tr>\n",
       "      <th>0</th>\n",
       "      <td>na</td>\n",
       "      <td>Kathleen Nott was born in Camberwell, London. ...</td>\n",
       "      <td>she</td>\n",
       "      <td>311</td>\n",
       "      <td>Kathleen</td>\n",
       "      <td>0</td>\n",
       "      <td>na</td>\n",
       "    </tr>\n",
       "  </tbody>\n",
       "</table>\n",
       "</div>"
      ],
      "text/plain": [
       "   id                                               text pronoun  \\\n",
       "0  na  Kathleen Nott was born in Camberwell, London. ...     she   \n",
       "\n",
       "   pronoun_offset         a  a_offset url  \n",
       "0             311  Kathleen         0  na  "
      ]
     },
     "metadata": {},
     "output_type": "display_data"
    },
    {
     "name": "stderr",
     "output_type": "stream",
     "text": [
      "Initializing Step InputReader\n",
      "Step InputReader initialized\n",
      "Initializing Step LabelSanitizer\n",
      "Step LabelSanitizer initialized\n",
      "Initializing Step MentionsAnnotator\n",
      "Step MentionsAnnotator initialized\n",
      "Initializing Step gather_step\n",
      "STEPPY WARNING: Step with name \"InputReader\", already exist. Make sure that all Steps have unique name.\n",
      "Step gather_step initialized\n",
      "Step gather_step, working in \"inference\" mode\n",
      "Step InputReader, working in \"inference\" mode\n",
      "Step InputReader, adapting inputs\n",
      "Step InputReader, transforming...\n",
      "Step InputReader, transforming completed\n",
      "Step InputReader, transform completed\n",
      "Step LabelSanitizer, working in \"inference\" mode\n",
      "Step LabelSanitizer, adapting inputs\n",
      "Step LabelSanitizer, transforming...\n",
      "Step LabelSanitizer, transforming completed\n",
      "Step LabelSanitizer, transform completed\n",
      "Step MentionsAnnotator, working in \"inference\" mode\n",
      "Step InputReader, working in \"inference\" mode\n",
      "Step InputReader, adapting inputs\n",
      "Step InputReader, transforming...\n",
      "Step InputReader, transforming completed\n",
      "Step InputReader, transform completed\n",
      "Step MentionsAnnotator, unpacking inputs\n",
      "Step MentionsAnnotator, transforming...\n"
     ]
    },
    {
     "name": "stdout",
     "output_type": "stream",
     "text": [
      "Transforming data to features.\n",
      "------BEFORE DATA PIPELINE------- results/probert\n",
      "Empty DataFrame\n",
      "Columns: [id, label]\n",
      "Index: []\n"
     ]
    },
    {
     "name": "stderr",
     "output_type": "stream",
     "text": [
      "Extracting coref clusters...: 100%|██████████| 1/1 [00:00<00:00, 330.57it/s]\n",
      "Step MentionsAnnotator, transforming completed\n",
      "Step MentionsAnnotator, transform completed\n",
      "Step gather_step, adapting inputs\n",
      "Step gather_step, transforming...\n",
      "Step gather_step, transforming completed\n",
      "Step gather_step, transform completed\n"
     ]
    },
    {
     "name": "stdout",
     "output_type": "stream",
     "text": [
      "Transforming data to features done.\n",
      " Log a couple of examples for sanity check.\n",
      "\n"
     ]
    },
    {
     "name": "stderr",
     "output_type": "stream",
     "text": [
      "Convert Examples to features: 1it [00:00, 107.17it/s]\n",
      "Evaluating:   0%|          | 0/1 [00:00<?, ?it/s]/dccstor/media-bias-4374/gender-ambiguity-detectors/gap/models/gap/probert.py:35: UserWarning: indexing with dtype torch.uint8 is now deprecated, please use a dtype torch.bool instead. (Triggered internally at  ../aten/src/ATen/native/IndexingUtils.h:28.)\n",
      "  sequence_output = sequence_output[~gpr_tags_mask].view(batch_size, -1, self.config.hidden_size)\n",
      "Evaluating: 100%|██████████| 1/1 [00:07<00:00,  7.31s/it]"
     ]
    },
    {
     "name": "stdout",
     "output_type": "stream",
     "text": [
      "[0.994034   0.00596603]\n",
      "Known pronoun 'she' resolves 'True' to 'Kathleen' with a probability of '0.9940339922904968'\n"
     ]
    },
    {
     "name": "stderr",
     "output_type": "stream",
     "text": [
      "\n"
     ]
    },
    {
     "data": {
      "text/html": [
       "<div>\n",
       "<style scoped>\n",
       "    .dataframe tbody tr th:only-of-type {\n",
       "        vertical-align: middle;\n",
       "    }\n",
       "\n",
       "    .dataframe tbody tr th {\n",
       "        vertical-align: top;\n",
       "    }\n",
       "\n",
       "    .dataframe thead th {\n",
       "        text-align: right;\n",
       "    }\n",
       "</style>\n",
       "<table border=\"1\" class=\"dataframe\">\n",
       "  <thead>\n",
       "    <tr style=\"text-align: right;\">\n",
       "      <th></th>\n",
       "      <th>id</th>\n",
       "      <th>text</th>\n",
       "      <th>pronoun</th>\n",
       "      <th>pronoun_offset</th>\n",
       "      <th>a</th>\n",
       "      <th>a_offset</th>\n",
       "      <th>url</th>\n",
       "    </tr>\n",
       "  </thead>\n",
       "  <tbody>\n",
       "    <tr>\n",
       "      <th>0</th>\n",
       "      <td>na</td>\n",
       "      <td>Kathleen Nott was born in Camberwell, London. ...</td>\n",
       "      <td>she</td>\n",
       "      <td>311</td>\n",
       "      <td>Kathleen</td>\n",
       "      <td>150</td>\n",
       "      <td>na</td>\n",
       "    </tr>\n",
       "  </tbody>\n",
       "</table>\n",
       "</div>"
      ],
      "text/plain": [
       "   id                                               text pronoun  \\\n",
       "0  na  Kathleen Nott was born in Camberwell, London. ...     she   \n",
       "\n",
       "   pronoun_offset         a  a_offset url  \n",
       "0             311  Kathleen       150  na  "
      ]
     },
     "metadata": {},
     "output_type": "display_data"
    },
    {
     "name": "stderr",
     "output_type": "stream",
     "text": [
      "Initializing Step InputReader\n",
      "Step InputReader initialized\n",
      "Initializing Step LabelSanitizer\n",
      "Step LabelSanitizer initialized\n",
      "Initializing Step MentionsAnnotator\n",
      "Step MentionsAnnotator initialized\n",
      "Initializing Step gather_step\n",
      "STEPPY WARNING: Step with name \"InputReader\", already exist. Make sure that all Steps have unique name.\n",
      "Step gather_step initialized\n",
      "Step gather_step, working in \"inference\" mode\n",
      "Step InputReader, working in \"inference\" mode\n",
      "Step InputReader, adapting inputs\n",
      "Step InputReader, transforming...\n",
      "Step InputReader, transforming completed\n",
      "Step InputReader, transform completed\n",
      "Step LabelSanitizer, working in \"inference\" mode\n",
      "Step LabelSanitizer, adapting inputs\n",
      "Step LabelSanitizer, transforming...\n",
      "Step LabelSanitizer, transforming completed\n",
      "Step LabelSanitizer, transform completed\n",
      "Step MentionsAnnotator, working in \"inference\" mode\n",
      "Step InputReader, working in \"inference\" mode\n",
      "Step InputReader, adapting inputs\n",
      "Step InputReader, transforming...\n",
      "Step InputReader, transforming completed\n",
      "Step InputReader, transform completed\n",
      "Step MentionsAnnotator, unpacking inputs\n",
      "Step MentionsAnnotator, transforming...\n"
     ]
    },
    {
     "name": "stdout",
     "output_type": "stream",
     "text": [
      "Transforming data to features.\n",
      "------BEFORE DATA PIPELINE------- results/probert\n",
      "Empty DataFrame\n",
      "Columns: [id, label]\n",
      "Index: []\n"
     ]
    },
    {
     "name": "stderr",
     "output_type": "stream",
     "text": [
      "Extracting coref clusters...: 100%|██████████| 1/1 [00:00<00:00, 333.60it/s]\n",
      "Step MentionsAnnotator, transforming completed\n",
      "Step MentionsAnnotator, transform completed\n",
      "Step gather_step, adapting inputs\n",
      "Step gather_step, transforming...\n",
      "Step gather_step, transforming completed\n",
      "Step gather_step, transform completed\n"
     ]
    },
    {
     "name": "stdout",
     "output_type": "stream",
     "text": [
      "Transforming data to features done.\n",
      " Log a couple of examples for sanity check.\n",
      "\n"
     ]
    },
    {
     "name": "stderr",
     "output_type": "stream",
     "text": [
      "Convert Examples to features: 1it [00:00, 115.82it/s]\n",
      "Evaluating:   0%|          | 0/1 [00:00<?, ?it/s]/dccstor/media-bias-4374/gender-ambiguity-detectors/gap/models/gap/probert.py:35: UserWarning: indexing with dtype torch.uint8 is now deprecated, please use a dtype torch.bool instead. (Triggered internally at  ../aten/src/ATen/native/IndexingUtils.h:28.)\n",
      "  sequence_output = sequence_output[~gpr_tags_mask].view(batch_size, -1, self.config.hidden_size)\n",
      "Evaluating: 100%|██████████| 1/1 [00:07<00:00,  7.38s/it]"
     ]
    },
    {
     "name": "stdout",
     "output_type": "stream",
     "text": [
      "[0.0072662  0.99273384]\n",
      "Known pronoun 'she' resolves 'False' to 'Kathleen' with a probability of '0.9927338361740112'\n"
     ]
    },
    {
     "name": "stderr",
     "output_type": "stream",
     "text": [
      "\n"
     ]
    },
    {
     "data": {
      "text/html": [
       "<div>\n",
       "<style scoped>\n",
       "    .dataframe tbody tr th:only-of-type {\n",
       "        vertical-align: middle;\n",
       "    }\n",
       "\n",
       "    .dataframe tbody tr th {\n",
       "        vertical-align: top;\n",
       "    }\n",
       "\n",
       "    .dataframe thead th {\n",
       "        text-align: right;\n",
       "    }\n",
       "</style>\n",
       "<table border=\"1\" class=\"dataframe\">\n",
       "  <thead>\n",
       "    <tr style=\"text-align: right;\">\n",
       "      <th></th>\n",
       "      <th>id</th>\n",
       "      <th>text</th>\n",
       "      <th>pronoun</th>\n",
       "      <th>pronoun_offset</th>\n",
       "      <th>a</th>\n",
       "      <th>a_offset</th>\n",
       "      <th>url</th>\n",
       "    </tr>\n",
       "  </thead>\n",
       "  <tbody>\n",
       "    <tr>\n",
       "      <th>0</th>\n",
       "      <td>na</td>\n",
       "      <td>Kathleen Nott was born in Camberwell, London. ...</td>\n",
       "      <td>them</td>\n",
       "      <td>331</td>\n",
       "      <td>Kathleen Nott</td>\n",
       "      <td>0</td>\n",
       "      <td>na</td>\n",
       "    </tr>\n",
       "  </tbody>\n",
       "</table>\n",
       "</div>"
      ],
      "text/plain": [
       "   id                                               text pronoun  \\\n",
       "0  na  Kathleen Nott was born in Camberwell, London. ...    them   \n",
       "\n",
       "   pronoun_offset              a  a_offset url  \n",
       "0             331  Kathleen Nott         0  na  "
      ]
     },
     "metadata": {},
     "output_type": "display_data"
    },
    {
     "name": "stderr",
     "output_type": "stream",
     "text": [
      "Initializing Step InputReader\n",
      "Step InputReader initialized\n",
      "Initializing Step LabelSanitizer\n",
      "Step LabelSanitizer initialized\n",
      "Initializing Step MentionsAnnotator\n",
      "Step MentionsAnnotator initialized\n",
      "Initializing Step gather_step\n",
      "STEPPY WARNING: Step with name \"InputReader\", already exist. Make sure that all Steps have unique name.\n",
      "Step gather_step initialized\n",
      "Step gather_step, working in \"inference\" mode\n",
      "Step InputReader, working in \"inference\" mode\n",
      "Step InputReader, adapting inputs\n",
      "Step InputReader, transforming...\n",
      "Step InputReader, transforming completed\n",
      "Step InputReader, transform completed\n",
      "Step LabelSanitizer, working in \"inference\" mode\n",
      "Step LabelSanitizer, adapting inputs\n",
      "Step LabelSanitizer, transforming...\n",
      "Step LabelSanitizer, transforming completed\n",
      "Step LabelSanitizer, transform completed\n",
      "Step MentionsAnnotator, working in \"inference\" mode\n",
      "Step InputReader, working in \"inference\" mode\n",
      "Step InputReader, adapting inputs\n",
      "Step InputReader, transforming...\n",
      "Step InputReader, transforming completed\n",
      "Step InputReader, transform completed\n",
      "Step MentionsAnnotator, unpacking inputs\n",
      "Step MentionsAnnotator, transforming...\n"
     ]
    },
    {
     "name": "stdout",
     "output_type": "stream",
     "text": [
      "Transforming data to features.\n",
      "------BEFORE DATA PIPELINE------- results/probert\n",
      "Empty DataFrame\n",
      "Columns: [id, label]\n",
      "Index: []\n"
     ]
    },
    {
     "name": "stderr",
     "output_type": "stream",
     "text": [
      "Extracting coref clusters...: 100%|██████████| 1/1 [00:00<00:00, 223.78it/s]\n",
      "Step MentionsAnnotator, transforming completed\n",
      "Step MentionsAnnotator, transform completed\n",
      "Step gather_step, adapting inputs\n",
      "Step gather_step, transforming...\n",
      "Step gather_step, transforming completed\n",
      "Step gather_step, transform completed\n"
     ]
    },
    {
     "name": "stdout",
     "output_type": "stream",
     "text": [
      "Transforming data to features done.\n",
      " Log a couple of examples for sanity check.\n",
      "\n"
     ]
    },
    {
     "name": "stderr",
     "output_type": "stream",
     "text": [
      "Convert Examples to features: 1it [00:00, 123.35it/s]\n",
      "Evaluating:   0%|          | 0/1 [00:00<?, ?it/s]/dccstor/media-bias-4374/gender-ambiguity-detectors/gap/models/gap/probert.py:35: UserWarning: indexing with dtype torch.uint8 is now deprecated, please use a dtype torch.bool instead. (Triggered internally at  ../aten/src/ATen/native/IndexingUtils.h:28.)\n",
      "  sequence_output = sequence_output[~gpr_tags_mask].view(batch_size, -1, self.config.hidden_size)\n",
      "Evaluating: 100%|██████████| 1/1 [00:07<00:00,  7.89s/it]"
     ]
    },
    {
     "name": "stdout",
     "output_type": "stream",
     "text": [
      "[0.8094939  0.19050613]\n",
      "Known pronoun 'them' resolves 'True' to 'Kathleen Nott' with a probability of '0.809493899345398'\n"
     ]
    },
    {
     "name": "stderr",
     "output_type": "stream",
     "text": [
      "\n"
     ]
    },
    {
     "data": {
      "text/html": [
       "<div>\n",
       "<style scoped>\n",
       "    .dataframe tbody tr th:only-of-type {\n",
       "        vertical-align: middle;\n",
       "    }\n",
       "\n",
       "    .dataframe tbody tr th {\n",
       "        vertical-align: top;\n",
       "    }\n",
       "\n",
       "    .dataframe thead th {\n",
       "        text-align: right;\n",
       "    }\n",
       "</style>\n",
       "<table border=\"1\" class=\"dataframe\">\n",
       "  <thead>\n",
       "    <tr style=\"text-align: right;\">\n",
       "      <th></th>\n",
       "      <th>id</th>\n",
       "      <th>text</th>\n",
       "      <th>pronoun</th>\n",
       "      <th>pronoun_offset</th>\n",
       "      <th>a</th>\n",
       "      <th>a_offset</th>\n",
       "      <th>url</th>\n",
       "    </tr>\n",
       "  </thead>\n",
       "  <tbody>\n",
       "    <tr>\n",
       "      <th>0</th>\n",
       "      <td>na</td>\n",
       "      <td>Kathleen Nott was born in Camberwell, London. ...</td>\n",
       "      <td>them</td>\n",
       "      <td>331</td>\n",
       "      <td>Philip</td>\n",
       "      <td>58</td>\n",
       "      <td>na</td>\n",
       "    </tr>\n",
       "  </tbody>\n",
       "</table>\n",
       "</div>"
      ],
      "text/plain": [
       "   id                                               text pronoun  \\\n",
       "0  na  Kathleen Nott was born in Camberwell, London. ...    them   \n",
       "\n",
       "   pronoun_offset       a  a_offset url  \n",
       "0             331  Philip        58  na  "
      ]
     },
     "metadata": {},
     "output_type": "display_data"
    },
    {
     "name": "stderr",
     "output_type": "stream",
     "text": [
      "Initializing Step InputReader\n",
      "Step InputReader initialized\n",
      "Initializing Step LabelSanitizer\n",
      "Step LabelSanitizer initialized\n",
      "Initializing Step MentionsAnnotator\n",
      "Step MentionsAnnotator initialized\n",
      "Initializing Step gather_step\n",
      "STEPPY WARNING: Step with name \"InputReader\", already exist. Make sure that all Steps have unique name.\n",
      "Step gather_step initialized\n",
      "Step gather_step, working in \"inference\" mode\n",
      "Step InputReader, working in \"inference\" mode\n",
      "Step InputReader, adapting inputs\n",
      "Step InputReader, transforming...\n",
      "Step InputReader, transforming completed\n",
      "Step InputReader, transform completed\n",
      "Step LabelSanitizer, working in \"inference\" mode\n",
      "Step LabelSanitizer, adapting inputs\n",
      "Step LabelSanitizer, transforming...\n",
      "Step LabelSanitizer, transforming completed\n",
      "Step LabelSanitizer, transform completed\n",
      "Step MentionsAnnotator, working in \"inference\" mode\n",
      "Step InputReader, working in \"inference\" mode\n",
      "Step InputReader, adapting inputs\n",
      "Step InputReader, transforming...\n",
      "Step InputReader, transforming completed\n",
      "Step InputReader, transform completed\n",
      "Step MentionsAnnotator, unpacking inputs\n",
      "Step MentionsAnnotator, transforming...\n"
     ]
    },
    {
     "name": "stdout",
     "output_type": "stream",
     "text": [
      "Transforming data to features.\n",
      "------BEFORE DATA PIPELINE------- results/probert\n",
      "Empty DataFrame\n",
      "Columns: [id, label]\n",
      "Index: []\n"
     ]
    },
    {
     "name": "stderr",
     "output_type": "stream",
     "text": [
      "Extracting coref clusters...: 100%|██████████| 1/1 [00:00<00:00, 316.65it/s]\n",
      "Step MentionsAnnotator, transforming completed\n",
      "Step MentionsAnnotator, transform completed\n",
      "Step gather_step, adapting inputs\n",
      "Step gather_step, transforming...\n",
      "Step gather_step, transforming completed\n",
      "Step gather_step, transform completed\n"
     ]
    },
    {
     "name": "stdout",
     "output_type": "stream",
     "text": [
      "Transforming data to features done.\n",
      " Log a couple of examples for sanity check.\n",
      "\n"
     ]
    },
    {
     "name": "stderr",
     "output_type": "stream",
     "text": [
      "Convert Examples to features: 1it [00:00, 112.17it/s]\n",
      "Evaluating:   0%|          | 0/1 [00:00<?, ?it/s]/dccstor/media-bias-4374/gender-ambiguity-detectors/gap/models/gap/probert.py:35: UserWarning: indexing with dtype torch.uint8 is now deprecated, please use a dtype torch.bool instead. (Triggered internally at  ../aten/src/ATen/native/IndexingUtils.h:28.)\n",
      "  sequence_output = sequence_output[~gpr_tags_mask].view(batch_size, -1, self.config.hidden_size)\n",
      "Evaluating: 100%|██████████| 1/1 [00:07<00:00,  7.34s/it]"
     ]
    },
    {
     "name": "stdout",
     "output_type": "stream",
     "text": [
      "[0.01702714 0.98297286]\n",
      "Known pronoun 'them' resolves 'False' to 'Philip' with a probability of '0.9829728603363037'\n"
     ]
    },
    {
     "name": "stderr",
     "output_type": "stream",
     "text": [
      "\n"
     ]
    },
    {
     "data": {
      "text/html": [
       "<div>\n",
       "<style scoped>\n",
       "    .dataframe tbody tr th:only-of-type {\n",
       "        vertical-align: middle;\n",
       "    }\n",
       "\n",
       "    .dataframe tbody tr th {\n",
       "        vertical-align: top;\n",
       "    }\n",
       "\n",
       "    .dataframe thead th {\n",
       "        text-align: right;\n",
       "    }\n",
       "</style>\n",
       "<table border=\"1\" class=\"dataframe\">\n",
       "  <thead>\n",
       "    <tr style=\"text-align: right;\">\n",
       "      <th></th>\n",
       "      <th>id</th>\n",
       "      <th>text</th>\n",
       "      <th>pronoun</th>\n",
       "      <th>pronoun_offset</th>\n",
       "      <th>a</th>\n",
       "      <th>a_offset</th>\n",
       "      <th>url</th>\n",
       "    </tr>\n",
       "  </thead>\n",
       "  <tbody>\n",
       "    <tr>\n",
       "      <th>0</th>\n",
       "      <td>na</td>\n",
       "      <td>Kathleen Nott was born in Camberwell, London. ...</td>\n",
       "      <td>them</td>\n",
       "      <td>331</td>\n",
       "      <td>Ellen</td>\n",
       "      <td>110</td>\n",
       "      <td>na</td>\n",
       "    </tr>\n",
       "  </tbody>\n",
       "</table>\n",
       "</div>"
      ],
      "text/plain": [
       "   id                                               text pronoun  \\\n",
       "0  na  Kathleen Nott was born in Camberwell, London. ...    them   \n",
       "\n",
       "   pronoun_offset      a  a_offset url  \n",
       "0             331  Ellen       110  na  "
      ]
     },
     "metadata": {},
     "output_type": "display_data"
    },
    {
     "name": "stderr",
     "output_type": "stream",
     "text": [
      "Initializing Step InputReader\n",
      "Step InputReader initialized\n",
      "Initializing Step LabelSanitizer\n",
      "Step LabelSanitizer initialized\n",
      "Initializing Step MentionsAnnotator\n",
      "Step MentionsAnnotator initialized\n",
      "Initializing Step gather_step\n",
      "STEPPY WARNING: Step with name \"InputReader\", already exist. Make sure that all Steps have unique name.\n",
      "Step gather_step initialized\n",
      "Step gather_step, working in \"inference\" mode\n",
      "Step InputReader, working in \"inference\" mode\n",
      "Step InputReader, adapting inputs\n",
      "Step InputReader, transforming...\n",
      "Step InputReader, transforming completed\n",
      "Step InputReader, transform completed\n",
      "Step LabelSanitizer, working in \"inference\" mode\n",
      "Step LabelSanitizer, adapting inputs\n",
      "Step LabelSanitizer, transforming...\n",
      "Step LabelSanitizer, transforming completed\n",
      "Step LabelSanitizer, transform completed\n",
      "Step MentionsAnnotator, working in \"inference\" mode\n",
      "Step InputReader, working in \"inference\" mode\n",
      "Step InputReader, adapting inputs\n",
      "Step InputReader, transforming...\n",
      "Step InputReader, transforming completed\n",
      "Step InputReader, transform completed\n",
      "Step MentionsAnnotator, unpacking inputs\n",
      "Step MentionsAnnotator, transforming...\n"
     ]
    },
    {
     "name": "stdout",
     "output_type": "stream",
     "text": [
      "Transforming data to features.\n",
      "------BEFORE DATA PIPELINE------- results/probert\n",
      "Empty DataFrame\n",
      "Columns: [id, label]\n",
      "Index: []\n"
     ]
    },
    {
     "name": "stderr",
     "output_type": "stream",
     "text": [
      "Extracting coref clusters...: 100%|██████████| 1/1 [00:00<00:00, 332.83it/s]\n",
      "Step MentionsAnnotator, transforming completed\n",
      "Step MentionsAnnotator, transform completed\n",
      "Step gather_step, adapting inputs\n",
      "Step gather_step, transforming...\n",
      "Step gather_step, transforming completed\n",
      "Step gather_step, transform completed\n"
     ]
    },
    {
     "name": "stdout",
     "output_type": "stream",
     "text": [
      "Transforming data to features done.\n",
      " Log a couple of examples for sanity check.\n",
      "\n"
     ]
    },
    {
     "name": "stderr",
     "output_type": "stream",
     "text": [
      "Convert Examples to features: 1it [00:00, 112.58it/s]\n",
      "Evaluating:   0%|          | 0/1 [00:00<?, ?it/s]/dccstor/media-bias-4374/gender-ambiguity-detectors/gap/models/gap/probert.py:35: UserWarning: indexing with dtype torch.uint8 is now deprecated, please use a dtype torch.bool instead. (Triggered internally at  ../aten/src/ATen/native/IndexingUtils.h:28.)\n",
      "  sequence_output = sequence_output[~gpr_tags_mask].view(batch_size, -1, self.config.hidden_size)\n",
      "Evaluating: 100%|██████████| 1/1 [00:07<00:00,  7.61s/it]"
     ]
    },
    {
     "name": "stdout",
     "output_type": "stream",
     "text": [
      "[0.00944698 0.990553  ]\n",
      "Known pronoun 'them' resolves 'False' to 'Ellen' with a probability of '0.9905530214309692'\n"
     ]
    },
    {
     "name": "stderr",
     "output_type": "stream",
     "text": [
      "\n"
     ]
    },
    {
     "data": {
      "text/html": [
       "<div>\n",
       "<style scoped>\n",
       "    .dataframe tbody tr th:only-of-type {\n",
       "        vertical-align: middle;\n",
       "    }\n",
       "\n",
       "    .dataframe tbody tr th {\n",
       "        vertical-align: top;\n",
       "    }\n",
       "\n",
       "    .dataframe thead th {\n",
       "        text-align: right;\n",
       "    }\n",
       "</style>\n",
       "<table border=\"1\" class=\"dataframe\">\n",
       "  <thead>\n",
       "    <tr style=\"text-align: right;\">\n",
       "      <th></th>\n",
       "      <th>id</th>\n",
       "      <th>text</th>\n",
       "      <th>pronoun</th>\n",
       "      <th>pronoun_offset</th>\n",
       "      <th>a</th>\n",
       "      <th>a_offset</th>\n",
       "      <th>url</th>\n",
       "    </tr>\n",
       "  </thead>\n",
       "  <tbody>\n",
       "    <tr>\n",
       "      <th>0</th>\n",
       "      <td>na</td>\n",
       "      <td>Kathleen Nott was born in Camberwell, London. ...</td>\n",
       "      <td>them</td>\n",
       "      <td>331</td>\n",
       "      <td>Kathleen</td>\n",
       "      <td>0</td>\n",
       "      <td>na</td>\n",
       "    </tr>\n",
       "  </tbody>\n",
       "</table>\n",
       "</div>"
      ],
      "text/plain": [
       "   id                                               text pronoun  \\\n",
       "0  na  Kathleen Nott was born in Camberwell, London. ...    them   \n",
       "\n",
       "   pronoun_offset         a  a_offset url  \n",
       "0             331  Kathleen         0  na  "
      ]
     },
     "metadata": {},
     "output_type": "display_data"
    },
    {
     "name": "stderr",
     "output_type": "stream",
     "text": [
      "Initializing Step InputReader\n",
      "Step InputReader initialized\n",
      "Initializing Step LabelSanitizer\n",
      "Step LabelSanitizer initialized\n",
      "Initializing Step MentionsAnnotator\n",
      "Step MentionsAnnotator initialized\n",
      "Initializing Step gather_step\n",
      "STEPPY WARNING: Step with name \"InputReader\", already exist. Make sure that all Steps have unique name.\n",
      "Step gather_step initialized\n",
      "Step gather_step, working in \"inference\" mode\n",
      "Step InputReader, working in \"inference\" mode\n",
      "Step InputReader, adapting inputs\n",
      "Step InputReader, transforming...\n",
      "Step InputReader, transforming completed\n",
      "Step InputReader, transform completed\n",
      "Step LabelSanitizer, working in \"inference\" mode\n",
      "Step LabelSanitizer, adapting inputs\n",
      "Step LabelSanitizer, transforming...\n",
      "Step LabelSanitizer, transforming completed\n",
      "Step LabelSanitizer, transform completed\n",
      "Step MentionsAnnotator, working in \"inference\" mode\n",
      "Step InputReader, working in \"inference\" mode\n",
      "Step InputReader, adapting inputs\n",
      "Step InputReader, transforming...\n",
      "Step InputReader, transforming completed\n",
      "Step InputReader, transform completed\n",
      "Step MentionsAnnotator, unpacking inputs\n",
      "Step MentionsAnnotator, transforming...\n"
     ]
    },
    {
     "name": "stdout",
     "output_type": "stream",
     "text": [
      "Transforming data to features.\n",
      "------BEFORE DATA PIPELINE------- results/probert\n",
      "Empty DataFrame\n",
      "Columns: [id, label]\n",
      "Index: []\n"
     ]
    },
    {
     "name": "stderr",
     "output_type": "stream",
     "text": [
      "Extracting coref clusters...: 100%|██████████| 1/1 [00:00<00:00, 321.35it/s]\n",
      "Step MentionsAnnotator, transforming completed\n",
      "Step MentionsAnnotator, transform completed\n",
      "Step gather_step, adapting inputs\n",
      "Step gather_step, transforming...\n",
      "Step gather_step, transforming completed\n",
      "Step gather_step, transform completed\n"
     ]
    },
    {
     "name": "stdout",
     "output_type": "stream",
     "text": [
      "Transforming data to features done.\n",
      " Log a couple of examples for sanity check.\n",
      "\n"
     ]
    },
    {
     "name": "stderr",
     "output_type": "stream",
     "text": [
      "Convert Examples to features: 1it [00:00, 113.67it/s]\n",
      "Evaluating:   0%|          | 0/1 [00:00<?, ?it/s]/dccstor/media-bias-4374/gender-ambiguity-detectors/gap/models/gap/probert.py:35: UserWarning: indexing with dtype torch.uint8 is now deprecated, please use a dtype torch.bool instead. (Triggered internally at  ../aten/src/ATen/native/IndexingUtils.h:28.)\n",
      "  sequence_output = sequence_output[~gpr_tags_mask].view(batch_size, -1, self.config.hidden_size)\n",
      "Evaluating: 100%|██████████| 1/1 [00:08<00:00,  8.62s/it]"
     ]
    },
    {
     "name": "stdout",
     "output_type": "stream",
     "text": [
      "[0.71157736 0.28842267]\n",
      "Known pronoun 'them' resolves 'True' to 'Kathleen' with a probability of '0.7115773558616638'\n"
     ]
    },
    {
     "name": "stderr",
     "output_type": "stream",
     "text": [
      "\n"
     ]
    },
    {
     "data": {
      "text/html": [
       "<div>\n",
       "<style scoped>\n",
       "    .dataframe tbody tr th:only-of-type {\n",
       "        vertical-align: middle;\n",
       "    }\n",
       "\n",
       "    .dataframe tbody tr th {\n",
       "        vertical-align: top;\n",
       "    }\n",
       "\n",
       "    .dataframe thead th {\n",
       "        text-align: right;\n",
       "    }\n",
       "</style>\n",
       "<table border=\"1\" class=\"dataframe\">\n",
       "  <thead>\n",
       "    <tr style=\"text-align: right;\">\n",
       "      <th></th>\n",
       "      <th>id</th>\n",
       "      <th>text</th>\n",
       "      <th>pronoun</th>\n",
       "      <th>pronoun_offset</th>\n",
       "      <th>a</th>\n",
       "      <th>a_offset</th>\n",
       "      <th>url</th>\n",
       "    </tr>\n",
       "  </thead>\n",
       "  <tbody>\n",
       "    <tr>\n",
       "      <th>0</th>\n",
       "      <td>na</td>\n",
       "      <td>Kathleen Nott was born in Camberwell, London. ...</td>\n",
       "      <td>them</td>\n",
       "      <td>331</td>\n",
       "      <td>Kathleen</td>\n",
       "      <td>150</td>\n",
       "      <td>na</td>\n",
       "    </tr>\n",
       "  </tbody>\n",
       "</table>\n",
       "</div>"
      ],
      "text/plain": [
       "   id                                               text pronoun  \\\n",
       "0  na  Kathleen Nott was born in Camberwell, London. ...    them   \n",
       "\n",
       "   pronoun_offset         a  a_offset url  \n",
       "0             331  Kathleen       150  na  "
      ]
     },
     "metadata": {},
     "output_type": "display_data"
    },
    {
     "name": "stderr",
     "output_type": "stream",
     "text": [
      "Initializing Step InputReader\n",
      "Step InputReader initialized\n",
      "Initializing Step LabelSanitizer\n",
      "Step LabelSanitizer initialized\n",
      "Initializing Step MentionsAnnotator\n",
      "Step MentionsAnnotator initialized\n",
      "Initializing Step gather_step\n",
      "STEPPY WARNING: Step with name \"InputReader\", already exist. Make sure that all Steps have unique name.\n",
      "Step gather_step initialized\n",
      "Step gather_step, working in \"inference\" mode\n",
      "Step InputReader, working in \"inference\" mode\n",
      "Step InputReader, adapting inputs\n",
      "Step InputReader, transforming...\n",
      "Step InputReader, transforming completed\n",
      "Step InputReader, transform completed\n",
      "Step LabelSanitizer, working in \"inference\" mode\n",
      "Step LabelSanitizer, adapting inputs\n",
      "Step LabelSanitizer, transforming...\n",
      "Step LabelSanitizer, transforming completed\n",
      "Step LabelSanitizer, transform completed\n",
      "Step MentionsAnnotator, working in \"inference\" mode\n",
      "Step InputReader, working in \"inference\" mode\n",
      "Step InputReader, adapting inputs\n",
      "Step InputReader, transforming...\n",
      "Step InputReader, transforming completed\n",
      "Step InputReader, transform completed\n",
      "Step MentionsAnnotator, unpacking inputs\n",
      "Step MentionsAnnotator, transforming...\n"
     ]
    },
    {
     "name": "stdout",
     "output_type": "stream",
     "text": [
      "Transforming data to features.\n",
      "------BEFORE DATA PIPELINE------- results/probert\n",
      "Empty DataFrame\n",
      "Columns: [id, label]\n",
      "Index: []\n"
     ]
    },
    {
     "name": "stderr",
     "output_type": "stream",
     "text": [
      "Extracting coref clusters...: 100%|██████████| 1/1 [00:00<00:00, 309.20it/s]\n",
      "Step MentionsAnnotator, transforming completed\n",
      "Step MentionsAnnotator, transform completed\n",
      "Step gather_step, adapting inputs\n",
      "Step gather_step, transforming...\n",
      "Step gather_step, transforming completed\n",
      "Step gather_step, transform completed\n"
     ]
    },
    {
     "name": "stdout",
     "output_type": "stream",
     "text": [
      "Transforming data to features done.\n",
      " Log a couple of examples for sanity check.\n",
      "\n"
     ]
    },
    {
     "name": "stderr",
     "output_type": "stream",
     "text": [
      "Convert Examples to features: 1it [00:00, 118.78it/s]\n",
      "Evaluating:   0%|          | 0/1 [00:00<?, ?it/s]/dccstor/media-bias-4374/gender-ambiguity-detectors/gap/models/gap/probert.py:35: UserWarning: indexing with dtype torch.uint8 is now deprecated, please use a dtype torch.bool instead. (Triggered internally at  ../aten/src/ATen/native/IndexingUtils.h:28.)\n",
      "  sequence_output = sequence_output[~gpr_tags_mask].view(batch_size, -1, self.config.hidden_size)\n",
      "Evaluating: 100%|██████████| 1/1 [00:08<00:00,  8.47s/it]"
     ]
    },
    {
     "name": "stdout",
     "output_type": "stream",
     "text": [
      "[0.01598273 0.9840172 ]\n",
      "Known pronoun 'them' resolves 'False' to 'Kathleen' with a probability of '0.9840171933174133'\n"
     ]
    },
    {
     "name": "stderr",
     "output_type": "stream",
     "text": [
      "\n"
     ]
    }
   ],
   "source": [
    "# initialize results data frame\n",
    "cols = ['id', 'text', 'pronoun', 'pronoun_offset', 'a', 'a_offset', 'url']\n",
    "\n",
    "output_cols = ['id', 'text', 'pronoun', 'pronoun_offset', 'a', 'a_offset', 'url', 'probabilities', 'output']\n",
    "df_output = pd.DataFrame([], columns=output_cols)\n",
    "\n",
    "for combination in combinations:\n",
    "    # each combination is a list with 4 elements \n",
    "        # [pronoun, pronoun_offset, entity1, entity1_offset]\n",
    "    pronoun, pronoun_offset = combination[0], combination[1]\n",
    "    entity1, entity1_offset = combination[2], combination[3]\n",
    "    \n",
    "    new_df = pd.DataFrame([['na',original_text[0], pronoun,pronoun_offset,entity1,entity1_offset,'na']], columns=cols)\n",
    "    display(new_df)\n",
    "    \n",
    "    tmp_write_path = f'{exp_dir}/new_df.csv'\n",
    "    new_df.to_csv(tmp_write_path, sep='\\t', index=False)\n",
    "    \n",
    "    # Initialise the data tranformation \n",
    "    # Not sure we really need this as all it does is change some columns names then adds 2 new columns \n",
    "    X_inference = init_data(exp_dir=exp_dir,test_path=tmp_write_path, verbose=0, mode='inference')\n",
    "    \n",
    "    # Tokenisation of the text happens here\n",
    "    inference_features = convert_examples_to_features(X_inference,tokenizer,512,n_coref_models=0,verbose=0)\n",
    "    \n",
    "    # evaluate sample using model\n",
    "    labels = [True,False]\n",
    "    predicted_probs, _ = evaluate(model,inference_features,device,eval_mode=True)\n",
    "    \n",
    "    # print(predicted_probs)\n",
    "\n",
    "    # index of max value from predictions so we get exact entity name it resolves to\n",
    "    for prob in predicted_probs:\n",
    "        print(prob)\n",
    "        max_idx = list(prob).index(max(prob))\n",
    "        print(f\"Known pronoun '{pronoun}' resolves '{labels[max_idx]}' to '{entity1}' with a probability of '{prob[max_idx]}'\")\n",
    "    \n",
    "    output = \"\"\n",
    "    if labels[max_idx]:\n",
    "        output = f\"Known pronoun '{pronoun}' resolves to '{entity1}' with a probability of '{prob[max_idx]}'\"\n",
    "    else:\n",
    "        output = f\"Known pronoun '{pronoun}' does not resolve to '{entity1}' with a probability of '{prob[max_idx]}'\"\n",
    "    new_df_output = pd.DataFrame([['na',original_text[0], pronoun,pronoun_offset,entity1,entity1_offset,'na', predicted_probs, output]], columns=output_cols)\n",
    "    df_output = pd.concat([df_output, new_df_output])\n",
    "    \n",
    "df_output.to_csv(f'{exp_dir}/df_output.csv', index=False)"
   ]
  },
  {
   "cell_type": "code",
   "execution_count": 18,
   "id": "bc77fdcd",
   "metadata": {},
   "outputs": [
    {
     "data": {
      "text/html": [
       "<div>\n",
       "<style scoped>\n",
       "    .dataframe tbody tr th:only-of-type {\n",
       "        vertical-align: middle;\n",
       "    }\n",
       "\n",
       "    .dataframe tbody tr th {\n",
       "        vertical-align: top;\n",
       "    }\n",
       "\n",
       "    .dataframe thead th {\n",
       "        text-align: right;\n",
       "    }\n",
       "</style>\n",
       "<table border=\"1\" class=\"dataframe\">\n",
       "  <thead>\n",
       "    <tr style=\"text-align: right;\">\n",
       "      <th></th>\n",
       "      <th>id</th>\n",
       "      <th>text</th>\n",
       "      <th>pronoun</th>\n",
       "      <th>pronoun_offset</th>\n",
       "      <th>a</th>\n",
       "      <th>a_offset</th>\n",
       "      <th>url</th>\n",
       "      <th>probabilities</th>\n",
       "      <th>output</th>\n",
       "    </tr>\n",
       "  </thead>\n",
       "  <tbody>\n",
       "    <tr>\n",
       "      <th>0</th>\n",
       "      <td>na</td>\n",
       "      <td>Kathleen Nott was born in Camberwell, London. ...</td>\n",
       "      <td>Her</td>\n",
       "      <td>46</td>\n",
       "      <td>Kathleen Nott</td>\n",
       "      <td>0</td>\n",
       "      <td>na</td>\n",
       "      <td>[[0.99260384 0.00739616]]</td>\n",
       "      <td>Known pronoun 'Her' resolves to 'Kathleen Nott...</td>\n",
       "    </tr>\n",
       "    <tr>\n",
       "      <th>1</th>\n",
       "      <td>na</td>\n",
       "      <td>Kathleen Nott was born in Camberwell, London. ...</td>\n",
       "      <td>Her</td>\n",
       "      <td>46</td>\n",
       "      <td>Philip</td>\n",
       "      <td>58</td>\n",
       "      <td>na</td>\n",
       "      <td>[[0.00402209 0.99597794]]</td>\n",
       "      <td>Known pronoun 'Her' does not resolve to 'Phili...</td>\n",
       "    </tr>\n",
       "    <tr>\n",
       "      <th>2</th>\n",
       "      <td>na</td>\n",
       "      <td>Kathleen Nott was born in Camberwell, London. ...</td>\n",
       "      <td>Her</td>\n",
       "      <td>46</td>\n",
       "      <td>Ellen</td>\n",
       "      <td>110</td>\n",
       "      <td>na</td>\n",
       "      <td>[[0.00593911 0.9940608 ]]</td>\n",
       "      <td>Known pronoun 'Her' does not resolve to 'Ellen...</td>\n",
       "    </tr>\n",
       "    <tr>\n",
       "      <th>3</th>\n",
       "      <td>na</td>\n",
       "      <td>Kathleen Nott was born in Camberwell, London. ...</td>\n",
       "      <td>Her</td>\n",
       "      <td>46</td>\n",
       "      <td>Kathleen</td>\n",
       "      <td>0</td>\n",
       "      <td>na</td>\n",
       "      <td>[[0.9805736  0.01942644]]</td>\n",
       "      <td>Known pronoun 'Her' resolves to 'Kathleen' wit...</td>\n",
       "    </tr>\n",
       "    <tr>\n",
       "      <th>4</th>\n",
       "      <td>na</td>\n",
       "      <td>Kathleen Nott was born in Camberwell, London. ...</td>\n",
       "      <td>Her</td>\n",
       "      <td>46</td>\n",
       "      <td>Kathleen</td>\n",
       "      <td>150</td>\n",
       "      <td>na</td>\n",
       "      <td>[[0.03754032 0.9624597 ]]</td>\n",
       "      <td>Known pronoun 'Her' does not resolve to 'Kathl...</td>\n",
       "    </tr>\n",
       "    <tr>\n",
       "      <th>5</th>\n",
       "      <td>na</td>\n",
       "      <td>Kathleen Nott was born in Camberwell, London. ...</td>\n",
       "      <td>her</td>\n",
       "      <td>53</td>\n",
       "      <td>Kathleen Nott</td>\n",
       "      <td>0</td>\n",
       "      <td>na</td>\n",
       "      <td>[[0.72761524 0.27238473]]</td>\n",
       "      <td>Known pronoun 'her' resolves to 'Kathleen Nott...</td>\n",
       "    </tr>\n",
       "    <tr>\n",
       "      <th>6</th>\n",
       "      <td>na</td>\n",
       "      <td>Kathleen Nott was born in Camberwell, London. ...</td>\n",
       "      <td>her</td>\n",
       "      <td>53</td>\n",
       "      <td>Philip</td>\n",
       "      <td>58</td>\n",
       "      <td>na</td>\n",
       "      <td>[[0.01057735 0.9894226 ]]</td>\n",
       "      <td>Known pronoun 'her' does not resolve to 'Phili...</td>\n",
       "    </tr>\n",
       "    <tr>\n",
       "      <th>7</th>\n",
       "      <td>na</td>\n",
       "      <td>Kathleen Nott was born in Camberwell, London. ...</td>\n",
       "      <td>her</td>\n",
       "      <td>53</td>\n",
       "      <td>Ellen</td>\n",
       "      <td>110</td>\n",
       "      <td>na</td>\n",
       "      <td>[[0.01645187 0.9835481 ]]</td>\n",
       "      <td>Known pronoun 'her' does not resolve to 'Ellen...</td>\n",
       "    </tr>\n",
       "    <tr>\n",
       "      <th>8</th>\n",
       "      <td>na</td>\n",
       "      <td>Kathleen Nott was born in Camberwell, London. ...</td>\n",
       "      <td>her</td>\n",
       "      <td>53</td>\n",
       "      <td>Kathleen</td>\n",
       "      <td>0</td>\n",
       "      <td>na</td>\n",
       "      <td>[[0.5869416 0.4130584]]</td>\n",
       "      <td>Known pronoun 'her' resolves to 'Kathleen' wit...</td>\n",
       "    </tr>\n",
       "    <tr>\n",
       "      <th>9</th>\n",
       "      <td>na</td>\n",
       "      <td>Kathleen Nott was born in Camberwell, London. ...</td>\n",
       "      <td>her</td>\n",
       "      <td>53</td>\n",
       "      <td>Kathleen</td>\n",
       "      <td>150</td>\n",
       "      <td>na</td>\n",
       "      <td>[[0.04886014 0.9511398 ]]</td>\n",
       "      <td>Known pronoun 'her' does not resolve to 'Kathl...</td>\n",
       "    </tr>\n",
       "    <tr>\n",
       "      <th>10</th>\n",
       "      <td>na</td>\n",
       "      <td>Kathleen Nott was born in Camberwell, London. ...</td>\n",
       "      <td>her</td>\n",
       "      <td>98</td>\n",
       "      <td>Kathleen Nott</td>\n",
       "      <td>0</td>\n",
       "      <td>na</td>\n",
       "      <td>[[0.977957   0.02204303]]</td>\n",
       "      <td>Known pronoun 'her' resolves to 'Kathleen Nott...</td>\n",
       "    </tr>\n",
       "    <tr>\n",
       "      <th>11</th>\n",
       "      <td>na</td>\n",
       "      <td>Kathleen Nott was born in Camberwell, London. ...</td>\n",
       "      <td>her</td>\n",
       "      <td>98</td>\n",
       "      <td>Philip</td>\n",
       "      <td>58</td>\n",
       "      <td>na</td>\n",
       "      <td>[[0.01530357 0.9846964 ]]</td>\n",
       "      <td>Known pronoun 'her' does not resolve to 'Phili...</td>\n",
       "    </tr>\n",
       "    <tr>\n",
       "      <th>12</th>\n",
       "      <td>na</td>\n",
       "      <td>Kathleen Nott was born in Camberwell, London. ...</td>\n",
       "      <td>her</td>\n",
       "      <td>98</td>\n",
       "      <td>Ellen</td>\n",
       "      <td>110</td>\n",
       "      <td>na</td>\n",
       "      <td>[[0.00493314 0.9950669 ]]</td>\n",
       "      <td>Known pronoun 'her' does not resolve to 'Ellen...</td>\n",
       "    </tr>\n",
       "    <tr>\n",
       "      <th>13</th>\n",
       "      <td>na</td>\n",
       "      <td>Kathleen Nott was born in Camberwell, London. ...</td>\n",
       "      <td>her</td>\n",
       "      <td>98</td>\n",
       "      <td>Kathleen</td>\n",
       "      <td>0</td>\n",
       "      <td>na</td>\n",
       "      <td>[[0.9529636  0.04703634]]</td>\n",
       "      <td>Known pronoun 'her' resolves to 'Kathleen' wit...</td>\n",
       "    </tr>\n",
       "    <tr>\n",
       "      <th>14</th>\n",
       "      <td>na</td>\n",
       "      <td>Kathleen Nott was born in Camberwell, London. ...</td>\n",
       "      <td>her</td>\n",
       "      <td>98</td>\n",
       "      <td>Kathleen</td>\n",
       "      <td>150</td>\n",
       "      <td>na</td>\n",
       "      <td>[[0.01005239 0.9899476 ]]</td>\n",
       "      <td>Known pronoun 'her' does not resolve to 'Kathl...</td>\n",
       "    </tr>\n",
       "    <tr>\n",
       "      <th>15</th>\n",
       "      <td>na</td>\n",
       "      <td>Kathleen Nott was born in Camberwell, London. ...</td>\n",
       "      <td>her</td>\n",
       "      <td>105</td>\n",
       "      <td>Kathleen Nott</td>\n",
       "      <td>0</td>\n",
       "      <td>na</td>\n",
       "      <td>[[0.9521233  0.04787667]]</td>\n",
       "      <td>Known pronoun 'her' resolves to 'Kathleen Nott...</td>\n",
       "    </tr>\n",
       "    <tr>\n",
       "      <th>16</th>\n",
       "      <td>na</td>\n",
       "      <td>Kathleen Nott was born in Camberwell, London. ...</td>\n",
       "      <td>her</td>\n",
       "      <td>105</td>\n",
       "      <td>Philip</td>\n",
       "      <td>58</td>\n",
       "      <td>na</td>\n",
       "      <td>[[0.11377078 0.8862292 ]]</td>\n",
       "      <td>Known pronoun 'her' does not resolve to 'Phili...</td>\n",
       "    </tr>\n",
       "    <tr>\n",
       "      <th>17</th>\n",
       "      <td>na</td>\n",
       "      <td>Kathleen Nott was born in Camberwell, London. ...</td>\n",
       "      <td>her</td>\n",
       "      <td>105</td>\n",
       "      <td>Ellen</td>\n",
       "      <td>110</td>\n",
       "      <td>na</td>\n",
       "      <td>[[0.02079036 0.97920966]]</td>\n",
       "      <td>Known pronoun 'her' does not resolve to 'Ellen...</td>\n",
       "    </tr>\n",
       "    <tr>\n",
       "      <th>18</th>\n",
       "      <td>na</td>\n",
       "      <td>Kathleen Nott was born in Camberwell, London. ...</td>\n",
       "      <td>her</td>\n",
       "      <td>105</td>\n",
       "      <td>Kathleen</td>\n",
       "      <td>0</td>\n",
       "      <td>na</td>\n",
       "      <td>[[0.8773988  0.12260126]]</td>\n",
       "      <td>Known pronoun 'her' resolves to 'Kathleen' wit...</td>\n",
       "    </tr>\n",
       "    <tr>\n",
       "      <th>19</th>\n",
       "      <td>na</td>\n",
       "      <td>Kathleen Nott was born in Camberwell, London. ...</td>\n",
       "      <td>her</td>\n",
       "      <td>105</td>\n",
       "      <td>Kathleen</td>\n",
       "      <td>150</td>\n",
       "      <td>na</td>\n",
       "      <td>[[0.08743308 0.9125669 ]]</td>\n",
       "      <td>Known pronoun 'her' does not resolve to 'Kathl...</td>\n",
       "    </tr>\n",
       "    <tr>\n",
       "      <th>20</th>\n",
       "      <td>na</td>\n",
       "      <td>Kathleen Nott was born in Camberwell, London. ...</td>\n",
       "      <td>her</td>\n",
       "      <td>306</td>\n",
       "      <td>Kathleen Nott</td>\n",
       "      <td>0</td>\n",
       "      <td>na</td>\n",
       "      <td>[[0.98786014 0.01213983]]</td>\n",
       "      <td>Known pronoun 'her' resolves to 'Kathleen Nott...</td>\n",
       "    </tr>\n",
       "    <tr>\n",
       "      <th>21</th>\n",
       "      <td>na</td>\n",
       "      <td>Kathleen Nott was born in Camberwell, London. ...</td>\n",
       "      <td>her</td>\n",
       "      <td>306</td>\n",
       "      <td>Philip</td>\n",
       "      <td>58</td>\n",
       "      <td>na</td>\n",
       "      <td>[[0.01200981 0.9879902 ]]</td>\n",
       "      <td>Known pronoun 'her' does not resolve to 'Phili...</td>\n",
       "    </tr>\n",
       "    <tr>\n",
       "      <th>22</th>\n",
       "      <td>na</td>\n",
       "      <td>Kathleen Nott was born in Camberwell, London. ...</td>\n",
       "      <td>her</td>\n",
       "      <td>306</td>\n",
       "      <td>Ellen</td>\n",
       "      <td>110</td>\n",
       "      <td>na</td>\n",
       "      <td>[[0.00737238 0.9926277 ]]</td>\n",
       "      <td>Known pronoun 'her' does not resolve to 'Ellen...</td>\n",
       "    </tr>\n",
       "    <tr>\n",
       "      <th>23</th>\n",
       "      <td>na</td>\n",
       "      <td>Kathleen Nott was born in Camberwell, London. ...</td>\n",
       "      <td>her</td>\n",
       "      <td>306</td>\n",
       "      <td>Kathleen</td>\n",
       "      <td>0</td>\n",
       "      <td>na</td>\n",
       "      <td>[[0.9820188  0.01798119]]</td>\n",
       "      <td>Known pronoun 'her' resolves to 'Kathleen' wit...</td>\n",
       "    </tr>\n",
       "    <tr>\n",
       "      <th>24</th>\n",
       "      <td>na</td>\n",
       "      <td>Kathleen Nott was born in Camberwell, London. ...</td>\n",
       "      <td>her</td>\n",
       "      <td>306</td>\n",
       "      <td>Kathleen</td>\n",
       "      <td>150</td>\n",
       "      <td>na</td>\n",
       "      <td>[[0.02563355 0.9743664 ]]</td>\n",
       "      <td>Known pronoun 'her' does not resolve to 'Kathl...</td>\n",
       "    </tr>\n",
       "    <tr>\n",
       "      <th>25</th>\n",
       "      <td>na</td>\n",
       "      <td>Kathleen Nott was born in Camberwell, London. ...</td>\n",
       "      <td>their</td>\n",
       "      <td>163</td>\n",
       "      <td>Kathleen Nott</td>\n",
       "      <td>0</td>\n",
       "      <td>na</td>\n",
       "      <td>[[0.98428625 0.0157138 ]]</td>\n",
       "      <td>Known pronoun 'their' resolves to 'Kathleen No...</td>\n",
       "    </tr>\n",
       "    <tr>\n",
       "      <th>26</th>\n",
       "      <td>na</td>\n",
       "      <td>Kathleen Nott was born in Camberwell, London. ...</td>\n",
       "      <td>their</td>\n",
       "      <td>163</td>\n",
       "      <td>Philip</td>\n",
       "      <td>58</td>\n",
       "      <td>na</td>\n",
       "      <td>[[0.1468023 0.8531977]]</td>\n",
       "      <td>Known pronoun 'their' does not resolve to 'Phi...</td>\n",
       "    </tr>\n",
       "    <tr>\n",
       "      <th>27</th>\n",
       "      <td>na</td>\n",
       "      <td>Kathleen Nott was born in Camberwell, London. ...</td>\n",
       "      <td>their</td>\n",
       "      <td>163</td>\n",
       "      <td>Ellen</td>\n",
       "      <td>110</td>\n",
       "      <td>na</td>\n",
       "      <td>[[0.11969691 0.8803031 ]]</td>\n",
       "      <td>Known pronoun 'their' does not resolve to 'Ell...</td>\n",
       "    </tr>\n",
       "    <tr>\n",
       "      <th>28</th>\n",
       "      <td>na</td>\n",
       "      <td>Kathleen Nott was born in Camberwell, London. ...</td>\n",
       "      <td>their</td>\n",
       "      <td>163</td>\n",
       "      <td>Kathleen</td>\n",
       "      <td>0</td>\n",
       "      <td>na</td>\n",
       "      <td>[[0.97100407 0.0289959 ]]</td>\n",
       "      <td>Known pronoun 'their' resolves to 'Kathleen' w...</td>\n",
       "    </tr>\n",
       "    <tr>\n",
       "      <th>29</th>\n",
       "      <td>na</td>\n",
       "      <td>Kathleen Nott was born in Camberwell, London. ...</td>\n",
       "      <td>their</td>\n",
       "      <td>163</td>\n",
       "      <td>Kathleen</td>\n",
       "      <td>150</td>\n",
       "      <td>na</td>\n",
       "      <td>[[0.40707874 0.5929213 ]]</td>\n",
       "      <td>Known pronoun 'their' does not resolve to 'Kat...</td>\n",
       "    </tr>\n",
       "    <tr>\n",
       "      <th>30</th>\n",
       "      <td>na</td>\n",
       "      <td>Kathleen Nott was born in Camberwell, London. ...</td>\n",
       "      <td>She</td>\n",
       "      <td>185</td>\n",
       "      <td>Kathleen Nott</td>\n",
       "      <td>0</td>\n",
       "      <td>na</td>\n",
       "      <td>[[0.9987293  0.00127075]]</td>\n",
       "      <td>Known pronoun 'She' resolves to 'Kathleen Nott...</td>\n",
       "    </tr>\n",
       "    <tr>\n",
       "      <th>31</th>\n",
       "      <td>na</td>\n",
       "      <td>Kathleen Nott was born in Camberwell, London. ...</td>\n",
       "      <td>She</td>\n",
       "      <td>185</td>\n",
       "      <td>Philip</td>\n",
       "      <td>58</td>\n",
       "      <td>na</td>\n",
       "      <td>[[0.00554579 0.9944542 ]]</td>\n",
       "      <td>Known pronoun 'She' does not resolve to 'Phili...</td>\n",
       "    </tr>\n",
       "    <tr>\n",
       "      <th>32</th>\n",
       "      <td>na</td>\n",
       "      <td>Kathleen Nott was born in Camberwell, London. ...</td>\n",
       "      <td>She</td>\n",
       "      <td>185</td>\n",
       "      <td>Ellen</td>\n",
       "      <td>110</td>\n",
       "      <td>na</td>\n",
       "      <td>[[0.00456119 0.9954389 ]]</td>\n",
       "      <td>Known pronoun 'She' does not resolve to 'Ellen...</td>\n",
       "    </tr>\n",
       "    <tr>\n",
       "      <th>33</th>\n",
       "      <td>na</td>\n",
       "      <td>Kathleen Nott was born in Camberwell, London. ...</td>\n",
       "      <td>She</td>\n",
       "      <td>185</td>\n",
       "      <td>Kathleen</td>\n",
       "      <td>0</td>\n",
       "      <td>na</td>\n",
       "      <td>[[0.9983675  0.00163249]]</td>\n",
       "      <td>Known pronoun 'She' resolves to 'Kathleen' wit...</td>\n",
       "    </tr>\n",
       "    <tr>\n",
       "      <th>34</th>\n",
       "      <td>na</td>\n",
       "      <td>Kathleen Nott was born in Camberwell, London. ...</td>\n",
       "      <td>She</td>\n",
       "      <td>185</td>\n",
       "      <td>Kathleen</td>\n",
       "      <td>150</td>\n",
       "      <td>na</td>\n",
       "      <td>[[0.15811901 0.841881  ]]</td>\n",
       "      <td>Known pronoun 'She' does not resolve to 'Kathl...</td>\n",
       "    </tr>\n",
       "    <tr>\n",
       "      <th>35</th>\n",
       "      <td>na</td>\n",
       "      <td>Kathleen Nott was born in Camberwell, London. ...</td>\n",
       "      <td>she</td>\n",
       "      <td>311</td>\n",
       "      <td>Kathleen Nott</td>\n",
       "      <td>0</td>\n",
       "      <td>na</td>\n",
       "      <td>[[0.9963928  0.00360723]]</td>\n",
       "      <td>Known pronoun 'she' resolves to 'Kathleen Nott...</td>\n",
       "    </tr>\n",
       "    <tr>\n",
       "      <th>36</th>\n",
       "      <td>na</td>\n",
       "      <td>Kathleen Nott was born in Camberwell, London. ...</td>\n",
       "      <td>she</td>\n",
       "      <td>311</td>\n",
       "      <td>Philip</td>\n",
       "      <td>58</td>\n",
       "      <td>na</td>\n",
       "      <td>[[0.00463207 0.995368  ]]</td>\n",
       "      <td>Known pronoun 'she' does not resolve to 'Phili...</td>\n",
       "    </tr>\n",
       "    <tr>\n",
       "      <th>37</th>\n",
       "      <td>na</td>\n",
       "      <td>Kathleen Nott was born in Camberwell, London. ...</td>\n",
       "      <td>she</td>\n",
       "      <td>311</td>\n",
       "      <td>Ellen</td>\n",
       "      <td>110</td>\n",
       "      <td>na</td>\n",
       "      <td>[[0.00306092 0.99693906]]</td>\n",
       "      <td>Known pronoun 'she' does not resolve to 'Ellen...</td>\n",
       "    </tr>\n",
       "    <tr>\n",
       "      <th>38</th>\n",
       "      <td>na</td>\n",
       "      <td>Kathleen Nott was born in Camberwell, London. ...</td>\n",
       "      <td>she</td>\n",
       "      <td>311</td>\n",
       "      <td>Kathleen</td>\n",
       "      <td>0</td>\n",
       "      <td>na</td>\n",
       "      <td>[[0.994034   0.00596603]]</td>\n",
       "      <td>Known pronoun 'she' resolves to 'Kathleen' wit...</td>\n",
       "    </tr>\n",
       "    <tr>\n",
       "      <th>39</th>\n",
       "      <td>na</td>\n",
       "      <td>Kathleen Nott was born in Camberwell, London. ...</td>\n",
       "      <td>she</td>\n",
       "      <td>311</td>\n",
       "      <td>Kathleen</td>\n",
       "      <td>150</td>\n",
       "      <td>na</td>\n",
       "      <td>[[0.0072662  0.99273384]]</td>\n",
       "      <td>Known pronoun 'she' does not resolve to 'Kathl...</td>\n",
       "    </tr>\n",
       "    <tr>\n",
       "      <th>40</th>\n",
       "      <td>na</td>\n",
       "      <td>Kathleen Nott was born in Camberwell, London. ...</td>\n",
       "      <td>them</td>\n",
       "      <td>331</td>\n",
       "      <td>Kathleen Nott</td>\n",
       "      <td>0</td>\n",
       "      <td>na</td>\n",
       "      <td>[[0.8094939  0.19050613]]</td>\n",
       "      <td>Known pronoun 'them' resolves to 'Kathleen Not...</td>\n",
       "    </tr>\n",
       "    <tr>\n",
       "      <th>41</th>\n",
       "      <td>na</td>\n",
       "      <td>Kathleen Nott was born in Camberwell, London. ...</td>\n",
       "      <td>them</td>\n",
       "      <td>331</td>\n",
       "      <td>Philip</td>\n",
       "      <td>58</td>\n",
       "      <td>na</td>\n",
       "      <td>[[0.01702714 0.98297286]]</td>\n",
       "      <td>Known pronoun 'them' does not resolve to 'Phil...</td>\n",
       "    </tr>\n",
       "    <tr>\n",
       "      <th>42</th>\n",
       "      <td>na</td>\n",
       "      <td>Kathleen Nott was born in Camberwell, London. ...</td>\n",
       "      <td>them</td>\n",
       "      <td>331</td>\n",
       "      <td>Ellen</td>\n",
       "      <td>110</td>\n",
       "      <td>na</td>\n",
       "      <td>[[0.00944698 0.990553  ]]</td>\n",
       "      <td>Known pronoun 'them' does not resolve to 'Elle...</td>\n",
       "    </tr>\n",
       "    <tr>\n",
       "      <th>43</th>\n",
       "      <td>na</td>\n",
       "      <td>Kathleen Nott was born in Camberwell, London. ...</td>\n",
       "      <td>them</td>\n",
       "      <td>331</td>\n",
       "      <td>Kathleen</td>\n",
       "      <td>0</td>\n",
       "      <td>na</td>\n",
       "      <td>[[0.71157736 0.28842267]]</td>\n",
       "      <td>Known pronoun 'them' resolves to 'Kathleen' wi...</td>\n",
       "    </tr>\n",
       "    <tr>\n",
       "      <th>44</th>\n",
       "      <td>na</td>\n",
       "      <td>Kathleen Nott was born in Camberwell, London. ...</td>\n",
       "      <td>them</td>\n",
       "      <td>331</td>\n",
       "      <td>Kathleen</td>\n",
       "      <td>150</td>\n",
       "      <td>na</td>\n",
       "      <td>[[0.01598273 0.9840172 ]]</td>\n",
       "      <td>Known pronoun 'them' does not resolve to 'Kath...</td>\n",
       "    </tr>\n",
       "  </tbody>\n",
       "</table>\n",
       "</div>"
      ],
      "text/plain": [
       "    id                                               text pronoun  \\\n",
       "0   na  Kathleen Nott was born in Camberwell, London. ...     Her   \n",
       "1   na  Kathleen Nott was born in Camberwell, London. ...     Her   \n",
       "2   na  Kathleen Nott was born in Camberwell, London. ...     Her   \n",
       "3   na  Kathleen Nott was born in Camberwell, London. ...     Her   \n",
       "4   na  Kathleen Nott was born in Camberwell, London. ...     Her   \n",
       "5   na  Kathleen Nott was born in Camberwell, London. ...     her   \n",
       "6   na  Kathleen Nott was born in Camberwell, London. ...     her   \n",
       "7   na  Kathleen Nott was born in Camberwell, London. ...     her   \n",
       "8   na  Kathleen Nott was born in Camberwell, London. ...     her   \n",
       "9   na  Kathleen Nott was born in Camberwell, London. ...     her   \n",
       "10  na  Kathleen Nott was born in Camberwell, London. ...     her   \n",
       "11  na  Kathleen Nott was born in Camberwell, London. ...     her   \n",
       "12  na  Kathleen Nott was born in Camberwell, London. ...     her   \n",
       "13  na  Kathleen Nott was born in Camberwell, London. ...     her   \n",
       "14  na  Kathleen Nott was born in Camberwell, London. ...     her   \n",
       "15  na  Kathleen Nott was born in Camberwell, London. ...     her   \n",
       "16  na  Kathleen Nott was born in Camberwell, London. ...     her   \n",
       "17  na  Kathleen Nott was born in Camberwell, London. ...     her   \n",
       "18  na  Kathleen Nott was born in Camberwell, London. ...     her   \n",
       "19  na  Kathleen Nott was born in Camberwell, London. ...     her   \n",
       "20  na  Kathleen Nott was born in Camberwell, London. ...     her   \n",
       "21  na  Kathleen Nott was born in Camberwell, London. ...     her   \n",
       "22  na  Kathleen Nott was born in Camberwell, London. ...     her   \n",
       "23  na  Kathleen Nott was born in Camberwell, London. ...     her   \n",
       "24  na  Kathleen Nott was born in Camberwell, London. ...     her   \n",
       "25  na  Kathleen Nott was born in Camberwell, London. ...   their   \n",
       "26  na  Kathleen Nott was born in Camberwell, London. ...   their   \n",
       "27  na  Kathleen Nott was born in Camberwell, London. ...   their   \n",
       "28  na  Kathleen Nott was born in Camberwell, London. ...   their   \n",
       "29  na  Kathleen Nott was born in Camberwell, London. ...   their   \n",
       "30  na  Kathleen Nott was born in Camberwell, London. ...     She   \n",
       "31  na  Kathleen Nott was born in Camberwell, London. ...     She   \n",
       "32  na  Kathleen Nott was born in Camberwell, London. ...     She   \n",
       "33  na  Kathleen Nott was born in Camberwell, London. ...     She   \n",
       "34  na  Kathleen Nott was born in Camberwell, London. ...     She   \n",
       "35  na  Kathleen Nott was born in Camberwell, London. ...     she   \n",
       "36  na  Kathleen Nott was born in Camberwell, London. ...     she   \n",
       "37  na  Kathleen Nott was born in Camberwell, London. ...     she   \n",
       "38  na  Kathleen Nott was born in Camberwell, London. ...     she   \n",
       "39  na  Kathleen Nott was born in Camberwell, London. ...     she   \n",
       "40  na  Kathleen Nott was born in Camberwell, London. ...    them   \n",
       "41  na  Kathleen Nott was born in Camberwell, London. ...    them   \n",
       "42  na  Kathleen Nott was born in Camberwell, London. ...    them   \n",
       "43  na  Kathleen Nott was born in Camberwell, London. ...    them   \n",
       "44  na  Kathleen Nott was born in Camberwell, London. ...    them   \n",
       "\n",
       "    pronoun_offset              a  a_offset url              probabilities  \\\n",
       "0               46  Kathleen Nott         0  na  [[0.99260384 0.00739616]]   \n",
       "1               46         Philip        58  na  [[0.00402209 0.99597794]]   \n",
       "2               46          Ellen       110  na  [[0.00593911 0.9940608 ]]   \n",
       "3               46       Kathleen         0  na  [[0.9805736  0.01942644]]   \n",
       "4               46       Kathleen       150  na  [[0.03754032 0.9624597 ]]   \n",
       "5               53  Kathleen Nott         0  na  [[0.72761524 0.27238473]]   \n",
       "6               53         Philip        58  na  [[0.01057735 0.9894226 ]]   \n",
       "7               53          Ellen       110  na  [[0.01645187 0.9835481 ]]   \n",
       "8               53       Kathleen         0  na    [[0.5869416 0.4130584]]   \n",
       "9               53       Kathleen       150  na  [[0.04886014 0.9511398 ]]   \n",
       "10              98  Kathleen Nott         0  na  [[0.977957   0.02204303]]   \n",
       "11              98         Philip        58  na  [[0.01530357 0.9846964 ]]   \n",
       "12              98          Ellen       110  na  [[0.00493314 0.9950669 ]]   \n",
       "13              98       Kathleen         0  na  [[0.9529636  0.04703634]]   \n",
       "14              98       Kathleen       150  na  [[0.01005239 0.9899476 ]]   \n",
       "15             105  Kathleen Nott         0  na  [[0.9521233  0.04787667]]   \n",
       "16             105         Philip        58  na  [[0.11377078 0.8862292 ]]   \n",
       "17             105          Ellen       110  na  [[0.02079036 0.97920966]]   \n",
       "18             105       Kathleen         0  na  [[0.8773988  0.12260126]]   \n",
       "19             105       Kathleen       150  na  [[0.08743308 0.9125669 ]]   \n",
       "20             306  Kathleen Nott         0  na  [[0.98786014 0.01213983]]   \n",
       "21             306         Philip        58  na  [[0.01200981 0.9879902 ]]   \n",
       "22             306          Ellen       110  na  [[0.00737238 0.9926277 ]]   \n",
       "23             306       Kathleen         0  na  [[0.9820188  0.01798119]]   \n",
       "24             306       Kathleen       150  na  [[0.02563355 0.9743664 ]]   \n",
       "25             163  Kathleen Nott         0  na  [[0.98428625 0.0157138 ]]   \n",
       "26             163         Philip        58  na    [[0.1468023 0.8531977]]   \n",
       "27             163          Ellen       110  na  [[0.11969691 0.8803031 ]]   \n",
       "28             163       Kathleen         0  na  [[0.97100407 0.0289959 ]]   \n",
       "29             163       Kathleen       150  na  [[0.40707874 0.5929213 ]]   \n",
       "30             185  Kathleen Nott         0  na  [[0.9987293  0.00127075]]   \n",
       "31             185         Philip        58  na  [[0.00554579 0.9944542 ]]   \n",
       "32             185          Ellen       110  na  [[0.00456119 0.9954389 ]]   \n",
       "33             185       Kathleen         0  na  [[0.9983675  0.00163249]]   \n",
       "34             185       Kathleen       150  na  [[0.15811901 0.841881  ]]   \n",
       "35             311  Kathleen Nott         0  na  [[0.9963928  0.00360723]]   \n",
       "36             311         Philip        58  na  [[0.00463207 0.995368  ]]   \n",
       "37             311          Ellen       110  na  [[0.00306092 0.99693906]]   \n",
       "38             311       Kathleen         0  na  [[0.994034   0.00596603]]   \n",
       "39             311       Kathleen       150  na  [[0.0072662  0.99273384]]   \n",
       "40             331  Kathleen Nott         0  na  [[0.8094939  0.19050613]]   \n",
       "41             331         Philip        58  na  [[0.01702714 0.98297286]]   \n",
       "42             331          Ellen       110  na  [[0.00944698 0.990553  ]]   \n",
       "43             331       Kathleen         0  na  [[0.71157736 0.28842267]]   \n",
       "44             331       Kathleen       150  na  [[0.01598273 0.9840172 ]]   \n",
       "\n",
       "                                               output  \n",
       "0   Known pronoun 'Her' resolves to 'Kathleen Nott...  \n",
       "1   Known pronoun 'Her' does not resolve to 'Phili...  \n",
       "2   Known pronoun 'Her' does not resolve to 'Ellen...  \n",
       "3   Known pronoun 'Her' resolves to 'Kathleen' wit...  \n",
       "4   Known pronoun 'Her' does not resolve to 'Kathl...  \n",
       "5   Known pronoun 'her' resolves to 'Kathleen Nott...  \n",
       "6   Known pronoun 'her' does not resolve to 'Phili...  \n",
       "7   Known pronoun 'her' does not resolve to 'Ellen...  \n",
       "8   Known pronoun 'her' resolves to 'Kathleen' wit...  \n",
       "9   Known pronoun 'her' does not resolve to 'Kathl...  \n",
       "10  Known pronoun 'her' resolves to 'Kathleen Nott...  \n",
       "11  Known pronoun 'her' does not resolve to 'Phili...  \n",
       "12  Known pronoun 'her' does not resolve to 'Ellen...  \n",
       "13  Known pronoun 'her' resolves to 'Kathleen' wit...  \n",
       "14  Known pronoun 'her' does not resolve to 'Kathl...  \n",
       "15  Known pronoun 'her' resolves to 'Kathleen Nott...  \n",
       "16  Known pronoun 'her' does not resolve to 'Phili...  \n",
       "17  Known pronoun 'her' does not resolve to 'Ellen...  \n",
       "18  Known pronoun 'her' resolves to 'Kathleen' wit...  \n",
       "19  Known pronoun 'her' does not resolve to 'Kathl...  \n",
       "20  Known pronoun 'her' resolves to 'Kathleen Nott...  \n",
       "21  Known pronoun 'her' does not resolve to 'Phili...  \n",
       "22  Known pronoun 'her' does not resolve to 'Ellen...  \n",
       "23  Known pronoun 'her' resolves to 'Kathleen' wit...  \n",
       "24  Known pronoun 'her' does not resolve to 'Kathl...  \n",
       "25  Known pronoun 'their' resolves to 'Kathleen No...  \n",
       "26  Known pronoun 'their' does not resolve to 'Phi...  \n",
       "27  Known pronoun 'their' does not resolve to 'Ell...  \n",
       "28  Known pronoun 'their' resolves to 'Kathleen' w...  \n",
       "29  Known pronoun 'their' does not resolve to 'Kat...  \n",
       "30  Known pronoun 'She' resolves to 'Kathleen Nott...  \n",
       "31  Known pronoun 'She' does not resolve to 'Phili...  \n",
       "32  Known pronoun 'She' does not resolve to 'Ellen...  \n",
       "33  Known pronoun 'She' resolves to 'Kathleen' wit...  \n",
       "34  Known pronoun 'She' does not resolve to 'Kathl...  \n",
       "35  Known pronoun 'she' resolves to 'Kathleen Nott...  \n",
       "36  Known pronoun 'she' does not resolve to 'Phili...  \n",
       "37  Known pronoun 'she' does not resolve to 'Ellen...  \n",
       "38  Known pronoun 'she' resolves to 'Kathleen' wit...  \n",
       "39  Known pronoun 'she' does not resolve to 'Kathl...  \n",
       "40  Known pronoun 'them' resolves to 'Kathleen Not...  \n",
       "41  Known pronoun 'them' does not resolve to 'Phil...  \n",
       "42  Known pronoun 'them' does not resolve to 'Elle...  \n",
       "43  Known pronoun 'them' resolves to 'Kathleen' wi...  \n",
       "44  Known pronoun 'them' does not resolve to 'Kath...  "
      ]
     },
     "execution_count": 18,
     "metadata": {},
     "output_type": "execute_result"
    }
   ],
   "source": [
    "pd.read_csv(\"results/probert/df_output.csv\")"
   ]
  }
 ],
 "metadata": {
  "kernelspec": {
   "display_name": "Python 3",
   "language": "python",
   "name": "python3"
  },
  "language_info": {
   "codemirror_mode": {
    "name": "ipython",
    "version": 3
   },
   "file_extension": ".py",
   "mimetype": "text/x-python",
   "name": "python",
   "nbconvert_exporter": "python",
   "pygments_lexer": "ipython3",
   "version": "3.7.2"
  },
  "vscode": {
   "interpreter": {
    "hash": "ada593a78c6b194b2899cf6ebd1fc2561ce5c9a595ddfc46f7cad3c5ee25f5a5"
   }
  }
 },
 "nbformat": 4,
 "nbformat_minor": 5
}
