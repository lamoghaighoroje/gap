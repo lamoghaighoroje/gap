{
 "cells": [
  {
   "cell_type": "markdown",
   "id": "39e819f2",
   "metadata": {},
   "source": [
    "# Gender Ambiguity Detector\n",
    "\n",
    "Codebase: https://github.com/sattree/gap"
   ]
  },
  {
   "cell_type": "code",
   "execution_count": 11,
   "id": "a55f52b4",
   "metadata": {},
   "outputs": [],
   "source": [
    "import pandas as pd\n",
    "import torch\n",
    "import os\n",
    "from pathlib import Path\n",
    "import re"
   ]
  },
  {
   "cell_type": "code",
   "execution_count": 12,
   "id": "5eb23892",
   "metadata": {},
   "outputs": [],
   "source": [
    "model_version = 'probert'\n",
    "annotate_coref_mentions = pretrained_proref = False\n",
    "coref_models = []\n",
    "sanitize_labels = True\n",
    "preprocess_eval = True\n",
    "exp_dir = Path('results/probert')\n",
    "coref_models_ = []\n",
    "\n",
    "n_gpu = torch.cuda.device_count()\n",
    "n_samples = 0"
   ]
  },
  {
   "cell_type": "code",
   "execution_count": 13,
   "id": "8ea7b017",
   "metadata": {},
   "outputs": [
    {
     "name": "stdout",
     "output_type": "stream",
     "text": [
      "Preparing Model.\n"
     ]
    },
    {
     "data": {
      "text/plain": [
       "ProBERT(\n",
       "  (bert): BertModel(\n",
       "    (embeddings): BertEmbeddings(\n",
       "      (word_embeddings): Embedding(30522, 1024, padding_idx=0)\n",
       "      (position_embeddings): Embedding(512, 1024)\n",
       "      (token_type_embeddings): Embedding(2, 1024)\n",
       "      (LayerNorm): BertLayerNorm()\n",
       "      (dropout): Dropout(p=0.1, inplace=False)\n",
       "    )\n",
       "    (encoder): BertEncoder(\n",
       "      (layer): ModuleList(\n",
       "        (0): BertLayer(\n",
       "          (attention): BertAttention(\n",
       "            (self): BertSelfAttention(\n",
       "              (query): Linear(in_features=1024, out_features=1024, bias=True)\n",
       "              (key): Linear(in_features=1024, out_features=1024, bias=True)\n",
       "              (value): Linear(in_features=1024, out_features=1024, bias=True)\n",
       "              (dropout): Dropout(p=0.1, inplace=False)\n",
       "            )\n",
       "            (output): BertSelfOutput(\n",
       "              (dense): Linear(in_features=1024, out_features=1024, bias=True)\n",
       "              (LayerNorm): BertLayerNorm()\n",
       "              (dropout): Dropout(p=0.1, inplace=False)\n",
       "            )\n",
       "          )\n",
       "          (intermediate): BertIntermediate(\n",
       "            (dense): Linear(in_features=1024, out_features=4096, bias=True)\n",
       "          )\n",
       "          (output): BertOutput(\n",
       "            (dense): Linear(in_features=4096, out_features=1024, bias=True)\n",
       "            (LayerNorm): BertLayerNorm()\n",
       "            (dropout): Dropout(p=0.1, inplace=False)\n",
       "          )\n",
       "        )\n",
       "        (1): BertLayer(\n",
       "          (attention): BertAttention(\n",
       "            (self): BertSelfAttention(\n",
       "              (query): Linear(in_features=1024, out_features=1024, bias=True)\n",
       "              (key): Linear(in_features=1024, out_features=1024, bias=True)\n",
       "              (value): Linear(in_features=1024, out_features=1024, bias=True)\n",
       "              (dropout): Dropout(p=0.1, inplace=False)\n",
       "            )\n",
       "            (output): BertSelfOutput(\n",
       "              (dense): Linear(in_features=1024, out_features=1024, bias=True)\n",
       "              (LayerNorm): BertLayerNorm()\n",
       "              (dropout): Dropout(p=0.1, inplace=False)\n",
       "            )\n",
       "          )\n",
       "          (intermediate): BertIntermediate(\n",
       "            (dense): Linear(in_features=1024, out_features=4096, bias=True)\n",
       "          )\n",
       "          (output): BertOutput(\n",
       "            (dense): Linear(in_features=4096, out_features=1024, bias=True)\n",
       "            (LayerNorm): BertLayerNorm()\n",
       "            (dropout): Dropout(p=0.1, inplace=False)\n",
       "          )\n",
       "        )\n",
       "        (2): BertLayer(\n",
       "          (attention): BertAttention(\n",
       "            (self): BertSelfAttention(\n",
       "              (query): Linear(in_features=1024, out_features=1024, bias=True)\n",
       "              (key): Linear(in_features=1024, out_features=1024, bias=True)\n",
       "              (value): Linear(in_features=1024, out_features=1024, bias=True)\n",
       "              (dropout): Dropout(p=0.1, inplace=False)\n",
       "            )\n",
       "            (output): BertSelfOutput(\n",
       "              (dense): Linear(in_features=1024, out_features=1024, bias=True)\n",
       "              (LayerNorm): BertLayerNorm()\n",
       "              (dropout): Dropout(p=0.1, inplace=False)\n",
       "            )\n",
       "          )\n",
       "          (intermediate): BertIntermediate(\n",
       "            (dense): Linear(in_features=1024, out_features=4096, bias=True)\n",
       "          )\n",
       "          (output): BertOutput(\n",
       "            (dense): Linear(in_features=4096, out_features=1024, bias=True)\n",
       "            (LayerNorm): BertLayerNorm()\n",
       "            (dropout): Dropout(p=0.1, inplace=False)\n",
       "          )\n",
       "        )\n",
       "        (3): BertLayer(\n",
       "          (attention): BertAttention(\n",
       "            (self): BertSelfAttention(\n",
       "              (query): Linear(in_features=1024, out_features=1024, bias=True)\n",
       "              (key): Linear(in_features=1024, out_features=1024, bias=True)\n",
       "              (value): Linear(in_features=1024, out_features=1024, bias=True)\n",
       "              (dropout): Dropout(p=0.1, inplace=False)\n",
       "            )\n",
       "            (output): BertSelfOutput(\n",
       "              (dense): Linear(in_features=1024, out_features=1024, bias=True)\n",
       "              (LayerNorm): BertLayerNorm()\n",
       "              (dropout): Dropout(p=0.1, inplace=False)\n",
       "            )\n",
       "          )\n",
       "          (intermediate): BertIntermediate(\n",
       "            (dense): Linear(in_features=1024, out_features=4096, bias=True)\n",
       "          )\n",
       "          (output): BertOutput(\n",
       "            (dense): Linear(in_features=4096, out_features=1024, bias=True)\n",
       "            (LayerNorm): BertLayerNorm()\n",
       "            (dropout): Dropout(p=0.1, inplace=False)\n",
       "          )\n",
       "        )\n",
       "        (4): BertLayer(\n",
       "          (attention): BertAttention(\n",
       "            (self): BertSelfAttention(\n",
       "              (query): Linear(in_features=1024, out_features=1024, bias=True)\n",
       "              (key): Linear(in_features=1024, out_features=1024, bias=True)\n",
       "              (value): Linear(in_features=1024, out_features=1024, bias=True)\n",
       "              (dropout): Dropout(p=0.1, inplace=False)\n",
       "            )\n",
       "            (output): BertSelfOutput(\n",
       "              (dense): Linear(in_features=1024, out_features=1024, bias=True)\n",
       "              (LayerNorm): BertLayerNorm()\n",
       "              (dropout): Dropout(p=0.1, inplace=False)\n",
       "            )\n",
       "          )\n",
       "          (intermediate): BertIntermediate(\n",
       "            (dense): Linear(in_features=1024, out_features=4096, bias=True)\n",
       "          )\n",
       "          (output): BertOutput(\n",
       "            (dense): Linear(in_features=4096, out_features=1024, bias=True)\n",
       "            (LayerNorm): BertLayerNorm()\n",
       "            (dropout): Dropout(p=0.1, inplace=False)\n",
       "          )\n",
       "        )\n",
       "        (5): BertLayer(\n",
       "          (attention): BertAttention(\n",
       "            (self): BertSelfAttention(\n",
       "              (query): Linear(in_features=1024, out_features=1024, bias=True)\n",
       "              (key): Linear(in_features=1024, out_features=1024, bias=True)\n",
       "              (value): Linear(in_features=1024, out_features=1024, bias=True)\n",
       "              (dropout): Dropout(p=0.1, inplace=False)\n",
       "            )\n",
       "            (output): BertSelfOutput(\n",
       "              (dense): Linear(in_features=1024, out_features=1024, bias=True)\n",
       "              (LayerNorm): BertLayerNorm()\n",
       "              (dropout): Dropout(p=0.1, inplace=False)\n",
       "            )\n",
       "          )\n",
       "          (intermediate): BertIntermediate(\n",
       "            (dense): Linear(in_features=1024, out_features=4096, bias=True)\n",
       "          )\n",
       "          (output): BertOutput(\n",
       "            (dense): Linear(in_features=4096, out_features=1024, bias=True)\n",
       "            (LayerNorm): BertLayerNorm()\n",
       "            (dropout): Dropout(p=0.1, inplace=False)\n",
       "          )\n",
       "        )\n",
       "        (6): BertLayer(\n",
       "          (attention): BertAttention(\n",
       "            (self): BertSelfAttention(\n",
       "              (query): Linear(in_features=1024, out_features=1024, bias=True)\n",
       "              (key): Linear(in_features=1024, out_features=1024, bias=True)\n",
       "              (value): Linear(in_features=1024, out_features=1024, bias=True)\n",
       "              (dropout): Dropout(p=0.1, inplace=False)\n",
       "            )\n",
       "            (output): BertSelfOutput(\n",
       "              (dense): Linear(in_features=1024, out_features=1024, bias=True)\n",
       "              (LayerNorm): BertLayerNorm()\n",
       "              (dropout): Dropout(p=0.1, inplace=False)\n",
       "            )\n",
       "          )\n",
       "          (intermediate): BertIntermediate(\n",
       "            (dense): Linear(in_features=1024, out_features=4096, bias=True)\n",
       "          )\n",
       "          (output): BertOutput(\n",
       "            (dense): Linear(in_features=4096, out_features=1024, bias=True)\n",
       "            (LayerNorm): BertLayerNorm()\n",
       "            (dropout): Dropout(p=0.1, inplace=False)\n",
       "          )\n",
       "        )\n",
       "        (7): BertLayer(\n",
       "          (attention): BertAttention(\n",
       "            (self): BertSelfAttention(\n",
       "              (query): Linear(in_features=1024, out_features=1024, bias=True)\n",
       "              (key): Linear(in_features=1024, out_features=1024, bias=True)\n",
       "              (value): Linear(in_features=1024, out_features=1024, bias=True)\n",
       "              (dropout): Dropout(p=0.1, inplace=False)\n",
       "            )\n",
       "            (output): BertSelfOutput(\n",
       "              (dense): Linear(in_features=1024, out_features=1024, bias=True)\n",
       "              (LayerNorm): BertLayerNorm()\n",
       "              (dropout): Dropout(p=0.1, inplace=False)\n",
       "            )\n",
       "          )\n",
       "          (intermediate): BertIntermediate(\n",
       "            (dense): Linear(in_features=1024, out_features=4096, bias=True)\n",
       "          )\n",
       "          (output): BertOutput(\n",
       "            (dense): Linear(in_features=4096, out_features=1024, bias=True)\n",
       "            (LayerNorm): BertLayerNorm()\n",
       "            (dropout): Dropout(p=0.1, inplace=False)\n",
       "          )\n",
       "        )\n",
       "        (8): BertLayer(\n",
       "          (attention): BertAttention(\n",
       "            (self): BertSelfAttention(\n",
       "              (query): Linear(in_features=1024, out_features=1024, bias=True)\n",
       "              (key): Linear(in_features=1024, out_features=1024, bias=True)\n",
       "              (value): Linear(in_features=1024, out_features=1024, bias=True)\n",
       "              (dropout): Dropout(p=0.1, inplace=False)\n",
       "            )\n",
       "            (output): BertSelfOutput(\n",
       "              (dense): Linear(in_features=1024, out_features=1024, bias=True)\n",
       "              (LayerNorm): BertLayerNorm()\n",
       "              (dropout): Dropout(p=0.1, inplace=False)\n",
       "            )\n",
       "          )\n",
       "          (intermediate): BertIntermediate(\n",
       "            (dense): Linear(in_features=1024, out_features=4096, bias=True)\n",
       "          )\n",
       "          (output): BertOutput(\n",
       "            (dense): Linear(in_features=4096, out_features=1024, bias=True)\n",
       "            (LayerNorm): BertLayerNorm()\n",
       "            (dropout): Dropout(p=0.1, inplace=False)\n",
       "          )\n",
       "        )\n",
       "        (9): BertLayer(\n",
       "          (attention): BertAttention(\n",
       "            (self): BertSelfAttention(\n",
       "              (query): Linear(in_features=1024, out_features=1024, bias=True)\n",
       "              (key): Linear(in_features=1024, out_features=1024, bias=True)\n",
       "              (value): Linear(in_features=1024, out_features=1024, bias=True)\n",
       "              (dropout): Dropout(p=0.1, inplace=False)\n",
       "            )\n",
       "            (output): BertSelfOutput(\n",
       "              (dense): Linear(in_features=1024, out_features=1024, bias=True)\n",
       "              (LayerNorm): BertLayerNorm()\n",
       "              (dropout): Dropout(p=0.1, inplace=False)\n",
       "            )\n",
       "          )\n",
       "          (intermediate): BertIntermediate(\n",
       "            (dense): Linear(in_features=1024, out_features=4096, bias=True)\n",
       "          )\n",
       "          (output): BertOutput(\n",
       "            (dense): Linear(in_features=4096, out_features=1024, bias=True)\n",
       "            (LayerNorm): BertLayerNorm()\n",
       "            (dropout): Dropout(p=0.1, inplace=False)\n",
       "          )\n",
       "        )\n",
       "        (10): BertLayer(\n",
       "          (attention): BertAttention(\n",
       "            (self): BertSelfAttention(\n",
       "              (query): Linear(in_features=1024, out_features=1024, bias=True)\n",
       "              (key): Linear(in_features=1024, out_features=1024, bias=True)\n",
       "              (value): Linear(in_features=1024, out_features=1024, bias=True)\n",
       "              (dropout): Dropout(p=0.1, inplace=False)\n",
       "            )\n",
       "            (output): BertSelfOutput(\n",
       "              (dense): Linear(in_features=1024, out_features=1024, bias=True)\n",
       "              (LayerNorm): BertLayerNorm()\n",
       "              (dropout): Dropout(p=0.1, inplace=False)\n",
       "            )\n",
       "          )\n",
       "          (intermediate): BertIntermediate(\n",
       "            (dense): Linear(in_features=1024, out_features=4096, bias=True)\n",
       "          )\n",
       "          (output): BertOutput(\n",
       "            (dense): Linear(in_features=4096, out_features=1024, bias=True)\n",
       "            (LayerNorm): BertLayerNorm()\n",
       "            (dropout): Dropout(p=0.1, inplace=False)\n",
       "          )\n",
       "        )\n",
       "        (11): BertLayer(\n",
       "          (attention): BertAttention(\n",
       "            (self): BertSelfAttention(\n",
       "              (query): Linear(in_features=1024, out_features=1024, bias=True)\n",
       "              (key): Linear(in_features=1024, out_features=1024, bias=True)\n",
       "              (value): Linear(in_features=1024, out_features=1024, bias=True)\n",
       "              (dropout): Dropout(p=0.1, inplace=False)\n",
       "            )\n",
       "            (output): BertSelfOutput(\n",
       "              (dense): Linear(in_features=1024, out_features=1024, bias=True)\n",
       "              (LayerNorm): BertLayerNorm()\n",
       "              (dropout): Dropout(p=0.1, inplace=False)\n",
       "            )\n",
       "          )\n",
       "          (intermediate): BertIntermediate(\n",
       "            (dense): Linear(in_features=1024, out_features=4096, bias=True)\n",
       "          )\n",
       "          (output): BertOutput(\n",
       "            (dense): Linear(in_features=4096, out_features=1024, bias=True)\n",
       "            (LayerNorm): BertLayerNorm()\n",
       "            (dropout): Dropout(p=0.1, inplace=False)\n",
       "          )\n",
       "        )\n",
       "        (12): BertLayer(\n",
       "          (attention): BertAttention(\n",
       "            (self): BertSelfAttention(\n",
       "              (query): Linear(in_features=1024, out_features=1024, bias=True)\n",
       "              (key): Linear(in_features=1024, out_features=1024, bias=True)\n",
       "              (value): Linear(in_features=1024, out_features=1024, bias=True)\n",
       "              (dropout): Dropout(p=0.1, inplace=False)\n",
       "            )\n",
       "            (output): BertSelfOutput(\n",
       "              (dense): Linear(in_features=1024, out_features=1024, bias=True)\n",
       "              (LayerNorm): BertLayerNorm()\n",
       "              (dropout): Dropout(p=0.1, inplace=False)\n",
       "            )\n",
       "          )\n",
       "          (intermediate): BertIntermediate(\n",
       "            (dense): Linear(in_features=1024, out_features=4096, bias=True)\n",
       "          )\n",
       "          (output): BertOutput(\n",
       "            (dense): Linear(in_features=4096, out_features=1024, bias=True)\n",
       "            (LayerNorm): BertLayerNorm()\n",
       "            (dropout): Dropout(p=0.1, inplace=False)\n",
       "          )\n",
       "        )\n",
       "        (13): BertLayer(\n",
       "          (attention): BertAttention(\n",
       "            (self): BertSelfAttention(\n",
       "              (query): Linear(in_features=1024, out_features=1024, bias=True)\n",
       "              (key): Linear(in_features=1024, out_features=1024, bias=True)\n",
       "              (value): Linear(in_features=1024, out_features=1024, bias=True)\n",
       "              (dropout): Dropout(p=0.1, inplace=False)\n",
       "            )\n",
       "            (output): BertSelfOutput(\n",
       "              (dense): Linear(in_features=1024, out_features=1024, bias=True)\n",
       "              (LayerNorm): BertLayerNorm()\n",
       "              (dropout): Dropout(p=0.1, inplace=False)\n",
       "            )\n",
       "          )\n",
       "          (intermediate): BertIntermediate(\n",
       "            (dense): Linear(in_features=1024, out_features=4096, bias=True)\n",
       "          )\n",
       "          (output): BertOutput(\n",
       "            (dense): Linear(in_features=4096, out_features=1024, bias=True)\n",
       "            (LayerNorm): BertLayerNorm()\n",
       "            (dropout): Dropout(p=0.1, inplace=False)\n",
       "          )\n",
       "        )\n",
       "        (14): BertLayer(\n",
       "          (attention): BertAttention(\n",
       "            (self): BertSelfAttention(\n",
       "              (query): Linear(in_features=1024, out_features=1024, bias=True)\n",
       "              (key): Linear(in_features=1024, out_features=1024, bias=True)\n",
       "              (value): Linear(in_features=1024, out_features=1024, bias=True)\n",
       "              (dropout): Dropout(p=0.1, inplace=False)\n",
       "            )\n",
       "            (output): BertSelfOutput(\n",
       "              (dense): Linear(in_features=1024, out_features=1024, bias=True)\n",
       "              (LayerNorm): BertLayerNorm()\n",
       "              (dropout): Dropout(p=0.1, inplace=False)\n",
       "            )\n",
       "          )\n",
       "          (intermediate): BertIntermediate(\n",
       "            (dense): Linear(in_features=1024, out_features=4096, bias=True)\n",
       "          )\n",
       "          (output): BertOutput(\n",
       "            (dense): Linear(in_features=4096, out_features=1024, bias=True)\n",
       "            (LayerNorm): BertLayerNorm()\n",
       "            (dropout): Dropout(p=0.1, inplace=False)\n",
       "          )\n",
       "        )\n",
       "        (15): BertLayer(\n",
       "          (attention): BertAttention(\n",
       "            (self): BertSelfAttention(\n",
       "              (query): Linear(in_features=1024, out_features=1024, bias=True)\n",
       "              (key): Linear(in_features=1024, out_features=1024, bias=True)\n",
       "              (value): Linear(in_features=1024, out_features=1024, bias=True)\n",
       "              (dropout): Dropout(p=0.1, inplace=False)\n",
       "            )\n",
       "            (output): BertSelfOutput(\n",
       "              (dense): Linear(in_features=1024, out_features=1024, bias=True)\n",
       "              (LayerNorm): BertLayerNorm()\n",
       "              (dropout): Dropout(p=0.1, inplace=False)\n",
       "            )\n",
       "          )\n",
       "          (intermediate): BertIntermediate(\n",
       "            (dense): Linear(in_features=1024, out_features=4096, bias=True)\n",
       "          )\n",
       "          (output): BertOutput(\n",
       "            (dense): Linear(in_features=4096, out_features=1024, bias=True)\n",
       "            (LayerNorm): BertLayerNorm()\n",
       "            (dropout): Dropout(p=0.1, inplace=False)\n",
       "          )\n",
       "        )\n",
       "        (16): BertLayer(\n",
       "          (attention): BertAttention(\n",
       "            (self): BertSelfAttention(\n",
       "              (query): Linear(in_features=1024, out_features=1024, bias=True)\n",
       "              (key): Linear(in_features=1024, out_features=1024, bias=True)\n",
       "              (value): Linear(in_features=1024, out_features=1024, bias=True)\n",
       "              (dropout): Dropout(p=0.1, inplace=False)\n",
       "            )\n",
       "            (output): BertSelfOutput(\n",
       "              (dense): Linear(in_features=1024, out_features=1024, bias=True)\n",
       "              (LayerNorm): BertLayerNorm()\n",
       "              (dropout): Dropout(p=0.1, inplace=False)\n",
       "            )\n",
       "          )\n",
       "          (intermediate): BertIntermediate(\n",
       "            (dense): Linear(in_features=1024, out_features=4096, bias=True)\n",
       "          )\n",
       "          (output): BertOutput(\n",
       "            (dense): Linear(in_features=4096, out_features=1024, bias=True)\n",
       "            (LayerNorm): BertLayerNorm()\n",
       "            (dropout): Dropout(p=0.1, inplace=False)\n",
       "          )\n",
       "        )\n",
       "        (17): BertLayer(\n",
       "          (attention): BertAttention(\n",
       "            (self): BertSelfAttention(\n",
       "              (query): Linear(in_features=1024, out_features=1024, bias=True)\n",
       "              (key): Linear(in_features=1024, out_features=1024, bias=True)\n",
       "              (value): Linear(in_features=1024, out_features=1024, bias=True)\n",
       "              (dropout): Dropout(p=0.1, inplace=False)\n",
       "            )\n",
       "            (output): BertSelfOutput(\n",
       "              (dense): Linear(in_features=1024, out_features=1024, bias=True)\n",
       "              (LayerNorm): BertLayerNorm()\n",
       "              (dropout): Dropout(p=0.1, inplace=False)\n",
       "            )\n",
       "          )\n",
       "          (intermediate): BertIntermediate(\n",
       "            (dense): Linear(in_features=1024, out_features=4096, bias=True)\n",
       "          )\n",
       "          (output): BertOutput(\n",
       "            (dense): Linear(in_features=4096, out_features=1024, bias=True)\n",
       "            (LayerNorm): BertLayerNorm()\n",
       "            (dropout): Dropout(p=0.1, inplace=False)\n",
       "          )\n",
       "        )\n",
       "        (18): BertLayer(\n",
       "          (attention): BertAttention(\n",
       "            (self): BertSelfAttention(\n",
       "              (query): Linear(in_features=1024, out_features=1024, bias=True)\n",
       "              (key): Linear(in_features=1024, out_features=1024, bias=True)\n",
       "              (value): Linear(in_features=1024, out_features=1024, bias=True)\n",
       "              (dropout): Dropout(p=0.1, inplace=False)\n",
       "            )\n",
       "            (output): BertSelfOutput(\n",
       "              (dense): Linear(in_features=1024, out_features=1024, bias=True)\n",
       "              (LayerNorm): BertLayerNorm()\n",
       "              (dropout): Dropout(p=0.1, inplace=False)\n",
       "            )\n",
       "          )\n",
       "          (intermediate): BertIntermediate(\n",
       "            (dense): Linear(in_features=1024, out_features=4096, bias=True)\n",
       "          )\n",
       "          (output): BertOutput(\n",
       "            (dense): Linear(in_features=4096, out_features=1024, bias=True)\n",
       "            (LayerNorm): BertLayerNorm()\n",
       "            (dropout): Dropout(p=0.1, inplace=False)\n",
       "          )\n",
       "        )\n",
       "        (19): BertLayer(\n",
       "          (attention): BertAttention(\n",
       "            (self): BertSelfAttention(\n",
       "              (query): Linear(in_features=1024, out_features=1024, bias=True)\n",
       "              (key): Linear(in_features=1024, out_features=1024, bias=True)\n",
       "              (value): Linear(in_features=1024, out_features=1024, bias=True)\n",
       "              (dropout): Dropout(p=0.1, inplace=False)\n",
       "            )\n",
       "            (output): BertSelfOutput(\n",
       "              (dense): Linear(in_features=1024, out_features=1024, bias=True)\n",
       "              (LayerNorm): BertLayerNorm()\n",
       "              (dropout): Dropout(p=0.1, inplace=False)\n",
       "            )\n",
       "          )\n",
       "          (intermediate): BertIntermediate(\n",
       "            (dense): Linear(in_features=1024, out_features=4096, bias=True)\n",
       "          )\n",
       "          (output): BertOutput(\n",
       "            (dense): Linear(in_features=4096, out_features=1024, bias=True)\n",
       "            (LayerNorm): BertLayerNorm()\n",
       "            (dropout): Dropout(p=0.1, inplace=False)\n",
       "          )\n",
       "        )\n",
       "        (20): BertLayer(\n",
       "          (attention): BertAttention(\n",
       "            (self): BertSelfAttention(\n",
       "              (query): Linear(in_features=1024, out_features=1024, bias=True)\n",
       "              (key): Linear(in_features=1024, out_features=1024, bias=True)\n",
       "              (value): Linear(in_features=1024, out_features=1024, bias=True)\n",
       "              (dropout): Dropout(p=0.1, inplace=False)\n",
       "            )\n",
       "            (output): BertSelfOutput(\n",
       "              (dense): Linear(in_features=1024, out_features=1024, bias=True)\n",
       "              (LayerNorm): BertLayerNorm()\n",
       "              (dropout): Dropout(p=0.1, inplace=False)\n",
       "            )\n",
       "          )\n",
       "          (intermediate): BertIntermediate(\n",
       "            (dense): Linear(in_features=1024, out_features=4096, bias=True)\n",
       "          )\n",
       "          (output): BertOutput(\n",
       "            (dense): Linear(in_features=4096, out_features=1024, bias=True)\n",
       "            (LayerNorm): BertLayerNorm()\n",
       "            (dropout): Dropout(p=0.1, inplace=False)\n",
       "          )\n",
       "        )\n",
       "        (21): BertLayer(\n",
       "          (attention): BertAttention(\n",
       "            (self): BertSelfAttention(\n",
       "              (query): Linear(in_features=1024, out_features=1024, bias=True)\n",
       "              (key): Linear(in_features=1024, out_features=1024, bias=True)\n",
       "              (value): Linear(in_features=1024, out_features=1024, bias=True)\n",
       "              (dropout): Dropout(p=0.1, inplace=False)\n",
       "            )\n",
       "            (output): BertSelfOutput(\n",
       "              (dense): Linear(in_features=1024, out_features=1024, bias=True)\n",
       "              (LayerNorm): BertLayerNorm()\n",
       "              (dropout): Dropout(p=0.1, inplace=False)\n",
       "            )\n",
       "          )\n",
       "          (intermediate): BertIntermediate(\n",
       "            (dense): Linear(in_features=1024, out_features=4096, bias=True)\n",
       "          )\n",
       "          (output): BertOutput(\n",
       "            (dense): Linear(in_features=4096, out_features=1024, bias=True)\n",
       "            (LayerNorm): BertLayerNorm()\n",
       "            (dropout): Dropout(p=0.1, inplace=False)\n",
       "          )\n",
       "        )\n",
       "        (22): BertLayer(\n",
       "          (attention): BertAttention(\n",
       "            (self): BertSelfAttention(\n",
       "              (query): Linear(in_features=1024, out_features=1024, bias=True)\n",
       "              (key): Linear(in_features=1024, out_features=1024, bias=True)\n",
       "              (value): Linear(in_features=1024, out_features=1024, bias=True)\n",
       "              (dropout): Dropout(p=0.1, inplace=False)\n",
       "            )\n",
       "            (output): BertSelfOutput(\n",
       "              (dense): Linear(in_features=1024, out_features=1024, bias=True)\n",
       "              (LayerNorm): BertLayerNorm()\n",
       "              (dropout): Dropout(p=0.1, inplace=False)\n",
       "            )\n",
       "          )\n",
       "          (intermediate): BertIntermediate(\n",
       "            (dense): Linear(in_features=1024, out_features=4096, bias=True)\n",
       "          )\n",
       "          (output): BertOutput(\n",
       "            (dense): Linear(in_features=4096, out_features=1024, bias=True)\n",
       "            (LayerNorm): BertLayerNorm()\n",
       "            (dropout): Dropout(p=0.1, inplace=False)\n",
       "          )\n",
       "        )\n",
       "        (23): BertLayer(\n",
       "          (attention): BertAttention(\n",
       "            (self): BertSelfAttention(\n",
       "              (query): Linear(in_features=1024, out_features=1024, bias=True)\n",
       "              (key): Linear(in_features=1024, out_features=1024, bias=True)\n",
       "              (value): Linear(in_features=1024, out_features=1024, bias=True)\n",
       "              (dropout): Dropout(p=0.1, inplace=False)\n",
       "            )\n",
       "            (output): BertSelfOutput(\n",
       "              (dense): Linear(in_features=1024, out_features=1024, bias=True)\n",
       "              (LayerNorm): BertLayerNorm()\n",
       "              (dropout): Dropout(p=0.1, inplace=False)\n",
       "            )\n",
       "          )\n",
       "          (intermediate): BertIntermediate(\n",
       "            (dense): Linear(in_features=1024, out_features=4096, bias=True)\n",
       "          )\n",
       "          (output): BertOutput(\n",
       "            (dense): Linear(in_features=4096, out_features=1024, bias=True)\n",
       "            (LayerNorm): BertLayerNorm()\n",
       "            (dropout): Dropout(p=0.1, inplace=False)\n",
       "          )\n",
       "        )\n",
       "      )\n",
       "    )\n",
       "    (pooler): BertPooler(\n",
       "      (dense): Linear(in_features=1024, out_features=1024, bias=True)\n",
       "      (activation): Tanh()\n",
       "    )\n",
       "  )\n",
       "  (pooler): BertPooler(\n",
       "    (dense): Linear(in_features=1024, out_features=1024, bias=True)\n",
       "    (activation): Tanh()\n",
       "  )\n",
       "  (dropout): Dropout(p=0.1, inplace=False)\n",
       "  (classifier): Linear(in_features=1024, out_features=2, bias=True)\n",
       ")"
      ]
     },
     "execution_count": 13,
     "metadata": {},
     "output_type": "execute_result"
    }
   ],
   "source": [
    "# Prepare model\n",
    "from models.gap.probert import ProBERT\n",
    "from models.gap.features import convert_examples_to_features\n",
    "\n",
    "from pytorch_pretrained_bert.file_utils import PYTORCH_PRETRAINED_BERT_CACHE\n",
    "from pytorch_pretrained_bert.modeling import BertConfig, WEIGHTS_NAME, CONFIG_NAME\n",
    "from transformers import BertTokenizer\n",
    "\n",
    "device = torch.device(\"cuda\" if torch.cuda.is_available() and not False else \"cpu\")\n",
    "n_gpu = torch.cuda.device_count()\n",
    "\n",
    "print('Preparing Model.')\n",
    "cache_dir = str(PYTORCH_PRETRAINED_BERT_CACHE)\n",
    "if model_version == 'probert':\n",
    "    model = ProBERT.from_pretrained(\"bert-base-uncased\",cache_dir=cache_dir,num_labels=2)\n",
    "\n",
    "model.to(device)\n",
    "\n",
    "if n_gpu > 1:\n",
    "    model = torch.nn.DataParallel(model)\n",
    "        \n",
    "# Loading the trained model and config that you have fine-tuned\n",
    "# model_name = os.path.abspath(\"results/probert/train_evaluate/bert-large-uncased/probert/0/model\")\n",
    "model_name = os.path.abspath(\"results/probert/ensembled_lms/bert_large_uncased/ensembled_seeds/42/train_evaluate_cv/1/probert/1/model\")\n",
    "output_model_file = os.path.join(model_name, WEIGHTS_NAME)\n",
    "output_config_file = os.path.join(model_name, CONFIG_NAME)\n",
    "config = BertConfig(output_config_file)\n",
    "\n",
    "tokenizer = BertTokenizer.from_pretrained(\"bert-large-uncased\", do_lower_case=True, \n",
    "                                          never_split=[\"[UNK]\", \"[SEP]\", \"[PAD]\", \"[CLS]\", \"[MASK]\"])\n",
    "\n",
    "if model_version == 'probert':\n",
    "    model = ProBERT(config,num_labels=2)\n",
    "\n",
    "if torch.cuda.is_available():\n",
    "    map_location=lambda storage, loc: storage.cuda()\n",
    "else:\n",
    "    map_location='cpu'\n",
    "\n",
    "model.load_state_dict(torch.load(output_model_file, map_location=map_location))\n",
    "model.to(device)\n"
   ]
  },
  {
   "cell_type": "code",
   "execution_count": 14,
   "id": "3aaac579",
   "metadata": {},
   "outputs": [],
   "source": [
    "from tqdm import tqdm\n",
    "import numpy as np\n",
    "import contextlib\n",
    "from torch.utils.data import DataLoader, SequentialSampler,TensorDataset\n",
    "from models.utils import init_data\n",
    "\n",
    "def evaluate(model,eval_features,device,eval_mode=True):\n",
    "\n",
    "    model.eval()\n",
    "\n",
    "    all_input_ids = torch.tensor([f.input_ids for f in eval_features], dtype=torch.long)\n",
    "    all_input_mask = torch.tensor([f.input_mask for f in eval_features], dtype=torch.uint8)\n",
    "    all_segment_ids = torch.tensor([f.segment_ids for f in eval_features], dtype=torch.long)\n",
    "    all_gpr_tags_mask = torch.tensor([f.gpr_tags_mask for f in eval_features], dtype=torch.uint8)\n",
    "\n",
    "    all_mention_p_ids = torch.tensor([f.mention_p_ids for f in eval_features], dtype=torch.long)\n",
    "    all_mention_a_ids = torch.tensor([f.mention_a_ids for f in eval_features], dtype=torch.long)\n",
    "    all_mention_p_mask = torch.tensor([f.mention_p_mask for f in eval_features], dtype=torch.uint8)\n",
    "    all_mention_a_mask = torch.tensor([f.mention_a_mask for f in eval_features], dtype=torch.uint8)\n",
    "\n",
    "    all_cluster_ids_a = torch.tensor([f.cluster_ids_a for f in eval_features], dtype=torch.long)\n",
    "    all_cluster_mask_a = torch.tensor([f.cluster_mask_a for f in eval_features], dtype=torch.uint8)\n",
    "    all_cluster_ids_p = torch.tensor([f.cluster_ids_p for f in eval_features], dtype=torch.long)\n",
    "    all_cluster_mask_p = torch.tensor([f.cluster_mask_p for f in eval_features], dtype=torch.uint8)\n",
    "\n",
    "    all_pretrained = torch.tensor([f.pretrained for f in eval_features], dtype=torch.float)\n",
    "    \n",
    "    all_label_ids = torch.tensor([f.label_id for f in eval_features], dtype=torch.long)\n",
    "\n",
    "    eval_data = TensorDataset(all_input_ids, \n",
    "                                all_input_mask, \n",
    "                                all_segment_ids, \n",
    "                                all_gpr_tags_mask,\n",
    "                                all_mention_p_ids,\n",
    "                                all_mention_a_ids,\n",
    "                                all_mention_p_mask,\n",
    "                                all_mention_a_mask,\n",
    "                                all_cluster_ids_a,\n",
    "                                all_cluster_mask_a,\n",
    "                                all_cluster_ids_p,\n",
    "                                all_cluster_mask_p,\n",
    "                                all_pretrained,\n",
    "                                all_label_ids)\n",
    "\n",
    "    # Run prediction for full data\n",
    "    eval_sampler = SequentialSampler(eval_data)\n",
    "    eval_dataloader = DataLoader(eval_data, \n",
    "                                sampler=eval_sampler, \n",
    "                                batch_size=1)\n",
    "\n",
    "    eval_loss = 0\n",
    "    preds = []\n",
    "    attn_wts = []\n",
    "    pbar = tqdm(desc=\"Evaluating\", total=len(eval_dataloader)) if eval_mode else contextlib.suppress()\n",
    "    with pbar:\n",
    "        for step, batch in enumerate(eval_dataloader):\n",
    "            # with torch.cuda.device(0):\n",
    "            batch = tuple(t.to(device) for t in batch)\n",
    "            (input_ids, input_mask, segment_ids, \n",
    "                gpr_tags_mask,\n",
    "                mention_p_ids, mention_a_ids,\n",
    "                mention_p_mask, mention_a_mask,\n",
    "                cluster_ids_a, cluster_mask_a,\n",
    "                cluster_ids_p, cluster_mask_p, pretrained, label_ids) = batch\n",
    "\n",
    "            with torch.no_grad():\n",
    "                res = model(input_ids,\n",
    "                            segment_ids, \n",
    "                            input_mask, \n",
    "                            gpr_tags_mask=gpr_tags_mask,\n",
    "                            mention_p_ids=mention_p_ids,\n",
    "                            mention_a_ids=mention_a_ids,\n",
    "                            mention_p_mask=mention_p_mask,\n",
    "                            mention_a_mask=mention_a_mask, \n",
    "                            cluster_ids_a=cluster_ids_a,\n",
    "                            cluster_mask_a=cluster_mask_a,\n",
    "                            cluster_ids_p=cluster_ids_p,\n",
    "                            cluster_mask_p=cluster_mask_p,\n",
    "                            pretrained=pretrained,\n",
    "                            labels=None,\n",
    "                            training=False,\n",
    "                            eval_mode=eval_mode\n",
    "                        )\n",
    "\n",
    "                if eval_mode:\n",
    "                    logits, probabilties, attn_wts_m, attn_wts_c, attn_wts_co = res\n",
    "                else:\n",
    "                    logits, probabilties = res\n",
    "\n",
    "            if len(preds) == 0:\n",
    "                preds.append(probabilties.detach().cpu().numpy())\n",
    "            else:\n",
    "                preds[0] = np.append(preds[0], probabilties.detach().cpu().numpy(), axis=0)\n",
    "\n",
    "            if eval_mode:\n",
    "                pbar.update()\n",
    "\n",
    "                if len(attn_wts) == 0:\n",
    "                    attn_wts = [attn_wts_m, attn_wts_c]\n",
    "                else:\n",
    "                    attn_wts[0] = np.append(attn_wts[0], attn_wts_m, axis=0)\n",
    "                    attn_wts[1] = np.append(attn_wts[1], attn_wts_c, axis=0)\n",
    "\n",
    "    preds = preds[0]\n",
    "    return preds, attn_wts"
   ]
  },
  {
   "cell_type": "markdown",
   "id": "7cd9b640",
   "metadata": {},
   "source": [
    "## Testing Automatic Pipeline for Using the Detector"
   ]
  },
  {
   "cell_type": "code",
   "execution_count": 15,
   "id": "a642bcf5",
   "metadata": {},
   "outputs": [],
   "source": [
    "# Raw input text\n",
    "# original_text = [\"For the U.S. Under Secretary of State, see Lucy W. Benson. Lucy Benson is a fictional character from the long-running Channel 4 soap opera Hollyoaks,\" \\\n",
    "#                  \"played by Kerrie Taylor between 1995--2000 and appeared in the shows first ever episode airing on the 23 October 1995. The character left five years later when she went travelling.\",\n",
    "#                  \"Kathleen Nott was born in Camberwell, London. Her father, Philip, was a lithographic printer, and her mother, Ellen, ran a boarding house in Brixton; Kathleen was their third daughter. \"\\\n",
    "#                     \"She was educated at Mary Datchelor Girls' School (now closed), London, before attending King's College, London.\",\n",
    "#                 ]    \n",
    "original_text = [\n",
    "                    \"Kathleen Nott was born in Camberwell, London. Her father, Philip, was a lithographic printer, and her mother, Ellen, ran a boarding house in Brixton; Kathleen was their third daughter. \\\n",
    "                        She was educated at Mary Datchelor Girls' School (now closed), London, before attending King's College, London. This is where she met and married them.\",\n",
    "                    \"Pat (they/them/their) was not sure how they should bring up inclusivity in the workplace.\"\n",
    "                ] \n",
    "# # A list of raw input text\n",
    "# original_text = [\"Pat (they/them/their) was not sure how they should bring up inclusivity in the workplace.\",\n",
    "#                  \"For the U.S. Under Secretary of State, see Lucy W. Benson. Lucy Benson is a fictional character from the long-running Channel 4 soap opera Hollyoaks, \\\n",
    "#                     played by Kerrie Taylor between 1995--2000 and appeared in the shows first ever episode airing on the 23 October 1995. The character left five years later when she went travelling.\",\n",
    "#                 \"Kathleen Nott was born in Camberwell, London. Her father, Philip, was a lithographic printer, and her mother, Ellen, ran a boarding house in Brixton; Kathleen was their third daughter. \\\n",
    "#                     She was educated at Mary Datchelor Girls' School (now closed), London, before attending King's College, London.\",\n",
    "#                 \"This is most notable in two almost unique settings of the Symbolum Apostolorum, a Credo according to the Apostle's Creed, not according to the ordinary of the mass. \\\n",
    "#                     Infantas left no conventional mass setting. Michael Noone suggests that, although it possible that Infantas may have been aware of a setting by the French composer Le Brung printed in 1540, it is equally likely that Infantas believed his settings to be unique.\",\n",
    "#                 \"Tilton first made contact with Dozenberg when he was still in Chicago in 1927,\\\n",
    "#                     liquidating the print shop. Tilton wrote Dozenberg a letter in Latvian signed simply ``Alfred,'' asking Dozenberg to meet him in New York as soon as he relocated there. \\\n",
    "#                         Tilton met with Dozenberg in a restaurant in New York City about a month later and asked Dozenberg to enter his service, without specifying the exact service in question.\"\n",
    "#                 ]"
   ]
  },
  {
   "cell_type": "code",
   "execution_count": 16,
   "id": "e030d4da",
   "metadata": {},
   "outputs": [],
   "source": [
    "_corenlp_url = 'http://cccxc418.pok.ibm.com:9000/'\n",
    "from pycorenlp import StanfordCoreNLP\n",
    "import json\n",
    "corenlp = StanfordCoreNLP(_corenlp_url)"
   ]
  },
  {
   "cell_type": "code",
   "execution_count": 17,
   "id": "94554e48",
   "metadata": {},
   "outputs": [
    {
     "name": "stdout",
     "output_type": "stream",
     "text": [
      "[{'Kathleen Nott': [0], 'Philip': [58], 'Ellen': [110], 'Kathleen': [0, 150]}, {'Pat': [0]}] [{'Her': [46], 'her': [53, 98, 105, 330], 'their': [163], 'She': [209], 'she': [335], 'them': [355]}, {'they': [5, 39], 'them': [10], 'their': [15]}]\n"
     ]
    }
   ],
   "source": [
    "from typing import List\n",
    "\n",
    "def is_pronoun(sentence, entity):\n",
    "    for token_dict in sentence['tokens']:\n",
    "        if token_dict['originalText'] == entity:\n",
    "            return token_dict['pos'] == 'PRP' or token_dict['pos'] == 'PRP$'\n",
    "\n",
    "# need to get combinations of every pronoun + offset with every entity + offset\n",
    "def get_combinations(entity_dict, pronoun_dict):\n",
    "    combinations = []\n",
    "    # each pronoun\n",
    "    for pronoun in pronoun_dict:\n",
    "        # offset for each pronoun\n",
    "        for pronoun_offset in pronoun_dict[pronoun]:\n",
    "            finished_entities = []\n",
    "            # each pair of entities\n",
    "            for entity1 in entity_dict:\n",
    "                # no duplicates (only want one of [[entity1 = a], [entity2 = b]])\n",
    "                if entity1 not in finished_entities:\n",
    "                    # offset for each entity\n",
    "                    for entity1_offset in entity_dict[entity1]:\n",
    "                        combinations.append([pronoun, pronoun_offset, entity1, entity1_offset])\n",
    "                finished_entities.append(entity1)\n",
    "            \n",
    "    return combinations\n",
    "\n",
    "def get_entities_and_pronouns(original_text: List[str]):\n",
    "    entity_list, pronoun_list = [], []\n",
    "    if type(original_text) != list and original_text != []:\n",
    "        raise Exception(\"Input must be a list of strings.\")\n",
    "    \n",
    "    for i in range(len(original_text)):\n",
    "        entity_dict, pronoun_dict = {}, {}\n",
    "        root = json.loads(corenlp.annotate(original_text[i], properties={'annotators': 'parse,coref,openie,ner', \"timeout\": \"50000\"}))\n",
    "\n",
    "        for sentence_idx in range(len(root['sentences'])):\n",
    "            sentence = root['sentences'][sentence_idx]\n",
    "            for idx in range(len(sentence['entitymentions'])):\n",
    "                entity = sentence['entitymentions'][idx]['ner']\n",
    "                text = sentence['entitymentions'][idx]['text']\n",
    "                if entity == 'PERSON' and not is_pronoun(sentence, text):\n",
    "                    entity_dict[text] = []\n",
    "            for token_dict in sentence['tokens']:\n",
    "                if token_dict['pos'] == 'PRP' or token_dict['pos'] == 'PRP$':\n",
    "                    pronoun_dict[token_dict['originalText']] = []\n",
    "                    # if is_pronoun(sentence, text):\n",
    "                    #     pronoun_dict[text] = []\n",
    "                    # else:\n",
    "                    #     entity_dict[text] = []\n",
    "\n",
    "        # add offset from ORIGINAL text \n",
    "        # (can't add directly from above because coref annotation adds spaces / other chars) \n",
    "        for name in entity_dict:\n",
    "            if entity_dict[name] == []:\n",
    "                entity_dict[name] = [word.start() for word in re.finditer(name, original_text[i])]\n",
    "        for name in pronoun_dict:\n",
    "            if pronoun_dict[name] == []:\n",
    "                pronoun_dict[name] = [word.start() for word in re.finditer(name, original_text[i])]\n",
    "        \n",
    "        entity_list.append(entity_dict)\n",
    "        pronoun_list.append(pronoun_dict)\n",
    "    return entity_list, pronoun_list\n",
    "\n",
    "entity_list, pronoun_list = get_entities_and_pronouns(original_text)\n",
    "print(entity_list, pronoun_list)\n",
    "# combinations = []\n",
    "# for i in range(len(entity_list)):\n",
    "#     # get all possible permutations of (entity, pronoun)\n",
    "#     combs = get_combinations(entity_list[i], pronoun_list[i])\n",
    "#     # combinations.extend(combs)\n",
    "#     print(combs)"
   ]
  },
  {
   "cell_type": "code",
   "execution_count": 18,
   "id": "04c7d2d5",
   "metadata": {},
   "outputs": [],
   "source": [
    "# combinations"
   ]
  },
  {
   "cell_type": "code",
   "execution_count": 19,
   "id": "ea0e5825",
   "metadata": {},
   "outputs": [
    {
     "data": {
      "text/html": [
       "<div>\n",
       "<style scoped>\n",
       "    .dataframe tbody tr th:only-of-type {\n",
       "        vertical-align: middle;\n",
       "    }\n",
       "\n",
       "    .dataframe tbody tr th {\n",
       "        vertical-align: top;\n",
       "    }\n",
       "\n",
       "    .dataframe thead th {\n",
       "        text-align: right;\n",
       "    }\n",
       "</style>\n",
       "<table border=\"1\" class=\"dataframe\">\n",
       "  <thead>\n",
       "    <tr style=\"text-align: right;\">\n",
       "      <th></th>\n",
       "      <th>id</th>\n",
       "      <th>text</th>\n",
       "      <th>pronoun</th>\n",
       "      <th>pronoun_offset</th>\n",
       "      <th>a</th>\n",
       "      <th>a_offset</th>\n",
       "      <th>url</th>\n",
       "    </tr>\n",
       "  </thead>\n",
       "  <tbody>\n",
       "    <tr>\n",
       "      <th>0</th>\n",
       "      <td>na</td>\n",
       "      <td>Kathleen Nott was born in Camberwell, London. ...</td>\n",
       "      <td>Her</td>\n",
       "      <td>46</td>\n",
       "      <td>Kathleen Nott</td>\n",
       "      <td>0</td>\n",
       "      <td>na</td>\n",
       "    </tr>\n",
       "  </tbody>\n",
       "</table>\n",
       "</div>"
      ],
      "text/plain": [
       "   id                                               text pronoun  \\\n",
       "0  na  Kathleen Nott was born in Camberwell, London. ...     Her   \n",
       "\n",
       "   pronoun_offset              a  a_offset url  \n",
       "0              46  Kathleen Nott         0  na  "
      ]
     },
     "metadata": {},
     "output_type": "display_data"
    },
    {
     "name": "stderr",
     "output_type": "stream",
     "text": [
      "Initializing Step InputReader\n",
      "Step InputReader initialized\n",
      "Initializing Step LabelSanitizer\n",
      "Step LabelSanitizer initialized\n",
      "Initializing Step MentionsAnnotator\n",
      "Step MentionsAnnotator initialized\n",
      "Initializing Step gather_step\n",
      "STEPPY WARNING: Step with name \"InputReader\", already exist. Make sure that all Steps have unique name.\n",
      "Step gather_step initialized\n",
      "Step gather_step, working in \"inference\" mode\n",
      "Step InputReader, working in \"inference\" mode\n",
      "Step InputReader, adapting inputs\n",
      "Step InputReader, transforming...\n",
      "Step InputReader, transforming completed\n",
      "Step InputReader, transform completed\n",
      "Step LabelSanitizer, working in \"inference\" mode\n",
      "Step LabelSanitizer, adapting inputs\n",
      "Step LabelSanitizer, transforming...\n",
      "Step LabelSanitizer, transforming completed\n",
      "Step LabelSanitizer, transform completed\n",
      "Step MentionsAnnotator, working in \"inference\" mode\n",
      "Step InputReader, working in \"inference\" mode\n",
      "Step InputReader, adapting inputs\n",
      "Step InputReader, transforming...\n",
      "Step InputReader, transforming completed\n",
      "Step InputReader, transform completed\n",
      "Step MentionsAnnotator, unpacking inputs\n",
      "Step MentionsAnnotator, transforming...\n"
     ]
    },
    {
     "name": "stdout",
     "output_type": "stream",
     "text": [
      "Transforming data to features.\n",
      "------BEFORE DATA PIPELINE------- results/probert\n",
      "Empty DataFrame\n",
      "Columns: [id, label]\n",
      "Index: []\n"
     ]
    },
    {
     "name": "stderr",
     "output_type": "stream",
     "text": [
      "Extracting coref clusters...: 100%|██████████| 1/1 [00:00<00:00, 710.06it/s]\n",
      "Step MentionsAnnotator, transforming completed\n",
      "Step MentionsAnnotator, transform completed\n",
      "Step gather_step, adapting inputs\n",
      "Step gather_step, transforming...\n",
      "Step gather_step, transforming completed\n",
      "Step gather_step, transform completed\n"
     ]
    },
    {
     "name": "stdout",
     "output_type": "stream",
     "text": [
      "Transforming data to features done.\n",
      " Log a couple of examples for sanity check.\n",
      "\n"
     ]
    },
    {
     "name": "stderr",
     "output_type": "stream",
     "text": [
      "Convert Examples to features: 1it [00:00, 252.90it/s]\n",
      "Evaluating:   0%|          | 0/1 [00:00<?, ?it/s]/dccstor/media-bias-4374/gender-ambiguity-detectors/gap/models/gap/probert.py:35: UserWarning: indexing with dtype torch.uint8 is now deprecated, please use a dtype torch.bool instead. (Triggered internally at  ../aten/src/ATen/native/IndexingUtils.h:28.)\n",
      "  sequence_output = sequence_output[~gpr_tags_mask].view(batch_size, -1, self.config.hidden_size)\n",
      "Evaluating: 100%|██████████| 1/1 [00:04<00:00,  4.23s/it]"
     ]
    },
    {
     "name": "stdout",
     "output_type": "stream",
     "text": [
      "[9.9930036e-01 6.9964718e-04]\n",
      "Known pronoun 'Her' resolves 'True' to 'Kathleen Nott' with a probability of '0.9993003606796265'\n"
     ]
    },
    {
     "name": "stderr",
     "output_type": "stream",
     "text": [
      "\n"
     ]
    },
    {
     "data": {
      "text/html": [
       "<div>\n",
       "<style scoped>\n",
       "    .dataframe tbody tr th:only-of-type {\n",
       "        vertical-align: middle;\n",
       "    }\n",
       "\n",
       "    .dataframe tbody tr th {\n",
       "        vertical-align: top;\n",
       "    }\n",
       "\n",
       "    .dataframe thead th {\n",
       "        text-align: right;\n",
       "    }\n",
       "</style>\n",
       "<table border=\"1\" class=\"dataframe\">\n",
       "  <thead>\n",
       "    <tr style=\"text-align: right;\">\n",
       "      <th></th>\n",
       "      <th>id</th>\n",
       "      <th>text</th>\n",
       "      <th>pronoun</th>\n",
       "      <th>pronoun_offset</th>\n",
       "      <th>a</th>\n",
       "      <th>a_offset</th>\n",
       "      <th>url</th>\n",
       "    </tr>\n",
       "  </thead>\n",
       "  <tbody>\n",
       "    <tr>\n",
       "      <th>0</th>\n",
       "      <td>na</td>\n",
       "      <td>Kathleen Nott was born in Camberwell, London. ...</td>\n",
       "      <td>Her</td>\n",
       "      <td>46</td>\n",
       "      <td>Philip</td>\n",
       "      <td>58</td>\n",
       "      <td>na</td>\n",
       "    </tr>\n",
       "  </tbody>\n",
       "</table>\n",
       "</div>"
      ],
      "text/plain": [
       "   id                                               text pronoun  \\\n",
       "0  na  Kathleen Nott was born in Camberwell, London. ...     Her   \n",
       "\n",
       "   pronoun_offset       a  a_offset url  \n",
       "0              46  Philip        58  na  "
      ]
     },
     "metadata": {},
     "output_type": "display_data"
    },
    {
     "name": "stderr",
     "output_type": "stream",
     "text": [
      "Initializing Step InputReader\n",
      "Step InputReader initialized\n",
      "Initializing Step LabelSanitizer\n",
      "Step LabelSanitizer initialized\n",
      "Initializing Step MentionsAnnotator\n",
      "Step MentionsAnnotator initialized\n",
      "Initializing Step gather_step\n",
      "STEPPY WARNING: Step with name \"InputReader\", already exist. Make sure that all Steps have unique name.\n",
      "Step gather_step initialized\n",
      "Step gather_step, working in \"inference\" mode\n",
      "Step InputReader, working in \"inference\" mode\n",
      "Step InputReader, adapting inputs\n",
      "Step InputReader, transforming...\n",
      "Step InputReader, transforming completed\n",
      "Step InputReader, transform completed\n",
      "Step LabelSanitizer, working in \"inference\" mode\n",
      "Step LabelSanitizer, adapting inputs\n",
      "Step LabelSanitizer, transforming...\n",
      "Step LabelSanitizer, transforming completed\n",
      "Step LabelSanitizer, transform completed\n",
      "Step MentionsAnnotator, working in \"inference\" mode\n",
      "Step InputReader, working in \"inference\" mode\n",
      "Step InputReader, adapting inputs\n",
      "Step InputReader, transforming...\n",
      "Step InputReader, transforming completed\n",
      "Step InputReader, transform completed\n",
      "Step MentionsAnnotator, unpacking inputs\n",
      "Step MentionsAnnotator, transforming...\n"
     ]
    },
    {
     "name": "stdout",
     "output_type": "stream",
     "text": [
      "Transforming data to features.\n",
      "------BEFORE DATA PIPELINE------- results/probert\n",
      "Empty DataFrame\n",
      "Columns: [id, label]\n",
      "Index: []\n"
     ]
    },
    {
     "name": "stderr",
     "output_type": "stream",
     "text": [
      "Extracting coref clusters...: 100%|██████████| 1/1 [00:00<00:00, 789.00it/s]\n",
      "Step MentionsAnnotator, transforming completed\n",
      "Step MentionsAnnotator, transform completed\n",
      "Step gather_step, adapting inputs\n",
      "Step gather_step, transforming...\n",
      "Step gather_step, transforming completed\n",
      "Step gather_step, transform completed\n"
     ]
    },
    {
     "name": "stdout",
     "output_type": "stream",
     "text": [
      "Transforming data to features done.\n",
      " Log a couple of examples for sanity check.\n",
      "\n"
     ]
    },
    {
     "name": "stderr",
     "output_type": "stream",
     "text": [
      "Convert Examples to features: 1it [00:00, 261.31it/s]\n",
      "Evaluating:   0%|          | 0/1 [00:00<?, ?it/s]/dccstor/media-bias-4374/gender-ambiguity-detectors/gap/models/gap/probert.py:35: UserWarning: indexing with dtype torch.uint8 is now deprecated, please use a dtype torch.bool instead. (Triggered internally at  ../aten/src/ATen/native/IndexingUtils.h:28.)\n",
      "  sequence_output = sequence_output[~gpr_tags_mask].view(batch_size, -1, self.config.hidden_size)\n",
      "Evaluating: 100%|██████████| 1/1 [00:04<00:00,  4.22s/it]"
     ]
    },
    {
     "name": "stdout",
     "output_type": "stream",
     "text": [
      "[0.00291311 0.99708694]\n",
      "Known pronoun 'Her' resolves 'False' to 'Philip' with a probability of '0.9970869421958923'\n"
     ]
    },
    {
     "name": "stderr",
     "output_type": "stream",
     "text": [
      "\n"
     ]
    },
    {
     "data": {
      "text/html": [
       "<div>\n",
       "<style scoped>\n",
       "    .dataframe tbody tr th:only-of-type {\n",
       "        vertical-align: middle;\n",
       "    }\n",
       "\n",
       "    .dataframe tbody tr th {\n",
       "        vertical-align: top;\n",
       "    }\n",
       "\n",
       "    .dataframe thead th {\n",
       "        text-align: right;\n",
       "    }\n",
       "</style>\n",
       "<table border=\"1\" class=\"dataframe\">\n",
       "  <thead>\n",
       "    <tr style=\"text-align: right;\">\n",
       "      <th></th>\n",
       "      <th>id</th>\n",
       "      <th>text</th>\n",
       "      <th>pronoun</th>\n",
       "      <th>pronoun_offset</th>\n",
       "      <th>a</th>\n",
       "      <th>a_offset</th>\n",
       "      <th>url</th>\n",
       "    </tr>\n",
       "  </thead>\n",
       "  <tbody>\n",
       "    <tr>\n",
       "      <th>0</th>\n",
       "      <td>na</td>\n",
       "      <td>Kathleen Nott was born in Camberwell, London. ...</td>\n",
       "      <td>Her</td>\n",
       "      <td>46</td>\n",
       "      <td>Ellen</td>\n",
       "      <td>110</td>\n",
       "      <td>na</td>\n",
       "    </tr>\n",
       "  </tbody>\n",
       "</table>\n",
       "</div>"
      ],
      "text/plain": [
       "   id                                               text pronoun  \\\n",
       "0  na  Kathleen Nott was born in Camberwell, London. ...     Her   \n",
       "\n",
       "   pronoun_offset      a  a_offset url  \n",
       "0              46  Ellen       110  na  "
      ]
     },
     "metadata": {},
     "output_type": "display_data"
    },
    {
     "name": "stderr",
     "output_type": "stream",
     "text": [
      "Initializing Step InputReader\n",
      "Step InputReader initialized\n",
      "Initializing Step LabelSanitizer\n",
      "Step LabelSanitizer initialized\n",
      "Initializing Step MentionsAnnotator\n",
      "Step MentionsAnnotator initialized\n",
      "Initializing Step gather_step\n",
      "STEPPY WARNING: Step with name \"InputReader\", already exist. Make sure that all Steps have unique name.\n",
      "Step gather_step initialized\n",
      "Step gather_step, working in \"inference\" mode\n",
      "Step InputReader, working in \"inference\" mode\n",
      "Step InputReader, adapting inputs\n",
      "Step InputReader, transforming...\n",
      "Step InputReader, transforming completed\n",
      "Step InputReader, transform completed\n",
      "Step LabelSanitizer, working in \"inference\" mode\n",
      "Step LabelSanitizer, adapting inputs\n",
      "Step LabelSanitizer, transforming...\n",
      "Step LabelSanitizer, transforming completed\n",
      "Step LabelSanitizer, transform completed\n",
      "Step MentionsAnnotator, working in \"inference\" mode\n",
      "Step InputReader, working in \"inference\" mode\n",
      "Step InputReader, adapting inputs\n",
      "Step InputReader, transforming...\n",
      "Step InputReader, transforming completed\n",
      "Step InputReader, transform completed\n",
      "Step MentionsAnnotator, unpacking inputs\n",
      "Step MentionsAnnotator, transforming...\n"
     ]
    },
    {
     "name": "stdout",
     "output_type": "stream",
     "text": [
      "Transforming data to features.\n",
      "------BEFORE DATA PIPELINE------- results/probert\n",
      "Empty DataFrame\n",
      "Columns: [id, label]\n",
      "Index: []\n"
     ]
    },
    {
     "name": "stderr",
     "output_type": "stream",
     "text": [
      "Extracting coref clusters...: 100%|██████████| 1/1 [00:00<00:00, 788.11it/s]\n",
      "Step MentionsAnnotator, transforming completed\n",
      "Step MentionsAnnotator, transform completed\n",
      "Step gather_step, adapting inputs\n",
      "Step gather_step, transforming...\n",
      "Step gather_step, transforming completed\n",
      "Step gather_step, transform completed\n"
     ]
    },
    {
     "name": "stdout",
     "output_type": "stream",
     "text": [
      "Transforming data to features done.\n",
      " Log a couple of examples for sanity check.\n",
      "\n"
     ]
    },
    {
     "name": "stderr",
     "output_type": "stream",
     "text": [
      "Convert Examples to features: 1it [00:00, 251.26it/s]\n",
      "Evaluating:   0%|          | 0/1 [00:00<?, ?it/s]/dccstor/media-bias-4374/gender-ambiguity-detectors/gap/models/gap/probert.py:35: UserWarning: indexing with dtype torch.uint8 is now deprecated, please use a dtype torch.bool instead. (Triggered internally at  ../aten/src/ATen/native/IndexingUtils.h:28.)\n",
      "  sequence_output = sequence_output[~gpr_tags_mask].view(batch_size, -1, self.config.hidden_size)\n",
      "Evaluating: 100%|██████████| 1/1 [00:04<00:00,  4.24s/it]"
     ]
    },
    {
     "name": "stdout",
     "output_type": "stream",
     "text": [
      "[0.00296704 0.997033  ]\n",
      "Known pronoun 'Her' resolves 'False' to 'Ellen' with a probability of '0.9970329999923706'\n"
     ]
    },
    {
     "name": "stderr",
     "output_type": "stream",
     "text": [
      "\n"
     ]
    },
    {
     "data": {
      "text/html": [
       "<div>\n",
       "<style scoped>\n",
       "    .dataframe tbody tr th:only-of-type {\n",
       "        vertical-align: middle;\n",
       "    }\n",
       "\n",
       "    .dataframe tbody tr th {\n",
       "        vertical-align: top;\n",
       "    }\n",
       "\n",
       "    .dataframe thead th {\n",
       "        text-align: right;\n",
       "    }\n",
       "</style>\n",
       "<table border=\"1\" class=\"dataframe\">\n",
       "  <thead>\n",
       "    <tr style=\"text-align: right;\">\n",
       "      <th></th>\n",
       "      <th>id</th>\n",
       "      <th>text</th>\n",
       "      <th>pronoun</th>\n",
       "      <th>pronoun_offset</th>\n",
       "      <th>a</th>\n",
       "      <th>a_offset</th>\n",
       "      <th>url</th>\n",
       "    </tr>\n",
       "  </thead>\n",
       "  <tbody>\n",
       "    <tr>\n",
       "      <th>0</th>\n",
       "      <td>na</td>\n",
       "      <td>Kathleen Nott was born in Camberwell, London. ...</td>\n",
       "      <td>Her</td>\n",
       "      <td>46</td>\n",
       "      <td>Kathleen</td>\n",
       "      <td>0</td>\n",
       "      <td>na</td>\n",
       "    </tr>\n",
       "  </tbody>\n",
       "</table>\n",
       "</div>"
      ],
      "text/plain": [
       "   id                                               text pronoun  \\\n",
       "0  na  Kathleen Nott was born in Camberwell, London. ...     Her   \n",
       "\n",
       "   pronoun_offset         a  a_offset url  \n",
       "0              46  Kathleen         0  na  "
      ]
     },
     "metadata": {},
     "output_type": "display_data"
    },
    {
     "name": "stderr",
     "output_type": "stream",
     "text": [
      "Initializing Step InputReader\n",
      "Step InputReader initialized\n",
      "Initializing Step LabelSanitizer\n",
      "Step LabelSanitizer initialized\n",
      "Initializing Step MentionsAnnotator\n",
      "Step MentionsAnnotator initialized\n",
      "Initializing Step gather_step\n",
      "STEPPY WARNING: Step with name \"InputReader\", already exist. Make sure that all Steps have unique name.\n",
      "Step gather_step initialized\n",
      "Step gather_step, working in \"inference\" mode\n",
      "Step InputReader, working in \"inference\" mode\n",
      "Step InputReader, adapting inputs\n",
      "Step InputReader, transforming...\n",
      "Step InputReader, transforming completed\n",
      "Step InputReader, transform completed\n",
      "Step LabelSanitizer, working in \"inference\" mode\n",
      "Step LabelSanitizer, adapting inputs\n",
      "Step LabelSanitizer, transforming...\n",
      "Step LabelSanitizer, transforming completed\n",
      "Step LabelSanitizer, transform completed\n",
      "Step MentionsAnnotator, working in \"inference\" mode\n",
      "Step InputReader, working in \"inference\" mode\n",
      "Step InputReader, adapting inputs\n",
      "Step InputReader, transforming...\n",
      "Step InputReader, transforming completed\n",
      "Step InputReader, transform completed\n",
      "Step MentionsAnnotator, unpacking inputs\n",
      "Step MentionsAnnotator, transforming...\n"
     ]
    },
    {
     "name": "stdout",
     "output_type": "stream",
     "text": [
      "Transforming data to features.\n",
      "------BEFORE DATA PIPELINE------- results/probert\n",
      "Empty DataFrame\n",
      "Columns: [id, label]\n",
      "Index: []\n"
     ]
    },
    {
     "name": "stderr",
     "output_type": "stream",
     "text": [
      "Extracting coref clusters...: 100%|██████████| 1/1 [00:00<00:00, 789.89it/s]\n",
      "Step MentionsAnnotator, transforming completed\n",
      "Step MentionsAnnotator, transform completed\n",
      "Step gather_step, adapting inputs\n",
      "Step gather_step, transforming...\n",
      "Step gather_step, transforming completed\n",
      "Step gather_step, transform completed\n"
     ]
    },
    {
     "name": "stdout",
     "output_type": "stream",
     "text": [
      "Transforming data to features done.\n",
      " Log a couple of examples for sanity check.\n",
      "\n"
     ]
    },
    {
     "name": "stderr",
     "output_type": "stream",
     "text": [
      "Convert Examples to features: 1it [00:00, 291.49it/s]\n",
      "Evaluating:   0%|          | 0/1 [00:00<?, ?it/s]/dccstor/media-bias-4374/gender-ambiguity-detectors/gap/models/gap/probert.py:35: UserWarning: indexing with dtype torch.uint8 is now deprecated, please use a dtype torch.bool instead. (Triggered internally at  ../aten/src/ATen/native/IndexingUtils.h:28.)\n",
      "  sequence_output = sequence_output[~gpr_tags_mask].view(batch_size, -1, self.config.hidden_size)\n",
      "Evaluating: 100%|██████████| 1/1 [00:04<00:00,  4.58s/it]"
     ]
    },
    {
     "name": "stdout",
     "output_type": "stream",
     "text": [
      "[9.991968e-01 8.032118e-04]\n",
      "Known pronoun 'Her' resolves 'True' to 'Kathleen' with a probability of '0.9991968274116516'\n"
     ]
    },
    {
     "name": "stderr",
     "output_type": "stream",
     "text": [
      "\n"
     ]
    },
    {
     "data": {
      "text/html": [
       "<div>\n",
       "<style scoped>\n",
       "    .dataframe tbody tr th:only-of-type {\n",
       "        vertical-align: middle;\n",
       "    }\n",
       "\n",
       "    .dataframe tbody tr th {\n",
       "        vertical-align: top;\n",
       "    }\n",
       "\n",
       "    .dataframe thead th {\n",
       "        text-align: right;\n",
       "    }\n",
       "</style>\n",
       "<table border=\"1\" class=\"dataframe\">\n",
       "  <thead>\n",
       "    <tr style=\"text-align: right;\">\n",
       "      <th></th>\n",
       "      <th>id</th>\n",
       "      <th>text</th>\n",
       "      <th>pronoun</th>\n",
       "      <th>pronoun_offset</th>\n",
       "      <th>a</th>\n",
       "      <th>a_offset</th>\n",
       "      <th>url</th>\n",
       "    </tr>\n",
       "  </thead>\n",
       "  <tbody>\n",
       "    <tr>\n",
       "      <th>0</th>\n",
       "      <td>na</td>\n",
       "      <td>Kathleen Nott was born in Camberwell, London. ...</td>\n",
       "      <td>Her</td>\n",
       "      <td>46</td>\n",
       "      <td>Kathleen</td>\n",
       "      <td>150</td>\n",
       "      <td>na</td>\n",
       "    </tr>\n",
       "  </tbody>\n",
       "</table>\n",
       "</div>"
      ],
      "text/plain": [
       "   id                                               text pronoun  \\\n",
       "0  na  Kathleen Nott was born in Camberwell, London. ...     Her   \n",
       "\n",
       "   pronoun_offset         a  a_offset url  \n",
       "0              46  Kathleen       150  na  "
      ]
     },
     "metadata": {},
     "output_type": "display_data"
    },
    {
     "name": "stderr",
     "output_type": "stream",
     "text": [
      "Initializing Step InputReader\n",
      "Step InputReader initialized\n",
      "Initializing Step LabelSanitizer\n",
      "Step LabelSanitizer initialized\n",
      "Initializing Step MentionsAnnotator\n",
      "Step MentionsAnnotator initialized\n",
      "Initializing Step gather_step\n",
      "STEPPY WARNING: Step with name \"InputReader\", already exist. Make sure that all Steps have unique name.\n",
      "Step gather_step initialized\n",
      "Step gather_step, working in \"inference\" mode\n",
      "Step InputReader, working in \"inference\" mode\n",
      "Step InputReader, adapting inputs\n",
      "Step InputReader, transforming...\n",
      "Step InputReader, transforming completed\n",
      "Step InputReader, transform completed\n",
      "Step LabelSanitizer, working in \"inference\" mode\n",
      "Step LabelSanitizer, adapting inputs\n",
      "Step LabelSanitizer, transforming...\n",
      "Step LabelSanitizer, transforming completed\n",
      "Step LabelSanitizer, transform completed\n",
      "Step MentionsAnnotator, working in \"inference\" mode\n",
      "Step InputReader, working in \"inference\" mode\n",
      "Step InputReader, adapting inputs\n",
      "Step InputReader, transforming...\n",
      "Step InputReader, transforming completed\n",
      "Step InputReader, transform completed\n",
      "Step MentionsAnnotator, unpacking inputs\n",
      "Step MentionsAnnotator, transforming...\n"
     ]
    },
    {
     "name": "stdout",
     "output_type": "stream",
     "text": [
      "Transforming data to features.\n",
      "------BEFORE DATA PIPELINE------- results/probert\n",
      "Empty DataFrame\n",
      "Columns: [id, label]\n",
      "Index: []\n"
     ]
    },
    {
     "name": "stderr",
     "output_type": "stream",
     "text": [
      "Extracting coref clusters...: 100%|██████████| 1/1 [00:00<00:00, 707.78it/s]\n",
      "Step MentionsAnnotator, transforming completed\n",
      "Step MentionsAnnotator, transform completed\n",
      "Step gather_step, adapting inputs\n",
      "Step gather_step, transforming...\n",
      "Step gather_step, transforming completed\n",
      "Step gather_step, transform completed\n"
     ]
    },
    {
     "name": "stdout",
     "output_type": "stream",
     "text": [
      "Transforming data to features done.\n",
      " Log a couple of examples for sanity check.\n",
      "\n"
     ]
    },
    {
     "name": "stderr",
     "output_type": "stream",
     "text": [
      "Convert Examples to features: 1it [00:00, 272.25it/s]\n",
      "Evaluating:   0%|          | 0/1 [00:00<?, ?it/s]/dccstor/media-bias-4374/gender-ambiguity-detectors/gap/models/gap/probert.py:35: UserWarning: indexing with dtype torch.uint8 is now deprecated, please use a dtype torch.bool instead. (Triggered internally at  ../aten/src/ATen/native/IndexingUtils.h:28.)\n",
      "  sequence_output = sequence_output[~gpr_tags_mask].view(batch_size, -1, self.config.hidden_size)\n",
      "Evaluating: 100%|██████████| 1/1 [00:04<00:00,  4.24s/it]"
     ]
    },
    {
     "name": "stdout",
     "output_type": "stream",
     "text": [
      "[0.9960989  0.00390116]\n",
      "Known pronoun 'Her' resolves 'True' to 'Kathleen' with a probability of '0.9960988759994507'\n"
     ]
    },
    {
     "name": "stderr",
     "output_type": "stream",
     "text": [
      "\n"
     ]
    },
    {
     "data": {
      "text/html": [
       "<div>\n",
       "<style scoped>\n",
       "    .dataframe tbody tr th:only-of-type {\n",
       "        vertical-align: middle;\n",
       "    }\n",
       "\n",
       "    .dataframe tbody tr th {\n",
       "        vertical-align: top;\n",
       "    }\n",
       "\n",
       "    .dataframe thead th {\n",
       "        text-align: right;\n",
       "    }\n",
       "</style>\n",
       "<table border=\"1\" class=\"dataframe\">\n",
       "  <thead>\n",
       "    <tr style=\"text-align: right;\">\n",
       "      <th></th>\n",
       "      <th>id</th>\n",
       "      <th>text</th>\n",
       "      <th>pronoun</th>\n",
       "      <th>pronoun_offset</th>\n",
       "      <th>a</th>\n",
       "      <th>a_offset</th>\n",
       "      <th>url</th>\n",
       "    </tr>\n",
       "  </thead>\n",
       "  <tbody>\n",
       "    <tr>\n",
       "      <th>0</th>\n",
       "      <td>na</td>\n",
       "      <td>Kathleen Nott was born in Camberwell, London. ...</td>\n",
       "      <td>her</td>\n",
       "      <td>53</td>\n",
       "      <td>Kathleen Nott</td>\n",
       "      <td>0</td>\n",
       "      <td>na</td>\n",
       "    </tr>\n",
       "  </tbody>\n",
       "</table>\n",
       "</div>"
      ],
      "text/plain": [
       "   id                                               text pronoun  \\\n",
       "0  na  Kathleen Nott was born in Camberwell, London. ...     her   \n",
       "\n",
       "   pronoun_offset              a  a_offset url  \n",
       "0              53  Kathleen Nott         0  na  "
      ]
     },
     "metadata": {},
     "output_type": "display_data"
    },
    {
     "name": "stderr",
     "output_type": "stream",
     "text": [
      "Initializing Step InputReader\n",
      "Step InputReader initialized\n",
      "Initializing Step LabelSanitizer\n",
      "Step LabelSanitizer initialized\n",
      "Initializing Step MentionsAnnotator\n",
      "Step MentionsAnnotator initialized\n",
      "Initializing Step gather_step\n",
      "STEPPY WARNING: Step with name \"InputReader\", already exist. Make sure that all Steps have unique name.\n",
      "Step gather_step initialized\n",
      "Step gather_step, working in \"inference\" mode\n",
      "Step InputReader, working in \"inference\" mode\n",
      "Step InputReader, adapting inputs\n",
      "Step InputReader, transforming...\n",
      "Step InputReader, transforming completed\n",
      "Step InputReader, transform completed\n",
      "Step LabelSanitizer, working in \"inference\" mode\n",
      "Step LabelSanitizer, adapting inputs\n",
      "Step LabelSanitizer, transforming...\n",
      "Step LabelSanitizer, transforming completed\n",
      "Step LabelSanitizer, transform completed\n",
      "Step MentionsAnnotator, working in \"inference\" mode\n",
      "Step InputReader, working in \"inference\" mode\n",
      "Step InputReader, adapting inputs\n",
      "Step InputReader, transforming...\n",
      "Step InputReader, transforming completed\n",
      "Step InputReader, transform completed\n",
      "Step MentionsAnnotator, unpacking inputs\n",
      "Step MentionsAnnotator, transforming...\n"
     ]
    },
    {
     "name": "stdout",
     "output_type": "stream",
     "text": [
      "Transforming data to features.\n",
      "------BEFORE DATA PIPELINE------- results/probert\n",
      "Empty DataFrame\n",
      "Columns: [id, label]\n",
      "Index: []\n"
     ]
    },
    {
     "name": "stderr",
     "output_type": "stream",
     "text": [
      "Extracting coref clusters...: 100%|██████████| 1/1 [00:00<00:00, 762.60it/s]\n",
      "Step MentionsAnnotator, transforming completed\n",
      "Step MentionsAnnotator, transform completed\n",
      "Step gather_step, adapting inputs\n",
      "Step gather_step, transforming...\n",
      "Step gather_step, transforming completed\n",
      "Step gather_step, transform completed\n"
     ]
    },
    {
     "name": "stdout",
     "output_type": "stream",
     "text": [
      "Transforming data to features done.\n",
      " Log a couple of examples for sanity check.\n",
      "\n"
     ]
    },
    {
     "name": "stderr",
     "output_type": "stream",
     "text": [
      "Convert Examples to features: 1it [00:00, 260.76it/s]\n",
      "Evaluating:   0%|          | 0/1 [00:00<?, ?it/s]/dccstor/media-bias-4374/gender-ambiguity-detectors/gap/models/gap/probert.py:35: UserWarning: indexing with dtype torch.uint8 is now deprecated, please use a dtype torch.bool instead. (Triggered internally at  ../aten/src/ATen/native/IndexingUtils.h:28.)\n",
      "  sequence_output = sequence_output[~gpr_tags_mask].view(batch_size, -1, self.config.hidden_size)\n",
      "Evaluating: 100%|██████████| 1/1 [00:04<00:00,  4.27s/it]"
     ]
    },
    {
     "name": "stdout",
     "output_type": "stream",
     "text": [
      "[0.97917753 0.02082244]\n",
      "Known pronoun 'her' resolves 'True' to 'Kathleen Nott' with a probability of '0.9791775345802307'\n"
     ]
    },
    {
     "name": "stderr",
     "output_type": "stream",
     "text": [
      "\n"
     ]
    },
    {
     "data": {
      "text/html": [
       "<div>\n",
       "<style scoped>\n",
       "    .dataframe tbody tr th:only-of-type {\n",
       "        vertical-align: middle;\n",
       "    }\n",
       "\n",
       "    .dataframe tbody tr th {\n",
       "        vertical-align: top;\n",
       "    }\n",
       "\n",
       "    .dataframe thead th {\n",
       "        text-align: right;\n",
       "    }\n",
       "</style>\n",
       "<table border=\"1\" class=\"dataframe\">\n",
       "  <thead>\n",
       "    <tr style=\"text-align: right;\">\n",
       "      <th></th>\n",
       "      <th>id</th>\n",
       "      <th>text</th>\n",
       "      <th>pronoun</th>\n",
       "      <th>pronoun_offset</th>\n",
       "      <th>a</th>\n",
       "      <th>a_offset</th>\n",
       "      <th>url</th>\n",
       "    </tr>\n",
       "  </thead>\n",
       "  <tbody>\n",
       "    <tr>\n",
       "      <th>0</th>\n",
       "      <td>na</td>\n",
       "      <td>Kathleen Nott was born in Camberwell, London. ...</td>\n",
       "      <td>her</td>\n",
       "      <td>53</td>\n",
       "      <td>Philip</td>\n",
       "      <td>58</td>\n",
       "      <td>na</td>\n",
       "    </tr>\n",
       "  </tbody>\n",
       "</table>\n",
       "</div>"
      ],
      "text/plain": [
       "   id                                               text pronoun  \\\n",
       "0  na  Kathleen Nott was born in Camberwell, London. ...     her   \n",
       "\n",
       "   pronoun_offset       a  a_offset url  \n",
       "0              53  Philip        58  na  "
      ]
     },
     "metadata": {},
     "output_type": "display_data"
    },
    {
     "name": "stderr",
     "output_type": "stream",
     "text": [
      "Initializing Step InputReader\n",
      "Step InputReader initialized\n",
      "Initializing Step LabelSanitizer\n",
      "Step LabelSanitizer initialized\n",
      "Initializing Step MentionsAnnotator\n",
      "Step MentionsAnnotator initialized\n",
      "Initializing Step gather_step\n",
      "STEPPY WARNING: Step with name \"InputReader\", already exist. Make sure that all Steps have unique name.\n",
      "Step gather_step initialized\n",
      "Step gather_step, working in \"inference\" mode\n",
      "Step InputReader, working in \"inference\" mode\n",
      "Step InputReader, adapting inputs\n",
      "Step InputReader, transforming...\n",
      "Step InputReader, transforming completed\n",
      "Step InputReader, transform completed\n",
      "Step LabelSanitizer, working in \"inference\" mode\n",
      "Step LabelSanitizer, adapting inputs\n",
      "Step LabelSanitizer, transforming...\n",
      "Step LabelSanitizer, transforming completed\n",
      "Step LabelSanitizer, transform completed\n",
      "Step MentionsAnnotator, working in \"inference\" mode\n",
      "Step InputReader, working in \"inference\" mode\n",
      "Step InputReader, adapting inputs\n",
      "Step InputReader, transforming...\n",
      "Step InputReader, transforming completed\n",
      "Step InputReader, transform completed\n",
      "Step MentionsAnnotator, unpacking inputs\n",
      "Step MentionsAnnotator, transforming...\n"
     ]
    },
    {
     "name": "stdout",
     "output_type": "stream",
     "text": [
      "Transforming data to features.\n",
      "------BEFORE DATA PIPELINE------- results/probert\n",
      "Empty DataFrame\n",
      "Columns: [id, label]\n",
      "Index: []\n"
     ]
    },
    {
     "name": "stderr",
     "output_type": "stream",
     "text": [
      "Extracting coref clusters...: 100%|██████████| 1/1 [00:00<00:00, 694.08it/s]\n",
      "Step MentionsAnnotator, transforming completed\n",
      "Step MentionsAnnotator, transform completed\n",
      "Step gather_step, adapting inputs\n",
      "Step gather_step, transforming...\n",
      "Step gather_step, transforming completed\n",
      "Step gather_step, transform completed\n"
     ]
    },
    {
     "name": "stdout",
     "output_type": "stream",
     "text": [
      "Transforming data to features done.\n",
      " Log a couple of examples for sanity check.\n",
      "\n"
     ]
    },
    {
     "name": "stderr",
     "output_type": "stream",
     "text": [
      "Convert Examples to features: 1it [00:00, 262.77it/s]\n",
      "Evaluating:   0%|          | 0/1 [00:00<?, ?it/s]/dccstor/media-bias-4374/gender-ambiguity-detectors/gap/models/gap/probert.py:35: UserWarning: indexing with dtype torch.uint8 is now deprecated, please use a dtype torch.bool instead. (Triggered internally at  ../aten/src/ATen/native/IndexingUtils.h:28.)\n",
      "  sequence_output = sequence_output[~gpr_tags_mask].view(batch_size, -1, self.config.hidden_size)\n",
      "Evaluating: 100%|██████████| 1/1 [00:04<00:00,  4.24s/it]"
     ]
    },
    {
     "name": "stdout",
     "output_type": "stream",
     "text": [
      "[0.00628561 0.9937144 ]\n",
      "Known pronoun 'her' resolves 'False' to 'Philip' with a probability of '0.9937143921852112'\n"
     ]
    },
    {
     "name": "stderr",
     "output_type": "stream",
     "text": [
      "\n"
     ]
    },
    {
     "data": {
      "text/html": [
       "<div>\n",
       "<style scoped>\n",
       "    .dataframe tbody tr th:only-of-type {\n",
       "        vertical-align: middle;\n",
       "    }\n",
       "\n",
       "    .dataframe tbody tr th {\n",
       "        vertical-align: top;\n",
       "    }\n",
       "\n",
       "    .dataframe thead th {\n",
       "        text-align: right;\n",
       "    }\n",
       "</style>\n",
       "<table border=\"1\" class=\"dataframe\">\n",
       "  <thead>\n",
       "    <tr style=\"text-align: right;\">\n",
       "      <th></th>\n",
       "      <th>id</th>\n",
       "      <th>text</th>\n",
       "      <th>pronoun</th>\n",
       "      <th>pronoun_offset</th>\n",
       "      <th>a</th>\n",
       "      <th>a_offset</th>\n",
       "      <th>url</th>\n",
       "    </tr>\n",
       "  </thead>\n",
       "  <tbody>\n",
       "    <tr>\n",
       "      <th>0</th>\n",
       "      <td>na</td>\n",
       "      <td>Kathleen Nott was born in Camberwell, London. ...</td>\n",
       "      <td>her</td>\n",
       "      <td>53</td>\n",
       "      <td>Ellen</td>\n",
       "      <td>110</td>\n",
       "      <td>na</td>\n",
       "    </tr>\n",
       "  </tbody>\n",
       "</table>\n",
       "</div>"
      ],
      "text/plain": [
       "   id                                               text pronoun  \\\n",
       "0  na  Kathleen Nott was born in Camberwell, London. ...     her   \n",
       "\n",
       "   pronoun_offset      a  a_offset url  \n",
       "0              53  Ellen       110  na  "
      ]
     },
     "metadata": {},
     "output_type": "display_data"
    },
    {
     "name": "stderr",
     "output_type": "stream",
     "text": [
      "Initializing Step InputReader\n",
      "Step InputReader initialized\n",
      "Initializing Step LabelSanitizer\n",
      "Step LabelSanitizer initialized\n",
      "Initializing Step MentionsAnnotator\n",
      "Step MentionsAnnotator initialized\n",
      "Initializing Step gather_step\n",
      "STEPPY WARNING: Step with name \"InputReader\", already exist. Make sure that all Steps have unique name.\n",
      "Step gather_step initialized\n",
      "Step gather_step, working in \"inference\" mode\n",
      "Step InputReader, working in \"inference\" mode\n",
      "Step InputReader, adapting inputs\n",
      "Step InputReader, transforming...\n",
      "Step InputReader, transforming completed\n",
      "Step InputReader, transform completed\n",
      "Step LabelSanitizer, working in \"inference\" mode\n",
      "Step LabelSanitizer, adapting inputs\n",
      "Step LabelSanitizer, transforming...\n",
      "Step LabelSanitizer, transforming completed\n",
      "Step LabelSanitizer, transform completed\n",
      "Step MentionsAnnotator, working in \"inference\" mode\n",
      "Step InputReader, working in \"inference\" mode\n",
      "Step InputReader, adapting inputs\n",
      "Step InputReader, transforming...\n",
      "Step InputReader, transforming completed\n",
      "Step InputReader, transform completed\n",
      "Step MentionsAnnotator, unpacking inputs\n",
      "Step MentionsAnnotator, transforming...\n"
     ]
    },
    {
     "name": "stdout",
     "output_type": "stream",
     "text": [
      "Transforming data to features.\n",
      "------BEFORE DATA PIPELINE------- results/probert\n",
      "Empty DataFrame\n",
      "Columns: [id, label]\n",
      "Index: []\n"
     ]
    },
    {
     "name": "stderr",
     "output_type": "stream",
     "text": [
      "Extracting coref clusters...: 100%|██████████| 1/1 [00:00<00:00, 591.08it/s]\n",
      "Step MentionsAnnotator, transforming completed\n",
      "Step MentionsAnnotator, transform completed\n",
      "Step gather_step, adapting inputs\n",
      "Step gather_step, transforming...\n",
      "Step gather_step, transforming completed\n",
      "Step gather_step, transform completed\n"
     ]
    },
    {
     "name": "stdout",
     "output_type": "stream",
     "text": [
      "Transforming data to features done.\n",
      " Log a couple of examples for sanity check.\n",
      "\n"
     ]
    },
    {
     "name": "stderr",
     "output_type": "stream",
     "text": [
      "Convert Examples to features: 1it [00:00, 287.22it/s]\n",
      "Evaluating:   0%|          | 0/1 [00:00<?, ?it/s]/dccstor/media-bias-4374/gender-ambiguity-detectors/gap/models/gap/probert.py:35: UserWarning: indexing with dtype torch.uint8 is now deprecated, please use a dtype torch.bool instead. (Triggered internally at  ../aten/src/ATen/native/IndexingUtils.h:28.)\n",
      "  sequence_output = sequence_output[~gpr_tags_mask].view(batch_size, -1, self.config.hidden_size)\n",
      "Evaluating: 100%|██████████| 1/1 [00:04<00:00,  4.20s/it]"
     ]
    },
    {
     "name": "stdout",
     "output_type": "stream",
     "text": [
      "[0.00676274 0.9932373 ]\n",
      "Known pronoun 'her' resolves 'False' to 'Ellen' with a probability of '0.993237316608429'\n"
     ]
    },
    {
     "name": "stderr",
     "output_type": "stream",
     "text": [
      "\n"
     ]
    },
    {
     "data": {
      "text/html": [
       "<div>\n",
       "<style scoped>\n",
       "    .dataframe tbody tr th:only-of-type {\n",
       "        vertical-align: middle;\n",
       "    }\n",
       "\n",
       "    .dataframe tbody tr th {\n",
       "        vertical-align: top;\n",
       "    }\n",
       "\n",
       "    .dataframe thead th {\n",
       "        text-align: right;\n",
       "    }\n",
       "</style>\n",
       "<table border=\"1\" class=\"dataframe\">\n",
       "  <thead>\n",
       "    <tr style=\"text-align: right;\">\n",
       "      <th></th>\n",
       "      <th>id</th>\n",
       "      <th>text</th>\n",
       "      <th>pronoun</th>\n",
       "      <th>pronoun_offset</th>\n",
       "      <th>a</th>\n",
       "      <th>a_offset</th>\n",
       "      <th>url</th>\n",
       "    </tr>\n",
       "  </thead>\n",
       "  <tbody>\n",
       "    <tr>\n",
       "      <th>0</th>\n",
       "      <td>na</td>\n",
       "      <td>Kathleen Nott was born in Camberwell, London. ...</td>\n",
       "      <td>her</td>\n",
       "      <td>53</td>\n",
       "      <td>Kathleen</td>\n",
       "      <td>0</td>\n",
       "      <td>na</td>\n",
       "    </tr>\n",
       "  </tbody>\n",
       "</table>\n",
       "</div>"
      ],
      "text/plain": [
       "   id                                               text pronoun  \\\n",
       "0  na  Kathleen Nott was born in Camberwell, London. ...     her   \n",
       "\n",
       "   pronoun_offset         a  a_offset url  \n",
       "0              53  Kathleen         0  na  "
      ]
     },
     "metadata": {},
     "output_type": "display_data"
    },
    {
     "name": "stderr",
     "output_type": "stream",
     "text": [
      "Initializing Step InputReader\n",
      "Step InputReader initialized\n",
      "Initializing Step LabelSanitizer\n",
      "Step LabelSanitizer initialized\n",
      "Initializing Step MentionsAnnotator\n",
      "Step MentionsAnnotator initialized\n",
      "Initializing Step gather_step\n",
      "STEPPY WARNING: Step with name \"InputReader\", already exist. Make sure that all Steps have unique name.\n",
      "Step gather_step initialized\n",
      "Step gather_step, working in \"inference\" mode\n",
      "Step InputReader, working in \"inference\" mode\n",
      "Step InputReader, adapting inputs\n",
      "Step InputReader, transforming...\n",
      "Step InputReader, transforming completed\n",
      "Step InputReader, transform completed\n",
      "Step LabelSanitizer, working in \"inference\" mode\n",
      "Step LabelSanitizer, adapting inputs\n",
      "Step LabelSanitizer, transforming...\n",
      "Step LabelSanitizer, transforming completed\n",
      "Step LabelSanitizer, transform completed\n",
      "Step MentionsAnnotator, working in \"inference\" mode\n",
      "Step InputReader, working in \"inference\" mode\n",
      "Step InputReader, adapting inputs\n",
      "Step InputReader, transforming...\n",
      "Step InputReader, transforming completed\n",
      "Step InputReader, transform completed\n",
      "Step MentionsAnnotator, unpacking inputs\n",
      "Step MentionsAnnotator, transforming...\n"
     ]
    },
    {
     "name": "stdout",
     "output_type": "stream",
     "text": [
      "Transforming data to features.\n",
      "------BEFORE DATA PIPELINE------- results/probert\n",
      "Empty DataFrame\n",
      "Columns: [id, label]\n",
      "Index: []\n"
     ]
    },
    {
     "name": "stderr",
     "output_type": "stream",
     "text": [
      "Extracting coref clusters...: 100%|██████████| 1/1 [00:00<00:00, 766.08it/s]\n",
      "Step MentionsAnnotator, transforming completed\n",
      "Step MentionsAnnotator, transform completed\n",
      "Step gather_step, adapting inputs\n",
      "Step gather_step, transforming...\n",
      "Step gather_step, transforming completed\n",
      "Step gather_step, transform completed\n"
     ]
    },
    {
     "name": "stdout",
     "output_type": "stream",
     "text": [
      "Transforming data to features done.\n",
      " Log a couple of examples for sanity check.\n",
      "\n"
     ]
    },
    {
     "name": "stderr",
     "output_type": "stream",
     "text": [
      "Convert Examples to features: 1it [00:00, 305.60it/s]\n",
      "Evaluating:   0%|          | 0/1 [00:00<?, ?it/s]/dccstor/media-bias-4374/gender-ambiguity-detectors/gap/models/gap/probert.py:35: UserWarning: indexing with dtype torch.uint8 is now deprecated, please use a dtype torch.bool instead. (Triggered internally at  ../aten/src/ATen/native/IndexingUtils.h:28.)\n",
      "  sequence_output = sequence_output[~gpr_tags_mask].view(batch_size, -1, self.config.hidden_size)\n",
      "Evaluating: 100%|██████████| 1/1 [00:04<00:00,  4.29s/it]"
     ]
    },
    {
     "name": "stdout",
     "output_type": "stream",
     "text": [
      "[0.9633703  0.03662963]\n",
      "Known pronoun 'her' resolves 'True' to 'Kathleen' with a probability of '0.9633703231811523'\n"
     ]
    },
    {
     "name": "stderr",
     "output_type": "stream",
     "text": [
      "\n"
     ]
    },
    {
     "data": {
      "text/html": [
       "<div>\n",
       "<style scoped>\n",
       "    .dataframe tbody tr th:only-of-type {\n",
       "        vertical-align: middle;\n",
       "    }\n",
       "\n",
       "    .dataframe tbody tr th {\n",
       "        vertical-align: top;\n",
       "    }\n",
       "\n",
       "    .dataframe thead th {\n",
       "        text-align: right;\n",
       "    }\n",
       "</style>\n",
       "<table border=\"1\" class=\"dataframe\">\n",
       "  <thead>\n",
       "    <tr style=\"text-align: right;\">\n",
       "      <th></th>\n",
       "      <th>id</th>\n",
       "      <th>text</th>\n",
       "      <th>pronoun</th>\n",
       "      <th>pronoun_offset</th>\n",
       "      <th>a</th>\n",
       "      <th>a_offset</th>\n",
       "      <th>url</th>\n",
       "    </tr>\n",
       "  </thead>\n",
       "  <tbody>\n",
       "    <tr>\n",
       "      <th>0</th>\n",
       "      <td>na</td>\n",
       "      <td>Kathleen Nott was born in Camberwell, London. ...</td>\n",
       "      <td>her</td>\n",
       "      <td>53</td>\n",
       "      <td>Kathleen</td>\n",
       "      <td>150</td>\n",
       "      <td>na</td>\n",
       "    </tr>\n",
       "  </tbody>\n",
       "</table>\n",
       "</div>"
      ],
      "text/plain": [
       "   id                                               text pronoun  \\\n",
       "0  na  Kathleen Nott was born in Camberwell, London. ...     her   \n",
       "\n",
       "   pronoun_offset         a  a_offset url  \n",
       "0              53  Kathleen       150  na  "
      ]
     },
     "metadata": {},
     "output_type": "display_data"
    },
    {
     "name": "stderr",
     "output_type": "stream",
     "text": [
      "Initializing Step InputReader\n",
      "Step InputReader initialized\n",
      "Initializing Step LabelSanitizer\n",
      "Step LabelSanitizer initialized\n",
      "Initializing Step MentionsAnnotator\n",
      "Step MentionsAnnotator initialized\n",
      "Initializing Step gather_step\n",
      "STEPPY WARNING: Step with name \"InputReader\", already exist. Make sure that all Steps have unique name.\n",
      "Step gather_step initialized\n",
      "Step gather_step, working in \"inference\" mode\n",
      "Step InputReader, working in \"inference\" mode\n",
      "Step InputReader, adapting inputs\n",
      "Step InputReader, transforming...\n",
      "Step InputReader, transforming completed\n",
      "Step InputReader, transform completed\n",
      "Step LabelSanitizer, working in \"inference\" mode\n",
      "Step LabelSanitizer, adapting inputs\n",
      "Step LabelSanitizer, transforming...\n",
      "Step LabelSanitizer, transforming completed\n",
      "Step LabelSanitizer, transform completed\n",
      "Step MentionsAnnotator, working in \"inference\" mode\n",
      "Step InputReader, working in \"inference\" mode\n",
      "Step InputReader, adapting inputs\n",
      "Step InputReader, transforming...\n",
      "Step InputReader, transforming completed\n",
      "Step InputReader, transform completed\n",
      "Step MentionsAnnotator, unpacking inputs\n",
      "Step MentionsAnnotator, transforming...\n"
     ]
    },
    {
     "name": "stdout",
     "output_type": "stream",
     "text": [
      "Transforming data to features.\n",
      "------BEFORE DATA PIPELINE------- results/probert\n",
      "Empty DataFrame\n",
      "Columns: [id, label]\n",
      "Index: []\n"
     ]
    },
    {
     "name": "stderr",
     "output_type": "stream",
     "text": [
      "Extracting coref clusters...: 100%|██████████| 1/1 [00:00<00:00, 811.59it/s]\n",
      "Step MentionsAnnotator, transforming completed\n",
      "Step MentionsAnnotator, transform completed\n",
      "Step gather_step, adapting inputs\n",
      "Step gather_step, transforming...\n",
      "Step gather_step, transforming completed\n",
      "Step gather_step, transform completed\n"
     ]
    },
    {
     "name": "stdout",
     "output_type": "stream",
     "text": [
      "Transforming data to features done.\n",
      " Log a couple of examples for sanity check.\n",
      "\n"
     ]
    },
    {
     "name": "stderr",
     "output_type": "stream",
     "text": [
      "Convert Examples to features: 1it [00:00, 302.27it/s]\n",
      "Evaluating:   0%|          | 0/1 [00:00<?, ?it/s]/dccstor/media-bias-4374/gender-ambiguity-detectors/gap/models/gap/probert.py:35: UserWarning: indexing with dtype torch.uint8 is now deprecated, please use a dtype torch.bool instead. (Triggered internally at  ../aten/src/ATen/native/IndexingUtils.h:28.)\n",
      "  sequence_output = sequence_output[~gpr_tags_mask].view(batch_size, -1, self.config.hidden_size)\n",
      "Evaluating: 100%|██████████| 1/1 [00:04<00:00,  4.38s/it]"
     ]
    },
    {
     "name": "stdout",
     "output_type": "stream",
     "text": [
      "[0.88354933 0.11645074]\n",
      "Known pronoun 'her' resolves 'True' to 'Kathleen' with a probability of '0.8835493326187134'\n"
     ]
    },
    {
     "name": "stderr",
     "output_type": "stream",
     "text": [
      "\n"
     ]
    },
    {
     "data": {
      "text/html": [
       "<div>\n",
       "<style scoped>\n",
       "    .dataframe tbody tr th:only-of-type {\n",
       "        vertical-align: middle;\n",
       "    }\n",
       "\n",
       "    .dataframe tbody tr th {\n",
       "        vertical-align: top;\n",
       "    }\n",
       "\n",
       "    .dataframe thead th {\n",
       "        text-align: right;\n",
       "    }\n",
       "</style>\n",
       "<table border=\"1\" class=\"dataframe\">\n",
       "  <thead>\n",
       "    <tr style=\"text-align: right;\">\n",
       "      <th></th>\n",
       "      <th>id</th>\n",
       "      <th>text</th>\n",
       "      <th>pronoun</th>\n",
       "      <th>pronoun_offset</th>\n",
       "      <th>a</th>\n",
       "      <th>a_offset</th>\n",
       "      <th>url</th>\n",
       "    </tr>\n",
       "  </thead>\n",
       "  <tbody>\n",
       "    <tr>\n",
       "      <th>0</th>\n",
       "      <td>na</td>\n",
       "      <td>Kathleen Nott was born in Camberwell, London. ...</td>\n",
       "      <td>her</td>\n",
       "      <td>98</td>\n",
       "      <td>Kathleen Nott</td>\n",
       "      <td>0</td>\n",
       "      <td>na</td>\n",
       "    </tr>\n",
       "  </tbody>\n",
       "</table>\n",
       "</div>"
      ],
      "text/plain": [
       "   id                                               text pronoun  \\\n",
       "0  na  Kathleen Nott was born in Camberwell, London. ...     her   \n",
       "\n",
       "   pronoun_offset              a  a_offset url  \n",
       "0              98  Kathleen Nott         0  na  "
      ]
     },
     "metadata": {},
     "output_type": "display_data"
    },
    {
     "name": "stderr",
     "output_type": "stream",
     "text": [
      "Initializing Step InputReader\n",
      "Step InputReader initialized\n",
      "Initializing Step LabelSanitizer\n",
      "Step LabelSanitizer initialized\n",
      "Initializing Step MentionsAnnotator\n",
      "Step MentionsAnnotator initialized\n",
      "Initializing Step gather_step\n",
      "STEPPY WARNING: Step with name \"InputReader\", already exist. Make sure that all Steps have unique name.\n",
      "Step gather_step initialized\n",
      "Step gather_step, working in \"inference\" mode\n",
      "Step InputReader, working in \"inference\" mode\n",
      "Step InputReader, adapting inputs\n",
      "Step InputReader, transforming...\n",
      "Step InputReader, transforming completed\n",
      "Step InputReader, transform completed\n",
      "Step LabelSanitizer, working in \"inference\" mode\n",
      "Step LabelSanitizer, adapting inputs\n",
      "Step LabelSanitizer, transforming...\n",
      "Step LabelSanitizer, transforming completed\n",
      "Step LabelSanitizer, transform completed\n",
      "Step MentionsAnnotator, working in \"inference\" mode\n",
      "Step InputReader, working in \"inference\" mode\n",
      "Step InputReader, adapting inputs\n",
      "Step InputReader, transforming...\n",
      "Step InputReader, transforming completed\n",
      "Step InputReader, transform completed\n",
      "Step MentionsAnnotator, unpacking inputs\n",
      "Step MentionsAnnotator, transforming...\n"
     ]
    },
    {
     "name": "stdout",
     "output_type": "stream",
     "text": [
      "Transforming data to features.\n",
      "------BEFORE DATA PIPELINE------- results/probert\n",
      "Empty DataFrame\n",
      "Columns: [id, label]\n",
      "Index: []\n"
     ]
    },
    {
     "name": "stderr",
     "output_type": "stream",
     "text": [
      "Extracting coref clusters...: 100%|██████████| 1/1 [00:00<00:00, 833.03it/s]\n",
      "Step MentionsAnnotator, transforming completed\n",
      "Step MentionsAnnotator, transform completed\n",
      "Step gather_step, adapting inputs\n",
      "Step gather_step, transforming...\n",
      "Step gather_step, transforming completed\n",
      "Step gather_step, transform completed\n"
     ]
    },
    {
     "name": "stdout",
     "output_type": "stream",
     "text": [
      "Transforming data to features done.\n",
      " Log a couple of examples for sanity check.\n",
      "\n"
     ]
    },
    {
     "name": "stderr",
     "output_type": "stream",
     "text": [
      "Convert Examples to features: 1it [00:00, 297.85it/s]\n",
      "Evaluating:   0%|          | 0/1 [00:00<?, ?it/s]/dccstor/media-bias-4374/gender-ambiguity-detectors/gap/models/gap/probert.py:35: UserWarning: indexing with dtype torch.uint8 is now deprecated, please use a dtype torch.bool instead. (Triggered internally at  ../aten/src/ATen/native/IndexingUtils.h:28.)\n",
      "  sequence_output = sequence_output[~gpr_tags_mask].view(batch_size, -1, self.config.hidden_size)\n",
      "Evaluating: 100%|██████████| 1/1 [00:04<00:00,  4.20s/it]"
     ]
    },
    {
     "name": "stdout",
     "output_type": "stream",
     "text": [
      "[0.99878997 0.00121011]\n",
      "Known pronoun 'her' resolves 'True' to 'Kathleen Nott' with a probability of '0.9987899661064148'\n"
     ]
    },
    {
     "name": "stderr",
     "output_type": "stream",
     "text": [
      "\n"
     ]
    },
    {
     "data": {
      "text/html": [
       "<div>\n",
       "<style scoped>\n",
       "    .dataframe tbody tr th:only-of-type {\n",
       "        vertical-align: middle;\n",
       "    }\n",
       "\n",
       "    .dataframe tbody tr th {\n",
       "        vertical-align: top;\n",
       "    }\n",
       "\n",
       "    .dataframe thead th {\n",
       "        text-align: right;\n",
       "    }\n",
       "</style>\n",
       "<table border=\"1\" class=\"dataframe\">\n",
       "  <thead>\n",
       "    <tr style=\"text-align: right;\">\n",
       "      <th></th>\n",
       "      <th>id</th>\n",
       "      <th>text</th>\n",
       "      <th>pronoun</th>\n",
       "      <th>pronoun_offset</th>\n",
       "      <th>a</th>\n",
       "      <th>a_offset</th>\n",
       "      <th>url</th>\n",
       "    </tr>\n",
       "  </thead>\n",
       "  <tbody>\n",
       "    <tr>\n",
       "      <th>0</th>\n",
       "      <td>na</td>\n",
       "      <td>Kathleen Nott was born in Camberwell, London. ...</td>\n",
       "      <td>her</td>\n",
       "      <td>98</td>\n",
       "      <td>Philip</td>\n",
       "      <td>58</td>\n",
       "      <td>na</td>\n",
       "    </tr>\n",
       "  </tbody>\n",
       "</table>\n",
       "</div>"
      ],
      "text/plain": [
       "   id                                               text pronoun  \\\n",
       "0  na  Kathleen Nott was born in Camberwell, London. ...     her   \n",
       "\n",
       "   pronoun_offset       a  a_offset url  \n",
       "0              98  Philip        58  na  "
      ]
     },
     "metadata": {},
     "output_type": "display_data"
    },
    {
     "name": "stderr",
     "output_type": "stream",
     "text": [
      "Initializing Step InputReader\n",
      "Step InputReader initialized\n",
      "Initializing Step LabelSanitizer\n",
      "Step LabelSanitizer initialized\n",
      "Initializing Step MentionsAnnotator\n",
      "Step MentionsAnnotator initialized\n",
      "Initializing Step gather_step\n",
      "STEPPY WARNING: Step with name \"InputReader\", already exist. Make sure that all Steps have unique name.\n",
      "Step gather_step initialized\n",
      "Step gather_step, working in \"inference\" mode\n",
      "Step InputReader, working in \"inference\" mode\n",
      "Step InputReader, adapting inputs\n",
      "Step InputReader, transforming...\n",
      "Step InputReader, transforming completed\n",
      "Step InputReader, transform completed\n",
      "Step LabelSanitizer, working in \"inference\" mode\n",
      "Step LabelSanitizer, adapting inputs\n",
      "Step LabelSanitizer, transforming...\n",
      "Step LabelSanitizer, transforming completed\n",
      "Step LabelSanitizer, transform completed\n",
      "Step MentionsAnnotator, working in \"inference\" mode\n",
      "Step InputReader, working in \"inference\" mode\n",
      "Step InputReader, adapting inputs\n",
      "Step InputReader, transforming...\n",
      "Step InputReader, transforming completed\n",
      "Step InputReader, transform completed\n",
      "Step MentionsAnnotator, unpacking inputs\n",
      "Step MentionsAnnotator, transforming...\n"
     ]
    },
    {
     "name": "stdout",
     "output_type": "stream",
     "text": [
      "Transforming data to features.\n",
      "------BEFORE DATA PIPELINE------- results/probert\n",
      "Empty DataFrame\n",
      "Columns: [id, label]\n",
      "Index: []\n"
     ]
    },
    {
     "name": "stderr",
     "output_type": "stream",
     "text": [
      "Extracting coref clusters...: 100%|██████████| 1/1 [00:00<00:00, 784.13it/s]\n",
      "Step MentionsAnnotator, transforming completed\n",
      "Step MentionsAnnotator, transform completed\n",
      "Step gather_step, adapting inputs\n",
      "Step gather_step, transforming...\n",
      "Step gather_step, transforming completed\n",
      "Step gather_step, transform completed\n"
     ]
    },
    {
     "name": "stdout",
     "output_type": "stream",
     "text": [
      "Transforming data to features done.\n",
      " Log a couple of examples for sanity check.\n",
      "\n"
     ]
    },
    {
     "name": "stderr",
     "output_type": "stream",
     "text": [
      "Convert Examples to features: 1it [00:00, 295.89it/s]\n",
      "Evaluating:   0%|          | 0/1 [00:00<?, ?it/s]/dccstor/media-bias-4374/gender-ambiguity-detectors/gap/models/gap/probert.py:35: UserWarning: indexing with dtype torch.uint8 is now deprecated, please use a dtype torch.bool instead. (Triggered internally at  ../aten/src/ATen/native/IndexingUtils.h:28.)\n",
      "  sequence_output = sequence_output[~gpr_tags_mask].view(batch_size, -1, self.config.hidden_size)\n",
      "Evaluating: 100%|██████████| 1/1 [00:04<00:00,  4.14s/it]"
     ]
    },
    {
     "name": "stdout",
     "output_type": "stream",
     "text": [
      "[0.00619056 0.9938094 ]\n",
      "Known pronoun 'her' resolves 'False' to 'Philip' with a probability of '0.9938094019889832'\n"
     ]
    },
    {
     "name": "stderr",
     "output_type": "stream",
     "text": [
      "\n"
     ]
    },
    {
     "data": {
      "text/html": [
       "<div>\n",
       "<style scoped>\n",
       "    .dataframe tbody tr th:only-of-type {\n",
       "        vertical-align: middle;\n",
       "    }\n",
       "\n",
       "    .dataframe tbody tr th {\n",
       "        vertical-align: top;\n",
       "    }\n",
       "\n",
       "    .dataframe thead th {\n",
       "        text-align: right;\n",
       "    }\n",
       "</style>\n",
       "<table border=\"1\" class=\"dataframe\">\n",
       "  <thead>\n",
       "    <tr style=\"text-align: right;\">\n",
       "      <th></th>\n",
       "      <th>id</th>\n",
       "      <th>text</th>\n",
       "      <th>pronoun</th>\n",
       "      <th>pronoun_offset</th>\n",
       "      <th>a</th>\n",
       "      <th>a_offset</th>\n",
       "      <th>url</th>\n",
       "    </tr>\n",
       "  </thead>\n",
       "  <tbody>\n",
       "    <tr>\n",
       "      <th>0</th>\n",
       "      <td>na</td>\n",
       "      <td>Kathleen Nott was born in Camberwell, London. ...</td>\n",
       "      <td>her</td>\n",
       "      <td>98</td>\n",
       "      <td>Ellen</td>\n",
       "      <td>110</td>\n",
       "      <td>na</td>\n",
       "    </tr>\n",
       "  </tbody>\n",
       "</table>\n",
       "</div>"
      ],
      "text/plain": [
       "   id                                               text pronoun  \\\n",
       "0  na  Kathleen Nott was born in Camberwell, London. ...     her   \n",
       "\n",
       "   pronoun_offset      a  a_offset url  \n",
       "0              98  Ellen       110  na  "
      ]
     },
     "metadata": {},
     "output_type": "display_data"
    },
    {
     "name": "stderr",
     "output_type": "stream",
     "text": [
      "Initializing Step InputReader\n",
      "Step InputReader initialized\n",
      "Initializing Step LabelSanitizer\n",
      "Step LabelSanitizer initialized\n",
      "Initializing Step MentionsAnnotator\n",
      "Step MentionsAnnotator initialized\n",
      "Initializing Step gather_step\n",
      "STEPPY WARNING: Step with name \"InputReader\", already exist. Make sure that all Steps have unique name.\n",
      "Step gather_step initialized\n",
      "Step gather_step, working in \"inference\" mode\n",
      "Step InputReader, working in \"inference\" mode\n",
      "Step InputReader, adapting inputs\n",
      "Step InputReader, transforming...\n",
      "Step InputReader, transforming completed\n",
      "Step InputReader, transform completed\n",
      "Step LabelSanitizer, working in \"inference\" mode\n",
      "Step LabelSanitizer, adapting inputs\n",
      "Step LabelSanitizer, transforming...\n",
      "Step LabelSanitizer, transforming completed\n",
      "Step LabelSanitizer, transform completed\n",
      "Step MentionsAnnotator, working in \"inference\" mode\n",
      "Step InputReader, working in \"inference\" mode\n",
      "Step InputReader, adapting inputs\n",
      "Step InputReader, transforming...\n",
      "Step InputReader, transforming completed\n",
      "Step InputReader, transform completed\n",
      "Step MentionsAnnotator, unpacking inputs\n",
      "Step MentionsAnnotator, transforming...\n"
     ]
    },
    {
     "name": "stdout",
     "output_type": "stream",
     "text": [
      "Transforming data to features.\n",
      "------BEFORE DATA PIPELINE------- results/probert\n",
      "Empty DataFrame\n",
      "Columns: [id, label]\n",
      "Index: []\n"
     ]
    },
    {
     "name": "stderr",
     "output_type": "stream",
     "text": [
      "Extracting coref clusters...: 100%|██████████| 1/1 [00:00<00:00, 791.98it/s]\n",
      "Step MentionsAnnotator, transforming completed\n",
      "Step MentionsAnnotator, transform completed\n",
      "Step gather_step, adapting inputs\n",
      "Step gather_step, transforming...\n",
      "Step gather_step, transforming completed\n",
      "Step gather_step, transform completed\n"
     ]
    },
    {
     "name": "stdout",
     "output_type": "stream",
     "text": [
      "Transforming data to features done.\n",
      " Log a couple of examples for sanity check.\n",
      "\n"
     ]
    },
    {
     "name": "stderr",
     "output_type": "stream",
     "text": [
      "Convert Examples to features: 1it [00:00, 255.86it/s]\n",
      "Evaluating:   0%|          | 0/1 [00:00<?, ?it/s]/dccstor/media-bias-4374/gender-ambiguity-detectors/gap/models/gap/probert.py:35: UserWarning: indexing with dtype torch.uint8 is now deprecated, please use a dtype torch.bool instead. (Triggered internally at  ../aten/src/ATen/native/IndexingUtils.h:28.)\n",
      "  sequence_output = sequence_output[~gpr_tags_mask].view(batch_size, -1, self.config.hidden_size)\n",
      "Evaluating: 100%|██████████| 1/1 [00:04<00:00,  4.23s/it]"
     ]
    },
    {
     "name": "stdout",
     "output_type": "stream",
     "text": [
      "[0.00276884 0.9972312 ]\n",
      "Known pronoun 'her' resolves 'False' to 'Ellen' with a probability of '0.9972311854362488'\n"
     ]
    },
    {
     "name": "stderr",
     "output_type": "stream",
     "text": [
      "\n"
     ]
    },
    {
     "data": {
      "text/html": [
       "<div>\n",
       "<style scoped>\n",
       "    .dataframe tbody tr th:only-of-type {\n",
       "        vertical-align: middle;\n",
       "    }\n",
       "\n",
       "    .dataframe tbody tr th {\n",
       "        vertical-align: top;\n",
       "    }\n",
       "\n",
       "    .dataframe thead th {\n",
       "        text-align: right;\n",
       "    }\n",
       "</style>\n",
       "<table border=\"1\" class=\"dataframe\">\n",
       "  <thead>\n",
       "    <tr style=\"text-align: right;\">\n",
       "      <th></th>\n",
       "      <th>id</th>\n",
       "      <th>text</th>\n",
       "      <th>pronoun</th>\n",
       "      <th>pronoun_offset</th>\n",
       "      <th>a</th>\n",
       "      <th>a_offset</th>\n",
       "      <th>url</th>\n",
       "    </tr>\n",
       "  </thead>\n",
       "  <tbody>\n",
       "    <tr>\n",
       "      <th>0</th>\n",
       "      <td>na</td>\n",
       "      <td>Kathleen Nott was born in Camberwell, London. ...</td>\n",
       "      <td>her</td>\n",
       "      <td>98</td>\n",
       "      <td>Kathleen</td>\n",
       "      <td>0</td>\n",
       "      <td>na</td>\n",
       "    </tr>\n",
       "  </tbody>\n",
       "</table>\n",
       "</div>"
      ],
      "text/plain": [
       "   id                                               text pronoun  \\\n",
       "0  na  Kathleen Nott was born in Camberwell, London. ...     her   \n",
       "\n",
       "   pronoun_offset         a  a_offset url  \n",
       "0              98  Kathleen         0  na  "
      ]
     },
     "metadata": {},
     "output_type": "display_data"
    },
    {
     "name": "stderr",
     "output_type": "stream",
     "text": [
      "Initializing Step InputReader\n",
      "Step InputReader initialized\n",
      "Initializing Step LabelSanitizer\n",
      "Step LabelSanitizer initialized\n",
      "Initializing Step MentionsAnnotator\n",
      "Step MentionsAnnotator initialized\n",
      "Initializing Step gather_step\n",
      "STEPPY WARNING: Step with name \"InputReader\", already exist. Make sure that all Steps have unique name.\n",
      "Step gather_step initialized\n",
      "Step gather_step, working in \"inference\" mode\n",
      "Step InputReader, working in \"inference\" mode\n",
      "Step InputReader, adapting inputs\n",
      "Step InputReader, transforming...\n",
      "Step InputReader, transforming completed\n",
      "Step InputReader, transform completed\n",
      "Step LabelSanitizer, working in \"inference\" mode\n",
      "Step LabelSanitizer, adapting inputs\n",
      "Step LabelSanitizer, transforming...\n",
      "Step LabelSanitizer, transforming completed\n",
      "Step LabelSanitizer, transform completed\n",
      "Step MentionsAnnotator, working in \"inference\" mode\n",
      "Step InputReader, working in \"inference\" mode\n",
      "Step InputReader, adapting inputs\n",
      "Step InputReader, transforming...\n",
      "Step InputReader, transforming completed\n",
      "Step InputReader, transform completed\n",
      "Step MentionsAnnotator, unpacking inputs\n",
      "Step MentionsAnnotator, transforming...\n"
     ]
    },
    {
     "name": "stdout",
     "output_type": "stream",
     "text": [
      "Transforming data to features.\n",
      "------BEFORE DATA PIPELINE------- results/probert\n",
      "Empty DataFrame\n",
      "Columns: [id, label]\n",
      "Index: []\n"
     ]
    },
    {
     "name": "stderr",
     "output_type": "stream",
     "text": [
      "Extracting coref clusters...: 100%|██████████| 1/1 [00:00<00:00, 594.52it/s]\n",
      "Step MentionsAnnotator, transforming completed\n",
      "Step MentionsAnnotator, transform completed\n",
      "Step gather_step, adapting inputs\n",
      "Step gather_step, transforming...\n",
      "Step gather_step, transforming completed\n",
      "Step gather_step, transform completed\n"
     ]
    },
    {
     "name": "stdout",
     "output_type": "stream",
     "text": [
      "Transforming data to features done.\n",
      " Log a couple of examples for sanity check.\n",
      "\n"
     ]
    },
    {
     "name": "stderr",
     "output_type": "stream",
     "text": [
      "Convert Examples to features: 1it [00:00, 250.47it/s]\n",
      "Evaluating:   0%|          | 0/1 [00:00<?, ?it/s]/dccstor/media-bias-4374/gender-ambiguity-detectors/gap/models/gap/probert.py:35: UserWarning: indexing with dtype torch.uint8 is now deprecated, please use a dtype torch.bool instead. (Triggered internally at  ../aten/src/ATen/native/IndexingUtils.h:28.)\n",
      "  sequence_output = sequence_output[~gpr_tags_mask].view(batch_size, -1, self.config.hidden_size)\n",
      "Evaluating: 100%|██████████| 1/1 [00:06<00:00,  6.46s/it]"
     ]
    },
    {
     "name": "stdout",
     "output_type": "stream",
     "text": [
      "[0.9978635 0.0021365]\n",
      "Known pronoun 'her' resolves 'True' to 'Kathleen' with a probability of '0.9978634715080261'\n"
     ]
    },
    {
     "name": "stderr",
     "output_type": "stream",
     "text": [
      "\n"
     ]
    },
    {
     "data": {
      "text/html": [
       "<div>\n",
       "<style scoped>\n",
       "    .dataframe tbody tr th:only-of-type {\n",
       "        vertical-align: middle;\n",
       "    }\n",
       "\n",
       "    .dataframe tbody tr th {\n",
       "        vertical-align: top;\n",
       "    }\n",
       "\n",
       "    .dataframe thead th {\n",
       "        text-align: right;\n",
       "    }\n",
       "</style>\n",
       "<table border=\"1\" class=\"dataframe\">\n",
       "  <thead>\n",
       "    <tr style=\"text-align: right;\">\n",
       "      <th></th>\n",
       "      <th>id</th>\n",
       "      <th>text</th>\n",
       "      <th>pronoun</th>\n",
       "      <th>pronoun_offset</th>\n",
       "      <th>a</th>\n",
       "      <th>a_offset</th>\n",
       "      <th>url</th>\n",
       "    </tr>\n",
       "  </thead>\n",
       "  <tbody>\n",
       "    <tr>\n",
       "      <th>0</th>\n",
       "      <td>na</td>\n",
       "      <td>Kathleen Nott was born in Camberwell, London. ...</td>\n",
       "      <td>her</td>\n",
       "      <td>98</td>\n",
       "      <td>Kathleen</td>\n",
       "      <td>150</td>\n",
       "      <td>na</td>\n",
       "    </tr>\n",
       "  </tbody>\n",
       "</table>\n",
       "</div>"
      ],
      "text/plain": [
       "   id                                               text pronoun  \\\n",
       "0  na  Kathleen Nott was born in Camberwell, London. ...     her   \n",
       "\n",
       "   pronoun_offset         a  a_offset url  \n",
       "0              98  Kathleen       150  na  "
      ]
     },
     "metadata": {},
     "output_type": "display_data"
    },
    {
     "name": "stderr",
     "output_type": "stream",
     "text": [
      "Initializing Step InputReader\n",
      "Step InputReader initialized\n",
      "Initializing Step LabelSanitizer\n",
      "Step LabelSanitizer initialized\n",
      "Initializing Step MentionsAnnotator\n",
      "Step MentionsAnnotator initialized\n",
      "Initializing Step gather_step\n",
      "STEPPY WARNING: Step with name \"InputReader\", already exist. Make sure that all Steps have unique name.\n",
      "Step gather_step initialized\n",
      "Step gather_step, working in \"inference\" mode\n",
      "Step InputReader, working in \"inference\" mode\n",
      "Step InputReader, adapting inputs\n",
      "Step InputReader, transforming...\n",
      "Step InputReader, transforming completed\n",
      "Step InputReader, transform completed\n",
      "Step LabelSanitizer, working in \"inference\" mode\n",
      "Step LabelSanitizer, adapting inputs\n",
      "Step LabelSanitizer, transforming...\n",
      "Step LabelSanitizer, transforming completed\n",
      "Step LabelSanitizer, transform completed\n",
      "Step MentionsAnnotator, working in \"inference\" mode\n",
      "Step InputReader, working in \"inference\" mode\n",
      "Step InputReader, adapting inputs\n",
      "Step InputReader, transforming...\n",
      "Step InputReader, transforming completed\n",
      "Step InputReader, transform completed\n",
      "Step MentionsAnnotator, unpacking inputs\n",
      "Step MentionsAnnotator, transforming...\n"
     ]
    },
    {
     "name": "stdout",
     "output_type": "stream",
     "text": [
      "Transforming data to features.\n",
      "------BEFORE DATA PIPELINE------- results/probert\n",
      "Empty DataFrame\n",
      "Columns: [id, label]\n",
      "Index: []\n"
     ]
    },
    {
     "name": "stderr",
     "output_type": "stream",
     "text": [
      "Extracting coref clusters...: 100%|██████████| 1/1 [00:00<00:00, 633.29it/s]\n",
      "Step MentionsAnnotator, transforming completed\n",
      "Step MentionsAnnotator, transform completed\n",
      "Step gather_step, adapting inputs\n",
      "Step gather_step, transforming...\n",
      "Step gather_step, transforming completed\n",
      "Step gather_step, transform completed\n"
     ]
    },
    {
     "name": "stdout",
     "output_type": "stream",
     "text": [
      "Transforming data to features done.\n",
      " Log a couple of examples for sanity check.\n",
      "\n"
     ]
    },
    {
     "name": "stderr",
     "output_type": "stream",
     "text": [
      "Convert Examples to features: 1it [00:00, 273.16it/s]\n",
      "Evaluating:   0%|          | 0/1 [00:00<?, ?it/s]/dccstor/media-bias-4374/gender-ambiguity-detectors/gap/models/gap/probert.py:35: UserWarning: indexing with dtype torch.uint8 is now deprecated, please use a dtype torch.bool instead. (Triggered internally at  ../aten/src/ATen/native/IndexingUtils.h:28.)\n",
      "  sequence_output = sequence_output[~gpr_tags_mask].view(batch_size, -1, self.config.hidden_size)\n",
      "Evaluating: 100%|██████████| 1/1 [00:11<00:00, 11.82s/it]"
     ]
    },
    {
     "name": "stdout",
     "output_type": "stream",
     "text": [
      "[0.98376137 0.01623868]\n",
      "Known pronoun 'her' resolves 'True' to 'Kathleen' with a probability of '0.9837613701820374'\n"
     ]
    },
    {
     "name": "stderr",
     "output_type": "stream",
     "text": [
      "\n"
     ]
    },
    {
     "data": {
      "text/html": [
       "<div>\n",
       "<style scoped>\n",
       "    .dataframe tbody tr th:only-of-type {\n",
       "        vertical-align: middle;\n",
       "    }\n",
       "\n",
       "    .dataframe tbody tr th {\n",
       "        vertical-align: top;\n",
       "    }\n",
       "\n",
       "    .dataframe thead th {\n",
       "        text-align: right;\n",
       "    }\n",
       "</style>\n",
       "<table border=\"1\" class=\"dataframe\">\n",
       "  <thead>\n",
       "    <tr style=\"text-align: right;\">\n",
       "      <th></th>\n",
       "      <th>id</th>\n",
       "      <th>text</th>\n",
       "      <th>pronoun</th>\n",
       "      <th>pronoun_offset</th>\n",
       "      <th>a</th>\n",
       "      <th>a_offset</th>\n",
       "      <th>url</th>\n",
       "    </tr>\n",
       "  </thead>\n",
       "  <tbody>\n",
       "    <tr>\n",
       "      <th>0</th>\n",
       "      <td>na</td>\n",
       "      <td>Kathleen Nott was born in Camberwell, London. ...</td>\n",
       "      <td>her</td>\n",
       "      <td>105</td>\n",
       "      <td>Kathleen Nott</td>\n",
       "      <td>0</td>\n",
       "      <td>na</td>\n",
       "    </tr>\n",
       "  </tbody>\n",
       "</table>\n",
       "</div>"
      ],
      "text/plain": [
       "   id                                               text pronoun  \\\n",
       "0  na  Kathleen Nott was born in Camberwell, London. ...     her   \n",
       "\n",
       "   pronoun_offset              a  a_offset url  \n",
       "0             105  Kathleen Nott         0  na  "
      ]
     },
     "metadata": {},
     "output_type": "display_data"
    },
    {
     "name": "stderr",
     "output_type": "stream",
     "text": [
      "Initializing Step InputReader\n",
      "Step InputReader initialized\n",
      "Initializing Step LabelSanitizer\n",
      "Step LabelSanitizer initialized\n",
      "Initializing Step MentionsAnnotator\n",
      "Step MentionsAnnotator initialized\n",
      "Initializing Step gather_step\n",
      "STEPPY WARNING: Step with name \"InputReader\", already exist. Make sure that all Steps have unique name.\n",
      "Step gather_step initialized\n",
      "Step gather_step, working in \"inference\" mode\n",
      "Step InputReader, working in \"inference\" mode\n",
      "Step InputReader, adapting inputs\n",
      "Step InputReader, transforming...\n",
      "Step InputReader, transforming completed\n",
      "Step InputReader, transform completed\n",
      "Step LabelSanitizer, working in \"inference\" mode\n",
      "Step LabelSanitizer, adapting inputs\n",
      "Step LabelSanitizer, transforming...\n",
      "Step LabelSanitizer, transforming completed\n",
      "Step LabelSanitizer, transform completed\n",
      "Step MentionsAnnotator, working in \"inference\" mode\n",
      "Step InputReader, working in \"inference\" mode\n",
      "Step InputReader, adapting inputs\n",
      "Step InputReader, transforming...\n",
      "Step InputReader, transforming completed\n",
      "Step InputReader, transform completed\n",
      "Step MentionsAnnotator, unpacking inputs\n",
      "Step MentionsAnnotator, transforming...\n"
     ]
    },
    {
     "name": "stdout",
     "output_type": "stream",
     "text": [
      "Transforming data to features.\n",
      "------BEFORE DATA PIPELINE------- results/probert\n",
      "Empty DataFrame\n",
      "Columns: [id, label]\n",
      "Index: []\n"
     ]
    },
    {
     "name": "stderr",
     "output_type": "stream",
     "text": [
      "Extracting coref clusters...: 100%|██████████| 1/1 [00:00<00:00, 643.99it/s]\n",
      "Step MentionsAnnotator, transforming completed\n",
      "Step MentionsAnnotator, transform completed\n",
      "Step gather_step, adapting inputs\n",
      "Step gather_step, transforming...\n",
      "Step gather_step, transforming completed\n",
      "Step gather_step, transform completed\n"
     ]
    },
    {
     "name": "stdout",
     "output_type": "stream",
     "text": [
      "Transforming data to features done.\n",
      " Log a couple of examples for sanity check.\n",
      "\n"
     ]
    },
    {
     "name": "stderr",
     "output_type": "stream",
     "text": [
      "Convert Examples to features: 1it [00:00, 287.50it/s]\n",
      "Evaluating:   0%|          | 0/1 [00:00<?, ?it/s]/dccstor/media-bias-4374/gender-ambiguity-detectors/gap/models/gap/probert.py:35: UserWarning: indexing with dtype torch.uint8 is now deprecated, please use a dtype torch.bool instead. (Triggered internally at  ../aten/src/ATen/native/IndexingUtils.h:28.)\n",
      "  sequence_output = sequence_output[~gpr_tags_mask].view(batch_size, -1, self.config.hidden_size)\n",
      "Evaluating: 100%|██████████| 1/1 [00:10<00:00, 10.38s/it]"
     ]
    },
    {
     "name": "stdout",
     "output_type": "stream",
     "text": [
      "[0.42667866 0.57332134]\n",
      "Known pronoun 'her' resolves 'False' to 'Kathleen Nott' with a probability of '0.5733213424682617'\n"
     ]
    },
    {
     "name": "stderr",
     "output_type": "stream",
     "text": [
      "\n"
     ]
    },
    {
     "data": {
      "text/html": [
       "<div>\n",
       "<style scoped>\n",
       "    .dataframe tbody tr th:only-of-type {\n",
       "        vertical-align: middle;\n",
       "    }\n",
       "\n",
       "    .dataframe tbody tr th {\n",
       "        vertical-align: top;\n",
       "    }\n",
       "\n",
       "    .dataframe thead th {\n",
       "        text-align: right;\n",
       "    }\n",
       "</style>\n",
       "<table border=\"1\" class=\"dataframe\">\n",
       "  <thead>\n",
       "    <tr style=\"text-align: right;\">\n",
       "      <th></th>\n",
       "      <th>id</th>\n",
       "      <th>text</th>\n",
       "      <th>pronoun</th>\n",
       "      <th>pronoun_offset</th>\n",
       "      <th>a</th>\n",
       "      <th>a_offset</th>\n",
       "      <th>url</th>\n",
       "    </tr>\n",
       "  </thead>\n",
       "  <tbody>\n",
       "    <tr>\n",
       "      <th>0</th>\n",
       "      <td>na</td>\n",
       "      <td>Kathleen Nott was born in Camberwell, London. ...</td>\n",
       "      <td>her</td>\n",
       "      <td>105</td>\n",
       "      <td>Philip</td>\n",
       "      <td>58</td>\n",
       "      <td>na</td>\n",
       "    </tr>\n",
       "  </tbody>\n",
       "</table>\n",
       "</div>"
      ],
      "text/plain": [
       "   id                                               text pronoun  \\\n",
       "0  na  Kathleen Nott was born in Camberwell, London. ...     her   \n",
       "\n",
       "   pronoun_offset       a  a_offset url  \n",
       "0             105  Philip        58  na  "
      ]
     },
     "metadata": {},
     "output_type": "display_data"
    },
    {
     "name": "stderr",
     "output_type": "stream",
     "text": [
      "Initializing Step InputReader\n",
      "Step InputReader initialized\n",
      "Initializing Step LabelSanitizer\n",
      "Step LabelSanitizer initialized\n",
      "Initializing Step MentionsAnnotator\n",
      "Step MentionsAnnotator initialized\n",
      "Initializing Step gather_step\n",
      "STEPPY WARNING: Step with name \"InputReader\", already exist. Make sure that all Steps have unique name.\n",
      "Step gather_step initialized\n",
      "Step gather_step, working in \"inference\" mode\n",
      "Step InputReader, working in \"inference\" mode\n",
      "Step InputReader, adapting inputs\n",
      "Step InputReader, transforming...\n",
      "Step InputReader, transforming completed\n",
      "Step InputReader, transform completed\n",
      "Step LabelSanitizer, working in \"inference\" mode\n",
      "Step LabelSanitizer, adapting inputs\n",
      "Step LabelSanitizer, transforming...\n",
      "Step LabelSanitizer, transforming completed\n",
      "Step LabelSanitizer, transform completed\n",
      "Step MentionsAnnotator, working in \"inference\" mode\n",
      "Step InputReader, working in \"inference\" mode\n",
      "Step InputReader, adapting inputs\n",
      "Step InputReader, transforming...\n",
      "Step InputReader, transforming completed\n",
      "Step InputReader, transform completed\n",
      "Step MentionsAnnotator, unpacking inputs\n",
      "Step MentionsAnnotator, transforming...\n"
     ]
    },
    {
     "name": "stdout",
     "output_type": "stream",
     "text": [
      "Transforming data to features.\n",
      "------BEFORE DATA PIPELINE------- results/probert\n",
      "Empty DataFrame\n",
      "Columns: [id, label]\n",
      "Index: []\n"
     ]
    },
    {
     "name": "stderr",
     "output_type": "stream",
     "text": [
      "Extracting coref clusters...: 100%|██████████| 1/1 [00:00<00:00, 757.23it/s]\n",
      "Step MentionsAnnotator, transforming completed\n",
      "Step MentionsAnnotator, transform completed\n",
      "Step gather_step, adapting inputs\n",
      "Step gather_step, transforming...\n",
      "Step gather_step, transforming completed\n",
      "Step gather_step, transform completed\n"
     ]
    },
    {
     "name": "stdout",
     "output_type": "stream",
     "text": [
      "Transforming data to features done.\n",
      " Log a couple of examples for sanity check.\n",
      "\n"
     ]
    },
    {
     "name": "stderr",
     "output_type": "stream",
     "text": [
      "Convert Examples to features: 1it [00:00, 285.23it/s]\n",
      "Evaluating:   0%|          | 0/1 [00:00<?, ?it/s]/dccstor/media-bias-4374/gender-ambiguity-detectors/gap/models/gap/probert.py:35: UserWarning: indexing with dtype torch.uint8 is now deprecated, please use a dtype torch.bool instead. (Triggered internally at  ../aten/src/ATen/native/IndexingUtils.h:28.)\n",
      "  sequence_output = sequence_output[~gpr_tags_mask].view(batch_size, -1, self.config.hidden_size)\n",
      "Evaluating: 100%|██████████| 1/1 [00:09<00:00,  9.09s/it]"
     ]
    },
    {
     "name": "stdout",
     "output_type": "stream",
     "text": [
      "[0.02182528 0.9781747 ]\n",
      "Known pronoun 'her' resolves 'False' to 'Philip' with a probability of '0.9781746864318848'\n"
     ]
    },
    {
     "name": "stderr",
     "output_type": "stream",
     "text": [
      "\n"
     ]
    },
    {
     "data": {
      "text/html": [
       "<div>\n",
       "<style scoped>\n",
       "    .dataframe tbody tr th:only-of-type {\n",
       "        vertical-align: middle;\n",
       "    }\n",
       "\n",
       "    .dataframe tbody tr th {\n",
       "        vertical-align: top;\n",
       "    }\n",
       "\n",
       "    .dataframe thead th {\n",
       "        text-align: right;\n",
       "    }\n",
       "</style>\n",
       "<table border=\"1\" class=\"dataframe\">\n",
       "  <thead>\n",
       "    <tr style=\"text-align: right;\">\n",
       "      <th></th>\n",
       "      <th>id</th>\n",
       "      <th>text</th>\n",
       "      <th>pronoun</th>\n",
       "      <th>pronoun_offset</th>\n",
       "      <th>a</th>\n",
       "      <th>a_offset</th>\n",
       "      <th>url</th>\n",
       "    </tr>\n",
       "  </thead>\n",
       "  <tbody>\n",
       "    <tr>\n",
       "      <th>0</th>\n",
       "      <td>na</td>\n",
       "      <td>Kathleen Nott was born in Camberwell, London. ...</td>\n",
       "      <td>her</td>\n",
       "      <td>105</td>\n",
       "      <td>Ellen</td>\n",
       "      <td>110</td>\n",
       "      <td>na</td>\n",
       "    </tr>\n",
       "  </tbody>\n",
       "</table>\n",
       "</div>"
      ],
      "text/plain": [
       "   id                                               text pronoun  \\\n",
       "0  na  Kathleen Nott was born in Camberwell, London. ...     her   \n",
       "\n",
       "   pronoun_offset      a  a_offset url  \n",
       "0             105  Ellen       110  na  "
      ]
     },
     "metadata": {},
     "output_type": "display_data"
    },
    {
     "name": "stderr",
     "output_type": "stream",
     "text": [
      "Initializing Step InputReader\n",
      "Step InputReader initialized\n",
      "Initializing Step LabelSanitizer\n",
      "Step LabelSanitizer initialized\n",
      "Initializing Step MentionsAnnotator\n",
      "Step MentionsAnnotator initialized\n",
      "Initializing Step gather_step\n",
      "STEPPY WARNING: Step with name \"InputReader\", already exist. Make sure that all Steps have unique name.\n",
      "Step gather_step initialized\n",
      "Step gather_step, working in \"inference\" mode\n",
      "Step InputReader, working in \"inference\" mode\n",
      "Step InputReader, adapting inputs\n",
      "Step InputReader, transforming...\n",
      "Step InputReader, transforming completed\n",
      "Step InputReader, transform completed\n",
      "Step LabelSanitizer, working in \"inference\" mode\n",
      "Step LabelSanitizer, adapting inputs\n",
      "Step LabelSanitizer, transforming...\n",
      "Step LabelSanitizer, transforming completed\n",
      "Step LabelSanitizer, transform completed\n",
      "Step MentionsAnnotator, working in \"inference\" mode\n",
      "Step InputReader, working in \"inference\" mode\n",
      "Step InputReader, adapting inputs\n",
      "Step InputReader, transforming...\n",
      "Step InputReader, transforming completed\n",
      "Step InputReader, transform completed\n",
      "Step MentionsAnnotator, unpacking inputs\n",
      "Step MentionsAnnotator, transforming...\n"
     ]
    },
    {
     "name": "stdout",
     "output_type": "stream",
     "text": [
      "Transforming data to features.\n",
      "------BEFORE DATA PIPELINE------- results/probert\n",
      "Empty DataFrame\n",
      "Columns: [id, label]\n",
      "Index: []\n"
     ]
    },
    {
     "name": "stderr",
     "output_type": "stream",
     "text": [
      "Extracting coref clusters...: 100%|██████████| 1/1 [00:00<00:00, 761.91it/s]\n",
      "Step MentionsAnnotator, transforming completed\n",
      "Step MentionsAnnotator, transform completed\n",
      "Step gather_step, adapting inputs\n",
      "Step gather_step, transforming...\n",
      "Step gather_step, transforming completed\n",
      "Step gather_step, transform completed\n"
     ]
    },
    {
     "name": "stdout",
     "output_type": "stream",
     "text": [
      "Transforming data to features done.\n",
      " Log a couple of examples for sanity check.\n",
      "\n"
     ]
    },
    {
     "name": "stderr",
     "output_type": "stream",
     "text": [
      "Convert Examples to features: 1it [00:00, 287.85it/s]\n",
      "Evaluating:   0%|          | 0/1 [00:00<?, ?it/s]/dccstor/media-bias-4374/gender-ambiguity-detectors/gap/models/gap/probert.py:35: UserWarning: indexing with dtype torch.uint8 is now deprecated, please use a dtype torch.bool instead. (Triggered internally at  ../aten/src/ATen/native/IndexingUtils.h:28.)\n",
      "  sequence_output = sequence_output[~gpr_tags_mask].view(batch_size, -1, self.config.hidden_size)\n",
      "Evaluating: 100%|██████████| 1/1 [00:09<00:00,  9.66s/it]"
     ]
    },
    {
     "name": "stdout",
     "output_type": "stream",
     "text": [
      "[0.01209925 0.98790073]\n",
      "Known pronoun 'her' resolves 'False' to 'Ellen' with a probability of '0.9879007339477539'\n"
     ]
    },
    {
     "name": "stderr",
     "output_type": "stream",
     "text": [
      "\n"
     ]
    },
    {
     "data": {
      "text/html": [
       "<div>\n",
       "<style scoped>\n",
       "    .dataframe tbody tr th:only-of-type {\n",
       "        vertical-align: middle;\n",
       "    }\n",
       "\n",
       "    .dataframe tbody tr th {\n",
       "        vertical-align: top;\n",
       "    }\n",
       "\n",
       "    .dataframe thead th {\n",
       "        text-align: right;\n",
       "    }\n",
       "</style>\n",
       "<table border=\"1\" class=\"dataframe\">\n",
       "  <thead>\n",
       "    <tr style=\"text-align: right;\">\n",
       "      <th></th>\n",
       "      <th>id</th>\n",
       "      <th>text</th>\n",
       "      <th>pronoun</th>\n",
       "      <th>pronoun_offset</th>\n",
       "      <th>a</th>\n",
       "      <th>a_offset</th>\n",
       "      <th>url</th>\n",
       "    </tr>\n",
       "  </thead>\n",
       "  <tbody>\n",
       "    <tr>\n",
       "      <th>0</th>\n",
       "      <td>na</td>\n",
       "      <td>Kathleen Nott was born in Camberwell, London. ...</td>\n",
       "      <td>her</td>\n",
       "      <td>105</td>\n",
       "      <td>Kathleen</td>\n",
       "      <td>0</td>\n",
       "      <td>na</td>\n",
       "    </tr>\n",
       "  </tbody>\n",
       "</table>\n",
       "</div>"
      ],
      "text/plain": [
       "   id                                               text pronoun  \\\n",
       "0  na  Kathleen Nott was born in Camberwell, London. ...     her   \n",
       "\n",
       "   pronoun_offset         a  a_offset url  \n",
       "0             105  Kathleen         0  na  "
      ]
     },
     "metadata": {},
     "output_type": "display_data"
    },
    {
     "name": "stderr",
     "output_type": "stream",
     "text": [
      "Initializing Step InputReader\n",
      "Step InputReader initialized\n",
      "Initializing Step LabelSanitizer\n",
      "Step LabelSanitizer initialized\n",
      "Initializing Step MentionsAnnotator\n",
      "Step MentionsAnnotator initialized\n",
      "Initializing Step gather_step\n",
      "STEPPY WARNING: Step with name \"InputReader\", already exist. Make sure that all Steps have unique name.\n",
      "Step gather_step initialized\n",
      "Step gather_step, working in \"inference\" mode\n",
      "Step InputReader, working in \"inference\" mode\n",
      "Step InputReader, adapting inputs\n",
      "Step InputReader, transforming...\n",
      "Step InputReader, transforming completed\n",
      "Step InputReader, transform completed\n",
      "Step LabelSanitizer, working in \"inference\" mode\n",
      "Step LabelSanitizer, adapting inputs\n",
      "Step LabelSanitizer, transforming...\n",
      "Step LabelSanitizer, transforming completed\n",
      "Step LabelSanitizer, transform completed\n",
      "Step MentionsAnnotator, working in \"inference\" mode\n",
      "Step InputReader, working in \"inference\" mode\n",
      "Step InputReader, adapting inputs\n",
      "Step InputReader, transforming...\n",
      "Step InputReader, transforming completed\n",
      "Step InputReader, transform completed\n",
      "Step MentionsAnnotator, unpacking inputs\n",
      "Step MentionsAnnotator, transforming...\n"
     ]
    },
    {
     "name": "stdout",
     "output_type": "stream",
     "text": [
      "Transforming data to features.\n",
      "------BEFORE DATA PIPELINE------- results/probert\n",
      "Empty DataFrame\n",
      "Columns: [id, label]\n",
      "Index: []\n"
     ]
    },
    {
     "name": "stderr",
     "output_type": "stream",
     "text": [
      "Extracting coref clusters...: 100%|██████████| 1/1 [00:00<00:00, 694.77it/s]\n",
      "Step MentionsAnnotator, transforming completed\n",
      "Step MentionsAnnotator, transform completed\n",
      "Step gather_step, adapting inputs\n",
      "Step gather_step, transforming...\n",
      "Step gather_step, transforming completed\n",
      "Step gather_step, transform completed\n"
     ]
    },
    {
     "name": "stdout",
     "output_type": "stream",
     "text": [
      "Transforming data to features done.\n",
      " Log a couple of examples for sanity check.\n",
      "\n"
     ]
    },
    {
     "name": "stderr",
     "output_type": "stream",
     "text": [
      "Convert Examples to features: 1it [00:00, 263.56it/s]\n",
      "Evaluating:   0%|          | 0/1 [00:00<?, ?it/s]/dccstor/media-bias-4374/gender-ambiguity-detectors/gap/models/gap/probert.py:35: UserWarning: indexing with dtype torch.uint8 is now deprecated, please use a dtype torch.bool instead. (Triggered internally at  ../aten/src/ATen/native/IndexingUtils.h:28.)\n",
      "  sequence_output = sequence_output[~gpr_tags_mask].view(batch_size, -1, self.config.hidden_size)\n",
      "Evaluating: 100%|██████████| 1/1 [00:09<00:00,  9.48s/it]"
     ]
    },
    {
     "name": "stdout",
     "output_type": "stream",
     "text": [
      "[0.28047383 0.71952623]\n",
      "Known pronoun 'her' resolves 'False' to 'Kathleen' with a probability of '0.7195262312889099'\n"
     ]
    },
    {
     "name": "stderr",
     "output_type": "stream",
     "text": [
      "\n"
     ]
    },
    {
     "data": {
      "text/html": [
       "<div>\n",
       "<style scoped>\n",
       "    .dataframe tbody tr th:only-of-type {\n",
       "        vertical-align: middle;\n",
       "    }\n",
       "\n",
       "    .dataframe tbody tr th {\n",
       "        vertical-align: top;\n",
       "    }\n",
       "\n",
       "    .dataframe thead th {\n",
       "        text-align: right;\n",
       "    }\n",
       "</style>\n",
       "<table border=\"1\" class=\"dataframe\">\n",
       "  <thead>\n",
       "    <tr style=\"text-align: right;\">\n",
       "      <th></th>\n",
       "      <th>id</th>\n",
       "      <th>text</th>\n",
       "      <th>pronoun</th>\n",
       "      <th>pronoun_offset</th>\n",
       "      <th>a</th>\n",
       "      <th>a_offset</th>\n",
       "      <th>url</th>\n",
       "    </tr>\n",
       "  </thead>\n",
       "  <tbody>\n",
       "    <tr>\n",
       "      <th>0</th>\n",
       "      <td>na</td>\n",
       "      <td>Kathleen Nott was born in Camberwell, London. ...</td>\n",
       "      <td>her</td>\n",
       "      <td>105</td>\n",
       "      <td>Kathleen</td>\n",
       "      <td>150</td>\n",
       "      <td>na</td>\n",
       "    </tr>\n",
       "  </tbody>\n",
       "</table>\n",
       "</div>"
      ],
      "text/plain": [
       "   id                                               text pronoun  \\\n",
       "0  na  Kathleen Nott was born in Camberwell, London. ...     her   \n",
       "\n",
       "   pronoun_offset         a  a_offset url  \n",
       "0             105  Kathleen       150  na  "
      ]
     },
     "metadata": {},
     "output_type": "display_data"
    },
    {
     "name": "stderr",
     "output_type": "stream",
     "text": [
      "Initializing Step InputReader\n",
      "Step InputReader initialized\n",
      "Initializing Step LabelSanitizer\n",
      "Step LabelSanitizer initialized\n",
      "Initializing Step MentionsAnnotator\n",
      "Step MentionsAnnotator initialized\n",
      "Initializing Step gather_step\n",
      "STEPPY WARNING: Step with name \"InputReader\", already exist. Make sure that all Steps have unique name.\n",
      "Step gather_step initialized\n",
      "Step gather_step, working in \"inference\" mode\n",
      "Step InputReader, working in \"inference\" mode\n",
      "Step InputReader, adapting inputs\n",
      "Step InputReader, transforming...\n",
      "Step InputReader, transforming completed\n",
      "Step InputReader, transform completed\n",
      "Step LabelSanitizer, working in \"inference\" mode\n",
      "Step LabelSanitizer, adapting inputs\n",
      "Step LabelSanitizer, transforming...\n",
      "Step LabelSanitizer, transforming completed\n",
      "Step LabelSanitizer, transform completed\n",
      "Step MentionsAnnotator, working in \"inference\" mode\n",
      "Step InputReader, working in \"inference\" mode\n",
      "Step InputReader, adapting inputs\n",
      "Step InputReader, transforming...\n",
      "Step InputReader, transforming completed\n",
      "Step InputReader, transform completed\n",
      "Step MentionsAnnotator, unpacking inputs\n",
      "Step MentionsAnnotator, transforming...\n"
     ]
    },
    {
     "name": "stdout",
     "output_type": "stream",
     "text": [
      "Transforming data to features.\n",
      "------BEFORE DATA PIPELINE------- results/probert\n",
      "Empty DataFrame\n",
      "Columns: [id, label]\n",
      "Index: []\n"
     ]
    },
    {
     "name": "stderr",
     "output_type": "stream",
     "text": [
      "Extracting coref clusters...: 100%|██████████| 1/1 [00:00<00:00, 651.59it/s]\n",
      "Step MentionsAnnotator, transforming completed\n",
      "Step MentionsAnnotator, transform completed\n",
      "Step gather_step, adapting inputs\n",
      "Step gather_step, transforming...\n",
      "Step gather_step, transforming completed\n",
      "Step gather_step, transform completed\n"
     ]
    },
    {
     "name": "stdout",
     "output_type": "stream",
     "text": [
      "Transforming data to features done.\n",
      " Log a couple of examples for sanity check.\n",
      "\n"
     ]
    },
    {
     "name": "stderr",
     "output_type": "stream",
     "text": [
      "Convert Examples to features: 1it [00:00, 264.03it/s]\n",
      "Evaluating:   0%|          | 0/1 [00:00<?, ?it/s]/dccstor/media-bias-4374/gender-ambiguity-detectors/gap/models/gap/probert.py:35: UserWarning: indexing with dtype torch.uint8 is now deprecated, please use a dtype torch.bool instead. (Triggered internally at  ../aten/src/ATen/native/IndexingUtils.h:28.)\n",
      "  sequence_output = sequence_output[~gpr_tags_mask].view(batch_size, -1, self.config.hidden_size)\n",
      "Evaluating: 100%|██████████| 1/1 [00:09<00:00,  9.04s/it]"
     ]
    },
    {
     "name": "stdout",
     "output_type": "stream",
     "text": [
      "[0.23775773 0.76224226]\n",
      "Known pronoun 'her' resolves 'False' to 'Kathleen' with a probability of '0.7622422575950623'\n"
     ]
    },
    {
     "name": "stderr",
     "output_type": "stream",
     "text": [
      "\n"
     ]
    },
    {
     "data": {
      "text/html": [
       "<div>\n",
       "<style scoped>\n",
       "    .dataframe tbody tr th:only-of-type {\n",
       "        vertical-align: middle;\n",
       "    }\n",
       "\n",
       "    .dataframe tbody tr th {\n",
       "        vertical-align: top;\n",
       "    }\n",
       "\n",
       "    .dataframe thead th {\n",
       "        text-align: right;\n",
       "    }\n",
       "</style>\n",
       "<table border=\"1\" class=\"dataframe\">\n",
       "  <thead>\n",
       "    <tr style=\"text-align: right;\">\n",
       "      <th></th>\n",
       "      <th>id</th>\n",
       "      <th>text</th>\n",
       "      <th>pronoun</th>\n",
       "      <th>pronoun_offset</th>\n",
       "      <th>a</th>\n",
       "      <th>a_offset</th>\n",
       "      <th>url</th>\n",
       "    </tr>\n",
       "  </thead>\n",
       "  <tbody>\n",
       "    <tr>\n",
       "      <th>0</th>\n",
       "      <td>na</td>\n",
       "      <td>Kathleen Nott was born in Camberwell, London. ...</td>\n",
       "      <td>her</td>\n",
       "      <td>330</td>\n",
       "      <td>Kathleen Nott</td>\n",
       "      <td>0</td>\n",
       "      <td>na</td>\n",
       "    </tr>\n",
       "  </tbody>\n",
       "</table>\n",
       "</div>"
      ],
      "text/plain": [
       "   id                                               text pronoun  \\\n",
       "0  na  Kathleen Nott was born in Camberwell, London. ...     her   \n",
       "\n",
       "   pronoun_offset              a  a_offset url  \n",
       "0             330  Kathleen Nott         0  na  "
      ]
     },
     "metadata": {},
     "output_type": "display_data"
    },
    {
     "name": "stderr",
     "output_type": "stream",
     "text": [
      "Initializing Step InputReader\n",
      "Step InputReader initialized\n",
      "Initializing Step LabelSanitizer\n",
      "Step LabelSanitizer initialized\n",
      "Initializing Step MentionsAnnotator\n",
      "Step MentionsAnnotator initialized\n",
      "Initializing Step gather_step\n",
      "STEPPY WARNING: Step with name \"InputReader\", already exist. Make sure that all Steps have unique name.\n",
      "Step gather_step initialized\n",
      "Step gather_step, working in \"inference\" mode\n",
      "Step InputReader, working in \"inference\" mode\n",
      "Step InputReader, adapting inputs\n",
      "Step InputReader, transforming...\n",
      "Step InputReader, transforming completed\n",
      "Step InputReader, transform completed\n",
      "Step LabelSanitizer, working in \"inference\" mode\n",
      "Step LabelSanitizer, adapting inputs\n",
      "Step LabelSanitizer, transforming...\n",
      "Step LabelSanitizer, transforming completed\n",
      "Step LabelSanitizer, transform completed\n",
      "Step MentionsAnnotator, working in \"inference\" mode\n",
      "Step InputReader, working in \"inference\" mode\n",
      "Step InputReader, adapting inputs\n",
      "Step InputReader, transforming...\n",
      "Step InputReader, transforming completed\n",
      "Step InputReader, transform completed\n",
      "Step MentionsAnnotator, unpacking inputs\n",
      "Step MentionsAnnotator, transforming...\n"
     ]
    },
    {
     "name": "stdout",
     "output_type": "stream",
     "text": [
      "Transforming data to features.\n",
      "------BEFORE DATA PIPELINE------- results/probert\n",
      "Empty DataFrame\n",
      "Columns: [id, label]\n",
      "Index: []\n"
     ]
    },
    {
     "name": "stderr",
     "output_type": "stream",
     "text": [
      "Extracting coref clusters...: 100%|██████████| 1/1 [00:00<00:00, 718.94it/s]\n",
      "Step MentionsAnnotator, transforming completed\n",
      "Step MentionsAnnotator, transform completed\n",
      "Step gather_step, adapting inputs\n",
      "Step gather_step, transforming...\n",
      "Step gather_step, transforming completed\n",
      "Step gather_step, transform completed\n"
     ]
    },
    {
     "name": "stdout",
     "output_type": "stream",
     "text": [
      "Transforming data to features done.\n",
      " Log a couple of examples for sanity check.\n",
      "\n"
     ]
    },
    {
     "name": "stderr",
     "output_type": "stream",
     "text": [
      "Convert Examples to features: 1it [00:00, 280.93it/s]\n",
      "Evaluating:   0%|          | 0/1 [00:00<?, ?it/s]/dccstor/media-bias-4374/gender-ambiguity-detectors/gap/models/gap/probert.py:35: UserWarning: indexing with dtype torch.uint8 is now deprecated, please use a dtype torch.bool instead. (Triggered internally at  ../aten/src/ATen/native/IndexingUtils.h:28.)\n",
      "  sequence_output = sequence_output[~gpr_tags_mask].view(batch_size, -1, self.config.hidden_size)\n",
      "Evaluating: 100%|██████████| 1/1 [00:09<00:00,  9.47s/it]"
     ]
    },
    {
     "name": "stdout",
     "output_type": "stream",
     "text": [
      "[9.9919456e-01 8.0539339e-04]\n",
      "Known pronoun 'her' resolves 'True' to 'Kathleen Nott' with a probability of '0.9991945624351501'\n"
     ]
    },
    {
     "name": "stderr",
     "output_type": "stream",
     "text": [
      "\n"
     ]
    },
    {
     "data": {
      "text/html": [
       "<div>\n",
       "<style scoped>\n",
       "    .dataframe tbody tr th:only-of-type {\n",
       "        vertical-align: middle;\n",
       "    }\n",
       "\n",
       "    .dataframe tbody tr th {\n",
       "        vertical-align: top;\n",
       "    }\n",
       "\n",
       "    .dataframe thead th {\n",
       "        text-align: right;\n",
       "    }\n",
       "</style>\n",
       "<table border=\"1\" class=\"dataframe\">\n",
       "  <thead>\n",
       "    <tr style=\"text-align: right;\">\n",
       "      <th></th>\n",
       "      <th>id</th>\n",
       "      <th>text</th>\n",
       "      <th>pronoun</th>\n",
       "      <th>pronoun_offset</th>\n",
       "      <th>a</th>\n",
       "      <th>a_offset</th>\n",
       "      <th>url</th>\n",
       "    </tr>\n",
       "  </thead>\n",
       "  <tbody>\n",
       "    <tr>\n",
       "      <th>0</th>\n",
       "      <td>na</td>\n",
       "      <td>Kathleen Nott was born in Camberwell, London. ...</td>\n",
       "      <td>her</td>\n",
       "      <td>330</td>\n",
       "      <td>Philip</td>\n",
       "      <td>58</td>\n",
       "      <td>na</td>\n",
       "    </tr>\n",
       "  </tbody>\n",
       "</table>\n",
       "</div>"
      ],
      "text/plain": [
       "   id                                               text pronoun  \\\n",
       "0  na  Kathleen Nott was born in Camberwell, London. ...     her   \n",
       "\n",
       "   pronoun_offset       a  a_offset url  \n",
       "0             330  Philip        58  na  "
      ]
     },
     "metadata": {},
     "output_type": "display_data"
    },
    {
     "name": "stderr",
     "output_type": "stream",
     "text": [
      "Initializing Step InputReader\n",
      "Step InputReader initialized\n",
      "Initializing Step LabelSanitizer\n",
      "Step LabelSanitizer initialized\n",
      "Initializing Step MentionsAnnotator\n",
      "Step MentionsAnnotator initialized\n",
      "Initializing Step gather_step\n",
      "STEPPY WARNING: Step with name \"InputReader\", already exist. Make sure that all Steps have unique name.\n",
      "Step gather_step initialized\n",
      "Step gather_step, working in \"inference\" mode\n",
      "Step InputReader, working in \"inference\" mode\n",
      "Step InputReader, adapting inputs\n",
      "Step InputReader, transforming...\n",
      "Step InputReader, transforming completed\n",
      "Step InputReader, transform completed\n",
      "Step LabelSanitizer, working in \"inference\" mode\n",
      "Step LabelSanitizer, adapting inputs\n",
      "Step LabelSanitizer, transforming...\n",
      "Step LabelSanitizer, transforming completed\n",
      "Step LabelSanitizer, transform completed\n",
      "Step MentionsAnnotator, working in \"inference\" mode\n",
      "Step InputReader, working in \"inference\" mode\n",
      "Step InputReader, adapting inputs\n",
      "Step InputReader, transforming...\n",
      "Step InputReader, transforming completed\n",
      "Step InputReader, transform completed\n",
      "Step MentionsAnnotator, unpacking inputs\n",
      "Step MentionsAnnotator, transforming...\n"
     ]
    },
    {
     "name": "stdout",
     "output_type": "stream",
     "text": [
      "Transforming data to features.\n",
      "------BEFORE DATA PIPELINE------- results/probert\n",
      "Empty DataFrame\n",
      "Columns: [id, label]\n",
      "Index: []\n"
     ]
    },
    {
     "name": "stderr",
     "output_type": "stream",
     "text": [
      "Extracting coref clusters...: 100%|██████████| 1/1 [00:00<00:00, 634.06it/s]\n",
      "Step MentionsAnnotator, transforming completed\n",
      "Step MentionsAnnotator, transform completed\n",
      "Step gather_step, adapting inputs\n",
      "Step gather_step, transforming...\n",
      "Step gather_step, transforming completed\n",
      "Step gather_step, transform completed\n"
     ]
    },
    {
     "name": "stdout",
     "output_type": "stream",
     "text": [
      "Transforming data to features done.\n",
      " Log a couple of examples for sanity check.\n",
      "\n"
     ]
    },
    {
     "name": "stderr",
     "output_type": "stream",
     "text": [
      "Convert Examples to features: 1it [00:00, 283.80it/s]\n",
      "Evaluating:   0%|          | 0/1 [00:00<?, ?it/s]/dccstor/media-bias-4374/gender-ambiguity-detectors/gap/models/gap/probert.py:35: UserWarning: indexing with dtype torch.uint8 is now deprecated, please use a dtype torch.bool instead. (Triggered internally at  ../aten/src/ATen/native/IndexingUtils.h:28.)\n",
      "  sequence_output = sequence_output[~gpr_tags_mask].view(batch_size, -1, self.config.hidden_size)\n",
      "Evaluating: 100%|██████████| 1/1 [00:09<00:00,  9.06s/it]"
     ]
    },
    {
     "name": "stdout",
     "output_type": "stream",
     "text": [
      "[0.00721901 0.992781  ]\n",
      "Known pronoun 'her' resolves 'False' to 'Philip' with a probability of '0.9927809834480286'\n"
     ]
    },
    {
     "name": "stderr",
     "output_type": "stream",
     "text": [
      "\n"
     ]
    },
    {
     "data": {
      "text/html": [
       "<div>\n",
       "<style scoped>\n",
       "    .dataframe tbody tr th:only-of-type {\n",
       "        vertical-align: middle;\n",
       "    }\n",
       "\n",
       "    .dataframe tbody tr th {\n",
       "        vertical-align: top;\n",
       "    }\n",
       "\n",
       "    .dataframe thead th {\n",
       "        text-align: right;\n",
       "    }\n",
       "</style>\n",
       "<table border=\"1\" class=\"dataframe\">\n",
       "  <thead>\n",
       "    <tr style=\"text-align: right;\">\n",
       "      <th></th>\n",
       "      <th>id</th>\n",
       "      <th>text</th>\n",
       "      <th>pronoun</th>\n",
       "      <th>pronoun_offset</th>\n",
       "      <th>a</th>\n",
       "      <th>a_offset</th>\n",
       "      <th>url</th>\n",
       "    </tr>\n",
       "  </thead>\n",
       "  <tbody>\n",
       "    <tr>\n",
       "      <th>0</th>\n",
       "      <td>na</td>\n",
       "      <td>Kathleen Nott was born in Camberwell, London. ...</td>\n",
       "      <td>her</td>\n",
       "      <td>330</td>\n",
       "      <td>Ellen</td>\n",
       "      <td>110</td>\n",
       "      <td>na</td>\n",
       "    </tr>\n",
       "  </tbody>\n",
       "</table>\n",
       "</div>"
      ],
      "text/plain": [
       "   id                                               text pronoun  \\\n",
       "0  na  Kathleen Nott was born in Camberwell, London. ...     her   \n",
       "\n",
       "   pronoun_offset      a  a_offset url  \n",
       "0             330  Ellen       110  na  "
      ]
     },
     "metadata": {},
     "output_type": "display_data"
    },
    {
     "name": "stderr",
     "output_type": "stream",
     "text": [
      "Initializing Step InputReader\n",
      "Step InputReader initialized\n",
      "Initializing Step LabelSanitizer\n",
      "Step LabelSanitizer initialized\n",
      "Initializing Step MentionsAnnotator\n",
      "Step MentionsAnnotator initialized\n",
      "Initializing Step gather_step\n",
      "STEPPY WARNING: Step with name \"InputReader\", already exist. Make sure that all Steps have unique name.\n",
      "Step gather_step initialized\n",
      "Step gather_step, working in \"inference\" mode\n",
      "Step InputReader, working in \"inference\" mode\n",
      "Step InputReader, adapting inputs\n",
      "Step InputReader, transforming...\n",
      "Step InputReader, transforming completed\n",
      "Step InputReader, transform completed\n",
      "Step LabelSanitizer, working in \"inference\" mode\n",
      "Step LabelSanitizer, adapting inputs\n",
      "Step LabelSanitizer, transforming...\n",
      "Step LabelSanitizer, transforming completed\n",
      "Step LabelSanitizer, transform completed\n",
      "Step MentionsAnnotator, working in \"inference\" mode\n",
      "Step InputReader, working in \"inference\" mode\n",
      "Step InputReader, adapting inputs\n",
      "Step InputReader, transforming...\n",
      "Step InputReader, transforming completed\n",
      "Step InputReader, transform completed\n",
      "Step MentionsAnnotator, unpacking inputs\n",
      "Step MentionsAnnotator, transforming...\n"
     ]
    },
    {
     "name": "stdout",
     "output_type": "stream",
     "text": [
      "Transforming data to features.\n",
      "------BEFORE DATA PIPELINE------- results/probert\n",
      "Empty DataFrame\n",
      "Columns: [id, label]\n",
      "Index: []\n"
     ]
    },
    {
     "name": "stderr",
     "output_type": "stream",
     "text": [
      "Extracting coref clusters...: 100%|██████████| 1/1 [00:00<00:00, 748.45it/s]\n",
      "Step MentionsAnnotator, transforming completed\n",
      "Step MentionsAnnotator, transform completed\n",
      "Step gather_step, adapting inputs\n",
      "Step gather_step, transforming...\n",
      "Step gather_step, transforming completed\n",
      "Step gather_step, transform completed\n"
     ]
    },
    {
     "name": "stdout",
     "output_type": "stream",
     "text": [
      "Transforming data to features done.\n",
      " Log a couple of examples for sanity check.\n",
      "\n"
     ]
    },
    {
     "name": "stderr",
     "output_type": "stream",
     "text": [
      "Convert Examples to features: 1it [00:00, 263.66it/s]\n",
      "Evaluating:   0%|          | 0/1 [00:00<?, ?it/s]/dccstor/media-bias-4374/gender-ambiguity-detectors/gap/models/gap/probert.py:35: UserWarning: indexing with dtype torch.uint8 is now deprecated, please use a dtype torch.bool instead. (Triggered internally at  ../aten/src/ATen/native/IndexingUtils.h:28.)\n",
      "  sequence_output = sequence_output[~gpr_tags_mask].view(batch_size, -1, self.config.hidden_size)\n",
      "Evaluating: 100%|██████████| 1/1 [00:05<00:00,  5.06s/it]"
     ]
    },
    {
     "name": "stdout",
     "output_type": "stream",
     "text": [
      "[0.005859   0.99414104]\n",
      "Known pronoun 'her' resolves 'False' to 'Ellen' with a probability of '0.9941410422325134'\n"
     ]
    },
    {
     "name": "stderr",
     "output_type": "stream",
     "text": [
      "\n"
     ]
    },
    {
     "data": {
      "text/html": [
       "<div>\n",
       "<style scoped>\n",
       "    .dataframe tbody tr th:only-of-type {\n",
       "        vertical-align: middle;\n",
       "    }\n",
       "\n",
       "    .dataframe tbody tr th {\n",
       "        vertical-align: top;\n",
       "    }\n",
       "\n",
       "    .dataframe thead th {\n",
       "        text-align: right;\n",
       "    }\n",
       "</style>\n",
       "<table border=\"1\" class=\"dataframe\">\n",
       "  <thead>\n",
       "    <tr style=\"text-align: right;\">\n",
       "      <th></th>\n",
       "      <th>id</th>\n",
       "      <th>text</th>\n",
       "      <th>pronoun</th>\n",
       "      <th>pronoun_offset</th>\n",
       "      <th>a</th>\n",
       "      <th>a_offset</th>\n",
       "      <th>url</th>\n",
       "    </tr>\n",
       "  </thead>\n",
       "  <tbody>\n",
       "    <tr>\n",
       "      <th>0</th>\n",
       "      <td>na</td>\n",
       "      <td>Kathleen Nott was born in Camberwell, London. ...</td>\n",
       "      <td>her</td>\n",
       "      <td>330</td>\n",
       "      <td>Kathleen</td>\n",
       "      <td>0</td>\n",
       "      <td>na</td>\n",
       "    </tr>\n",
       "  </tbody>\n",
       "</table>\n",
       "</div>"
      ],
      "text/plain": [
       "   id                                               text pronoun  \\\n",
       "0  na  Kathleen Nott was born in Camberwell, London. ...     her   \n",
       "\n",
       "   pronoun_offset         a  a_offset url  \n",
       "0             330  Kathleen         0  na  "
      ]
     },
     "metadata": {},
     "output_type": "display_data"
    },
    {
     "name": "stderr",
     "output_type": "stream",
     "text": [
      "Initializing Step InputReader\n",
      "Step InputReader initialized\n",
      "Initializing Step LabelSanitizer\n",
      "Step LabelSanitizer initialized\n",
      "Initializing Step MentionsAnnotator\n",
      "Step MentionsAnnotator initialized\n",
      "Initializing Step gather_step\n",
      "STEPPY WARNING: Step with name \"InputReader\", already exist. Make sure that all Steps have unique name.\n",
      "Step gather_step initialized\n",
      "Step gather_step, working in \"inference\" mode\n",
      "Step InputReader, working in \"inference\" mode\n",
      "Step InputReader, adapting inputs\n",
      "Step InputReader, transforming...\n",
      "Step InputReader, transforming completed\n",
      "Step InputReader, transform completed\n",
      "Step LabelSanitizer, working in \"inference\" mode\n",
      "Step LabelSanitizer, adapting inputs\n",
      "Step LabelSanitizer, transforming...\n",
      "Step LabelSanitizer, transforming completed\n",
      "Step LabelSanitizer, transform completed\n",
      "Step MentionsAnnotator, working in \"inference\" mode\n",
      "Step InputReader, working in \"inference\" mode\n",
      "Step InputReader, adapting inputs\n",
      "Step InputReader, transforming...\n",
      "Step InputReader, transforming completed\n",
      "Step InputReader, transform completed\n",
      "Step MentionsAnnotator, unpacking inputs\n",
      "Step MentionsAnnotator, transforming...\n"
     ]
    },
    {
     "name": "stdout",
     "output_type": "stream",
     "text": [
      "Transforming data to features.\n",
      "------BEFORE DATA PIPELINE------- results/probert\n",
      "Empty DataFrame\n",
      "Columns: [id, label]\n",
      "Index: []\n"
     ]
    },
    {
     "name": "stderr",
     "output_type": "stream",
     "text": [
      "Extracting coref clusters...: 100%|██████████| 1/1 [00:00<00:00, 603.67it/s]\n",
      "Step MentionsAnnotator, transforming completed\n",
      "Step MentionsAnnotator, transform completed\n",
      "Step gather_step, adapting inputs\n",
      "Step gather_step, transforming...\n",
      "Step gather_step, transforming completed\n",
      "Step gather_step, transform completed\n"
     ]
    },
    {
     "name": "stdout",
     "output_type": "stream",
     "text": [
      "Transforming data to features done.\n",
      " Log a couple of examples for sanity check.\n",
      "\n"
     ]
    },
    {
     "name": "stderr",
     "output_type": "stream",
     "text": [
      "Convert Examples to features: 1it [00:00, 222.25it/s]\n",
      "Evaluating:   0%|          | 0/1 [00:00<?, ?it/s]/dccstor/media-bias-4374/gender-ambiguity-detectors/gap/models/gap/probert.py:35: UserWarning: indexing with dtype torch.uint8 is now deprecated, please use a dtype torch.bool instead. (Triggered internally at  ../aten/src/ATen/native/IndexingUtils.h:28.)\n",
      "  sequence_output = sequence_output[~gpr_tags_mask].view(batch_size, -1, self.config.hidden_size)\n",
      "Evaluating: 100%|██████████| 1/1 [00:04<00:00,  4.27s/it]"
     ]
    },
    {
     "name": "stdout",
     "output_type": "stream",
     "text": [
      "[0.9988932  0.00110687]\n",
      "Known pronoun 'her' resolves 'True' to 'Kathleen' with a probability of '0.9988932013511658'\n"
     ]
    },
    {
     "name": "stderr",
     "output_type": "stream",
     "text": [
      "\n"
     ]
    },
    {
     "data": {
      "text/html": [
       "<div>\n",
       "<style scoped>\n",
       "    .dataframe tbody tr th:only-of-type {\n",
       "        vertical-align: middle;\n",
       "    }\n",
       "\n",
       "    .dataframe tbody tr th {\n",
       "        vertical-align: top;\n",
       "    }\n",
       "\n",
       "    .dataframe thead th {\n",
       "        text-align: right;\n",
       "    }\n",
       "</style>\n",
       "<table border=\"1\" class=\"dataframe\">\n",
       "  <thead>\n",
       "    <tr style=\"text-align: right;\">\n",
       "      <th></th>\n",
       "      <th>id</th>\n",
       "      <th>text</th>\n",
       "      <th>pronoun</th>\n",
       "      <th>pronoun_offset</th>\n",
       "      <th>a</th>\n",
       "      <th>a_offset</th>\n",
       "      <th>url</th>\n",
       "    </tr>\n",
       "  </thead>\n",
       "  <tbody>\n",
       "    <tr>\n",
       "      <th>0</th>\n",
       "      <td>na</td>\n",
       "      <td>Kathleen Nott was born in Camberwell, London. ...</td>\n",
       "      <td>her</td>\n",
       "      <td>330</td>\n",
       "      <td>Kathleen</td>\n",
       "      <td>150</td>\n",
       "      <td>na</td>\n",
       "    </tr>\n",
       "  </tbody>\n",
       "</table>\n",
       "</div>"
      ],
      "text/plain": [
       "   id                                               text pronoun  \\\n",
       "0  na  Kathleen Nott was born in Camberwell, London. ...     her   \n",
       "\n",
       "   pronoun_offset         a  a_offset url  \n",
       "0             330  Kathleen       150  na  "
      ]
     },
     "metadata": {},
     "output_type": "display_data"
    },
    {
     "name": "stderr",
     "output_type": "stream",
     "text": [
      "Initializing Step InputReader\n",
      "Step InputReader initialized\n",
      "Initializing Step LabelSanitizer\n",
      "Step LabelSanitizer initialized\n",
      "Initializing Step MentionsAnnotator\n",
      "Step MentionsAnnotator initialized\n",
      "Initializing Step gather_step\n",
      "STEPPY WARNING: Step with name \"InputReader\", already exist. Make sure that all Steps have unique name.\n",
      "Step gather_step initialized\n",
      "Step gather_step, working in \"inference\" mode\n",
      "Step InputReader, working in \"inference\" mode\n",
      "Step InputReader, adapting inputs\n",
      "Step InputReader, transforming...\n",
      "Step InputReader, transforming completed\n",
      "Step InputReader, transform completed\n",
      "Step LabelSanitizer, working in \"inference\" mode\n",
      "Step LabelSanitizer, adapting inputs\n",
      "Step LabelSanitizer, transforming...\n",
      "Step LabelSanitizer, transforming completed\n",
      "Step LabelSanitizer, transform completed\n",
      "Step MentionsAnnotator, working in \"inference\" mode\n",
      "Step InputReader, working in \"inference\" mode\n",
      "Step InputReader, adapting inputs\n",
      "Step InputReader, transforming...\n",
      "Step InputReader, transforming completed\n",
      "Step InputReader, transform completed\n",
      "Step MentionsAnnotator, unpacking inputs\n",
      "Step MentionsAnnotator, transforming...\n"
     ]
    },
    {
     "name": "stdout",
     "output_type": "stream",
     "text": [
      "Transforming data to features.\n",
      "------BEFORE DATA PIPELINE------- results/probert\n",
      "Empty DataFrame\n",
      "Columns: [id, label]\n",
      "Index: []\n"
     ]
    },
    {
     "name": "stderr",
     "output_type": "stream",
     "text": [
      "Extracting coref clusters...: 100%|██████████| 1/1 [00:00<00:00, 811.12it/s]\n",
      "Step MentionsAnnotator, transforming completed\n",
      "Step MentionsAnnotator, transform completed\n",
      "Step gather_step, adapting inputs\n",
      "Step gather_step, transforming...\n",
      "Step gather_step, transforming completed\n",
      "Step gather_step, transform completed\n"
     ]
    },
    {
     "name": "stdout",
     "output_type": "stream",
     "text": [
      "Transforming data to features done.\n",
      " Log a couple of examples for sanity check.\n",
      "\n"
     ]
    },
    {
     "name": "stderr",
     "output_type": "stream",
     "text": [
      "Convert Examples to features: 1it [00:00, 296.84it/s]\n",
      "Evaluating:   0%|          | 0/1 [00:00<?, ?it/s]/dccstor/media-bias-4374/gender-ambiguity-detectors/gap/models/gap/probert.py:35: UserWarning: indexing with dtype torch.uint8 is now deprecated, please use a dtype torch.bool instead. (Triggered internally at  ../aten/src/ATen/native/IndexingUtils.h:28.)\n",
      "  sequence_output = sequence_output[~gpr_tags_mask].view(batch_size, -1, self.config.hidden_size)\n",
      "Evaluating: 100%|██████████| 1/1 [00:04<00:00,  4.69s/it]"
     ]
    },
    {
     "name": "stdout",
     "output_type": "stream",
     "text": [
      "[0.9979658  0.00203421]\n",
      "Known pronoun 'her' resolves 'True' to 'Kathleen' with a probability of '0.9979658126831055'\n"
     ]
    },
    {
     "name": "stderr",
     "output_type": "stream",
     "text": [
      "\n"
     ]
    },
    {
     "data": {
      "text/html": [
       "<div>\n",
       "<style scoped>\n",
       "    .dataframe tbody tr th:only-of-type {\n",
       "        vertical-align: middle;\n",
       "    }\n",
       "\n",
       "    .dataframe tbody tr th {\n",
       "        vertical-align: top;\n",
       "    }\n",
       "\n",
       "    .dataframe thead th {\n",
       "        text-align: right;\n",
       "    }\n",
       "</style>\n",
       "<table border=\"1\" class=\"dataframe\">\n",
       "  <thead>\n",
       "    <tr style=\"text-align: right;\">\n",
       "      <th></th>\n",
       "      <th>id</th>\n",
       "      <th>text</th>\n",
       "      <th>pronoun</th>\n",
       "      <th>pronoun_offset</th>\n",
       "      <th>a</th>\n",
       "      <th>a_offset</th>\n",
       "      <th>url</th>\n",
       "    </tr>\n",
       "  </thead>\n",
       "  <tbody>\n",
       "    <tr>\n",
       "      <th>0</th>\n",
       "      <td>na</td>\n",
       "      <td>Kathleen Nott was born in Camberwell, London. ...</td>\n",
       "      <td>their</td>\n",
       "      <td>163</td>\n",
       "      <td>Kathleen Nott</td>\n",
       "      <td>0</td>\n",
       "      <td>na</td>\n",
       "    </tr>\n",
       "  </tbody>\n",
       "</table>\n",
       "</div>"
      ],
      "text/plain": [
       "   id                                               text pronoun  \\\n",
       "0  na  Kathleen Nott was born in Camberwell, London. ...   their   \n",
       "\n",
       "   pronoun_offset              a  a_offset url  \n",
       "0             163  Kathleen Nott         0  na  "
      ]
     },
     "metadata": {},
     "output_type": "display_data"
    },
    {
     "name": "stderr",
     "output_type": "stream",
     "text": [
      "Initializing Step InputReader\n",
      "Step InputReader initialized\n",
      "Initializing Step LabelSanitizer\n",
      "Step LabelSanitizer initialized\n",
      "Initializing Step MentionsAnnotator\n",
      "Step MentionsAnnotator initialized\n",
      "Initializing Step gather_step\n",
      "STEPPY WARNING: Step with name \"InputReader\", already exist. Make sure that all Steps have unique name.\n",
      "Step gather_step initialized\n",
      "Step gather_step, working in \"inference\" mode\n",
      "Step InputReader, working in \"inference\" mode\n",
      "Step InputReader, adapting inputs\n",
      "Step InputReader, transforming...\n",
      "Step InputReader, transforming completed\n",
      "Step InputReader, transform completed\n",
      "Step LabelSanitizer, working in \"inference\" mode\n",
      "Step LabelSanitizer, adapting inputs\n",
      "Step LabelSanitizer, transforming...\n",
      "Step LabelSanitizer, transforming completed\n",
      "Step LabelSanitizer, transform completed\n",
      "Step MentionsAnnotator, working in \"inference\" mode\n",
      "Step InputReader, working in \"inference\" mode\n",
      "Step InputReader, adapting inputs\n",
      "Step InputReader, transforming...\n",
      "Step InputReader, transforming completed\n",
      "Step InputReader, transform completed\n",
      "Step MentionsAnnotator, unpacking inputs\n",
      "Step MentionsAnnotator, transforming...\n"
     ]
    },
    {
     "name": "stdout",
     "output_type": "stream",
     "text": [
      "Transforming data to features.\n",
      "------BEFORE DATA PIPELINE------- results/probert\n",
      "Empty DataFrame\n",
      "Columns: [id, label]\n",
      "Index: []\n"
     ]
    },
    {
     "name": "stderr",
     "output_type": "stream",
     "text": [
      "Extracting coref clusters...: 100%|██████████| 1/1 [00:00<00:00, 749.65it/s]\n",
      "Step MentionsAnnotator, transforming completed\n",
      "Step MentionsAnnotator, transform completed\n",
      "Step gather_step, adapting inputs\n",
      "Step gather_step, transforming...\n",
      "Step gather_step, transforming completed\n",
      "Step gather_step, transform completed\n"
     ]
    },
    {
     "name": "stdout",
     "output_type": "stream",
     "text": [
      "Transforming data to features done.\n",
      " Log a couple of examples for sanity check.\n",
      "\n"
     ]
    },
    {
     "name": "stderr",
     "output_type": "stream",
     "text": [
      "Convert Examples to features: 1it [00:00, 283.23it/s]\n",
      "Evaluating:   0%|          | 0/1 [00:00<?, ?it/s]/dccstor/media-bias-4374/gender-ambiguity-detectors/gap/models/gap/probert.py:35: UserWarning: indexing with dtype torch.uint8 is now deprecated, please use a dtype torch.bool instead. (Triggered internally at  ../aten/src/ATen/native/IndexingUtils.h:28.)\n",
      "  sequence_output = sequence_output[~gpr_tags_mask].view(batch_size, -1, self.config.hidden_size)\n",
      "Evaluating: 100%|██████████| 1/1 [00:10<00:00, 10.98s/it]"
     ]
    },
    {
     "name": "stdout",
     "output_type": "stream",
     "text": [
      "[0.7361171 0.2638829]\n",
      "Known pronoun 'their' resolves 'True' to 'Kathleen Nott' with a probability of '0.7361171245574951'\n"
     ]
    },
    {
     "name": "stderr",
     "output_type": "stream",
     "text": [
      "\n"
     ]
    },
    {
     "data": {
      "text/html": [
       "<div>\n",
       "<style scoped>\n",
       "    .dataframe tbody tr th:only-of-type {\n",
       "        vertical-align: middle;\n",
       "    }\n",
       "\n",
       "    .dataframe tbody tr th {\n",
       "        vertical-align: top;\n",
       "    }\n",
       "\n",
       "    .dataframe thead th {\n",
       "        text-align: right;\n",
       "    }\n",
       "</style>\n",
       "<table border=\"1\" class=\"dataframe\">\n",
       "  <thead>\n",
       "    <tr style=\"text-align: right;\">\n",
       "      <th></th>\n",
       "      <th>id</th>\n",
       "      <th>text</th>\n",
       "      <th>pronoun</th>\n",
       "      <th>pronoun_offset</th>\n",
       "      <th>a</th>\n",
       "      <th>a_offset</th>\n",
       "      <th>url</th>\n",
       "    </tr>\n",
       "  </thead>\n",
       "  <tbody>\n",
       "    <tr>\n",
       "      <th>0</th>\n",
       "      <td>na</td>\n",
       "      <td>Kathleen Nott was born in Camberwell, London. ...</td>\n",
       "      <td>their</td>\n",
       "      <td>163</td>\n",
       "      <td>Philip</td>\n",
       "      <td>58</td>\n",
       "      <td>na</td>\n",
       "    </tr>\n",
       "  </tbody>\n",
       "</table>\n",
       "</div>"
      ],
      "text/plain": [
       "   id                                               text pronoun  \\\n",
       "0  na  Kathleen Nott was born in Camberwell, London. ...   their   \n",
       "\n",
       "   pronoun_offset       a  a_offset url  \n",
       "0             163  Philip        58  na  "
      ]
     },
     "metadata": {},
     "output_type": "display_data"
    },
    {
     "name": "stderr",
     "output_type": "stream",
     "text": [
      "Initializing Step InputReader\n",
      "Step InputReader initialized\n",
      "Initializing Step LabelSanitizer\n",
      "Step LabelSanitizer initialized\n",
      "Initializing Step MentionsAnnotator\n",
      "Step MentionsAnnotator initialized\n",
      "Initializing Step gather_step\n",
      "STEPPY WARNING: Step with name \"InputReader\", already exist. Make sure that all Steps have unique name.\n",
      "Step gather_step initialized\n",
      "Step gather_step, working in \"inference\" mode\n",
      "Step InputReader, working in \"inference\" mode\n",
      "Step InputReader, adapting inputs\n",
      "Step InputReader, transforming...\n",
      "Step InputReader, transforming completed\n",
      "Step InputReader, transform completed\n",
      "Step LabelSanitizer, working in \"inference\" mode\n",
      "Step LabelSanitizer, adapting inputs\n",
      "Step LabelSanitizer, transforming...\n",
      "Step LabelSanitizer, transforming completed\n",
      "Step LabelSanitizer, transform completed\n",
      "Step MentionsAnnotator, working in \"inference\" mode\n",
      "Step InputReader, working in \"inference\" mode\n",
      "Step InputReader, adapting inputs\n",
      "Step InputReader, transforming...\n",
      "Step InputReader, transforming completed\n",
      "Step InputReader, transform completed\n",
      "Step MentionsAnnotator, unpacking inputs\n",
      "Step MentionsAnnotator, transforming...\n"
     ]
    },
    {
     "name": "stdout",
     "output_type": "stream",
     "text": [
      "Transforming data to features.\n",
      "------BEFORE DATA PIPELINE------- results/probert\n",
      "Empty DataFrame\n",
      "Columns: [id, label]\n",
      "Index: []\n"
     ]
    },
    {
     "name": "stderr",
     "output_type": "stream",
     "text": [
      "Extracting coref clusters...: 100%|██████████| 1/1 [00:00<00:00, 815.70it/s]\n",
      "Step MentionsAnnotator, transforming completed\n",
      "Step MentionsAnnotator, transform completed\n",
      "Step gather_step, adapting inputs\n",
      "Step gather_step, transforming...\n",
      "Step gather_step, transforming completed\n",
      "Step gather_step, transform completed\n"
     ]
    },
    {
     "name": "stdout",
     "output_type": "stream",
     "text": [
      "Transforming data to features done.\n",
      " Log a couple of examples for sanity check.\n",
      "\n"
     ]
    },
    {
     "name": "stderr",
     "output_type": "stream",
     "text": [
      "Convert Examples to features: 1it [00:00, 278.01it/s]\n",
      "Evaluating:   0%|          | 0/1 [00:00<?, ?it/s]/dccstor/media-bias-4374/gender-ambiguity-detectors/gap/models/gap/probert.py:35: UserWarning: indexing with dtype torch.uint8 is now deprecated, please use a dtype torch.bool instead. (Triggered internally at  ../aten/src/ATen/native/IndexingUtils.h:28.)\n",
      "  sequence_output = sequence_output[~gpr_tags_mask].view(batch_size, -1, self.config.hidden_size)\n",
      "Evaluating: 100%|██████████| 1/1 [00:04<00:00,  4.33s/it]"
     ]
    },
    {
     "name": "stdout",
     "output_type": "stream",
     "text": [
      "[0.00899724 0.9910027 ]\n",
      "Known pronoun 'their' resolves 'False' to 'Philip' with a probability of '0.9910026788711548'\n"
     ]
    },
    {
     "name": "stderr",
     "output_type": "stream",
     "text": [
      "\n"
     ]
    },
    {
     "data": {
      "text/html": [
       "<div>\n",
       "<style scoped>\n",
       "    .dataframe tbody tr th:only-of-type {\n",
       "        vertical-align: middle;\n",
       "    }\n",
       "\n",
       "    .dataframe tbody tr th {\n",
       "        vertical-align: top;\n",
       "    }\n",
       "\n",
       "    .dataframe thead th {\n",
       "        text-align: right;\n",
       "    }\n",
       "</style>\n",
       "<table border=\"1\" class=\"dataframe\">\n",
       "  <thead>\n",
       "    <tr style=\"text-align: right;\">\n",
       "      <th></th>\n",
       "      <th>id</th>\n",
       "      <th>text</th>\n",
       "      <th>pronoun</th>\n",
       "      <th>pronoun_offset</th>\n",
       "      <th>a</th>\n",
       "      <th>a_offset</th>\n",
       "      <th>url</th>\n",
       "    </tr>\n",
       "  </thead>\n",
       "  <tbody>\n",
       "    <tr>\n",
       "      <th>0</th>\n",
       "      <td>na</td>\n",
       "      <td>Kathleen Nott was born in Camberwell, London. ...</td>\n",
       "      <td>their</td>\n",
       "      <td>163</td>\n",
       "      <td>Ellen</td>\n",
       "      <td>110</td>\n",
       "      <td>na</td>\n",
       "    </tr>\n",
       "  </tbody>\n",
       "</table>\n",
       "</div>"
      ],
      "text/plain": [
       "   id                                               text pronoun  \\\n",
       "0  na  Kathleen Nott was born in Camberwell, London. ...   their   \n",
       "\n",
       "   pronoun_offset      a  a_offset url  \n",
       "0             163  Ellen       110  na  "
      ]
     },
     "metadata": {},
     "output_type": "display_data"
    },
    {
     "name": "stderr",
     "output_type": "stream",
     "text": [
      "Initializing Step InputReader\n",
      "Step InputReader initialized\n",
      "Initializing Step LabelSanitizer\n",
      "Step LabelSanitizer initialized\n",
      "Initializing Step MentionsAnnotator\n",
      "Step MentionsAnnotator initialized\n",
      "Initializing Step gather_step\n",
      "STEPPY WARNING: Step with name \"InputReader\", already exist. Make sure that all Steps have unique name.\n",
      "Step gather_step initialized\n",
      "Step gather_step, working in \"inference\" mode\n",
      "Step InputReader, working in \"inference\" mode\n",
      "Step InputReader, adapting inputs\n",
      "Step InputReader, transforming...\n",
      "Step InputReader, transforming completed\n",
      "Step InputReader, transform completed\n",
      "Step LabelSanitizer, working in \"inference\" mode\n",
      "Step LabelSanitizer, adapting inputs\n",
      "Step LabelSanitizer, transforming...\n",
      "Step LabelSanitizer, transforming completed\n",
      "Step LabelSanitizer, transform completed\n",
      "Step MentionsAnnotator, working in \"inference\" mode\n",
      "Step InputReader, working in \"inference\" mode\n",
      "Step InputReader, adapting inputs\n",
      "Step InputReader, transforming...\n",
      "Step InputReader, transforming completed\n",
      "Step InputReader, transform completed\n",
      "Step MentionsAnnotator, unpacking inputs\n",
      "Step MentionsAnnotator, transforming...\n"
     ]
    },
    {
     "name": "stdout",
     "output_type": "stream",
     "text": [
      "Transforming data to features.\n",
      "------BEFORE DATA PIPELINE------- results/probert\n",
      "Empty DataFrame\n",
      "Columns: [id, label]\n",
      "Index: []\n"
     ]
    },
    {
     "name": "stderr",
     "output_type": "stream",
     "text": [
      "Extracting coref clusters...: 100%|██████████| 1/1 [00:00<00:00, 829.41it/s]\n",
      "Step MentionsAnnotator, transforming completed\n",
      "Step MentionsAnnotator, transform completed\n",
      "Step gather_step, adapting inputs\n",
      "Step gather_step, transforming...\n",
      "Step gather_step, transforming completed\n",
      "Step gather_step, transform completed\n"
     ]
    },
    {
     "name": "stdout",
     "output_type": "stream",
     "text": [
      "Transforming data to features done.\n",
      " Log a couple of examples for sanity check.\n",
      "\n"
     ]
    },
    {
     "name": "stderr",
     "output_type": "stream",
     "text": [
      "Convert Examples to features: 1it [00:00, 296.23it/s]\n",
      "Evaluating:   0%|          | 0/1 [00:00<?, ?it/s]/dccstor/media-bias-4374/gender-ambiguity-detectors/gap/models/gap/probert.py:35: UserWarning: indexing with dtype torch.uint8 is now deprecated, please use a dtype torch.bool instead. (Triggered internally at  ../aten/src/ATen/native/IndexingUtils.h:28.)\n",
      "  sequence_output = sequence_output[~gpr_tags_mask].view(batch_size, -1, self.config.hidden_size)\n",
      "Evaluating: 100%|██████████| 1/1 [00:09<00:00,  9.45s/it]"
     ]
    },
    {
     "name": "stdout",
     "output_type": "stream",
     "text": [
      "[0.00617779 0.9938222 ]\n",
      "Known pronoun 'their' resolves 'False' to 'Ellen' with a probability of '0.9938222169876099'\n"
     ]
    },
    {
     "name": "stderr",
     "output_type": "stream",
     "text": [
      "\n"
     ]
    },
    {
     "data": {
      "text/html": [
       "<div>\n",
       "<style scoped>\n",
       "    .dataframe tbody tr th:only-of-type {\n",
       "        vertical-align: middle;\n",
       "    }\n",
       "\n",
       "    .dataframe tbody tr th {\n",
       "        vertical-align: top;\n",
       "    }\n",
       "\n",
       "    .dataframe thead th {\n",
       "        text-align: right;\n",
       "    }\n",
       "</style>\n",
       "<table border=\"1\" class=\"dataframe\">\n",
       "  <thead>\n",
       "    <tr style=\"text-align: right;\">\n",
       "      <th></th>\n",
       "      <th>id</th>\n",
       "      <th>text</th>\n",
       "      <th>pronoun</th>\n",
       "      <th>pronoun_offset</th>\n",
       "      <th>a</th>\n",
       "      <th>a_offset</th>\n",
       "      <th>url</th>\n",
       "    </tr>\n",
       "  </thead>\n",
       "  <tbody>\n",
       "    <tr>\n",
       "      <th>0</th>\n",
       "      <td>na</td>\n",
       "      <td>Kathleen Nott was born in Camberwell, London. ...</td>\n",
       "      <td>their</td>\n",
       "      <td>163</td>\n",
       "      <td>Kathleen</td>\n",
       "      <td>0</td>\n",
       "      <td>na</td>\n",
       "    </tr>\n",
       "  </tbody>\n",
       "</table>\n",
       "</div>"
      ],
      "text/plain": [
       "   id                                               text pronoun  \\\n",
       "0  na  Kathleen Nott was born in Camberwell, London. ...   their   \n",
       "\n",
       "   pronoun_offset         a  a_offset url  \n",
       "0             163  Kathleen         0  na  "
      ]
     },
     "metadata": {},
     "output_type": "display_data"
    },
    {
     "name": "stderr",
     "output_type": "stream",
     "text": [
      "Initializing Step InputReader\n",
      "Step InputReader initialized\n",
      "Initializing Step LabelSanitizer\n",
      "Step LabelSanitizer initialized\n",
      "Initializing Step MentionsAnnotator\n",
      "Step MentionsAnnotator initialized\n",
      "Initializing Step gather_step\n",
      "STEPPY WARNING: Step with name \"InputReader\", already exist. Make sure that all Steps have unique name.\n",
      "Step gather_step initialized\n",
      "Step gather_step, working in \"inference\" mode\n",
      "Step InputReader, working in \"inference\" mode\n",
      "Step InputReader, adapting inputs\n",
      "Step InputReader, transforming...\n",
      "Step InputReader, transforming completed\n",
      "Step InputReader, transform completed\n",
      "Step LabelSanitizer, working in \"inference\" mode\n",
      "Step LabelSanitizer, adapting inputs\n",
      "Step LabelSanitizer, transforming...\n",
      "Step LabelSanitizer, transforming completed\n",
      "Step LabelSanitizer, transform completed\n",
      "Step MentionsAnnotator, working in \"inference\" mode\n",
      "Step InputReader, working in \"inference\" mode\n",
      "Step InputReader, adapting inputs\n",
      "Step InputReader, transforming...\n",
      "Step InputReader, transforming completed\n",
      "Step InputReader, transform completed\n",
      "Step MentionsAnnotator, unpacking inputs\n",
      "Step MentionsAnnotator, transforming...\n"
     ]
    },
    {
     "name": "stdout",
     "output_type": "stream",
     "text": [
      "Transforming data to features.\n",
      "------BEFORE DATA PIPELINE------- results/probert\n",
      "Empty DataFrame\n",
      "Columns: [id, label]\n",
      "Index: []\n"
     ]
    },
    {
     "name": "stderr",
     "output_type": "stream",
     "text": [
      "Extracting coref clusters...: 100%|██████████| 1/1 [00:00<00:00, 653.11it/s]\n",
      "Step MentionsAnnotator, transforming completed\n",
      "Step MentionsAnnotator, transform completed\n",
      "Step gather_step, adapting inputs\n",
      "Step gather_step, transforming...\n",
      "Step gather_step, transforming completed\n",
      "Step gather_step, transform completed\n"
     ]
    },
    {
     "name": "stdout",
     "output_type": "stream",
     "text": [
      "Transforming data to features done.\n",
      " Log a couple of examples for sanity check.\n",
      "\n"
     ]
    },
    {
     "name": "stderr",
     "output_type": "stream",
     "text": [
      "Convert Examples to features: 1it [00:00, 262.60it/s]\n",
      "Evaluating:   0%|          | 0/1 [00:00<?, ?it/s]/dccstor/media-bias-4374/gender-ambiguity-detectors/gap/models/gap/probert.py:35: UserWarning: indexing with dtype torch.uint8 is now deprecated, please use a dtype torch.bool instead. (Triggered internally at  ../aten/src/ATen/native/IndexingUtils.h:28.)\n",
      "  sequence_output = sequence_output[~gpr_tags_mask].view(batch_size, -1, self.config.hidden_size)\n",
      "Evaluating: 100%|██████████| 1/1 [00:05<00:00,  5.02s/it]"
     ]
    },
    {
     "name": "stdout",
     "output_type": "stream",
     "text": [
      "[0.519244   0.48075598]\n",
      "Known pronoun 'their' resolves 'True' to 'Kathleen' with a probability of '0.5192440152168274'\n"
     ]
    },
    {
     "name": "stderr",
     "output_type": "stream",
     "text": [
      "\n"
     ]
    },
    {
     "data": {
      "text/html": [
       "<div>\n",
       "<style scoped>\n",
       "    .dataframe tbody tr th:only-of-type {\n",
       "        vertical-align: middle;\n",
       "    }\n",
       "\n",
       "    .dataframe tbody tr th {\n",
       "        vertical-align: top;\n",
       "    }\n",
       "\n",
       "    .dataframe thead th {\n",
       "        text-align: right;\n",
       "    }\n",
       "</style>\n",
       "<table border=\"1\" class=\"dataframe\">\n",
       "  <thead>\n",
       "    <tr style=\"text-align: right;\">\n",
       "      <th></th>\n",
       "      <th>id</th>\n",
       "      <th>text</th>\n",
       "      <th>pronoun</th>\n",
       "      <th>pronoun_offset</th>\n",
       "      <th>a</th>\n",
       "      <th>a_offset</th>\n",
       "      <th>url</th>\n",
       "    </tr>\n",
       "  </thead>\n",
       "  <tbody>\n",
       "    <tr>\n",
       "      <th>0</th>\n",
       "      <td>na</td>\n",
       "      <td>Kathleen Nott was born in Camberwell, London. ...</td>\n",
       "      <td>their</td>\n",
       "      <td>163</td>\n",
       "      <td>Kathleen</td>\n",
       "      <td>150</td>\n",
       "      <td>na</td>\n",
       "    </tr>\n",
       "  </tbody>\n",
       "</table>\n",
       "</div>"
      ],
      "text/plain": [
       "   id                                               text pronoun  \\\n",
       "0  na  Kathleen Nott was born in Camberwell, London. ...   their   \n",
       "\n",
       "   pronoun_offset         a  a_offset url  \n",
       "0             163  Kathleen       150  na  "
      ]
     },
     "metadata": {},
     "output_type": "display_data"
    },
    {
     "name": "stderr",
     "output_type": "stream",
     "text": [
      "Initializing Step InputReader\n",
      "Step InputReader initialized\n",
      "Initializing Step LabelSanitizer\n",
      "Step LabelSanitizer initialized\n",
      "Initializing Step MentionsAnnotator\n",
      "Step MentionsAnnotator initialized\n",
      "Initializing Step gather_step\n",
      "STEPPY WARNING: Step with name \"InputReader\", already exist. Make sure that all Steps have unique name.\n",
      "Step gather_step initialized\n",
      "Step gather_step, working in \"inference\" mode\n",
      "Step InputReader, working in \"inference\" mode\n",
      "Step InputReader, adapting inputs\n",
      "Step InputReader, transforming...\n",
      "Step InputReader, transforming completed\n",
      "Step InputReader, transform completed\n",
      "Step LabelSanitizer, working in \"inference\" mode\n",
      "Step LabelSanitizer, adapting inputs\n",
      "Step LabelSanitizer, transforming...\n",
      "Step LabelSanitizer, transforming completed\n",
      "Step LabelSanitizer, transform completed\n",
      "Step MentionsAnnotator, working in \"inference\" mode\n",
      "Step InputReader, working in \"inference\" mode\n",
      "Step InputReader, adapting inputs\n",
      "Step InputReader, transforming...\n",
      "Step InputReader, transforming completed\n",
      "Step InputReader, transform completed\n",
      "Step MentionsAnnotator, unpacking inputs\n",
      "Step MentionsAnnotator, transforming...\n"
     ]
    },
    {
     "name": "stdout",
     "output_type": "stream",
     "text": [
      "Transforming data to features.\n",
      "------BEFORE DATA PIPELINE------- results/probert\n",
      "Empty DataFrame\n",
      "Columns: [id, label]\n",
      "Index: []\n"
     ]
    },
    {
     "name": "stderr",
     "output_type": "stream",
     "text": [
      "Extracting coref clusters...: 100%|██████████| 1/1 [00:00<00:00, 626.39it/s]\n",
      "Step MentionsAnnotator, transforming completed\n",
      "Step MentionsAnnotator, transform completed\n",
      "Step gather_step, adapting inputs\n",
      "Step gather_step, transforming...\n",
      "Step gather_step, transforming completed\n",
      "Step gather_step, transform completed\n"
     ]
    },
    {
     "name": "stdout",
     "output_type": "stream",
     "text": [
      "Transforming data to features done.\n",
      " Log a couple of examples for sanity check.\n",
      "\n"
     ]
    },
    {
     "name": "stderr",
     "output_type": "stream",
     "text": [
      "Convert Examples to features: 1it [00:00, 260.79it/s]\n",
      "Evaluating:   0%|          | 0/1 [00:00<?, ?it/s]/dccstor/media-bias-4374/gender-ambiguity-detectors/gap/models/gap/probert.py:35: UserWarning: indexing with dtype torch.uint8 is now deprecated, please use a dtype torch.bool instead. (Triggered internally at  ../aten/src/ATen/native/IndexingUtils.h:28.)\n",
      "  sequence_output = sequence_output[~gpr_tags_mask].view(batch_size, -1, self.config.hidden_size)\n",
      "Evaluating: 100%|██████████| 1/1 [00:04<00:00,  4.26s/it]"
     ]
    },
    {
     "name": "stdout",
     "output_type": "stream",
     "text": [
      "[0.7956285  0.20437148]\n",
      "Known pronoun 'their' resolves 'True' to 'Kathleen' with a probability of '0.7956284880638123'\n"
     ]
    },
    {
     "name": "stderr",
     "output_type": "stream",
     "text": [
      "\n"
     ]
    },
    {
     "data": {
      "text/html": [
       "<div>\n",
       "<style scoped>\n",
       "    .dataframe tbody tr th:only-of-type {\n",
       "        vertical-align: middle;\n",
       "    }\n",
       "\n",
       "    .dataframe tbody tr th {\n",
       "        vertical-align: top;\n",
       "    }\n",
       "\n",
       "    .dataframe thead th {\n",
       "        text-align: right;\n",
       "    }\n",
       "</style>\n",
       "<table border=\"1\" class=\"dataframe\">\n",
       "  <thead>\n",
       "    <tr style=\"text-align: right;\">\n",
       "      <th></th>\n",
       "      <th>id</th>\n",
       "      <th>text</th>\n",
       "      <th>pronoun</th>\n",
       "      <th>pronoun_offset</th>\n",
       "      <th>a</th>\n",
       "      <th>a_offset</th>\n",
       "      <th>url</th>\n",
       "    </tr>\n",
       "  </thead>\n",
       "  <tbody>\n",
       "    <tr>\n",
       "      <th>0</th>\n",
       "      <td>na</td>\n",
       "      <td>Kathleen Nott was born in Camberwell, London. ...</td>\n",
       "      <td>She</td>\n",
       "      <td>209</td>\n",
       "      <td>Kathleen Nott</td>\n",
       "      <td>0</td>\n",
       "      <td>na</td>\n",
       "    </tr>\n",
       "  </tbody>\n",
       "</table>\n",
       "</div>"
      ],
      "text/plain": [
       "   id                                               text pronoun  \\\n",
       "0  na  Kathleen Nott was born in Camberwell, London. ...     She   \n",
       "\n",
       "   pronoun_offset              a  a_offset url  \n",
       "0             209  Kathleen Nott         0  na  "
      ]
     },
     "metadata": {},
     "output_type": "display_data"
    },
    {
     "name": "stderr",
     "output_type": "stream",
     "text": [
      "Initializing Step InputReader\n",
      "Step InputReader initialized\n",
      "Initializing Step LabelSanitizer\n",
      "Step LabelSanitizer initialized\n",
      "Initializing Step MentionsAnnotator\n",
      "Step MentionsAnnotator initialized\n",
      "Initializing Step gather_step\n",
      "STEPPY WARNING: Step with name \"InputReader\", already exist. Make sure that all Steps have unique name.\n",
      "Step gather_step initialized\n",
      "Step gather_step, working in \"inference\" mode\n",
      "Step InputReader, working in \"inference\" mode\n",
      "Step InputReader, adapting inputs\n",
      "Step InputReader, transforming...\n",
      "Step InputReader, transforming completed\n",
      "Step InputReader, transform completed\n",
      "Step LabelSanitizer, working in \"inference\" mode\n",
      "Step LabelSanitizer, adapting inputs\n",
      "Step LabelSanitizer, transforming...\n",
      "Step LabelSanitizer, transforming completed\n",
      "Step LabelSanitizer, transform completed\n",
      "Step MentionsAnnotator, working in \"inference\" mode\n",
      "Step InputReader, working in \"inference\" mode\n",
      "Step InputReader, adapting inputs\n",
      "Step InputReader, transforming...\n",
      "Step InputReader, transforming completed\n",
      "Step InputReader, transform completed\n",
      "Step MentionsAnnotator, unpacking inputs\n",
      "Step MentionsAnnotator, transforming...\n"
     ]
    },
    {
     "name": "stdout",
     "output_type": "stream",
     "text": [
      "Transforming data to features.\n",
      "------BEFORE DATA PIPELINE------- results/probert\n",
      "Empty DataFrame\n",
      "Columns: [id, label]\n",
      "Index: []\n"
     ]
    },
    {
     "name": "stderr",
     "output_type": "stream",
     "text": [
      "Extracting coref clusters...: 100%|██████████| 1/1 [00:00<00:00, 844.77it/s]\n",
      "Step MentionsAnnotator, transforming completed\n",
      "Step MentionsAnnotator, transform completed\n",
      "Step gather_step, adapting inputs\n",
      "Step gather_step, transforming...\n",
      "Step gather_step, transforming completed\n",
      "Step gather_step, transform completed\n"
     ]
    },
    {
     "name": "stdout",
     "output_type": "stream",
     "text": [
      "Transforming data to features done.\n",
      " Log a couple of examples for sanity check.\n",
      "\n"
     ]
    },
    {
     "name": "stderr",
     "output_type": "stream",
     "text": [
      "Convert Examples to features: 1it [00:00, 293.53it/s]\n",
      "Evaluating:   0%|          | 0/1 [00:00<?, ?it/s]/dccstor/media-bias-4374/gender-ambiguity-detectors/gap/models/gap/probert.py:35: UserWarning: indexing with dtype torch.uint8 is now deprecated, please use a dtype torch.bool instead. (Triggered internally at  ../aten/src/ATen/native/IndexingUtils.h:28.)\n",
      "  sequence_output = sequence_output[~gpr_tags_mask].view(batch_size, -1, self.config.hidden_size)\n",
      "Evaluating: 100%|██████████| 1/1 [00:11<00:00, 11.67s/it]"
     ]
    },
    {
     "name": "stdout",
     "output_type": "stream",
     "text": [
      "[9.9959403e-01 4.0596700e-04]\n",
      "Known pronoun 'She' resolves 'True' to 'Kathleen Nott' with a probability of '0.9995940327644348'\n"
     ]
    },
    {
     "name": "stderr",
     "output_type": "stream",
     "text": [
      "\n"
     ]
    },
    {
     "data": {
      "text/html": [
       "<div>\n",
       "<style scoped>\n",
       "    .dataframe tbody tr th:only-of-type {\n",
       "        vertical-align: middle;\n",
       "    }\n",
       "\n",
       "    .dataframe tbody tr th {\n",
       "        vertical-align: top;\n",
       "    }\n",
       "\n",
       "    .dataframe thead th {\n",
       "        text-align: right;\n",
       "    }\n",
       "</style>\n",
       "<table border=\"1\" class=\"dataframe\">\n",
       "  <thead>\n",
       "    <tr style=\"text-align: right;\">\n",
       "      <th></th>\n",
       "      <th>id</th>\n",
       "      <th>text</th>\n",
       "      <th>pronoun</th>\n",
       "      <th>pronoun_offset</th>\n",
       "      <th>a</th>\n",
       "      <th>a_offset</th>\n",
       "      <th>url</th>\n",
       "    </tr>\n",
       "  </thead>\n",
       "  <tbody>\n",
       "    <tr>\n",
       "      <th>0</th>\n",
       "      <td>na</td>\n",
       "      <td>Kathleen Nott was born in Camberwell, London. ...</td>\n",
       "      <td>She</td>\n",
       "      <td>209</td>\n",
       "      <td>Philip</td>\n",
       "      <td>58</td>\n",
       "      <td>na</td>\n",
       "    </tr>\n",
       "  </tbody>\n",
       "</table>\n",
       "</div>"
      ],
      "text/plain": [
       "   id                                               text pronoun  \\\n",
       "0  na  Kathleen Nott was born in Camberwell, London. ...     She   \n",
       "\n",
       "   pronoun_offset       a  a_offset url  \n",
       "0             209  Philip        58  na  "
      ]
     },
     "metadata": {},
     "output_type": "display_data"
    },
    {
     "name": "stderr",
     "output_type": "stream",
     "text": [
      "Initializing Step InputReader\n",
      "Step InputReader initialized\n",
      "Initializing Step LabelSanitizer\n",
      "Step LabelSanitizer initialized\n",
      "Initializing Step MentionsAnnotator\n",
      "Step MentionsAnnotator initialized\n",
      "Initializing Step gather_step\n",
      "STEPPY WARNING: Step with name \"InputReader\", already exist. Make sure that all Steps have unique name.\n",
      "Step gather_step initialized\n",
      "Step gather_step, working in \"inference\" mode\n",
      "Step InputReader, working in \"inference\" mode\n",
      "Step InputReader, adapting inputs\n",
      "Step InputReader, transforming...\n",
      "Step InputReader, transforming completed\n",
      "Step InputReader, transform completed\n",
      "Step LabelSanitizer, working in \"inference\" mode\n",
      "Step LabelSanitizer, adapting inputs\n",
      "Step LabelSanitizer, transforming...\n",
      "Step LabelSanitizer, transforming completed\n",
      "Step LabelSanitizer, transform completed\n",
      "Step MentionsAnnotator, working in \"inference\" mode\n",
      "Step InputReader, working in \"inference\" mode\n",
      "Step InputReader, adapting inputs\n",
      "Step InputReader, transforming...\n",
      "Step InputReader, transforming completed\n",
      "Step InputReader, transform completed\n",
      "Step MentionsAnnotator, unpacking inputs\n",
      "Step MentionsAnnotator, transforming...\n"
     ]
    },
    {
     "name": "stdout",
     "output_type": "stream",
     "text": [
      "Transforming data to features.\n",
      "------BEFORE DATA PIPELINE------- results/probert\n",
      "Empty DataFrame\n",
      "Columns: [id, label]\n",
      "Index: []\n"
     ]
    },
    {
     "name": "stderr",
     "output_type": "stream",
     "text": [
      "Extracting coref clusters...: 100%|██████████| 1/1 [00:00<00:00, 770.45it/s]\n",
      "Step MentionsAnnotator, transforming completed\n",
      "Step MentionsAnnotator, transform completed\n",
      "Step gather_step, adapting inputs\n",
      "Step gather_step, transforming...\n",
      "Step gather_step, transforming completed\n",
      "Step gather_step, transform completed\n"
     ]
    },
    {
     "name": "stdout",
     "output_type": "stream",
     "text": [
      "Transforming data to features done.\n",
      " Log a couple of examples for sanity check.\n",
      "\n"
     ]
    },
    {
     "name": "stderr",
     "output_type": "stream",
     "text": [
      "Convert Examples to features: 1it [00:00, 259.04it/s]\n",
      "Evaluating:   0%|          | 0/1 [00:00<?, ?it/s]/dccstor/media-bias-4374/gender-ambiguity-detectors/gap/models/gap/probert.py:35: UserWarning: indexing with dtype torch.uint8 is now deprecated, please use a dtype torch.bool instead. (Triggered internally at  ../aten/src/ATen/native/IndexingUtils.h:28.)\n",
      "  sequence_output = sequence_output[~gpr_tags_mask].view(batch_size, -1, self.config.hidden_size)\n",
      "Evaluating: 100%|██████████| 1/1 [00:10<00:00, 10.45s/it]"
     ]
    },
    {
     "name": "stdout",
     "output_type": "stream",
     "text": [
      "[0.00455408 0.99544597]\n",
      "Known pronoun 'She' resolves 'False' to 'Philip' with a probability of '0.995445966720581'\n"
     ]
    },
    {
     "name": "stderr",
     "output_type": "stream",
     "text": [
      "\n"
     ]
    },
    {
     "data": {
      "text/html": [
       "<div>\n",
       "<style scoped>\n",
       "    .dataframe tbody tr th:only-of-type {\n",
       "        vertical-align: middle;\n",
       "    }\n",
       "\n",
       "    .dataframe tbody tr th {\n",
       "        vertical-align: top;\n",
       "    }\n",
       "\n",
       "    .dataframe thead th {\n",
       "        text-align: right;\n",
       "    }\n",
       "</style>\n",
       "<table border=\"1\" class=\"dataframe\">\n",
       "  <thead>\n",
       "    <tr style=\"text-align: right;\">\n",
       "      <th></th>\n",
       "      <th>id</th>\n",
       "      <th>text</th>\n",
       "      <th>pronoun</th>\n",
       "      <th>pronoun_offset</th>\n",
       "      <th>a</th>\n",
       "      <th>a_offset</th>\n",
       "      <th>url</th>\n",
       "    </tr>\n",
       "  </thead>\n",
       "  <tbody>\n",
       "    <tr>\n",
       "      <th>0</th>\n",
       "      <td>na</td>\n",
       "      <td>Kathleen Nott was born in Camberwell, London. ...</td>\n",
       "      <td>She</td>\n",
       "      <td>209</td>\n",
       "      <td>Ellen</td>\n",
       "      <td>110</td>\n",
       "      <td>na</td>\n",
       "    </tr>\n",
       "  </tbody>\n",
       "</table>\n",
       "</div>"
      ],
      "text/plain": [
       "   id                                               text pronoun  \\\n",
       "0  na  Kathleen Nott was born in Camberwell, London. ...     She   \n",
       "\n",
       "   pronoun_offset      a  a_offset url  \n",
       "0             209  Ellen       110  na  "
      ]
     },
     "metadata": {},
     "output_type": "display_data"
    },
    {
     "name": "stderr",
     "output_type": "stream",
     "text": [
      "Initializing Step InputReader\n",
      "Step InputReader initialized\n",
      "Initializing Step LabelSanitizer\n",
      "Step LabelSanitizer initialized\n",
      "Initializing Step MentionsAnnotator\n",
      "Step MentionsAnnotator initialized\n",
      "Initializing Step gather_step\n",
      "STEPPY WARNING: Step with name \"InputReader\", already exist. Make sure that all Steps have unique name.\n",
      "Step gather_step initialized\n",
      "Step gather_step, working in \"inference\" mode\n",
      "Step InputReader, working in \"inference\" mode\n",
      "Step InputReader, adapting inputs\n",
      "Step InputReader, transforming...\n",
      "Step InputReader, transforming completed\n",
      "Step InputReader, transform completed\n",
      "Step LabelSanitizer, working in \"inference\" mode\n",
      "Step LabelSanitizer, adapting inputs\n",
      "Step LabelSanitizer, transforming...\n",
      "Step LabelSanitizer, transforming completed\n",
      "Step LabelSanitizer, transform completed\n",
      "Step MentionsAnnotator, working in \"inference\" mode\n",
      "Step InputReader, working in \"inference\" mode\n",
      "Step InputReader, adapting inputs\n",
      "Step InputReader, transforming...\n",
      "Step InputReader, transforming completed\n",
      "Step InputReader, transform completed\n",
      "Step MentionsAnnotator, unpacking inputs\n",
      "Step MentionsAnnotator, transforming...\n"
     ]
    },
    {
     "name": "stdout",
     "output_type": "stream",
     "text": [
      "Transforming data to features.\n",
      "------BEFORE DATA PIPELINE------- results/probert\n",
      "Empty DataFrame\n",
      "Columns: [id, label]\n",
      "Index: []\n"
     ]
    },
    {
     "name": "stderr",
     "output_type": "stream",
     "text": [
      "Extracting coref clusters...: 100%|██████████| 1/1 [00:00<00:00, 702.56it/s]\n",
      "Step MentionsAnnotator, transforming completed\n",
      "Step MentionsAnnotator, transform completed\n",
      "Step gather_step, adapting inputs\n",
      "Step gather_step, transforming...\n",
      "Step gather_step, transforming completed\n",
      "Step gather_step, transform completed\n"
     ]
    },
    {
     "name": "stdout",
     "output_type": "stream",
     "text": [
      "Transforming data to features done.\n",
      " Log a couple of examples for sanity check.\n",
      "\n"
     ]
    },
    {
     "name": "stderr",
     "output_type": "stream",
     "text": [
      "Convert Examples to features: 1it [00:00, 284.98it/s]\n",
      "Evaluating:   0%|          | 0/1 [00:00<?, ?it/s]/dccstor/media-bias-4374/gender-ambiguity-detectors/gap/models/gap/probert.py:35: UserWarning: indexing with dtype torch.uint8 is now deprecated, please use a dtype torch.bool instead. (Triggered internally at  ../aten/src/ATen/native/IndexingUtils.h:28.)\n",
      "  sequence_output = sequence_output[~gpr_tags_mask].view(batch_size, -1, self.config.hidden_size)\n",
      "Evaluating: 100%|██████████| 1/1 [00:09<00:00,  9.33s/it]"
     ]
    },
    {
     "name": "stdout",
     "output_type": "stream",
     "text": [
      "[0.00288204 0.997118  ]\n",
      "Known pronoun 'She' resolves 'False' to 'Ellen' with a probability of '0.9971179962158203'\n"
     ]
    },
    {
     "name": "stderr",
     "output_type": "stream",
     "text": [
      "\n"
     ]
    },
    {
     "data": {
      "text/html": [
       "<div>\n",
       "<style scoped>\n",
       "    .dataframe tbody tr th:only-of-type {\n",
       "        vertical-align: middle;\n",
       "    }\n",
       "\n",
       "    .dataframe tbody tr th {\n",
       "        vertical-align: top;\n",
       "    }\n",
       "\n",
       "    .dataframe thead th {\n",
       "        text-align: right;\n",
       "    }\n",
       "</style>\n",
       "<table border=\"1\" class=\"dataframe\">\n",
       "  <thead>\n",
       "    <tr style=\"text-align: right;\">\n",
       "      <th></th>\n",
       "      <th>id</th>\n",
       "      <th>text</th>\n",
       "      <th>pronoun</th>\n",
       "      <th>pronoun_offset</th>\n",
       "      <th>a</th>\n",
       "      <th>a_offset</th>\n",
       "      <th>url</th>\n",
       "    </tr>\n",
       "  </thead>\n",
       "  <tbody>\n",
       "    <tr>\n",
       "      <th>0</th>\n",
       "      <td>na</td>\n",
       "      <td>Kathleen Nott was born in Camberwell, London. ...</td>\n",
       "      <td>She</td>\n",
       "      <td>209</td>\n",
       "      <td>Kathleen</td>\n",
       "      <td>0</td>\n",
       "      <td>na</td>\n",
       "    </tr>\n",
       "  </tbody>\n",
       "</table>\n",
       "</div>"
      ],
      "text/plain": [
       "   id                                               text pronoun  \\\n",
       "0  na  Kathleen Nott was born in Camberwell, London. ...     She   \n",
       "\n",
       "   pronoun_offset         a  a_offset url  \n",
       "0             209  Kathleen         0  na  "
      ]
     },
     "metadata": {},
     "output_type": "display_data"
    },
    {
     "name": "stderr",
     "output_type": "stream",
     "text": [
      "Initializing Step InputReader\n",
      "Step InputReader initialized\n",
      "Initializing Step LabelSanitizer\n",
      "Step LabelSanitizer initialized\n",
      "Initializing Step MentionsAnnotator\n",
      "Step MentionsAnnotator initialized\n",
      "Initializing Step gather_step\n",
      "STEPPY WARNING: Step with name \"InputReader\", already exist. Make sure that all Steps have unique name.\n",
      "Step gather_step initialized\n",
      "Step gather_step, working in \"inference\" mode\n",
      "Step InputReader, working in \"inference\" mode\n",
      "Step InputReader, adapting inputs\n",
      "Step InputReader, transforming...\n",
      "Step InputReader, transforming completed\n",
      "Step InputReader, transform completed\n",
      "Step LabelSanitizer, working in \"inference\" mode\n",
      "Step LabelSanitizer, adapting inputs\n",
      "Step LabelSanitizer, transforming...\n",
      "Step LabelSanitizer, transforming completed\n",
      "Step LabelSanitizer, transform completed\n",
      "Step MentionsAnnotator, working in \"inference\" mode\n",
      "Step InputReader, working in \"inference\" mode\n",
      "Step InputReader, adapting inputs\n",
      "Step InputReader, transforming...\n",
      "Step InputReader, transforming completed\n",
      "Step InputReader, transform completed\n",
      "Step MentionsAnnotator, unpacking inputs\n",
      "Step MentionsAnnotator, transforming...\n"
     ]
    },
    {
     "name": "stdout",
     "output_type": "stream",
     "text": [
      "Transforming data to features.\n",
      "------BEFORE DATA PIPELINE------- results/probert\n",
      "Empty DataFrame\n",
      "Columns: [id, label]\n",
      "Index: []\n"
     ]
    },
    {
     "name": "stderr",
     "output_type": "stream",
     "text": [
      "Extracting coref clusters...: 100%|██████████| 1/1 [00:00<00:00, 751.26it/s]\n",
      "Step MentionsAnnotator, transforming completed\n",
      "Step MentionsAnnotator, transform completed\n",
      "Step gather_step, adapting inputs\n",
      "Step gather_step, transforming...\n",
      "Step gather_step, transforming completed\n",
      "Step gather_step, transform completed\n"
     ]
    },
    {
     "name": "stdout",
     "output_type": "stream",
     "text": [
      "Transforming data to features done.\n",
      " Log a couple of examples for sanity check.\n",
      "\n"
     ]
    },
    {
     "name": "stderr",
     "output_type": "stream",
     "text": [
      "Convert Examples to features: 1it [00:00, 295.39it/s]\n",
      "Evaluating:   0%|          | 0/1 [00:00<?, ?it/s]/dccstor/media-bias-4374/gender-ambiguity-detectors/gap/models/gap/probert.py:35: UserWarning: indexing with dtype torch.uint8 is now deprecated, please use a dtype torch.bool instead. (Triggered internally at  ../aten/src/ATen/native/IndexingUtils.h:28.)\n",
      "  sequence_output = sequence_output[~gpr_tags_mask].view(batch_size, -1, self.config.hidden_size)\n",
      "Evaluating: 100%|██████████| 1/1 [00:09<00:00,  9.87s/it]"
     ]
    },
    {
     "name": "stdout",
     "output_type": "stream",
     "text": [
      "[9.9946779e-01 5.3223385e-04]\n",
      "Known pronoun 'She' resolves 'True' to 'Kathleen' with a probability of '0.9994677901268005'\n"
     ]
    },
    {
     "name": "stderr",
     "output_type": "stream",
     "text": [
      "\n"
     ]
    },
    {
     "data": {
      "text/html": [
       "<div>\n",
       "<style scoped>\n",
       "    .dataframe tbody tr th:only-of-type {\n",
       "        vertical-align: middle;\n",
       "    }\n",
       "\n",
       "    .dataframe tbody tr th {\n",
       "        vertical-align: top;\n",
       "    }\n",
       "\n",
       "    .dataframe thead th {\n",
       "        text-align: right;\n",
       "    }\n",
       "</style>\n",
       "<table border=\"1\" class=\"dataframe\">\n",
       "  <thead>\n",
       "    <tr style=\"text-align: right;\">\n",
       "      <th></th>\n",
       "      <th>id</th>\n",
       "      <th>text</th>\n",
       "      <th>pronoun</th>\n",
       "      <th>pronoun_offset</th>\n",
       "      <th>a</th>\n",
       "      <th>a_offset</th>\n",
       "      <th>url</th>\n",
       "    </tr>\n",
       "  </thead>\n",
       "  <tbody>\n",
       "    <tr>\n",
       "      <th>0</th>\n",
       "      <td>na</td>\n",
       "      <td>Kathleen Nott was born in Camberwell, London. ...</td>\n",
       "      <td>She</td>\n",
       "      <td>209</td>\n",
       "      <td>Kathleen</td>\n",
       "      <td>150</td>\n",
       "      <td>na</td>\n",
       "    </tr>\n",
       "  </tbody>\n",
       "</table>\n",
       "</div>"
      ],
      "text/plain": [
       "   id                                               text pronoun  \\\n",
       "0  na  Kathleen Nott was born in Camberwell, London. ...     She   \n",
       "\n",
       "   pronoun_offset         a  a_offset url  \n",
       "0             209  Kathleen       150  na  "
      ]
     },
     "metadata": {},
     "output_type": "display_data"
    },
    {
     "name": "stderr",
     "output_type": "stream",
     "text": [
      "Initializing Step InputReader\n",
      "Step InputReader initialized\n",
      "Initializing Step LabelSanitizer\n",
      "Step LabelSanitizer initialized\n",
      "Initializing Step MentionsAnnotator\n",
      "Step MentionsAnnotator initialized\n",
      "Initializing Step gather_step\n",
      "STEPPY WARNING: Step with name \"InputReader\", already exist. Make sure that all Steps have unique name.\n",
      "Step gather_step initialized\n",
      "Step gather_step, working in \"inference\" mode\n",
      "Step InputReader, working in \"inference\" mode\n",
      "Step InputReader, adapting inputs\n",
      "Step InputReader, transforming...\n",
      "Step InputReader, transforming completed\n",
      "Step InputReader, transform completed\n",
      "Step LabelSanitizer, working in \"inference\" mode\n",
      "Step LabelSanitizer, adapting inputs\n",
      "Step LabelSanitizer, transforming...\n",
      "Step LabelSanitizer, transforming completed\n",
      "Step LabelSanitizer, transform completed\n",
      "Step MentionsAnnotator, working in \"inference\" mode\n",
      "Step InputReader, working in \"inference\" mode\n",
      "Step InputReader, adapting inputs\n",
      "Step InputReader, transforming...\n",
      "Step InputReader, transforming completed\n",
      "Step InputReader, transform completed\n",
      "Step MentionsAnnotator, unpacking inputs\n",
      "Step MentionsAnnotator, transforming...\n"
     ]
    },
    {
     "name": "stdout",
     "output_type": "stream",
     "text": [
      "Transforming data to features.\n",
      "------BEFORE DATA PIPELINE------- results/probert\n",
      "Empty DataFrame\n",
      "Columns: [id, label]\n",
      "Index: []\n"
     ]
    },
    {
     "name": "stderr",
     "output_type": "stream",
     "text": [
      "Extracting coref clusters...: 100%|██████████| 1/1 [00:00<00:00, 693.85it/s]\n",
      "Step MentionsAnnotator, transforming completed\n",
      "Step MentionsAnnotator, transform completed\n",
      "Step gather_step, adapting inputs\n",
      "Step gather_step, transforming...\n",
      "Step gather_step, transforming completed\n",
      "Step gather_step, transform completed\n"
     ]
    },
    {
     "name": "stdout",
     "output_type": "stream",
     "text": [
      "Transforming data to features done.\n",
      " Log a couple of examples for sanity check.\n",
      "\n"
     ]
    },
    {
     "name": "stderr",
     "output_type": "stream",
     "text": [
      "Convert Examples to features: 1it [00:00, 274.59it/s]\n",
      "Evaluating:   0%|          | 0/1 [00:00<?, ?it/s]/dccstor/media-bias-4374/gender-ambiguity-detectors/gap/models/gap/probert.py:35: UserWarning: indexing with dtype torch.uint8 is now deprecated, please use a dtype torch.bool instead. (Triggered internally at  ../aten/src/ATen/native/IndexingUtils.h:28.)\n",
      "  sequence_output = sequence_output[~gpr_tags_mask].view(batch_size, -1, self.config.hidden_size)\n",
      "Evaluating: 100%|██████████| 1/1 [00:09<00:00,  9.13s/it]"
     ]
    },
    {
     "name": "stdout",
     "output_type": "stream",
     "text": [
      "[9.9963236e-01 3.6757041e-04]\n",
      "Known pronoun 'She' resolves 'True' to 'Kathleen' with a probability of '0.9996323585510254'\n"
     ]
    },
    {
     "name": "stderr",
     "output_type": "stream",
     "text": [
      "\n"
     ]
    },
    {
     "data": {
      "text/html": [
       "<div>\n",
       "<style scoped>\n",
       "    .dataframe tbody tr th:only-of-type {\n",
       "        vertical-align: middle;\n",
       "    }\n",
       "\n",
       "    .dataframe tbody tr th {\n",
       "        vertical-align: top;\n",
       "    }\n",
       "\n",
       "    .dataframe thead th {\n",
       "        text-align: right;\n",
       "    }\n",
       "</style>\n",
       "<table border=\"1\" class=\"dataframe\">\n",
       "  <thead>\n",
       "    <tr style=\"text-align: right;\">\n",
       "      <th></th>\n",
       "      <th>id</th>\n",
       "      <th>text</th>\n",
       "      <th>pronoun</th>\n",
       "      <th>pronoun_offset</th>\n",
       "      <th>a</th>\n",
       "      <th>a_offset</th>\n",
       "      <th>url</th>\n",
       "    </tr>\n",
       "  </thead>\n",
       "  <tbody>\n",
       "    <tr>\n",
       "      <th>0</th>\n",
       "      <td>na</td>\n",
       "      <td>Kathleen Nott was born in Camberwell, London. ...</td>\n",
       "      <td>she</td>\n",
       "      <td>335</td>\n",
       "      <td>Kathleen Nott</td>\n",
       "      <td>0</td>\n",
       "      <td>na</td>\n",
       "    </tr>\n",
       "  </tbody>\n",
       "</table>\n",
       "</div>"
      ],
      "text/plain": [
       "   id                                               text pronoun  \\\n",
       "0  na  Kathleen Nott was born in Camberwell, London. ...     she   \n",
       "\n",
       "   pronoun_offset              a  a_offset url  \n",
       "0             335  Kathleen Nott         0  na  "
      ]
     },
     "metadata": {},
     "output_type": "display_data"
    },
    {
     "name": "stderr",
     "output_type": "stream",
     "text": [
      "Initializing Step InputReader\n",
      "Step InputReader initialized\n",
      "Initializing Step LabelSanitizer\n",
      "Step LabelSanitizer initialized\n",
      "Initializing Step MentionsAnnotator\n",
      "Step MentionsAnnotator initialized\n",
      "Initializing Step gather_step\n",
      "STEPPY WARNING: Step with name \"InputReader\", already exist. Make sure that all Steps have unique name.\n",
      "Step gather_step initialized\n",
      "Step gather_step, working in \"inference\" mode\n",
      "Step InputReader, working in \"inference\" mode\n",
      "Step InputReader, adapting inputs\n",
      "Step InputReader, transforming...\n",
      "Step InputReader, transforming completed\n",
      "Step InputReader, transform completed\n",
      "Step LabelSanitizer, working in \"inference\" mode\n",
      "Step LabelSanitizer, adapting inputs\n",
      "Step LabelSanitizer, transforming...\n",
      "Step LabelSanitizer, transforming completed\n",
      "Step LabelSanitizer, transform completed\n",
      "Step MentionsAnnotator, working in \"inference\" mode\n",
      "Step InputReader, working in \"inference\" mode\n",
      "Step InputReader, adapting inputs\n",
      "Step InputReader, transforming...\n",
      "Step InputReader, transforming completed\n",
      "Step InputReader, transform completed\n",
      "Step MentionsAnnotator, unpacking inputs\n",
      "Step MentionsAnnotator, transforming...\n"
     ]
    },
    {
     "name": "stdout",
     "output_type": "stream",
     "text": [
      "Transforming data to features.\n",
      "------BEFORE DATA PIPELINE------- results/probert\n",
      "Empty DataFrame\n",
      "Columns: [id, label]\n",
      "Index: []\n"
     ]
    },
    {
     "name": "stderr",
     "output_type": "stream",
     "text": [
      "Extracting coref clusters...: 100%|██████████| 1/1 [00:00<00:00, 614.55it/s]\n",
      "Step MentionsAnnotator, transforming completed\n",
      "Step MentionsAnnotator, transform completed\n",
      "Step gather_step, adapting inputs\n",
      "Step gather_step, transforming...\n",
      "Step gather_step, transforming completed\n",
      "Step gather_step, transform completed\n"
     ]
    },
    {
     "name": "stdout",
     "output_type": "stream",
     "text": [
      "Transforming data to features done.\n",
      " Log a couple of examples for sanity check.\n",
      "\n"
     ]
    },
    {
     "name": "stderr",
     "output_type": "stream",
     "text": [
      "Convert Examples to features: 1it [00:00, 250.15it/s]\n",
      "Evaluating:   0%|          | 0/1 [00:00<?, ?it/s]/dccstor/media-bias-4374/gender-ambiguity-detectors/gap/models/gap/probert.py:35: UserWarning: indexing with dtype torch.uint8 is now deprecated, please use a dtype torch.bool instead. (Triggered internally at  ../aten/src/ATen/native/IndexingUtils.h:28.)\n",
      "  sequence_output = sequence_output[~gpr_tags_mask].view(batch_size, -1, self.config.hidden_size)\n",
      "Evaluating: 100%|██████████| 1/1 [00:08<00:00,  8.82s/it]"
     ]
    },
    {
     "name": "stdout",
     "output_type": "stream",
     "text": [
      "[9.9905211e-01 9.4790035e-04]\n",
      "Known pronoun 'she' resolves 'True' to 'Kathleen Nott' with a probability of '0.999052107334137'\n"
     ]
    },
    {
     "name": "stderr",
     "output_type": "stream",
     "text": [
      "\n"
     ]
    },
    {
     "data": {
      "text/html": [
       "<div>\n",
       "<style scoped>\n",
       "    .dataframe tbody tr th:only-of-type {\n",
       "        vertical-align: middle;\n",
       "    }\n",
       "\n",
       "    .dataframe tbody tr th {\n",
       "        vertical-align: top;\n",
       "    }\n",
       "\n",
       "    .dataframe thead th {\n",
       "        text-align: right;\n",
       "    }\n",
       "</style>\n",
       "<table border=\"1\" class=\"dataframe\">\n",
       "  <thead>\n",
       "    <tr style=\"text-align: right;\">\n",
       "      <th></th>\n",
       "      <th>id</th>\n",
       "      <th>text</th>\n",
       "      <th>pronoun</th>\n",
       "      <th>pronoun_offset</th>\n",
       "      <th>a</th>\n",
       "      <th>a_offset</th>\n",
       "      <th>url</th>\n",
       "    </tr>\n",
       "  </thead>\n",
       "  <tbody>\n",
       "    <tr>\n",
       "      <th>0</th>\n",
       "      <td>na</td>\n",
       "      <td>Kathleen Nott was born in Camberwell, London. ...</td>\n",
       "      <td>she</td>\n",
       "      <td>335</td>\n",
       "      <td>Philip</td>\n",
       "      <td>58</td>\n",
       "      <td>na</td>\n",
       "    </tr>\n",
       "  </tbody>\n",
       "</table>\n",
       "</div>"
      ],
      "text/plain": [
       "   id                                               text pronoun  \\\n",
       "0  na  Kathleen Nott was born in Camberwell, London. ...     she   \n",
       "\n",
       "   pronoun_offset       a  a_offset url  \n",
       "0             335  Philip        58  na  "
      ]
     },
     "metadata": {},
     "output_type": "display_data"
    },
    {
     "name": "stderr",
     "output_type": "stream",
     "text": [
      "Initializing Step InputReader\n",
      "Step InputReader initialized\n",
      "Initializing Step LabelSanitizer\n",
      "Step LabelSanitizer initialized\n",
      "Initializing Step MentionsAnnotator\n",
      "Step MentionsAnnotator initialized\n",
      "Initializing Step gather_step\n",
      "STEPPY WARNING: Step with name \"InputReader\", already exist. Make sure that all Steps have unique name.\n",
      "Step gather_step initialized\n",
      "Step gather_step, working in \"inference\" mode\n",
      "Step InputReader, working in \"inference\" mode\n",
      "Step InputReader, adapting inputs\n",
      "Step InputReader, transforming...\n",
      "Step InputReader, transforming completed\n",
      "Step InputReader, transform completed\n",
      "Step LabelSanitizer, working in \"inference\" mode\n",
      "Step LabelSanitizer, adapting inputs\n",
      "Step LabelSanitizer, transforming...\n",
      "Step LabelSanitizer, transforming completed\n",
      "Step LabelSanitizer, transform completed\n",
      "Step MentionsAnnotator, working in \"inference\" mode\n",
      "Step InputReader, working in \"inference\" mode\n",
      "Step InputReader, adapting inputs\n",
      "Step InputReader, transforming...\n",
      "Step InputReader, transforming completed\n",
      "Step InputReader, transform completed\n",
      "Step MentionsAnnotator, unpacking inputs\n",
      "Step MentionsAnnotator, transforming...\n"
     ]
    },
    {
     "name": "stdout",
     "output_type": "stream",
     "text": [
      "Transforming data to features.\n",
      "------BEFORE DATA PIPELINE------- results/probert\n",
      "Empty DataFrame\n",
      "Columns: [id, label]\n",
      "Index: []\n"
     ]
    },
    {
     "name": "stderr",
     "output_type": "stream",
     "text": [
      "Extracting coref clusters...: 100%|██████████| 1/1 [00:00<00:00, 715.26it/s]\n",
      "Step MentionsAnnotator, transforming completed\n",
      "Step MentionsAnnotator, transform completed\n",
      "Step gather_step, adapting inputs\n",
      "Step gather_step, transforming...\n",
      "Step gather_step, transforming completed\n",
      "Step gather_step, transform completed\n"
     ]
    },
    {
     "name": "stdout",
     "output_type": "stream",
     "text": [
      "Transforming data to features done.\n",
      " Log a couple of examples for sanity check.\n",
      "\n"
     ]
    },
    {
     "name": "stderr",
     "output_type": "stream",
     "text": [
      "Convert Examples to features: 1it [00:00, 259.69it/s]\n",
      "Evaluating:   0%|          | 0/1 [00:00<?, ?it/s]/dccstor/media-bias-4374/gender-ambiguity-detectors/gap/models/gap/probert.py:35: UserWarning: indexing with dtype torch.uint8 is now deprecated, please use a dtype torch.bool instead. (Triggered internally at  ../aten/src/ATen/native/IndexingUtils.h:28.)\n",
      "  sequence_output = sequence_output[~gpr_tags_mask].view(batch_size, -1, self.config.hidden_size)\n",
      "Evaluating: 100%|██████████| 1/1 [00:10<00:00, 10.26s/it]"
     ]
    },
    {
     "name": "stdout",
     "output_type": "stream",
     "text": [
      "[0.0035272 0.9964728]\n",
      "Known pronoun 'she' resolves 'False' to 'Philip' with a probability of '0.9964727759361267'\n"
     ]
    },
    {
     "name": "stderr",
     "output_type": "stream",
     "text": [
      "\n"
     ]
    },
    {
     "data": {
      "text/html": [
       "<div>\n",
       "<style scoped>\n",
       "    .dataframe tbody tr th:only-of-type {\n",
       "        vertical-align: middle;\n",
       "    }\n",
       "\n",
       "    .dataframe tbody tr th {\n",
       "        vertical-align: top;\n",
       "    }\n",
       "\n",
       "    .dataframe thead th {\n",
       "        text-align: right;\n",
       "    }\n",
       "</style>\n",
       "<table border=\"1\" class=\"dataframe\">\n",
       "  <thead>\n",
       "    <tr style=\"text-align: right;\">\n",
       "      <th></th>\n",
       "      <th>id</th>\n",
       "      <th>text</th>\n",
       "      <th>pronoun</th>\n",
       "      <th>pronoun_offset</th>\n",
       "      <th>a</th>\n",
       "      <th>a_offset</th>\n",
       "      <th>url</th>\n",
       "    </tr>\n",
       "  </thead>\n",
       "  <tbody>\n",
       "    <tr>\n",
       "      <th>0</th>\n",
       "      <td>na</td>\n",
       "      <td>Kathleen Nott was born in Camberwell, London. ...</td>\n",
       "      <td>she</td>\n",
       "      <td>335</td>\n",
       "      <td>Ellen</td>\n",
       "      <td>110</td>\n",
       "      <td>na</td>\n",
       "    </tr>\n",
       "  </tbody>\n",
       "</table>\n",
       "</div>"
      ],
      "text/plain": [
       "   id                                               text pronoun  \\\n",
       "0  na  Kathleen Nott was born in Camberwell, London. ...     she   \n",
       "\n",
       "   pronoun_offset      a  a_offset url  \n",
       "0             335  Ellen       110  na  "
      ]
     },
     "metadata": {},
     "output_type": "display_data"
    },
    {
     "name": "stderr",
     "output_type": "stream",
     "text": [
      "Initializing Step InputReader\n",
      "Step InputReader initialized\n",
      "Initializing Step LabelSanitizer\n",
      "Step LabelSanitizer initialized\n",
      "Initializing Step MentionsAnnotator\n",
      "Step MentionsAnnotator initialized\n",
      "Initializing Step gather_step\n",
      "STEPPY WARNING: Step with name \"InputReader\", already exist. Make sure that all Steps have unique name.\n",
      "Step gather_step initialized\n",
      "Step gather_step, working in \"inference\" mode\n",
      "Step InputReader, working in \"inference\" mode\n",
      "Step InputReader, adapting inputs\n",
      "Step InputReader, transforming...\n",
      "Step InputReader, transforming completed\n",
      "Step InputReader, transform completed\n",
      "Step LabelSanitizer, working in \"inference\" mode\n",
      "Step LabelSanitizer, adapting inputs\n",
      "Step LabelSanitizer, transforming...\n",
      "Step LabelSanitizer, transforming completed\n",
      "Step LabelSanitizer, transform completed\n",
      "Step MentionsAnnotator, working in \"inference\" mode\n",
      "Step InputReader, working in \"inference\" mode\n",
      "Step InputReader, adapting inputs\n",
      "Step InputReader, transforming...\n",
      "Step InputReader, transforming completed\n",
      "Step InputReader, transform completed\n",
      "Step MentionsAnnotator, unpacking inputs\n",
      "Step MentionsAnnotator, transforming...\n"
     ]
    },
    {
     "name": "stdout",
     "output_type": "stream",
     "text": [
      "Transforming data to features.\n",
      "------BEFORE DATA PIPELINE------- results/probert\n",
      "Empty DataFrame\n",
      "Columns: [id, label]\n",
      "Index: []\n"
     ]
    },
    {
     "name": "stderr",
     "output_type": "stream",
     "text": [
      "Extracting coref clusters...: 100%|██████████| 1/1 [00:00<00:00, 802.12it/s]\n",
      "Step MentionsAnnotator, transforming completed\n",
      "Step MentionsAnnotator, transform completed\n",
      "Step gather_step, adapting inputs\n",
      "Step gather_step, transforming...\n",
      "Step gather_step, transforming completed\n",
      "Step gather_step, transform completed\n"
     ]
    },
    {
     "name": "stdout",
     "output_type": "stream",
     "text": [
      "Transforming data to features done.\n",
      " Log a couple of examples for sanity check.\n",
      "\n"
     ]
    },
    {
     "name": "stderr",
     "output_type": "stream",
     "text": [
      "Convert Examples to features: 1it [00:00, 282.88it/s]\n",
      "Evaluating:   0%|          | 0/1 [00:00<?, ?it/s]/dccstor/media-bias-4374/gender-ambiguity-detectors/gap/models/gap/probert.py:35: UserWarning: indexing with dtype torch.uint8 is now deprecated, please use a dtype torch.bool instead. (Triggered internally at  ../aten/src/ATen/native/IndexingUtils.h:28.)\n",
      "  sequence_output = sequence_output[~gpr_tags_mask].view(batch_size, -1, self.config.hidden_size)\n",
      "Evaluating: 100%|██████████| 1/1 [00:09<00:00,  9.69s/it]"
     ]
    },
    {
     "name": "stdout",
     "output_type": "stream",
     "text": [
      "[0.00231729 0.9976827 ]\n",
      "Known pronoun 'she' resolves 'False' to 'Ellen' with a probability of '0.9976826906204224'\n"
     ]
    },
    {
     "name": "stderr",
     "output_type": "stream",
     "text": [
      "\n"
     ]
    },
    {
     "data": {
      "text/html": [
       "<div>\n",
       "<style scoped>\n",
       "    .dataframe tbody tr th:only-of-type {\n",
       "        vertical-align: middle;\n",
       "    }\n",
       "\n",
       "    .dataframe tbody tr th {\n",
       "        vertical-align: top;\n",
       "    }\n",
       "\n",
       "    .dataframe thead th {\n",
       "        text-align: right;\n",
       "    }\n",
       "</style>\n",
       "<table border=\"1\" class=\"dataframe\">\n",
       "  <thead>\n",
       "    <tr style=\"text-align: right;\">\n",
       "      <th></th>\n",
       "      <th>id</th>\n",
       "      <th>text</th>\n",
       "      <th>pronoun</th>\n",
       "      <th>pronoun_offset</th>\n",
       "      <th>a</th>\n",
       "      <th>a_offset</th>\n",
       "      <th>url</th>\n",
       "    </tr>\n",
       "  </thead>\n",
       "  <tbody>\n",
       "    <tr>\n",
       "      <th>0</th>\n",
       "      <td>na</td>\n",
       "      <td>Kathleen Nott was born in Camberwell, London. ...</td>\n",
       "      <td>she</td>\n",
       "      <td>335</td>\n",
       "      <td>Kathleen</td>\n",
       "      <td>0</td>\n",
       "      <td>na</td>\n",
       "    </tr>\n",
       "  </tbody>\n",
       "</table>\n",
       "</div>"
      ],
      "text/plain": [
       "   id                                               text pronoun  \\\n",
       "0  na  Kathleen Nott was born in Camberwell, London. ...     she   \n",
       "\n",
       "   pronoun_offset         a  a_offset url  \n",
       "0             335  Kathleen         0  na  "
      ]
     },
     "metadata": {},
     "output_type": "display_data"
    },
    {
     "name": "stderr",
     "output_type": "stream",
     "text": [
      "Initializing Step InputReader\n",
      "Step InputReader initialized\n",
      "Initializing Step LabelSanitizer\n",
      "Step LabelSanitizer initialized\n",
      "Initializing Step MentionsAnnotator\n",
      "Step MentionsAnnotator initialized\n",
      "Initializing Step gather_step\n",
      "STEPPY WARNING: Step with name \"InputReader\", already exist. Make sure that all Steps have unique name.\n",
      "Step gather_step initialized\n",
      "Step gather_step, working in \"inference\" mode\n",
      "Step InputReader, working in \"inference\" mode\n",
      "Step InputReader, adapting inputs\n",
      "Step InputReader, transforming...\n",
      "Step InputReader, transforming completed\n",
      "Step InputReader, transform completed\n",
      "Step LabelSanitizer, working in \"inference\" mode\n",
      "Step LabelSanitizer, adapting inputs\n",
      "Step LabelSanitizer, transforming...\n",
      "Step LabelSanitizer, transforming completed\n",
      "Step LabelSanitizer, transform completed\n",
      "Step MentionsAnnotator, working in \"inference\" mode\n",
      "Step InputReader, working in \"inference\" mode\n",
      "Step InputReader, adapting inputs\n",
      "Step InputReader, transforming...\n",
      "Step InputReader, transforming completed\n",
      "Step InputReader, transform completed\n",
      "Step MentionsAnnotator, unpacking inputs\n",
      "Step MentionsAnnotator, transforming...\n"
     ]
    },
    {
     "name": "stdout",
     "output_type": "stream",
     "text": [
      "Transforming data to features.\n",
      "------BEFORE DATA PIPELINE------- results/probert\n",
      "Empty DataFrame\n",
      "Columns: [id, label]\n",
      "Index: []\n"
     ]
    },
    {
     "name": "stderr",
     "output_type": "stream",
     "text": [
      "Extracting coref clusters...: 100%|██████████| 1/1 [00:00<00:00, 704.81it/s]\n",
      "Step MentionsAnnotator, transforming completed\n",
      "Step MentionsAnnotator, transform completed\n",
      "Step gather_step, adapting inputs\n",
      "Step gather_step, transforming...\n",
      "Step gather_step, transforming completed\n",
      "Step gather_step, transform completed\n"
     ]
    },
    {
     "name": "stdout",
     "output_type": "stream",
     "text": [
      "Transforming data to features done.\n",
      " Log a couple of examples for sanity check.\n",
      "\n"
     ]
    },
    {
     "name": "stderr",
     "output_type": "stream",
     "text": [
      "Convert Examples to features: 1it [00:00, 272.39it/s]\n",
      "Evaluating:   0%|          | 0/1 [00:00<?, ?it/s]/dccstor/media-bias-4374/gender-ambiguity-detectors/gap/models/gap/probert.py:35: UserWarning: indexing with dtype torch.uint8 is now deprecated, please use a dtype torch.bool instead. (Triggered internally at  ../aten/src/ATen/native/IndexingUtils.h:28.)\n",
      "  sequence_output = sequence_output[~gpr_tags_mask].view(batch_size, -1, self.config.hidden_size)\n",
      "Evaluating: 100%|██████████| 1/1 [00:11<00:00, 11.00s/it]"
     ]
    },
    {
     "name": "stdout",
     "output_type": "stream",
     "text": [
      "[0.9972978  0.00270222]\n",
      "Known pronoun 'she' resolves 'True' to 'Kathleen' with a probability of '0.9972978234291077'\n"
     ]
    },
    {
     "name": "stderr",
     "output_type": "stream",
     "text": [
      "\n"
     ]
    },
    {
     "data": {
      "text/html": [
       "<div>\n",
       "<style scoped>\n",
       "    .dataframe tbody tr th:only-of-type {\n",
       "        vertical-align: middle;\n",
       "    }\n",
       "\n",
       "    .dataframe tbody tr th {\n",
       "        vertical-align: top;\n",
       "    }\n",
       "\n",
       "    .dataframe thead th {\n",
       "        text-align: right;\n",
       "    }\n",
       "</style>\n",
       "<table border=\"1\" class=\"dataframe\">\n",
       "  <thead>\n",
       "    <tr style=\"text-align: right;\">\n",
       "      <th></th>\n",
       "      <th>id</th>\n",
       "      <th>text</th>\n",
       "      <th>pronoun</th>\n",
       "      <th>pronoun_offset</th>\n",
       "      <th>a</th>\n",
       "      <th>a_offset</th>\n",
       "      <th>url</th>\n",
       "    </tr>\n",
       "  </thead>\n",
       "  <tbody>\n",
       "    <tr>\n",
       "      <th>0</th>\n",
       "      <td>na</td>\n",
       "      <td>Kathleen Nott was born in Camberwell, London. ...</td>\n",
       "      <td>she</td>\n",
       "      <td>335</td>\n",
       "      <td>Kathleen</td>\n",
       "      <td>150</td>\n",
       "      <td>na</td>\n",
       "    </tr>\n",
       "  </tbody>\n",
       "</table>\n",
       "</div>"
      ],
      "text/plain": [
       "   id                                               text pronoun  \\\n",
       "0  na  Kathleen Nott was born in Camberwell, London. ...     she   \n",
       "\n",
       "   pronoun_offset         a  a_offset url  \n",
       "0             335  Kathleen       150  na  "
      ]
     },
     "metadata": {},
     "output_type": "display_data"
    },
    {
     "name": "stderr",
     "output_type": "stream",
     "text": [
      "Initializing Step InputReader\n",
      "Step InputReader initialized\n",
      "Initializing Step LabelSanitizer\n",
      "Step LabelSanitizer initialized\n",
      "Initializing Step MentionsAnnotator\n",
      "Step MentionsAnnotator initialized\n",
      "Initializing Step gather_step\n",
      "STEPPY WARNING: Step with name \"InputReader\", already exist. Make sure that all Steps have unique name.\n",
      "Step gather_step initialized\n",
      "Step gather_step, working in \"inference\" mode\n",
      "Step InputReader, working in \"inference\" mode\n",
      "Step InputReader, adapting inputs\n",
      "Step InputReader, transforming...\n",
      "Step InputReader, transforming completed\n",
      "Step InputReader, transform completed\n",
      "Step LabelSanitizer, working in \"inference\" mode\n",
      "Step LabelSanitizer, adapting inputs\n",
      "Step LabelSanitizer, transforming...\n",
      "Step LabelSanitizer, transforming completed\n",
      "Step LabelSanitizer, transform completed\n",
      "Step MentionsAnnotator, working in \"inference\" mode\n",
      "Step InputReader, working in \"inference\" mode\n",
      "Step InputReader, adapting inputs\n",
      "Step InputReader, transforming...\n",
      "Step InputReader, transforming completed\n",
      "Step InputReader, transform completed\n",
      "Step MentionsAnnotator, unpacking inputs\n",
      "Step MentionsAnnotator, transforming...\n"
     ]
    },
    {
     "name": "stdout",
     "output_type": "stream",
     "text": [
      "Transforming data to features.\n",
      "------BEFORE DATA PIPELINE------- results/probert\n",
      "Empty DataFrame\n",
      "Columns: [id, label]\n",
      "Index: []\n"
     ]
    },
    {
     "name": "stderr",
     "output_type": "stream",
     "text": [
      "Extracting coref clusters...: 100%|██████████| 1/1 [00:00<00:00, 713.92it/s]\n",
      "Step MentionsAnnotator, transforming completed\n",
      "Step MentionsAnnotator, transform completed\n",
      "Step gather_step, adapting inputs\n",
      "Step gather_step, transforming...\n",
      "Step gather_step, transforming completed\n",
      "Step gather_step, transform completed\n"
     ]
    },
    {
     "name": "stdout",
     "output_type": "stream",
     "text": [
      "Transforming data to features done.\n",
      " Log a couple of examples for sanity check.\n",
      "\n"
     ]
    },
    {
     "name": "stderr",
     "output_type": "stream",
     "text": [
      "Convert Examples to features: 1it [00:00, 249.56it/s]\n",
      "Evaluating:   0%|          | 0/1 [00:00<?, ?it/s]/dccstor/media-bias-4374/gender-ambiguity-detectors/gap/models/gap/probert.py:35: UserWarning: indexing with dtype torch.uint8 is now deprecated, please use a dtype torch.bool instead. (Triggered internally at  ../aten/src/ATen/native/IndexingUtils.h:28.)\n",
      "  sequence_output = sequence_output[~gpr_tags_mask].view(batch_size, -1, self.config.hidden_size)\n",
      "Evaluating: 100%|██████████| 1/1 [00:06<00:00,  6.89s/it]"
     ]
    },
    {
     "name": "stdout",
     "output_type": "stream",
     "text": [
      "[0.9444801  0.05551986]\n",
      "Known pronoun 'she' resolves 'True' to 'Kathleen' with a probability of '0.9444801211357117'\n"
     ]
    },
    {
     "name": "stderr",
     "output_type": "stream",
     "text": [
      "\n"
     ]
    },
    {
     "data": {
      "text/html": [
       "<div>\n",
       "<style scoped>\n",
       "    .dataframe tbody tr th:only-of-type {\n",
       "        vertical-align: middle;\n",
       "    }\n",
       "\n",
       "    .dataframe tbody tr th {\n",
       "        vertical-align: top;\n",
       "    }\n",
       "\n",
       "    .dataframe thead th {\n",
       "        text-align: right;\n",
       "    }\n",
       "</style>\n",
       "<table border=\"1\" class=\"dataframe\">\n",
       "  <thead>\n",
       "    <tr style=\"text-align: right;\">\n",
       "      <th></th>\n",
       "      <th>id</th>\n",
       "      <th>text</th>\n",
       "      <th>pronoun</th>\n",
       "      <th>pronoun_offset</th>\n",
       "      <th>a</th>\n",
       "      <th>a_offset</th>\n",
       "      <th>url</th>\n",
       "    </tr>\n",
       "  </thead>\n",
       "  <tbody>\n",
       "    <tr>\n",
       "      <th>0</th>\n",
       "      <td>na</td>\n",
       "      <td>Kathleen Nott was born in Camberwell, London. ...</td>\n",
       "      <td>them</td>\n",
       "      <td>355</td>\n",
       "      <td>Kathleen Nott</td>\n",
       "      <td>0</td>\n",
       "      <td>na</td>\n",
       "    </tr>\n",
       "  </tbody>\n",
       "</table>\n",
       "</div>"
      ],
      "text/plain": [
       "   id                                               text pronoun  \\\n",
       "0  na  Kathleen Nott was born in Camberwell, London. ...    them   \n",
       "\n",
       "   pronoun_offset              a  a_offset url  \n",
       "0             355  Kathleen Nott         0  na  "
      ]
     },
     "metadata": {},
     "output_type": "display_data"
    },
    {
     "name": "stderr",
     "output_type": "stream",
     "text": [
      "Initializing Step InputReader\n",
      "Step InputReader initialized\n",
      "Initializing Step LabelSanitizer\n",
      "Step LabelSanitizer initialized\n",
      "Initializing Step MentionsAnnotator\n",
      "Step MentionsAnnotator initialized\n",
      "Initializing Step gather_step\n",
      "STEPPY WARNING: Step with name \"InputReader\", already exist. Make sure that all Steps have unique name.\n",
      "Step gather_step initialized\n",
      "Step gather_step, working in \"inference\" mode\n",
      "Step InputReader, working in \"inference\" mode\n",
      "Step InputReader, adapting inputs\n",
      "Step InputReader, transforming...\n",
      "Step InputReader, transforming completed\n",
      "Step InputReader, transform completed\n",
      "Step LabelSanitizer, working in \"inference\" mode\n",
      "Step LabelSanitizer, adapting inputs\n",
      "Step LabelSanitizer, transforming...\n",
      "Step LabelSanitizer, transforming completed\n",
      "Step LabelSanitizer, transform completed\n",
      "Step MentionsAnnotator, working in \"inference\" mode\n",
      "Step InputReader, working in \"inference\" mode\n",
      "Step InputReader, adapting inputs\n",
      "Step InputReader, transforming...\n",
      "Step InputReader, transforming completed\n",
      "Step InputReader, transform completed\n",
      "Step MentionsAnnotator, unpacking inputs\n",
      "Step MentionsAnnotator, transforming...\n"
     ]
    },
    {
     "name": "stdout",
     "output_type": "stream",
     "text": [
      "Transforming data to features.\n",
      "------BEFORE DATA PIPELINE------- results/probert\n",
      "Empty DataFrame\n",
      "Columns: [id, label]\n",
      "Index: []\n"
     ]
    },
    {
     "name": "stderr",
     "output_type": "stream",
     "text": [
      "Extracting coref clusters...: 100%|██████████| 1/1 [00:00<00:00, 748.45it/s]\n",
      "Step MentionsAnnotator, transforming completed\n",
      "Step MentionsAnnotator, transform completed\n",
      "Step gather_step, adapting inputs\n",
      "Step gather_step, transforming...\n",
      "Step gather_step, transforming completed\n",
      "Step gather_step, transform completed\n"
     ]
    },
    {
     "name": "stdout",
     "output_type": "stream",
     "text": [
      "Transforming data to features done.\n",
      " Log a couple of examples for sanity check.\n",
      "\n"
     ]
    },
    {
     "name": "stderr",
     "output_type": "stream",
     "text": [
      "Convert Examples to features: 1it [00:00, 287.34it/s]\n",
      "Evaluating:   0%|          | 0/1 [00:00<?, ?it/s]/dccstor/media-bias-4374/gender-ambiguity-detectors/gap/models/gap/probert.py:35: UserWarning: indexing with dtype torch.uint8 is now deprecated, please use a dtype torch.bool instead. (Triggered internally at  ../aten/src/ATen/native/IndexingUtils.h:28.)\n",
      "  sequence_output = sequence_output[~gpr_tags_mask].view(batch_size, -1, self.config.hidden_size)\n",
      "Evaluating: 100%|██████████| 1/1 [00:09<00:00,  9.43s/it]"
     ]
    },
    {
     "name": "stdout",
     "output_type": "stream",
     "text": [
      "[0.6016082  0.39839187]\n",
      "Known pronoun 'them' resolves 'True' to 'Kathleen Nott' with a probability of '0.6016082167625427'\n"
     ]
    },
    {
     "name": "stderr",
     "output_type": "stream",
     "text": [
      "\n"
     ]
    },
    {
     "data": {
      "text/html": [
       "<div>\n",
       "<style scoped>\n",
       "    .dataframe tbody tr th:only-of-type {\n",
       "        vertical-align: middle;\n",
       "    }\n",
       "\n",
       "    .dataframe tbody tr th {\n",
       "        vertical-align: top;\n",
       "    }\n",
       "\n",
       "    .dataframe thead th {\n",
       "        text-align: right;\n",
       "    }\n",
       "</style>\n",
       "<table border=\"1\" class=\"dataframe\">\n",
       "  <thead>\n",
       "    <tr style=\"text-align: right;\">\n",
       "      <th></th>\n",
       "      <th>id</th>\n",
       "      <th>text</th>\n",
       "      <th>pronoun</th>\n",
       "      <th>pronoun_offset</th>\n",
       "      <th>a</th>\n",
       "      <th>a_offset</th>\n",
       "      <th>url</th>\n",
       "    </tr>\n",
       "  </thead>\n",
       "  <tbody>\n",
       "    <tr>\n",
       "      <th>0</th>\n",
       "      <td>na</td>\n",
       "      <td>Kathleen Nott was born in Camberwell, London. ...</td>\n",
       "      <td>them</td>\n",
       "      <td>355</td>\n",
       "      <td>Philip</td>\n",
       "      <td>58</td>\n",
       "      <td>na</td>\n",
       "    </tr>\n",
       "  </tbody>\n",
       "</table>\n",
       "</div>"
      ],
      "text/plain": [
       "   id                                               text pronoun  \\\n",
       "0  na  Kathleen Nott was born in Camberwell, London. ...    them   \n",
       "\n",
       "   pronoun_offset       a  a_offset url  \n",
       "0             355  Philip        58  na  "
      ]
     },
     "metadata": {},
     "output_type": "display_data"
    },
    {
     "name": "stderr",
     "output_type": "stream",
     "text": [
      "Initializing Step InputReader\n",
      "Step InputReader initialized\n",
      "Initializing Step LabelSanitizer\n",
      "Step LabelSanitizer initialized\n",
      "Initializing Step MentionsAnnotator\n",
      "Step MentionsAnnotator initialized\n",
      "Initializing Step gather_step\n",
      "STEPPY WARNING: Step with name \"InputReader\", already exist. Make sure that all Steps have unique name.\n",
      "Step gather_step initialized\n",
      "Step gather_step, working in \"inference\" mode\n",
      "Step InputReader, working in \"inference\" mode\n",
      "Step InputReader, adapting inputs\n",
      "Step InputReader, transforming...\n",
      "Step InputReader, transforming completed\n",
      "Step InputReader, transform completed\n",
      "Step LabelSanitizer, working in \"inference\" mode\n",
      "Step LabelSanitizer, adapting inputs\n",
      "Step LabelSanitizer, transforming...\n",
      "Step LabelSanitizer, transforming completed\n",
      "Step LabelSanitizer, transform completed\n",
      "Step MentionsAnnotator, working in \"inference\" mode\n",
      "Step InputReader, working in \"inference\" mode\n",
      "Step InputReader, adapting inputs\n",
      "Step InputReader, transforming...\n",
      "Step InputReader, transforming completed\n",
      "Step InputReader, transform completed\n",
      "Step MentionsAnnotator, unpacking inputs\n",
      "Step MentionsAnnotator, transforming...\n"
     ]
    },
    {
     "name": "stdout",
     "output_type": "stream",
     "text": [
      "Transforming data to features.\n",
      "------BEFORE DATA PIPELINE------- results/probert\n",
      "Empty DataFrame\n",
      "Columns: [id, label]\n",
      "Index: []\n"
     ]
    },
    {
     "name": "stderr",
     "output_type": "stream",
     "text": [
      "Extracting coref clusters...: 100%|██████████| 1/1 [00:00<00:00, 770.73it/s]\n",
      "Step MentionsAnnotator, transforming completed\n",
      "Step MentionsAnnotator, transform completed\n",
      "Step gather_step, adapting inputs\n",
      "Step gather_step, transforming...\n",
      "Step gather_step, transforming completed\n",
      "Step gather_step, transform completed\n"
     ]
    },
    {
     "name": "stdout",
     "output_type": "stream",
     "text": [
      "Transforming data to features done.\n",
      " Log a couple of examples for sanity check.\n",
      "\n"
     ]
    },
    {
     "name": "stderr",
     "output_type": "stream",
     "text": [
      "Convert Examples to features: 1it [00:00, 249.62it/s]\n",
      "Evaluating:   0%|          | 0/1 [00:00<?, ?it/s]/dccstor/media-bias-4374/gender-ambiguity-detectors/gap/models/gap/probert.py:35: UserWarning: indexing with dtype torch.uint8 is now deprecated, please use a dtype torch.bool instead. (Triggered internally at  ../aten/src/ATen/native/IndexingUtils.h:28.)\n",
      "  sequence_output = sequence_output[~gpr_tags_mask].view(batch_size, -1, self.config.hidden_size)\n",
      "Evaluating: 100%|██████████| 1/1 [00:07<00:00,  7.58s/it]"
     ]
    },
    {
     "name": "stdout",
     "output_type": "stream",
     "text": [
      "[0.02004459 0.9799554 ]\n",
      "Known pronoun 'them' resolves 'False' to 'Philip' with a probability of '0.9799553751945496'\n"
     ]
    },
    {
     "name": "stderr",
     "output_type": "stream",
     "text": [
      "\n"
     ]
    },
    {
     "data": {
      "text/html": [
       "<div>\n",
       "<style scoped>\n",
       "    .dataframe tbody tr th:only-of-type {\n",
       "        vertical-align: middle;\n",
       "    }\n",
       "\n",
       "    .dataframe tbody tr th {\n",
       "        vertical-align: top;\n",
       "    }\n",
       "\n",
       "    .dataframe thead th {\n",
       "        text-align: right;\n",
       "    }\n",
       "</style>\n",
       "<table border=\"1\" class=\"dataframe\">\n",
       "  <thead>\n",
       "    <tr style=\"text-align: right;\">\n",
       "      <th></th>\n",
       "      <th>id</th>\n",
       "      <th>text</th>\n",
       "      <th>pronoun</th>\n",
       "      <th>pronoun_offset</th>\n",
       "      <th>a</th>\n",
       "      <th>a_offset</th>\n",
       "      <th>url</th>\n",
       "    </tr>\n",
       "  </thead>\n",
       "  <tbody>\n",
       "    <tr>\n",
       "      <th>0</th>\n",
       "      <td>na</td>\n",
       "      <td>Kathleen Nott was born in Camberwell, London. ...</td>\n",
       "      <td>them</td>\n",
       "      <td>355</td>\n",
       "      <td>Ellen</td>\n",
       "      <td>110</td>\n",
       "      <td>na</td>\n",
       "    </tr>\n",
       "  </tbody>\n",
       "</table>\n",
       "</div>"
      ],
      "text/plain": [
       "   id                                               text pronoun  \\\n",
       "0  na  Kathleen Nott was born in Camberwell, London. ...    them   \n",
       "\n",
       "   pronoun_offset      a  a_offset url  \n",
       "0             355  Ellen       110  na  "
      ]
     },
     "metadata": {},
     "output_type": "display_data"
    },
    {
     "name": "stderr",
     "output_type": "stream",
     "text": [
      "Initializing Step InputReader\n",
      "Step InputReader initialized\n",
      "Initializing Step LabelSanitizer\n",
      "Step LabelSanitizer initialized\n",
      "Initializing Step MentionsAnnotator\n",
      "Step MentionsAnnotator initialized\n",
      "Initializing Step gather_step\n",
      "STEPPY WARNING: Step with name \"InputReader\", already exist. Make sure that all Steps have unique name.\n",
      "Step gather_step initialized\n",
      "Step gather_step, working in \"inference\" mode\n",
      "Step InputReader, working in \"inference\" mode\n",
      "Step InputReader, adapting inputs\n",
      "Step InputReader, transforming...\n",
      "Step InputReader, transforming completed\n",
      "Step InputReader, transform completed\n",
      "Step LabelSanitizer, working in \"inference\" mode\n",
      "Step LabelSanitizer, adapting inputs\n",
      "Step LabelSanitizer, transforming...\n",
      "Step LabelSanitizer, transforming completed\n",
      "Step LabelSanitizer, transform completed\n",
      "Step MentionsAnnotator, working in \"inference\" mode\n",
      "Step InputReader, working in \"inference\" mode\n",
      "Step InputReader, adapting inputs\n",
      "Step InputReader, transforming...\n",
      "Step InputReader, transforming completed\n",
      "Step InputReader, transform completed\n",
      "Step MentionsAnnotator, unpacking inputs\n",
      "Step MentionsAnnotator, transforming...\n"
     ]
    },
    {
     "name": "stdout",
     "output_type": "stream",
     "text": [
      "Transforming data to features.\n",
      "------BEFORE DATA PIPELINE------- results/probert\n",
      "Empty DataFrame\n",
      "Columns: [id, label]\n",
      "Index: []\n"
     ]
    },
    {
     "name": "stderr",
     "output_type": "stream",
     "text": [
      "Extracting coref clusters...: 100%|██████████| 1/1 [00:00<00:00, 807.37it/s]\n",
      "Step MentionsAnnotator, transforming completed\n",
      "Step MentionsAnnotator, transform completed\n",
      "Step gather_step, adapting inputs\n",
      "Step gather_step, transforming...\n",
      "Step gather_step, transforming completed\n",
      "Step gather_step, transform completed\n"
     ]
    },
    {
     "name": "stdout",
     "output_type": "stream",
     "text": [
      "Transforming data to features done.\n",
      " Log a couple of examples for sanity check.\n",
      "\n"
     ]
    },
    {
     "name": "stderr",
     "output_type": "stream",
     "text": [
      "Convert Examples to features: 1it [00:00, 279.43it/s]\n",
      "Evaluating:   0%|          | 0/1 [00:00<?, ?it/s]/dccstor/media-bias-4374/gender-ambiguity-detectors/gap/models/gap/probert.py:35: UserWarning: indexing with dtype torch.uint8 is now deprecated, please use a dtype torch.bool instead. (Triggered internally at  ../aten/src/ATen/native/IndexingUtils.h:28.)\n",
      "  sequence_output = sequence_output[~gpr_tags_mask].view(batch_size, -1, self.config.hidden_size)\n",
      "Evaluating: 100%|██████████| 1/1 [00:10<00:00, 10.70s/it]"
     ]
    },
    {
     "name": "stdout",
     "output_type": "stream",
     "text": [
      "[0.01467463 0.9853254 ]\n",
      "Known pronoun 'them' resolves 'False' to 'Ellen' with a probability of '0.9853253960609436'\n"
     ]
    },
    {
     "name": "stderr",
     "output_type": "stream",
     "text": [
      "\n"
     ]
    },
    {
     "data": {
      "text/html": [
       "<div>\n",
       "<style scoped>\n",
       "    .dataframe tbody tr th:only-of-type {\n",
       "        vertical-align: middle;\n",
       "    }\n",
       "\n",
       "    .dataframe tbody tr th {\n",
       "        vertical-align: top;\n",
       "    }\n",
       "\n",
       "    .dataframe thead th {\n",
       "        text-align: right;\n",
       "    }\n",
       "</style>\n",
       "<table border=\"1\" class=\"dataframe\">\n",
       "  <thead>\n",
       "    <tr style=\"text-align: right;\">\n",
       "      <th></th>\n",
       "      <th>id</th>\n",
       "      <th>text</th>\n",
       "      <th>pronoun</th>\n",
       "      <th>pronoun_offset</th>\n",
       "      <th>a</th>\n",
       "      <th>a_offset</th>\n",
       "      <th>url</th>\n",
       "    </tr>\n",
       "  </thead>\n",
       "  <tbody>\n",
       "    <tr>\n",
       "      <th>0</th>\n",
       "      <td>na</td>\n",
       "      <td>Kathleen Nott was born in Camberwell, London. ...</td>\n",
       "      <td>them</td>\n",
       "      <td>355</td>\n",
       "      <td>Kathleen</td>\n",
       "      <td>0</td>\n",
       "      <td>na</td>\n",
       "    </tr>\n",
       "  </tbody>\n",
       "</table>\n",
       "</div>"
      ],
      "text/plain": [
       "   id                                               text pronoun  \\\n",
       "0  na  Kathleen Nott was born in Camberwell, London. ...    them   \n",
       "\n",
       "   pronoun_offset         a  a_offset url  \n",
       "0             355  Kathleen         0  na  "
      ]
     },
     "metadata": {},
     "output_type": "display_data"
    },
    {
     "name": "stderr",
     "output_type": "stream",
     "text": [
      "Initializing Step InputReader\n",
      "Step InputReader initialized\n",
      "Initializing Step LabelSanitizer\n",
      "Step LabelSanitizer initialized\n",
      "Initializing Step MentionsAnnotator\n",
      "Step MentionsAnnotator initialized\n",
      "Initializing Step gather_step\n",
      "STEPPY WARNING: Step with name \"InputReader\", already exist. Make sure that all Steps have unique name.\n",
      "Step gather_step initialized\n",
      "Step gather_step, working in \"inference\" mode\n",
      "Step InputReader, working in \"inference\" mode\n",
      "Step InputReader, adapting inputs\n",
      "Step InputReader, transforming...\n",
      "Step InputReader, transforming completed\n",
      "Step InputReader, transform completed\n",
      "Step LabelSanitizer, working in \"inference\" mode\n",
      "Step LabelSanitizer, adapting inputs\n",
      "Step LabelSanitizer, transforming...\n",
      "Step LabelSanitizer, transforming completed\n",
      "Step LabelSanitizer, transform completed\n",
      "Step MentionsAnnotator, working in \"inference\" mode\n",
      "Step InputReader, working in \"inference\" mode\n",
      "Step InputReader, adapting inputs\n",
      "Step InputReader, transforming...\n",
      "Step InputReader, transforming completed\n",
      "Step InputReader, transform completed\n",
      "Step MentionsAnnotator, unpacking inputs\n",
      "Step MentionsAnnotator, transforming...\n"
     ]
    },
    {
     "name": "stdout",
     "output_type": "stream",
     "text": [
      "Transforming data to features.\n",
      "------BEFORE DATA PIPELINE------- results/probert\n",
      "Empty DataFrame\n",
      "Columns: [id, label]\n",
      "Index: []\n"
     ]
    },
    {
     "name": "stderr",
     "output_type": "stream",
     "text": [
      "Extracting coref clusters...: 100%|██████████| 1/1 [00:00<00:00, 709.22it/s]\n",
      "Step MentionsAnnotator, transforming completed\n",
      "Step MentionsAnnotator, transform completed\n",
      "Step gather_step, adapting inputs\n",
      "Step gather_step, transforming...\n",
      "Step gather_step, transforming completed\n",
      "Step gather_step, transform completed\n"
     ]
    },
    {
     "name": "stdout",
     "output_type": "stream",
     "text": [
      "Transforming data to features done.\n",
      " Log a couple of examples for sanity check.\n",
      "\n"
     ]
    },
    {
     "name": "stderr",
     "output_type": "stream",
     "text": [
      "Convert Examples to features: 1it [00:00, 232.55it/s]\n",
      "Evaluating:   0%|          | 0/1 [00:00<?, ?it/s]/dccstor/media-bias-4374/gender-ambiguity-detectors/gap/models/gap/probert.py:35: UserWarning: indexing with dtype torch.uint8 is now deprecated, please use a dtype torch.bool instead. (Triggered internally at  ../aten/src/ATen/native/IndexingUtils.h:28.)\n",
      "  sequence_output = sequence_output[~gpr_tags_mask].view(batch_size, -1, self.config.hidden_size)\n",
      "Evaluating: 100%|██████████| 1/1 [00:06<00:00,  6.37s/it]"
     ]
    },
    {
     "name": "stdout",
     "output_type": "stream",
     "text": [
      "[0.48737535 0.5126247 ]\n",
      "Known pronoun 'them' resolves 'False' to 'Kathleen' with a probability of '0.5126246809959412'\n"
     ]
    },
    {
     "name": "stderr",
     "output_type": "stream",
     "text": [
      "\n"
     ]
    },
    {
     "data": {
      "text/html": [
       "<div>\n",
       "<style scoped>\n",
       "    .dataframe tbody tr th:only-of-type {\n",
       "        vertical-align: middle;\n",
       "    }\n",
       "\n",
       "    .dataframe tbody tr th {\n",
       "        vertical-align: top;\n",
       "    }\n",
       "\n",
       "    .dataframe thead th {\n",
       "        text-align: right;\n",
       "    }\n",
       "</style>\n",
       "<table border=\"1\" class=\"dataframe\">\n",
       "  <thead>\n",
       "    <tr style=\"text-align: right;\">\n",
       "      <th></th>\n",
       "      <th>id</th>\n",
       "      <th>text</th>\n",
       "      <th>pronoun</th>\n",
       "      <th>pronoun_offset</th>\n",
       "      <th>a</th>\n",
       "      <th>a_offset</th>\n",
       "      <th>url</th>\n",
       "    </tr>\n",
       "  </thead>\n",
       "  <tbody>\n",
       "    <tr>\n",
       "      <th>0</th>\n",
       "      <td>na</td>\n",
       "      <td>Kathleen Nott was born in Camberwell, London. ...</td>\n",
       "      <td>them</td>\n",
       "      <td>355</td>\n",
       "      <td>Kathleen</td>\n",
       "      <td>150</td>\n",
       "      <td>na</td>\n",
       "    </tr>\n",
       "  </tbody>\n",
       "</table>\n",
       "</div>"
      ],
      "text/plain": [
       "   id                                               text pronoun  \\\n",
       "0  na  Kathleen Nott was born in Camberwell, London. ...    them   \n",
       "\n",
       "   pronoun_offset         a  a_offset url  \n",
       "0             355  Kathleen       150  na  "
      ]
     },
     "metadata": {},
     "output_type": "display_data"
    },
    {
     "name": "stderr",
     "output_type": "stream",
     "text": [
      "Initializing Step InputReader\n",
      "Step InputReader initialized\n",
      "Initializing Step LabelSanitizer\n",
      "Step LabelSanitizer initialized\n",
      "Initializing Step MentionsAnnotator\n",
      "Step MentionsAnnotator initialized\n",
      "Initializing Step gather_step\n",
      "STEPPY WARNING: Step with name \"InputReader\", already exist. Make sure that all Steps have unique name.\n",
      "Step gather_step initialized\n",
      "Step gather_step, working in \"inference\" mode\n",
      "Step InputReader, working in \"inference\" mode\n",
      "Step InputReader, adapting inputs\n",
      "Step InputReader, transforming...\n",
      "Step InputReader, transforming completed\n",
      "Step InputReader, transform completed\n",
      "Step LabelSanitizer, working in \"inference\" mode\n",
      "Step LabelSanitizer, adapting inputs\n",
      "Step LabelSanitizer, transforming...\n",
      "Step LabelSanitizer, transforming completed\n",
      "Step LabelSanitizer, transform completed\n",
      "Step MentionsAnnotator, working in \"inference\" mode\n",
      "Step InputReader, working in \"inference\" mode\n",
      "Step InputReader, adapting inputs\n",
      "Step InputReader, transforming...\n",
      "Step InputReader, transforming completed\n",
      "Step InputReader, transform completed\n",
      "Step MentionsAnnotator, unpacking inputs\n",
      "Step MentionsAnnotator, transforming...\n"
     ]
    },
    {
     "name": "stdout",
     "output_type": "stream",
     "text": [
      "Transforming data to features.\n",
      "------BEFORE DATA PIPELINE------- results/probert\n",
      "Empty DataFrame\n",
      "Columns: [id, label]\n",
      "Index: []\n"
     ]
    },
    {
     "name": "stderr",
     "output_type": "stream",
     "text": [
      "Extracting coref clusters...: 100%|██████████| 1/1 [00:00<00:00, 758.33it/s]\n",
      "Step MentionsAnnotator, transforming completed\n",
      "Step MentionsAnnotator, transform completed\n",
      "Step gather_step, adapting inputs\n",
      "Step gather_step, transforming...\n",
      "Step gather_step, transforming completed\n",
      "Step gather_step, transform completed\n"
     ]
    },
    {
     "name": "stdout",
     "output_type": "stream",
     "text": [
      "Transforming data to features done.\n",
      " Log a couple of examples for sanity check.\n",
      "\n"
     ]
    },
    {
     "name": "stderr",
     "output_type": "stream",
     "text": [
      "Convert Examples to features: 1it [00:00, 238.15it/s]\n",
      "Evaluating:   0%|          | 0/1 [00:00<?, ?it/s]/dccstor/media-bias-4374/gender-ambiguity-detectors/gap/models/gap/probert.py:35: UserWarning: indexing with dtype torch.uint8 is now deprecated, please use a dtype torch.bool instead. (Triggered internally at  ../aten/src/ATen/native/IndexingUtils.h:28.)\n",
      "  sequence_output = sequence_output[~gpr_tags_mask].view(batch_size, -1, self.config.hidden_size)\n",
      "Evaluating: 100%|██████████| 1/1 [00:09<00:00,  9.33s/it]"
     ]
    },
    {
     "name": "stdout",
     "output_type": "stream",
     "text": [
      "[0.24332479 0.7566752 ]\n",
      "Known pronoun 'them' resolves 'False' to 'Kathleen' with a probability of '0.7566751837730408'\n"
     ]
    },
    {
     "name": "stderr",
     "output_type": "stream",
     "text": [
      "\n"
     ]
    },
    {
     "data": {
      "text/html": [
       "<div>\n",
       "<style scoped>\n",
       "    .dataframe tbody tr th:only-of-type {\n",
       "        vertical-align: middle;\n",
       "    }\n",
       "\n",
       "    .dataframe tbody tr th {\n",
       "        vertical-align: top;\n",
       "    }\n",
       "\n",
       "    .dataframe thead th {\n",
       "        text-align: right;\n",
       "    }\n",
       "</style>\n",
       "<table border=\"1\" class=\"dataframe\">\n",
       "  <thead>\n",
       "    <tr style=\"text-align: right;\">\n",
       "      <th></th>\n",
       "      <th>id</th>\n",
       "      <th>text</th>\n",
       "      <th>pronoun</th>\n",
       "      <th>pronoun_offset</th>\n",
       "      <th>a</th>\n",
       "      <th>a_offset</th>\n",
       "      <th>url</th>\n",
       "    </tr>\n",
       "  </thead>\n",
       "  <tbody>\n",
       "    <tr>\n",
       "      <th>0</th>\n",
       "      <td>na</td>\n",
       "      <td>Pat (they/them/their) was not sure how they sh...</td>\n",
       "      <td>they</td>\n",
       "      <td>5</td>\n",
       "      <td>Pat</td>\n",
       "      <td>0</td>\n",
       "      <td>na</td>\n",
       "    </tr>\n",
       "  </tbody>\n",
       "</table>\n",
       "</div>"
      ],
      "text/plain": [
       "   id                                               text pronoun  \\\n",
       "0  na  Pat (they/them/their) was not sure how they sh...    they   \n",
       "\n",
       "   pronoun_offset    a  a_offset url  \n",
       "0               5  Pat         0  na  "
      ]
     },
     "metadata": {},
     "output_type": "display_data"
    },
    {
     "name": "stderr",
     "output_type": "stream",
     "text": [
      "Initializing Step InputReader\n",
      "Step InputReader initialized\n",
      "Initializing Step LabelSanitizer\n",
      "Step LabelSanitizer initialized\n",
      "Initializing Step MentionsAnnotator\n",
      "Step MentionsAnnotator initialized\n",
      "Initializing Step gather_step\n",
      "STEPPY WARNING: Step with name \"InputReader\", already exist. Make sure that all Steps have unique name.\n",
      "Step gather_step initialized\n",
      "Step gather_step, working in \"inference\" mode\n",
      "Step InputReader, working in \"inference\" mode\n",
      "Step InputReader, adapting inputs\n",
      "Step InputReader, transforming...\n",
      "Step InputReader, transforming completed\n",
      "Step InputReader, transform completed\n",
      "Step LabelSanitizer, working in \"inference\" mode\n",
      "Step LabelSanitizer, adapting inputs\n",
      "Step LabelSanitizer, transforming...\n",
      "Step LabelSanitizer, transforming completed\n",
      "Step LabelSanitizer, transform completed\n",
      "Step MentionsAnnotator, working in \"inference\" mode\n",
      "Step InputReader, working in \"inference\" mode\n",
      "Step InputReader, adapting inputs\n",
      "Step InputReader, transforming...\n",
      "Step InputReader, transforming completed\n",
      "Step InputReader, transform completed\n",
      "Step MentionsAnnotator, unpacking inputs\n",
      "Step MentionsAnnotator, transforming...\n"
     ]
    },
    {
     "name": "stdout",
     "output_type": "stream",
     "text": [
      "Transforming data to features.\n",
      "------BEFORE DATA PIPELINE------- results/probert\n",
      "Empty DataFrame\n",
      "Columns: [id, label]\n",
      "Index: []\n"
     ]
    },
    {
     "name": "stderr",
     "output_type": "stream",
     "text": [
      "Extracting coref clusters...: 100%|██████████| 1/1 [00:00<00:00, 658.03it/s]\n",
      "Step MentionsAnnotator, transforming completed\n",
      "Step MentionsAnnotator, transform completed\n",
      "Step gather_step, adapting inputs\n",
      "Step gather_step, transforming...\n",
      "Step gather_step, transforming completed\n",
      "Step gather_step, transform completed\n"
     ]
    },
    {
     "name": "stdout",
     "output_type": "stream",
     "text": [
      "Transforming data to features done.\n",
      " Log a couple of examples for sanity check.\n",
      "\n"
     ]
    },
    {
     "name": "stderr",
     "output_type": "stream",
     "text": [
      "Convert Examples to features: 1it [00:00, 372.36it/s]\n",
      "Evaluating:   0%|          | 0/1 [00:00<?, ?it/s]/dccstor/media-bias-4374/gender-ambiguity-detectors/gap/models/gap/probert.py:35: UserWarning: indexing with dtype torch.uint8 is now deprecated, please use a dtype torch.bool instead. (Triggered internally at  ../aten/src/ATen/native/IndexingUtils.h:28.)\n",
      "  sequence_output = sequence_output[~gpr_tags_mask].view(batch_size, -1, self.config.hidden_size)\n",
      "Evaluating: 100%|██████████| 1/1 [00:07<00:00,  7.57s/it]"
     ]
    },
    {
     "name": "stdout",
     "output_type": "stream",
     "text": [
      "[0.97176987 0.02823015]\n",
      "Known pronoun 'they' resolves 'True' to 'Pat' with a probability of '0.9717698693275452'\n"
     ]
    },
    {
     "name": "stderr",
     "output_type": "stream",
     "text": [
      "\n"
     ]
    },
    {
     "data": {
      "text/html": [
       "<div>\n",
       "<style scoped>\n",
       "    .dataframe tbody tr th:only-of-type {\n",
       "        vertical-align: middle;\n",
       "    }\n",
       "\n",
       "    .dataframe tbody tr th {\n",
       "        vertical-align: top;\n",
       "    }\n",
       "\n",
       "    .dataframe thead th {\n",
       "        text-align: right;\n",
       "    }\n",
       "</style>\n",
       "<table border=\"1\" class=\"dataframe\">\n",
       "  <thead>\n",
       "    <tr style=\"text-align: right;\">\n",
       "      <th></th>\n",
       "      <th>id</th>\n",
       "      <th>text</th>\n",
       "      <th>pronoun</th>\n",
       "      <th>pronoun_offset</th>\n",
       "      <th>a</th>\n",
       "      <th>a_offset</th>\n",
       "      <th>url</th>\n",
       "    </tr>\n",
       "  </thead>\n",
       "  <tbody>\n",
       "    <tr>\n",
       "      <th>0</th>\n",
       "      <td>na</td>\n",
       "      <td>Pat (they/them/their) was not sure how they sh...</td>\n",
       "      <td>they</td>\n",
       "      <td>39</td>\n",
       "      <td>Pat</td>\n",
       "      <td>0</td>\n",
       "      <td>na</td>\n",
       "    </tr>\n",
       "  </tbody>\n",
       "</table>\n",
       "</div>"
      ],
      "text/plain": [
       "   id                                               text pronoun  \\\n",
       "0  na  Pat (they/them/their) was not sure how they sh...    they   \n",
       "\n",
       "   pronoun_offset    a  a_offset url  \n",
       "0              39  Pat         0  na  "
      ]
     },
     "metadata": {},
     "output_type": "display_data"
    },
    {
     "name": "stderr",
     "output_type": "stream",
     "text": [
      "Initializing Step InputReader\n",
      "Step InputReader initialized\n",
      "Initializing Step LabelSanitizer\n",
      "Step LabelSanitizer initialized\n",
      "Initializing Step MentionsAnnotator\n",
      "Step MentionsAnnotator initialized\n",
      "Initializing Step gather_step\n",
      "STEPPY WARNING: Step with name \"InputReader\", already exist. Make sure that all Steps have unique name.\n",
      "Step gather_step initialized\n",
      "Step gather_step, working in \"inference\" mode\n",
      "Step InputReader, working in \"inference\" mode\n",
      "Step InputReader, adapting inputs\n",
      "Step InputReader, transforming...\n",
      "Step InputReader, transforming completed\n",
      "Step InputReader, transform completed\n",
      "Step LabelSanitizer, working in \"inference\" mode\n",
      "Step LabelSanitizer, adapting inputs\n",
      "Step LabelSanitizer, transforming...\n",
      "Step LabelSanitizer, transforming completed\n",
      "Step LabelSanitizer, transform completed\n",
      "Step MentionsAnnotator, working in \"inference\" mode\n",
      "Step InputReader, working in \"inference\" mode\n",
      "Step InputReader, adapting inputs\n",
      "Step InputReader, transforming...\n",
      "Step InputReader, transforming completed\n",
      "Step InputReader, transform completed\n",
      "Step MentionsAnnotator, unpacking inputs\n",
      "Step MentionsAnnotator, transforming...\n"
     ]
    },
    {
     "name": "stdout",
     "output_type": "stream",
     "text": [
      "Transforming data to features.\n",
      "------BEFORE DATA PIPELINE------- results/probert\n",
      "Empty DataFrame\n",
      "Columns: [id, label]\n",
      "Index: []\n"
     ]
    },
    {
     "name": "stderr",
     "output_type": "stream",
     "text": [
      "Extracting coref clusters...: 100%|██████████| 1/1 [00:00<00:00, 789.59it/s]\n",
      "Step MentionsAnnotator, transforming completed\n",
      "Step MentionsAnnotator, transform completed\n",
      "Step gather_step, adapting inputs\n",
      "Step gather_step, transforming...\n",
      "Step gather_step, transforming completed\n",
      "Step gather_step, transform completed\n"
     ]
    },
    {
     "name": "stdout",
     "output_type": "stream",
     "text": [
      "Transforming data to features done.\n",
      " Log a couple of examples for sanity check.\n",
      "\n"
     ]
    },
    {
     "name": "stderr",
     "output_type": "stream",
     "text": [
      "Convert Examples to features: 1it [00:00, 487.26it/s]\n",
      "Evaluating:   0%|          | 0/1 [00:00<?, ?it/s]/dccstor/media-bias-4374/gender-ambiguity-detectors/gap/models/gap/probert.py:35: UserWarning: indexing with dtype torch.uint8 is now deprecated, please use a dtype torch.bool instead. (Triggered internally at  ../aten/src/ATen/native/IndexingUtils.h:28.)\n",
      "  sequence_output = sequence_output[~gpr_tags_mask].view(batch_size, -1, self.config.hidden_size)\n",
      "Evaluating: 100%|██████████| 1/1 [00:06<00:00,  6.44s/it]"
     ]
    },
    {
     "name": "stdout",
     "output_type": "stream",
     "text": [
      "[0.6899466  0.31005344]\n",
      "Known pronoun 'they' resolves 'True' to 'Pat' with a probability of '0.6899465918540955'\n"
     ]
    },
    {
     "name": "stderr",
     "output_type": "stream",
     "text": [
      "\n"
     ]
    },
    {
     "data": {
      "text/html": [
       "<div>\n",
       "<style scoped>\n",
       "    .dataframe tbody tr th:only-of-type {\n",
       "        vertical-align: middle;\n",
       "    }\n",
       "\n",
       "    .dataframe tbody tr th {\n",
       "        vertical-align: top;\n",
       "    }\n",
       "\n",
       "    .dataframe thead th {\n",
       "        text-align: right;\n",
       "    }\n",
       "</style>\n",
       "<table border=\"1\" class=\"dataframe\">\n",
       "  <thead>\n",
       "    <tr style=\"text-align: right;\">\n",
       "      <th></th>\n",
       "      <th>id</th>\n",
       "      <th>text</th>\n",
       "      <th>pronoun</th>\n",
       "      <th>pronoun_offset</th>\n",
       "      <th>a</th>\n",
       "      <th>a_offset</th>\n",
       "      <th>url</th>\n",
       "    </tr>\n",
       "  </thead>\n",
       "  <tbody>\n",
       "    <tr>\n",
       "      <th>0</th>\n",
       "      <td>na</td>\n",
       "      <td>Pat (they/them/their) was not sure how they sh...</td>\n",
       "      <td>them</td>\n",
       "      <td>10</td>\n",
       "      <td>Pat</td>\n",
       "      <td>0</td>\n",
       "      <td>na</td>\n",
       "    </tr>\n",
       "  </tbody>\n",
       "</table>\n",
       "</div>"
      ],
      "text/plain": [
       "   id                                               text pronoun  \\\n",
       "0  na  Pat (they/them/their) was not sure how they sh...    them   \n",
       "\n",
       "   pronoun_offset    a  a_offset url  \n",
       "0              10  Pat         0  na  "
      ]
     },
     "metadata": {},
     "output_type": "display_data"
    },
    {
     "name": "stderr",
     "output_type": "stream",
     "text": [
      "Initializing Step InputReader\n",
      "Step InputReader initialized\n",
      "Initializing Step LabelSanitizer\n",
      "Step LabelSanitizer initialized\n",
      "Initializing Step MentionsAnnotator\n",
      "Step MentionsAnnotator initialized\n",
      "Initializing Step gather_step\n",
      "STEPPY WARNING: Step with name \"InputReader\", already exist. Make sure that all Steps have unique name.\n",
      "Step gather_step initialized\n",
      "Step gather_step, working in \"inference\" mode\n",
      "Step InputReader, working in \"inference\" mode\n",
      "Step InputReader, adapting inputs\n",
      "Step InputReader, transforming...\n",
      "Step InputReader, transforming completed\n",
      "Step InputReader, transform completed\n",
      "Step LabelSanitizer, working in \"inference\" mode\n",
      "Step LabelSanitizer, adapting inputs\n",
      "Step LabelSanitizer, transforming...\n",
      "Step LabelSanitizer, transforming completed\n",
      "Step LabelSanitizer, transform completed\n",
      "Step MentionsAnnotator, working in \"inference\" mode\n",
      "Step InputReader, working in \"inference\" mode\n",
      "Step InputReader, adapting inputs\n",
      "Step InputReader, transforming...\n",
      "Step InputReader, transforming completed\n",
      "Step InputReader, transform completed\n",
      "Step MentionsAnnotator, unpacking inputs\n",
      "Step MentionsAnnotator, transforming...\n"
     ]
    },
    {
     "name": "stdout",
     "output_type": "stream",
     "text": [
      "Transforming data to features.\n",
      "------BEFORE DATA PIPELINE------- results/probert\n",
      "Empty DataFrame\n",
      "Columns: [id, label]\n",
      "Index: []\n"
     ]
    },
    {
     "name": "stderr",
     "output_type": "stream",
     "text": [
      "Extracting coref clusters...: 100%|██████████| 1/1 [00:00<00:00, 726.79it/s]\n",
      "Step MentionsAnnotator, transforming completed\n",
      "Step MentionsAnnotator, transform completed\n",
      "Step gather_step, adapting inputs\n",
      "Step gather_step, transforming...\n",
      "Step gather_step, transforming completed\n",
      "Step gather_step, transform completed\n"
     ]
    },
    {
     "name": "stdout",
     "output_type": "stream",
     "text": [
      "Transforming data to features done.\n",
      " Log a couple of examples for sanity check.\n",
      "\n"
     ]
    },
    {
     "name": "stderr",
     "output_type": "stream",
     "text": [
      "Convert Examples to features: 1it [00:00, 456.85it/s]\n",
      "Evaluating:   0%|          | 0/1 [00:00<?, ?it/s]/dccstor/media-bias-4374/gender-ambiguity-detectors/gap/models/gap/probert.py:35: UserWarning: indexing with dtype torch.uint8 is now deprecated, please use a dtype torch.bool instead. (Triggered internally at  ../aten/src/ATen/native/IndexingUtils.h:28.)\n",
      "  sequence_output = sequence_output[~gpr_tags_mask].view(batch_size, -1, self.config.hidden_size)\n",
      "Evaluating: 100%|██████████| 1/1 [00:11<00:00, 11.80s/it]"
     ]
    },
    {
     "name": "stdout",
     "output_type": "stream",
     "text": [
      "[0.8984461  0.10155394]\n",
      "Known pronoun 'them' resolves 'True' to 'Pat' with a probability of '0.8984460830688477'\n"
     ]
    },
    {
     "name": "stderr",
     "output_type": "stream",
     "text": [
      "\n"
     ]
    },
    {
     "data": {
      "text/html": [
       "<div>\n",
       "<style scoped>\n",
       "    .dataframe tbody tr th:only-of-type {\n",
       "        vertical-align: middle;\n",
       "    }\n",
       "\n",
       "    .dataframe tbody tr th {\n",
       "        vertical-align: top;\n",
       "    }\n",
       "\n",
       "    .dataframe thead th {\n",
       "        text-align: right;\n",
       "    }\n",
       "</style>\n",
       "<table border=\"1\" class=\"dataframe\">\n",
       "  <thead>\n",
       "    <tr style=\"text-align: right;\">\n",
       "      <th></th>\n",
       "      <th>id</th>\n",
       "      <th>text</th>\n",
       "      <th>pronoun</th>\n",
       "      <th>pronoun_offset</th>\n",
       "      <th>a</th>\n",
       "      <th>a_offset</th>\n",
       "      <th>url</th>\n",
       "    </tr>\n",
       "  </thead>\n",
       "  <tbody>\n",
       "    <tr>\n",
       "      <th>0</th>\n",
       "      <td>na</td>\n",
       "      <td>Pat (they/them/their) was not sure how they sh...</td>\n",
       "      <td>their</td>\n",
       "      <td>15</td>\n",
       "      <td>Pat</td>\n",
       "      <td>0</td>\n",
       "      <td>na</td>\n",
       "    </tr>\n",
       "  </tbody>\n",
       "</table>\n",
       "</div>"
      ],
      "text/plain": [
       "   id                                               text pronoun  \\\n",
       "0  na  Pat (they/them/their) was not sure how they sh...   their   \n",
       "\n",
       "   pronoun_offset    a  a_offset url  \n",
       "0              15  Pat         0  na  "
      ]
     },
     "metadata": {},
     "output_type": "display_data"
    },
    {
     "name": "stderr",
     "output_type": "stream",
     "text": [
      "Initializing Step InputReader\n",
      "Step InputReader initialized\n",
      "Initializing Step LabelSanitizer\n",
      "Step LabelSanitizer initialized\n",
      "Initializing Step MentionsAnnotator\n",
      "Step MentionsAnnotator initialized\n",
      "Initializing Step gather_step\n",
      "STEPPY WARNING: Step with name \"InputReader\", already exist. Make sure that all Steps have unique name.\n",
      "Step gather_step initialized\n",
      "Step gather_step, working in \"inference\" mode\n",
      "Step InputReader, working in \"inference\" mode\n",
      "Step InputReader, adapting inputs\n",
      "Step InputReader, transforming...\n",
      "Step InputReader, transforming completed\n",
      "Step InputReader, transform completed\n",
      "Step LabelSanitizer, working in \"inference\" mode\n",
      "Step LabelSanitizer, adapting inputs\n",
      "Step LabelSanitizer, transforming...\n",
      "Step LabelSanitizer, transforming completed\n",
      "Step LabelSanitizer, transform completed\n",
      "Step MentionsAnnotator, working in \"inference\" mode\n",
      "Step InputReader, working in \"inference\" mode\n",
      "Step InputReader, adapting inputs\n",
      "Step InputReader, transforming...\n",
      "Step InputReader, transforming completed\n",
      "Step InputReader, transform completed\n",
      "Step MentionsAnnotator, unpacking inputs\n",
      "Step MentionsAnnotator, transforming...\n"
     ]
    },
    {
     "name": "stdout",
     "output_type": "stream",
     "text": [
      "Transforming data to features.\n",
      "------BEFORE DATA PIPELINE------- results/probert\n",
      "Empty DataFrame\n",
      "Columns: [id, label]\n",
      "Index: []\n"
     ]
    },
    {
     "name": "stderr",
     "output_type": "stream",
     "text": [
      "Extracting coref clusters...: 100%|██████████| 1/1 [00:00<00:00, 841.72it/s]\n",
      "Step MentionsAnnotator, transforming completed\n",
      "Step MentionsAnnotator, transform completed\n",
      "Step gather_step, adapting inputs\n",
      "Step gather_step, transforming...\n",
      "Step gather_step, transforming completed\n",
      "Step gather_step, transform completed\n"
     ]
    },
    {
     "name": "stdout",
     "output_type": "stream",
     "text": [
      "Transforming data to features done.\n",
      " Log a couple of examples for sanity check.\n",
      "\n"
     ]
    },
    {
     "name": "stderr",
     "output_type": "stream",
     "text": [
      "Convert Examples to features: 1it [00:00, 423.20it/s]\n",
      "Evaluating:   0%|          | 0/1 [00:00<?, ?it/s]/dccstor/media-bias-4374/gender-ambiguity-detectors/gap/models/gap/probert.py:35: UserWarning: indexing with dtype torch.uint8 is now deprecated, please use a dtype torch.bool instead. (Triggered internally at  ../aten/src/ATen/native/IndexingUtils.h:28.)\n",
      "  sequence_output = sequence_output[~gpr_tags_mask].view(batch_size, -1, self.config.hidden_size)\n",
      "Evaluating: 100%|██████████| 1/1 [00:06<00:00,  6.78s/it]"
     ]
    },
    {
     "name": "stdout",
     "output_type": "stream",
     "text": [
      "[0.6122219 0.3877781]\n",
      "Known pronoun 'their' resolves 'True' to 'Pat' with a probability of '0.612221896648407'\n"
     ]
    },
    {
     "name": "stderr",
     "output_type": "stream",
     "text": [
      "\n"
     ]
    }
   ],
   "source": [
    "# initialize results data frame\n",
    "cols = ['id', 'text', 'pronoun', 'pronoun_offset', 'a', 'a_offset', 'url']\n",
    "\n",
    "output_cols = ['id', 'text', 'pronoun', 'pronoun_offset', 'a', 'a_offset', 'url', 'probabilities', 'output']\n",
    "df_output = pd.DataFrame([], columns=output_cols)\n",
    "\n",
    "for i in range(len(original_text)):\n",
    "    combinations = get_combinations(entity_list[i], pronoun_list[i])\n",
    "    for combination in combinations:\n",
    "        # each combination is a list with 4 elements \n",
    "            # [pronoun, pronoun_offset, entity1, entity1_offset]\n",
    "        pronoun, pronoun_offset = combination[0], combination[1]\n",
    "        entity1, entity1_offset = combination[2], combination[3]\n",
    "        \n",
    "        new_df = pd.DataFrame([['na',original_text[i], pronoun,pronoun_offset,entity1,entity1_offset,'na']], columns=cols)\n",
    "        display(new_df)\n",
    "        \n",
    "        tmp_write_path = f'{exp_dir}/new_df.csv'\n",
    "        new_df.to_csv(tmp_write_path, sep='\\t', index=False)\n",
    "        \n",
    "        # Initialise the data tranformation \n",
    "        # Not sure we really need this as all it does is change some columns names then adds 2 new columns \n",
    "        X_inference = init_data(exp_dir=exp_dir,test_path=tmp_write_path, verbose=0, mode='inference')\n",
    "        \n",
    "        # Tokenisation of the text happens here\n",
    "        inference_features = convert_examples_to_features(X_inference,tokenizer,512,n_coref_models=0,verbose=0)\n",
    "        \n",
    "        # evaluate sample using model\n",
    "        labels = [True,False]\n",
    "        predicted_probs, _ = evaluate(model,inference_features,device,eval_mode=True)\n",
    "        \n",
    "        # print(predicted_probs)\n",
    "\n",
    "        # index of max value from predictions so we get exact entity name it resolves to\n",
    "        for prob in predicted_probs:\n",
    "            print(prob)\n",
    "            max_idx = list(prob).index(max(prob))\n",
    "            print(f\"Known pronoun '{pronoun}' resolves '{labels[max_idx]}' to '{entity1}' with a probability of '{prob[max_idx]}'\")\n",
    "        \n",
    "        output = \"\"\n",
    "        if labels[max_idx]:\n",
    "            output = f\"Known pronoun '{pronoun}' resolves to '{entity1}' with a probability of '{prob[max_idx]}'\"\n",
    "        else:\n",
    "            output = f\"Known pronoun '{pronoun}' does not resolve to '{entity1}' with a probability of '{prob[max_idx]}'\"\n",
    "        new_df_output = pd.DataFrame([['na',original_text[i], pronoun,pronoun_offset,entity1,entity1_offset,'na', predicted_probs, output]], columns=output_cols)\n",
    "        df_output = pd.concat([df_output, new_df_output])\n",
    "    \n",
    "df_output.to_csv(f'{exp_dir}/df_output.csv', index=False)"
   ]
  },
  {
   "cell_type": "code",
   "execution_count": 20,
   "id": "bc77fdcd",
   "metadata": {},
   "outputs": [
    {
     "data": {
      "text/html": [
       "<div>\n",
       "<style scoped>\n",
       "    .dataframe tbody tr th:only-of-type {\n",
       "        vertical-align: middle;\n",
       "    }\n",
       "\n",
       "    .dataframe tbody tr th {\n",
       "        vertical-align: top;\n",
       "    }\n",
       "\n",
       "    .dataframe thead th {\n",
       "        text-align: right;\n",
       "    }\n",
       "</style>\n",
       "<table border=\"1\" class=\"dataframe\">\n",
       "  <thead>\n",
       "    <tr style=\"text-align: right;\">\n",
       "      <th></th>\n",
       "      <th>id</th>\n",
       "      <th>text</th>\n",
       "      <th>pronoun</th>\n",
       "      <th>pronoun_offset</th>\n",
       "      <th>a</th>\n",
       "      <th>a_offset</th>\n",
       "      <th>url</th>\n",
       "      <th>probabilities</th>\n",
       "      <th>output</th>\n",
       "    </tr>\n",
       "  </thead>\n",
       "  <tbody>\n",
       "    <tr>\n",
       "      <th>0</th>\n",
       "      <td>na</td>\n",
       "      <td>Kathleen Nott was born in Camberwell, London. ...</td>\n",
       "      <td>Her</td>\n",
       "      <td>46</td>\n",
       "      <td>Kathleen Nott</td>\n",
       "      <td>0</td>\n",
       "      <td>na</td>\n",
       "      <td>[[9.9930036e-01 6.9964718e-04]]</td>\n",
       "      <td>Known pronoun 'Her' resolves to 'Kathleen Nott...</td>\n",
       "    </tr>\n",
       "    <tr>\n",
       "      <th>1</th>\n",
       "      <td>na</td>\n",
       "      <td>Kathleen Nott was born in Camberwell, London. ...</td>\n",
       "      <td>Her</td>\n",
       "      <td>46</td>\n",
       "      <td>Philip</td>\n",
       "      <td>58</td>\n",
       "      <td>na</td>\n",
       "      <td>[[0.00291311 0.99708694]]</td>\n",
       "      <td>Known pronoun 'Her' does not resolve to 'Phili...</td>\n",
       "    </tr>\n",
       "    <tr>\n",
       "      <th>2</th>\n",
       "      <td>na</td>\n",
       "      <td>Kathleen Nott was born in Camberwell, London. ...</td>\n",
       "      <td>Her</td>\n",
       "      <td>46</td>\n",
       "      <td>Ellen</td>\n",
       "      <td>110</td>\n",
       "      <td>na</td>\n",
       "      <td>[[0.00296704 0.997033  ]]</td>\n",
       "      <td>Known pronoun 'Her' does not resolve to 'Ellen...</td>\n",
       "    </tr>\n",
       "    <tr>\n",
       "      <th>3</th>\n",
       "      <td>na</td>\n",
       "      <td>Kathleen Nott was born in Camberwell, London. ...</td>\n",
       "      <td>Her</td>\n",
       "      <td>46</td>\n",
       "      <td>Kathleen</td>\n",
       "      <td>0</td>\n",
       "      <td>na</td>\n",
       "      <td>[[9.991968e-01 8.032118e-04]]</td>\n",
       "      <td>Known pronoun 'Her' resolves to 'Kathleen' wit...</td>\n",
       "    </tr>\n",
       "    <tr>\n",
       "      <th>4</th>\n",
       "      <td>na</td>\n",
       "      <td>Kathleen Nott was born in Camberwell, London. ...</td>\n",
       "      <td>Her</td>\n",
       "      <td>46</td>\n",
       "      <td>Kathleen</td>\n",
       "      <td>150</td>\n",
       "      <td>na</td>\n",
       "      <td>[[0.9960989  0.00390116]]</td>\n",
       "      <td>Known pronoun 'Her' resolves to 'Kathleen' wit...</td>\n",
       "    </tr>\n",
       "    <tr>\n",
       "      <th>5</th>\n",
       "      <td>na</td>\n",
       "      <td>Kathleen Nott was born in Camberwell, London. ...</td>\n",
       "      <td>her</td>\n",
       "      <td>53</td>\n",
       "      <td>Kathleen Nott</td>\n",
       "      <td>0</td>\n",
       "      <td>na</td>\n",
       "      <td>[[0.97917753 0.02082244]]</td>\n",
       "      <td>Known pronoun 'her' resolves to 'Kathleen Nott...</td>\n",
       "    </tr>\n",
       "    <tr>\n",
       "      <th>6</th>\n",
       "      <td>na</td>\n",
       "      <td>Kathleen Nott was born in Camberwell, London. ...</td>\n",
       "      <td>her</td>\n",
       "      <td>53</td>\n",
       "      <td>Philip</td>\n",
       "      <td>58</td>\n",
       "      <td>na</td>\n",
       "      <td>[[0.00628561 0.9937144 ]]</td>\n",
       "      <td>Known pronoun 'her' does not resolve to 'Phili...</td>\n",
       "    </tr>\n",
       "    <tr>\n",
       "      <th>7</th>\n",
       "      <td>na</td>\n",
       "      <td>Kathleen Nott was born in Camberwell, London. ...</td>\n",
       "      <td>her</td>\n",
       "      <td>53</td>\n",
       "      <td>Ellen</td>\n",
       "      <td>110</td>\n",
       "      <td>na</td>\n",
       "      <td>[[0.00676274 0.9932373 ]]</td>\n",
       "      <td>Known pronoun 'her' does not resolve to 'Ellen...</td>\n",
       "    </tr>\n",
       "    <tr>\n",
       "      <th>8</th>\n",
       "      <td>na</td>\n",
       "      <td>Kathleen Nott was born in Camberwell, London. ...</td>\n",
       "      <td>her</td>\n",
       "      <td>53</td>\n",
       "      <td>Kathleen</td>\n",
       "      <td>0</td>\n",
       "      <td>na</td>\n",
       "      <td>[[0.9633703  0.03662963]]</td>\n",
       "      <td>Known pronoun 'her' resolves to 'Kathleen' wit...</td>\n",
       "    </tr>\n",
       "    <tr>\n",
       "      <th>9</th>\n",
       "      <td>na</td>\n",
       "      <td>Kathleen Nott was born in Camberwell, London. ...</td>\n",
       "      <td>her</td>\n",
       "      <td>53</td>\n",
       "      <td>Kathleen</td>\n",
       "      <td>150</td>\n",
       "      <td>na</td>\n",
       "      <td>[[0.88354933 0.11645074]]</td>\n",
       "      <td>Known pronoun 'her' resolves to 'Kathleen' wit...</td>\n",
       "    </tr>\n",
       "    <tr>\n",
       "      <th>10</th>\n",
       "      <td>na</td>\n",
       "      <td>Kathleen Nott was born in Camberwell, London. ...</td>\n",
       "      <td>her</td>\n",
       "      <td>98</td>\n",
       "      <td>Kathleen Nott</td>\n",
       "      <td>0</td>\n",
       "      <td>na</td>\n",
       "      <td>[[0.99878997 0.00121011]]</td>\n",
       "      <td>Known pronoun 'her' resolves to 'Kathleen Nott...</td>\n",
       "    </tr>\n",
       "    <tr>\n",
       "      <th>11</th>\n",
       "      <td>na</td>\n",
       "      <td>Kathleen Nott was born in Camberwell, London. ...</td>\n",
       "      <td>her</td>\n",
       "      <td>98</td>\n",
       "      <td>Philip</td>\n",
       "      <td>58</td>\n",
       "      <td>na</td>\n",
       "      <td>[[0.00619056 0.9938094 ]]</td>\n",
       "      <td>Known pronoun 'her' does not resolve to 'Phili...</td>\n",
       "    </tr>\n",
       "    <tr>\n",
       "      <th>12</th>\n",
       "      <td>na</td>\n",
       "      <td>Kathleen Nott was born in Camberwell, London. ...</td>\n",
       "      <td>her</td>\n",
       "      <td>98</td>\n",
       "      <td>Ellen</td>\n",
       "      <td>110</td>\n",
       "      <td>na</td>\n",
       "      <td>[[0.00276884 0.9972312 ]]</td>\n",
       "      <td>Known pronoun 'her' does not resolve to 'Ellen...</td>\n",
       "    </tr>\n",
       "    <tr>\n",
       "      <th>13</th>\n",
       "      <td>na</td>\n",
       "      <td>Kathleen Nott was born in Camberwell, London. ...</td>\n",
       "      <td>her</td>\n",
       "      <td>98</td>\n",
       "      <td>Kathleen</td>\n",
       "      <td>0</td>\n",
       "      <td>na</td>\n",
       "      <td>[[0.9978635 0.0021365]]</td>\n",
       "      <td>Known pronoun 'her' resolves to 'Kathleen' wit...</td>\n",
       "    </tr>\n",
       "    <tr>\n",
       "      <th>14</th>\n",
       "      <td>na</td>\n",
       "      <td>Kathleen Nott was born in Camberwell, London. ...</td>\n",
       "      <td>her</td>\n",
       "      <td>98</td>\n",
       "      <td>Kathleen</td>\n",
       "      <td>150</td>\n",
       "      <td>na</td>\n",
       "      <td>[[0.98376137 0.01623868]]</td>\n",
       "      <td>Known pronoun 'her' resolves to 'Kathleen' wit...</td>\n",
       "    </tr>\n",
       "    <tr>\n",
       "      <th>15</th>\n",
       "      <td>na</td>\n",
       "      <td>Kathleen Nott was born in Camberwell, London. ...</td>\n",
       "      <td>her</td>\n",
       "      <td>105</td>\n",
       "      <td>Kathleen Nott</td>\n",
       "      <td>0</td>\n",
       "      <td>na</td>\n",
       "      <td>[[0.42667866 0.57332134]]</td>\n",
       "      <td>Known pronoun 'her' does not resolve to 'Kathl...</td>\n",
       "    </tr>\n",
       "    <tr>\n",
       "      <th>16</th>\n",
       "      <td>na</td>\n",
       "      <td>Kathleen Nott was born in Camberwell, London. ...</td>\n",
       "      <td>her</td>\n",
       "      <td>105</td>\n",
       "      <td>Philip</td>\n",
       "      <td>58</td>\n",
       "      <td>na</td>\n",
       "      <td>[[0.02182528 0.9781747 ]]</td>\n",
       "      <td>Known pronoun 'her' does not resolve to 'Phili...</td>\n",
       "    </tr>\n",
       "    <tr>\n",
       "      <th>17</th>\n",
       "      <td>na</td>\n",
       "      <td>Kathleen Nott was born in Camberwell, London. ...</td>\n",
       "      <td>her</td>\n",
       "      <td>105</td>\n",
       "      <td>Ellen</td>\n",
       "      <td>110</td>\n",
       "      <td>na</td>\n",
       "      <td>[[0.01209925 0.98790073]]</td>\n",
       "      <td>Known pronoun 'her' does not resolve to 'Ellen...</td>\n",
       "    </tr>\n",
       "    <tr>\n",
       "      <th>18</th>\n",
       "      <td>na</td>\n",
       "      <td>Kathleen Nott was born in Camberwell, London. ...</td>\n",
       "      <td>her</td>\n",
       "      <td>105</td>\n",
       "      <td>Kathleen</td>\n",
       "      <td>0</td>\n",
       "      <td>na</td>\n",
       "      <td>[[0.28047383 0.71952623]]</td>\n",
       "      <td>Known pronoun 'her' does not resolve to 'Kathl...</td>\n",
       "    </tr>\n",
       "    <tr>\n",
       "      <th>19</th>\n",
       "      <td>na</td>\n",
       "      <td>Kathleen Nott was born in Camberwell, London. ...</td>\n",
       "      <td>her</td>\n",
       "      <td>105</td>\n",
       "      <td>Kathleen</td>\n",
       "      <td>150</td>\n",
       "      <td>na</td>\n",
       "      <td>[[0.23775773 0.76224226]]</td>\n",
       "      <td>Known pronoun 'her' does not resolve to 'Kathl...</td>\n",
       "    </tr>\n",
       "    <tr>\n",
       "      <th>20</th>\n",
       "      <td>na</td>\n",
       "      <td>Kathleen Nott was born in Camberwell, London. ...</td>\n",
       "      <td>her</td>\n",
       "      <td>330</td>\n",
       "      <td>Kathleen Nott</td>\n",
       "      <td>0</td>\n",
       "      <td>na</td>\n",
       "      <td>[[9.9919456e-01 8.0539339e-04]]</td>\n",
       "      <td>Known pronoun 'her' resolves to 'Kathleen Nott...</td>\n",
       "    </tr>\n",
       "    <tr>\n",
       "      <th>21</th>\n",
       "      <td>na</td>\n",
       "      <td>Kathleen Nott was born in Camberwell, London. ...</td>\n",
       "      <td>her</td>\n",
       "      <td>330</td>\n",
       "      <td>Philip</td>\n",
       "      <td>58</td>\n",
       "      <td>na</td>\n",
       "      <td>[[0.00721901 0.992781  ]]</td>\n",
       "      <td>Known pronoun 'her' does not resolve to 'Phili...</td>\n",
       "    </tr>\n",
       "    <tr>\n",
       "      <th>22</th>\n",
       "      <td>na</td>\n",
       "      <td>Kathleen Nott was born in Camberwell, London. ...</td>\n",
       "      <td>her</td>\n",
       "      <td>330</td>\n",
       "      <td>Ellen</td>\n",
       "      <td>110</td>\n",
       "      <td>na</td>\n",
       "      <td>[[0.005859   0.99414104]]</td>\n",
       "      <td>Known pronoun 'her' does not resolve to 'Ellen...</td>\n",
       "    </tr>\n",
       "    <tr>\n",
       "      <th>23</th>\n",
       "      <td>na</td>\n",
       "      <td>Kathleen Nott was born in Camberwell, London. ...</td>\n",
       "      <td>her</td>\n",
       "      <td>330</td>\n",
       "      <td>Kathleen</td>\n",
       "      <td>0</td>\n",
       "      <td>na</td>\n",
       "      <td>[[0.9988932  0.00110687]]</td>\n",
       "      <td>Known pronoun 'her' resolves to 'Kathleen' wit...</td>\n",
       "    </tr>\n",
       "    <tr>\n",
       "      <th>24</th>\n",
       "      <td>na</td>\n",
       "      <td>Kathleen Nott was born in Camberwell, London. ...</td>\n",
       "      <td>her</td>\n",
       "      <td>330</td>\n",
       "      <td>Kathleen</td>\n",
       "      <td>150</td>\n",
       "      <td>na</td>\n",
       "      <td>[[0.9979658  0.00203421]]</td>\n",
       "      <td>Known pronoun 'her' resolves to 'Kathleen' wit...</td>\n",
       "    </tr>\n",
       "    <tr>\n",
       "      <th>25</th>\n",
       "      <td>na</td>\n",
       "      <td>Kathleen Nott was born in Camberwell, London. ...</td>\n",
       "      <td>their</td>\n",
       "      <td>163</td>\n",
       "      <td>Kathleen Nott</td>\n",
       "      <td>0</td>\n",
       "      <td>na</td>\n",
       "      <td>[[0.7361171 0.2638829]]</td>\n",
       "      <td>Known pronoun 'their' resolves to 'Kathleen No...</td>\n",
       "    </tr>\n",
       "    <tr>\n",
       "      <th>26</th>\n",
       "      <td>na</td>\n",
       "      <td>Kathleen Nott was born in Camberwell, London. ...</td>\n",
       "      <td>their</td>\n",
       "      <td>163</td>\n",
       "      <td>Philip</td>\n",
       "      <td>58</td>\n",
       "      <td>na</td>\n",
       "      <td>[[0.00899724 0.9910027 ]]</td>\n",
       "      <td>Known pronoun 'their' does not resolve to 'Phi...</td>\n",
       "    </tr>\n",
       "    <tr>\n",
       "      <th>27</th>\n",
       "      <td>na</td>\n",
       "      <td>Kathleen Nott was born in Camberwell, London. ...</td>\n",
       "      <td>their</td>\n",
       "      <td>163</td>\n",
       "      <td>Ellen</td>\n",
       "      <td>110</td>\n",
       "      <td>na</td>\n",
       "      <td>[[0.00617779 0.9938222 ]]</td>\n",
       "      <td>Known pronoun 'their' does not resolve to 'Ell...</td>\n",
       "    </tr>\n",
       "    <tr>\n",
       "      <th>28</th>\n",
       "      <td>na</td>\n",
       "      <td>Kathleen Nott was born in Camberwell, London. ...</td>\n",
       "      <td>their</td>\n",
       "      <td>163</td>\n",
       "      <td>Kathleen</td>\n",
       "      <td>0</td>\n",
       "      <td>na</td>\n",
       "      <td>[[0.519244   0.48075598]]</td>\n",
       "      <td>Known pronoun 'their' resolves to 'Kathleen' w...</td>\n",
       "    </tr>\n",
       "    <tr>\n",
       "      <th>29</th>\n",
       "      <td>na</td>\n",
       "      <td>Kathleen Nott was born in Camberwell, London. ...</td>\n",
       "      <td>their</td>\n",
       "      <td>163</td>\n",
       "      <td>Kathleen</td>\n",
       "      <td>150</td>\n",
       "      <td>na</td>\n",
       "      <td>[[0.7956285  0.20437148]]</td>\n",
       "      <td>Known pronoun 'their' resolves to 'Kathleen' w...</td>\n",
       "    </tr>\n",
       "    <tr>\n",
       "      <th>30</th>\n",
       "      <td>na</td>\n",
       "      <td>Kathleen Nott was born in Camberwell, London. ...</td>\n",
       "      <td>She</td>\n",
       "      <td>209</td>\n",
       "      <td>Kathleen Nott</td>\n",
       "      <td>0</td>\n",
       "      <td>na</td>\n",
       "      <td>[[9.9959403e-01 4.0596700e-04]]</td>\n",
       "      <td>Known pronoun 'She' resolves to 'Kathleen Nott...</td>\n",
       "    </tr>\n",
       "    <tr>\n",
       "      <th>31</th>\n",
       "      <td>na</td>\n",
       "      <td>Kathleen Nott was born in Camberwell, London. ...</td>\n",
       "      <td>She</td>\n",
       "      <td>209</td>\n",
       "      <td>Philip</td>\n",
       "      <td>58</td>\n",
       "      <td>na</td>\n",
       "      <td>[[0.00455408 0.99544597]]</td>\n",
       "      <td>Known pronoun 'She' does not resolve to 'Phili...</td>\n",
       "    </tr>\n",
       "    <tr>\n",
       "      <th>32</th>\n",
       "      <td>na</td>\n",
       "      <td>Kathleen Nott was born in Camberwell, London. ...</td>\n",
       "      <td>She</td>\n",
       "      <td>209</td>\n",
       "      <td>Ellen</td>\n",
       "      <td>110</td>\n",
       "      <td>na</td>\n",
       "      <td>[[0.00288204 0.997118  ]]</td>\n",
       "      <td>Known pronoun 'She' does not resolve to 'Ellen...</td>\n",
       "    </tr>\n",
       "    <tr>\n",
       "      <th>33</th>\n",
       "      <td>na</td>\n",
       "      <td>Kathleen Nott was born in Camberwell, London. ...</td>\n",
       "      <td>She</td>\n",
       "      <td>209</td>\n",
       "      <td>Kathleen</td>\n",
       "      <td>0</td>\n",
       "      <td>na</td>\n",
       "      <td>[[9.9946779e-01 5.3223385e-04]]</td>\n",
       "      <td>Known pronoun 'She' resolves to 'Kathleen' wit...</td>\n",
       "    </tr>\n",
       "    <tr>\n",
       "      <th>34</th>\n",
       "      <td>na</td>\n",
       "      <td>Kathleen Nott was born in Camberwell, London. ...</td>\n",
       "      <td>She</td>\n",
       "      <td>209</td>\n",
       "      <td>Kathleen</td>\n",
       "      <td>150</td>\n",
       "      <td>na</td>\n",
       "      <td>[[9.9963236e-01 3.6757041e-04]]</td>\n",
       "      <td>Known pronoun 'She' resolves to 'Kathleen' wit...</td>\n",
       "    </tr>\n",
       "    <tr>\n",
       "      <th>35</th>\n",
       "      <td>na</td>\n",
       "      <td>Kathleen Nott was born in Camberwell, London. ...</td>\n",
       "      <td>she</td>\n",
       "      <td>335</td>\n",
       "      <td>Kathleen Nott</td>\n",
       "      <td>0</td>\n",
       "      <td>na</td>\n",
       "      <td>[[9.9905211e-01 9.4790035e-04]]</td>\n",
       "      <td>Known pronoun 'she' resolves to 'Kathleen Nott...</td>\n",
       "    </tr>\n",
       "    <tr>\n",
       "      <th>36</th>\n",
       "      <td>na</td>\n",
       "      <td>Kathleen Nott was born in Camberwell, London. ...</td>\n",
       "      <td>she</td>\n",
       "      <td>335</td>\n",
       "      <td>Philip</td>\n",
       "      <td>58</td>\n",
       "      <td>na</td>\n",
       "      <td>[[0.0035272 0.9964728]]</td>\n",
       "      <td>Known pronoun 'she' does not resolve to 'Phili...</td>\n",
       "    </tr>\n",
       "    <tr>\n",
       "      <th>37</th>\n",
       "      <td>na</td>\n",
       "      <td>Kathleen Nott was born in Camberwell, London. ...</td>\n",
       "      <td>she</td>\n",
       "      <td>335</td>\n",
       "      <td>Ellen</td>\n",
       "      <td>110</td>\n",
       "      <td>na</td>\n",
       "      <td>[[0.00231729 0.9976827 ]]</td>\n",
       "      <td>Known pronoun 'she' does not resolve to 'Ellen...</td>\n",
       "    </tr>\n",
       "    <tr>\n",
       "      <th>38</th>\n",
       "      <td>na</td>\n",
       "      <td>Kathleen Nott was born in Camberwell, London. ...</td>\n",
       "      <td>she</td>\n",
       "      <td>335</td>\n",
       "      <td>Kathleen</td>\n",
       "      <td>0</td>\n",
       "      <td>na</td>\n",
       "      <td>[[0.9972978  0.00270222]]</td>\n",
       "      <td>Known pronoun 'she' resolves to 'Kathleen' wit...</td>\n",
       "    </tr>\n",
       "    <tr>\n",
       "      <th>39</th>\n",
       "      <td>na</td>\n",
       "      <td>Kathleen Nott was born in Camberwell, London. ...</td>\n",
       "      <td>she</td>\n",
       "      <td>335</td>\n",
       "      <td>Kathleen</td>\n",
       "      <td>150</td>\n",
       "      <td>na</td>\n",
       "      <td>[[0.9444801  0.05551986]]</td>\n",
       "      <td>Known pronoun 'she' resolves to 'Kathleen' wit...</td>\n",
       "    </tr>\n",
       "    <tr>\n",
       "      <th>40</th>\n",
       "      <td>na</td>\n",
       "      <td>Kathleen Nott was born in Camberwell, London. ...</td>\n",
       "      <td>them</td>\n",
       "      <td>355</td>\n",
       "      <td>Kathleen Nott</td>\n",
       "      <td>0</td>\n",
       "      <td>na</td>\n",
       "      <td>[[0.6016082  0.39839187]]</td>\n",
       "      <td>Known pronoun 'them' resolves to 'Kathleen Not...</td>\n",
       "    </tr>\n",
       "    <tr>\n",
       "      <th>41</th>\n",
       "      <td>na</td>\n",
       "      <td>Kathleen Nott was born in Camberwell, London. ...</td>\n",
       "      <td>them</td>\n",
       "      <td>355</td>\n",
       "      <td>Philip</td>\n",
       "      <td>58</td>\n",
       "      <td>na</td>\n",
       "      <td>[[0.02004459 0.9799554 ]]</td>\n",
       "      <td>Known pronoun 'them' does not resolve to 'Phil...</td>\n",
       "    </tr>\n",
       "    <tr>\n",
       "      <th>42</th>\n",
       "      <td>na</td>\n",
       "      <td>Kathleen Nott was born in Camberwell, London. ...</td>\n",
       "      <td>them</td>\n",
       "      <td>355</td>\n",
       "      <td>Ellen</td>\n",
       "      <td>110</td>\n",
       "      <td>na</td>\n",
       "      <td>[[0.01467463 0.9853254 ]]</td>\n",
       "      <td>Known pronoun 'them' does not resolve to 'Elle...</td>\n",
       "    </tr>\n",
       "    <tr>\n",
       "      <th>43</th>\n",
       "      <td>na</td>\n",
       "      <td>Kathleen Nott was born in Camberwell, London. ...</td>\n",
       "      <td>them</td>\n",
       "      <td>355</td>\n",
       "      <td>Kathleen</td>\n",
       "      <td>0</td>\n",
       "      <td>na</td>\n",
       "      <td>[[0.48737535 0.5126247 ]]</td>\n",
       "      <td>Known pronoun 'them' does not resolve to 'Kath...</td>\n",
       "    </tr>\n",
       "    <tr>\n",
       "      <th>44</th>\n",
       "      <td>na</td>\n",
       "      <td>Kathleen Nott was born in Camberwell, London. ...</td>\n",
       "      <td>them</td>\n",
       "      <td>355</td>\n",
       "      <td>Kathleen</td>\n",
       "      <td>150</td>\n",
       "      <td>na</td>\n",
       "      <td>[[0.24332479 0.7566752 ]]</td>\n",
       "      <td>Known pronoun 'them' does not resolve to 'Kath...</td>\n",
       "    </tr>\n",
       "    <tr>\n",
       "      <th>45</th>\n",
       "      <td>na</td>\n",
       "      <td>Pat (they/them/their) was not sure how they sh...</td>\n",
       "      <td>they</td>\n",
       "      <td>5</td>\n",
       "      <td>Pat</td>\n",
       "      <td>0</td>\n",
       "      <td>na</td>\n",
       "      <td>[[0.97176987 0.02823015]]</td>\n",
       "      <td>Known pronoun 'they' resolves to 'Pat' with a ...</td>\n",
       "    </tr>\n",
       "    <tr>\n",
       "      <th>46</th>\n",
       "      <td>na</td>\n",
       "      <td>Pat (they/them/their) was not sure how they sh...</td>\n",
       "      <td>they</td>\n",
       "      <td>39</td>\n",
       "      <td>Pat</td>\n",
       "      <td>0</td>\n",
       "      <td>na</td>\n",
       "      <td>[[0.6899466  0.31005344]]</td>\n",
       "      <td>Known pronoun 'they' resolves to 'Pat' with a ...</td>\n",
       "    </tr>\n",
       "    <tr>\n",
       "      <th>47</th>\n",
       "      <td>na</td>\n",
       "      <td>Pat (they/them/their) was not sure how they sh...</td>\n",
       "      <td>them</td>\n",
       "      <td>10</td>\n",
       "      <td>Pat</td>\n",
       "      <td>0</td>\n",
       "      <td>na</td>\n",
       "      <td>[[0.8984461  0.10155394]]</td>\n",
       "      <td>Known pronoun 'them' resolves to 'Pat' with a ...</td>\n",
       "    </tr>\n",
       "    <tr>\n",
       "      <th>48</th>\n",
       "      <td>na</td>\n",
       "      <td>Pat (they/them/their) was not sure how they sh...</td>\n",
       "      <td>their</td>\n",
       "      <td>15</td>\n",
       "      <td>Pat</td>\n",
       "      <td>0</td>\n",
       "      <td>na</td>\n",
       "      <td>[[0.6122219 0.3877781]]</td>\n",
       "      <td>Known pronoun 'their' resolves to 'Pat' with a...</td>\n",
       "    </tr>\n",
       "  </tbody>\n",
       "</table>\n",
       "</div>"
      ],
      "text/plain": [
       "    id                                               text pronoun  \\\n",
       "0   na  Kathleen Nott was born in Camberwell, London. ...     Her   \n",
       "1   na  Kathleen Nott was born in Camberwell, London. ...     Her   \n",
       "2   na  Kathleen Nott was born in Camberwell, London. ...     Her   \n",
       "3   na  Kathleen Nott was born in Camberwell, London. ...     Her   \n",
       "4   na  Kathleen Nott was born in Camberwell, London. ...     Her   \n",
       "5   na  Kathleen Nott was born in Camberwell, London. ...     her   \n",
       "6   na  Kathleen Nott was born in Camberwell, London. ...     her   \n",
       "7   na  Kathleen Nott was born in Camberwell, London. ...     her   \n",
       "8   na  Kathleen Nott was born in Camberwell, London. ...     her   \n",
       "9   na  Kathleen Nott was born in Camberwell, London. ...     her   \n",
       "10  na  Kathleen Nott was born in Camberwell, London. ...     her   \n",
       "11  na  Kathleen Nott was born in Camberwell, London. ...     her   \n",
       "12  na  Kathleen Nott was born in Camberwell, London. ...     her   \n",
       "13  na  Kathleen Nott was born in Camberwell, London. ...     her   \n",
       "14  na  Kathleen Nott was born in Camberwell, London. ...     her   \n",
       "15  na  Kathleen Nott was born in Camberwell, London. ...     her   \n",
       "16  na  Kathleen Nott was born in Camberwell, London. ...     her   \n",
       "17  na  Kathleen Nott was born in Camberwell, London. ...     her   \n",
       "18  na  Kathleen Nott was born in Camberwell, London. ...     her   \n",
       "19  na  Kathleen Nott was born in Camberwell, London. ...     her   \n",
       "20  na  Kathleen Nott was born in Camberwell, London. ...     her   \n",
       "21  na  Kathleen Nott was born in Camberwell, London. ...     her   \n",
       "22  na  Kathleen Nott was born in Camberwell, London. ...     her   \n",
       "23  na  Kathleen Nott was born in Camberwell, London. ...     her   \n",
       "24  na  Kathleen Nott was born in Camberwell, London. ...     her   \n",
       "25  na  Kathleen Nott was born in Camberwell, London. ...   their   \n",
       "26  na  Kathleen Nott was born in Camberwell, London. ...   their   \n",
       "27  na  Kathleen Nott was born in Camberwell, London. ...   their   \n",
       "28  na  Kathleen Nott was born in Camberwell, London. ...   their   \n",
       "29  na  Kathleen Nott was born in Camberwell, London. ...   their   \n",
       "30  na  Kathleen Nott was born in Camberwell, London. ...     She   \n",
       "31  na  Kathleen Nott was born in Camberwell, London. ...     She   \n",
       "32  na  Kathleen Nott was born in Camberwell, London. ...     She   \n",
       "33  na  Kathleen Nott was born in Camberwell, London. ...     She   \n",
       "34  na  Kathleen Nott was born in Camberwell, London. ...     She   \n",
       "35  na  Kathleen Nott was born in Camberwell, London. ...     she   \n",
       "36  na  Kathleen Nott was born in Camberwell, London. ...     she   \n",
       "37  na  Kathleen Nott was born in Camberwell, London. ...     she   \n",
       "38  na  Kathleen Nott was born in Camberwell, London. ...     she   \n",
       "39  na  Kathleen Nott was born in Camberwell, London. ...     she   \n",
       "40  na  Kathleen Nott was born in Camberwell, London. ...    them   \n",
       "41  na  Kathleen Nott was born in Camberwell, London. ...    them   \n",
       "42  na  Kathleen Nott was born in Camberwell, London. ...    them   \n",
       "43  na  Kathleen Nott was born in Camberwell, London. ...    them   \n",
       "44  na  Kathleen Nott was born in Camberwell, London. ...    them   \n",
       "45  na  Pat (they/them/their) was not sure how they sh...    they   \n",
       "46  na  Pat (they/them/their) was not sure how they sh...    they   \n",
       "47  na  Pat (they/them/their) was not sure how they sh...    them   \n",
       "48  na  Pat (they/them/their) was not sure how they sh...   their   \n",
       "\n",
       "    pronoun_offset              a  a_offset url  \\\n",
       "0               46  Kathleen Nott         0  na   \n",
       "1               46         Philip        58  na   \n",
       "2               46          Ellen       110  na   \n",
       "3               46       Kathleen         0  na   \n",
       "4               46       Kathleen       150  na   \n",
       "5               53  Kathleen Nott         0  na   \n",
       "6               53         Philip        58  na   \n",
       "7               53          Ellen       110  na   \n",
       "8               53       Kathleen         0  na   \n",
       "9               53       Kathleen       150  na   \n",
       "10              98  Kathleen Nott         0  na   \n",
       "11              98         Philip        58  na   \n",
       "12              98          Ellen       110  na   \n",
       "13              98       Kathleen         0  na   \n",
       "14              98       Kathleen       150  na   \n",
       "15             105  Kathleen Nott         0  na   \n",
       "16             105         Philip        58  na   \n",
       "17             105          Ellen       110  na   \n",
       "18             105       Kathleen         0  na   \n",
       "19             105       Kathleen       150  na   \n",
       "20             330  Kathleen Nott         0  na   \n",
       "21             330         Philip        58  na   \n",
       "22             330          Ellen       110  na   \n",
       "23             330       Kathleen         0  na   \n",
       "24             330       Kathleen       150  na   \n",
       "25             163  Kathleen Nott         0  na   \n",
       "26             163         Philip        58  na   \n",
       "27             163          Ellen       110  na   \n",
       "28             163       Kathleen         0  na   \n",
       "29             163       Kathleen       150  na   \n",
       "30             209  Kathleen Nott         0  na   \n",
       "31             209         Philip        58  na   \n",
       "32             209          Ellen       110  na   \n",
       "33             209       Kathleen         0  na   \n",
       "34             209       Kathleen       150  na   \n",
       "35             335  Kathleen Nott         0  na   \n",
       "36             335         Philip        58  na   \n",
       "37             335          Ellen       110  na   \n",
       "38             335       Kathleen         0  na   \n",
       "39             335       Kathleen       150  na   \n",
       "40             355  Kathleen Nott         0  na   \n",
       "41             355         Philip        58  na   \n",
       "42             355          Ellen       110  na   \n",
       "43             355       Kathleen         0  na   \n",
       "44             355       Kathleen       150  na   \n",
       "45               5            Pat         0  na   \n",
       "46              39            Pat         0  na   \n",
       "47              10            Pat         0  na   \n",
       "48              15            Pat         0  na   \n",
       "\n",
       "                      probabilities  \\\n",
       "0   [[9.9930036e-01 6.9964718e-04]]   \n",
       "1         [[0.00291311 0.99708694]]   \n",
       "2         [[0.00296704 0.997033  ]]   \n",
       "3     [[9.991968e-01 8.032118e-04]]   \n",
       "4         [[0.9960989  0.00390116]]   \n",
       "5         [[0.97917753 0.02082244]]   \n",
       "6         [[0.00628561 0.9937144 ]]   \n",
       "7         [[0.00676274 0.9932373 ]]   \n",
       "8         [[0.9633703  0.03662963]]   \n",
       "9         [[0.88354933 0.11645074]]   \n",
       "10        [[0.99878997 0.00121011]]   \n",
       "11        [[0.00619056 0.9938094 ]]   \n",
       "12        [[0.00276884 0.9972312 ]]   \n",
       "13          [[0.9978635 0.0021365]]   \n",
       "14        [[0.98376137 0.01623868]]   \n",
       "15        [[0.42667866 0.57332134]]   \n",
       "16        [[0.02182528 0.9781747 ]]   \n",
       "17        [[0.01209925 0.98790073]]   \n",
       "18        [[0.28047383 0.71952623]]   \n",
       "19        [[0.23775773 0.76224226]]   \n",
       "20  [[9.9919456e-01 8.0539339e-04]]   \n",
       "21        [[0.00721901 0.992781  ]]   \n",
       "22        [[0.005859   0.99414104]]   \n",
       "23        [[0.9988932  0.00110687]]   \n",
       "24        [[0.9979658  0.00203421]]   \n",
       "25          [[0.7361171 0.2638829]]   \n",
       "26        [[0.00899724 0.9910027 ]]   \n",
       "27        [[0.00617779 0.9938222 ]]   \n",
       "28        [[0.519244   0.48075598]]   \n",
       "29        [[0.7956285  0.20437148]]   \n",
       "30  [[9.9959403e-01 4.0596700e-04]]   \n",
       "31        [[0.00455408 0.99544597]]   \n",
       "32        [[0.00288204 0.997118  ]]   \n",
       "33  [[9.9946779e-01 5.3223385e-04]]   \n",
       "34  [[9.9963236e-01 3.6757041e-04]]   \n",
       "35  [[9.9905211e-01 9.4790035e-04]]   \n",
       "36          [[0.0035272 0.9964728]]   \n",
       "37        [[0.00231729 0.9976827 ]]   \n",
       "38        [[0.9972978  0.00270222]]   \n",
       "39        [[0.9444801  0.05551986]]   \n",
       "40        [[0.6016082  0.39839187]]   \n",
       "41        [[0.02004459 0.9799554 ]]   \n",
       "42        [[0.01467463 0.9853254 ]]   \n",
       "43        [[0.48737535 0.5126247 ]]   \n",
       "44        [[0.24332479 0.7566752 ]]   \n",
       "45        [[0.97176987 0.02823015]]   \n",
       "46        [[0.6899466  0.31005344]]   \n",
       "47        [[0.8984461  0.10155394]]   \n",
       "48          [[0.6122219 0.3877781]]   \n",
       "\n",
       "                                               output  \n",
       "0   Known pronoun 'Her' resolves to 'Kathleen Nott...  \n",
       "1   Known pronoun 'Her' does not resolve to 'Phili...  \n",
       "2   Known pronoun 'Her' does not resolve to 'Ellen...  \n",
       "3   Known pronoun 'Her' resolves to 'Kathleen' wit...  \n",
       "4   Known pronoun 'Her' resolves to 'Kathleen' wit...  \n",
       "5   Known pronoun 'her' resolves to 'Kathleen Nott...  \n",
       "6   Known pronoun 'her' does not resolve to 'Phili...  \n",
       "7   Known pronoun 'her' does not resolve to 'Ellen...  \n",
       "8   Known pronoun 'her' resolves to 'Kathleen' wit...  \n",
       "9   Known pronoun 'her' resolves to 'Kathleen' wit...  \n",
       "10  Known pronoun 'her' resolves to 'Kathleen Nott...  \n",
       "11  Known pronoun 'her' does not resolve to 'Phili...  \n",
       "12  Known pronoun 'her' does not resolve to 'Ellen...  \n",
       "13  Known pronoun 'her' resolves to 'Kathleen' wit...  \n",
       "14  Known pronoun 'her' resolves to 'Kathleen' wit...  \n",
       "15  Known pronoun 'her' does not resolve to 'Kathl...  \n",
       "16  Known pronoun 'her' does not resolve to 'Phili...  \n",
       "17  Known pronoun 'her' does not resolve to 'Ellen...  \n",
       "18  Known pronoun 'her' does not resolve to 'Kathl...  \n",
       "19  Known pronoun 'her' does not resolve to 'Kathl...  \n",
       "20  Known pronoun 'her' resolves to 'Kathleen Nott...  \n",
       "21  Known pronoun 'her' does not resolve to 'Phili...  \n",
       "22  Known pronoun 'her' does not resolve to 'Ellen...  \n",
       "23  Known pronoun 'her' resolves to 'Kathleen' wit...  \n",
       "24  Known pronoun 'her' resolves to 'Kathleen' wit...  \n",
       "25  Known pronoun 'their' resolves to 'Kathleen No...  \n",
       "26  Known pronoun 'their' does not resolve to 'Phi...  \n",
       "27  Known pronoun 'their' does not resolve to 'Ell...  \n",
       "28  Known pronoun 'their' resolves to 'Kathleen' w...  \n",
       "29  Known pronoun 'their' resolves to 'Kathleen' w...  \n",
       "30  Known pronoun 'She' resolves to 'Kathleen Nott...  \n",
       "31  Known pronoun 'She' does not resolve to 'Phili...  \n",
       "32  Known pronoun 'She' does not resolve to 'Ellen...  \n",
       "33  Known pronoun 'She' resolves to 'Kathleen' wit...  \n",
       "34  Known pronoun 'She' resolves to 'Kathleen' wit...  \n",
       "35  Known pronoun 'she' resolves to 'Kathleen Nott...  \n",
       "36  Known pronoun 'she' does not resolve to 'Phili...  \n",
       "37  Known pronoun 'she' does not resolve to 'Ellen...  \n",
       "38  Known pronoun 'she' resolves to 'Kathleen' wit...  \n",
       "39  Known pronoun 'she' resolves to 'Kathleen' wit...  \n",
       "40  Known pronoun 'them' resolves to 'Kathleen Not...  \n",
       "41  Known pronoun 'them' does not resolve to 'Phil...  \n",
       "42  Known pronoun 'them' does not resolve to 'Elle...  \n",
       "43  Known pronoun 'them' does not resolve to 'Kath...  \n",
       "44  Known pronoun 'them' does not resolve to 'Kath...  \n",
       "45  Known pronoun 'they' resolves to 'Pat' with a ...  \n",
       "46  Known pronoun 'they' resolves to 'Pat' with a ...  \n",
       "47  Known pronoun 'them' resolves to 'Pat' with a ...  \n",
       "48  Known pronoun 'their' resolves to 'Pat' with a...  "
      ]
     },
     "execution_count": 20,
     "metadata": {},
     "output_type": "execute_result"
    }
   ],
   "source": [
    "pd.read_csv(\"results/probert/df_output.csv\")"
   ]
  }
 ],
 "metadata": {
  "kernelspec": {
   "display_name": "Python 3",
   "language": "python",
   "name": "python3"
  },
  "language_info": {
   "codemirror_mode": {
    "name": "ipython",
    "version": 3
   },
   "file_extension": ".py",
   "mimetype": "text/x-python",
   "name": "python",
   "nbconvert_exporter": "python",
   "pygments_lexer": "ipython3",
   "version": "3.7.2"
  },
  "vscode": {
   "interpreter": {
    "hash": "ada593a78c6b194b2899cf6ebd1fc2561ce5c9a595ddfc46f7cad3c5ee25f5a5"
   }
  }
 },
 "nbformat": 4,
 "nbformat_minor": 5
}
